{
 "cells": [
  {
   "cell_type": "code",
   "execution_count": 79,
   "metadata": {},
   "outputs": [
    {
     "data": {
      "text/html": [
       "\n",
       "    <script>\n",
       "        window.exports = {};\n",
       "        window.module = true;\n",
       "        //alert('1. D3 load'+window.exports);\n",
       "    </script>\n",
       "    <script src=\"https://cdnjs.cloudflare.com/ajax/libs/d3/4.13.0/d3.js\"></script>\n",
       "    \n",
       "    <script>\n",
       "         //alert('2. D3 load ');\n",
       "          if(!window.d3) window.d3=window.exports;\n",
       "       \n",
       "        function setData(data, func) {\n",
       "            setTimeout((data)=>func(data),0);\n",
       "        }\n",
       "    </script>"
      ]
     },
     "execution_count": 79,
     "metadata": {},
     "output_type": "execute_result"
    },
    {
     "name": "stdout",
     "output_type": "stream",
     "text": [
      "D3 - loader\n"
     ]
    }
   ],
   "source": [
    "\n",
    "var fs = require('fs');\n",
    "var _init = fs.readFileSync('init.js').toString();\n",
    "eval(_init);\n",
    "setupD3();"
   ]
  },
  {
   "cell_type": "code",
   "execution_count": 3,
   "metadata": {},
   "outputs": [
    {
     "name": "stdout",
     "output_type": "stream",
     "text": [
      "bytes read 13187299\n",
      "Lines:  150410\n"
     ]
    },
    {
     "data": {
      "text/plain": [
       "undefined"
      ]
     },
     "execution_count": 3,
     "metadata": {},
     "output_type": "execute_result"
    }
   ],
   "source": [
    "var ICD10 = readZipFrame('../data/reference/all_icd10_codes.tsv.gz');"
   ]
  },
  {
   "cell_type": "code",
   "execution_count": null,
   "metadata": {
    "collapsed": true
   },
   "outputs": [],
   "source": [
    "function a2(a,b, x) {\n",
    "    return (b-a)*x*x*0.5 + a*x;\n",
    "}\n",
    "\n",
    "function a1(a,b,x) {\n",
    "    return a2(b,a,1-x);\n",
    "}\n",
    "\n",
    "function aDayArea(x, a,b,c) {\n",
    "    return a1(a,b,x)+a2(b,c,x);\n",
    "}\n",
    "var ax = a1(1,2,0.15) + a2(2,1, 0.85);\n",
    "var bx = aDayArea(0.001,1,2,1);\n",
    "//console.log(ax,bx)\n",
    "\n",
    "function *a(delta, arr=[]) {\n",
    "    if(delta === 0 || delta === 1) {\n",
    "        let a = arr[delta];\n",
    "        for(let i=delta+1; i<arr.length; i++) {\n",
    "            let b = arr[i];\n",
    "            yield (a+b)/2;\n",
    "            a = b;\n",
    "        }\n",
    "    } else {\n",
    "        let [a,b,c] = arr;\n",
    "        const delta_2 = delta*0.5\n",
    "        let area2 = (b+c)/2;\n",
    "        let nArea = (c + (b-c)*delta_2)*delta;\n",
    "        let area = a1(a,b, delta)+area2-nArea;\n",
    "        // next area, b = c, c = arr[i], area = nArea; area2 = (b+c)/2; nArea = area2*deltaP; \n",
    "        // area += area2-nArea;\n",
    "\n",
    "        for(let i=3; i<=arr.length; i++ ) {\n",
    "            yield area;\n",
    "             // next area, \n",
    "            b = c; c = arr[i] || 0;\n",
    "            area = nArea + (b+c)/2; \n",
    "            nArea = (c + (b-c)*delta_2)*delta; \n",
    "            area -= nArea;\n",
    "        }\n",
    "        yield area;\n",
    "        \n",
    "    }\n",
    "        \n",
    "}\n",
    " \n",
    "for(i of a(0.5, [1,2,1,2,1,2])) console.log(i)\n"
   ]
  },
  {
   "cell_type": "code",
   "execution_count": 57,
   "metadata": {},
   "outputs": [
    {
     "data": {
      "text/plain": [
       "[ 1.75 ]"
      ]
     },
     "execution_count": 57,
     "metadata": {},
     "output_type": "execute_result"
    }
   ],
   "source": [
    "[a1(1,2,0.5) + a2(2,1, 0.5)]"
   ]
  },
  {
   "cell_type": "code",
   "execution_count": 74,
   "metadata": {},
   "outputs": [
    {
     "data": {
      "text/plain": [
       "undefined"
      ]
     },
     "execution_count": 74,
     "metadata": {},
     "output_type": "execute_result"
    }
   ],
   "source": [
    "function a2(a,b, x) {\n",
    "    return (b-a)*x*x*0.5 + a*x;\n",
    "}\n",
    "\n",
    "function a1(a,b,x) {\n",
    "    return a2(b,a,1-x);\n",
    "}\n",
    "\n",
    "var Next  = class {\n",
    "    constructor(pos, a,b) {\n",
    "        let alpha = Math.abs(pos);\n",
    "        alpha = alpha - Math.trunc(alpha);\n",
    "        this.area = (a+b)/2.0;\n",
    "        this.b = b;\n",
    "        this.alpha = alpha;\n",
    "    }\n",
    "    \n",
    "    next(c) {\n",
    "        let area = this.area;\n",
    "        this.area = (this.b+c)/2.0;\n",
    "         this.b = c;\n",
    "        return area-(area-this.area)*this.alpha;\n",
    "    }\n",
    "}\n",
    "\n",
    "// var iter = class {\n",
    "//     constructor(arr, pos, steps=1) {\n",
    "        \n",
    "//         this.arr = arr;\n",
    "//         this.steps = steps;\n",
    "//         pos = pos*steps;\n",
    "//         let ppos = Math.abs(pos);\n",
    "//         let delta = ppos - Math.trunc(ppos);\n",
    "//         let ix = this.Pos(pos < 0 ? this.Pos(-ppos) : this.Pos(ppos));\n",
    "        \n",
    "//         this.a = arr[ix]; this.b = arr[ix=this.Pos(ix-1)]; this.c = arr[ix=this.Pos(ix-1)];\n",
    "//         this.ix = ix;        \n",
    "//         this.delta = delta;\n",
    "//         this.delta_2 = delta*0.5\n",
    "//         this.area2 = (b+c)/2;\n",
    "//         this.nArea = (c + (b-c)*delta_2)*delta;\n",
    "//         this.area = a1(a,b, delta)+this.area2-this.nArea;\n",
    "//     }\n",
    "    \n",
    "//     Pos(n) {\n",
    "//         let LEN = this.arr.length;\n",
    "//         if( n >= LEN ) return n-LEN;\n",
    "//         if( n < 0 ) return n + LEN;\n",
    "//         return n\n",
    "//     }\n",
    "    \n",
    "//     _next() {\n",
    "//         let delta = this.delta;\n",
    "//         if(delta === 0 || delta === 1) {\n",
    "//             let a = arr[delta];\n",
    "//             let y=0;\n",
    "//             for(let i=delta+1; i<arr.length; i++) {\n",
    "//                 let b = arr[i];\n",
    "//                 y= (a+b)/2;\n",
    "//                 a = b;\n",
    "//             }\n",
    "//         } else {\n",
    "//             let [a,b,c] = arr;\n",
    "//             const delta_2 = delta*0.5\n",
    "//             let area2 = (b+c)/2;\n",
    "//             let nArea = (c + (b-c)*delta_2)*delta;\n",
    "//             let area = a1(a,b, delta)+area2-nArea;\n",
    "//             // next area, b = c, c = arr[i], area = nArea; area2 = (b+c)/2; nArea = area2*deltaP; \n",
    "//             // area += area2-nArea;\n",
    "            \n",
    "//             for(let i=3; i<=arr.length; i++ ) {\n",
    "//                 //yield area;\n",
    "//                  // next area, \n",
    "//                 b = c; c = arr[i] || 0;\n",
    "//                 area = nArea + (b+c)/2; \n",
    "//                 nArea = (c + (b-c)*delta_2)*delta; \n",
    "//                 area -= nArea;\n",
    "//             }\n",
    "//             //yield area;\n",
    "        \n",
    "//         } \n",
    "//     }\n",
    "// }"
   ]
  },
  {
   "cell_type": "code",
   "execution_count": 24,
   "metadata": {},
   "outputs": [
    {
     "data": {
      "text/plain": [
       "0.009999999999990905"
      ]
     },
     "execution_count": 24,
     "metadata": {},
     "output_type": "execute_result"
    }
   ],
   "source": [
    "function Pos(n) {\n",
    "    if( n >= 400 ) return n-400;\n",
    "    if( n < 0 ) return n + 400;\n",
    "    return n\n",
    "}\n",
    "var p = 0;\n"
   ]
  },
  {
   "cell_type": "code",
   "execution_count": 86,
   "metadata": {
    "scrolled": true
   },
   "outputs": [
    {
     "data": {
      "text/plain": [
       "[ 2.6, 3.6500000000000004, 3.65 ]"
      ]
     },
     "execution_count": 86,
     "metadata": {},
     "output_type": "execute_result"
    }
   ],
   "source": [
    "var n = new Next(-3.1, 2,3);\n",
    "[n.next(4), n.next(6), 3.5 - 3.5*(0.1) + 5*0.1]"
   ]
  },
  {
   "cell_type": "code",
   "execution_count": 114,
   "metadata": {
    "scrolled": true
   },
   "outputs": [
    {
     "name": "stdout",
     "output_type": "stream",
     "text": [
      "Call to func took 1027 milliseconds.\n"
     ]
    },
    {
     "data": {
      "text/plain": [
       "599999998.6"
      ]
     },
     "execution_count": 114,
     "metadata": {},
     "output_type": "execute_result"
    }
   ],
   "source": [
    "var loop = n => {\n",
    "    let p = new Next(0.1, 0, 0)\n",
    "    for(let i=0; i<n; i++ ) p.next(i);\n",
    "    return p.next(p.b+1)\n",
    "}\n",
    "\n",
    "timeOf( () => loop(600_000_000))"
   ]
  },
  {
   "cell_type": "code",
   "execution_count": 124,
   "metadata": {},
   "outputs": [
    {
     "data": {
      "text/plain": [
       "'_spreadStart1 = newPos(arr,opt.spreadStart1)\\n' +\n",
       "  '_spreadEnd1 = newPos(arr,opt.spreadEnd1)\\n' +\n",
       "  '_spreadEnd2 = newPos(arr,opt.spreadEnd2)\\n' +\n",
       "  '_recorded = newPos(arr,opt.recorded)\\n' +\n",
       "  '_recovered = newPos(arr,opt.recovered)spreadStart1 = (spreadStart1+1)&0x1ff;\\n' +\n",
       "  'spreadEnd1 = (spreadEnd1+1)&0x1ff;\\n' +\n",
       "  'spreadEnd2 = (spreadEnd2+1)&0x1ff;\\n' +\n",
       "  'recorded = (recorded+1)&0x1ff;\\n' +\n",
       "  'recovered = (recovered+1)&0x1ff;vspreadStart1 = _spreadStart1.next(arr[spreadStart1])\\n' +\n",
       "  'vspreadEnd1 = _spreadEnd1.next(arr[spreadEnd1])\\n' +\n",
       "  'vspreadEnd2 = _spreadEnd2.next(arr[spreadEnd2])\\n' +\n",
       "  'vrecorded = _recorded.next(arr[recorded])\\n' +\n",
       "  'vrecovered = _recovered.next(arr[recovered])'"
      ]
     },
     "execution_count": 124,
     "metadata": {},
     "output_type": "execute_result"
    }
   ],
   "source": [
    "//S1, S2, dI, I, r1, r2\n",
    "\n",
    "// spreadStart1,\n",
    "// spreadEnd1,\n",
    "// spreadEnd2,\n",
    "// recorded\n",
    "// recovered\n",
    "\n",
    "var keys = `spreadStart1\n",
    "spreadEnd1\n",
    "spreadEnd2s\n",
    "recorded\n",
    "recovered`.split('\\n')\n",
    " \n",
    "keys.map( s => `_${s} = newPos(arr,opt.${s})`).join('\\n')+\n",
    "keys.map (s => s+ \" = (\"+s+\"+1)&0x1ff;\").join('\\n') +\n",
    "keys.map( s => `v${s} = _${s}.next(arr[${s}])`).join('\\n');"
   ]
  },
  {
   "cell_type": "code",
   "execution_count": 16,
   "metadata": {},
   "outputs": [
    {
     "data": {
      "text/plain": [
       "[\n",
       "  0, 0, 0, 0, 0, 0, 0, 0, 0, 0, 0, 0,\n",
       "  0, 0, 0, 0, 0, 0, 0, 0, 0, 0, 0, 0,\n",
       "  0, 0, 0, 0, 0, 0, 0, 0, 0, 0, 0, 0,\n",
       "  0, 0, 0, 0, 0, 0, 0, 0, 0, 0, 0, 0,\n",
       "  0, 0, 0, 0, 0, 0, 0, 0, 0, 0, 0, 0,\n",
       "  0, 0, 0, 0, 0, 0, 0, 0, 0, 0, 0, 0,\n",
       "  0, 0, 0, 0, 0, 0, 0, 0, 0, 0, 0, 0,\n",
       "  0, 0, 0, 0, 0, 0, 0, 0, 0, 0, 0, 0,\n",
       "  0, 0, 0, 0,\n",
       "  ... 260 more items\n",
       "]"
      ]
     },
     "execution_count": 16,
     "metadata": {},
     "output_type": "execute_result"
    }
   ],
   "source": [
    "\n",
    "\n",
    "// I = infected\n",
    "// S = spreaders\n",
    "// d = spread per day\n",
    "// n = fractions per day\n",
    "// b = begin spreading\n",
    "// D = days as spreader\n",
    "\n",
    "var d = 2, n =12;\n",
    "var d_n = (1.0*d)/n;\n",
    "\n",
    "function* model(days, fractions, opts) {\n",
    "    let {spreadPerDay, beginSpreading, daysAsSpreader, \n",
    "         symptomsAppear, recordDelay, deathRate, recover} = opts;\n",
    "    \n",
    "    let a = [];\n",
    "    for(let i=0; i< days*fractions; i++) a.push(0.0);\n",
    "    let s = 0, day = 0 ;\n",
    "}\n",
    "\n",
    "model(30,12)"
   ]
  },
  {
   "cell_type": "code",
   "execution_count": 8,
   "metadata": {},
   "outputs": [
    {
     "data": {
      "text/html": [
       "<table class=\"ftable\"><thead><tr><th>Ix</th><th>ICD10</th><th>TYPE</th><th>DESCRIPTION</th></tr></thead><tbody><tr><td>0</td><td>A00.0</td><td>CM</td><td>Cholera due to Vibrio cholerae 01, biovar cholerae</td></tr><tr><td>1</td><td>A00.1</td><td>CM</td><td>Cholera due to Vibrio cholerae 01, biovar eltor</td></tr><tr><td>2</td><td>A00.9</td><td>CM</td><td>Cholera, unspecified</td></tr><tr><td>3</td><td>A01.00</td><td>CM</td><td>Typhoid fever, unspecified</td></tr><tr><td>4</td><td>A01.01</td><td>CM</td><td>Typhoid meningitis</td></tr><tr><td>5</td><td>A01.02</td><td>CM</td><td>Typhoid fever with heart involvement</td></tr><tr><td>6</td><td>A01.03</td><td>CM</td><td>Typhoid pneumonia</td></tr><tr><td>7</td><td>A01.04</td><td>CM</td><td>Typhoid arthritis</td></tr><tr><td>8</td><td>A01.05</td><td>CM</td><td>Typhoid osteomyelitis</td></tr><tr><td>9</td><td>A01.09</td><td>CM</td><td>Typhoid fever with other complications</td></tr><tr><td>10</td><td>A01.1</td><td>CM</td><td>Paratyphoid fever A</td></tr><tr><td>11</td><td>A01.2</td><td>CM</td><td>Paratyphoid fever B</td></tr><tr><td>12</td><td>A01.3</td><td>CM</td><td>Paratyphoid fever C</td></tr><tr><td>13</td><td>A01.4</td><td>CM</td><td>Paratyphoid fever, unspecified</td></tr><tr><td>14</td><td>A02.0</td><td>CM</td><td>Salmonella enteritis</td></tr><tr><td>15</td><td>A02.1</td><td>CM</td><td>Salmonella sepsis</td></tr><tr><td>16</td><td>A02.20</td><td>CM</td><td>Localized salmonella infection, unspecified</td></tr><tr><td>17</td><td>A02.21</td><td>CM</td><td>Salmonella meningitis</td></tr><tr><td>18</td><td>A02.22</td><td>CM</td><td>Salmonella pneumonia</td></tr><tr><td>19</td><td>A02.23</td><td>CM</td><td>Salmonella arthritis</td></tr><tr><td>20</td><td>A02.24</td><td>CM</td><td>Salmonella osteomyelitis</td></tr><tr><td>21</td><td>A02.25</td><td>CM</td><td>Salmonella pyelonephritis</td></tr><tr><td>22</td><td>A02.29</td><td>CM</td><td>Salmonella with other localized infection</td></tr><tr><td>23</td><td>A02.8</td><td>CM</td><td>Other specified salmonella infections</td></tr><tr><td>24</td><td>A02.9</td><td>CM</td><td>Salmonella infection, unspecified</td></tr><tr><td>25</td><td>A03.0</td><td>CM</td><td>Shigellosis due to Shigella dysenteriae</td></tr><tr><td>26</td><td>A03.1</td><td>CM</td><td>Shigellosis due to Shigella flexneri</td></tr><tr><td>27</td><td>A03.2</td><td>CM</td><td>Shigellosis due to Shigella boydii</td></tr><tr><td>28</td><td>A03.3</td><td>CM</td><td>Shigellosis due to Shigella sonnei</td></tr><tr><td>29</td><td>A03.8</td><td>CM</td><td>Other shigellosis</td></tr><tr><td>30</td><td>A03.9</td><td>CM</td><td>Shigellosis, unspecified</td></tr><tr><td>31</td><td>A04.0</td><td>CM</td><td>Enteropathogenic Escherichia coli infection</td></tr><tr><td>32</td><td>A04.1</td><td>CM</td><td>Enterotoxigenic Escherichia coli infection</td></tr><tr><td>33</td><td>A04.2</td><td>CM</td><td>Enteroinvasive Escherichia coli infection</td></tr><tr><td>34</td><td>A04.3</td><td>CM</td><td>Enterohemorrhagic Escherichia coli infection</td></tr><tr><td>35</td><td>A04.4</td><td>CM</td><td>Other intestinal Escherichia coli infections</td></tr><tr><td>36</td><td>A04.5</td><td>CM</td><td>Campylobacter enteritis</td></tr><tr><td>37</td><td>A04.6</td><td>CM</td><td>Enteritis due to Yersinia enterocolitica</td></tr><tr><td>38</td><td>A04.71</td><td>CM</td><td>Enterocolitis due to Clostridium difficile, recurrent</td></tr><tr><td>39</td><td>A04.72</td><td>CM</td><td>Enterocolitis due to Clostridium difficile, not specified as recurrent</td></tr><tr><td>40</td><td>A04.8</td><td>CM</td><td>Other specified bacterial intestinal infections</td></tr><tr><td>41</td><td>A04.9</td><td>CM</td><td>Bacterial intestinal infection, unspecified</td></tr><tr><td>42</td><td>A05.0</td><td>CM</td><td>Foodborne staphylococcal intoxication</td></tr><tr><td>43</td><td>A05.1</td><td>CM</td><td>Botulism food poisoning</td></tr><tr><td>44</td><td>A05.2</td><td>CM</td><td>Foodborne Clostridium perfringens [Clostridium welchii] intoxication</td></tr><tr><td>45</td><td>A05.3</td><td>CM</td><td>Foodborne Vibrio parahaemolyticus intoxication</td></tr><tr><td>46</td><td>A05.4</td><td>CM</td><td>Foodborne Bacillus cereus intoxication</td></tr><tr><td>47</td><td>A05.5</td><td>CM</td><td>Foodborne Vibrio vulnificus intoxication</td></tr><tr><td>48</td><td>A05.8</td><td>CM</td><td>Other specified bacterial foodborne intoxications</td></tr><tr><td>49</td><td>A05.9</td><td>CM</td><td>Bacterial foodborne intoxication, unspecified</td></tr><tr><td>50</td><td>A06.0</td><td>CM</td><td>Acute amebic dysentery</td></tr><tr><td>51</td><td>A06.1</td><td>CM</td><td>Chronic intestinal amebiasis</td></tr><tr><td>52</td><td>A06.2</td><td>CM</td><td>Amebic nondysenteric colitis</td></tr><tr><td>53</td><td>A06.3</td><td>CM</td><td>Ameboma of intestine</td></tr><tr><td>54</td><td>A06.4</td><td>CM</td><td>Amebic liver abscess</td></tr><tr><td>55</td><td>A06.5</td><td>CM</td><td>Amebic lung abscess</td></tr><tr><td>56</td><td>A06.6</td><td>CM</td><td>Amebic brain abscess</td></tr><tr><td>57</td><td>A06.7</td><td>CM</td><td>Cutaneous amebiasis</td></tr><tr><td>58</td><td>A06.81</td><td>CM</td><td>Amebic cystitis</td></tr><tr><td>59</td><td>A06.82</td><td>CM</td><td>Other amebic genitourinary infections</td></tr><tr><td>60</td><td>A06.89</td><td>CM</td><td>Other amebic infections</td></tr><tr><td>61</td><td>A06.9</td><td>CM</td><td>Amebiasis, unspecified</td></tr><tr><td>62</td><td>A07.0</td><td>CM</td><td>Balantidiasis</td></tr><tr><td>63</td><td>A07.1</td><td>CM</td><td>Giardiasis [lambliasis]</td></tr><tr><td>64</td><td>A07.2</td><td>CM</td><td>Cryptosporidiosis</td></tr><tr><td>65</td><td>A07.3</td><td>CM</td><td>Isosporiasis</td></tr><tr><td>66</td><td>A07.4</td><td>CM</td><td>Cyclosporiasis</td></tr><tr><td>67</td><td>A07.8</td><td>CM</td><td>Other specified protozoal intestinal diseases</td></tr><tr><td>68</td><td>A07.9</td><td>CM</td><td>Protozoal intestinal disease, unspecified</td></tr><tr><td>69</td><td>A08.0</td><td>CM</td><td>Rotaviral enteritis</td></tr><tr><td>70</td><td>A08.11</td><td>CM</td><td>Acute gastroenteropathy due to Norwalk agent</td></tr><tr><td>71</td><td>A08.19</td><td>CM</td><td>Acute gastroenteropathy due to other small round viruses</td></tr><tr><td>72</td><td>A08.2</td><td>CM</td><td>Adenoviral enteritis</td></tr><tr><td>73</td><td>A08.31</td><td>CM</td><td>Calicivirus enteritis</td></tr><tr><td>74</td><td>A08.32</td><td>CM</td><td>Astrovirus enteritis</td></tr><tr><td>75</td><td>A08.39</td><td>CM</td><td>Other viral enteritis</td></tr><tr><td>76</td><td>A08.4</td><td>CM</td><td>Viral intestinal infection, unspecified</td></tr><tr><td>77</td><td>A08.8</td><td>CM</td><td>Other specified intestinal infections</td></tr><tr><td>78</td><td>A09</td><td>CM</td><td>Infectious gastroenteritis and colitis, unspecified</td></tr><tr><td>79</td><td>A15.0</td><td>CM</td><td>Tuberculosis of lung</td></tr><tr><td>80</td><td>A15.4</td><td>CM</td><td>Tuberculosis of intrathoracic lymph nodes</td></tr><tr><td>81</td><td>A15.5</td><td>CM</td><td>Tuberculosis of larynx, trachea and bronchus</td></tr><tr><td>82</td><td>A15.6</td><td>CM</td><td>Tuberculous pleurisy</td></tr><tr><td>83</td><td>A15.7</td><td>CM</td><td>Primary respiratory tuberculosis</td></tr><tr><td>84</td><td>A15.8</td><td>CM</td><td>Other respiratory tuberculosis</td></tr><tr><td>85</td><td>A15.9</td><td>CM</td><td>Respiratory tuberculosis unspecified</td></tr><tr><td>86</td><td>A17.0</td><td>CM</td><td>Tuberculous meningitis</td></tr><tr><td>87</td><td>A17.1</td><td>CM</td><td>Meningeal tuberculoma</td></tr><tr><td>88</td><td>A17.81</td><td>CM</td><td>Tuberculoma of brain and spinal cord</td></tr><tr><td>89</td><td>A17.82</td><td>CM</td><td>Tuberculous meningoencephalitis</td></tr><tr><td>90</td><td>A17.83</td><td>CM</td><td>Tuberculous neuritis</td></tr><tr><td>91</td><td>A17.89</td><td>CM</td><td>Other tuberculosis of nervous system</td></tr><tr><td>92</td><td>A17.9</td><td>CM</td><td>Tuberculosis of nervous system, unspecified</td></tr><tr><td>93</td><td>A18.01</td><td>CM</td><td>Tuberculosis of spine</td></tr><tr><td>94</td><td>A18.02</td><td>CM</td><td>Tuberculous arthritis of other joints</td></tr><tr><td>95</td><td>A18.03</td><td>CM</td><td>Tuberculosis of other bones</td></tr><tr><td>96</td><td>A18.09</td><td>CM</td><td>Other musculoskeletal tuberculosis</td></tr><tr><td>97</td><td>A18.10</td><td>CM</td><td>Tuberculosis of genitourinary system, unspecified</td></tr><tr><td>98</td><td>A18.11</td><td>CM</td><td>Tuberculosis of kidney and ureter</td></tr><tr><td>99</td><td>A18.12</td><td>CM</td><td>Tuberculosis of bladder</td></tr></tbody></table>"
      ],
      "text/plain": [
       "Frame {\n",
       "  keyFunc: [Function: _getKey],\n",
       "  data: [\n",
       "    [\n",
       "      'A00.0',\n",
       "      'CM',\n",
       "      'Cholera due to Vibrio cholerae 01, biovar cholerae'\n",
       "    ],\n",
       "    [\n",
       "      'A00.1',\n",
       "      'CM',\n",
       "      'Cholera due to Vibrio cholerae 01, biovar eltor'\n",
       "    ],\n",
       "    [ 'A00.9', 'CM', 'Cholera, unspecified' ],\n",
       "    [ 'A01.00', 'CM', 'Typhoid fever, unspecified' ],\n",
       "    [ 'A01.01', 'CM', 'Typhoid meningitis' ],\n",
       "    [ 'A01.02', 'CM', 'Typhoid fever with heart involvement' ],\n",
       "    [ 'A01.03', 'CM', 'Typhoid pneumonia' ],\n",
       "    [ 'A01.04', 'CM', 'Typhoid arthritis' ],\n",
       "    [ 'A01.05', 'CM', 'Typhoid osteomyelitis' ],\n",
       "    [ 'A01.09', 'CM', 'Typhoid fever with other complications' ],\n",
       "    [ 'A01.1', 'CM', 'Paratyphoid fever A' ],\n",
       "    [ 'A01.2', 'CM', 'Paratyphoid fever B' ],\n",
       "    [ 'A01.3', 'CM', 'Paratyphoid fever C' ],\n",
       "    [ 'A01.4', 'CM', 'Paratyphoid fever, unspecified' ],\n",
       "    [ 'A02.0', 'CM', 'Salmonella enteritis' ],\n",
       "    [ 'A02.1', 'CM', 'Salmonella sepsis' ],\n",
       "    [ 'A02.20', 'CM', 'Localized salmonella infection, unspecified' ],\n",
       "    [ 'A02.21', 'CM', 'Salmonella meningitis' ],\n",
       "    [ 'A02.22', 'CM', 'Salmonella pneumonia' ],\n",
       "    [ 'A02.23', 'CM', 'Salmonella arthritis' ],\n",
       "    [ 'A02.24', 'CM', 'Salmonella osteomyelitis' ],\n",
       "    [ 'A02.25', 'CM', 'Salmonella pyelonephritis' ],\n",
       "    [ 'A02.29', 'CM', 'Salmonella with other localized infection' ],\n",
       "    [ 'A02.8', 'CM', 'Other specified salmonella infections' ],\n",
       "    [ 'A02.9', 'CM', 'Salmonella infection, unspecified' ],\n",
       "    [ 'A03.0', 'CM', 'Shigellosis due to Shigella dysenteriae' ],\n",
       "    [ 'A03.1', 'CM', 'Shigellosis due to Shigella flexneri' ],\n",
       "    [ 'A03.2', 'CM', 'Shigellosis due to Shigella boydii' ],\n",
       "    [ 'A03.3', 'CM', 'Shigellosis due to Shigella sonnei' ],\n",
       "    [ 'A03.8', 'CM', 'Other shigellosis' ],\n",
       "    [ 'A03.9', 'CM', 'Shigellosis, unspecified' ],\n",
       "    [ 'A04.0', 'CM', 'Enteropathogenic Escherichia coli infection' ],\n",
       "    [ 'A04.1', 'CM', 'Enterotoxigenic Escherichia coli infection' ],\n",
       "    [ 'A04.2', 'CM', 'Enteroinvasive Escherichia coli infection' ],\n",
       "    [ 'A04.3', 'CM', 'Enterohemorrhagic Escherichia coli infection' ],\n",
       "    [ 'A04.4', 'CM', 'Other intestinal Escherichia coli infections' ],\n",
       "    [ 'A04.5', 'CM', 'Campylobacter enteritis' ],\n",
       "    [ 'A04.6', 'CM', 'Enteritis due to Yersinia enterocolitica' ],\n",
       "    [\n",
       "      'A04.71',\n",
       "      'CM',\n",
       "      'Enterocolitis due to Clostridium difficile, recurrent'\n",
       "    ],\n",
       "    [\n",
       "      'A04.72',\n",
       "      'CM',\n",
       "      'Enterocolitis due to Clostridium difficile, not specified as recurrent'\n",
       "    ],\n",
       "    [\n",
       "      'A04.8',\n",
       "      'CM',\n",
       "      'Other specified bacterial intestinal infections'\n",
       "    ],\n",
       "    [ 'A04.9', 'CM', 'Bacterial intestinal infection, unspecified' ],\n",
       "    [ 'A05.0', 'CM', 'Foodborne staphylococcal intoxication' ],\n",
       "    [ 'A05.1', 'CM', 'Botulism food poisoning' ],\n",
       "    [\n",
       "      'A05.2',\n",
       "      'CM',\n",
       "      'Foodborne Clostridium perfringens [Clostridium welchii] intoxication'\n",
       "    ],\n",
       "    [ 'A05.3', 'CM', 'Foodborne Vibrio parahaemolyticus intoxication' ],\n",
       "    [ 'A05.4', 'CM', 'Foodborne Bacillus cereus intoxication' ],\n",
       "    [ 'A05.5', 'CM', 'Foodborne Vibrio vulnificus intoxication' ],\n",
       "    [\n",
       "      'A05.8',\n",
       "      'CM',\n",
       "      'Other specified bacterial foodborne intoxications'\n",
       "    ],\n",
       "    [ 'A05.9', 'CM', 'Bacterial foodborne intoxication, unspecified' ],\n",
       "    [ 'A06.0', 'CM', 'Acute amebic dysentery' ],\n",
       "    [ 'A06.1', 'CM', 'Chronic intestinal amebiasis' ],\n",
       "    [ 'A06.2', 'CM', 'Amebic nondysenteric colitis' ],\n",
       "    [ 'A06.3', 'CM', 'Ameboma of intestine' ],\n",
       "    [ 'A06.4', 'CM', 'Amebic liver abscess' ],\n",
       "    [ 'A06.5', 'CM', 'Amebic lung abscess' ],\n",
       "    [ 'A06.6', 'CM', 'Amebic brain abscess' ],\n",
       "    [ 'A06.7', 'CM', 'Cutaneous amebiasis' ],\n",
       "    [ 'A06.81', 'CM', 'Amebic cystitis' ],\n",
       "    [ 'A06.82', 'CM', 'Other amebic genitourinary infections' ],\n",
       "    [ 'A06.89', 'CM', 'Other amebic infections' ],\n",
       "    [ 'A06.9', 'CM', 'Amebiasis, unspecified' ],\n",
       "    [ 'A07.0', 'CM', 'Balantidiasis' ],\n",
       "    [ 'A07.1', 'CM', 'Giardiasis [lambliasis]' ],\n",
       "    [ 'A07.2', 'CM', 'Cryptosporidiosis' ],\n",
       "    [ 'A07.3', 'CM', 'Isosporiasis' ],\n",
       "    [ 'A07.4', 'CM', 'Cyclosporiasis' ],\n",
       "    [ 'A07.8', 'CM', 'Other specified protozoal intestinal diseases' ],\n",
       "    [ 'A07.9', 'CM', 'Protozoal intestinal disease, unspecified' ],\n",
       "    [ 'A08.0', 'CM', 'Rotaviral enteritis' ],\n",
       "    [ 'A08.11', 'CM', 'Acute gastroenteropathy due to Norwalk agent' ],\n",
       "    [\n",
       "      'A08.19',\n",
       "      'CM',\n",
       "      'Acute gastroenteropathy due to other small round viruses'\n",
       "    ],\n",
       "    [ 'A08.2', 'CM', 'Adenoviral enteritis' ],\n",
       "    [ 'A08.31', 'CM', 'Calicivirus enteritis' ],\n",
       "    [ 'A08.32', 'CM', 'Astrovirus enteritis' ],\n",
       "    [ 'A08.39', 'CM', 'Other viral enteritis' ],\n",
       "    [ 'A08.4', 'CM', 'Viral intestinal infection, unspecified' ],\n",
       "    [ 'A08.8', 'CM', 'Other specified intestinal infections' ],\n",
       "    [\n",
       "      'A09',\n",
       "      'CM',\n",
       "      'Infectious gastroenteritis and colitis, unspecified'\n",
       "    ],\n",
       "    [ 'A15.0', 'CM', 'Tuberculosis of lung' ],\n",
       "    [ 'A15.4', 'CM', 'Tuberculosis of intrathoracic lymph nodes' ],\n",
       "    [ 'A15.5', 'CM', 'Tuberculosis of larynx, trachea and bronchus' ],\n",
       "    [ 'A15.6', 'CM', 'Tuberculous pleurisy' ],\n",
       "    [ 'A15.7', 'CM', 'Primary respiratory tuberculosis' ],\n",
       "    [ 'A15.8', 'CM', 'Other respiratory tuberculosis' ],\n",
       "    [ 'A15.9', 'CM', 'Respiratory tuberculosis unspecified' ],\n",
       "    [ 'A17.0', 'CM', 'Tuberculous meningitis' ],\n",
       "    [ 'A17.1', 'CM', 'Meningeal tuberculoma' ],\n",
       "    [ 'A17.81', 'CM', 'Tuberculoma of brain and spinal cord' ],\n",
       "    [ 'A17.82', 'CM', 'Tuberculous meningoencephalitis' ],\n",
       "    [ 'A17.83', 'CM', 'Tuberculous neuritis' ],\n",
       "    [ 'A17.89', 'CM', 'Other tuberculosis of nervous system' ],\n",
       "    [ 'A17.9', 'CM', 'Tuberculosis of nervous system, unspecified' ],\n",
       "    [ 'A18.01', 'CM', 'Tuberculosis of spine' ],\n",
       "    [ 'A18.02', 'CM', 'Tuberculous arthritis of other joints' ],\n",
       "    [ 'A18.03', 'CM', 'Tuberculosis of other bones' ],\n",
       "    [ 'A18.09', 'CM', 'Other musculoskeletal tuberculosis' ],\n",
       "    [\n",
       "      'A18.10',\n",
       "      'CM',\n",
       "      'Tuberculosis of genitourinary system, unspecified'\n",
       "    ],\n",
       "    [ 'A18.11', 'CM', 'Tuberculosis of kidney and ureter' ],\n",
       "    [ 'A18.12', 'CM', 'Tuberculosis of bladder' ]\n",
       "  ],\n",
       "  _columns: [ 'ICD10', 'TYPE', 'DESCRIPTION' ],\n",
       "  _name: '',\n",
       "  _unique: undefined,\n",
       "  _sortCols: [],\n",
       "  _row: undefined,\n",
       "  AccessClass: [Function],\n",
       "  showLen: 400,\n",
       "  _hash: -1\n",
       "}"
      ]
     },
     "execution_count": 8,
     "metadata": {},
     "output_type": "execute_result"
    }
   ],
   "source": [
    "ICD10.slice(0,100)\n"
   ]
  },
  {
   "cell_type": "code",
   "execution_count": 31,
   "metadata": {},
   "outputs": [
    {
     "data": {
      "text/html": [
       "\n",
       "<style>\n",
       "\t\t\t\t.ftable  { \n",
       "\t\t\t\t\tfont-family: arial, sans-serif; \n",
       "\t\t\t\t\tcolor: blue !important; \n",
       "\t\t\t\t\tborder-collapse: collapse; \n",
       "\t\t\t\t\tborder-spacing: 0; \n",
       "\t\t\t\t\tborder: 1px solid #000; \n",
       "\t\t\t\t\tfont-size: 1rem;\n",
       "\t\t\t\t} \n",
       "\t\t\t\t.ftable thead {\n",
       "\t\t\t\t   text-align: left; \n",
       "\t\t\t\t   background-color: grey;\n",
       "                   border: 1px solid #000; \n",
       "\t\t\t\t} \n",
       "\t\t\t\t.ftable tr { border: 1px solid #000000; text-align: left;  }\n",
       "                .ftable th { \n",
       "                    border: 1px solid #000000;  \n",
       "                    text-align: center; \n",
       "                    color: red !important;\n",
       "                    background-color: grey } \n",
       "\t\t\t\t.ftable td { border: 1px solid #000000; text-align: left;  }\n",
       "\t\t\t\t.ftable tbody > tr:nth-child(even) { background-color: #44dddd !important; }\n",
       "                .ftable tbody > tr:nth-child(odd) { background-color: white !important; }\n",
       "</style>\n",
       "\n",
       "<table class=\"ftable\">\n",
       "  <thead>\n",
       "    <tr>\n",
       "      <th>A col 1</th>\n",
       "      <th>B col 2 </th>\n",
       "    </tr>\n",
       "  </thead>\n",
       "  <tbody>\n",
       "    <tr>\n",
       "      <td>value 123</td>\n",
       "      <td>value 345   test 123</td>\n",
       "    </tr>\n",
       "    <tr>\n",
       "      <td>value 123 this is a test</td>\n",
       "      <td>value 345   test 123</td>\n",
       "    </tr>\n",
       "     <tr>\n",
       "      <td>value 123 this is a test</td>\n",
       "      <td>value 345   test 123</td>\n",
       "    </tr>\n",
       "  </tbody>\n",
       "</table>\n"
      ]
     },
     "execution_count": 31,
     "metadata": {},
     "output_type": "execute_result"
    }
   ],
   "source": [
    "$$.html(`\n",
    "<style>\n",
    ".ftable  { \n",
    "    font-family: arial, sans-serif; \n",
    "    color: blue !important; \n",
    "    border-collapse: collapse; \n",
    "    border-spacing: 0; \n",
    "    border: 1px solid #000; \n",
    "    font-size: 1rem;\n",
    "} \n",
    ".ftable thead {\n",
    "   text-align: left; \n",
    "   background-color: grey;\n",
    "   border: 1px solid #000; \n",
    "} \n",
    ".ftable tr { border: 1px solid #000000; text-align: left;  }\n",
    ".ftable th { \n",
    "    border: 1px solid #000000;  \n",
    "    text-align: center; \n",
    "    color: red !important;\n",
    "    background-color: grey } \n",
    ".ftable td { border: 1px solid #000000; text-align: left;  }\n",
    ".ftable tbody > tr:nth-child(even) { background-color: #44dddd !important; }\n",
    ".ftable tbody > tr:nth-child(odd) { background-color: white !important; }\n",
    "</style>\n",
    "\n",
    "<table class=\"ftable\">\n",
    "  <thead>\n",
    "    <tr>\n",
    "      <th>A col 1</th>\n",
    "      <th>B col 2 </th>\n",
    "    </tr>\n",
    "  </thead>\n",
    "  <tbody>\n",
    "    <tr>\n",
    "      <td>value 123</td>\n",
    "      <td>value 345   test 123</td>\n",
    "    </tr>\n",
    "    <tr>\n",
    "      <td>value 123 this is a test</td>\n",
    "      <td>value 345   test 123</td>\n",
    "    </tr>\n",
    "     <tr>\n",
    "      <td>value 123 this is a test</td>\n",
    "      <td>value 345   test 123</td>\n",
    "    </tr>\n",
    "  </tbody>\n",
    "</table>\n",
    "`)"
   ]
  }
 ],
 "metadata": {
  "kernelspec": {
   "display_name": "Javascript (Node.js)",
   "language": "javascript",
   "name": "javascript"
  },
  "language_info": {
   "file_extension": ".js",
   "mimetype": "application/javascript",
   "name": "javascript",
   "version": "12.13.0"
  }
 },
 "nbformat": 4,
 "nbformat_minor": 2
}
