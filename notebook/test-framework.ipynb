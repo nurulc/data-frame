{
 "cells": [
  {
   "cell_type": "code",
   "execution_count": 2,
   "metadata": {},
   "outputs": [
    {
     "data": {
      "text/html": [
       "\n",
       "    <script>\n",
       "        window.exports = {};\n",
       "        window.module = true;\n",
       "        //alert('1. D3 load'+window.exports);\n",
       "    </script>\n",
       "    <script src=\"https://cdnjs.cloudflare.com/ajax/libs/d3/4.13.0/d3.js\"></script>\n",
       "    \n",
       "    <script>\n",
       "         //alert('2. D3 load ');\n",
       "          if(!window.d3) window.d3=window.exports;\n",
       "       \n",
       "        function setData(data, func) {\n",
       "            setTimeout((data)=>func(data),0);\n",
       "        }\n",
       "    </script>"
      ]
     },
     "execution_count": 2,
     "metadata": {},
     "output_type": "execute_result"
    },
    {
     "name": "stdout",
     "output_type": "stream",
     "text": [
      "D3 - loader\n"
     ]
    }
   ],
   "source": [
    "\n",
    "var fs = require('fs');\n",
    "var _init = fs.readFileSync('init.js').toString();\n",
    "eval(_init);\n",
    "setupD3();"
   ]
  },
  {
   "cell_type": "code",
   "execution_count": 3,
   "metadata": {},
   "outputs": [
    {
     "name": "stdout",
     "output_type": "stream",
     "text": [
      "bytes read 13187299\n",
      "Lines:  150410\n"
     ]
    },
    {
     "data": {
      "text/plain": [
       "undefined"
      ]
     },
     "execution_count": 3,
     "metadata": {},
     "output_type": "execute_result"
    }
   ],
   "source": [
    "var ICD10 = readZipFrame('../data/reference/all_icd10_codes.tsv.gz');"
   ]
  },
  {
   "cell_type": "code",
   "execution_count": 4,
   "metadata": {},
   "outputs": [
    {
     "name": "stdout",
     "output_type": "stream",
     "text": [
      "1.75\n",
      "1.25\n",
      "1.75\n",
      "1.25\n",
      "1.625\n"
     ]
    },
    {
     "data": {
      "text/plain": [
       "undefined"
      ]
     },
     "execution_count": 4,
     "metadata": {},
     "output_type": "execute_result"
    }
   ],
   "source": [
    "function a2(a,b, x) {\n",
    "    return (b-a)*x*x*0.5 + a*x;\n",
    "}\n",
    "\n",
    "function a1(a,b,x) {\n",
    "    return a2(b,a,1-x);\n",
    "}\n",
    "\n",
    "function aDayArea(x, a,b,c) {\n",
    "    return a1(a,b,x)+a2(b,c,x);\n",
    "}\n",
    "var ax = a1(1,2,0.15) + a2(2,1, 0.85);\n",
    "var bx = aDayArea(0.001,1,2,1);\n",
    "//console.log(ax,bx)\n",
    "\n",
    "function *a(delta, arr=[]) {\n",
    "    if(delta === 0 || delta === 1) {\n",
    "        let a = arr[delta];\n",
    "        for(let i=delta+1; i<arr.length; i++) {\n",
    "            let b = arr[i];\n",
    "            yield (a+b)/2;\n",
    "            a = b;\n",
    "        }\n",
    "    } else {\n",
    "        let [a,b,c] = arr;\n",
    "        const delta_2 = delta*0.5\n",
    "        let area2 = (b+c)/2;\n",
    "        let nArea = (c + (b-c)*delta_2)*delta;\n",
    "        let area = a1(a,b, delta)+area2-nArea;\n",
    "        // next area, b = c, c = arr[i], area = nArea; area2 = (b+c)/2; nArea = area2*deltaP; \n",
    "        // area += area2-nArea;\n",
    "\n",
    "        for(let i=3; i<=arr.length; i++ ) {\n",
    "            yield area;\n",
    "             // next area, \n",
    "            b = c; c = arr[i] || 0;\n",
    "            area = nArea + (b+c)/2; \n",
    "            nArea = (c + (b-c)*delta_2)*delta; \n",
    "            area -= nArea;\n",
    "        }\n",
    "        yield area;\n",
    "        \n",
    "    }\n",
    "        \n",
    "}\n",
    " \n",
    "for(i of a(0.5, [1,2,1,2,1,2])) console.log(i)\n"
   ]
  },
  {
   "cell_type": "code",
   "execution_count": 57,
   "metadata": {},
   "outputs": [
    {
     "data": {
      "text/plain": [
       "[ 1.75 ]"
      ]
     },
     "execution_count": 57,
     "metadata": {},
     "output_type": "execute_result"
    }
   ],
   "source": [
    "[a1(1,2,0.5) + a2(2,1, 0.5)]"
   ]
  },
  {
   "cell_type": "code",
   "execution_count": 5,
   "metadata": {},
   "outputs": [
    {
     "data": {
      "text/plain": [
       "undefined"
      ]
     },
     "execution_count": 5,
     "metadata": {},
     "output_type": "execute_result"
    }
   ],
   "source": [
    "function a2(a,b, x) {\n",
    "    return (b-a)*x*x*0.5 + a*x;\n",
    "}\n",
    "\n",
    "function a1(a,b,x) {\n",
    "    return a2(b,a,1-x);\n",
    "}\n",
    "\n",
    "var Next  = class {\n",
    "    constructor(pos, a,b) {\n",
    "        let alpha = Math.abs(pos);\n",
    "        alpha = alpha - Math.trunc(alpha);\n",
    "        this.area = (a+b)/2.0;\n",
    "        this.b = b;\n",
    "        this.alpha = alpha;\n",
    "    }\n",
    "    \n",
    "    next(c) {\n",
    "        let area = this.area;\n",
    "        this.area = (this.b+c)/2.0;\n",
    "         this.b = c;\n",
    "        return area-(area-this.area)*this.alpha;\n",
    "    }\n",
    "}\n",
    "\n",
    "// var iter = class {\n",
    "//     constructor(arr, pos, steps=1) {\n",
    "        \n",
    "//         this.arr = arr;\n",
    "//         this.steps = steps;\n",
    "//         pos = pos*steps;\n",
    "//         let ppos = Math.abs(pos);\n",
    "//         let delta = ppos - Math.trunc(ppos);\n",
    "//         let ix = this.Pos(pos < 0 ? this.Pos(-ppos) : this.Pos(ppos));\n",
    "        \n",
    "//         this.a = arr[ix]; this.b = arr[ix=this.Pos(ix-1)]; this.c = arr[ix=this.Pos(ix-1)];\n",
    "//         this.ix = ix;        \n",
    "//         this.delta = delta;\n",
    "//         this.delta_2 = delta*0.5\n",
    "//         this.area2 = (b+c)/2;\n",
    "//         this.nArea = (c + (b-c)*delta_2)*delta;\n",
    "//         this.area = a1(a,b, delta)+this.area2-this.nArea;\n",
    "//     }\n",
    "    \n",
    "//     Pos(n) {\n",
    "//         let LEN = this.arr.length;\n",
    "//         if( n >= LEN ) return n-LEN;\n",
    "//         if( n < 0 ) return n + LEN;\n",
    "//         return n\n",
    "//     }\n",
    "    \n",
    "//     _next() {\n",
    "//         let delta = this.delta;\n",
    "//         if(delta === 0 || delta === 1) {\n",
    "//             let a = arr[delta];\n",
    "//             let y=0;\n",
    "//             for(let i=delta+1; i<arr.length; i++) {\n",
    "//                 let b = arr[i];\n",
    "//                 y= (a+b)/2;\n",
    "//                 a = b;\n",
    "//             }\n",
    "//         } else {\n",
    "//             let [a,b,c] = arr;\n",
    "//             const delta_2 = delta*0.5\n",
    "//             let area2 = (b+c)/2;\n",
    "//             let nArea = (c + (b-c)*delta_2)*delta;\n",
    "//             let area = a1(a,b, delta)+area2-nArea;\n",
    "//             // next area, b = c, c = arr[i], area = nArea; area2 = (b+c)/2; nArea = area2*deltaP; \n",
    "//             // area += area2-nArea;\n",
    "            \n",
    "//             for(let i=3; i<=arr.length; i++ ) {\n",
    "//                 //yield area;\n",
    "//                  // next area, \n",
    "//                 b = c; c = arr[i] || 0;\n",
    "//                 area = nArea + (b+c)/2; \n",
    "//                 nArea = (c + (b-c)*delta_2)*delta; \n",
    "//                 area -= nArea;\n",
    "//             }\n",
    "//             //yield area;\n",
    "        \n",
    "//         } \n",
    "//     }\n",
    "// }"
   ]
  },
  {
   "cell_type": "code",
   "execution_count": 6,
   "metadata": {},
   "outputs": [
    {
     "data": {
      "text/plain": [
       "undefined"
      ]
     },
     "execution_count": 6,
     "metadata": {},
     "output_type": "execute_result"
    }
   ],
   "source": [
    "function Pos(n) {\n",
    "    if( n >= 400 ) return n-400;\n",
    "    if( n < 0 ) return n + 400;\n",
    "    return n\n",
    "}\n",
    "var p = 0;\n"
   ]
  },
  {
   "cell_type": "code",
   "execution_count": 7,
   "metadata": {
    "scrolled": true
   },
   "outputs": [
    {
     "data": {
      "text/plain": [
       "[ 2.6, 3.6500000000000004, 3.65 ]"
      ]
     },
     "execution_count": 7,
     "metadata": {},
     "output_type": "execute_result"
    }
   ],
   "source": [
    "var n = new Next(-3.1, 2,3);\n",
    "[n.next(4), n.next(6), 3.5 - 3.5*(0.1) + 5*0.1]"
   ]
  },
  {
   "cell_type": "code",
   "execution_count": 114,
   "metadata": {
    "scrolled": true
   },
   "outputs": [
    {
     "name": "stdout",
     "output_type": "stream",
     "text": [
      "Call to func took 1027 milliseconds.\n"
     ]
    },
    {
     "data": {
      "text/plain": [
       "599999998.6"
      ]
     },
     "execution_count": 114,
     "metadata": {},
     "output_type": "execute_result"
    }
   ],
   "source": [
    "var loop = n => {\n",
    "    let p = new Next(0.1, 0, 0)\n",
    "    for(let i=0; i<n; i++ ) p.next(i);\n",
    "    return p.next(p.b+1)\n",
    "}\n",
    "\n",
    "timeOf( () => loop(600_000_000))"
   ]
  },
  {
   "cell_type": "code",
   "execution_count": 124,
   "metadata": {},
   "outputs": [
    {
     "data": {
      "text/plain": [
       "'_spreadStart1 = newPos(arr,opt.spreadStart1)\\n' +\n",
       "  '_spreadEnd1 = newPos(arr,opt.spreadEnd1)\\n' +\n",
       "  '_spreadEnd2 = newPos(arr,opt.spreadEnd2)\\n' +\n",
       "  '_recorded = newPos(arr,opt.recorded)\\n' +\n",
       "  '_recovered = newPos(arr,opt.recovered)spreadStart1 = (spreadStart1+1)&0x1ff;\\n' +\n",
       "  'spreadEnd1 = (spreadEnd1+1)&0x1ff;\\n' +\n",
       "  'spreadEnd2 = (spreadEnd2+1)&0x1ff;\\n' +\n",
       "  'recorded = (recorded+1)&0x1ff;\\n' +\n",
       "  'recovered = (recovered+1)&0x1ff;vspreadStart1 = _spreadStart1.next(arr[spreadStart1])\\n' +\n",
       "  'vspreadEnd1 = _spreadEnd1.next(arr[spreadEnd1])\\n' +\n",
       "  'vspreadEnd2 = _spreadEnd2.next(arr[spreadEnd2])\\n' +\n",
       "  'vrecorded = _recorded.next(arr[recorded])\\n' +\n",
       "  'vrecovered = _recovered.next(arr[recovered])'"
      ]
     },
     "execution_count": 124,
     "metadata": {},
     "output_type": "execute_result"
    }
   ],
   "source": [
    "//S1, S2, dI, I, r1, r2\n",
    "\n",
    "// spreadStart1,\n",
    "// spreadEnd1,\n",
    "// spreadEnd2,\n",
    "// recorded\n",
    "// recovered\n",
    "\n",
    "var keys = `spreadStart1\n",
    "spreadEnd1\n",
    "spreadEnd2s\n",
    "recorded\n",
    "recovered`.split('\\n')\n",
    " \n",
    "keys.map( s => `_${s} = newPos(arr,opt.${s})`).join('\\n')+\n",
    "keys.map (s => s+ \" = (\"+s+\"+1)&0x1ff;\").join('\\n') +\n",
    "keys.map( s => `v${s} = _${s}.next(arr[${s}])`).join('\\n');"
   ]
  },
  {
   "cell_type": "code",
   "execution_count": 16,
   "metadata": {},
   "outputs": [
    {
     "data": {
      "text/plain": [
       "[\n",
       "  0, 0, 0, 0, 0, 0, 0, 0, 0, 0, 0, 0,\n",
       "  0, 0, 0, 0, 0, 0, 0, 0, 0, 0, 0, 0,\n",
       "  0, 0, 0, 0, 0, 0, 0, 0, 0, 0, 0, 0,\n",
       "  0, 0, 0, 0, 0, 0, 0, 0, 0, 0, 0, 0,\n",
       "  0, 0, 0, 0, 0, 0, 0, 0, 0, 0, 0, 0,\n",
       "  0, 0, 0, 0, 0, 0, 0, 0, 0, 0, 0, 0,\n",
       "  0, 0, 0, 0, 0, 0, 0, 0, 0, 0, 0, 0,\n",
       "  0, 0, 0, 0, 0, 0, 0, 0, 0, 0, 0, 0,\n",
       "  0, 0, 0, 0,\n",
       "  ... 260 more items\n",
       "]"
      ]
     },
     "execution_count": 16,
     "metadata": {},
     "output_type": "execute_result"
    }
   ],
   "source": [
    "\n",
    "\n",
    "// I = infected\n",
    "// S = spreaders\n",
    "// d = spread per day\n",
    "// n = fractions per day\n",
    "// b = begin spreading\n",
    "// D = days as spreader\n",
    "\n",
    "var d = 2, n =12;\n",
    "var d_n = (1.0*d)/n;\n",
    "\n",
    "function* model(days, fractions, opts) {\n",
    "    let {spreadPerDay, beginSpreading, daysAsSpreader, \n",
    "         symptomsAppear, recordDelay, deathRate, recover} = opts;\n",
    "    \n",
    "    let a = [];\n",
    "    for(let i=0; i< days*fractions; i++) a.push(0.0);\n",
    "    let s = 0, day = 0 ;\n",
    "}\n",
    "\n",
    "model(30,12)"
   ]
  },
  {
   "cell_type": "code",
   "execution_count": 1,
   "metadata": {},
   "outputs": [
    {
     "ename": "ReferenceError",
     "evalue": "ICD10 is not defined",
     "output_type": "error",
     "traceback": [
      "evalmachine.<anonymous>:1",
      "ICD10.slice(0,100)",
      "^",
      "",
      "ReferenceError: ICD10 is not defined",
      "    at evalmachine.<anonymous>:1:1",
      "    at Script.runInThisContext (vm.js:116:20)",
      "    at Object.runInThisContext (vm.js:306:38)",
      "    at run ([eval]:1054:15)",
      "    at onRunRequest ([eval]:888:18)",
      "    at onMessage ([eval]:848:13)",
      "    at process.emit (events.js:210:5)",
      "    at emit (internal/child_process.js:876:12)",
      "    at processTicksAndRejections (internal/process/task_queues.js:81:21)"
     ]
    }
   ],
   "source": [
    "ICD10.slice(0,100)\n"
   ]
  },
  {
   "cell_type": "code",
   "execution_count": 31,
   "metadata": {},
   "outputs": [
    {
     "data": {
      "text/html": [
       "\n",
       "<style>\n",
       "\t\t\t\t.ftable  { \n",
       "\t\t\t\t\tfont-family: arial, sans-serif; \n",
       "\t\t\t\t\tcolor: blue !important; \n",
       "\t\t\t\t\tborder-collapse: collapse; \n",
       "\t\t\t\t\tborder-spacing: 0; \n",
       "\t\t\t\t\tborder: 1px solid #000; \n",
       "\t\t\t\t\tfont-size: 1rem;\n",
       "\t\t\t\t} \n",
       "\t\t\t\t.ftable thead {\n",
       "\t\t\t\t   text-align: left; \n",
       "\t\t\t\t   background-color: grey;\n",
       "                   border: 1px solid #000; \n",
       "\t\t\t\t} \n",
       "\t\t\t\t.ftable tr { border: 1px solid #000000; text-align: left;  }\n",
       "                .ftable th { \n",
       "                    border: 1px solid #000000;  \n",
       "                    text-align: center; \n",
       "                    color: red !important;\n",
       "                    background-color: grey } \n",
       "\t\t\t\t.ftable td { border: 1px solid #000000; text-align: left;  }\n",
       "\t\t\t\t.ftable tbody > tr:nth-child(even) { background-color: #44dddd !important; }\n",
       "                .ftable tbody > tr:nth-child(odd) { background-color: white !important; }\n",
       "</style>\n",
       "\n",
       "<table class=\"ftable\">\n",
       "  <thead>\n",
       "    <tr>\n",
       "      <th>A col 1</th>\n",
       "      <th>B col 2 </th>\n",
       "    </tr>\n",
       "  </thead>\n",
       "  <tbody>\n",
       "    <tr>\n",
       "      <td>value 123</td>\n",
       "      <td>value 345   test 123</td>\n",
       "    </tr>\n",
       "    <tr>\n",
       "      <td>value 123 this is a test</td>\n",
       "      <td>value 345   test 123</td>\n",
       "    </tr>\n",
       "     <tr>\n",
       "      <td>value 123 this is a test</td>\n",
       "      <td>value 345   test 123</td>\n",
       "    </tr>\n",
       "  </tbody>\n",
       "</table>\n"
      ]
     },
     "execution_count": 31,
     "metadata": {},
     "output_type": "execute_result"
    }
   ],
   "source": [
    "$$.html(`\n",
    "<style>\n",
    ".ftable  { \n",
    "    font-family: arial, sans-serif; \n",
    "    color: blue !important; \n",
    "    border-collapse: collapse; \n",
    "    border-spacing: 0; \n",
    "    border: 1px solid #000; \n",
    "    font-size: 1rem;\n",
    "} \n",
    ".ftable thead {\n",
    "   text-align: left; \n",
    "   background-color: grey;\n",
    "   border: 1px solid #000; \n",
    "} \n",
    ".ftable tr { border: 1px solid #000000; text-align: left;  }\n",
    ".ftable th { \n",
    "    border: 1px solid #000000;  \n",
    "    text-align: center; \n",
    "    color: red !important;\n",
    "    background-color: grey } \n",
    ".ftable td { border: 1px solid #000000; text-align: left;  }\n",
    ".ftable tbody > tr:nth-child(even) { background-color: #44dddd !important; }\n",
    ".ftable tbody > tr:nth-child(odd) { background-color: white !important; }\n",
    "</style>\n",
    "\n",
    "<table class=\"ftable\">\n",
    "  <thead>\n",
    "    <tr>\n",
    "      <th>A col 1</th>\n",
    "      <th>B col 2 </th>\n",
    "    </tr>\n",
    "  </thead>\n",
    "  <tbody>\n",
    "    <tr>\n",
    "      <td>value 123</td>\n",
    "      <td>value 345   test 123</td>\n",
    "    </tr>\n",
    "    <tr>\n",
    "      <td>value 123 this is a test</td>\n",
    "      <td>value 345   test 123</td>\n",
    "    </tr>\n",
    "     <tr>\n",
    "      <td>value 123 this is a test</td>\n",
    "      <td>value 345   test 123</td>\n",
    "    </tr>\n",
    "  </tbody>\n",
    "</table>\n",
    "`)"
   ]
  },
  {
   "cell_type": "code",
   "execution_count": 35,
   "metadata": {},
   "outputs": [
    {
     "name": "stdout",
     "output_type": "stream",
     "text": [
      "Call to func took 8068 milliseconds.\n",
      "Call to func took 210 milliseconds.\n"
     ]
    },
    {
     "data": {
      "text/plain": [
       "800000000"
      ]
     },
     "execution_count": 35,
     "metadata": {},
     "output_type": "execute_result"
    }
   ],
   "source": [
    "function *Int(n,step=1) {\n",
    "    var i;\n",
    "    for(i=0; i<n; i+=step) yield i;\n",
    "}\n",
    "\n",
    "var z = Array.from(Int(9,2));\n",
    "var arr = [3, 5, 7];\n",
    "//for (var x of Int(10,2) ) { console.log('loop',x);}\n",
    "var N = 100000000\n",
    "timeOf(()=>{ var sum = 0; for (var x of Int(N) ) {sum += x; } return sum; });\n",
    "timeOf(()=>{ var sum = 0; for (var i=0; i<N; i++) {sum += x; } return sum; });\n"
   ]
  }
 ],
 "metadata": {
  "kernelspec": {
   "display_name": "Javascript (Node.js)",
   "language": "javascript",
   "name": "javascript"
  },
  "language_info": {
   "file_extension": ".js",
   "mimetype": "application/javascript",
   "name": "javascript",
   "version": "12.13.0"
  }
 },
 "nbformat": 4,
 "nbformat_minor": 2
}
