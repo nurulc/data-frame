{
 "cells": [
  {
   "cell_type": "markdown",
   "metadata": {},
   "source": [
    "# DataFrame\n",
    "\n",
    "## Introduction\n",
    "\n"
   ]
  },
  {
   "cell_type": "markdown",
   "metadata": {},
   "source": [
    "# Import some helper codes\n",
    "\n",
    "* fs - file systems utitlities (part of nodejs)\n",
    "* -init.js _is a bunch of helper code_"
   ]
  },
  {
   "cell_type": "code",
   "execution_count": 1,
   "metadata": {
    "scrolled": true
   },
   "outputs": [
    {
     "data": {
      "text/plain": [
       "'LOADED'"
      ]
     },
     "execution_count": 1,
     "metadata": {},
     "output_type": "execute_result"
    }
   ],
   "source": [
    "var fs = require('fs');\n",
    "var request = require('request');\n",
    "var _init = fs.readFileSync('init.js').toString();\n",
    "eval(_init);\n",
    "var {frameWithIndex} = DataFrame;\n",
    "//setupD3();\n",
    "//var fr = require(\"../lib\")"
   ]
  },
  {
   "cell_type": "code",
   "execution_count": null,
   "metadata": {},
   "outputs": [],
   "source": [
    "DataFrame.frameWithIndex"
   ]
  },
  {
   "cell_type": "markdown",
   "metadata": {},
   "source": [
    "# Read some covid related data"
   ]
  },
  {
   "cell_type": "code",
   "execution_count": 2,
   "metadata": {
    "scrolled": false
   },
   "outputs": [
    {
     "data": {
      "text/plain": [
       "undefined"
      ]
     },
     "execution_count": 2,
     "metadata": {},
     "output_type": "execute_result"
    }
   ],
   "source": [
    "\n",
    "var covid, continents;\n",
    "var WORLD_DATA_SRC ='https://raw.githubusercontent.com/owid/covid-19-data/master/public/data/owid-covid-data.csv';\n",
    "\n",
    "var r = request.get(WORLD_DATA_SRC, function (error, response, body) {\n",
    "    if (!error && response.statusCode == 200) {\n",
    "        var csv = body;\n",
    "        covid = frameFromBuffer(csv.toString(),csvLine);\n",
    "        //frame.data = frame.data.slice(0, frame.length-2)\n",
    "    }\n",
    "});\n",
    "\n",
    "\n",
    "\n"
   ]
  },
  {
   "cell_type": "code",
   "execution_count": null,
   "metadata": {},
   "outputs": [],
   "source": []
  },
  {
   "cell_type": "markdown",
   "metadata": {},
   "source": [
    "# Show a sample of the data\n",
    "\n",
    "Take to first 20"
   ]
  },
  {
   "cell_type": "code",
   "execution_count": 7,
   "metadata": {},
   "outputs": [
    {
     "name": "stdout",
     "output_type": "stream",
     "text": [
      "{\n",
      " \"__data\": [\n",
      "  \"AGO\",\n",
      "  \"Africa\",\n",
      "  \"Angola\",\n",
      "  \"2020-07-19\",\n",
      "  687,\n",
      "  49,\n",
      "  29.143,\n",
      "  29,\n",
      "  0,\n",
      "  0.571,\n",
      "  20.903,\n",
      "  1.491,\n",
      "  0.887,\n",
      "  0.882,\n",
      "  0,\n",
      "  0.017,\n",
      "  \"\",\n",
      "  \"\",\n",
      "  \"\",\n",
      "  \"\",\n",
      "  \"\",\n",
      "  \"\",\n",
      "  \"\",\n",
      "  \"\",\n",
      "  \"\",\n",
      "  76.39,\n",
      "  32866268,\n",
      "  23.89,\n",
      "  16.8,\n",
      "  2.405,\n",
      "  1.362,\n",
      "  5819.495,\n",
      "  \"\",\n",
      "  276.045,\n",
      "  3.94,\n",
      "  \"\",\n",
      "  \"\",\n",
      "  26.664,\n",
      "  \"\",\n",
      "  61.15,\n",
      "  0.581\n",
      " ],\n",
      " \"__index$\": 2\n",
      "}\n"
     ]
    },
    {
     "data": {
      "text/plain": [
       "undefined"
      ]
     },
     "execution_count": 7,
     "metadata": {},
     "output_type": "execute_result"
    }
   ],
   "source": [
    "// Display  first 20 rows the data frame just read\n",
    "var x =covid.slice(1000,1010);\n",
    "console.log(JSON.stringify(x.asObj(2),undefined, ' '))"
   ]
  },
  {
   "cell_type": "code",
   "execution_count": 19,
   "metadata": {},
   "outputs": [
    {
     "data": {
      "text/html": [
       "<table class=\"ftable\"><thead><tr><th>Ix</th><th> INDEX</th><th>iso code</th><th>location</th><th>continent</th><th>population</th><th>diabetes prevalence</th><th>gdp per capita</th></tr></thead><tbody><tr><td>0</td><td>0</td><td>ALB</td><td>Albania</td><td>Europe</td><td>2877800</td><td>10.08</td><td>11803.431</td></tr><tr><td>1</td><td>1</td><td>AND</td><td>Andorra</td><td>Europe</td><td>77265</td><td>7.97</td><td></td></tr><tr><td>2</td><td>2</td><td>AUT</td><td>Austria</td><td>Europe</td><td>9006400</td><td>6.35</td><td>45436.686</td></tr><tr><td>3</td><td>3</td><td>BEL</td><td>Belgium</td><td>Europe</td><td>11589616</td><td>4.29</td><td>42658.576</td></tr><tr><td>4</td><td>4</td><td>BGR</td><td>Bulgaria</td><td>Europe</td><td>6948445</td><td>5.81</td><td>18563.307</td></tr></tbody></table>"
      ],
      "text/plain": [
       "Frame {\n",
       "  keyFunc: [Function: _getKey],\n",
       "  data: [\n",
       "    [\n",
       "      0,         'ALB',\n",
       "      'Albania', 'Europe',\n",
       "      2877800,   10.08,\n",
       "      11803.431\n",
       "    ],\n",
       "    [ 1, 'AND', 'Andorra', 'Europe', 77265, 7.97, '' ],\n",
       "    [\n",
       "      2,         'AUT',\n",
       "      'Austria', 'Europe',\n",
       "      9006400,   6.35,\n",
       "      45436.686\n",
       "    ],\n",
       "    [\n",
       "      3,         'BEL',\n",
       "      'Belgium', 'Europe',\n",
       "      11589616,  4.29,\n",
       "      42658.576\n",
       "    ],\n",
       "    [ 4, 'BGR', 'Bulgaria', 'Europe', 6948445, 5.81, 18563.307 ]\n",
       "  ],\n",
       "  _columns: [\n",
       "    '_INDEX',\n",
       "    'iso_code',\n",
       "    'location',\n",
       "    'continent',\n",
       "    'population',\n",
       "    'diabetes_prevalence',\n",
       "    'gdp_per_capita'\n",
       "  ],\n",
       "  _name: 'framegrouped',\n",
       "  _unique: undefined,\n",
       "  _sortCols: [],\n",
       "  _row: undefined,\n",
       "  AccessClass: [Function],\n",
       "  showLen: 400,\n",
       "  _hash: -1\n",
       "}"
      ]
     },
     "execution_count": 19,
     "metadata": {},
     "output_type": "execute_result"
    }
   ],
   "source": [
    "var y =covid.select(['iso_code', 'location', 'continent', \n",
    "              'population', 'diabetes_prevalence',\n",
    "              'gdp_per_capita'\n",
    "             ],ro => ro.continent === 'Europe').distinct();\n",
    "frameWithIndex(y).filter(ro => ro.__index$ < 5) "
   ]
  },
  {
   "cell_type": "markdown",
   "metadata": {},
   "source": [
    "# print the number of rows and columns names"
   ]
  },
  {
   "cell_type": "code",
   "execution_count": null,
   "metadata": {},
   "outputs": [],
   "source": [
    "({ rows: covid.length, columns: covid.columns})\n",
    "function isFunc(f) { return typeof f === 'function'; }"
   ]
  },
  {
   "cell_type": "code",
   "execution_count": null,
   "metadata": {},
   "outputs": [],
   "source": []
  },
  {
   "cell_type": "markdown",
   "metadata": {},
   "source": [
    "## Keep only the columns we are interesed in"
   ]
  },
  {
   "cell_type": "code",
   "execution_count": null,
   "metadata": {
    "scrolled": true
   },
   "outputs": [],
   "source": [
    "function UPPER(x) { return x.toUpperCase(); }\n",
    "console.log(typeof UPPER)\n",
    "function asNum(x) {\n",
    "    if(!x) return 0;\n",
    "    return +x;\n",
    "}\n",
    "//covid = covid.convertData();\n",
    "var frame = covid.select([\n",
    "  ['iso_code', x => x || '---'],\n",
    "  'continent',\n",
    "  ['location=country', UPPER], // rename location to country\n",
    "  'date',\n",
    "  'total_cases',\n",
    "  'new_cases',\n",
    "  'total_deaths',\n",
    "  'new_deaths',\n",
    "  'new_tests',\n",
    "  'total_tests',\n",
    "  'positive_rate',\n",
    "  'population',\n",
    "  ['dummy', (x,ro,ix) => ix+1]\n",
    "], (ro)=> ro.total_cases > 10  );\n",
    "\n",
    "// show first 20\n",
    "frame.groupBy(['iso_code','country', gb.max('total_cases')])\n",
    "    .groupBy(['iso_code', gb.count('iso_code', 'count')]).sort(['count']) \n",
    "    //.filter(ro => ro.total_cases < 100)"
   ]
  },
  {
   "cell_type": "code",
   "execution_count": null,
   "metadata": {
    "scrolled": false
   },
   "outputs": [],
   "source": [
    "var x = covid.slice(100, 110);\n",
    "x"
   ]
  },
  {
   "cell_type": "markdown",
   "metadata": {},
   "source": [
    "## Sample 1% (0.001) of the data and show the first 20"
   ]
  },
  {
   "cell_type": "code",
   "execution_count": null,
   "metadata": {
    "collapsed": true,
    "scrolled": false
   },
   "outputs": [],
   "source": [
    "frame.filter(()=> Math.random() < 0.01 ) // take random 1% of data\n",
    "    .slice(0,20)                          // take the first 20 \n",
    "    .sort(['continent', 'country'])      // sort by contiment and country"
   ]
  },
  {
   "cell_type": "code",
   "execution_count": null,
   "metadata": {
    "collapsed": true
   },
   "outputs": [],
   "source": [
    "// Since all data is stored as strings\n",
    "// The round function will conver it to a numeric round the value\n",
    "// convert back to a string\n",
    "\n",
    "\n",
    "function round(v) {\n",
    "    var r = +v;\n",
    "    if(isNaN(r)) return '0';\n",
    "    return Math.round(r).toString();\n",
    "}\n",
    "round('abc')"
   ]
  },
  {
   "cell_type": "code",
   "execution_count": null,
   "metadata": {
    "collapsed": true
   },
   "outputs": [],
   "source": [
    "frameNumericColumns(frame)"
   ]
  },
  {
   "cell_type": "code",
   "execution_count": null,
   "metadata": {
    "collapsed": true
   },
   "outputs": [],
   "source": [
    "\n",
    "var ALL_COLUMNS = null;\n",
    "function forceZero(v) { return round(v || '0')}\n",
    "var TO_ZERO = Object.fromEntries(arrProd(frameNumericColumns(frame),forceZero));\n",
    "frame = frame.update(TO_ZERO)\n",
    "frame"
   ]
  },
  {
   "cell_type": "markdown",
   "metadata": {},
   "source": [
    "## Print the number rows and max total_cases by country"
   ]
  },
  {
   "cell_type": "code",
   "execution_count": null,
   "metadata": {
    "collapsed": true,
    "scrolled": false
   },
   "outputs": [],
   "source": [
    "\n",
    "\n",
    "var round_some_columns =  { \n",
    "    total_cases: round, \n",
    "    max_new_cases_in_a_day: round,\n",
    "    avg_new_cases_in_a_day: round\n",
    "};\n",
    "\n",
    "frame.groupBy(['continent','country', // columns to group on\n",
    "               gb.count('date', 'rows'), // count the number of values in the date column after grouping\n",
    "               gb.max('total_cases'), // get the max value in the total_cases column for the group \n",
    "               gb.max('new_cases', 'max_new_cases_in_a_day'), // get the max value in the total_cases \n",
    "                                                             // column for the group and give it the name 'max_new_cases_in_a_day \n",
    "               gb.mean('new_cases', 'avg_new_cases_in_a_day') // get the average value for new cases\n",
    "              ])\n",
    "    .update( {...round_some_columns, avg_new_cases_in_a_day: (v,ro) => round(ro.total_cases/ro.rows)} )\n",
    "    .sort(['-rows', '-continent','-total_cases']) // rows, continent and total_cases is sorted in descending order: "
   ]
  },
  {
   "cell_type": "code",
   "execution_count": null,
   "metadata": {
    "collapsed": true
   },
   "outputs": [],
   "source": [
    "console.log(22/161.0);\n",
    "frame//.filter(r => r.country === \"Laos\")\n",
    "    .groupBy(['continent','country', // columns to group on\n",
    "               gb.count('date', 'rows'), // count the number of values in the date column after grouping\n",
    "               gb.max('total_cases'), // get the max value in the total_cases column for the group \n",
    "               gb.max('new_cases', 'max_new_cases_in_a_day'), // get the max value in the total_cases \n",
    "                                                             // column for the group and give it the name 'max_new_cases_in_a_day \n",
    "               gb.mean('new_cases', 'avg_new_cases_in_a_day'), // get the average value for new cases\n",
    "               gb.sum('new_cases', 'total_new_cases') // get the average value for new cases\n",
    "             ])\n"
   ]
  },
  {
   "cell_type": "code",
   "execution_count": null,
   "metadata": {
    "collapsed": true
   },
   "outputs": [],
   "source": [
    "var CONTINENTS = \"https://pkgstore.datahub.io/JohnSnowLabs/country-and-continent-codes-list/country-and-continent-codes-list-csv_csv/data/b7876b7f496677669644f3d1069d3121/country-and-continent-codes-list-csv_csv.csv\"\n",
    "\n",
    "request.get(CONTINENTS, function (error, response, body) {\n",
    "    if (!error && response.statusCode == 200) {\n",
    "        var csv = body;\n",
    "        continents = frameFromBuffer(csv.toString(),'',csvLine);\n",
    "        //frame.data = frame.data.slice(0, frame.length-2)\n",
    "    }\n",
    "});\n"
   ]
  },
  {
   "cell_type": "code",
   "execution_count": null,
   "metadata": {
    "collapsed": true
   },
   "outputs": [],
   "source": [
    "continents"
   ]
  },
  {
   "cell_type": "code",
   "execution_count": null,
   "metadata": {
    "collapsed": true
   },
   "outputs": [],
   "source": [
    "var contMap = {\n",
    "  Brunei: 'Asia',\n",
    "  Curacao: 'North America',\n",
    "  'Democratic Republic of Congo': 'Africa',\n",
    "  'Faeroe Islands': 'Europe',\n",
    "  International: 'Asia',\n",
    "  Palestine: 'Asia',\n",
    "  Russia: 'Europe',\n",
    "  'Saint Barthlemy': 'North America',\n",
    "  'Saint Martin (French part)': 'North America',\n",
    "  'South Korea': 'Asia',\n",
    "  'United Kingdom': 'Europe',\n",
    "  'United States': 'North America',\n",
    "  Vatican: 'Europe',\n",
    "  World: 'World'\n",
    "};"
   ]
  },
  {
   "cell_type": "code",
   "execution_count": null,
   "metadata": {
    "collapsed": true
   },
   "outputs": [],
   "source": [
    "var code = fs.readFileSync('../../nurulc.github.io/javascripts/barChart.js').toString();\n",
    "console.log(code);\n",
    "var pre= ('<script>'+code+'</script><div id=\"aaa\">AAA</div>');\n",
    "//console.log(code)\n",
    "function showC(aFrame) {\n",
    "    let id = genID();\n",
    "    let s =  JSON.stringify(aFrame);\n",
    "    console.log(s)\n",
    "    $$.html(`${pre}<div id=\"${id}\">aaa</div><script>\n",
    "    frameBarChart(${s}, \"${id}\",{\n",
    "    width: 800, height: 600, key: \"continent\", value: \"total_cases\"\n",
    "     })\n",
    "    </script>`)\n",
    "}\n",
    "showC(disp);\n"
   ]
  },
  {
   "cell_type": "code",
   "execution_count": null,
   "metadata": {
    "collapsed": true
   },
   "outputs": [],
   "source": [
    "var aFrame = disp\n",
    "var numerics = frameNumericColumns(aFrame);\n",
    "var nonNums = arrRemove(aFrame.columns, numerics);\n",
    "var key = nonNums[0];\n",
    "var value = numerics[0];\n",
    "({numerics, nonNums, key, value})"
   ]
  },
  {
   "cell_type": "code",
   "execution_count": null,
   "metadata": {
    "scrolled": true
   },
   "outputs": [],
   "source": [
    "frameChart(disp, {\n",
    "    key: 'continent', title: \"Coronavirus infections\", \n",
    "    width: 850, axisX: 'Continents', axisY:\"Infections\"})\n",
    ")"
   ]
  },
  {
   "cell_type": "code",
   "execution_count": null,
   "metadata": {
    "collapsed": true,
    "scrolled": true
   },
   "outputs": [],
   "source": [
    "var _init = fs.readFileSync('init.js').toString();\n",
    "eval(_init);\n",
    "setupD3();"
   ]
  },
  {
   "cell_type": "code",
   "execution_count": null,
   "metadata": {
    "scrolled": true
   },
   "outputs": [],
   "source": [
    "frameBarChart(disp, {\n",
    "     title: \"Coronavirus infections\",  axisX: 'Continents', axisY:\"Infections\", isLog: false})"
   ]
  },
  {
   "cell_type": "code",
   "execution_count": null,
   "metadata": {
    "collapsed": true
   },
   "outputs": [],
   "source": [
    "continents.columns"
   ]
  },
  {
   "cell_type": "code",
   "execution_count": null,
   "metadata": {
    "collapsed": true
   },
   "outputs": [],
   "source": [
    "var WORLD_DATA_SRC = \"https://www.ecdc.europa.eu/sites/default/files/documents/COVID-19-geographic-disbtribution-worldwide.csv\"  ;\n",
    "var frame, continents;\n",
    "var CONTINENTS = \"https://pkgstore.datahub.io/JohnSnowLabs/country-and-continent-codes-list/country-and-continent-codes-list-csv_csv/data/b7876b7f496677669644f3d1069d3121/country-and-continent-codes-list-csv_csv.csv\"\n",
    "function getData(src,result,ix)\n",
    "    request.get(src, function (error, response, body) {\n",
    "        if (!error && response.statusCode == 200) {\n",
    "            var csv = body;\n",
    "            result[ix] = frameFromBuffer(csv.toString(),'',csvLine);\n",
    "            //frame.data = frame.data.slice(0, frame.length-2)\n",
    "        }\n",
    "    });\n",
    "}\n",
    "var result = [null,null]\n",
    "getData(WORLD_DATA_SRC,result,0);\n",
    "getData(CONTINENTS,result,1);"
   ]
  },
  {
   "cell_type": "code",
   "execution_count": null,
   "metadata": {
    "collapsed": true
   },
   "outputs": [],
   "source": [
    "function organizeData(frame, continents) {\n",
    "        const ZERO = () => '0';\n",
    "        const DATE = colName => r => r[colName].replace(/(\\d\\d)\\/(\\d\\d)\\/(\\d\\d\\d\\d)/,\"$3-$2-$1\");\n",
    "        const Country_Name =  l => l === 'CANADA'?'Canada': l;\n",
    "        const others = new Frame(\n",
    "                    [\n",
    "                      [\n",
    "                        'Asia',\n",
    "                        'Cases on an international conveyance Japan',\n",
    "                        'JPG11668'\n",
    "                      ],\n",
    "                      [ 'Ocenia', 'French Polynesia', 'PYF' ],\n",
    "                      [ 'Europe', 'Greece', 'EL' ],\n",
    "                      [ 'Europe', 'Kosovo', 'XK' ],\n",
    "                      [ 'Europe', 'United Kingdom', 'UK' ]\n",
    "                    ],\n",
    "                    ['Continent_Name', 'Country_Name', 'Two_Letter_Country_Code' ]);\n",
    "  \n",
    "        let conts = continents.groupBy(['Continent_Name', 'Country_Name', 'Two_Letter_Country_Code' ])\n",
    "                              .concat(others)\n",
    "                              .groupBy(['Country_Name', 'Two_Letter_Country_Code', \n",
    "                                         gb.min('Continent_Name', 'continent')]);\n",
    "       \n",
    "        function toNum(v) {\n",
    "          const nv = +v;\n",
    "          if (isNaN(nv)) {\n",
    "            return 0;\n",
    "          }\n",
    "          return nv;\n",
    "        }\n",
    "\n",
    "        function accum(group, name) {\n",
    "            let accum = 0, groupName=undefined;\n",
    "            return (r => {\n",
    "                if(r[group] !== groupName) {\n",
    "                    accum = 0;\n",
    "                    groupName = r[group]\n",
    "                }\n",
    "                let val = toNum(r[name]);\n",
    "                return (accum += val);\n",
    "            })\n",
    "        } \n",
    "//         let conts = continents.groupBy(['Country_Name', 'Two_Letter_Country_Code', gb.min('Continent_Name', 'continent')]);\n",
    "//        console.log(conts.columns)\n",
    "        return frame.project(undefined, {\"Countries and territories\": Country_Name}).sort(['Countries and territories', 'Year', 'Month', 'Day'])\n",
    "            .project([\n",
    "                  'DateRep=date', 'Cases=new_cases',\n",
    "                  'Deaths=new_deaths', 'Countries and territories=location',\n",
    "                  'GeoId', 'total_cases', 'total_deaths'\n",
    "                ], \n",
    "                {total_cases: accum('GeoId', 'Cases'), \n",
    "                 total_deaths: accum('GeoId', 'Deaths'),\n",
    "                 date: DATE('DateRep'),\n",
    "                 location: r => r['Countries and territories'].replace(/_/g, ' ')\n",
    "                }, \n",
    "                true\n",
    "            ).leftJoin(conts, ['continent', 'location', 'date', 'new_cases' ,\n",
    "                        'new_deaths', 'total_cases', 'total_deaths', 'GeoId=tlc'\n",
    "                       ], 'GeoId==Two_Letter_Country_Code')\n",
    "            \n",
    "}\n",
    "organizeData(frame,continents)\n",
    "    //.groupBy(['continent', 'location', 'tlc'])\n",
    "    .filter(r => r.location === 'CANADA' || r.location === 'Canada')\n",
    "//'03/03/2020'.replace(/(\\d\\d)\\/(\\d\\d)\\/(\\d\\d\\d\\d)/,\"$3-$2-$1\");\n",
    "//'03/03/2020'.match(/(\\d\\d)\\/(\\d\\d)\\/(\\d\\d\\d\\d)/)\n",
    "\n",
    "//organizeData(frame,continents).groupBy(['continent', 'location', 'tlc']).filter(r => !r.continent).data"
   ]
  },
  {
   "cell_type": "code",
   "execution_count": null,
   "metadata": {
    "collapsed": true
   },
   "outputs": [],
   "source": [
    "frame.sort(['GeoId', 'Year', 'Month', 'Day'])\n",
    "     .groupBy(['Countries and territories', 'GeoId', \n",
    "               gb.sum('Cases'), gb.sum('Deaths')])\n",
    "     .project(['Countries and territories=Location', 'GeoId', 'Cases', 'Deaths'])\n",
    "     \n",
    "                                                       "
   ]
  },
  {
   "cell_type": "code",
   "execution_count": null,
   "metadata": {
    "collapsed": true
   },
   "outputs": [],
   "source": [
    "cont"
   ]
  },
  {
   "cell_type": "code",
   "execution_count": null,
   "metadata": {
    "collapsed": true,
    "scrolled": true
   },
   "outputs": [],
   "source": [
    "frameBarChart(disp, {\n",
    "     title: \"Coronavirus deaths\",  value: 'total_deaths', axisX: 'Continents', axisY:\"Deaths\", isLog: false})"
   ]
  },
  {
   "cell_type": "code",
   "execution_count": null,
   "metadata": {
    "collapsed": true
   },
   "outputs": [],
   "source": [
    "frameNumericColumns(disp);\n"
   ]
  },
  {
   "cell_type": "code",
   "execution_count": null,
   "metadata": {
    "collapsed": true
   },
   "outputs": [],
   "source": [
    "//var {Frame, frameFromBuffer, csvLine, tsvLine, gb} = exports;\n",
    "frame.groupBy(['country',gb.count('date','count'), \n",
    "               gb.max('total_cases'), \n",
    "               gb.max('total_deaths')]\n",
    "             ).sort(['-total_cases'])\n"
   ]
  },
  {
   "cell_type": "code",
   "execution_count": null,
   "metadata": {
    "collapsed": true
   },
   "outputs": [],
   "source": [
    "var s = readZipData('../data/reference/all_icd10_codes.tsv.gz').toString('utf8');\n",
    "var {Frame, frameFromBuffer, tsvLine} = exports;\n",
    "var frame = frameFromBuffer(s,'',tsvLine);\n",
    "//frame\n",
    "frame.groupBy(['TYPE'])"
   ]
  },
  {
   "cell_type": "code",
   "execution_count": null,
   "metadata": {
    "collapsed": true
   },
   "outputs": [],
   "source": [
    "var ff = require('../lib');\n",
    "//var Frame = ff.Frame;"
   ]
  },
  {
   "cell_type": "code",
   "execution_count": null,
   "metadata": {
    "collapsed": true
   },
   "outputs": [],
   "source": [
    "function doN(n, fn) {\n",
    "    return () =>{\n",
    "        var res;\n",
    "        for(let i=0;i<n; i++) { res = fn(res); }\n",
    "        return res;\n",
    "    }\n",
    "}"
   ]
  },
  {
   "cell_type": "code",
   "execution_count": null,
   "metadata": {
    "collapsed": true,
    "scrolled": false
   },
   "outputs": [],
   "source": [
    "var ICD10 = readZipFrame('../data/reference/all_icd10_codes.tsv.gz');\n",
    "var A = r => r.ICD10[0] === 'A';\n",
    "ICD10.slice(0,20);"
   ]
  },
  {
   "cell_type": "code",
   "execution_count": null,
   "metadata": {
    "collapsed": true
   },
   "outputs": [],
   "source": [
    " var _ = timeOf(doN(1, () => ICD10.data.filter(r => r[0][0] === 'A' )));\n"
   ]
  },
  {
   "cell_type": "code",
   "execution_count": null,
   "metadata": {
    "collapsed": true,
    "scrolled": true
   },
   "outputs": [],
   "source": [
    "function filter(fr,fn) {\n",
    "    let data = fr.data;\n",
    "    let res = [];\n",
    "    for(let i=0; i<data.length; i++) {\n",
    "        let d = data[i];\n",
    "        if(fn(d,i)) res.push(d);\n",
    "    }\n",
    "    return res;\n",
    "}\n",
    "var _ = timeOf(doN(1, () => filter(ICD10,r => r[0][0] === 'A' )));\n",
    "\n",
    "\n",
    "ICD10.groupBy(['TYPE'])"
   ]
  },
  {
   "cell_type": "code",
   "execution_count": null,
   "metadata": {
    "collapsed": true
   },
   "outputs": [],
   "source": [
    "var exp = require('../dist/bundle');\n",
    "exp"
   ]
  },
  {
   "cell_type": "code",
   "execution_count": null,
   "metadata": {
    "collapsed": true
   },
   "outputs": [],
   "source": [
    "function getAllMethods(obj) {\n",
    "    let props = []\n",
    "\n",
    "    do {\n",
    "        const l = Object.getOwnPropertyNames(obj)\n",
    "            .concat(Object.getOwnPropertySymbols(obj).map(s => s.toString()))\n",
    "            .sort()\n",
    "            .filter((p, i, arr) =>\n",
    "                typeof obj[p] === 'function' &&  //only the methods\n",
    "                p !== 'constructor' &&           //not the constructor\n",
    "                (i == 0 || p !== arr[i - 1]) &&  //not overriding in this prototype\n",
    "                props.indexOf(p) === -1          //not overridden in a child\n",
    "            )\n",
    "        props = props.concat(l)\n",
    "    }\n",
    "    while (\n",
    "        (obj = Object.getPrototypeOf(obj)) &&   //walk-up the prototype chain\n",
    "        Object.getPrototypeOf(obj)              //not the the Object prototype methods (hasOwnProperty, etc...)\n",
    "    )\n",
    "\n",
    "    return props\n",
    "}\n",
    "getAllMethods( new exp.Frame());\n"
   ]
  },
  {
   "cell_type": "code",
   "execution_count": null,
   "metadata": {
    "collapsed": true
   },
   "outputs": [],
   "source": [
    "var exp = require('../lib');\n",
    "function PICK(name,...args) {\n",
    "    return o => o[name](...args);\n",
    "}\n",
    "Object.keys(exp).filter(s => s.match(/__(.*)__/))\n",
    "    .map(s => s.replace(/__(.*)__/, \"$1\"))\n",
    "    .map(PICK('toLowerCase')).map(n => require('../lib/'+n));\n"
   ]
  },
  {
   "cell_type": "code",
   "execution_count": null,
   "metadata": {
    "collapsed": true
   },
   "outputs": [],
   "source": [
    "var CNT = 1\n",
    "var myData = timeOf(doN(CNT, () =>ICD10.filter(r => !r.ICD10.match(/^A/) ).project(['ICD10'])))\n",
    "var __ =   timeOf(doN(CNT, () =>ICD10.filter(r => !r.ICD10.startsWith('A') ).project(['ICD10'])))\n",
    "var ___ =  timeOf(doN(CNT, () =>ICD10.filter(NOT(A)).project(['ICD10'])))\n",
    "\n",
    "\n",
    "__"
   ]
  },
  {
   "cell_type": "code",
   "execution_count": null,
   "metadata": {
    "collapsed": true
   },
   "outputs": [],
   "source": [
    "var getMethods = (obj) => Object.getOwnPropertyNames(obj).filter(item => typeof obj[item] === 'function')\n",
    "CNT=1;\n",
    "console.log('len', ICD10.length)\n",
    "var x =timeOf(doN(CNT,() => ICD10.innerJoin(myData, [...ICD10.columns.map(x => '1.'+x)], 'ICD10')))//.slice(10,20)\n",
    "timeOf(() =>ICD10.project([\"T\", 'TYPE', 'ICD10'], {T: r => r.ICD10[0] },true)\n",
    "    .groupBy(['T', 'TYPE', gb.count('ICD10', 'CNT')])\n",
    "    .sort(['-CNT']));\n",
    "//gb"
   ]
  },
  {
   "cell_type": "code",
   "execution_count": null,
   "metadata": {
    "collapsed": true,
    "scrolled": true
   },
   "outputs": [],
   "source": [
    "function renameColumns(frame,map) {\n",
    "\treturn frame.columns.map(c => map[c]?map[c]:c);\n",
    "\n",
    "}\n",
    "\n"
   ]
  },
  {
   "cell_type": "code",
   "execution_count": null,
   "metadata": {
    "collapsed": true,
    "scrolled": true
   },
   "outputs": [],
   "source": [
    "var NAMES = new Frame([['PCS', \"Procedure\"], ['CM', \"Diagnostic\"],[\"???\", \"Unknown\"]], [\"TYPE\", \"DESC\"], \"ICD-TYPE\");\n",
    "var VALUES = new Frame([['PCS', \"Institution\"], ['CM', \"Any\"],[\"UNK\", \"Unknown\"]], [\"TYPE\", \"LOC\"], \"ICD-TYPE\");\n",
    "\n",
    "\n",
    "\n",
    "VALUES"
   ]
  },
  {
   "cell_type": "code",
   "execution_count": null,
   "metadata": {
    "collapsed": true
   },
   "outputs": [],
   "source": [
    "NAMES"
   ]
  },
  {
   "cell_type": "code",
   "execution_count": null,
   "metadata": {
    "collapsed": true
   },
   "outputs": [],
   "source": [
    "NAMES.leftJoin(ICD10, renameColumns(ICD10, {TYPE: '1.DESC=TYPE'}), \"TYPE\")\n",
    "      .groupBy(['TYPE', gb.count('TYPE','CNT')])//.groupBy([gb.min('CNT')])"
   ]
  },
  {
   "cell_type": "code",
   "execution_count": null,
   "metadata": {
    "collapsed": true
   },
   "outputs": [],
   "source": [
    "NAMES.leftJoin(VALUES, \"1.TYPE,DESC,LOC\".split(','), 'TYPE')"
   ]
  },
  {
   "cell_type": "code",
   "execution_count": null,
   "metadata": {
    "collapsed": true
   },
   "outputs": [],
   "source": [
    "NAMES.outerJoin(VALUES, \"1.TYPE,DESC,LOC\".split(','), 'TYPE').sort([\"DESC\", \"TYPE\"])"
   ]
  },
  {
   "cell_type": "code",
   "execution_count": null,
   "metadata": {
    "collapsed": true,
    "scrolled": true
   },
   "outputs": [],
   "source": [
    "NAMES.innerJoin(ICD10, renameColumns(ICD10, {TYPE: '1.DESC'}), \"TYPE\")"
   ]
  },
  {
   "cell_type": "code",
   "execution_count": null,
   "metadata": {
    "collapsed": true
   },
   "outputs": [],
   "source": [
    "NAMES.outerJoin(ICD10, renameColumns(ICD10, {TYPE: '1.DESC'}), \"TYPE\")"
   ]
  },
  {
   "cell_type": "code",
   "execution_count": null,
   "metadata": {
    "collapsed": true,
    "scrolled": true
   },
   "outputs": [],
   "source": []
  },
  {
   "cell_type": "code",
   "execution_count": null,
   "metadata": {
    "collapsed": true
   },
   "outputs": [],
   "source": [
    "//var {Frame} = require('../dist/bundle.js');"
   ]
  },
  {
   "cell_type": "code",
   "execution_count": null,
   "metadata": {
    "collapsed": true,
    "scrolled": false
   },
   "outputs": [],
   "source": [
    "var C = class {\n",
    "    constructor(a) {\n",
    "        this.value = a;\n",
    "    }\n",
    "    \n",
    "    \n",
    "};\n",
    "\n",
    "var c = new C(1);\n",
    "new c.constructor(2);\n",
    "function timeOf(fn) {\n",
    "  const name = 'func';\n",
    "  const t0 = new Date().getTime();\n",
    "\n",
    "  const res = fn();\n",
    "\n",
    "  const t1 = new Date().getTime();\n",
    "  console.log(`Call to ${name} took ${t1 - t0} milliseconds.`);\n",
    "  return res;\n",
    "}"
   ]
  },
  {
   "cell_type": "code",
   "execution_count": null,
   "metadata": {
    "collapsed": true
   },
   "outputs": [],
   "source": [
    "var la = require('../lib/array')"
   ]
  },
  {
   "cell_type": "code",
   "execution_count": null,
   "metadata": {
    "collapsed": true,
    "scrolled": true
   },
   "outputs": [],
   "source": [
    "function test(n) {\n",
    "    var a = la.newArray(n);\n",
    "    for(let i=0; i<n; i++) a[i] = i;\n",
    "    return a;\n",
    "}\n",
    "\n",
    "function test0(n) {\n",
    "    var a = new Int32Array(n);\n",
    "    for(let i=0; i<n; i++) a[i] = i;\n",
    "    return a;\n",
    "}\n",
    "\n",
    "function test2(n) {\n",
    "    var a = [];\n",
    "    for(let i=0; i<n; i++) a.push(i);\n",
    "    return a;\n",
    "}\n",
    "\n",
    "function timeOf(fn) {\n",
    "  const name = 'func';\n",
    "  const t0 = new Date().getTime();\n",
    "\n",
    "  const res = fn();\n",
    "\n",
    "  const t1 = new Date().getTime();\n",
    "  console.log(`Call to ${name} took ${t1 - t0} milliseconds.`);\n",
    "  return res;\n",
    "}\n",
    "\n",
    "[timeOf(() => la.arrSum(test(10000000))),\n",
    "timeOf(() => la.arrSum(test0(10000000)))];\n",
    "var a = test0(10000000);\n",
    "var b = test2(10000000);\n"
   ]
  },
  {
   "cell_type": "code",
   "execution_count": null,
   "metadata": {
    "collapsed": true
   },
   "outputs": [],
   "source": [
    "[timeOf(() => {for(i=0; i<100; i++)la.arrSum(b)}),\n",
    "timeOf(() => {for(i=0; i<100; i++)la.arrSum(a)})]"
   ]
  },
  {
   "cell_type": "code",
   "execution_count": null,
   "metadata": {
    "collapsed": true
   },
   "outputs": [],
   "source": [
    "//var {Frame} = require('../lib/frame')"
   ]
  },
  {
   "cell_type": "code",
   "execution_count": null,
   "metadata": {
    "collapsed": true
   },
   "outputs": [],
   "source": [
    "var f = new Frame( [[1,2],[3,4]],['a','b'],'test');\n",
    "ArrayBuffer.isView(new Int32Array(10))"
   ]
  },
  {
   "cell_type": "code",
   "execution_count": null,
   "metadata": {
    "collapsed": true,
    "scrolled": true
   },
   "outputs": [],
   "source": [
    "f.sort(['-b'])"
   ]
  },
  {
   "cell_type": "code",
   "execution_count": null,
   "metadata": {
    "collapsed": true,
    "scrolled": true
   },
   "outputs": [],
   "source": [
    "fs.readdirSync('../data/reference');\n",
    "var ICD9 = readZipFrame('../data/reference/all_icd10_codes.tsv.gz');\n",
    "var HCPCS = readZipFrame('../data/reference/hcpcs.tsv.gz')\n",
    "HCPCS"
   ]
  },
  {
   "cell_type": "code",
   "execution_count": null,
   "metadata": {
    "collapsed": true
   },
   "outputs": [],
   "source": [
    "HCPCS = HCPCS.project(['TYPE', ...HCPCS.columns], {TYPE: r => r.CODE.substr(0,2)},true);\n",
    "HCPCS.groupBy(['TYPE', gb.count('TYPE', 'COUNT')]).sort(['-COUNT'])"
   ]
  },
  {
   "cell_type": "code",
   "execution_count": null,
   "metadata": {
    "collapsed": true
   },
   "outputs": [],
   "source": [
    "HCPCS.filter(r => r.TYPE === '90').groupBy(['TYPE', gb.count('TYPE', 'COUNT')])\n"
   ]
  },
  {
   "cell_type": "code",
   "execution_count": null,
   "metadata": {
    "collapsed": true
   },
   "outputs": [],
   "source": [
    "$$.html(`<script>\n",
    "console.log(define.toString())\n",
    "</script>`)\n"
   ]
  },
  {
   "cell_type": "code",
   "execution_count": null,
   "metadata": {
    "collapsed": true
   },
   "outputs": [],
   "source": [
    "var CFrame = class {\n",
    "    constructor(data, columns, isColumn=true) {\n",
    "        this.columns = columns;\n",
    "        let len = isColumn? data[0].length : data.length;\n",
    "        this.length = len;\n",
    "        if(!column) {\n",
    "           let rLn = this.columns.length;\n",
    "           let aData = arrayOf(() => new Array(len), rLn);\n",
    "           this.data = aData;\n",
    "           for(let i=0; i<len; i++) {\n",
    "               let row = data[i];\n",
    "               let j = 0;\n",
    "               for(; j< rLn-7; j+= 8) {\n",
    "                   aData[j][i] = row[j];\n",
    "                   aData[j+1][i] = row[j+1];\n",
    "                   aData[j+2][i] = row[j+2];\n",
    "                   aData[j+3][i] = row[j+3];\n",
    "                   aData[j+4][i] = row[j+4];\n",
    "                   aData[j+5][i] = row[j+5];\n",
    "                   aData[j+6][i] = row[j+6];\n",
    "                   aData[j+7][i] = row[j+7];\n",
    "               }\n",
    "               for(; j< rLn-3; j+= 4) {\n",
    "                   aData[j][i] = row[j];\n",
    "                   aData[j+1][i] = row[j+1];\n",
    "                   aData[j+2][i] = row[j+2];\n",
    "                   aData[j+3][i] = row[j+3];\n",
    "               }\n",
    "               for(; j< rLn; j++) {\n",
    "                   aData[j][i] = row[j]\n",
    "               }\n",
    "           }\n",
    "       }\n",
    "    }\n",
    "\n",
    "    /**\n",
    "     * old Column array\n",
    "    _colMapper(mapArray, baseData) {\n",
    "        \n",
    "    }*/\n",
    "}"
   ]
  },
  {
   "cell_type": "markdown",
   "metadata": {},
   "source": [
    "#Adam optimizer"
   ]
  },
  {
   "cell_type": "code",
   "execution_count": null,
   "metadata": {
    "collapsed": true
   },
   "outputs": [],
   "source": []
  },
  {
   "cell_type": "code",
   "execution_count": null,
   "metadata": {
    "collapsed": true
   },
   "outputs": [],
   "source": [
    "var result, result1;\n",
    "var http = require('https');\n",
    "var res = http.get(\"https://raw.githubusercontent.com/cmusam/fortune500/master/csv/fortune500-2017.csv\",\n",
    "         (resp) =>{ \n",
    "  let data = '';\n",
    "\n",
    "  // A chunk of data has been recieved.\n",
    "  resp.on('data', (chunk) => {\n",
    "    data += chunk;\n",
    "  });\n",
    "\n",
    "  // The whole response has been received. Print out the result.\n",
    "  resp.on('end', () => {\n",
    "    result1 = data.replace(/\\r/g, '');\n",
    "    result =  result1 .split('\\n').map(s => s.split(','));\n",
    "  });\n",
    "});\n"
   ]
  },
  {
   "cell_type": "code",
   "execution_count": null,
   "metadata": {
    "collapsed": true
   },
   "outputs": [],
   "source": [
    "var fortune = timeOf(() => new Frame(result.slice(1),result[0],'Fortune')\n",
    "                     .sort([\"-profit ($ millions)\"]))\n",
    "//fortune.filter(r => console.log(r.__data[1]))\n",
    "//fortune.filterRaw(r => r[1] === undefined)\n",
    "fortune"
   ]
  },
  {
   "cell_type": "code",
   "execution_count": null,
   "metadata": {
    "collapsed": true
   },
   "outputs": [],
   "source": [
    "//fortune.filter(r => { console.log(r, r.company[0]); return true; })\n",
    "fortune.filter(r => r.company !== undefined )"
   ]
  },
  {
   "cell_type": "code",
   "execution_count": null,
   "metadata": {
    "collapsed": true
   },
   "outputs": [],
   "source": [
    "var fortune = timeOf(() => ff.frameFromBuffer(result1,'fortune',ff.csvLine).sort([\"-profit ($ millions)\"]))\n",
    "fortune.filter(r => {  var n = r.company;  console.log(r.company); return n.substr(0,1) === 'A'})\n"
   ]
  },
  {
   "cell_type": "code",
   "execution_count": null,
   "metadata": {
    "collapsed": true
   },
   "outputs": [],
   "source": [
    "Object.fromEntries(Object.entries({a:1,b:2,c:3}))"
   ]
  },
  {
   "cell_type": "code",
   "execution_count": null,
   "metadata": {
    "collapsed": true
   },
   "outputs": [],
   "source": [
    "console.log(JSON.stringify({a:'1',b:2, c:new Date()},null,' '))"
   ]
  }
 ],
 "metadata": {
  "kernelspec": {
   "display_name": "Javascript (Node.js)",
   "language": "javascript",
   "name": "javascript"
  },
  "language_info": {
   "file_extension": ".js",
   "mimetype": "application/javascript",
   "name": "javascript",
   "version": "12.13.0"
  }
 },
 "nbformat": 4,
 "nbformat_minor": 2
}
