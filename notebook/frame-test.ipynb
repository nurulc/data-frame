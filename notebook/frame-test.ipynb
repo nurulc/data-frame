{
 "cells": [
  {
   "cell_type": "markdown",
   "metadata": {},
   "source": [
    "# DataFrame\n",
    "\n",
    "## Introduction\n",
    "\n"
   ]
  },
  {
   "cell_type": "markdown",
   "metadata": {},
   "source": [
    "# Import some helper codes\n",
    "\n",
    "* fs - file systems utitlities (part of nodejs)\n",
    "* -init.js _is a bunch of helper code_"
   ]
  },
  {
   "cell_type": "code",
   "execution_count": 1,
   "metadata": {
    "scrolled": true
   },
   "outputs": [
    {
     "data": {
      "text/plain": [
       "'LOADED'"
      ]
     },
     "execution_count": 1,
     "metadata": {},
     "output_type": "execute_result"
    }
   ],
   "source": [
    "var fs = require('fs');\n",
    "var request = require('request');\n",
    "var _init = fs.readFileSync('init.js').toString();\n",
    "eval(_init);\n",
    "//setupD3();\n",
    "//var fr = require(\"../lib\")"
   ]
  },
  {
   "cell_type": "code",
   "execution_count": null,
   "metadata": {
    "collapsed": true
   },
   "outputs": [],
   "source": []
  },
  {
   "cell_type": "markdown",
   "metadata": {},
   "source": [
    "# Read some covid related data"
   ]
  },
  {
   "cell_type": "code",
   "execution_count": 2,
   "metadata": {
    "scrolled": false
   },
   "outputs": [
    {
     "data": {
      "text/plain": [
       "undefined"
      ]
     },
     "execution_count": 2,
     "metadata": {},
     "output_type": "execute_result"
    }
   ],
   "source": [
    "\n",
    "var covid, continents;\n",
    "var WORLD_DATA_SRC ='https://raw.githubusercontent.com/owid/covid-19-data/master/public/data/owid-covid-data.csv';\n",
    "\n",
    "var r = request.get(WORLD_DATA_SRC, function (error, response, body) {\n",
    "    if (!error && response.statusCode == 200) {\n",
    "        var csv = body;\n",
    "        covid = frameFromBuffer(csv.toString(),'',csvLine);\n",
    "        //frame.data = frame.data.slice(0, frame.length-2)\n",
    "    }\n",
    "});\n",
    "\n",
    "\n",
    "\n"
   ]
  },
  {
   "cell_type": "code",
   "execution_count": null,
   "metadata": {},
   "outputs": [],
   "source": []
  },
  {
   "cell_type": "markdown",
   "metadata": {},
   "source": [
    "# Show a sample of the data\n",
    "\n",
    "Take to first 20"
   ]
  },
  {
   "cell_type": "code",
   "execution_count": 13,
   "metadata": {},
   "outputs": [
    {
     "data": {
      "text/html": [
       "<table class=\"ftable\"><thead><tr><th>Ix</th><th>iso code</th><th>continent</th><th>location</th><th>date</th><th>total cases</th><th>new cases</th><th>new cases smoothed</th><th>total deaths</th><th>new deaths</th><th>new deaths smoothed</th><th>total cases per million</th><th>new cases per million</th><th>new cases smoothed per million</th><th>total deaths per million</th><th>new deaths per million</th><th>new deaths smoothed per million</th><th>new tests</th><th>total tests</th><th>total tests per thousand</th><th>new tests per thousand</th><th>new tests smoothed</th><th>new tests smoothed per thousand</th><th>tests per case</th><th>positive rate</th><th>tests units</th><th>stringency index</th><th>population</th><th>population density</th><th>median age</th><th>aged 65 older</th><th>aged 70 older</th><th>gdp per capita</th><th>extreme poverty</th><th>cardiovasc death rate</th><th>diabetes prevalence</th><th>female smokers</th><th>male smokers</th><th>handwashing facilities</th><th>hospital beds per thousand</th><th>life expectancy</th></tr></thead><tbody><tr><td>0</td><td>AGO</td><td>Africa</td><td>Angola</td><td>2020-07-21</td><td>749</td><td>44</td><td>34.714</td><td>29</td><td>0</td><td>0.429</td><td>22.789</td><td>1.339</td><td>1.056</td><td>0.882</td><td>0</td><td>0.013</td><td></td><td></td><td></td><td></td><td></td><td></td><td></td><td></td><td></td><td>76.39</td><td>32866268</td><td>23.89</td><td>16.8</td><td>2.405</td><td>1.362</td><td>5819.495</td><td></td><td>276.045</td><td>3.94</td><td></td><td></td><td>26.664</td><td></td><td>61.15</td></tr><tr><td>1</td><td>AGO</td><td>Africa</td><td>Angola</td><td>2020-07-22</td><td>749</td><td>0</td><td>32</td><td>29</td><td>0</td><td>0.429</td><td>22.789</td><td>0</td><td>0.974</td><td>0.882</td><td>0</td><td>0.013</td><td></td><td></td><td></td><td></td><td></td><td></td><td></td><td></td><td></td><td>76.39</td><td>32866268</td><td>23.89</td><td>16.8</td><td>2.405</td><td>1.362</td><td>5819.495</td><td></td><td>276.045</td><td>3.94</td><td></td><td></td><td>26.664</td><td></td><td>61.15</td></tr><tr><td>2</td><td>AGO</td><td>Africa</td><td>Angola</td><td>2020-07-23</td><td>779</td><td>30</td><td>29</td><td>30</td><td>1</td><td>0.429</td><td>23.702</td><td>0.913</td><td>0.882</td><td>0.913</td><td>0.03</td><td>0.013</td><td></td><td></td><td></td><td></td><td></td><td></td><td></td><td></td><td></td><td>76.39</td><td>32866268</td><td>23.89</td><td>16.8</td><td>2.405</td><td>1.362</td><td>5819.495</td><td></td><td>276.045</td><td>3.94</td><td></td><td></td><td>26.664</td><td></td><td>61.15</td></tr><tr><td>3</td><td>AGO</td><td>Africa</td><td>Angola</td><td>2020-07-24</td><td>812</td><td>33</td><td>29.286</td><td>33</td><td>3</td><td>0.714</td><td>24.706</td><td>1.004</td><td>0.891</td><td>1.004</td><td>0.091</td><td>0.022</td><td></td><td></td><td></td><td></td><td></td><td></td><td></td><td></td><td></td><td>76.39</td><td>32866268</td><td>23.89</td><td>16.8</td><td>2.405</td><td>1.362</td><td>5819.495</td><td></td><td>276.045</td><td>3.94</td><td></td><td></td><td>26.664</td><td></td><td>61.15</td></tr><tr><td>4</td><td>AGO</td><td>Africa</td><td>Angola</td><td>2020-07-25</td><td>851</td><td>39</td><td>30.429</td><td>33</td><td>0</td><td>0.571</td><td>25.893</td><td>1.187</td><td>0.926</td><td>1.004</td><td>0</td><td>0.017</td><td></td><td></td><td></td><td></td><td></td><td></td><td></td><td></td><td></td><td>76.39</td><td>32866268</td><td>23.89</td><td>16.8</td><td>2.405</td><td>1.362</td><td>5819.495</td><td></td><td>276.045</td><td>3.94</td><td></td><td></td><td>26.664</td><td></td><td>61.15</td></tr><tr><td>5</td><td>AGO</td><td>Africa</td><td>Angola</td><td>2020-07-26</td><td>880</td><td>29</td><td>27.571</td><td>35</td><td>2</td><td>0.857</td><td>26.775</td><td>0.882</td><td>0.839</td><td>1.065</td><td>0.061</td><td>0.026</td><td></td><td></td><td></td><td></td><td></td><td></td><td></td><td></td><td></td><td>76.39</td><td>32866268</td><td>23.89</td><td>16.8</td><td>2.405</td><td>1.362</td><td>5819.495</td><td></td><td>276.045</td><td>3.94</td><td></td><td></td><td>26.664</td><td></td><td>61.15</td></tr><tr><td>6</td><td>AGO</td><td>Africa</td><td>Angola</td><td>2020-07-27</td><td>930</td><td>50</td><td>32.143</td><td>40</td><td>5</td><td>1.571</td><td>28.296</td><td>1.521</td><td>0.978</td><td>1.217</td><td>0.152</td><td>0.048</td><td></td><td></td><td></td><td></td><td></td><td></td><td></td><td></td><td></td><td>76.39</td><td>32866268</td><td>23.89</td><td>16.8</td><td>2.405</td><td>1.362</td><td>5819.495</td><td></td><td>276.045</td><td>3.94</td><td></td><td></td><td>26.664</td><td></td><td>61.15</td></tr><tr><td>7</td><td>AGO</td><td>Africa</td><td>Angola</td><td>2020-07-28</td><td>932</td><td>2</td><td>26.143</td><td>40</td><td>0</td><td>1.571</td><td>28.357</td><td>0.061</td><td>0.795</td><td>1.217</td><td>0</td><td>0.048</td><td></td><td></td><td></td><td></td><td></td><td></td><td></td><td></td><td></td><td>76.39</td><td>32866268</td><td>23.89</td><td>16.8</td><td>2.405</td><td>1.362</td><td>5819.495</td><td></td><td>276.045</td><td>3.94</td><td></td><td></td><td>26.664</td><td></td><td>61.15</td></tr><tr><td>8</td><td>AGO</td><td>Africa</td><td>Angola</td><td>2020-07-29</td><td>950</td><td>18</td><td>28.714</td><td>41</td><td>1</td><td>1.714</td><td>28.905</td><td>0.548</td><td>0.874</td><td>1.247</td><td>0.03</td><td>0.052</td><td></td><td></td><td></td><td></td><td></td><td></td><td></td><td></td><td></td><td>76.39</td><td>32866268</td><td>23.89</td><td>16.8</td><td>2.405</td><td>1.362</td><td>5819.495</td><td></td><td>276.045</td><td>3.94</td><td></td><td></td><td>26.664</td><td></td><td>61.15</td></tr><tr><td>9</td><td>AGO</td><td>Africa</td><td>Angola</td><td>2020-07-30</td><td>1000</td><td>50</td><td>31.571</td><td>47</td><td>6</td><td>2.429</td><td>30.426</td><td>1.521</td><td>0.961</td><td>1.43</td><td>0.183</td><td>0.074</td><td></td><td></td><td></td><td></td><td></td><td></td><td></td><td></td><td></td><td>79.17</td><td>32866268</td><td>23.89</td><td>16.8</td><td>2.405</td><td>1.362</td><td>5819.495</td><td></td><td>276.045</td><td>3.94</td><td></td><td></td><td>26.664</td><td></td><td>61.15</td></tr></tbody></table>"
      ],
      "text/plain": [
       "Frame {\n",
       "  keyFunc: [Function: _getKey],\n",
       "  data: [\n",
       "    [\n",
       "      'AGO',        'Africa', 'Angola',\n",
       "      '2020-07-21', 749,      44,\n",
       "      34.714,       29,       0,\n",
       "      0.429,        22.789,   1.339,\n",
       "      1.056,        0.882,    0,\n",
       "      0.013,        '',       '',\n",
       "      '',           '',       '',\n",
       "      '',           '',       '',\n",
       "      '',           76.39,    32866268,\n",
       "      23.89,        16.8,     2.405,\n",
       "      1.362,        5819.495, '',\n",
       "      276.045,      3.94,     '',\n",
       "      '',           26.664,   '',\n",
       "      61.15\n",
       "    ],\n",
       "    [\n",
       "      'AGO', 'Africa', 'Angola', '2020-07-22',\n",
       "      749,   0,        32,       29,\n",
       "      0,     0.429,    22.789,   0,\n",
       "      0.974, 0.882,    0,        0.013,\n",
       "      '',    '',       '',       '',\n",
       "      '',    '',       '',       '',\n",
       "      '',    76.39,    32866268, 23.89,\n",
       "      16.8,  2.405,    1.362,    5819.495,\n",
       "      '',    276.045,  3.94,     '',\n",
       "      '',    26.664,   '',       61.15\n",
       "    ],\n",
       "    [\n",
       "      'AGO',        'Africa', 'Angola',\n",
       "      '2020-07-23', 779,      30,\n",
       "      29,           30,       1,\n",
       "      0.429,        23.702,   0.913,\n",
       "      0.882,        0.913,    0.03,\n",
       "      0.013,        '',       '',\n",
       "      '',           '',       '',\n",
       "      '',           '',       '',\n",
       "      '',           76.39,    32866268,\n",
       "      23.89,        16.8,     2.405,\n",
       "      1.362,        5819.495, '',\n",
       "      276.045,      3.94,     '',\n",
       "      '',           26.664,   '',\n",
       "      61.15\n",
       "    ],\n",
       "    [\n",
       "      'AGO',        'Africa', 'Angola',\n",
       "      '2020-07-24', 812,      33,\n",
       "      29.286,       33,       3,\n",
       "      0.714,        24.706,   1.004,\n",
       "      0.891,        1.004,    0.091,\n",
       "      0.022,        '',       '',\n",
       "      '',           '',       '',\n",
       "      '',           '',       '',\n",
       "      '',           76.39,    32866268,\n",
       "      23.89,        16.8,     2.405,\n",
       "      1.362,        5819.495, '',\n",
       "      276.045,      3.94,     '',\n",
       "      '',           26.664,   '',\n",
       "      61.15\n",
       "    ],\n",
       "    [\n",
       "      'AGO',        'Africa', 'Angola',\n",
       "      '2020-07-25', 851,      39,\n",
       "      30.429,       33,       0,\n",
       "      0.571,        25.893,   1.187,\n",
       "      0.926,        1.004,    0,\n",
       "      0.017,        '',       '',\n",
       "      '',           '',       '',\n",
       "      '',           '',       '',\n",
       "      '',           76.39,    32866268,\n",
       "      23.89,        16.8,     2.405,\n",
       "      1.362,        5819.495, '',\n",
       "      276.045,      3.94,     '',\n",
       "      '',           26.664,   '',\n",
       "      61.15\n",
       "    ],\n",
       "    [\n",
       "      'AGO',        'Africa', 'Angola',\n",
       "      '2020-07-26', 880,      29,\n",
       "      27.571,       35,       2,\n",
       "      0.857,        26.775,   0.882,\n",
       "      0.839,        1.065,    0.061,\n",
       "      0.026,        '',       '',\n",
       "      '',           '',       '',\n",
       "      '',           '',       '',\n",
       "      '',           76.39,    32866268,\n",
       "      23.89,        16.8,     2.405,\n",
       "      1.362,        5819.495, '',\n",
       "      276.045,      3.94,     '',\n",
       "      '',           26.664,   '',\n",
       "      61.15\n",
       "    ],\n",
       "    [\n",
       "      'AGO',        'Africa', 'Angola',\n",
       "      '2020-07-27', 930,      50,\n",
       "      32.143,       40,       5,\n",
       "      1.571,        28.296,   1.521,\n",
       "      0.978,        1.217,    0.152,\n",
       "      0.048,        '',       '',\n",
       "      '',           '',       '',\n",
       "      '',           '',       '',\n",
       "      '',           76.39,    32866268,\n",
       "      23.89,        16.8,     2.405,\n",
       "      1.362,        5819.495, '',\n",
       "      276.045,      3.94,     '',\n",
       "      '',           26.664,   '',\n",
       "      61.15\n",
       "    ],\n",
       "    [\n",
       "      'AGO',        'Africa', 'Angola',\n",
       "      '2020-07-28', 932,      2,\n",
       "      26.143,       40,       0,\n",
       "      1.571,        28.357,   0.061,\n",
       "      0.795,        1.217,    0,\n",
       "      0.048,        '',       '',\n",
       "      '',           '',       '',\n",
       "      '',           '',       '',\n",
       "      '',           76.39,    32866268,\n",
       "      23.89,        16.8,     2.405,\n",
       "      1.362,        5819.495, '',\n",
       "      276.045,      3.94,     '',\n",
       "      '',           26.664,   '',\n",
       "      61.15\n",
       "    ],\n",
       "    [\n",
       "      'AGO',        'Africa', 'Angola',\n",
       "      '2020-07-29', 950,      18,\n",
       "      28.714,       41,       1,\n",
       "      1.714,        28.905,   0.548,\n",
       "      0.874,        1.247,    0.03,\n",
       "      0.052,        '',       '',\n",
       "      '',           '',       '',\n",
       "      '',           '',       '',\n",
       "      '',           76.39,    32866268,\n",
       "      23.89,        16.8,     2.405,\n",
       "      1.362,        5819.495, '',\n",
       "      276.045,      3.94,     '',\n",
       "      '',           26.664,   '',\n",
       "      61.15\n",
       "    ],\n",
       "    [\n",
       "      'AGO',        'Africa', 'Angola',\n",
       "      '2020-07-30', 1000,     50,\n",
       "      31.571,       47,       6,\n",
       "      2.429,        30.426,   1.521,\n",
       "      0.961,        1.43,     0.183,\n",
       "      0.074,        '',       '',\n",
       "      '',           '',       '',\n",
       "      '',           '',       '',\n",
       "      '',           79.17,    32866268,\n",
       "      23.89,        16.8,     2.405,\n",
       "      1.362,        5819.495, '',\n",
       "      276.045,      3.94,     '',\n",
       "      '',           26.664,   '',\n",
       "      61.15\n",
       "    ]\n",
       "  ],\n",
       "  _columns: [\n",
       "    'iso_code',\n",
       "    'continent',\n",
       "    'location',\n",
       "    'date',\n",
       "    'total_cases',\n",
       "    'new_cases',\n",
       "    'new_cases_smoothed',\n",
       "    'total_deaths',\n",
       "    'new_deaths',\n",
       "    'new_deaths_smoothed',\n",
       "    'total_cases_per_million',\n",
       "    'new_cases_per_million',\n",
       "    'new_cases_smoothed_per_million',\n",
       "    'total_deaths_per_million',\n",
       "    'new_deaths_per_million',\n",
       "    'new_deaths_smoothed_per_million',\n",
       "    'new_tests',\n",
       "    'total_tests',\n",
       "    'total_tests_per_thousand',\n",
       "    'new_tests_per_thousand',\n",
       "    'new_tests_smoothed',\n",
       "    'new_tests_smoothed_per_thousand',\n",
       "    'tests_per_case',\n",
       "    'positive_rate',\n",
       "    'tests_units',\n",
       "    'stringency_index',\n",
       "    'population',\n",
       "    'population_density',\n",
       "    'median_age',\n",
       "    'aged_65_older',\n",
       "    'aged_70_older',\n",
       "    'gdp_per_capita',\n",
       "    'extreme_poverty',\n",
       "    'cardiovasc_death_rate',\n",
       "    'diabetes_prevalence',\n",
       "    'female_smokers',\n",
       "    'male_smokers',\n",
       "    'handwashing_facilities',\n",
       "    'hospital_beds_per_thousand',\n",
       "    'life_expectancy'\n",
       "  ],\n",
       "  _name: 'frame',\n",
       "  _unique: undefined,\n",
       "  _sortCols: [],\n",
       "  _row: undefined,\n",
       "  AccessClass: [Function],\n",
       "  showLen: 400,\n",
       "  _hash: -1\n",
       "}"
      ]
     },
     "execution_count": 13,
     "metadata": {},
     "output_type": "execute_result"
    }
   ],
   "source": [
    "// Display  first 20 rows the data frame just read\n",
    "var x =covid.slice(1000,1010);\n",
    "x"
   ]
  },
  {
   "cell_type": "code",
   "execution_count": 16,
   "metadata": {},
   "outputs": [
    {
     "data": {
      "text/html": [
       "<table class=\"ftable\"><thead><tr><th>Ix</th><th>iso code</th><th>location</th><th>continent</th></tr></thead><tbody><tr><td>0</td><td></td><td>International</td><td></td></tr><tr><td>1</td><td>ABW</td><td>Aruba</td><td>North America</td></tr><tr><td>2</td><td>AFG</td><td>Afghanistan</td><td>Asia</td></tr><tr><td>3</td><td>AGO</td><td>Angola</td><td>Africa</td></tr><tr><td>4</td><td>AIA</td><td>Anguilla</td><td>North America</td></tr><tr><td>5</td><td>ALB</td><td>Albania</td><td>Europe</td></tr><tr><td>6</td><td>AND</td><td>Andorra</td><td>Europe</td></tr><tr><td>7</td><td>ARE</td><td>United Arab Emirates</td><td>Asia</td></tr><tr><td>8</td><td>ARG</td><td>Argentina</td><td>South America</td></tr><tr><td>9</td><td>ARM</td><td>Armenia</td><td>Asia</td></tr><tr><td>10</td><td>ATG</td><td>Antigua and Barbuda</td><td>North America</td></tr><tr><td>11</td><td>AUS</td><td>Australia</td><td>Oceania</td></tr><tr><td>12</td><td>AUT</td><td>Austria</td><td>Europe</td></tr><tr><td>13</td><td>AZE</td><td>Azerbaijan</td><td>Asia</td></tr><tr><td>14</td><td>BDI</td><td>Burundi</td><td>Africa</td></tr><tr><td>15</td><td>BEL</td><td>Belgium</td><td>Europe</td></tr><tr><td>16</td><td>BEN</td><td>Benin</td><td>Africa</td></tr><tr><td>17</td><td>BES</td><td>Bonaire Sint Eustatius and Saba</td><td>North America</td></tr><tr><td>18</td><td>BFA</td><td>Burkina Faso</td><td>Africa</td></tr><tr><td>19</td><td>BGD</td><td>Bangladesh</td><td>Asia</td></tr><tr><td>20</td><td>BGR</td><td>Bulgaria</td><td>Europe</td></tr><tr><td>21</td><td>BHR</td><td>Bahrain</td><td>Asia</td></tr><tr><td>22</td><td>BHS</td><td>Bahamas</td><td>North America</td></tr><tr><td>23</td><td>BIH</td><td>Bosnia and Herzegovina</td><td>Europe</td></tr><tr><td>24</td><td>BLR</td><td>Belarus</td><td>Europe</td></tr><tr><td>25</td><td>BLZ</td><td>Belize</td><td>North America</td></tr><tr><td>26</td><td>BMU</td><td>Bermuda</td><td>North America</td></tr><tr><td>27</td><td>BOL</td><td>Bolivia</td><td>South America</td></tr><tr><td>28</td><td>BRA</td><td>Brazil</td><td>South America</td></tr><tr><td>29</td><td>BRB</td><td>Barbados</td><td>North America</td></tr><tr><td>30</td><td>BRN</td><td>Brunei</td><td>Asia</td></tr><tr><td>31</td><td>BTN</td><td>Bhutan</td><td>Asia</td></tr><tr><td>32</td><td>BWA</td><td>Botswana</td><td>Africa</td></tr><tr><td>33</td><td>CAF</td><td>Central African Republic</td><td>Africa</td></tr><tr><td>34</td><td>CAN</td><td>Canada</td><td>North America</td></tr><tr><td>35</td><td>CHE</td><td>Switzerland</td><td>Europe</td></tr><tr><td>36</td><td>CHL</td><td>Chile</td><td>South America</td></tr><tr><td>37</td><td>CHN</td><td>China</td><td>Asia</td></tr><tr><td>38</td><td>CIV</td><td>Cote d'Ivoire</td><td>Africa</td></tr><tr><td>39</td><td>CMR</td><td>Cameroon</td><td>Africa</td></tr><tr><td>40</td><td>COD</td><td>Democratic Republic of Congo</td><td>Africa</td></tr><tr><td>41</td><td>COG</td><td>Congo</td><td>Africa</td></tr><tr><td>42</td><td>COL</td><td>Colombia</td><td>South America</td></tr><tr><td>43</td><td>COM</td><td>Comoros</td><td>Africa</td></tr><tr><td>44</td><td>CPV</td><td>Cape Verde</td><td>Africa</td></tr><tr><td>45</td><td>CRI</td><td>Costa Rica</td><td>North America</td></tr><tr><td>46</td><td>CUB</td><td>Cuba</td><td>North America</td></tr><tr><td>47</td><td>CUW</td><td>Curacao</td><td>North America</td></tr><tr><td>48</td><td>CYM</td><td>Cayman Islands</td><td>North America</td></tr><tr><td>49</td><td>CYP</td><td>Cyprus</td><td>Europe</td></tr><tr><td>50</td><td>CZE</td><td>Czech Republic</td><td>Europe</td></tr><tr><td>51</td><td>DEU</td><td>Germany</td><td>Europe</td></tr><tr><td>52</td><td>DJI</td><td>Djibouti</td><td>Africa</td></tr><tr><td>53</td><td>DMA</td><td>Dominica</td><td>North America</td></tr><tr><td>54</td><td>DNK</td><td>Denmark</td><td>Europe</td></tr><tr><td>55</td><td>DOM</td><td>Dominican Republic</td><td>North America</td></tr><tr><td>56</td><td>DZA</td><td>Algeria</td><td>Africa</td></tr><tr><td>57</td><td>ECU</td><td>Ecuador</td><td>South America</td></tr><tr><td>58</td><td>EGY</td><td>Egypt</td><td>Africa</td></tr><tr><td>59</td><td>ERI</td><td>Eritrea</td><td>Africa</td></tr><tr><td>60</td><td>ESH</td><td>Western Sahara</td><td>Africa</td></tr><tr><td>61</td><td>ESP</td><td>Spain</td><td>Europe</td></tr><tr><td>62</td><td>EST</td><td>Estonia</td><td>Europe</td></tr><tr><td>63</td><td>ETH</td><td>Ethiopia</td><td>Africa</td></tr><tr><td>64</td><td>FIN</td><td>Finland</td><td>Europe</td></tr><tr><td>65</td><td>FJI</td><td>Fiji</td><td>Oceania</td></tr><tr><td>66</td><td>FLK</td><td>Falkland Islands</td><td>South America</td></tr><tr><td>67</td><td>FRA</td><td>France</td><td>Europe</td></tr><tr><td>68</td><td>FRO</td><td>Faeroe Islands</td><td>Europe</td></tr><tr><td>69</td><td>GAB</td><td>Gabon</td><td>Africa</td></tr><tr><td>70</td><td>GBR</td><td>United Kingdom</td><td>Europe</td></tr><tr><td>71</td><td>GEO</td><td>Georgia</td><td>Asia</td></tr><tr><td>72</td><td>GGY</td><td>Guernsey</td><td>Europe</td></tr><tr><td>73</td><td>GHA</td><td>Ghana</td><td>Africa</td></tr><tr><td>74</td><td>GIB</td><td>Gibraltar</td><td>Europe</td></tr><tr><td>75</td><td>GIN</td><td>Guinea</td><td>Africa</td></tr><tr><td>76</td><td>GMB</td><td>Gambia</td><td>Africa</td></tr><tr><td>77</td><td>GNB</td><td>Guinea-Bissau</td><td>Africa</td></tr><tr><td>78</td><td>GNQ</td><td>Equatorial Guinea</td><td>Africa</td></tr><tr><td>79</td><td>GRC</td><td>Greece</td><td>Europe</td></tr><tr><td>80</td><td>GRD</td><td>Grenada</td><td>North America</td></tr><tr><td>81</td><td>GRL</td><td>Greenland</td><td>North America</td></tr><tr><td>82</td><td>GTM</td><td>Guatemala</td><td>North America</td></tr><tr><td>83</td><td>GUM</td><td>Guam</td><td>Oceania</td></tr><tr><td>84</td><td>GUY</td><td>Guyana</td><td>South America</td></tr><tr><td>85</td><td>HKG</td><td>Hong Kong</td><td>Asia</td></tr><tr><td>86</td><td>HND</td><td>Honduras</td><td>North America</td></tr><tr><td>87</td><td>HRV</td><td>Croatia</td><td>Europe</td></tr><tr><td>88</td><td>HTI</td><td>Haiti</td><td>North America</td></tr><tr><td>89</td><td>HUN</td><td>Hungary</td><td>Europe</td></tr><tr><td>90</td><td>IDN</td><td>Indonesia</td><td>Asia</td></tr><tr><td>91</td><td>IMN</td><td>Isle of Man</td><td>Europe</td></tr><tr><td>92</td><td>IND</td><td>India</td><td>Asia</td></tr><tr><td>93</td><td>IRL</td><td>Ireland</td><td>Europe</td></tr><tr><td>94</td><td>IRN</td><td>Iran</td><td>Asia</td></tr><tr><td>95</td><td>IRQ</td><td>Iraq</td><td>Asia</td></tr><tr><td>96</td><td>ISL</td><td>Iceland</td><td>Europe</td></tr><tr><td>97</td><td>ISR</td><td>Israel</td><td>Asia</td></tr><tr><td>98</td><td>ITA</td><td>Italy</td><td>Europe</td></tr><tr><td>99</td><td>JAM</td><td>Jamaica</td><td>North America</td></tr><tr><td>100</td><td>JEY</td><td>Jersey</td><td>Europe</td></tr><tr><td>101</td><td>JOR</td><td>Jordan</td><td>Asia</td></tr><tr><td>102</td><td>JPN</td><td>Japan</td><td>Asia</td></tr><tr><td>103</td><td>KAZ</td><td>Kazakhstan</td><td>Asia</td></tr><tr><td>104</td><td>KEN</td><td>Kenya</td><td>Africa</td></tr><tr><td>105</td><td>KGZ</td><td>Kyrgyzstan</td><td>Asia</td></tr><tr><td>106</td><td>KHM</td><td>Cambodia</td><td>Asia</td></tr><tr><td>107</td><td>KNA</td><td>Saint Kitts and Nevis</td><td>North America</td></tr><tr><td>108</td><td>KOR</td><td>South Korea</td><td>Asia</td></tr><tr><td>109</td><td>KWT</td><td>Kuwait</td><td>Asia</td></tr><tr><td>110</td><td>LAO</td><td>Laos</td><td>Asia</td></tr><tr><td>111</td><td>LBN</td><td>Lebanon</td><td>Asia</td></tr><tr><td>112</td><td>LBR</td><td>Liberia</td><td>Africa</td></tr><tr><td>113</td><td>LBY</td><td>Libya</td><td>Africa</td></tr><tr><td>114</td><td>LCA</td><td>Saint Lucia</td><td>North America</td></tr><tr><td>115</td><td>LIE</td><td>Liechtenstein</td><td>Europe</td></tr><tr><td>116</td><td>LKA</td><td>Sri Lanka</td><td>Asia</td></tr><tr><td>117</td><td>LSO</td><td>Lesotho</td><td>Africa</td></tr><tr><td>118</td><td>LTU</td><td>Lithuania</td><td>Europe</td></tr><tr><td>119</td><td>LUX</td><td>Luxembourg</td><td>Europe</td></tr><tr><td>120</td><td>LVA</td><td>Latvia</td><td>Europe</td></tr><tr><td>121</td><td>MAR</td><td>Morocco</td><td>Africa</td></tr><tr><td>122</td><td>MCO</td><td>Monaco</td><td>Europe</td></tr><tr><td>123</td><td>MDA</td><td>Moldova</td><td>Europe</td></tr><tr><td>124</td><td>MDG</td><td>Madagascar</td><td>Africa</td></tr><tr><td>125</td><td>MDV</td><td>Maldives</td><td>Asia</td></tr><tr><td>126</td><td>MEX</td><td>Mexico</td><td>North America</td></tr><tr><td>127</td><td>MKD</td><td>Macedonia</td><td>Europe</td></tr><tr><td>128</td><td>MLI</td><td>Mali</td><td>Africa</td></tr><tr><td>129</td><td>MLT</td><td>Malta</td><td>Europe</td></tr><tr><td>130</td><td>MMR</td><td>Myanmar</td><td>Asia</td></tr><tr><td>131</td><td>MNE</td><td>Montenegro</td><td>Europe</td></tr><tr><td>132</td><td>MNG</td><td>Mongolia</td><td>Asia</td></tr><tr><td>133</td><td>MNP</td><td>Northern Mariana Islands</td><td>Oceania</td></tr><tr><td>134</td><td>MOZ</td><td>Mozambique</td><td>Africa</td></tr><tr><td>135</td><td>MRT</td><td>Mauritania</td><td>Africa</td></tr><tr><td>136</td><td>MSR</td><td>Montserrat</td><td>North America</td></tr><tr><td>137</td><td>MUS</td><td>Mauritius</td><td>Africa</td></tr><tr><td>138</td><td>MWI</td><td>Malawi</td><td>Africa</td></tr><tr><td>139</td><td>MYS</td><td>Malaysia</td><td>Asia</td></tr><tr><td>140</td><td>NAM</td><td>Namibia</td><td>Africa</td></tr><tr><td>141</td><td>NCL</td><td>New Caledonia</td><td>Oceania</td></tr><tr><td>142</td><td>NER</td><td>Niger</td><td>Africa</td></tr><tr><td>143</td><td>NGA</td><td>Nigeria</td><td>Africa</td></tr><tr><td>144</td><td>NIC</td><td>Nicaragua</td><td>North America</td></tr><tr><td>145</td><td>NLD</td><td>Netherlands</td><td>Europe</td></tr><tr><td>146</td><td>NOR</td><td>Norway</td><td>Europe</td></tr><tr><td>147</td><td>NPL</td><td>Nepal</td><td>Asia</td></tr><tr><td>148</td><td>NZL</td><td>New Zealand</td><td>Oceania</td></tr><tr><td>149</td><td>OMN</td><td>Oman</td><td>Asia</td></tr><tr><td>150</td><td>OWID_KOS</td><td>Kosovo</td><td>Europe</td></tr><tr><td>151</td><td>OWID_WRL</td><td>World</td><td></td></tr><tr><td>152</td><td>PAK</td><td>Pakistan</td><td>Asia</td></tr><tr><td>153</td><td>PAN</td><td>Panama</td><td>North America</td></tr><tr><td>154</td><td>PER</td><td>Peru</td><td>South America</td></tr><tr><td>155</td><td>PHL</td><td>Philippines</td><td>Asia</td></tr><tr><td>156</td><td>PNG</td><td>Papua New Guinea</td><td>Oceania</td></tr><tr><td>157</td><td>POL</td><td>Poland</td><td>Europe</td></tr><tr><td>158</td><td>PRI</td><td>Puerto Rico</td><td>North America</td></tr><tr><td>159</td><td>PRT</td><td>Portugal</td><td>Europe</td></tr><tr><td>160</td><td>PRY</td><td>Paraguay</td><td>South America</td></tr><tr><td>161</td><td>PSE</td><td>Palestine</td><td>Asia</td></tr><tr><td>162</td><td>PYF</td><td>French Polynesia</td><td>Oceania</td></tr><tr><td>163</td><td>QAT</td><td>Qatar</td><td>Asia</td></tr><tr><td>164</td><td>ROU</td><td>Romania</td><td>Europe</td></tr><tr><td>165</td><td>RUS</td><td>Russia</td><td>Europe</td></tr><tr><td>166</td><td>RWA</td><td>Rwanda</td><td>Africa</td></tr><tr><td>167</td><td>SAU</td><td>Saudi Arabia</td><td>Asia</td></tr><tr><td>168</td><td>SDN</td><td>Sudan</td><td>Africa</td></tr><tr><td>169</td><td>SEN</td><td>Senegal</td><td>Africa</td></tr><tr><td>170</td><td>SGP</td><td>Singapore</td><td>Asia</td></tr><tr><td>171</td><td>SLE</td><td>Sierra Leone</td><td>Africa</td></tr><tr><td>172</td><td>SLV</td><td>El Salvador</td><td>North America</td></tr><tr><td>173</td><td>SMR</td><td>San Marino</td><td>Europe</td></tr><tr><td>174</td><td>SOM</td><td>Somalia</td><td>Africa</td></tr><tr><td>175</td><td>SRB</td><td>Serbia</td><td>Europe</td></tr><tr><td>176</td><td>SSD</td><td>South Sudan</td><td>Africa</td></tr><tr><td>177</td><td>STP</td><td>Sao Tome and Principe</td><td>Africa</td></tr><tr><td>178</td><td>SUR</td><td>Suriname</td><td>South America</td></tr><tr><td>179</td><td>SVK</td><td>Slovakia</td><td>Europe</td></tr><tr><td>180</td><td>SVN</td><td>Slovenia</td><td>Europe</td></tr><tr><td>181</td><td>SWE</td><td>Sweden</td><td>Europe</td></tr><tr><td>182</td><td>SWZ</td><td>Swaziland</td><td>Africa</td></tr><tr><td>183</td><td>SXM</td><td>Sint Maarten (Dutch part)</td><td>North America</td></tr><tr><td>184</td><td>SYC</td><td>Seychelles</td><td>Africa</td></tr><tr><td>185</td><td>SYR</td><td>Syria</td><td>Asia</td></tr><tr><td>186</td><td>TCA</td><td>Turks and Caicos Islands</td><td>North America</td></tr><tr><td>187</td><td>TCD</td><td>Chad</td><td>Africa</td></tr><tr><td>188</td><td>TGO</td><td>Togo</td><td>Africa</td></tr><tr><td>189</td><td>THA</td><td>Thailand</td><td>Asia</td></tr><tr><td>190</td><td>TJK</td><td>Tajikistan</td><td>Asia</td></tr><tr><td>191</td><td>TLS</td><td>Timor</td><td>Asia</td></tr><tr><td>192</td><td>TTO</td><td>Trinidad and Tobago</td><td>North America</td></tr><tr><td>193</td><td>TUN</td><td>Tunisia</td><td>Africa</td></tr><tr><td>194</td><td>TUR</td><td>Turkey</td><td>Asia</td></tr><tr><td>195</td><td>TWN</td><td>Taiwan</td><td>Asia</td></tr><tr><td>196</td><td>TZA</td><td>Tanzania</td><td>Africa</td></tr><tr><td>197</td><td>UGA</td><td>Uganda</td><td>Africa</td></tr><tr><td>198</td><td>UKR</td><td>Ukraine</td><td>Europe</td></tr><tr><td>199</td><td>URY</td><td>Uruguay</td><td>South America</td></tr><tr><td>200</td><td>USA</td><td>United States</td><td>North America</td></tr><tr><td>201</td><td>UZB</td><td>Uzbekistan</td><td>Asia</td></tr><tr><td>202</td><td>VAT</td><td>Vatican</td><td>Europe</td></tr><tr><td>203</td><td>VCT</td><td>Saint Vincent and the Grenadines</td><td>North America</td></tr><tr><td>204</td><td>VEN</td><td>Venezuela</td><td>South America</td></tr><tr><td>205</td><td>VGB</td><td>British Virgin Islands</td><td>North America</td></tr><tr><td>206</td><td>VIR</td><td>United States Virgin Islands</td><td>North America</td></tr><tr><td>207</td><td>VNM</td><td>Vietnam</td><td>Asia</td></tr><tr><td>208</td><td>YEM</td><td>Yemen</td><td>Asia</td></tr><tr><td>209</td><td>ZAF</td><td>South Africa</td><td>Africa</td></tr><tr><td>210</td><td>ZMB</td><td>Zambia</td><td>Africa</td></tr><tr><td>211</td><td>ZWE</td><td>Zimbabwe</td><td>Africa</td></tr></tbody></table>"
      ],
      "text/plain": [
       "Frame {\n",
       "  keyFunc: [Function: _getKey],\n",
       "  data: [\n",
       "    [ '', 'International', '' ],\n",
       "    [ 'ABW', 'Aruba', 'North America' ],\n",
       "    [ 'AFG', 'Afghanistan', 'Asia' ],\n",
       "    [ 'AGO', 'Angola', 'Africa' ],\n",
       "    [ 'AIA', 'Anguilla', 'North America' ],\n",
       "    [ 'ALB', 'Albania', 'Europe' ],\n",
       "    [ 'AND', 'Andorra', 'Europe' ],\n",
       "    [ 'ARE', 'United Arab Emirates', 'Asia' ],\n",
       "    [ 'ARG', 'Argentina', 'South America' ],\n",
       "    [ 'ARM', 'Armenia', 'Asia' ],\n",
       "    [ 'ATG', 'Antigua and Barbuda', 'North America' ],\n",
       "    [ 'AUS', 'Australia', 'Oceania' ],\n",
       "    [ 'AUT', 'Austria', 'Europe' ],\n",
       "    [ 'AZE', 'Azerbaijan', 'Asia' ],\n",
       "    [ 'BDI', 'Burundi', 'Africa' ],\n",
       "    [ 'BEL', 'Belgium', 'Europe' ],\n",
       "    [ 'BEN', 'Benin', 'Africa' ],\n",
       "    [ 'BES', 'Bonaire Sint Eustatius and Saba', 'North America' ],\n",
       "    [ 'BFA', 'Burkina Faso', 'Africa' ],\n",
       "    [ 'BGD', 'Bangladesh', 'Asia' ],\n",
       "    [ 'BGR', 'Bulgaria', 'Europe' ],\n",
       "    [ 'BHR', 'Bahrain', 'Asia' ],\n",
       "    [ 'BHS', 'Bahamas', 'North America' ],\n",
       "    [ 'BIH', 'Bosnia and Herzegovina', 'Europe' ],\n",
       "    [ 'BLR', 'Belarus', 'Europe' ],\n",
       "    [ 'BLZ', 'Belize', 'North America' ],\n",
       "    [ 'BMU', 'Bermuda', 'North America' ],\n",
       "    [ 'BOL', 'Bolivia', 'South America' ],\n",
       "    [ 'BRA', 'Brazil', 'South America' ],\n",
       "    [ 'BRB', 'Barbados', 'North America' ],\n",
       "    [ 'BRN', 'Brunei', 'Asia' ],\n",
       "    [ 'BTN', 'Bhutan', 'Asia' ],\n",
       "    [ 'BWA', 'Botswana', 'Africa' ],\n",
       "    [ 'CAF', 'Central African Republic', 'Africa' ],\n",
       "    [ 'CAN', 'Canada', 'North America' ],\n",
       "    [ 'CHE', 'Switzerland', 'Europe' ],\n",
       "    [ 'CHL', 'Chile', 'South America' ],\n",
       "    [ 'CHN', 'China', 'Asia' ],\n",
       "    [ 'CIV', \"Cote d'Ivoire\", 'Africa' ],\n",
       "    [ 'CMR', 'Cameroon', 'Africa' ],\n",
       "    [ 'COD', 'Democratic Republic of Congo', 'Africa' ],\n",
       "    [ 'COG', 'Congo', 'Africa' ],\n",
       "    [ 'COL', 'Colombia', 'South America' ],\n",
       "    [ 'COM', 'Comoros', 'Africa' ],\n",
       "    [ 'CPV', 'Cape Verde', 'Africa' ],\n",
       "    [ 'CRI', 'Costa Rica', 'North America' ],\n",
       "    [ 'CUB', 'Cuba', 'North America' ],\n",
       "    [ 'CUW', 'Curacao', 'North America' ],\n",
       "    [ 'CYM', 'Cayman Islands', 'North America' ],\n",
       "    [ 'CYP', 'Cyprus', 'Europe' ],\n",
       "    [ 'CZE', 'Czech Republic', 'Europe' ],\n",
       "    [ 'DEU', 'Germany', 'Europe' ],\n",
       "    [ 'DJI', 'Djibouti', 'Africa' ],\n",
       "    [ 'DMA', 'Dominica', 'North America' ],\n",
       "    [ 'DNK', 'Denmark', 'Europe' ],\n",
       "    [ 'DOM', 'Dominican Republic', 'North America' ],\n",
       "    [ 'DZA', 'Algeria', 'Africa' ],\n",
       "    [ 'ECU', 'Ecuador', 'South America' ],\n",
       "    [ 'EGY', 'Egypt', 'Africa' ],\n",
       "    [ 'ERI', 'Eritrea', 'Africa' ],\n",
       "    [ 'ESH', 'Western Sahara', 'Africa' ],\n",
       "    [ 'ESP', 'Spain', 'Europe' ],\n",
       "    [ 'EST', 'Estonia', 'Europe' ],\n",
       "    [ 'ETH', 'Ethiopia', 'Africa' ],\n",
       "    [ 'FIN', 'Finland', 'Europe' ],\n",
       "    [ 'FJI', 'Fiji', 'Oceania' ],\n",
       "    [ 'FLK', 'Falkland Islands', 'South America' ],\n",
       "    [ 'FRA', 'France', 'Europe' ],\n",
       "    [ 'FRO', 'Faeroe Islands', 'Europe' ],\n",
       "    [ 'GAB', 'Gabon', 'Africa' ],\n",
       "    [ 'GBR', 'United Kingdom', 'Europe' ],\n",
       "    [ 'GEO', 'Georgia', 'Asia' ],\n",
       "    [ 'GGY', 'Guernsey', 'Europe' ],\n",
       "    [ 'GHA', 'Ghana', 'Africa' ],\n",
       "    [ 'GIB', 'Gibraltar', 'Europe' ],\n",
       "    [ 'GIN', 'Guinea', 'Africa' ],\n",
       "    [ 'GMB', 'Gambia', 'Africa' ],\n",
       "    [ 'GNB', 'Guinea-Bissau', 'Africa' ],\n",
       "    [ 'GNQ', 'Equatorial Guinea', 'Africa' ],\n",
       "    [ 'GRC', 'Greece', 'Europe' ],\n",
       "    [ 'GRD', 'Grenada', 'North America' ],\n",
       "    [ 'GRL', 'Greenland', 'North America' ],\n",
       "    [ 'GTM', 'Guatemala', 'North America' ],\n",
       "    [ 'GUM', 'Guam', 'Oceania' ],\n",
       "    [ 'GUY', 'Guyana', 'South America' ],\n",
       "    [ 'HKG', 'Hong Kong', 'Asia' ],\n",
       "    [ 'HND', 'Honduras', 'North America' ],\n",
       "    [ 'HRV', 'Croatia', 'Europe' ],\n",
       "    [ 'HTI', 'Haiti', 'North America' ],\n",
       "    [ 'HUN', 'Hungary', 'Europe' ],\n",
       "    [ 'IDN', 'Indonesia', 'Asia' ],\n",
       "    [ 'IMN', 'Isle of Man', 'Europe' ],\n",
       "    [ 'IND', 'India', 'Asia' ],\n",
       "    [ 'IRL', 'Ireland', 'Europe' ],\n",
       "    [ 'IRN', 'Iran', 'Asia' ],\n",
       "    [ 'IRQ', 'Iraq', 'Asia' ],\n",
       "    [ 'ISL', 'Iceland', 'Europe' ],\n",
       "    [ 'ISR', 'Israel', 'Asia' ],\n",
       "    [ 'ITA', 'Italy', 'Europe' ],\n",
       "    [ 'JAM', 'Jamaica', 'North America' ],\n",
       "    ... 112 more items\n",
       "  ],\n",
       "  _columns: [ 'iso_code', 'location', 'continent' ],\n",
       "  _name: 'framegrouped',\n",
       "  _unique: undefined,\n",
       "  _sortCols: [],\n",
       "  _row: undefined,\n",
       "  AccessClass: [Function],\n",
       "  showLen: 400,\n",
       "  _hash: -1\n",
       "}"
      ]
     },
     "execution_count": 16,
     "metadata": {},
     "output_type": "execute_result"
    }
   ],
   "source": [
    "covid.select(['iso_code', 'location', 'continent']).dedup()"
   ]
  },
  {
   "cell_type": "markdown",
   "metadata": {},
   "source": [
    "# print the number of rows and columns names"
   ]
  },
  {
   "cell_type": "code",
   "execution_count": null,
   "metadata": {},
   "outputs": [],
   "source": [
    "({ rows: covid.length, columns: covid.columns})\n",
    "function isFunc(f) { return typeof f === 'function'; }"
   ]
  },
  {
   "cell_type": "code",
   "execution_count": null,
   "metadata": {},
   "outputs": [],
   "source": []
  },
  {
   "cell_type": "markdown",
   "metadata": {},
   "source": [
    "## Keep only the columns we are interesed in"
   ]
  },
  {
   "cell_type": "code",
   "execution_count": 12,
   "metadata": {
    "scrolled": true
   },
   "outputs": [
    {
     "name": "stdout",
     "output_type": "stream",
     "text": [
      "function\n"
     ]
    },
    {
     "data": {
      "text/html": [
       "<table class=\"ftable\"><thead><tr><th>Ix</th><th>iso code</th><th>count</th></tr></thead><tbody><tr><td>0</td><td>---</td><td>1</td></tr><tr><td>1</td><td>ABW</td><td>1</td></tr><tr><td>2</td><td>AFG</td><td>1</td></tr><tr><td>3</td><td>AGO</td><td>1</td></tr><tr><td>4</td><td>ALB</td><td>1</td></tr><tr><td>5</td><td>AND</td><td>1</td></tr><tr><td>6</td><td>ARE</td><td>1</td></tr><tr><td>7</td><td>ARG</td><td>1</td></tr><tr><td>8</td><td>ARM</td><td>1</td></tr><tr><td>9</td><td>ATG</td><td>1</td></tr><tr><td>10</td><td>AUS</td><td>1</td></tr><tr><td>11</td><td>AUT</td><td>1</td></tr><tr><td>12</td><td>AZE</td><td>1</td></tr><tr><td>13</td><td>BDI</td><td>1</td></tr><tr><td>14</td><td>BEL</td><td>1</td></tr><tr><td>15</td><td>BEN</td><td>1</td></tr><tr><td>16</td><td>BES</td><td>1</td></tr><tr><td>17</td><td>BFA</td><td>1</td></tr><tr><td>18</td><td>BGD</td><td>1</td></tr><tr><td>19</td><td>BGR</td><td>1</td></tr><tr><td>20</td><td>BHR</td><td>1</td></tr><tr><td>21</td><td>BHS</td><td>1</td></tr><tr><td>22</td><td>BIH</td><td>1</td></tr><tr><td>23</td><td>BLR</td><td>1</td></tr><tr><td>24</td><td>BLZ</td><td>1</td></tr><tr><td>25</td><td>BMU</td><td>1</td></tr><tr><td>26</td><td>BOL</td><td>1</td></tr><tr><td>27</td><td>BRA</td><td>1</td></tr><tr><td>28</td><td>BRB</td><td>1</td></tr><tr><td>29</td><td>BRN</td><td>1</td></tr><tr><td>30</td><td>BTN</td><td>1</td></tr><tr><td>31</td><td>BWA</td><td>1</td></tr><tr><td>32</td><td>CAF</td><td>1</td></tr><tr><td>33</td><td>CAN</td><td>1</td></tr><tr><td>34</td><td>CHE</td><td>1</td></tr><tr><td>35</td><td>CHL</td><td>1</td></tr><tr><td>36</td><td>CHN</td><td>1</td></tr><tr><td>37</td><td>CIV</td><td>1</td></tr><tr><td>38</td><td>CMR</td><td>1</td></tr><tr><td>39</td><td>COD</td><td>1</td></tr><tr><td>40</td><td>COG</td><td>1</td></tr><tr><td>41</td><td>COL</td><td>1</td></tr><tr><td>42</td><td>COM</td><td>1</td></tr><tr><td>43</td><td>CPV</td><td>1</td></tr><tr><td>44</td><td>CRI</td><td>1</td></tr><tr><td>45</td><td>CUB</td><td>1</td></tr><tr><td>46</td><td>CUW</td><td>1</td></tr><tr><td>47</td><td>CYM</td><td>1</td></tr><tr><td>48</td><td>CYP</td><td>1</td></tr><tr><td>49</td><td>CZE</td><td>1</td></tr><tr><td>50</td><td>DEU</td><td>1</td></tr><tr><td>51</td><td>DJI</td><td>1</td></tr><tr><td>52</td><td>DMA</td><td>1</td></tr><tr><td>53</td><td>DNK</td><td>1</td></tr><tr><td>54</td><td>DOM</td><td>1</td></tr><tr><td>55</td><td>DZA</td><td>1</td></tr><tr><td>56</td><td>ECU</td><td>1</td></tr><tr><td>57</td><td>EGY</td><td>1</td></tr><tr><td>58</td><td>ERI</td><td>1</td></tr><tr><td>59</td><td>ESH</td><td>1</td></tr><tr><td>60</td><td>ESP</td><td>1</td></tr><tr><td>61</td><td>EST</td><td>1</td></tr><tr><td>62</td><td>ETH</td><td>1</td></tr><tr><td>63</td><td>FIN</td><td>1</td></tr><tr><td>64</td><td>FJI</td><td>1</td></tr><tr><td>65</td><td>FLK</td><td>1</td></tr><tr><td>66</td><td>FRA</td><td>1</td></tr><tr><td>67</td><td>FRO</td><td>1</td></tr><tr><td>68</td><td>GAB</td><td>1</td></tr><tr><td>69</td><td>GBR</td><td>1</td></tr><tr><td>70</td><td>GEO</td><td>1</td></tr><tr><td>71</td><td>GGY</td><td>1</td></tr><tr><td>72</td><td>GHA</td><td>1</td></tr><tr><td>73</td><td>GIB</td><td>1</td></tr><tr><td>74</td><td>GIN</td><td>1</td></tr><tr><td>75</td><td>GMB</td><td>1</td></tr><tr><td>76</td><td>GNB</td><td>1</td></tr><tr><td>77</td><td>GNQ</td><td>1</td></tr><tr><td>78</td><td>GRC</td><td>1</td></tr><tr><td>79</td><td>GRD</td><td>1</td></tr><tr><td>80</td><td>GRL</td><td>1</td></tr><tr><td>81</td><td>GTM</td><td>1</td></tr><tr><td>82</td><td>GUM</td><td>1</td></tr><tr><td>83</td><td>GUY</td><td>1</td></tr><tr><td>84</td><td>HND</td><td>1</td></tr><tr><td>85</td><td>HRV</td><td>1</td></tr><tr><td>86</td><td>HTI</td><td>1</td></tr><tr><td>87</td><td>HUN</td><td>1</td></tr><tr><td>88</td><td>IDN</td><td>1</td></tr><tr><td>89</td><td>IMN</td><td>1</td></tr><tr><td>90</td><td>IND</td><td>1</td></tr><tr><td>91</td><td>IRL</td><td>1</td></tr><tr><td>92</td><td>IRN</td><td>1</td></tr><tr><td>93</td><td>IRQ</td><td>1</td></tr><tr><td>94</td><td>ISL</td><td>1</td></tr><tr><td>95</td><td>ISR</td><td>1</td></tr><tr><td>96</td><td>ITA</td><td>1</td></tr><tr><td>97</td><td>JAM</td><td>1</td></tr><tr><td>98</td><td>JEY</td><td>1</td></tr><tr><td>99</td><td>JOR</td><td>1</td></tr><tr><td>100</td><td>JPN</td><td>1</td></tr><tr><td>101</td><td>KAZ</td><td>1</td></tr><tr><td>102</td><td>KEN</td><td>1</td></tr><tr><td>103</td><td>KGZ</td><td>1</td></tr><tr><td>104</td><td>KHM</td><td>1</td></tr><tr><td>105</td><td>KNA</td><td>1</td></tr><tr><td>106</td><td>KOR</td><td>1</td></tr><tr><td>107</td><td>KWT</td><td>1</td></tr><tr><td>108</td><td>LAO</td><td>1</td></tr><tr><td>109</td><td>LBN</td><td>1</td></tr><tr><td>110</td><td>LBR</td><td>1</td></tr><tr><td>111</td><td>LBY</td><td>1</td></tr><tr><td>112</td><td>LCA</td><td>1</td></tr><tr><td>113</td><td>LIE</td><td>1</td></tr><tr><td>114</td><td>LKA</td><td>1</td></tr><tr><td>115</td><td>LSO</td><td>1</td></tr><tr><td>116</td><td>LTU</td><td>1</td></tr><tr><td>117</td><td>LUX</td><td>1</td></tr><tr><td>118</td><td>LVA</td><td>1</td></tr><tr><td>119</td><td>MAR</td><td>1</td></tr><tr><td>120</td><td>MCO</td><td>1</td></tr><tr><td>121</td><td>MDA</td><td>1</td></tr><tr><td>122</td><td>MDG</td><td>1</td></tr><tr><td>123</td><td>MDV</td><td>1</td></tr><tr><td>124</td><td>MEX</td><td>1</td></tr><tr><td>125</td><td>MKD</td><td>1</td></tr><tr><td>126</td><td>MLI</td><td>1</td></tr><tr><td>127</td><td>MLT</td><td>1</td></tr><tr><td>128</td><td>MMR</td><td>1</td></tr><tr><td>129</td><td>MNE</td><td>1</td></tr><tr><td>130</td><td>MNG</td><td>1</td></tr><tr><td>131</td><td>MNP</td><td>1</td></tr><tr><td>132</td><td>MOZ</td><td>1</td></tr><tr><td>133</td><td>MRT</td><td>1</td></tr><tr><td>134</td><td>MSR</td><td>1</td></tr><tr><td>135</td><td>MUS</td><td>1</td></tr><tr><td>136</td><td>MWI</td><td>1</td></tr><tr><td>137</td><td>MYS</td><td>1</td></tr><tr><td>138</td><td>NAM</td><td>1</td></tr><tr><td>139</td><td>NCL</td><td>1</td></tr><tr><td>140</td><td>NER</td><td>1</td></tr><tr><td>141</td><td>NGA</td><td>1</td></tr><tr><td>142</td><td>NIC</td><td>1</td></tr><tr><td>143</td><td>NLD</td><td>1</td></tr><tr><td>144</td><td>NOR</td><td>1</td></tr><tr><td>145</td><td>NPL</td><td>1</td></tr><tr><td>146</td><td>NZL</td><td>1</td></tr><tr><td>147</td><td>OMN</td><td>1</td></tr><tr><td>148</td><td>OWID_KOS</td><td>1</td></tr><tr><td>149</td><td>OWID_WRL</td><td>1</td></tr><tr><td>150</td><td>PAK</td><td>1</td></tr><tr><td>151</td><td>PAN</td><td>1</td></tr><tr><td>152</td><td>PER</td><td>1</td></tr><tr><td>153</td><td>PHL</td><td>1</td></tr><tr><td>154</td><td>PNG</td><td>1</td></tr><tr><td>155</td><td>POL</td><td>1</td></tr><tr><td>156</td><td>PRI</td><td>1</td></tr><tr><td>157</td><td>PRT</td><td>1</td></tr><tr><td>158</td><td>PRY</td><td>1</td></tr><tr><td>159</td><td>PSE</td><td>1</td></tr><tr><td>160</td><td>PYF</td><td>1</td></tr><tr><td>161</td><td>QAT</td><td>1</td></tr><tr><td>162</td><td>ROU</td><td>1</td></tr><tr><td>163</td><td>RUS</td><td>1</td></tr><tr><td>164</td><td>RWA</td><td>1</td></tr><tr><td>165</td><td>SAU</td><td>1</td></tr><tr><td>166</td><td>SDN</td><td>1</td></tr><tr><td>167</td><td>SEN</td><td>1</td></tr><tr><td>168</td><td>SGP</td><td>1</td></tr><tr><td>169</td><td>SLE</td><td>1</td></tr><tr><td>170</td><td>SLV</td><td>1</td></tr><tr><td>171</td><td>SMR</td><td>1</td></tr><tr><td>172</td><td>SOM</td><td>1</td></tr><tr><td>173</td><td>SRB</td><td>1</td></tr><tr><td>174</td><td>SSD</td><td>1</td></tr><tr><td>175</td><td>STP</td><td>1</td></tr><tr><td>176</td><td>SUR</td><td>1</td></tr><tr><td>177</td><td>SVK</td><td>1</td></tr><tr><td>178</td><td>SVN</td><td>1</td></tr><tr><td>179</td><td>SWE</td><td>1</td></tr><tr><td>180</td><td>SWZ</td><td>1</td></tr><tr><td>181</td><td>SXM</td><td>1</td></tr><tr><td>182</td><td>SYC</td><td>1</td></tr><tr><td>183</td><td>SYR</td><td>1</td></tr><tr><td>184</td><td>TCA</td><td>1</td></tr><tr><td>185</td><td>TCD</td><td>1</td></tr><tr><td>186</td><td>TGO</td><td>1</td></tr><tr><td>187</td><td>THA</td><td>1</td></tr><tr><td>188</td><td>TJK</td><td>1</td></tr><tr><td>189</td><td>TLS</td><td>1</td></tr><tr><td>190</td><td>TTO</td><td>1</td></tr><tr><td>191</td><td>TUN</td><td>1</td></tr><tr><td>192</td><td>TUR</td><td>1</td></tr><tr><td>193</td><td>TWN</td><td>1</td></tr><tr><td>194</td><td>TZA</td><td>1</td></tr><tr><td>195</td><td>UGA</td><td>1</td></tr><tr><td>196</td><td>UKR</td><td>1</td></tr><tr><td>197</td><td>URY</td><td>1</td></tr><tr><td>198</td><td>USA</td><td>1</td></tr><tr><td>199</td><td>UZB</td><td>1</td></tr><tr><td>200</td><td>VAT</td><td>1</td></tr><tr><td>201</td><td>VCT</td><td>1</td></tr><tr><td>202</td><td>VEN</td><td>1</td></tr><tr><td>203</td><td>VGB</td><td>1</td></tr><tr><td>204</td><td>VIR</td><td>1</td></tr><tr><td>205</td><td>VNM</td><td>1</td></tr><tr><td>206</td><td>YEM</td><td>1</td></tr><tr><td>207</td><td>ZAF</td><td>1</td></tr><tr><td>208</td><td>ZMB</td><td>1</td></tr><tr><td>209</td><td>ZWE</td><td>1</td></tr></tbody></table>"
      ],
      "text/plain": [
       "Frame {\n",
       "  keyFunc: [Function: _getKey],\n",
       "  data: [\n",
       "    [ '---', 1 ], [ 'ABW', 1 ], [ 'AFG', 1 ], [ 'AGO', 1 ], [ 'ALB', 1 ],\n",
       "    [ 'AND', 1 ], [ 'ARE', 1 ], [ 'ARG', 1 ], [ 'ARM', 1 ], [ 'ATG', 1 ],\n",
       "    [ 'AUS', 1 ], [ 'AUT', 1 ], [ 'AZE', 1 ], [ 'BDI', 1 ], [ 'BEL', 1 ],\n",
       "    [ 'BEN', 1 ], [ 'BES', 1 ], [ 'BFA', 1 ], [ 'BGD', 1 ], [ 'BGR', 1 ],\n",
       "    [ 'BHR', 1 ], [ 'BHS', 1 ], [ 'BIH', 1 ], [ 'BLR', 1 ], [ 'BLZ', 1 ],\n",
       "    [ 'BMU', 1 ], [ 'BOL', 1 ], [ 'BRA', 1 ], [ 'BRB', 1 ], [ 'BRN', 1 ],\n",
       "    [ 'BTN', 1 ], [ 'BWA', 1 ], [ 'CAF', 1 ], [ 'CAN', 1 ], [ 'CHE', 1 ],\n",
       "    [ 'CHL', 1 ], [ 'CHN', 1 ], [ 'CIV', 1 ], [ 'CMR', 1 ], [ 'COD', 1 ],\n",
       "    [ 'COG', 1 ], [ 'COL', 1 ], [ 'COM', 1 ], [ 'CPV', 1 ], [ 'CRI', 1 ],\n",
       "    [ 'CUB', 1 ], [ 'CUW', 1 ], [ 'CYM', 1 ], [ 'CYP', 1 ], [ 'CZE', 1 ],\n",
       "    [ 'DEU', 1 ], [ 'DJI', 1 ], [ 'DMA', 1 ], [ 'DNK', 1 ], [ 'DOM', 1 ],\n",
       "    [ 'DZA', 1 ], [ 'ECU', 1 ], [ 'EGY', 1 ], [ 'ERI', 1 ], [ 'ESH', 1 ],\n",
       "    [ 'ESP', 1 ], [ 'EST', 1 ], [ 'ETH', 1 ], [ 'FIN', 1 ], [ 'FJI', 1 ],\n",
       "    [ 'FLK', 1 ], [ 'FRA', 1 ], [ 'FRO', 1 ], [ 'GAB', 1 ], [ 'GBR', 1 ],\n",
       "    [ 'GEO', 1 ], [ 'GGY', 1 ], [ 'GHA', 1 ], [ 'GIB', 1 ], [ 'GIN', 1 ],\n",
       "    [ 'GMB', 1 ], [ 'GNB', 1 ], [ 'GNQ', 1 ], [ 'GRC', 1 ], [ 'GRD', 1 ],\n",
       "    [ 'GRL', 1 ], [ 'GTM', 1 ], [ 'GUM', 1 ], [ 'GUY', 1 ], [ 'HND', 1 ],\n",
       "    [ 'HRV', 1 ], [ 'HTI', 1 ], [ 'HUN', 1 ], [ 'IDN', 1 ], [ 'IMN', 1 ],\n",
       "    [ 'IND', 1 ], [ 'IRL', 1 ], [ 'IRN', 1 ], [ 'IRQ', 1 ], [ 'ISL', 1 ],\n",
       "    [ 'ISR', 1 ], [ 'ITA', 1 ], [ 'JAM', 1 ], [ 'JEY', 1 ], [ 'JOR', 1 ],\n",
       "    ... 110 more items\n",
       "  ],\n",
       "  _columns: [ 'iso_code', 'count' ],\n",
       "  _name: 'framegroupedgrouped',\n",
       "  _unique: undefined,\n",
       "  _sortCols: [],\n",
       "  _row: undefined,\n",
       "  AccessClass: [Function],\n",
       "  showLen: 400,\n",
       "  _hash: -1,\n",
       "  sorted: [ 'count' ]\n",
       "}"
      ]
     },
     "execution_count": 12,
     "metadata": {},
     "output_type": "execute_result"
    }
   ],
   "source": [
    "function UPPER(x) { return x.toUpperCase(); }\n",
    "console.log(typeof UPPER)\n",
    "function asNum(x) {\n",
    "    if(!x) return 0;\n",
    "    return +x;\n",
    "}\n",
    "//covid = covid.convertData();\n",
    "var frame = covid.select([\n",
    "  ['iso_code', x => x || '---'],\n",
    "  'continent',\n",
    "  ['location=country', UPPER], // rename location to country\n",
    "  'date',\n",
    "  'total_cases',\n",
    "  'new_cases',\n",
    "  'total_deaths',\n",
    "  'new_deaths',\n",
    "  'new_tests',\n",
    "  'total_tests',\n",
    "  'positive_rate',\n",
    "  'population',\n",
    "  ['dummy', (x,ro,ix) => ix+1]\n",
    "], (ro)=> ro.total_cases > 10  );\n",
    "\n",
    "// show first 20\n",
    "frame.groupBy(['iso_code','country', gb.max('total_cases')])\n",
    "    .groupBy(['iso_code', gb.count('iso_code', 'count')]).sort(['count']) \n",
    "    //.filter(ro => ro.total_cases < 100)"
   ]
  },
  {
   "cell_type": "code",
   "execution_count": null,
   "metadata": {
    "scrolled": false
   },
   "outputs": [],
   "source": [
    "var x = covid.slice(100, 110);\n",
    "x"
   ]
  },
  {
   "cell_type": "markdown",
   "metadata": {},
   "source": [
    "## Sample 1% (0.001) of the data and show the first 20"
   ]
  },
  {
   "cell_type": "code",
   "execution_count": null,
   "metadata": {
    "collapsed": true,
    "scrolled": false
   },
   "outputs": [],
   "source": [
    "frame.filter(()=> Math.random() < 0.01 ) // take random 1% of data\n",
    "    .slice(0,20)                          // take the first 20 \n",
    "    .sort(['continent', 'country'])      // sort by contiment and country"
   ]
  },
  {
   "cell_type": "code",
   "execution_count": null,
   "metadata": {
    "collapsed": true
   },
   "outputs": [],
   "source": [
    "// Since all data is stored as strings\n",
    "// The round function will conver it to a numeric round the value\n",
    "// convert back to a string\n",
    "\n",
    "\n",
    "function round(v) {\n",
    "    var r = +v;\n",
    "    if(isNaN(r)) return '0';\n",
    "    return Math.round(r).toString();\n",
    "}\n",
    "round('abc')"
   ]
  },
  {
   "cell_type": "code",
   "execution_count": null,
   "metadata": {
    "collapsed": true
   },
   "outputs": [],
   "source": [
    "frameNumericColumns(frame)"
   ]
  },
  {
   "cell_type": "code",
   "execution_count": null,
   "metadata": {
    "collapsed": true
   },
   "outputs": [],
   "source": [
    "\n",
    "var ALL_COLUMNS = null;\n",
    "function forceZero(v) { return round(v || '0')}\n",
    "var TO_ZERO = Object.fromEntries(arrProd(frameNumericColumns(frame),forceZero));\n",
    "frame = frame.update(TO_ZERO)\n",
    "frame"
   ]
  },
  {
   "cell_type": "markdown",
   "metadata": {},
   "source": [
    "## Print the number rows and max total_cases by country"
   ]
  },
  {
   "cell_type": "code",
   "execution_count": null,
   "metadata": {
    "collapsed": true,
    "scrolled": false
   },
   "outputs": [],
   "source": [
    "\n",
    "\n",
    "var round_some_columns =  { \n",
    "    total_cases: round, \n",
    "    max_new_cases_in_a_day: round,\n",
    "    avg_new_cases_in_a_day: round\n",
    "};\n",
    "\n",
    "frame.groupBy(['continent','country', // columns to group on\n",
    "               gb.count('date', 'rows'), // count the number of values in the date column after grouping\n",
    "               gb.max('total_cases'), // get the max value in the total_cases column for the group \n",
    "               gb.max('new_cases', 'max_new_cases_in_a_day'), // get the max value in the total_cases \n",
    "                                                             // column for the group and give it the name 'max_new_cases_in_a_day \n",
    "               gb.mean('new_cases', 'avg_new_cases_in_a_day') // get the average value for new cases\n",
    "              ])\n",
    "    .update( {...round_some_columns, avg_new_cases_in_a_day: (v,ro) => round(ro.total_cases/ro.rows)} )\n",
    "    .sort(['-rows', '-continent','-total_cases']) // rows, continent and total_cases is sorted in descending order: "
   ]
  },
  {
   "cell_type": "code",
   "execution_count": null,
   "metadata": {
    "collapsed": true
   },
   "outputs": [],
   "source": [
    "console.log(22/161.0);\n",
    "frame//.filter(r => r.country === \"Laos\")\n",
    "    .groupBy(['continent','country', // columns to group on\n",
    "               gb.count('date', 'rows'), // count the number of values in the date column after grouping\n",
    "               gb.max('total_cases'), // get the max value in the total_cases column for the group \n",
    "               gb.max('new_cases', 'max_new_cases_in_a_day'), // get the max value in the total_cases \n",
    "                                                             // column for the group and give it the name 'max_new_cases_in_a_day \n",
    "               gb.mean('new_cases', 'avg_new_cases_in_a_day'), // get the average value for new cases\n",
    "               gb.sum('new_cases', 'total_new_cases') // get the average value for new cases\n",
    "             ])\n"
   ]
  },
  {
   "cell_type": "code",
   "execution_count": null,
   "metadata": {
    "collapsed": true
   },
   "outputs": [],
   "source": [
    "var CONTINENTS = \"https://pkgstore.datahub.io/JohnSnowLabs/country-and-continent-codes-list/country-and-continent-codes-list-csv_csv/data/b7876b7f496677669644f3d1069d3121/country-and-continent-codes-list-csv_csv.csv\"\n",
    "\n",
    "request.get(CONTINENTS, function (error, response, body) {\n",
    "    if (!error && response.statusCode == 200) {\n",
    "        var csv = body;\n",
    "        continents = frameFromBuffer(csv.toString(),'',csvLine);\n",
    "        //frame.data = frame.data.slice(0, frame.length-2)\n",
    "    }\n",
    "});\n"
   ]
  },
  {
   "cell_type": "code",
   "execution_count": null,
   "metadata": {
    "collapsed": true
   },
   "outputs": [],
   "source": [
    "continents"
   ]
  },
  {
   "cell_type": "code",
   "execution_count": null,
   "metadata": {
    "collapsed": true
   },
   "outputs": [],
   "source": [
    "var contMap = {\n",
    "  Brunei: 'Asia',\n",
    "  Curacao: 'North America',\n",
    "  'Democratic Republic of Congo': 'Africa',\n",
    "  'Faeroe Islands': 'Europe',\n",
    "  International: 'Asia',\n",
    "  Palestine: 'Asia',\n",
    "  Russia: 'Europe',\n",
    "  'Saint Barthlemy': 'North America',\n",
    "  'Saint Martin (French part)': 'North America',\n",
    "  'South Korea': 'Asia',\n",
    "  'United Kingdom': 'Europe',\n",
    "  'United States': 'North America',\n",
    "  Vatican: 'Europe',\n",
    "  World: 'World'\n",
    "};"
   ]
  },
  {
   "cell_type": "code",
   "execution_count": null,
   "metadata": {
    "collapsed": true
   },
   "outputs": [],
   "source": [
    "var code = fs.readFileSync('../../nurulc.github.io/javascripts/barChart.js').toString();\n",
    "console.log(code);\n",
    "var pre= ('<script>'+code+'</script><div id=\"aaa\">AAA</div>');\n",
    "//console.log(code)\n",
    "function showC(aFrame) {\n",
    "    let id = genID();\n",
    "    let s =  JSON.stringify(aFrame);\n",
    "    console.log(s)\n",
    "    $$.html(`${pre}<div id=\"${id}\">aaa</div><script>\n",
    "    frameBarChart(${s}, \"${id}\",{\n",
    "    width: 800, height: 600, key: \"continent\", value: \"total_cases\"\n",
    "     })\n",
    "    </script>`)\n",
    "}\n",
    "showC(disp);\n"
   ]
  },
  {
   "cell_type": "code",
   "execution_count": null,
   "metadata": {
    "collapsed": true
   },
   "outputs": [],
   "source": [
    "var aFrame = disp\n",
    "var numerics = frameNumericColumns(aFrame);\n",
    "var nonNums = arrRemove(aFrame.columns, numerics);\n",
    "var key = nonNums[0];\n",
    "var value = numerics[0];\n",
    "({numerics, nonNums, key, value})"
   ]
  },
  {
   "cell_type": "code",
   "execution_count": null,
   "metadata": {
    "scrolled": true
   },
   "outputs": [],
   "source": [
    "frameChart(disp, {\n",
    "    key: 'continent', title: \"Coronavirus infections\", \n",
    "    width: 850, axisX: 'Continents', axisY:\"Infections\"})\n",
    ")"
   ]
  },
  {
   "cell_type": "code",
   "execution_count": null,
   "metadata": {
    "collapsed": true,
    "scrolled": true
   },
   "outputs": [],
   "source": [
    "var _init = fs.readFileSync('init.js').toString();\n",
    "eval(_init);\n",
    "setupD3();"
   ]
  },
  {
   "cell_type": "code",
   "execution_count": null,
   "metadata": {
    "scrolled": true
   },
   "outputs": [],
   "source": [
    "frameBarChart(disp, {\n",
    "     title: \"Coronavirus infections\",  axisX: 'Continents', axisY:\"Infections\", isLog: false})"
   ]
  },
  {
   "cell_type": "code",
   "execution_count": null,
   "metadata": {
    "collapsed": true
   },
   "outputs": [],
   "source": [
    "continents.columns"
   ]
  },
  {
   "cell_type": "code",
   "execution_count": null,
   "metadata": {
    "collapsed": true
   },
   "outputs": [],
   "source": [
    "var WORLD_DATA_SRC = \"https://www.ecdc.europa.eu/sites/default/files/documents/COVID-19-geographic-disbtribution-worldwide.csv\"  ;\n",
    "var frame, continents;\n",
    "var CONTINENTS = \"https://pkgstore.datahub.io/JohnSnowLabs/country-and-continent-codes-list/country-and-continent-codes-list-csv_csv/data/b7876b7f496677669644f3d1069d3121/country-and-continent-codes-list-csv_csv.csv\"\n",
    "function getData(src,result,ix)\n",
    "    request.get(src, function (error, response, body) {\n",
    "        if (!error && response.statusCode == 200) {\n",
    "            var csv = body;\n",
    "            result[ix] = frameFromBuffer(csv.toString(),'',csvLine);\n",
    "            //frame.data = frame.data.slice(0, frame.length-2)\n",
    "        }\n",
    "    });\n",
    "}\n",
    "var result = [null,null]\n",
    "getData(WORLD_DATA_SRC,result,0);\n",
    "getData(CONTINENTS,result,1);"
   ]
  },
  {
   "cell_type": "code",
   "execution_count": null,
   "metadata": {
    "collapsed": true
   },
   "outputs": [],
   "source": [
    "function organizeData(frame, continents) {\n",
    "        const ZERO = () => '0';\n",
    "        const DATE = colName => r => r[colName].replace(/(\\d\\d)\\/(\\d\\d)\\/(\\d\\d\\d\\d)/,\"$3-$2-$1\");\n",
    "        const Country_Name =  l => l === 'CANADA'?'Canada': l;\n",
    "        const others = new Frame(\n",
    "                    [\n",
    "                      [\n",
    "                        'Asia',\n",
    "                        'Cases on an international conveyance Japan',\n",
    "                        'JPG11668'\n",
    "                      ],\n",
    "                      [ 'Ocenia', 'French Polynesia', 'PYF' ],\n",
    "                      [ 'Europe', 'Greece', 'EL' ],\n",
    "                      [ 'Europe', 'Kosovo', 'XK' ],\n",
    "                      [ 'Europe', 'United Kingdom', 'UK' ]\n",
    "                    ],\n",
    "                    ['Continent_Name', 'Country_Name', 'Two_Letter_Country_Code' ]);\n",
    "  \n",
    "        let conts = continents.groupBy(['Continent_Name', 'Country_Name', 'Two_Letter_Country_Code' ])\n",
    "                              .concat(others)\n",
    "                              .groupBy(['Country_Name', 'Two_Letter_Country_Code', \n",
    "                                         gb.min('Continent_Name', 'continent')]);\n",
    "       \n",
    "        function toNum(v) {\n",
    "          const nv = +v;\n",
    "          if (isNaN(nv)) {\n",
    "            return 0;\n",
    "          }\n",
    "          return nv;\n",
    "        }\n",
    "\n",
    "        function accum(group, name) {\n",
    "            let accum = 0, groupName=undefined;\n",
    "            return (r => {\n",
    "                if(r[group] !== groupName) {\n",
    "                    accum = 0;\n",
    "                    groupName = r[group]\n",
    "                }\n",
    "                let val = toNum(r[name]);\n",
    "                return (accum += val);\n",
    "            })\n",
    "        } \n",
    "//         let conts = continents.groupBy(['Country_Name', 'Two_Letter_Country_Code', gb.min('Continent_Name', 'continent')]);\n",
    "//        console.log(conts.columns)\n",
    "        return frame.project(undefined, {\"Countries and territories\": Country_Name}).sort(['Countries and territories', 'Year', 'Month', 'Day'])\n",
    "            .project([\n",
    "                  'DateRep=date', 'Cases=new_cases',\n",
    "                  'Deaths=new_deaths', 'Countries and territories=location',\n",
    "                  'GeoId', 'total_cases', 'total_deaths'\n",
    "                ], \n",
    "                {total_cases: accum('GeoId', 'Cases'), \n",
    "                 total_deaths: accum('GeoId', 'Deaths'),\n",
    "                 date: DATE('DateRep'),\n",
    "                 location: r => r['Countries and territories'].replace(/_/g, ' ')\n",
    "                }, \n",
    "                true\n",
    "            ).leftJoin(conts, ['continent', 'location', 'date', 'new_cases' ,\n",
    "                        'new_deaths', 'total_cases', 'total_deaths', 'GeoId=tlc'\n",
    "                       ], 'GeoId==Two_Letter_Country_Code')\n",
    "            \n",
    "}\n",
    "organizeData(frame,continents)\n",
    "    //.groupBy(['continent', 'location', 'tlc'])\n",
    "    .filter(r => r.location === 'CANADA' || r.location === 'Canada')\n",
    "//'03/03/2020'.replace(/(\\d\\d)\\/(\\d\\d)\\/(\\d\\d\\d\\d)/,\"$3-$2-$1\");\n",
    "//'03/03/2020'.match(/(\\d\\d)\\/(\\d\\d)\\/(\\d\\d\\d\\d)/)\n",
    "\n",
    "//organizeData(frame,continents).groupBy(['continent', 'location', 'tlc']).filter(r => !r.continent).data"
   ]
  },
  {
   "cell_type": "code",
   "execution_count": null,
   "metadata": {
    "collapsed": true
   },
   "outputs": [],
   "source": [
    "frame.sort(['GeoId', 'Year', 'Month', 'Day'])\n",
    "     .groupBy(['Countries and territories', 'GeoId', \n",
    "               gb.sum('Cases'), gb.sum('Deaths')])\n",
    "     .project(['Countries and territories=Location', 'GeoId', 'Cases', 'Deaths'])\n",
    "     \n",
    "                                                       "
   ]
  },
  {
   "cell_type": "code",
   "execution_count": null,
   "metadata": {
    "collapsed": true
   },
   "outputs": [],
   "source": [
    "cont"
   ]
  },
  {
   "cell_type": "code",
   "execution_count": null,
   "metadata": {
    "collapsed": true,
    "scrolled": true
   },
   "outputs": [],
   "source": [
    "frameBarChart(disp, {\n",
    "     title: \"Coronavirus deaths\",  value: 'total_deaths', axisX: 'Continents', axisY:\"Deaths\", isLog: false})"
   ]
  },
  {
   "cell_type": "code",
   "execution_count": null,
   "metadata": {
    "collapsed": true
   },
   "outputs": [],
   "source": [
    "frameNumericColumns(disp);\n"
   ]
  },
  {
   "cell_type": "code",
   "execution_count": null,
   "metadata": {
    "collapsed": true
   },
   "outputs": [],
   "source": [
    "//var {Frame, frameFromBuffer, csvLine, tsvLine, gb} = exports;\n",
    "frame.groupBy(['country',gb.count('date','count'), \n",
    "               gb.max('total_cases'), \n",
    "               gb.max('total_deaths')]\n",
    "             ).sort(['-total_cases'])\n"
   ]
  },
  {
   "cell_type": "code",
   "execution_count": null,
   "metadata": {
    "collapsed": true
   },
   "outputs": [],
   "source": [
    "var s = readZipData('../data/reference/all_icd10_codes.tsv.gz').toString('utf8');\n",
    "var {Frame, frameFromBuffer, tsvLine} = exports;\n",
    "var frame = frameFromBuffer(s,'',tsvLine);\n",
    "//frame\n",
    "frame.groupBy(['TYPE'])"
   ]
  },
  {
   "cell_type": "code",
   "execution_count": null,
   "metadata": {
    "collapsed": true
   },
   "outputs": [],
   "source": [
    "var ff = require('../lib');\n",
    "//var Frame = ff.Frame;"
   ]
  },
  {
   "cell_type": "code",
   "execution_count": null,
   "metadata": {
    "collapsed": true
   },
   "outputs": [],
   "source": [
    "function doN(n, fn) {\n",
    "    return () =>{\n",
    "        var res;\n",
    "        for(let i=0;i<n; i++) { res = fn(res); }\n",
    "        return res;\n",
    "    }\n",
    "}"
   ]
  },
  {
   "cell_type": "code",
   "execution_count": null,
   "metadata": {
    "collapsed": true,
    "scrolled": false
   },
   "outputs": [],
   "source": [
    "var ICD10 = readZipFrame('../data/reference/all_icd10_codes.tsv.gz');\n",
    "var A = r => r.ICD10[0] === 'A';\n",
    "ICD10.slice(0,20);"
   ]
  },
  {
   "cell_type": "code",
   "execution_count": null,
   "metadata": {
    "collapsed": true
   },
   "outputs": [],
   "source": [
    " var _ = timeOf(doN(1, () => ICD10.data.filter(r => r[0][0] === 'A' )));\n"
   ]
  },
  {
   "cell_type": "code",
   "execution_count": null,
   "metadata": {
    "collapsed": true,
    "scrolled": true
   },
   "outputs": [],
   "source": [
    "function filter(fr,fn) {\n",
    "    let data = fr.data;\n",
    "    let res = [];\n",
    "    for(let i=0; i<data.length; i++) {\n",
    "        let d = data[i];\n",
    "        if(fn(d,i)) res.push(d);\n",
    "    }\n",
    "    return res;\n",
    "}\n",
    "var _ = timeOf(doN(1, () => filter(ICD10,r => r[0][0] === 'A' )));\n",
    "\n",
    "\n",
    "ICD10.groupBy(['TYPE'])"
   ]
  },
  {
   "cell_type": "code",
   "execution_count": null,
   "metadata": {
    "collapsed": true
   },
   "outputs": [],
   "source": [
    "var exp = require('../dist/bundle');\n",
    "exp"
   ]
  },
  {
   "cell_type": "code",
   "execution_count": null,
   "metadata": {
    "collapsed": true
   },
   "outputs": [],
   "source": [
    "function getAllMethods(obj) {\n",
    "    let props = []\n",
    "\n",
    "    do {\n",
    "        const l = Object.getOwnPropertyNames(obj)\n",
    "            .concat(Object.getOwnPropertySymbols(obj).map(s => s.toString()))\n",
    "            .sort()\n",
    "            .filter((p, i, arr) =>\n",
    "                typeof obj[p] === 'function' &&  //only the methods\n",
    "                p !== 'constructor' &&           //not the constructor\n",
    "                (i == 0 || p !== arr[i - 1]) &&  //not overriding in this prototype\n",
    "                props.indexOf(p) === -1          //not overridden in a child\n",
    "            )\n",
    "        props = props.concat(l)\n",
    "    }\n",
    "    while (\n",
    "        (obj = Object.getPrototypeOf(obj)) &&   //walk-up the prototype chain\n",
    "        Object.getPrototypeOf(obj)              //not the the Object prototype methods (hasOwnProperty, etc...)\n",
    "    )\n",
    "\n",
    "    return props\n",
    "}\n",
    "getAllMethods( new exp.Frame());\n"
   ]
  },
  {
   "cell_type": "code",
   "execution_count": null,
   "metadata": {
    "collapsed": true
   },
   "outputs": [],
   "source": [
    "var exp = require('../lib');\n",
    "function PICK(name,...args) {\n",
    "    return o => o[name](...args);\n",
    "}\n",
    "Object.keys(exp).filter(s => s.match(/__(.*)__/))\n",
    "    .map(s => s.replace(/__(.*)__/, \"$1\"))\n",
    "    .map(PICK('toLowerCase')).map(n => require('../lib/'+n));\n"
   ]
  },
  {
   "cell_type": "code",
   "execution_count": null,
   "metadata": {
    "collapsed": true
   },
   "outputs": [],
   "source": [
    "var CNT = 1\n",
    "var myData = timeOf(doN(CNT, () =>ICD10.filter(r => !r.ICD10.match(/^A/) ).project(['ICD10'])))\n",
    "var __ =   timeOf(doN(CNT, () =>ICD10.filter(r => !r.ICD10.startsWith('A') ).project(['ICD10'])))\n",
    "var ___ =  timeOf(doN(CNT, () =>ICD10.filter(NOT(A)).project(['ICD10'])))\n",
    "\n",
    "\n",
    "__"
   ]
  },
  {
   "cell_type": "code",
   "execution_count": null,
   "metadata": {
    "collapsed": true
   },
   "outputs": [],
   "source": [
    "var getMethods = (obj) => Object.getOwnPropertyNames(obj).filter(item => typeof obj[item] === 'function')\n",
    "CNT=1;\n",
    "console.log('len', ICD10.length)\n",
    "var x =timeOf(doN(CNT,() => ICD10.innerJoin(myData, [...ICD10.columns.map(x => '1.'+x)], 'ICD10')))//.slice(10,20)\n",
    "timeOf(() =>ICD10.project([\"T\", 'TYPE', 'ICD10'], {T: r => r.ICD10[0] },true)\n",
    "    .groupBy(['T', 'TYPE', gb.count('ICD10', 'CNT')])\n",
    "    .sort(['-CNT']));\n",
    "//gb"
   ]
  },
  {
   "cell_type": "code",
   "execution_count": null,
   "metadata": {
    "collapsed": true,
    "scrolled": true
   },
   "outputs": [],
   "source": [
    "function renameColumns(frame,map) {\n",
    "\treturn frame.columns.map(c => map[c]?map[c]:c);\n",
    "\n",
    "}\n",
    "\n"
   ]
  },
  {
   "cell_type": "code",
   "execution_count": null,
   "metadata": {
    "collapsed": true,
    "scrolled": true
   },
   "outputs": [],
   "source": [
    "var NAMES = new Frame([['PCS', \"Procedure\"], ['CM', \"Diagnostic\"],[\"???\", \"Unknown\"]], [\"TYPE\", \"DESC\"], \"ICD-TYPE\");\n",
    "var VALUES = new Frame([['PCS', \"Institution\"], ['CM', \"Any\"],[\"UNK\", \"Unknown\"]], [\"TYPE\", \"LOC\"], \"ICD-TYPE\");\n",
    "\n",
    "\n",
    "\n",
    "VALUES"
   ]
  },
  {
   "cell_type": "code",
   "execution_count": null,
   "metadata": {
    "collapsed": true
   },
   "outputs": [],
   "source": [
    "NAMES"
   ]
  },
  {
   "cell_type": "code",
   "execution_count": null,
   "metadata": {
    "collapsed": true
   },
   "outputs": [],
   "source": [
    "NAMES.leftJoin(ICD10, renameColumns(ICD10, {TYPE: '1.DESC=TYPE'}), \"TYPE\")\n",
    "      .groupBy(['TYPE', gb.count('TYPE','CNT')])//.groupBy([gb.min('CNT')])"
   ]
  },
  {
   "cell_type": "code",
   "execution_count": null,
   "metadata": {
    "collapsed": true
   },
   "outputs": [],
   "source": [
    "NAMES.leftJoin(VALUES, \"1.TYPE,DESC,LOC\".split(','), 'TYPE')"
   ]
  },
  {
   "cell_type": "code",
   "execution_count": null,
   "metadata": {
    "collapsed": true
   },
   "outputs": [],
   "source": [
    "NAMES.outerJoin(VALUES, \"1.TYPE,DESC,LOC\".split(','), 'TYPE').sort([\"DESC\", \"TYPE\"])"
   ]
  },
  {
   "cell_type": "code",
   "execution_count": null,
   "metadata": {
    "collapsed": true,
    "scrolled": true
   },
   "outputs": [],
   "source": [
    "NAMES.innerJoin(ICD10, renameColumns(ICD10, {TYPE: '1.DESC'}), \"TYPE\")"
   ]
  },
  {
   "cell_type": "code",
   "execution_count": null,
   "metadata": {
    "collapsed": true
   },
   "outputs": [],
   "source": [
    "NAMES.outerJoin(ICD10, renameColumns(ICD10, {TYPE: '1.DESC'}), \"TYPE\")"
   ]
  },
  {
   "cell_type": "code",
   "execution_count": null,
   "metadata": {
    "collapsed": true,
    "scrolled": true
   },
   "outputs": [],
   "source": []
  },
  {
   "cell_type": "code",
   "execution_count": null,
   "metadata": {
    "collapsed": true
   },
   "outputs": [],
   "source": [
    "//var {Frame} = require('../dist/bundle.js');"
   ]
  },
  {
   "cell_type": "code",
   "execution_count": null,
   "metadata": {
    "collapsed": true,
    "scrolled": false
   },
   "outputs": [],
   "source": [
    "var C = class {\n",
    "    constructor(a) {\n",
    "        this.value = a;\n",
    "    }\n",
    "    \n",
    "    \n",
    "};\n",
    "\n",
    "var c = new C(1);\n",
    "new c.constructor(2);\n",
    "function timeOf(fn) {\n",
    "  const name = 'func';\n",
    "  const t0 = new Date().getTime();\n",
    "\n",
    "  const res = fn();\n",
    "\n",
    "  const t1 = new Date().getTime();\n",
    "  console.log(`Call to ${name} took ${t1 - t0} milliseconds.`);\n",
    "  return res;\n",
    "}"
   ]
  },
  {
   "cell_type": "code",
   "execution_count": null,
   "metadata": {
    "collapsed": true
   },
   "outputs": [],
   "source": [
    "var la = require('../lib/array')"
   ]
  },
  {
   "cell_type": "code",
   "execution_count": null,
   "metadata": {
    "collapsed": true,
    "scrolled": true
   },
   "outputs": [],
   "source": [
    "function test(n) {\n",
    "    var a = la.newArray(n);\n",
    "    for(let i=0; i<n; i++) a[i] = i;\n",
    "    return a;\n",
    "}\n",
    "\n",
    "function test0(n) {\n",
    "    var a = new Int32Array(n);\n",
    "    for(let i=0; i<n; i++) a[i] = i;\n",
    "    return a;\n",
    "}\n",
    "\n",
    "function test2(n) {\n",
    "    var a = [];\n",
    "    for(let i=0; i<n; i++) a.push(i);\n",
    "    return a;\n",
    "}\n",
    "\n",
    "function timeOf(fn) {\n",
    "  const name = 'func';\n",
    "  const t0 = new Date().getTime();\n",
    "\n",
    "  const res = fn();\n",
    "\n",
    "  const t1 = new Date().getTime();\n",
    "  console.log(`Call to ${name} took ${t1 - t0} milliseconds.`);\n",
    "  return res;\n",
    "}\n",
    "\n",
    "[timeOf(() => la.arrSum(test(10000000))),\n",
    "timeOf(() => la.arrSum(test0(10000000)))];\n",
    "var a = test0(10000000);\n",
    "var b = test2(10000000);\n"
   ]
  },
  {
   "cell_type": "code",
   "execution_count": null,
   "metadata": {
    "collapsed": true
   },
   "outputs": [],
   "source": [
    "[timeOf(() => {for(i=0; i<100; i++)la.arrSum(b)}),\n",
    "timeOf(() => {for(i=0; i<100; i++)la.arrSum(a)})]"
   ]
  },
  {
   "cell_type": "code",
   "execution_count": null,
   "metadata": {
    "collapsed": true
   },
   "outputs": [],
   "source": [
    "//var {Frame} = require('../lib/frame')"
   ]
  },
  {
   "cell_type": "code",
   "execution_count": null,
   "metadata": {
    "collapsed": true
   },
   "outputs": [],
   "source": [
    "var f = new Frame( [[1,2],[3,4]],['a','b'],'test');\n",
    "ArrayBuffer.isView(new Int32Array(10))"
   ]
  },
  {
   "cell_type": "code",
   "execution_count": null,
   "metadata": {
    "collapsed": true,
    "scrolled": true
   },
   "outputs": [],
   "source": [
    "f.sort(['-b'])"
   ]
  },
  {
   "cell_type": "code",
   "execution_count": null,
   "metadata": {
    "collapsed": true,
    "scrolled": true
   },
   "outputs": [],
   "source": [
    "fs.readdirSync('../data/reference');\n",
    "var ICD9 = readZipFrame('../data/reference/all_icd10_codes.tsv.gz');\n",
    "var HCPCS = readZipFrame('../data/reference/hcpcs.tsv.gz')\n",
    "HCPCS"
   ]
  },
  {
   "cell_type": "code",
   "execution_count": null,
   "metadata": {
    "collapsed": true
   },
   "outputs": [],
   "source": [
    "HCPCS = HCPCS.project(['TYPE', ...HCPCS.columns], {TYPE: r => r.CODE.substr(0,2)},true);\n",
    "HCPCS.groupBy(['TYPE', gb.count('TYPE', 'COUNT')]).sort(['-COUNT'])"
   ]
  },
  {
   "cell_type": "code",
   "execution_count": null,
   "metadata": {
    "collapsed": true
   },
   "outputs": [],
   "source": [
    "HCPCS.filter(r => r.TYPE === '90').groupBy(['TYPE', gb.count('TYPE', 'COUNT')])\n"
   ]
  },
  {
   "cell_type": "code",
   "execution_count": null,
   "metadata": {
    "collapsed": true
   },
   "outputs": [],
   "source": [
    "$$.html(`<script>\n",
    "console.log(define.toString())\n",
    "</script>`)\n"
   ]
  },
  {
   "cell_type": "code",
   "execution_count": null,
   "metadata": {
    "collapsed": true
   },
   "outputs": [],
   "source": [
    "var CFrame = class {\n",
    "    constructor(data, columns, isColumn=true) {\n",
    "        this.columns = columns;\n",
    "        let len = isColumn? data[0].length : data.length;\n",
    "        this.length = len;\n",
    "        if(!column) {\n",
    "           let rLn = this.columns.length;\n",
    "           let aData = arrayOf(() => new Array(len), rLn);\n",
    "           this.data = aData;\n",
    "           for(let i=0; i<len; i++) {\n",
    "               let row = data[i];\n",
    "               let j = 0;\n",
    "               for(; j< rLn-7; j+= 8) {\n",
    "                   aData[j][i] = row[j];\n",
    "                   aData[j+1][i] = row[j+1];\n",
    "                   aData[j+2][i] = row[j+2];\n",
    "                   aData[j+3][i] = row[j+3];\n",
    "                   aData[j+4][i] = row[j+4];\n",
    "                   aData[j+5][i] = row[j+5];\n",
    "                   aData[j+6][i] = row[j+6];\n",
    "                   aData[j+7][i] = row[j+7];\n",
    "               }\n",
    "               for(; j< rLn-3; j+= 4) {\n",
    "                   aData[j][i] = row[j];\n",
    "                   aData[j+1][i] = row[j+1];\n",
    "                   aData[j+2][i] = row[j+2];\n",
    "                   aData[j+3][i] = row[j+3];\n",
    "               }\n",
    "               for(; j< rLn; j++) {\n",
    "                   aData[j][i] = row[j]\n",
    "               }\n",
    "           }\n",
    "       }\n",
    "    }\n",
    "\n",
    "    /**\n",
    "     * old Column array\n",
    "    _colMapper(mapArray, baseData) {\n",
    "        \n",
    "    }*/\n",
    "}"
   ]
  },
  {
   "cell_type": "markdown",
   "metadata": {},
   "source": [
    "#Adam optimizer"
   ]
  },
  {
   "cell_type": "code",
   "execution_count": null,
   "metadata": {
    "collapsed": true
   },
   "outputs": [],
   "source": []
  },
  {
   "cell_type": "code",
   "execution_count": null,
   "metadata": {
    "collapsed": true
   },
   "outputs": [],
   "source": [
    "var result, result1;\n",
    "var http = require('https');\n",
    "var res = http.get(\"https://raw.githubusercontent.com/cmusam/fortune500/master/csv/fortune500-2017.csv\",\n",
    "         (resp) =>{ \n",
    "  let data = '';\n",
    "\n",
    "  // A chunk of data has been recieved.\n",
    "  resp.on('data', (chunk) => {\n",
    "    data += chunk;\n",
    "  });\n",
    "\n",
    "  // The whole response has been received. Print out the result.\n",
    "  resp.on('end', () => {\n",
    "    result1 = data.replace(/\\r/g, '');\n",
    "    result =  result1 .split('\\n').map(s => s.split(','));\n",
    "  });\n",
    "});\n"
   ]
  },
  {
   "cell_type": "code",
   "execution_count": null,
   "metadata": {
    "collapsed": true
   },
   "outputs": [],
   "source": [
    "var fortune = timeOf(() => new Frame(result.slice(1),result[0],'Fortune')\n",
    "                     .sort([\"-profit ($ millions)\"]))\n",
    "//fortune.filter(r => console.log(r.__data[1]))\n",
    "//fortune.filterRaw(r => r[1] === undefined)\n",
    "fortune"
   ]
  },
  {
   "cell_type": "code",
   "execution_count": null,
   "metadata": {
    "collapsed": true
   },
   "outputs": [],
   "source": [
    "//fortune.filter(r => { console.log(r, r.company[0]); return true; })\n",
    "fortune.filter(r => r.company !== undefined )"
   ]
  },
  {
   "cell_type": "code",
   "execution_count": null,
   "metadata": {
    "collapsed": true
   },
   "outputs": [],
   "source": [
    "var fortune = timeOf(() => ff.frameFromBuffer(result1,'fortune',ff.csvLine).sort([\"-profit ($ millions)\"]))\n",
    "fortune.filter(r => {  var n = r.company;  console.log(r.company); return n.substr(0,1) === 'A'})\n"
   ]
  },
  {
   "cell_type": "code",
   "execution_count": null,
   "metadata": {
    "collapsed": true
   },
   "outputs": [],
   "source": [
    "Object.fromEntries(Object.entries({a:1,b:2,c:3}))"
   ]
  },
  {
   "cell_type": "code",
   "execution_count": null,
   "metadata": {
    "collapsed": true
   },
   "outputs": [],
   "source": [
    "console.log(JSON.stringify({a:'1',b:2, c:new Date()},null,' '))"
   ]
  }
 ],
 "metadata": {
  "kernelspec": {
   "display_name": "Javascript (Node.js)",
   "language": "javascript",
   "name": "javascript"
  },
  "language_info": {
   "file_extension": ".js",
   "mimetype": "application/javascript",
   "name": "javascript",
   "version": "12.13.0"
  }
 },
 "nbformat": 4,
 "nbformat_minor": 2
}
