{
 "cells": [
  {
   "cell_type": "code",
   "execution_count": null,
   "metadata": {
    "scrolled": true
   },
   "outputs": [],
   "source": [
    "//var Collection = require('dstools').Collection;\n",
    "//var data = Collection().loadCSV('data.csv');\n",
    "// var data = Collection([{field1:2,field2:4},{field1:3,field2:5},{field1:2,field2:4}\n",
    "//                        ,{field1:4,field2:4},{field1:4,field2:4},{field1:2,field2:4}]);\n",
    "\n",
    "//var data = Collection().loadCSV('heart.csv');\n",
    "//var lib = require('../lib')\n",
    "\n",
    "\n",
    "var fs = require('fs');\n",
    "//var _init = fs.readFileSync('init.js').toString();\n",
    "//eval(_init);\n",
    "//setupD3();\n"
   ]
  },
  {
   "cell_type": "code",
   "execution_count": 36,
   "metadata": {},
   "outputs": [
    {
     "data": {
      "text/plain": [
       "[\n",
       "  [ 'a', '1', 'b' ],\n",
       "  undefined,\n",
       "  [ 'a', '', 'b' ],\n",
       "  undefined,\n",
       "  [ 'a', undefined, 'b' ]\n",
       "]"
      ]
     },
     "execution_count": 36,
     "metadata": {},
     "output_type": "execute_result"
    }
   ],
   "source": [
    "function cleanData(columns, array) {\n",
    "\tif( !hasNoEmptyElem(columns) ) throw new Error(\"Invalid frame column\");\n",
    "\tlet n = columns.length;\n",
    "\treturn [columns, array.map(_cleanData).filter(s => s)]\n",
    "\n",
    "}\n",
    "\n",
    "function hasNoEmptyElem(arr, v) {\n",
    "\tif( arguments.length === 1 ){\n",
    "\t\tfor(let i=0; i< arr.length; i++) \n",
    "\t\t\tif(!arr[i]) return undefined;\n",
    "\t} else {\n",
    "\t\tfor(let i=0; i< arr.length; i++) \n",
    "\t\t\tif(arr[i] === v ) return undefined;\n",
    "\t}\n",
    "\treturn arr;\n",
    "}\n",
    "\n",
    "function arrRemUndef(arr) {\n",
    "\tfor(let i=0; i< arr.length; i++) \n",
    "\t\tif(arr[i] === undefined) return arr.filter(v => v !== undefined);\n",
    "\treturn arr;\n",
    "}\n",
    "\n",
    "function _cleanData(n) {\n",
    "\treturn arr => {\n",
    "\t\tarr = arrRemUndef(arr);\n",
    "\t\tif(n !== arr.length) {\n",
    "\t\t\tif(n > arr.length) {\n",
    "\t\t\t\tarr = arr.slice(0);\n",
    "\t\t\t\twhile(arr.length < n) arr.push('');\n",
    "\t\t\t} else {\n",
    "\t            if(n === arr.length) return arr;\n",
    "\t\t\t\tif(n < arr.length) return arr.slice(0,n);\n",
    "\t\t\t}\n",
    "\t\t}\n",
    "\t\treturn hasNoEmptyElem(arr, undefined);\n",
    "\t}\n",
    "}\n",
    "\n",
    "[hasNoEmptyElem(['a','1', 'b']), \n",
    " hasNoEmptyElem(['a','', 'b']), \n",
    " hasNoEmptyElem(['a','', 'b'], undefined), \n",
    " hasNoEmptyElem(['a',undefined, 'b']),\n",
    "  hasNoEmptyElem(['a',undefined, 'b'], '')\n",
    " ]"
   ]
  },
  {
   "cell_type": "code",
   "execution_count": 37,
   "metadata": {},
   "outputs": [
    {
     "data": {
      "text/plain": [
       "[\n",
       "  [ [ 'a', '1', 'b' ], [ 'a', '', 'b' ], [ 'a', 'b' ], [ 'b' ] ],\n",
       "  [\n",
       "    [ 'a', '1', 'b' ],\n",
       "    [ 'a', '', 'b' ],\n",
       "    [ 'a', '' ],\n",
       "    [ 'a', 'b' ],\n",
       "    [ '5', '7', '8' ]\n",
       "  ]\n",
       "]"
      ]
     },
     "execution_count": 37,
     "metadata": {},
     "output_type": "execute_result"
    }
   ],
   "source": [
    "[[arrRemUndef(['a','1', 'b']), \n",
    " arrRemUndef(['a','', 'b']), \n",
    " arrRemUndef(['a',undefined, 'b']),\n",
    " arrRemUndef([undefined,undefined, 'b'])\n",
    "],\n",
    "[_cleanData(3)(['a','1', 'b']), \n",
    " _cleanData(3)(['a','', 'b']),\n",
    " _cleanData(2)(['a','', 'b']), \n",
    " _cleanData(2)(['a',undefined, 'b']),\n",
    " _cleanData(3)(['5', '7', '8', undefined,undefined, 'b'])\n",
    "]\n",
    "]"
   ]
  },
  {
   "cell_type": "code",
   "execution_count": null,
   "metadata": {
    "collapsed": true
   },
   "outputs": [],
   "source": []
  },
  {
   "cell_type": "code",
   "execution_count": 14,
   "metadata": {
    "scrolled": true
   },
   "outputs": [
    {
     "data": {
      "text/plain": [
       "[\n",
       "  'Accum',            'FLATTEN',           'Frame',\n",
       "  'MultiDict',        'MultiDictSet',      'StrDict',\n",
       "  'SumDict',          '__ARRAY__',         '__DICT__',\n",
       "  '__FRAME__',        '__STRING__',        'accStr',\n",
       "  'access',           'arrCMP',            'arrConcat',\n",
       "  'arrCount',         'arrCountVal',       'arrCurry',\n",
       "  'arrDedup',         'arrDiff',           'arrDistinct',\n",
       "  'arrEQ',            'arrHash',           'arrIntersect',\n",
       "  'arrMax',           'arrMean',           'arrMin',\n",
       "  'arrOf',            'arrProd',           'arrRemove',\n",
       "  'arrSplit',         'arrSum',            'arrToCol',\n",
       "  'arrUnion',         'arrZip',            'asSortedSet',\n",
       "  'countCh',          'csvLine',           'dataSplit',\n",
       "  'dedupSortedArr',   'dictToZip',         'dictToZipB',\n",
       "  'filterDict',       'filterIX',          'findIndexOf',\n",
       "  'flatten',          'frameCount',        'frameFromBuffer',\n",
       "  'frameSum',         'frameToString',     'frameWithIndex',\n",
       "  'fromKeyValueList', 'fromKeyValueListV', 'gb',\n",
       "  'gbCount',          'gbMax',             'gbMean',\n",
       "  'gbMerge',          'gbMergeU',          'gbMin',\n",
       "  'gbStdDiv',         'gbSum',             'genFilterFunction',\n",
       "  'genObjMapper',     'groupByToDict',     'groupToDict',\n",
       "  'hasNoDups',        'haveFrame',         'intersect',\n",
       "  'intersectL',       'isA',               'isArray',\n",
       "  'isEmpty',          'isFunction',        'isSorted',\n",
       "  'isString',         'keys',              'last',\n",
       "  'mapOver',          'max',               'memoize',\n",
       "  'newArray',         'padTo',             'pick',\n",
       "  'pickRaw',          'prefixHead',        'prefixLen',\n",
       "  'prefixTail',       'prod',              'psvLine',\n",
       "  'range',            'redim',             'reord',\n",
       "  'reverse',          'safeDedup',         'setHash',\n",
       "  'setKey',           'setKeyV',           'shallow',\n",
       "  'similarity',\n",
       "  ... 15 more items\n",
       "]"
      ]
     },
     "execution_count": 14,
     "metadata": {},
     "output_type": "execute_result"
    }
   ],
   "source": [
    "var fs = require('fs');\n",
    "var str = fs.readFileSync('../dist/bundle.js');\n",
    "var zlib = require('zlib');\n",
    "eval(str.toString('utf8'));\n",
    "var {Frame, frameFromBuffer, csvLine, tsvLine, gb} = exports;\n",
    "function readZipData(fileName) {\n",
    "  const buffer = fs.readFileSync(fileName); // Read from file\n",
    "  // console.log(\"bytes read\", buffer.length)\n",
    "  return zlib.gunzipSync(buffer);\n",
    "}\n",
    " \n",
    "Object.keys(exports)"
   ]
  },
  {
   "cell_type": "code",
   "execution_count": 18,
   "metadata": {},
   "outputs": [
    {
     "data": {
      "text/plain": [
       "0"
      ]
     },
     "execution_count": 18,
     "metadata": {},
     "output_type": "execute_result"
    }
   ],
   "source": [
    "var request = require('request');\n",
    "var WORLD_DATA_SRC = 'https://covid.ourworldindata.org/data/full_data.csv';\n",
    "request.get(WORLD_DATA_SRC, function (error, response, body) {\n",
    "    if (!error && response.statusCode == 200) {\n",
    "        var csv = body;\n",
    "        frame = frameFromBuffer(csv.toString(),'',csvLine);\n",
    "        frame.data = frame.data.slice(0, frame.length-2)\n",
    "    }\n",
    "});\n",
    "0"
   ]
  },
  {
   "cell_type": "code",
   "execution_count": 24,
   "metadata": {},
   "outputs": [
    {
     "data": {
      "text/html": [
       "<style> \n",
       "\t\t\t\t.ftable  { font-family: arial, sans-serif; color: blue !important; } \n",
       "\t\t\t\ttd, th, tr { border: 1px solid #000000; text-align: left; } \n",
       "\t\t\t\tth {color: red !important}\n",
       "\t\t\t\ttr:nth-child(even) { background-color: #dddddd; } }\n",
       "\t\t\t</style>\n",
       "<p>Length: 161</p><table class=\"ftable\" style=\"border-collapse: collapse; border-spacing: 0;  border: 2px solid #000; font-size: 1rem\"><thead style=\"background-color: lightgrey\"><tr style=\"border: 2px solid #000\"><th style=\"border: 2px solid #000; color: blue\">Ix</th><th style=\"border: 2px solid #000; color: blue\">location</th><th style=\"border: 2px solid #000; color: blue\">count</th></tr></thead><tbody><tr style=\"background-color: #fffaff\"><td style=\"border: 2px solid #000\">0</td><td style=\"border: 2px solid #000\">China</td><td style=\"border: 2px solid #000\">57</td></tr><tr style=\"background-color: white\"><td style=\"border: 2px solid #000\">1</td><td style=\"border: 2px solid #000\">Japan</td><td style=\"border: 2px solid #000\">57</td></tr><tr style=\"background-color: #fffaff\"><td style=\"border: 2px solid #000\">2</td><td style=\"border: 2px solid #000\">South Korea</td><td style=\"border: 2px solid #000\">57</td></tr><tr style=\"background-color: white\"><td style=\"border: 2px solid #000\">3</td><td style=\"border: 2px solid #000\">Thailand</td><td style=\"border: 2px solid #000\">57</td></tr><tr style=\"background-color: #fffaff\"><td style=\"border: 2px solid #000\">4</td><td style=\"border: 2px solid #000\">World</td><td style=\"border: 2px solid #000\">56</td></tr><tr style=\"background-color: white\"><td style=\"border: 2px solid #000\">5</td><td style=\"border: 2px solid #000\">United States</td><td style=\"border: 2px solid #000\">55</td></tr><tr style=\"background-color: #fffaff\"><td style=\"border: 2px solid #000\">6</td><td style=\"border: 2px solid #000\">Singapore</td><td style=\"border: 2px solid #000\">54</td></tr><tr style=\"background-color: white\"><td style=\"border: 2px solid #000\">7</td><td style=\"border: 2px solid #000\">Vietnam</td><td style=\"border: 2px solid #000\">54</td></tr><tr style=\"background-color: #fffaff\"><td style=\"border: 2px solid #000\">8</td><td style=\"border: 2px solid #000\">Australia</td><td style=\"border: 2px solid #000\">53</td></tr><tr style=\"background-color: white\"><td style=\"border: 2px solid #000\">9</td><td style=\"border: 2px solid #000\">France</td><td style=\"border: 2px solid #000\">53</td></tr><tr style=\"background-color: #fffaff\"><td style=\"border: 2px solid #000\">10</td><td style=\"border: 2px solid #000\">Nepal</td><td style=\"border: 2px solid #000\">53</td></tr><tr style=\"background-color: white\"><td style=\"border: 2px solid #000\">11</td><td style=\"border: 2px solid #000\">Malaysia</td><td style=\"border: 2px solid #000\">52</td></tr><tr style=\"background-color: #fffaff\"><td style=\"border: 2px solid #000\">12</td><td style=\"border: 2px solid #000\">Canada</td><td style=\"border: 2px solid #000\">51</td></tr><tr style=\"background-color: white\"><td style=\"border: 2px solid #000\">13</td><td style=\"border: 2px solid #000\">Cambodia</td><td style=\"border: 2px solid #000\">50</td></tr><tr style=\"background-color: #fffaff\"><td style=\"border: 2px solid #000\">14</td><td style=\"border: 2px solid #000\">Germany</td><td style=\"border: 2px solid #000\">50</td></tr><tr style=\"background-color: white\"><td style=\"border: 2px solid #000\">15</td><td style=\"border: 2px solid #000\">Sri Lanka</td><td style=\"border: 2px solid #000\">50</td></tr><tr style=\"background-color: #fffaff\"><td style=\"border: 2px solid #000\">16</td><td style=\"border: 2px solid #000\">United Arab Emirates</td><td style=\"border: 2px solid #000\">49</td></tr><tr style=\"background-color: white\"><td style=\"border: 2px solid #000\">17</td><td style=\"border: 2px solid #000\">Finland</td><td style=\"border: 2px solid #000\">48</td></tr><tr style=\"background-color: #fffaff\"><td style=\"border: 2px solid #000\">18</td><td style=\"border: 2px solid #000\">India</td><td style=\"border: 2px solid #000\">48</td></tr><tr style=\"background-color: white\"><td style=\"border: 2px solid #000\">19</td><td style=\"border: 2px solid #000\">Philippines</td><td style=\"border: 2px solid #000\">48</td></tr><tr style=\"background-color: #fffaff\"><td style=\"border: 2px solid #000\">20</td><td style=\"border: 2px solid #000\">Italy</td><td style=\"border: 2px solid #000\">47</td></tr><tr style=\"background-color: white\"><td style=\"border: 2px solid #000\">21</td><td style=\"border: 2px solid #000\">Russia</td><td style=\"border: 2px solid #000\">46</td></tr><tr style=\"background-color: #fffaff\"><td style=\"border: 2px solid #000\">22</td><td style=\"border: 2px solid #000\">Spain</td><td style=\"border: 2px solid #000\">46</td></tr><tr style=\"background-color: white\"><td style=\"border: 2px solid #000\">23</td><td style=\"border: 2px solid #000\">Sweden</td><td style=\"border: 2px solid #000\">46</td></tr><tr style=\"background-color: #fffaff\"><td style=\"border: 2px solid #000\">24</td><td style=\"border: 2px solid #000\">United Kingdom</td><td style=\"border: 2px solid #000\">46</td></tr><tr style=\"background-color: white\"><td style=\"border: 2px solid #000\">25</td><td style=\"border: 2px solid #000\">Belgium</td><td style=\"border: 2px solid #000\">42</td></tr><tr style=\"background-color: #fffaff\"><td style=\"border: 2px solid #000\">26</td><td style=\"border: 2px solid #000\">International</td><td style=\"border: 2px solid #000\">41</td></tr><tr style=\"background-color: white\"><td style=\"border: 2px solid #000\">27</td><td style=\"border: 2px solid #000\">Egypt</td><td style=\"border: 2px solid #000\">32</td></tr><tr style=\"background-color: #fffaff\"><td style=\"border: 2px solid #000\">28</td><td style=\"border: 2px solid #000\">Iran</td><td style=\"border: 2px solid #000\">27</td></tr><tr style=\"background-color: white\"><td style=\"border: 2px solid #000\">29</td><td style=\"border: 2px solid #000\">Israel</td><td style=\"border: 2px solid #000\">25</td></tr><tr style=\"background-color: #fffaff\"><td style=\"border: 2px solid #000\">30</td><td style=\"border: 2px solid #000\">Lebanon</td><td style=\"border: 2px solid #000\">25</td></tr><tr style=\"background-color: white\"><td style=\"border: 2px solid #000\">31</td><td style=\"border: 2px solid #000\">Kuwait</td><td style=\"border: 2px solid #000\">23</td></tr><tr style=\"background-color: #fffaff\"><td style=\"border: 2px solid #000\">32</td><td style=\"border: 2px solid #000\">Afghanistan</td><td style=\"border: 2px solid #000\">22</td></tr><tr style=\"background-color: white\"><td style=\"border: 2px solid #000\">33</td><td style=\"border: 2px solid #000\">Bahrain</td><td style=\"border: 2px solid #000\">22</td></tr><tr style=\"background-color: #fffaff\"><td style=\"border: 2px solid #000\">34</td><td style=\"border: 2px solid #000\">Iraq</td><td style=\"border: 2px solid #000\">22</td></tr><tr style=\"background-color: white\"><td style=\"border: 2px solid #000\">35</td><td style=\"border: 2px solid #000\">Oman</td><td style=\"border: 2px solid #000\">22</td></tr><tr style=\"background-color: #fffaff\"><td style=\"border: 2px solid #000\">36</td><td style=\"border: 2px solid #000\">Algeria</td><td style=\"border: 2px solid #000\">21</td></tr><tr style=\"background-color: white\"><td style=\"border: 2px solid #000\">37</td><td style=\"border: 2px solid #000\">Austria</td><td style=\"border: 2px solid #000\">21</td></tr><tr style=\"background-color: #fffaff\"><td style=\"border: 2px solid #000\">38</td><td style=\"border: 2px solid #000\">Croatia</td><td style=\"border: 2px solid #000\">21</td></tr><tr style=\"background-color: white\"><td style=\"border: 2px solid #000\">39</td><td style=\"border: 2px solid #000\">Switzerland</td><td style=\"border: 2px solid #000\">21</td></tr><tr style=\"background-color: #fffaff\"><td style=\"border: 2px solid #000\">40</td><td style=\"border: 2px solid #000\">Brazil</td><td style=\"border: 2px solid #000\">20</td></tr><tr style=\"background-color: white\"><td style=\"border: 2px solid #000\">41</td><td style=\"border: 2px solid #000\">Denmark</td><td style=\"border: 2px solid #000\">20</td></tr><tr style=\"background-color: #fffaff\"><td style=\"border: 2px solid #000\">42</td><td style=\"border: 2px solid #000\">Estonia</td><td style=\"border: 2px solid #000\">20</td></tr><tr style=\"background-color: white\"><td style=\"border: 2px solid #000\">43</td><td style=\"border: 2px solid #000\">Georgia</td><td style=\"border: 2px solid #000\">20</td></tr><tr style=\"background-color: #fffaff\"><td style=\"border: 2px solid #000\">44</td><td style=\"border: 2px solid #000\">Greece</td><td style=\"border: 2px solid #000\">20</td></tr><tr style=\"background-color: white\"><td style=\"border: 2px solid #000\">45</td><td style=\"border: 2px solid #000\">Macedonia</td><td style=\"border: 2px solid #000\">20</td></tr><tr style=\"background-color: #fffaff\"><td style=\"border: 2px solid #000\">46</td><td style=\"border: 2px solid #000\">Norway</td><td style=\"border: 2px solid #000\">20</td></tr><tr style=\"background-color: white\"><td style=\"border: 2px solid #000\">47</td><td style=\"border: 2px solid #000\">Pakistan</td><td style=\"border: 2px solid #000\">20</td></tr><tr style=\"background-color: #fffaff\"><td style=\"border: 2px solid #000\">48</td><td style=\"border: 2px solid #000\">Romania</td><td style=\"border: 2px solid #000\">20</td></tr><tr style=\"background-color: white\"><td style=\"border: 2px solid #000\">49</td><td style=\"border: 2px solid #000\">Belarus</td><td style=\"border: 2px solid #000\">19</td></tr><tr style=\"background-color: #fffaff\"><td style=\"border: 2px solid #000\">50</td><td style=\"border: 2px solid #000\">Lithuania</td><td style=\"border: 2px solid #000\">19</td></tr><tr style=\"background-color: white\"><td style=\"border: 2px solid #000\">51</td><td style=\"border: 2px solid #000\">Netherlands</td><td style=\"border: 2px solid #000\">19</td></tr><tr style=\"background-color: #fffaff\"><td style=\"border: 2px solid #000\">52</td><td style=\"border: 2px solid #000\">New Zealand</td><td style=\"border: 2px solid #000\">19</td></tr><tr style=\"background-color: white\"><td style=\"border: 2px solid #000\">53</td><td style=\"border: 2px solid #000\">Nigeria</td><td style=\"border: 2px solid #000\">19</td></tr><tr style=\"background-color: #fffaff\"><td style=\"border: 2px solid #000\">54</td><td style=\"border: 2px solid #000\">Mexico</td><td style=\"border: 2px solid #000\">18</td></tr><tr style=\"background-color: white\"><td style=\"border: 2px solid #000\">55</td><td style=\"border: 2px solid #000\">San Marino</td><td style=\"border: 2px solid #000\">18</td></tr><tr style=\"background-color: #fffaff\"><td style=\"border: 2px solid #000\">56</td><td style=\"border: 2px solid #000\">Azerbaijan</td><td style=\"border: 2px solid #000\">17</td></tr><tr style=\"background-color: white\"><td style=\"border: 2px solid #000\">57</td><td style=\"border: 2px solid #000\">Ecuador</td><td style=\"border: 2px solid #000\">17</td></tr><tr style=\"background-color: #fffaff\"><td style=\"border: 2px solid #000\">58</td><td style=\"border: 2px solid #000\">Ireland</td><td style=\"border: 2px solid #000\">17</td></tr><tr style=\"background-color: white\"><td style=\"border: 2px solid #000\">59</td><td style=\"border: 2px solid #000\">Monaco</td><td style=\"border: 2px solid #000\">17</td></tr><tr style=\"background-color: #fffaff\"><td style=\"border: 2px solid #000\">60</td><td style=\"border: 2px solid #000\">Qatar</td><td style=\"border: 2px solid #000\">17</td></tr><tr style=\"background-color: white\"><td style=\"border: 2px solid #000\">61</td><td style=\"border: 2px solid #000\">Armenia</td><td style=\"border: 2px solid #000\">16</td></tr><tr style=\"background-color: #fffaff\"><td style=\"border: 2px solid #000\">62</td><td style=\"border: 2px solid #000\">Czech Republic</td><td style=\"border: 2px solid #000\">16</td></tr><tr style=\"background-color: white\"><td style=\"border: 2px solid #000\">63</td><td style=\"border: 2px solid #000\">Dominican Republic</td><td style=\"border: 2px solid #000\">16</td></tr><tr style=\"background-color: #fffaff\"><td style=\"border: 2px solid #000\">64</td><td style=\"border: 2px solid #000\">Iceland</td><td style=\"border: 2px solid #000\">16</td></tr><tr style=\"background-color: white\"><td style=\"border: 2px solid #000\">65</td><td style=\"border: 2px solid #000\">Indonesia</td><td style=\"border: 2px solid #000\">16</td></tr><tr style=\"background-color: #fffaff\"><td style=\"border: 2px solid #000\">66</td><td style=\"border: 2px solid #000\">Luxembourg</td><td style=\"border: 2px solid #000\">16</td></tr><tr style=\"background-color: white\"><td style=\"border: 2px solid #000\">67</td><td style=\"border: 2px solid #000\">Andorra</td><td style=\"border: 2px solid #000\">15</td></tr><tr style=\"background-color: #fffaff\"><td style=\"border: 2px solid #000\">68</td><td style=\"border: 2px solid #000\">Jordan</td><td style=\"border: 2px solid #000\">15</td></tr><tr style=\"background-color: white\"><td style=\"border: 2px solid #000\">69</td><td style=\"border: 2px solid #000\">Latvia</td><td style=\"border: 2px solid #000\">15</td></tr><tr style=\"background-color: #fffaff\"><td style=\"border: 2px solid #000\">70</td><td style=\"border: 2px solid #000\">Morocco</td><td style=\"border: 2px solid #000\">15</td></tr><tr style=\"background-color: white\"><td style=\"border: 2px solid #000\">71</td><td style=\"border: 2px solid #000\">Portugal</td><td style=\"border: 2px solid #000\">15</td></tr><tr style=\"background-color: #fffaff\"><td style=\"border: 2px solid #000\">72</td><td style=\"border: 2px solid #000\">Saudi Arabia</td><td style=\"border: 2px solid #000\">15</td></tr><tr style=\"background-color: white\"><td style=\"border: 2px solid #000\">73</td><td style=\"border: 2px solid #000\">Senegal</td><td style=\"border: 2px solid #000\">15</td></tr><tr style=\"background-color: #fffaff\"><td style=\"border: 2px solid #000\">74</td><td style=\"border: 2px solid #000\">Tunisia</td><td style=\"border: 2px solid #000\">15</td></tr><tr style=\"background-color: white\"><td style=\"border: 2px solid #000\">75</td><td style=\"border: 2px solid #000\">Argentina</td><td style=\"border: 2px solid #000\">14</td></tr><tr style=\"background-color: #fffaff\"><td style=\"border: 2px solid #000\">76</td><td style=\"border: 2px solid #000\">Chile</td><td style=\"border: 2px solid #000\">14</td></tr><tr style=\"background-color: white\"><td style=\"border: 2px solid #000\">77</td><td style=\"border: 2px solid #000\">Poland</td><td style=\"border: 2px solid #000\">14</td></tr><tr style=\"background-color: #fffaff\"><td style=\"border: 2px solid #000\">78</td><td style=\"border: 2px solid #000\">Ukraine</td><td style=\"border: 2px solid #000\">14</td></tr><tr style=\"background-color: white\"><td style=\"border: 2px solid #000\">79</td><td style=\"border: 2px solid #000\">Bosnia and Herzegovina</td><td style=\"border: 2px solid #000\">13</td></tr><tr style=\"background-color: #fffaff\"><td style=\"border: 2px solid #000\">80</td><td style=\"border: 2px solid #000\">Gibraltar</td><td style=\"border: 2px solid #000\">13</td></tr><tr style=\"background-color: white\"><td style=\"border: 2px solid #000\">81</td><td style=\"border: 2px solid #000\">Hungary</td><td style=\"border: 2px solid #000\">13</td></tr><tr style=\"background-color: #fffaff\"><td style=\"border: 2px solid #000\">82</td><td style=\"border: 2px solid #000\">Liechtenstein</td><td style=\"border: 2px solid #000\">13</td></tr><tr style=\"background-color: white\"><td style=\"border: 2px solid #000\">83</td><td style=\"border: 2px solid #000\">Palestine</td><td style=\"border: 2px solid #000\">13</td></tr><tr style=\"background-color: #fffaff\"><td style=\"border: 2px solid #000\">84</td><td style=\"border: 2px solid #000\">Saint Barthlemy</td><td style=\"border: 2px solid #000\">13</td></tr><tr style=\"background-color: white\"><td style=\"border: 2px solid #000\">85</td><td style=\"border: 2px solid #000\">Saint Martin (French part)</td><td style=\"border: 2px solid #000\">13</td></tr><tr style=\"background-color: #fffaff\"><td style=\"border: 2px solid #000\">86</td><td style=\"border: 2px solid #000\">Slovenia</td><td style=\"border: 2px solid #000\">13</td></tr><tr style=\"background-color: white\"><td style=\"border: 2px solid #000\">87</td><td style=\"border: 2px solid #000\">Bhutan</td><td style=\"border: 2px solid #000\">12</td></tr><tr style=\"background-color: #fffaff\"><td style=\"border: 2px solid #000\">88</td><td style=\"border: 2px solid #000\">Cameroon</td><td style=\"border: 2px solid #000\">12</td></tr><tr style=\"background-color: white\"><td style=\"border: 2px solid #000\">89</td><td style=\"border: 2px solid #000\">Serbia</td><td style=\"border: 2px solid #000\">12</td></tr><tr style=\"background-color: #fffaff\"><td style=\"border: 2px solid #000\">90</td><td style=\"border: 2px solid #000\">South Africa</td><td style=\"border: 2px solid #000\">12</td></tr><tr style=\"background-color: white\"><td style=\"border: 2px solid #000\">91</td><td style=\"border: 2px solid #000\">Colombia</td><td style=\"border: 2px solid #000\">11</td></tr><tr style=\"background-color: #fffaff\"><td style=\"border: 2px solid #000\">92</td><td style=\"border: 2px solid #000\">Peru</td><td style=\"border: 2px solid #000\">11</td></tr><tr style=\"background-color: white\"><td style=\"border: 2px solid #000\">93</td><td style=\"border: 2px solid #000\">Slovakia</td><td style=\"border: 2px solid #000\">11</td></tr><tr style=\"background-color: #fffaff\"><td style=\"border: 2px solid #000\">94</td><td style=\"border: 2px solid #000\">Togo</td><td style=\"border: 2px solid #000\">11</td></tr><tr style=\"background-color: white\"><td style=\"border: 2px solid #000\">95</td><td style=\"border: 2px solid #000\">Vatican</td><td style=\"border: 2px solid #000\">11</td></tr><tr style=\"background-color: #fffaff\"><td style=\"border: 2px solid #000\">96</td><td style=\"border: 2px solid #000\">Bulgaria</td><td style=\"border: 2px solid #000\">10</td></tr><tr style=\"background-color: white\"><td style=\"border: 2px solid #000\">97</td><td style=\"border: 2px solid #000\">Costa Rica</td><td style=\"border: 2px solid #000\">10</td></tr><tr style=\"background-color: #fffaff\"><td style=\"border: 2px solid #000\">98</td><td style=\"border: 2px solid #000\">Faeroe Islands</td><td style=\"border: 2px solid #000\">10</td></tr><tr style=\"background-color: white\"><td style=\"border: 2px solid #000\">99</td><td style=\"border: 2px solid #000\">French Guiana</td><td style=\"border: 2px solid #000\">10</td></tr><tr style=\"background-color: #fffaff\"><td style=\"border: 2px solid #000\">100</td><td style=\"border: 2px solid #000\">Maldives</td><td style=\"border: 2px solid #000\">10</td></tr><tr style=\"background-color: white\"><td style=\"border: 2px solid #000\">101</td><td style=\"border: 2px solid #000\">Malta</td><td style=\"border: 2px solid #000\">10</td></tr><tr style=\"background-color: #fffaff\"><td style=\"border: 2px solid #000\">102</td><td style=\"border: 2px solid #000\">Martinique</td><td style=\"border: 2px solid #000\">10</td></tr><tr style=\"background-color: white\"><td style=\"border: 2px solid #000\">103</td><td style=\"border: 2px solid #000\">Moldova</td><td style=\"border: 2px solid #000\">10</td></tr><tr style=\"background-color: #fffaff\"><td style=\"border: 2px solid #000\">104</td><td style=\"border: 2px solid #000\">Albania</td><td style=\"border: 2px solid #000\">9</td></tr><tr style=\"background-color: white\"><td style=\"border: 2px solid #000\">105</td><td style=\"border: 2px solid #000\">Bangladesh</td><td style=\"border: 2px solid #000\">9</td></tr><tr style=\"background-color: #fffaff\"><td style=\"border: 2px solid #000\">106</td><td style=\"border: 2px solid #000\">Paraguay</td><td style=\"border: 2px solid #000\">9</td></tr><tr style=\"background-color: white\"><td style=\"border: 2px solid #000\">107</td><td style=\"border: 2px solid #000\">Brunei</td><td style=\"border: 2px solid #000\">8</td></tr><tr style=\"background-color: #fffaff\"><td style=\"border: 2px solid #000\">108</td><td style=\"border: 2px solid #000\">Cyprus</td><td style=\"border: 2px solid #000\">8</td></tr><tr style=\"background-color: white\"><td style=\"border: 2px solid #000\">109</td><td style=\"border: 2px solid #000\">Guernsey</td><td style=\"border: 2px solid #000\">8</td></tr><tr style=\"background-color: #fffaff\"><td style=\"border: 2px solid #000\">110</td><td style=\"border: 2px solid #000\">Mongolia</td><td style=\"border: 2px solid #000\">8</td></tr><tr style=\"background-color: white\"><td style=\"border: 2px solid #000\">111</td><td style=\"border: 2px solid #000\">Panama</td><td style=\"border: 2px solid #000\">8</td></tr><tr style=\"background-color: #fffaff\"><td style=\"border: 2px solid #000\">112</td><td style=\"border: 2px solid #000\">Bolivia</td><td style=\"border: 2px solid #000\">7</td></tr><tr style=\"background-color: white\"><td style=\"border: 2px solid #000\">113</td><td style=\"border: 2px solid #000\">Burkina Faso</td><td style=\"border: 2px solid #000\">7</td></tr><tr style=\"background-color: #fffaff\"><td style=\"border: 2px solid #000\">114</td><td style=\"border: 2px solid #000\">Democratic Republic of Congo</td><td style=\"border: 2px solid #000\">7</td></tr><tr style=\"background-color: white\"><td style=\"border: 2px solid #000\">115</td><td style=\"border: 2px solid #000\">Jamaica</td><td style=\"border: 2px solid #000\">7</td></tr><tr style=\"background-color: #fffaff\"><td style=\"border: 2px solid #000\">116</td><td style=\"border: 2px solid #000\">Cote d'Ivoire</td><td style=\"border: 2px solid #000\">6</td></tr><tr style=\"background-color: white\"><td style=\"border: 2px solid #000\">117</td><td style=\"border: 2px solid #000\">French Polynesia</td><td style=\"border: 2px solid #000\">6</td></tr><tr style=\"background-color: #fffaff\"><td style=\"border: 2px solid #000\">118</td><td style=\"border: 2px solid #000\">Honduras</td><td style=\"border: 2px solid #000\">6</td></tr><tr style=\"background-color: white\"><td style=\"border: 2px solid #000\">119</td><td style=\"border: 2px solid #000\">Turkey</td><td style=\"border: 2px solid #000\">6</td></tr><tr style=\"background-color: #fffaff\"><td style=\"border: 2px solid #000\">120</td><td style=\"border: 2px solid #000\">Cuba</td><td style=\"border: 2px solid #000\">5</td></tr><tr style=\"background-color: white\"><td style=\"border: 2px solid #000\">121</td><td style=\"border: 2px solid #000\">Guyana</td><td style=\"border: 2px solid #000\">5</td></tr><tr style=\"background-color: #fffaff\"><td style=\"border: 2px solid #000\">122</td><td style=\"border: 2px solid #000\">Jersey</td><td style=\"border: 2px solid #000\">5</td></tr><tr style=\"background-color: white\"><td style=\"border: 2px solid #000\">123</td><td style=\"border: 2px solid #000\">Reunion</td><td style=\"border: 2px solid #000\">5</td></tr><tr style=\"background-color: #fffaff\"><td style=\"border: 2px solid #000\">124</td><td style=\"border: 2px solid #000\">Saint Vincent and the Grenadines</td><td style=\"border: 2px solid #000\">5</td></tr><tr style=\"background-color: white\"><td style=\"border: 2px solid #000\">125</td><td style=\"border: 2px solid #000\">Antigua and Barbuda</td><td style=\"border: 2px solid #000\">4</td></tr><tr style=\"background-color: #fffaff\"><td style=\"border: 2px solid #000\">126</td><td style=\"border: 2px solid #000\">Cayman Islands</td><td style=\"border: 2px solid #000\">4</td></tr><tr style=\"background-color: white\"><td style=\"border: 2px solid #000\">127</td><td style=\"border: 2px solid #000\">Ethiopia</td><td style=\"border: 2px solid #000\">4</td></tr><tr style=\"background-color: #fffaff\"><td style=\"border: 2px solid #000\">128</td><td style=\"border: 2px solid #000\">Gabon</td><td style=\"border: 2px solid #000\">4</td></tr><tr style=\"background-color: white\"><td style=\"border: 2px solid #000\">129</td><td style=\"border: 2px solid #000\">Ghana</td><td style=\"border: 2px solid #000\">4</td></tr><tr style=\"background-color: #fffaff\"><td style=\"border: 2px solid #000\">130</td><td style=\"border: 2px solid #000\">Guadeloupe</td><td style=\"border: 2px solid #000\">4</td></tr><tr style=\"background-color: white\"><td style=\"border: 2px solid #000\">131</td><td style=\"border: 2px solid #000\">Guinea</td><td style=\"border: 2px solid #000\">4</td></tr><tr style=\"background-color: #fffaff\"><td style=\"border: 2px solid #000\">132</td><td style=\"border: 2px solid #000\">Kenya</td><td style=\"border: 2px solid #000\">4</td></tr><tr style=\"background-color: white\"><td style=\"border: 2px solid #000\">133</td><td style=\"border: 2px solid #000\">Puerto Rico</td><td style=\"border: 2px solid #000\">4</td></tr><tr style=\"background-color: #fffaff\"><td style=\"border: 2px solid #000\">134</td><td style=\"border: 2px solid #000\">Sudan</td><td style=\"border: 2px solid #000\">4</td></tr><tr style=\"background-color: white\"><td style=\"border: 2px solid #000\">135</td><td style=\"border: 2px solid #000\">Trinidad and Tobago</td><td style=\"border: 2px solid #000\">4</td></tr><tr style=\"background-color: #fffaff\"><td style=\"border: 2px solid #000\">136</td><td style=\"border: 2px solid #000\">Venezuela</td><td style=\"border: 2px solid #000\">4</td></tr><tr style=\"background-color: white\"><td style=\"border: 2px solid #000\">137</td><td style=\"border: 2px solid #000\">Central African Republic</td><td style=\"border: 2px solid #000\">3</td></tr><tr style=\"background-color: #fffaff\"><td style=\"border: 2px solid #000\">138</td><td style=\"border: 2px solid #000\">Congo</td><td style=\"border: 2px solid #000\">3</td></tr><tr style=\"background-color: white\"><td style=\"border: 2px solid #000\">139</td><td style=\"border: 2px solid #000\">Curacao</td><td style=\"border: 2px solid #000\">3</td></tr><tr style=\"background-color: #fffaff\"><td style=\"border: 2px solid #000\">140</td><td style=\"border: 2px solid #000\">Equatorial Guinea</td><td style=\"border: 2px solid #000\">3</td></tr><tr style=\"background-color: white\"><td style=\"border: 2px solid #000\">141</td><td style=\"border: 2px solid #000\">Kazakhstan</td><td style=\"border: 2px solid #000\">3</td></tr><tr style=\"background-color: #fffaff\"><td style=\"border: 2px solid #000\">142</td><td style=\"border: 2px solid #000\">Mauritania</td><td style=\"border: 2px solid #000\">3</td></tr><tr style=\"background-color: white\"><td style=\"border: 2px solid #000\">143</td><td style=\"border: 2px solid #000\">Mayotte</td><td style=\"border: 2px solid #000\">3</td></tr><tr style=\"background-color: #fffaff\"><td style=\"border: 2px solid #000\">144</td><td style=\"border: 2px solid #000\">Namibia</td><td style=\"border: 2px solid #000\">3</td></tr><tr style=\"background-color: white\"><td style=\"border: 2px solid #000\">145</td><td style=\"border: 2px solid #000\">Swaziland</td><td style=\"border: 2px solid #000\">3</td></tr><tr style=\"background-color: #fffaff\"><td style=\"border: 2px solid #000\">146</td><td style=\"border: 2px solid #000\">Guatemala</td><td style=\"border: 2px solid #000\">2</td></tr><tr style=\"background-color: white\"><td style=\"border: 2px solid #000\">147</td><td style=\"border: 2px solid #000\">Rwanda</td><td style=\"border: 2px solid #000\">2</td></tr><tr style=\"background-color: #fffaff\"><td style=\"border: 2px solid #000\">148</td><td style=\"border: 2px solid #000\">Saint Lucia</td><td style=\"border: 2px solid #000\">2</td></tr><tr style=\"background-color: white\"><td style=\"border: 2px solid #000\">149</td><td style=\"border: 2px solid #000\">Seychelles</td><td style=\"border: 2px solid #000\">2</td></tr><tr style=\"background-color: #fffaff\"><td style=\"border: 2px solid #000\">150</td><td style=\"border: 2px solid #000\">Suriname</td><td style=\"border: 2px solid #000\">2</td></tr><tr style=\"background-color: white\"><td style=\"border: 2px solid #000\">151</td><td style=\"border: 2px solid #000\">Uruguay</td><td style=\"border: 2px solid #000\">2</td></tr><tr style=\"background-color: #fffaff\"><td style=\"border: 2px solid #000\">152</td><td style=\"border: 2px solid #000\">Uzbekistan</td><td style=\"border: 2px solid #000\">2</td></tr><tr style=\"background-color: white\"><td style=\"border: 2px solid #000\">153</td><td style=\"border: 2px solid #000\">Aruba</td><td style=\"border: 2px solid #000\">1</td></tr><tr style=\"background-color: #fffaff\"><td style=\"border: 2px solid #000\">154</td><td style=\"border: 2px solid #000\">Bahamas</td><td style=\"border: 2px solid #000\">1</td></tr><tr style=\"background-color: white\"><td style=\"border: 2px solid #000\">155</td><td style=\"border: 2px solid #000\">Benin</td><td style=\"border: 2px solid #000\">1</td></tr><tr style=\"background-color: #fffaff\"><td style=\"border: 2px solid #000\">156</td><td style=\"border: 2px solid #000\">Guam</td><td style=\"border: 2px solid #000\">1</td></tr><tr style=\"background-color: white\"><td style=\"border: 2px solid #000\">157</td><td style=\"border: 2px solid #000\">Liberia</td><td style=\"border: 2px solid #000\">1</td></tr><tr style=\"background-color: #fffaff\"><td style=\"border: 2px solid #000\">158</td><td style=\"border: 2px solid #000\">Somalia</td><td style=\"border: 2px solid #000\">1</td></tr><tr style=\"background-color: white\"><td style=\"border: 2px solid #000\">159</td><td style=\"border: 2px solid #000\">Tanzania</td><td style=\"border: 2px solid #000\">1</td></tr><tr style=\"background-color: #fffaff\"><td style=\"border: 2px solid #000\">160</td><td style=\"border: 2px solid #000\">United States Virgin Islands</td><td style=\"border: 2px solid #000\">1</td></tr></tbody></table>"
      ],
      "text/plain": [
       "t {\n",
       "  keyFunc: [Function: value],\n",
       "  data: [\n",
       "    [ 'China', 57 ],\n",
       "    [ 'Japan', 57 ],\n",
       "    [ 'South Korea', 57 ],\n",
       "    [ 'Thailand', 57 ],\n",
       "    [ 'World', 56 ],\n",
       "    [ 'United States', 55 ],\n",
       "    [ 'Singapore', 54 ],\n",
       "    [ 'Vietnam', 54 ],\n",
       "    [ 'Australia', 53 ],\n",
       "    [ 'France', 53 ],\n",
       "    [ 'Nepal', 53 ],\n",
       "    [ 'Malaysia', 52 ],\n",
       "    [ 'Canada', 51 ],\n",
       "    [ 'Cambodia', 50 ],\n",
       "    [ 'Germany', 50 ],\n",
       "    [ 'Sri Lanka', 50 ],\n",
       "    [ 'United Arab Emirates', 49 ],\n",
       "    [ 'Finland', 48 ],\n",
       "    [ 'India', 48 ],\n",
       "    [ 'Philippines', 48 ],\n",
       "    [ 'Italy', 47 ],\n",
       "    [ 'Russia', 46 ],\n",
       "    [ 'Spain', 46 ],\n",
       "    [ 'Sweden', 46 ],\n",
       "    [ 'United Kingdom', 46 ],\n",
       "    [ 'Belgium', 42 ],\n",
       "    [ 'International', 41 ],\n",
       "    [ 'Egypt', 32 ],\n",
       "    [ 'Iran', 27 ],\n",
       "    [ 'Israel', 25 ],\n",
       "    [ 'Lebanon', 25 ],\n",
       "    [ 'Kuwait', 23 ],\n",
       "    [ 'Afghanistan', 22 ],\n",
       "    [ 'Bahrain', 22 ],\n",
       "    [ 'Iraq', 22 ],\n",
       "    [ 'Oman', 22 ],\n",
       "    [ 'Algeria', 21 ],\n",
       "    [ 'Austria', 21 ],\n",
       "    [ 'Croatia', 21 ],\n",
       "    [ 'Switzerland', 21 ],\n",
       "    [ 'Brazil', 20 ],\n",
       "    [ 'Denmark', 20 ],\n",
       "    [ 'Estonia', 20 ],\n",
       "    [ 'Georgia', 20 ],\n",
       "    [ 'Greece', 20 ],\n",
       "    [ 'Macedonia', 20 ],\n",
       "    [ 'Norway', 20 ],\n",
       "    [ 'Pakistan', 20 ],\n",
       "    [ 'Romania', 20 ],\n",
       "    [ 'Belarus', 19 ],\n",
       "    [ 'Lithuania', 19 ],\n",
       "    [ 'Netherlands', 19 ],\n",
       "    [ 'New Zealand', 19 ],\n",
       "    [ 'Nigeria', 19 ],\n",
       "    [ 'Mexico', 18 ],\n",
       "    [ 'San Marino', 18 ],\n",
       "    [ 'Azerbaijan', 17 ],\n",
       "    [ 'Ecuador', 17 ],\n",
       "    [ 'Ireland', 17 ],\n",
       "    [ 'Monaco', 17 ],\n",
       "    [ 'Qatar', 17 ],\n",
       "    [ 'Armenia', 16 ],\n",
       "    [ 'Czech Republic', 16 ],\n",
       "    [ 'Dominican Republic', 16 ],\n",
       "    [ 'Iceland', 16 ],\n",
       "    [ 'Indonesia', 16 ],\n",
       "    [ 'Luxembourg', 16 ],\n",
       "    [ 'Andorra', 15 ],\n",
       "    [ 'Jordan', 15 ],\n",
       "    [ 'Latvia', 15 ],\n",
       "    [ 'Morocco', 15 ],\n",
       "    [ 'Portugal', 15 ],\n",
       "    [ 'Saudi Arabia', 15 ],\n",
       "    [ 'Senegal', 15 ],\n",
       "    [ 'Tunisia', 15 ],\n",
       "    [ 'Argentina', 14 ],\n",
       "    [ 'Chile', 14 ],\n",
       "    [ 'Poland', 14 ],\n",
       "    [ 'Ukraine', 14 ],\n",
       "    [ 'Bosnia and Herzegovina', 13 ],\n",
       "    [ 'Gibraltar', 13 ],\n",
       "    [ 'Hungary', 13 ],\n",
       "    [ 'Liechtenstein', 13 ],\n",
       "    [ 'Palestine', 13 ],\n",
       "    [ 'Saint Barthlemy', 13 ],\n",
       "    [ 'Saint Martin (French part)', 13 ],\n",
       "    [ 'Slovenia', 13 ],\n",
       "    [ 'Bhutan', 12 ],\n",
       "    [ 'Cameroon', 12 ],\n",
       "    [ 'Serbia', 12 ],\n",
       "    [ 'South Africa', 12 ],\n",
       "    [ 'Colombia', 11 ],\n",
       "    [ 'Peru', 11 ],\n",
       "    [ 'Slovakia', 11 ],\n",
       "    [ 'Togo', 11 ],\n",
       "    [ 'Vatican', 11 ],\n",
       "    [ 'Bulgaria', 10 ],\n",
       "    [ 'Costa Rica', 10 ],\n",
       "    [ 'Faeroe Islands', 10 ],\n",
       "    [ 'French Guiana', 10 ],\n",
       "    ... 61 more items\n",
       "  ],\n",
       "  _columns: [ 'location', 'count' ],\n",
       "  _name: 'grouped',\n",
       "  _unique: undefined,\n",
       "  _sortCols: [],\n",
       "  _row: undefined,\n",
       "  AccessClass: [Function],\n",
       "  showLen: 400,\n",
       "  _hash: -1,\n",
       "  sorted: [ '-count' ]\n",
       "}"
      ]
     },
     "execution_count": 24,
     "metadata": {},
     "output_type": "execute_result"
    }
   ],
   "source": [
    "var {Frame, frameFromBuffer, csvLine, tsvLine, gb} = exports;\n",
    "frame.groupBy(['location',gb.count('date','count')]).sort(['-count'])\n"
   ]
  },
  {
   "cell_type": "code",
   "execution_count": 2,
   "metadata": {},
   "outputs": [
    {
     "data": {
      "text/html": [
       "<style> \n",
       "\t\t\t\t.ftable  { font-family: arial, sans-serif; color: blue !important; } \n",
       "\t\t\t\ttd, th, tr { border: 1px solid #000000; text-align: left; } \n",
       "\t\t\t\tth {color: red !important}\n",
       "\t\t\t\ttr:nth-child(even) { background-color: #dddddd; } }\n",
       "\t\t\t</style>\n",
       "<p>Length: 2</p><table class=\"ftable\" style=\"border-collapse: collapse; border-spacing: 0;  border: 2px solid #000; font-size: 1rem\"><thead style=\"background-color: lightgrey\"><tr style=\"border: 2px solid #000\"><th style=\"border: 2px solid #000; color: blue\">Ix</th><th style=\"border: 2px solid #000; color: blue\">TYPE</th></tr></thead><tbody><tr style=\"background-color: #fffaff\"><td style=\"border: 2px solid #000\">0</td><td style=\"border: 2px solid #000\">CM</td></tr><tr style=\"background-color: white\"><td style=\"border: 2px solid #000\">1</td><td style=\"border: 2px solid #000\">PCS</td></tr></tbody></table>"
      ],
      "text/plain": [
       "t {\n",
       "  keyFunc: [Function: value],\n",
       "  data: [ [ 'CM' ], [ 'PCS' ] ],\n",
       "  _columns: [ 'TYPE' ],\n",
       "  _name: 'grouped',\n",
       "  _unique: undefined,\n",
       "  _sortCols: [],\n",
       "  _row: undefined,\n",
       "  AccessClass: [Function],\n",
       "  showLen: 400,\n",
       "  _hash: -1\n",
       "}"
      ]
     },
     "execution_count": 2,
     "metadata": {},
     "output_type": "execute_result"
    }
   ],
   "source": [
    "var s = readZipData('../data/reference/all_icd10_codes.tsv.gz').toString('utf8');\n",
    "var {Frame, frameFromBuffer, tsvLine} = exports;\n",
    "var frame = frameFromBuffer(s,'',tsvLine);\n",
    "//frame\n",
    "frame.groupBy(['TYPE'])"
   ]
  },
  {
   "cell_type": "code",
   "execution_count": null,
   "metadata": {},
   "outputs": [],
   "source": [
    "var ff = require('../lib');\n",
    "//var Frame = ff.Frame;"
   ]
  },
  {
   "cell_type": "code",
   "execution_count": null,
   "metadata": {},
   "outputs": [],
   "source": [
    "function doN(n, fn) {\n",
    "    return () =>{\n",
    "        var res;\n",
    "        for(let i=0;i<n; i++) { res = fn(res); }\n",
    "        return res;\n",
    "    }\n",
    "}"
   ]
  },
  {
   "cell_type": "code",
   "execution_count": null,
   "metadata": {
    "scrolled": false
   },
   "outputs": [],
   "source": [
    "var ICD10 = readZipFrame('../data/reference/all_icd10_codes.tsv.gz');\n",
    "var A = r => r.ICD10[0] === 'A';\n",
    "ICD10.slice(0,20);"
   ]
  },
  {
   "cell_type": "code",
   "execution_count": null,
   "metadata": {},
   "outputs": [],
   "source": [
    " var _ = timeOf(doN(1, () => ICD10.data.filter(r => r[0][0] === 'A' )));\n"
   ]
  },
  {
   "cell_type": "code",
   "execution_count": null,
   "metadata": {
    "scrolled": true
   },
   "outputs": [],
   "source": [
    "function filter(fr,fn) {\n",
    "    let data = fr.data;\n",
    "    let res = [];\n",
    "    for(let i=0; i<data.length; i++) {\n",
    "        let d = data[i];\n",
    "        if(fn(d,i)) res.push(d);\n",
    "    }\n",
    "    return res;\n",
    "}\n",
    "var _ = timeOf(doN(1, () => filter(ICD10,r => r[0][0] === 'A' )));\n",
    "\n",
    "\n",
    "ICD10.groupBy(['TYPE'])"
   ]
  },
  {
   "cell_type": "code",
   "execution_count": null,
   "metadata": {},
   "outputs": [],
   "source": [
    "var exp = require('../dist/bundle');\n",
    "exp"
   ]
  },
  {
   "cell_type": "code",
   "execution_count": null,
   "metadata": {},
   "outputs": [],
   "source": [
    "function getAllMethods(obj) {\n",
    "    let props = []\n",
    "\n",
    "    do {\n",
    "        const l = Object.getOwnPropertyNames(obj)\n",
    "            .concat(Object.getOwnPropertySymbols(obj).map(s => s.toString()))\n",
    "            .sort()\n",
    "            .filter((p, i, arr) =>\n",
    "                typeof obj[p] === 'function' &&  //only the methods\n",
    "                p !== 'constructor' &&           //not the constructor\n",
    "                (i == 0 || p !== arr[i - 1]) &&  //not overriding in this prototype\n",
    "                props.indexOf(p) === -1          //not overridden in a child\n",
    "            )\n",
    "        props = props.concat(l)\n",
    "    }\n",
    "    while (\n",
    "        (obj = Object.getPrototypeOf(obj)) &&   //walk-up the prototype chain\n",
    "        Object.getPrototypeOf(obj)              //not the the Object prototype methods (hasOwnProperty, etc...)\n",
    "    )\n",
    "\n",
    "    return props\n",
    "}\n",
    "getAllMethods( new exp.Frame());\n"
   ]
  },
  {
   "cell_type": "code",
   "execution_count": null,
   "metadata": {
    "collapsed": true
   },
   "outputs": [],
   "source": [
    "var exp = require('../lib');\n",
    "function PICK(name,...args) {\n",
    "    return o => o[name](...args);\n",
    "}\n",
    "Object.keys(exp).filter(s => s.match(/__(.*)__/))\n",
    "    .map(s => s.replace(/__(.*)__/, \"$1\"))\n",
    "    .map(PICK('toLowerCase')).map(n => require('../lib/'+n));\n"
   ]
  },
  {
   "cell_type": "code",
   "execution_count": null,
   "metadata": {},
   "outputs": [],
   "source": [
    "var CNT = 1\n",
    "var myData = timeOf(doN(CNT, () =>ICD10.filter(r => !r.ICD10.match(/^A/) ).project(['ICD10'])))\n",
    "var __ =   timeOf(doN(CNT, () =>ICD10.filter(r => !r.ICD10.startsWith('A') ).project(['ICD10'])))\n",
    "var ___ =  timeOf(doN(CNT, () =>ICD10.filter(NOT(A)).project(['ICD10'])))\n",
    "\n",
    "\n",
    "__"
   ]
  },
  {
   "cell_type": "code",
   "execution_count": null,
   "metadata": {},
   "outputs": [],
   "source": [
    "var getMethods = (obj) => Object.getOwnPropertyNames(obj).filter(item => typeof obj[item] === 'function')\n",
    "CNT=1;\n",
    "console.log('len', ICD10.length)\n",
    "var x =timeOf(doN(CNT,() => ICD10.innerJoin(myData, [...ICD10.columns.map(x => '1.'+x)], 'ICD10')))//.slice(10,20)\n",
    "timeOf(() =>ICD10.project([\"T\", 'TYPE', 'ICD10'], {T: r => r.ICD10[0] },true)\n",
    "    .groupBy(['T', 'TYPE', gb.count('ICD10', 'CNT')])\n",
    "    .sort(['-CNT']));\n",
    "//gb"
   ]
  },
  {
   "cell_type": "code",
   "execution_count": null,
   "metadata": {
    "scrolled": true
   },
   "outputs": [],
   "source": [
    "function renameColumns(frame,map) {\n",
    "\treturn frame.columns.map(c => map[c]?map[c]:c);\n",
    "\n",
    "}\n",
    "\n"
   ]
  },
  {
   "cell_type": "code",
   "execution_count": null,
   "metadata": {
    "scrolled": false
   },
   "outputs": [],
   "source": [
    "var NAMES = new Frame([['PCS', \"Procedure\"], ['CM', \"Diagnostic\"],[\"???\", \"Unknown\"]], [\"TYPE\", \"DESC\"], \"ICD-TYPE\");\n",
    "var VALUES = new Frame([['PCS', \"Institution\"], ['CM', \"Any\"],[\"UNK\", \"Unknown\"]], [\"TYPE\", \"LOC\"], \"ICD-TYPE\");\n",
    "\n",
    "\n",
    "\n",
    "keys(gb)"
   ]
  },
  {
   "cell_type": "code",
   "execution_count": null,
   "metadata": {},
   "outputs": [],
   "source": [
    "NAMES.leftJoin(ICD10, renameColumns(ICD10, {TYPE: '1.DESC=TYPE'}), \"TYPE\")\n",
    "      .groupBy(['TYPE', gb.count('TYPE','CNT')])//.groupBy([gb.min('CNT')])"
   ]
  },
  {
   "cell_type": "code",
   "execution_count": null,
   "metadata": {},
   "outputs": [],
   "source": [
    "NAMES.leftJoin(VALUES, \"1.TYPE,DESC,LOC\".split(','), 'TYPE')"
   ]
  },
  {
   "cell_type": "code",
   "execution_count": null,
   "metadata": {},
   "outputs": [],
   "source": [
    "NAMES.outerJoin(VALUES, \"1.TYPE,DESC,LOC\".split(','), 'TYPE').sort([\"DESC\", \"TYPE\"])"
   ]
  },
  {
   "cell_type": "code",
   "execution_count": null,
   "metadata": {
    "scrolled": true
   },
   "outputs": [],
   "source": [
    "NAMES.innerJoin(ICD10, renameColumns(ICD10, {TYPE: '1.DESC'}), \"TYPE\")"
   ]
  },
  {
   "cell_type": "code",
   "execution_count": null,
   "metadata": {},
   "outputs": [],
   "source": [
    "NAMES.outerJoin(ICD10, renameColumns(ICD10, {TYPE: '1.DESC'}), \"TYPE\")"
   ]
  },
  {
   "cell_type": "code",
   "execution_count": null,
   "metadata": {
    "collapsed": true,
    "scrolled": true
   },
   "outputs": [],
   "source": []
  },
  {
   "cell_type": "code",
   "execution_count": null,
   "metadata": {},
   "outputs": [],
   "source": [
    "//var {Frame} = require('../dist/bundle.js');"
   ]
  },
  {
   "cell_type": "code",
   "execution_count": null,
   "metadata": {
    "scrolled": false
   },
   "outputs": [],
   "source": [
    "var C = class {\n",
    "    constructor(a) {\n",
    "        this.value = a;\n",
    "    }\n",
    "    \n",
    "    \n",
    "};\n",
    "\n",
    "var c = new C(1);\n",
    "new c.constructor(2);\n",
    "function timeOf(fn) {\n",
    "  const name = 'func';\n",
    "  const t0 = new Date().getTime();\n",
    "\n",
    "  const res = fn();\n",
    "\n",
    "  const t1 = new Date().getTime();\n",
    "  console.log(`Call to ${name} took ${t1 - t0} milliseconds.`);\n",
    "  return res;\n",
    "}"
   ]
  },
  {
   "cell_type": "code",
   "execution_count": null,
   "metadata": {},
   "outputs": [],
   "source": [
    "var la = require('../lib/array')"
   ]
  },
  {
   "cell_type": "code",
   "execution_count": null,
   "metadata": {
    "scrolled": true
   },
   "outputs": [],
   "source": [
    "function test(n) {\n",
    "    var a = la.newArray(n);\n",
    "    for(let i=0; i<n; i++) a[i] = i;\n",
    "    return a;\n",
    "}\n",
    "\n",
    "function test0(n) {\n",
    "    var a = new Int32Array(n);\n",
    "    for(let i=0; i<n; i++) a[i] = i;\n",
    "    return a;\n",
    "}\n",
    "\n",
    "function test2(n) {\n",
    "    var a = [];\n",
    "    for(let i=0; i<n; i++) a.push(i);\n",
    "    return a;\n",
    "}\n",
    "\n",
    "function timeOf(fn) {\n",
    "  const name = 'func';\n",
    "  const t0 = new Date().getTime();\n",
    "\n",
    "  const res = fn();\n",
    "\n",
    "  const t1 = new Date().getTime();\n",
    "  console.log(`Call to ${name} took ${t1 - t0} milliseconds.`);\n",
    "  return res;\n",
    "}\n",
    "\n",
    "[timeOf(() => la.arrSum(test(10000000))),\n",
    "timeOf(() => la.arrSum(test0(10000000)))];\n",
    "var a = test0(10000000);\n",
    "var b = test2(10000000);\n"
   ]
  },
  {
   "cell_type": "code",
   "execution_count": null,
   "metadata": {},
   "outputs": [],
   "source": [
    "[timeOf(() => {for(i=0; i<100; i++)la.arrSum(b)}),\n",
    "timeOf(() => {for(i=0; i<100; i++)la.arrSum(a)})]"
   ]
  },
  {
   "cell_type": "code",
   "execution_count": null,
   "metadata": {},
   "outputs": [],
   "source": [
    "//var {Frame} = require('../lib/frame')"
   ]
  },
  {
   "cell_type": "code",
   "execution_count": null,
   "metadata": {},
   "outputs": [],
   "source": [
    "var f = new Frame( [[1,2],[3,4]],['a','b'],'test');\n",
    "ArrayBuffer.isView(new Int32Array(10))"
   ]
  },
  {
   "cell_type": "code",
   "execution_count": null,
   "metadata": {
    "scrolled": true
   },
   "outputs": [],
   "source": [
    "f.sort(['-b'])"
   ]
  },
  {
   "cell_type": "code",
   "execution_count": null,
   "metadata": {
    "scrolled": true
   },
   "outputs": [],
   "source": [
    "fs.readdirSync('../data/reference');\n",
    "var ICD9 = readZipFrame('../data/reference/all_icd10_codes.tsv.gz');\n",
    "var HCPCS = readZipFrame('../data/reference/hcpcs.tsv.gz')\n",
    "HCPCS = HCPCS.project(['TYPE', ...HCPCS.columns], {TYPE: r => r.CODE.substr(0,2)},true);\n",
    "HCPCS.groupBy(['TYPE', gb.count('TYPE', 'COUNT')]).sort(['-COUNT'])"
   ]
  },
  {
   "cell_type": "code",
   "execution_count": null,
   "metadata": {},
   "outputs": [],
   "source": [
    "HCPCS.filter(r => r.TYPE === '90').groupBy(['TYPE', gb.count('TYPE', 'COUNT')])\n"
   ]
  },
  {
   "cell_type": "code",
   "execution_count": null,
   "metadata": {},
   "outputs": [],
   "source": [
    "$$.html(`<script>\n",
    "console.log(define.toString())\n",
    "</script>`)\n"
   ]
  },
  {
   "cell_type": "code",
   "execution_count": null,
   "metadata": {},
   "outputs": [],
   "source": [
    "var CFrame = class {\n",
    "    constructor(data, columns, isColumn=true) {\n",
    "        this.columns = columns;\n",
    "        let len = isColumn? data[0].length : data.length;\n",
    "        this.length = len;\n",
    "        if(!column) {\n",
    "           let rLn = this.columns.length;\n",
    "           let aData = arrayOf(() => new Array(len), rLn);\n",
    "           this.data = aData;\n",
    "           for(let i=0; i<len; i++) {\n",
    "               let row = data[i];\n",
    "               let j = 0;\n",
    "               for(; j< rLn-7; j+= 8) {\n",
    "                   aData[j][i] = row[j];\n",
    "                   aData[j+1][i] = row[j+1];\n",
    "                   aData[j+2][i] = row[j+2];\n",
    "                   aData[j+3][i] = row[j+3];\n",
    "                   aData[j+4][i] = row[j+4];\n",
    "                   aData[j+5][i] = row[j+5];\n",
    "                   aData[j+6][i] = row[j+6];\n",
    "                   aData[j+7][i] = row[j+7];\n",
    "               }\n",
    "               for(; j< rLn-3; j+= 4) {\n",
    "                   aData[j][i] = row[j];\n",
    "                   aData[j+1][i] = row[j+1];\n",
    "                   aData[j+2][i] = row[j+2];\n",
    "                   aData[j+3][i] = row[j+3];\n",
    "               }\n",
    "               for(; j< rLn; j++) {\n",
    "                   aData[j][i] = row[j]\n",
    "               }\n",
    "           }\n",
    "       }\n",
    "    }\n",
    "\n",
    "    /**\n",
    "     * old Column array\n",
    "    _colMapper(mapArray, baseData) {\n",
    "        \n",
    "    }*/\n",
    "}"
   ]
  },
  {
   "cell_type": "markdown",
   "metadata": {},
   "source": [
    "#Adam optimizer"
   ]
  },
  {
   "cell_type": "code",
   "execution_count": null,
   "metadata": {
    "scrolled": false
   },
   "outputs": [],
   "source": [
    "var result, result1;\n",
    "var http = require('https');\n",
    "http.get(\"https://raw.githubusercontent.com/cmusam/fortune500/master/csv/fortune500-2017.csv\",\n",
    "         (resp) =>{ \n",
    "  let data = '';\n",
    "\n",
    "  // A chunk of data has been recieved.\n",
    "  resp.on('data', (chunk) => {\n",
    "    data += chunk;\n",
    "  });\n",
    "\n",
    "  // The whole response has been received. Print out the result.\n",
    "  resp.on('end', () => {\n",
    "    result1 = data.replace(/\\r/g, '');\n",
    "    result =  result1 .split('\\n').map(s => s.split(','));\n",
    "  });\n",
    "});\n",
    "console.log(result);"
   ]
  },
  {
   "cell_type": "code",
   "execution_count": null,
   "metadata": {},
   "outputs": [],
   "source": [
    "var fortune = timeOf(() => new Frame(result.slice(1),result[0],'Fortune')\n",
    "                     .sort([\"-profit ($ millions)\"]))\n",
    "//fortune.filter(r => console.log(r.__data[1]))\n",
    "fortune.filterRaw(r => r[1] === undefined)"
   ]
  },
  {
   "cell_type": "code",
   "execution_count": null,
   "metadata": {},
   "outputs": [],
   "source": [
    "fortune.filter(r => { console.log(r, r.company[0]); })\n"
   ]
  },
  {
   "cell_type": "code",
   "execution_count": null,
   "metadata": {},
   "outputs": [],
   "source": [
    "var fortune = timeOf(() => ff.frameFromBuffer(result1,'fortune',ff.csvLine).sort([\"-profit ($ millions)\"]))\n",
    "fortune.filter(r => {  var n = r.company;  console.log(r.company); return n.substr(0,1) === 'A'})\n"
   ]
  }
 ],
 "metadata": {
  "kernelspec": {
   "display_name": "Javascript (Node.js)",
   "language": "javascript",
   "name": "javascript"
  },
  "language_info": {
   "file_extension": ".js",
   "mimetype": "application/javascript",
   "name": "javascript",
   "version": "12.13.0"
  }
 },
 "nbformat": 4,
 "nbformat_minor": 2
}
