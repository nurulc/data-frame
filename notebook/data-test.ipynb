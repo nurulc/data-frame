{
 "cells": [
  {
   "cell_type": "code",
   "execution_count": 1,
   "metadata": {},
   "outputs": [
    {
     "data": {
      "text/html": [
       "\n",
       "    <script>\n",
       "        window.exports = {};\n",
       "        window.module = true;\n",
       "        //alert('1. D3 load'+window.exports);\n",
       "    </script>\n",
       "    <script src=\"https://cdnjs.cloudflare.com/ajax/libs/d3/4.13.0/d3.js\"></script>\n",
       "    \n",
       "    <script>\n",
       "         //alert('2. D3 load ');\n",
       "          if(!window.d3) window.d3=window.exports;\n",
       "       \n",
       "        function setData(data, func) {\n",
       "            setTimeout((data)=>func(data),0);\n",
       "        }\n",
       "    </script>"
      ]
     },
     "execution_count": 1,
     "metadata": {},
     "output_type": "execute_result"
    },
    {
     "name": "stdout",
     "output_type": "stream",
     "text": [
      "D3 - loader\n"
     ]
    }
   ],
   "source": [
    "//var Collection = require('dstools').Collection;\n",
    "//var data = Collection().loadCSV('data.csv');\n",
    "// var data = Collection([{field1:2,field2:4},{field1:3,field2:5},{field1:2,field2:4}\n",
    "//                        ,{field1:4,field2:4},{field1:4,field2:4},{field1:2,field2:4}]);\n",
    "\n",
    "//var data = Collection().loadCSV('heart.csv');\n",
    "//var lib = require('../lib')\n",
    "\n",
    "\n",
    "var fs = require('fs');\n",
    "var _init = fs.readFileSync('init.js').toString();\n",
    "eval(_init);\n",
    "setupD3();\n"
   ]
  },
  {
   "cell_type": "code",
   "execution_count": 2,
   "metadata": {},
   "outputs": [
    {
     "data": {
      "text/plain": [
       "undefined"
      ]
     },
     "execution_count": 2,
     "metadata": {},
     "output_type": "execute_result"
    }
   ],
   "source": [
    "function doN(n, fn) {\n",
    "    return () =>\n",
    "    {\n",
    "        var res;\n",
    "        for(let i=0;i<n; i++) {\n",
    "            res = fn(res)\n",
    "        }\n",
    "        return res;\n",
    "    }\n",
    "}"
   ]
  },
  {
   "cell_type": "code",
   "execution_count": 3,
   "metadata": {
    "scrolled": false
   },
   "outputs": [
    {
     "name": "stdout",
     "output_type": "stream",
     "text": [
      "bytes read 13187299\n",
      "Lines:  150410\n"
     ]
    },
    {
     "data": {
      "text/plain": [
       "undefined"
      ]
     },
     "execution_count": 3,
     "metadata": {},
     "output_type": "execute_result"
    }
   ],
   "source": [
    "var ICD10 = readZipFrame('../data/reference/all_icd10_codes.tsv.gz');\n",
    "\n"
   ]
  },
  {
   "cell_type": "code",
   "execution_count": 66,
   "metadata": {},
   "outputs": [
    {
     "name": "stdout",
     "output_type": "stream",
     "text": [
      "Call to func took 23 milliseconds.\n",
      "Call to func took 20 milliseconds.\n",
      "Call to func took 17 milliseconds.\n"
     ]
    },
    {
     "data": {
      "text/plain": [
       "undefined"
      ]
     },
     "execution_count": 66,
     "metadata": {},
     "output_type": "execute_result"
    }
   ],
   "source": [
    "var CNT = 1\n",
    "var myData = timeOf(doN(CNT, () =>ICD10.filter(r => r.ICD10.match(/^A/) ).project(['ICD10'])))\n",
    "var __ = timeOf(doN(CNT, () =>ICD10.filter(r => r.ICD10.startsWith('A') ).project(['ICD10'])))\n",
    "var __ = timeOf(doN(CNT, () =>ICD10.filter(r => r.ICD10.startsWith('A') ).project(['ICD10'])))\n"
   ]
  },
  {
   "cell_type": "code",
   "execution_count": 67,
   "metadata": {},
   "outputs": [
    {
     "name": "stdout",
     "output_type": "stream",
     "text": [
      "len 150409\n",
      "Call to func took 26 milliseconds.\n"
     ]
    },
    {
     "data": {
      "text/html": [
       "<style> \n",
       "\t\t\t\t.ftable  { font-family: arial, sans-serif; color: blue !important; } \n",
       "\t\t\t\ttd, th, tr { border: 1px solid #000000; text-align: left; } \n",
       "\t\t\t\tth {color: red !important}\n",
       "\t\t\t\ttr:nth-child(even) { background-color: #dddddd; } }\n",
       "\t\t\t</style>\n",
       "<p>Length: 570</p><table class=\"ftable\" style=\"border-collapse: collapse; border-spacing: 0;  border: 2px solid #000; font-size: 1rem\"><thead style=\"background-color: lightgrey\"><tr style=\"border: 2px solid #000\"><th style=\"border: 2px solid #000; color: blue\">Ix</th><th style=\"border: 2px solid #000; color: blue\">ICD10</th><th style=\"border: 2px solid #000; color: blue\">TYPE</th><th style=\"border: 2px solid #000; color: blue\">DESCRIPTION</th></tr></thead><tbody><tr style=\"background-color: #fffaff\"><td style=\"border: 2px solid #000\">0</td><td style=\"border: 2px solid #000\">A00.0</td><td style=\"border: 2px solid #000\">CM</td><td style=\"border: 2px solid #000\">Cholera due to Vibrio cholerae 01, biovar cholerae</td></tr><tr style=\"background-color: white\"><td style=\"border: 2px solid #000\">1</td><td style=\"border: 2px solid #000\">A00.1</td><td style=\"border: 2px solid #000\">CM</td><td style=\"border: 2px solid #000\">Cholera due to Vibrio cholerae 01, biovar eltor</td></tr><tr style=\"background-color: #fffaff\"><td style=\"border: 2px solid #000\">2</td><td style=\"border: 2px solid #000\">A00.9</td><td style=\"border: 2px solid #000\">CM</td><td style=\"border: 2px solid #000\">Cholera, unspecified</td></tr><tr style=\"background-color: white\"><td style=\"border: 2px solid #000\">3</td><td style=\"border: 2px solid #000\">A01.00</td><td style=\"border: 2px solid #000\">CM</td><td style=\"border: 2px solid #000\">Typhoid fever, unspecified</td></tr><tr style=\"background-color: #fffaff\"><td style=\"border: 2px solid #000\">4</td><td style=\"border: 2px solid #000\">A01.01</td><td style=\"border: 2px solid #000\">CM</td><td style=\"border: 2px solid #000\">Typhoid meningitis</td></tr><tr style=\"background-color: white\"><td style=\"border: 2px solid #000\">5</td><td style=\"border: 2px solid #000\">A01.02</td><td style=\"border: 2px solid #000\">CM</td><td style=\"border: 2px solid #000\">Typhoid fever with heart involvement</td></tr><tr style=\"background-color: #fffaff\"><td style=\"border: 2px solid #000\">6</td><td style=\"border: 2px solid #000\">A01.03</td><td style=\"border: 2px solid #000\">CM</td><td style=\"border: 2px solid #000\">Typhoid pneumonia</td></tr><tr style=\"background-color: white\"><td style=\"border: 2px solid #000\">7</td><td style=\"border: 2px solid #000\">A01.04</td><td style=\"border: 2px solid #000\">CM</td><td style=\"border: 2px solid #000\">Typhoid arthritis</td></tr><tr style=\"background-color: #fffaff\"><td style=\"border: 2px solid #000\">8</td><td style=\"border: 2px solid #000\">A01.05</td><td style=\"border: 2px solid #000\">CM</td><td style=\"border: 2px solid #000\">Typhoid osteomyelitis</td></tr><tr style=\"background-color: white\"><td style=\"border: 2px solid #000\">9</td><td style=\"border: 2px solid #000\">A01.09</td><td style=\"border: 2px solid #000\">CM</td><td style=\"border: 2px solid #000\">Typhoid fever with other complications</td></tr><tr style=\"background-color: #fffaff\"><td style=\"border: 2px solid #000\">10</td><td style=\"border: 2px solid #000\">A01.1</td><td style=\"border: 2px solid #000\">CM</td><td style=\"border: 2px solid #000\">Paratyphoid fever A</td></tr><tr style=\"background-color: white\"><td style=\"border: 2px solid #000\">11</td><td style=\"border: 2px solid #000\">A01.2</td><td style=\"border: 2px solid #000\">CM</td><td style=\"border: 2px solid #000\">Paratyphoid fever B</td></tr><tr style=\"background-color: #fffaff\"><td style=\"border: 2px solid #000\">12</td><td style=\"border: 2px solid #000\">A01.3</td><td style=\"border: 2px solid #000\">CM</td><td style=\"border: 2px solid #000\">Paratyphoid fever C</td></tr><tr style=\"background-color: white\"><td style=\"border: 2px solid #000\">13</td><td style=\"border: 2px solid #000\">A01.4</td><td style=\"border: 2px solid #000\">CM</td><td style=\"border: 2px solid #000\">Paratyphoid fever, unspecified</td></tr><tr style=\"background-color: #fffaff\"><td style=\"border: 2px solid #000\">14</td><td style=\"border: 2px solid #000\">A02.0</td><td style=\"border: 2px solid #000\">CM</td><td style=\"border: 2px solid #000\">Salmonella enteritis</td></tr><tr style=\"background-color: white\"><td style=\"border: 2px solid #000\">15</td><td style=\"border: 2px solid #000\">A02.1</td><td style=\"border: 2px solid #000\">CM</td><td style=\"border: 2px solid #000\">Salmonella sepsis</td></tr><tr style=\"background-color: #fffaff\"><td style=\"border: 2px solid #000\">16</td><td style=\"border: 2px solid #000\">A02.20</td><td style=\"border: 2px solid #000\">CM</td><td style=\"border: 2px solid #000\">Localized salmonella infection, unspecified</td></tr><tr style=\"background-color: white\"><td style=\"border: 2px solid #000\">17</td><td style=\"border: 2px solid #000\">A02.21</td><td style=\"border: 2px solid #000\">CM</td><td style=\"border: 2px solid #000\">Salmonella meningitis</td></tr><tr style=\"background-color: #fffaff\"><td style=\"border: 2px solid #000\">18</td><td style=\"border: 2px solid #000\">A02.22</td><td style=\"border: 2px solid #000\">CM</td><td style=\"border: 2px solid #000\">Salmonella pneumonia</td></tr><tr style=\"background-color: white\"><td style=\"border: 2px solid #000\">19</td><td style=\"border: 2px solid #000\">A02.23</td><td style=\"border: 2px solid #000\">CM</td><td style=\"border: 2px solid #000\">Salmonella arthritis</td></tr><tr style=\"background-color: #fffaff\"><td style=\"border: 2px solid #000\">20</td><td style=\"border: 2px solid #000\">A02.24</td><td style=\"border: 2px solid #000\">CM</td><td style=\"border: 2px solid #000\">Salmonella osteomyelitis</td></tr><tr style=\"background-color: white\"><td style=\"border: 2px solid #000\">21</td><td style=\"border: 2px solid #000\">A02.25</td><td style=\"border: 2px solid #000\">CM</td><td style=\"border: 2px solid #000\">Salmonella pyelonephritis</td></tr><tr style=\"background-color: #fffaff\"><td style=\"border: 2px solid #000\">22</td><td style=\"border: 2px solid #000\">A02.29</td><td style=\"border: 2px solid #000\">CM</td><td style=\"border: 2px solid #000\">Salmonella with other localized infection</td></tr><tr style=\"background-color: white\"><td style=\"border: 2px solid #000\">23</td><td style=\"border: 2px solid #000\">A02.8</td><td style=\"border: 2px solid #000\">CM</td><td style=\"border: 2px solid #000\">Other specified salmonella infections</td></tr><tr style=\"background-color: #fffaff\"><td style=\"border: 2px solid #000\">24</td><td style=\"border: 2px solid #000\">A02.9</td><td style=\"border: 2px solid #000\">CM</td><td style=\"border: 2px solid #000\">Salmonella infection, unspecified</td></tr><tr style=\"background-color: white\"><td style=\"border: 2px solid #000\">25</td><td style=\"border: 2px solid #000\">A03.0</td><td style=\"border: 2px solid #000\">CM</td><td style=\"border: 2px solid #000\">Shigellosis due to Shigella dysenteriae</td></tr><tr style=\"background-color: #fffaff\"><td style=\"border: 2px solid #000\">26</td><td style=\"border: 2px solid #000\">A03.1</td><td style=\"border: 2px solid #000\">CM</td><td style=\"border: 2px solid #000\">Shigellosis due to Shigella flexneri</td></tr><tr style=\"background-color: white\"><td style=\"border: 2px solid #000\">27</td><td style=\"border: 2px solid #000\">A03.2</td><td style=\"border: 2px solid #000\">CM</td><td style=\"border: 2px solid #000\">Shigellosis due to Shigella boydii</td></tr><tr style=\"background-color: #fffaff\"><td style=\"border: 2px solid #000\">28</td><td style=\"border: 2px solid #000\">A03.3</td><td style=\"border: 2px solid #000\">CM</td><td style=\"border: 2px solid #000\">Shigellosis due to Shigella sonnei</td></tr><tr style=\"background-color: white\"><td style=\"border: 2px solid #000\">29</td><td style=\"border: 2px solid #000\">A03.8</td><td style=\"border: 2px solid #000\">CM</td><td style=\"border: 2px solid #000\">Other shigellosis</td></tr><tr style=\"background-color: #fffaff\"><td style=\"border: 2px solid #000\">30</td><td style=\"border: 2px solid #000\">A03.9</td><td style=\"border: 2px solid #000\">CM</td><td style=\"border: 2px solid #000\">Shigellosis, unspecified</td></tr><tr style=\"background-color: white\"><td style=\"border: 2px solid #000\">31</td><td style=\"border: 2px solid #000\">A04.0</td><td style=\"border: 2px solid #000\">CM</td><td style=\"border: 2px solid #000\">Enteropathogenic Escherichia coli infection</td></tr><tr style=\"background-color: #fffaff\"><td style=\"border: 2px solid #000\">32</td><td style=\"border: 2px solid #000\">A04.1</td><td style=\"border: 2px solid #000\">CM</td><td style=\"border: 2px solid #000\">Enterotoxigenic Escherichia coli infection</td></tr><tr style=\"background-color: white\"><td style=\"border: 2px solid #000\">33</td><td style=\"border: 2px solid #000\">A04.2</td><td style=\"border: 2px solid #000\">CM</td><td style=\"border: 2px solid #000\">Enteroinvasive Escherichia coli infection</td></tr><tr style=\"background-color: #fffaff\"><td style=\"border: 2px solid #000\">34</td><td style=\"border: 2px solid #000\">A04.3</td><td style=\"border: 2px solid #000\">CM</td><td style=\"border: 2px solid #000\">Enterohemorrhagic Escherichia coli infection</td></tr><tr style=\"background-color: white\"><td style=\"border: 2px solid #000\">35</td><td style=\"border: 2px solid #000\">A04.4</td><td style=\"border: 2px solid #000\">CM</td><td style=\"border: 2px solid #000\">Other intestinal Escherichia coli infections</td></tr><tr style=\"background-color: #fffaff\"><td style=\"border: 2px solid #000\">36</td><td style=\"border: 2px solid #000\">A04.5</td><td style=\"border: 2px solid #000\">CM</td><td style=\"border: 2px solid #000\">Campylobacter enteritis</td></tr><tr style=\"background-color: white\"><td style=\"border: 2px solid #000\">37</td><td style=\"border: 2px solid #000\">A04.6</td><td style=\"border: 2px solid #000\">CM</td><td style=\"border: 2px solid #000\">Enteritis due to Yersinia enterocolitica</td></tr><tr style=\"background-color: #fffaff\"><td style=\"border: 2px solid #000\">38</td><td style=\"border: 2px solid #000\">A04.71</td><td style=\"border: 2px solid #000\">CM</td><td style=\"border: 2px solid #000\">Enterocolitis due to Clostridium difficile, recurrent</td></tr><tr style=\"background-color: white\"><td style=\"border: 2px solid #000\">39</td><td style=\"border: 2px solid #000\">A04.72</td><td style=\"border: 2px solid #000\">CM</td><td style=\"border: 2px solid #000\">Enterocolitis due to Clostridium difficile, not specified as recurrent</td></tr><tr style=\"background-color: #fffaff\"><td style=\"border: 2px solid #000\">40</td><td style=\"border: 2px solid #000\">A04.8</td><td style=\"border: 2px solid #000\">CM</td><td style=\"border: 2px solid #000\">Other specified bacterial intestinal infections</td></tr><tr style=\"background-color: white\"><td style=\"border: 2px solid #000\">41</td><td style=\"border: 2px solid #000\">A04.9</td><td style=\"border: 2px solid #000\">CM</td><td style=\"border: 2px solid #000\">Bacterial intestinal infection, unspecified</td></tr><tr style=\"background-color: #fffaff\"><td style=\"border: 2px solid #000\">42</td><td style=\"border: 2px solid #000\">A05.0</td><td style=\"border: 2px solid #000\">CM</td><td style=\"border: 2px solid #000\">Foodborne staphylococcal intoxication</td></tr><tr style=\"background-color: white\"><td style=\"border: 2px solid #000\">43</td><td style=\"border: 2px solid #000\">A05.1</td><td style=\"border: 2px solid #000\">CM</td><td style=\"border: 2px solid #000\">Botulism food poisoning</td></tr><tr style=\"background-color: #fffaff\"><td style=\"border: 2px solid #000\">44</td><td style=\"border: 2px solid #000\">A05.2</td><td style=\"border: 2px solid #000\">CM</td><td style=\"border: 2px solid #000\">Foodborne Clostridium perfringens [Clostridium welchii] intoxication</td></tr><tr style=\"background-color: white\"><td style=\"border: 2px solid #000\">45</td><td style=\"border: 2px solid #000\">A05.3</td><td style=\"border: 2px solid #000\">CM</td><td style=\"border: 2px solid #000\">Foodborne Vibrio parahaemolyticus intoxication</td></tr><tr style=\"background-color: #fffaff\"><td style=\"border: 2px solid #000\">46</td><td style=\"border: 2px solid #000\">A05.4</td><td style=\"border: 2px solid #000\">CM</td><td style=\"border: 2px solid #000\">Foodborne Bacillus cereus intoxication</td></tr><tr style=\"background-color: white\"><td style=\"border: 2px solid #000\">47</td><td style=\"border: 2px solid #000\">A05.5</td><td style=\"border: 2px solid #000\">CM</td><td style=\"border: 2px solid #000\">Foodborne Vibrio vulnificus intoxication</td></tr><tr style=\"background-color: #fffaff\"><td style=\"border: 2px solid #000\">48</td><td style=\"border: 2px solid #000\">A05.8</td><td style=\"border: 2px solid #000\">CM</td><td style=\"border: 2px solid #000\">Other specified bacterial foodborne intoxications</td></tr><tr style=\"background-color: white\"><td style=\"border: 2px solid #000\">49</td><td style=\"border: 2px solid #000\">A05.9</td><td style=\"border: 2px solid #000\">CM</td><td style=\"border: 2px solid #000\">Bacterial foodborne intoxication, unspecified</td></tr><tr style=\"background-color: #fffaff\"><td style=\"border: 2px solid #000\">50</td><td style=\"border: 2px solid #000\">A06.0</td><td style=\"border: 2px solid #000\">CM</td><td style=\"border: 2px solid #000\">Acute amebic dysentery</td></tr><tr style=\"background-color: white\"><td style=\"border: 2px solid #000\">51</td><td style=\"border: 2px solid #000\">A06.1</td><td style=\"border: 2px solid #000\">CM</td><td style=\"border: 2px solid #000\">Chronic intestinal amebiasis</td></tr><tr style=\"background-color: #fffaff\"><td style=\"border: 2px solid #000\">52</td><td style=\"border: 2px solid #000\">A06.2</td><td style=\"border: 2px solid #000\">CM</td><td style=\"border: 2px solid #000\">Amebic nondysenteric colitis</td></tr><tr style=\"background-color: white\"><td style=\"border: 2px solid #000\">53</td><td style=\"border: 2px solid #000\">A06.3</td><td style=\"border: 2px solid #000\">CM</td><td style=\"border: 2px solid #000\">Ameboma of intestine</td></tr><tr style=\"background-color: #fffaff\"><td style=\"border: 2px solid #000\">54</td><td style=\"border: 2px solid #000\">A06.4</td><td style=\"border: 2px solid #000\">CM</td><td style=\"border: 2px solid #000\">Amebic liver abscess</td></tr><tr style=\"background-color: white\"><td style=\"border: 2px solid #000\">55</td><td style=\"border: 2px solid #000\">A06.5</td><td style=\"border: 2px solid #000\">CM</td><td style=\"border: 2px solid #000\">Amebic lung abscess</td></tr><tr style=\"background-color: #fffaff\"><td style=\"border: 2px solid #000\">56</td><td style=\"border: 2px solid #000\">A06.6</td><td style=\"border: 2px solid #000\">CM</td><td style=\"border: 2px solid #000\">Amebic brain abscess</td></tr><tr style=\"background-color: white\"><td style=\"border: 2px solid #000\">57</td><td style=\"border: 2px solid #000\">A06.7</td><td style=\"border: 2px solid #000\">CM</td><td style=\"border: 2px solid #000\">Cutaneous amebiasis</td></tr><tr style=\"background-color: #fffaff\"><td style=\"border: 2px solid #000\">58</td><td style=\"border: 2px solid #000\">A06.81</td><td style=\"border: 2px solid #000\">CM</td><td style=\"border: 2px solid #000\">Amebic cystitis</td></tr><tr style=\"background-color: white\"><td style=\"border: 2px solid #000\">59</td><td style=\"border: 2px solid #000\">A06.82</td><td style=\"border: 2px solid #000\">CM</td><td style=\"border: 2px solid #000\">Other amebic genitourinary infections</td></tr><tr style=\"background-color: #fffaff\"><td style=\"border: 2px solid #000\">60</td><td style=\"border: 2px solid #000\">A06.89</td><td style=\"border: 2px solid #000\">CM</td><td style=\"border: 2px solid #000\">Other amebic infections</td></tr><tr style=\"background-color: white\"><td style=\"border: 2px solid #000\">61</td><td style=\"border: 2px solid #000\">A06.9</td><td style=\"border: 2px solid #000\">CM</td><td style=\"border: 2px solid #000\">Amebiasis, unspecified</td></tr><tr style=\"background-color: #fffaff\"><td style=\"border: 2px solid #000\">62</td><td style=\"border: 2px solid #000\">A07.0</td><td style=\"border: 2px solid #000\">CM</td><td style=\"border: 2px solid #000\">Balantidiasis</td></tr><tr style=\"background-color: white\"><td style=\"border: 2px solid #000\">63</td><td style=\"border: 2px solid #000\">A07.1</td><td style=\"border: 2px solid #000\">CM</td><td style=\"border: 2px solid #000\">Giardiasis [lambliasis]</td></tr><tr style=\"background-color: #fffaff\"><td style=\"border: 2px solid #000\">64</td><td style=\"border: 2px solid #000\">A07.2</td><td style=\"border: 2px solid #000\">CM</td><td style=\"border: 2px solid #000\">Cryptosporidiosis</td></tr><tr style=\"background-color: white\"><td style=\"border: 2px solid #000\">65</td><td style=\"border: 2px solid #000\">A07.3</td><td style=\"border: 2px solid #000\">CM</td><td style=\"border: 2px solid #000\">Isosporiasis</td></tr><tr style=\"background-color: #fffaff\"><td style=\"border: 2px solid #000\">66</td><td style=\"border: 2px solid #000\">A07.4</td><td style=\"border: 2px solid #000\">CM</td><td style=\"border: 2px solid #000\">Cyclosporiasis</td></tr><tr style=\"background-color: white\"><td style=\"border: 2px solid #000\">67</td><td style=\"border: 2px solid #000\">A07.8</td><td style=\"border: 2px solid #000\">CM</td><td style=\"border: 2px solid #000\">Other specified protozoal intestinal diseases</td></tr><tr style=\"background-color: #fffaff\"><td style=\"border: 2px solid #000\">68</td><td style=\"border: 2px solid #000\">A07.9</td><td style=\"border: 2px solid #000\">CM</td><td style=\"border: 2px solid #000\">Protozoal intestinal disease, unspecified</td></tr><tr style=\"background-color: white\"><td style=\"border: 2px solid #000\">69</td><td style=\"border: 2px solid #000\">A08.0</td><td style=\"border: 2px solid #000\">CM</td><td style=\"border: 2px solid #000\">Rotaviral enteritis</td></tr><tr style=\"background-color: #fffaff\"><td style=\"border: 2px solid #000\">70</td><td style=\"border: 2px solid #000\">A08.11</td><td style=\"border: 2px solid #000\">CM</td><td style=\"border: 2px solid #000\">Acute gastroenteropathy due to Norwalk agent</td></tr><tr style=\"background-color: white\"><td style=\"border: 2px solid #000\">71</td><td style=\"border: 2px solid #000\">A08.19</td><td style=\"border: 2px solid #000\">CM</td><td style=\"border: 2px solid #000\">Acute gastroenteropathy due to other small round viruses</td></tr><tr style=\"background-color: #fffaff\"><td style=\"border: 2px solid #000\">72</td><td style=\"border: 2px solid #000\">A08.2</td><td style=\"border: 2px solid #000\">CM</td><td style=\"border: 2px solid #000\">Adenoviral enteritis</td></tr><tr style=\"background-color: white\"><td style=\"border: 2px solid #000\">73</td><td style=\"border: 2px solid #000\">A08.31</td><td style=\"border: 2px solid #000\">CM</td><td style=\"border: 2px solid #000\">Calicivirus enteritis</td></tr><tr style=\"background-color: #fffaff\"><td style=\"border: 2px solid #000\">74</td><td style=\"border: 2px solid #000\">A08.32</td><td style=\"border: 2px solid #000\">CM</td><td style=\"border: 2px solid #000\">Astrovirus enteritis</td></tr><tr style=\"background-color: white\"><td style=\"border: 2px solid #000\">75</td><td style=\"border: 2px solid #000\">A08.39</td><td style=\"border: 2px solid #000\">CM</td><td style=\"border: 2px solid #000\">Other viral enteritis</td></tr><tr style=\"background-color: #fffaff\"><td style=\"border: 2px solid #000\">76</td><td style=\"border: 2px solid #000\">A08.4</td><td style=\"border: 2px solid #000\">CM</td><td style=\"border: 2px solid #000\">Viral intestinal infection, unspecified</td></tr><tr style=\"background-color: white\"><td style=\"border: 2px solid #000\">77</td><td style=\"border: 2px solid #000\">A08.8</td><td style=\"border: 2px solid #000\">CM</td><td style=\"border: 2px solid #000\">Other specified intestinal infections</td></tr><tr style=\"background-color: #fffaff\"><td style=\"border: 2px solid #000\">78</td><td style=\"border: 2px solid #000\">A09</td><td style=\"border: 2px solid #000\">CM</td><td style=\"border: 2px solid #000\">Infectious gastroenteritis and colitis, unspecified</td></tr><tr style=\"background-color: white\"><td style=\"border: 2px solid #000\">79</td><td style=\"border: 2px solid #000\">A15.0</td><td style=\"border: 2px solid #000\">CM</td><td style=\"border: 2px solid #000\">Tuberculosis of lung</td></tr><tr style=\"background-color: #fffaff\"><td style=\"border: 2px solid #000\">80</td><td style=\"border: 2px solid #000\">A15.4</td><td style=\"border: 2px solid #000\">CM</td><td style=\"border: 2px solid #000\">Tuberculosis of intrathoracic lymph nodes</td></tr><tr style=\"background-color: white\"><td style=\"border: 2px solid #000\">81</td><td style=\"border: 2px solid #000\">A15.5</td><td style=\"border: 2px solid #000\">CM</td><td style=\"border: 2px solid #000\">Tuberculosis of larynx, trachea and bronchus</td></tr><tr style=\"background-color: #fffaff\"><td style=\"border: 2px solid #000\">82</td><td style=\"border: 2px solid #000\">A15.6</td><td style=\"border: 2px solid #000\">CM</td><td style=\"border: 2px solid #000\">Tuberculous pleurisy</td></tr><tr style=\"background-color: white\"><td style=\"border: 2px solid #000\">83</td><td style=\"border: 2px solid #000\">A15.7</td><td style=\"border: 2px solid #000\">CM</td><td style=\"border: 2px solid #000\">Primary respiratory tuberculosis</td></tr><tr style=\"background-color: #fffaff\"><td style=\"border: 2px solid #000\">84</td><td style=\"border: 2px solid #000\">A15.8</td><td style=\"border: 2px solid #000\">CM</td><td style=\"border: 2px solid #000\">Other respiratory tuberculosis</td></tr><tr style=\"background-color: white\"><td style=\"border: 2px solid #000\">85</td><td style=\"border: 2px solid #000\">A15.9</td><td style=\"border: 2px solid #000\">CM</td><td style=\"border: 2px solid #000\">Respiratory tuberculosis unspecified</td></tr><tr style=\"background-color: #fffaff\"><td style=\"border: 2px solid #000\">86</td><td style=\"border: 2px solid #000\">A17.0</td><td style=\"border: 2px solid #000\">CM</td><td style=\"border: 2px solid #000\">Tuberculous meningitis</td></tr><tr style=\"background-color: white\"><td style=\"border: 2px solid #000\">87</td><td style=\"border: 2px solid #000\">A17.1</td><td style=\"border: 2px solid #000\">CM</td><td style=\"border: 2px solid #000\">Meningeal tuberculoma</td></tr><tr style=\"background-color: #fffaff\"><td style=\"border: 2px solid #000\">88</td><td style=\"border: 2px solid #000\">A17.81</td><td style=\"border: 2px solid #000\">CM</td><td style=\"border: 2px solid #000\">Tuberculoma of brain and spinal cord</td></tr><tr style=\"background-color: white\"><td style=\"border: 2px solid #000\">89</td><td style=\"border: 2px solid #000\">A17.82</td><td style=\"border: 2px solid #000\">CM</td><td style=\"border: 2px solid #000\">Tuberculous meningoencephalitis</td></tr><tr style=\"background-color: #fffaff\"><td style=\"border: 2px solid #000\">90</td><td style=\"border: 2px solid #000\">A17.83</td><td style=\"border: 2px solid #000\">CM</td><td style=\"border: 2px solid #000\">Tuberculous neuritis</td></tr><tr style=\"background-color: white\"><td style=\"border: 2px solid #000\">91</td><td style=\"border: 2px solid #000\">A17.89</td><td style=\"border: 2px solid #000\">CM</td><td style=\"border: 2px solid #000\">Other tuberculosis of nervous system</td></tr><tr style=\"background-color: #fffaff\"><td style=\"border: 2px solid #000\">92</td><td style=\"border: 2px solid #000\">A17.9</td><td style=\"border: 2px solid #000\">CM</td><td style=\"border: 2px solid #000\">Tuberculosis of nervous system, unspecified</td></tr><tr style=\"background-color: white\"><td style=\"border: 2px solid #000\">93</td><td style=\"border: 2px solid #000\">A18.01</td><td style=\"border: 2px solid #000\">CM</td><td style=\"border: 2px solid #000\">Tuberculosis of spine</td></tr><tr style=\"background-color: #fffaff\"><td style=\"border: 2px solid #000\">94</td><td style=\"border: 2px solid #000\">A18.02</td><td style=\"border: 2px solid #000\">CM</td><td style=\"border: 2px solid #000\">Tuberculous arthritis of other joints</td></tr><tr style=\"background-color: white\"><td style=\"border: 2px solid #000\">95</td><td style=\"border: 2px solid #000\">A18.03</td><td style=\"border: 2px solid #000\">CM</td><td style=\"border: 2px solid #000\">Tuberculosis of other bones</td></tr><tr style=\"background-color: #fffaff\"><td style=\"border: 2px solid #000\">96</td><td style=\"border: 2px solid #000\">A18.09</td><td style=\"border: 2px solid #000\">CM</td><td style=\"border: 2px solid #000\">Other musculoskeletal tuberculosis</td></tr><tr style=\"background-color: white\"><td style=\"border: 2px solid #000\">97</td><td style=\"border: 2px solid #000\">A18.10</td><td style=\"border: 2px solid #000\">CM</td><td style=\"border: 2px solid #000\">Tuberculosis of genitourinary system, unspecified</td></tr><tr style=\"background-color: #fffaff\"><td style=\"border: 2px solid #000\">98</td><td style=\"border: 2px solid #000\">A18.11</td><td style=\"border: 2px solid #000\">CM</td><td style=\"border: 2px solid #000\">Tuberculosis of kidney and ureter</td></tr><tr style=\"background-color: white\"><td style=\"border: 2px solid #000\">99</td><td style=\"border: 2px solid #000\">A18.12</td><td style=\"border: 2px solid #000\">CM</td><td style=\"border: 2px solid #000\">Tuberculosis of bladder</td></tr><tr style=\"background-color: #fffaff\"><td style=\"border: 2px solid #000\">100</td><td style=\"border: 2px solid #000\">A18.13</td><td style=\"border: 2px solid #000\">CM</td><td style=\"border: 2px solid #000\">Tuberculosis of other urinary organs</td></tr><tr style=\"background-color: white\"><td style=\"border: 2px solid #000\">101</td><td style=\"border: 2px solid #000\">A18.14</td><td style=\"border: 2px solid #000\">CM</td><td style=\"border: 2px solid #000\">Tuberculosis of prostate</td></tr><tr style=\"background-color: #fffaff\"><td style=\"border: 2px solid #000\">102</td><td style=\"border: 2px solid #000\">A18.15</td><td style=\"border: 2px solid #000\">CM</td><td style=\"border: 2px solid #000\">Tuberculosis of other male genital organs</td></tr><tr style=\"background-color: white\"><td style=\"border: 2px solid #000\">103</td><td style=\"border: 2px solid #000\">A18.16</td><td style=\"border: 2px solid #000\">CM</td><td style=\"border: 2px solid #000\">Tuberculosis of cervix</td></tr><tr style=\"background-color: #fffaff\"><td style=\"border: 2px solid #000\">104</td><td style=\"border: 2px solid #000\">A18.17</td><td style=\"border: 2px solid #000\">CM</td><td style=\"border: 2px solid #000\">Tuberculous female pelvic inflammatory disease</td></tr><tr style=\"background-color: white\"><td style=\"border: 2px solid #000\">105</td><td style=\"border: 2px solid #000\">A18.18</td><td style=\"border: 2px solid #000\">CM</td><td style=\"border: 2px solid #000\">Tuberculosis of other female genital organs</td></tr><tr style=\"background-color: #fffaff\"><td style=\"border: 2px solid #000\">106</td><td style=\"border: 2px solid #000\">A18.2</td><td style=\"border: 2px solid #000\">CM</td><td style=\"border: 2px solid #000\">Tuberculous peripheral lymphadenopathy</td></tr><tr style=\"background-color: white\"><td style=\"border: 2px solid #000\">107</td><td style=\"border: 2px solid #000\">A18.31</td><td style=\"border: 2px solid #000\">CM</td><td style=\"border: 2px solid #000\">Tuberculous peritonitis</td></tr><tr style=\"background-color: #fffaff\"><td style=\"border: 2px solid #000\">108</td><td style=\"border: 2px solid #000\">A18.32</td><td style=\"border: 2px solid #000\">CM</td><td style=\"border: 2px solid #000\">Tuberculous enteritis</td></tr><tr style=\"background-color: white\"><td style=\"border: 2px solid #000\">109</td><td style=\"border: 2px solid #000\">A18.39</td><td style=\"border: 2px solid #000\">CM</td><td style=\"border: 2px solid #000\">Retroperitoneal tuberculosis</td></tr><tr style=\"background-color: #fffaff\"><td style=\"border: 2px solid #000\">110</td><td style=\"border: 2px solid #000\">A18.4</td><td style=\"border: 2px solid #000\">CM</td><td style=\"border: 2px solid #000\">Tuberculosis of skin and subcutaneous tissue</td></tr><tr style=\"background-color: white\"><td style=\"border: 2px solid #000\">111</td><td style=\"border: 2px solid #000\">A18.50</td><td style=\"border: 2px solid #000\">CM</td><td style=\"border: 2px solid #000\">Tuberculosis of eye, unspecified</td></tr><tr style=\"background-color: #fffaff\"><td style=\"border: 2px solid #000\">112</td><td style=\"border: 2px solid #000\">A18.51</td><td style=\"border: 2px solid #000\">CM</td><td style=\"border: 2px solid #000\">Tuberculous episcleritis</td></tr><tr style=\"background-color: white\"><td style=\"border: 2px solid #000\">113</td><td style=\"border: 2px solid #000\">A18.52</td><td style=\"border: 2px solid #000\">CM</td><td style=\"border: 2px solid #000\">Tuberculous keratitis</td></tr><tr style=\"background-color: #fffaff\"><td style=\"border: 2px solid #000\">114</td><td style=\"border: 2px solid #000\">A18.53</td><td style=\"border: 2px solid #000\">CM</td><td style=\"border: 2px solid #000\">Tuberculous chorioretinitis</td></tr><tr style=\"background-color: white\"><td style=\"border: 2px solid #000\">115</td><td style=\"border: 2px solid #000\">A18.54</td><td style=\"border: 2px solid #000\">CM</td><td style=\"border: 2px solid #000\">Tuberculous iridocyclitis</td></tr><tr style=\"background-color: #fffaff\"><td style=\"border: 2px solid #000\">116</td><td style=\"border: 2px solid #000\">A18.59</td><td style=\"border: 2px solid #000\">CM</td><td style=\"border: 2px solid #000\">Other tuberculosis of eye</td></tr><tr style=\"background-color: white\"><td style=\"border: 2px solid #000\">117</td><td style=\"border: 2px solid #000\">A18.6</td><td style=\"border: 2px solid #000\">CM</td><td style=\"border: 2px solid #000\">Tuberculosis of (inner) (middle) ear</td></tr><tr style=\"background-color: #fffaff\"><td style=\"border: 2px solid #000\">118</td><td style=\"border: 2px solid #000\">A18.7</td><td style=\"border: 2px solid #000\">CM</td><td style=\"border: 2px solid #000\">Tuberculosis of adrenal glands</td></tr><tr style=\"background-color: white\"><td style=\"border: 2px solid #000\">119</td><td style=\"border: 2px solid #000\">A18.81</td><td style=\"border: 2px solid #000\">CM</td><td style=\"border: 2px solid #000\">Tuberculosis of thyroid gland</td></tr><tr style=\"background-color: #fffaff\"><td style=\"border: 2px solid #000\">120</td><td style=\"border: 2px solid #000\">A18.82</td><td style=\"border: 2px solid #000\">CM</td><td style=\"border: 2px solid #000\">Tuberculosis of other endocrine glands</td></tr><tr style=\"background-color: white\"><td style=\"border: 2px solid #000\">121</td><td style=\"border: 2px solid #000\">A18.83</td><td style=\"border: 2px solid #000\">CM</td><td style=\"border: 2px solid #000\">Tuberculosis of digestive tract organs, not elsewhere classified</td></tr><tr style=\"background-color: #fffaff\"><td style=\"border: 2px solid #000\">122</td><td style=\"border: 2px solid #000\">A18.84</td><td style=\"border: 2px solid #000\">CM</td><td style=\"border: 2px solid #000\">Tuberculosis of heart</td></tr><tr style=\"background-color: white\"><td style=\"border: 2px solid #000\">123</td><td style=\"border: 2px solid #000\">A18.85</td><td style=\"border: 2px solid #000\">CM</td><td style=\"border: 2px solid #000\">Tuberculosis of spleen</td></tr><tr style=\"background-color: #fffaff\"><td style=\"border: 2px solid #000\">124</td><td style=\"border: 2px solid #000\">A18.89</td><td style=\"border: 2px solid #000\">CM</td><td style=\"border: 2px solid #000\">Tuberculosis of other sites</td></tr><tr style=\"background-color: white\"><td style=\"border: 2px solid #000\">125</td><td style=\"border: 2px solid #000\">A19.0</td><td style=\"border: 2px solid #000\">CM</td><td style=\"border: 2px solid #000\">Acute miliary tuberculosis of a single specified site</td></tr><tr style=\"background-color: #fffaff\"><td style=\"border: 2px solid #000\">126</td><td style=\"border: 2px solid #000\">A19.1</td><td style=\"border: 2px solid #000\">CM</td><td style=\"border: 2px solid #000\">Acute miliary tuberculosis of multiple sites</td></tr><tr style=\"background-color: white\"><td style=\"border: 2px solid #000\">127</td><td style=\"border: 2px solid #000\">A19.2</td><td style=\"border: 2px solid #000\">CM</td><td style=\"border: 2px solid #000\">Acute miliary tuberculosis, unspecified</td></tr><tr style=\"background-color: #fffaff\"><td style=\"border: 2px solid #000\">128</td><td style=\"border: 2px solid #000\">A19.8</td><td style=\"border: 2px solid #000\">CM</td><td style=\"border: 2px solid #000\">Other miliary tuberculosis</td></tr><tr style=\"background-color: white\"><td style=\"border: 2px solid #000\">129</td><td style=\"border: 2px solid #000\">A19.9</td><td style=\"border: 2px solid #000\">CM</td><td style=\"border: 2px solid #000\">Miliary tuberculosis, unspecified</td></tr><tr style=\"background-color: #fffaff\"><td style=\"border: 2px solid #000\">130</td><td style=\"border: 2px solid #000\">A20.0</td><td style=\"border: 2px solid #000\">CM</td><td style=\"border: 2px solid #000\">Bubonic plague</td></tr><tr style=\"background-color: white\"><td style=\"border: 2px solid #000\">131</td><td style=\"border: 2px solid #000\">A20.1</td><td style=\"border: 2px solid #000\">CM</td><td style=\"border: 2px solid #000\">Cellulocutaneous plague</td></tr><tr style=\"background-color: #fffaff\"><td style=\"border: 2px solid #000\">132</td><td style=\"border: 2px solid #000\">A20.2</td><td style=\"border: 2px solid #000\">CM</td><td style=\"border: 2px solid #000\">Pneumonic plague</td></tr><tr style=\"background-color: white\"><td style=\"border: 2px solid #000\">133</td><td style=\"border: 2px solid #000\">A20.3</td><td style=\"border: 2px solid #000\">CM</td><td style=\"border: 2px solid #000\">Plague meningitis</td></tr><tr style=\"background-color: #fffaff\"><td style=\"border: 2px solid #000\">134</td><td style=\"border: 2px solid #000\">A20.7</td><td style=\"border: 2px solid #000\">CM</td><td style=\"border: 2px solid #000\">Septicemic plague</td></tr><tr style=\"background-color: white\"><td style=\"border: 2px solid #000\">135</td><td style=\"border: 2px solid #000\">A20.8</td><td style=\"border: 2px solid #000\">CM</td><td style=\"border: 2px solid #000\">Other forms of plague</td></tr><tr style=\"background-color: #fffaff\"><td style=\"border: 2px solid #000\">136</td><td style=\"border: 2px solid #000\">A20.9</td><td style=\"border: 2px solid #000\">CM</td><td style=\"border: 2px solid #000\">Plague, unspecified</td></tr><tr style=\"background-color: white\"><td style=\"border: 2px solid #000\">137</td><td style=\"border: 2px solid #000\">A21.0</td><td style=\"border: 2px solid #000\">CM</td><td style=\"border: 2px solid #000\">Ulceroglandular tularemia</td></tr><tr style=\"background-color: #fffaff\"><td style=\"border: 2px solid #000\">138</td><td style=\"border: 2px solid #000\">A21.1</td><td style=\"border: 2px solid #000\">CM</td><td style=\"border: 2px solid #000\">Oculoglandular tularemia</td></tr><tr style=\"background-color: white\"><td style=\"border: 2px solid #000\">139</td><td style=\"border: 2px solid #000\">A21.2</td><td style=\"border: 2px solid #000\">CM</td><td style=\"border: 2px solid #000\">Pulmonary tularemia</td></tr><tr style=\"background-color: #fffaff\"><td style=\"border: 2px solid #000\">140</td><td style=\"border: 2px solid #000\">A21.3</td><td style=\"border: 2px solid #000\">CM</td><td style=\"border: 2px solid #000\">Gastrointestinal tularemia</td></tr><tr style=\"background-color: white\"><td style=\"border: 2px solid #000\">141</td><td style=\"border: 2px solid #000\">A21.7</td><td style=\"border: 2px solid #000\">CM</td><td style=\"border: 2px solid #000\">Generalized tularemia</td></tr><tr style=\"background-color: #fffaff\"><td style=\"border: 2px solid #000\">142</td><td style=\"border: 2px solid #000\">A21.8</td><td style=\"border: 2px solid #000\">CM</td><td style=\"border: 2px solid #000\">Other forms of tularemia</td></tr><tr style=\"background-color: white\"><td style=\"border: 2px solid #000\">143</td><td style=\"border: 2px solid #000\">A21.9</td><td style=\"border: 2px solid #000\">CM</td><td style=\"border: 2px solid #000\">Tularemia, unspecified</td></tr><tr style=\"background-color: #fffaff\"><td style=\"border: 2px solid #000\">144</td><td style=\"border: 2px solid #000\">A22.0</td><td style=\"border: 2px solid #000\">CM</td><td style=\"border: 2px solid #000\">Cutaneous anthrax</td></tr><tr style=\"background-color: white\"><td style=\"border: 2px solid #000\">145</td><td style=\"border: 2px solid #000\">A22.1</td><td style=\"border: 2px solid #000\">CM</td><td style=\"border: 2px solid #000\">Pulmonary anthrax</td></tr><tr style=\"background-color: #fffaff\"><td style=\"border: 2px solid #000\">146</td><td style=\"border: 2px solid #000\">A22.2</td><td style=\"border: 2px solid #000\">CM</td><td style=\"border: 2px solid #000\">Gastrointestinal anthrax</td></tr><tr style=\"background-color: white\"><td style=\"border: 2px solid #000\">147</td><td style=\"border: 2px solid #000\">A22.7</td><td style=\"border: 2px solid #000\">CM</td><td style=\"border: 2px solid #000\">Anthrax sepsis</td></tr><tr style=\"background-color: #fffaff\"><td style=\"border: 2px solid #000\">148</td><td style=\"border: 2px solid #000\">A22.8</td><td style=\"border: 2px solid #000\">CM</td><td style=\"border: 2px solid #000\">Other forms of anthrax</td></tr><tr style=\"background-color: white\"><td style=\"border: 2px solid #000\">149</td><td style=\"border: 2px solid #000\">A22.9</td><td style=\"border: 2px solid #000\">CM</td><td style=\"border: 2px solid #000\">Anthrax, unspecified</td></tr><tr style=\"background-color: #fffaff\"><td style=\"border: 2px solid #000\">150</td><td style=\"border: 2px solid #000\">A23.0</td><td style=\"border: 2px solid #000\">CM</td><td style=\"border: 2px solid #000\">Brucellosis due to Brucella melitensis</td></tr><tr style=\"background-color: white\"><td style=\"border: 2px solid #000\">151</td><td style=\"border: 2px solid #000\">A23.1</td><td style=\"border: 2px solid #000\">CM</td><td style=\"border: 2px solid #000\">Brucellosis due to Brucella abortus</td></tr><tr style=\"background-color: #fffaff\"><td style=\"border: 2px solid #000\">152</td><td style=\"border: 2px solid #000\">A23.2</td><td style=\"border: 2px solid #000\">CM</td><td style=\"border: 2px solid #000\">Brucellosis due to Brucella suis</td></tr><tr style=\"background-color: white\"><td style=\"border: 2px solid #000\">153</td><td style=\"border: 2px solid #000\">A23.3</td><td style=\"border: 2px solid #000\">CM</td><td style=\"border: 2px solid #000\">Brucellosis due to Brucella canis</td></tr><tr style=\"background-color: #fffaff\"><td style=\"border: 2px solid #000\">154</td><td style=\"border: 2px solid #000\">A23.8</td><td style=\"border: 2px solid #000\">CM</td><td style=\"border: 2px solid #000\">Other brucellosis</td></tr><tr style=\"background-color: white\"><td style=\"border: 2px solid #000\">155</td><td style=\"border: 2px solid #000\">A23.9</td><td style=\"border: 2px solid #000\">CM</td><td style=\"border: 2px solid #000\">Brucellosis, unspecified</td></tr><tr style=\"background-color: #fffaff\"><td style=\"border: 2px solid #000\">156</td><td style=\"border: 2px solid #000\">A24.0</td><td style=\"border: 2px solid #000\">CM</td><td style=\"border: 2px solid #000\">Glanders</td></tr><tr style=\"background-color: white\"><td style=\"border: 2px solid #000\">157</td><td style=\"border: 2px solid #000\">A24.1</td><td style=\"border: 2px solid #000\">CM</td><td style=\"border: 2px solid #000\">Acute and fulminating melioidosis</td></tr><tr style=\"background-color: #fffaff\"><td style=\"border: 2px solid #000\">158</td><td style=\"border: 2px solid #000\">A24.2</td><td style=\"border: 2px solid #000\">CM</td><td style=\"border: 2px solid #000\">Subacute and chronic melioidosis</td></tr><tr style=\"background-color: white\"><td style=\"border: 2px solid #000\">159</td><td style=\"border: 2px solid #000\">A24.3</td><td style=\"border: 2px solid #000\">CM</td><td style=\"border: 2px solid #000\">Other melioidosis</td></tr><tr style=\"background-color: #fffaff\"><td style=\"border: 2px solid #000\">160</td><td style=\"border: 2px solid #000\">A24.9</td><td style=\"border: 2px solid #000\">CM</td><td style=\"border: 2px solid #000\">Melioidosis, unspecified</td></tr><tr style=\"background-color: white\"><td style=\"border: 2px solid #000\">161</td><td style=\"border: 2px solid #000\">A25.0</td><td style=\"border: 2px solid #000\">CM</td><td style=\"border: 2px solid #000\">Spirillosis</td></tr><tr style=\"background-color: #fffaff\"><td style=\"border: 2px solid #000\">162</td><td style=\"border: 2px solid #000\">A25.1</td><td style=\"border: 2px solid #000\">CM</td><td style=\"border: 2px solid #000\">Streptobacillosis</td></tr><tr style=\"background-color: white\"><td style=\"border: 2px solid #000\">163</td><td style=\"border: 2px solid #000\">A25.9</td><td style=\"border: 2px solid #000\">CM</td><td style=\"border: 2px solid #000\">Rat-bite fever, unspecified</td></tr><tr style=\"background-color: #fffaff\"><td style=\"border: 2px solid #000\">164</td><td style=\"border: 2px solid #000\">A26.0</td><td style=\"border: 2px solid #000\">CM</td><td style=\"border: 2px solid #000\">Cutaneous erysipeloid</td></tr><tr style=\"background-color: white\"><td style=\"border: 2px solid #000\">165</td><td style=\"border: 2px solid #000\">A26.7</td><td style=\"border: 2px solid #000\">CM</td><td style=\"border: 2px solid #000\">Erysipelothrix sepsis</td></tr><tr style=\"background-color: #fffaff\"><td style=\"border: 2px solid #000\">166</td><td style=\"border: 2px solid #000\">A26.8</td><td style=\"border: 2px solid #000\">CM</td><td style=\"border: 2px solid #000\">Other forms of erysipeloid</td></tr><tr style=\"background-color: white\"><td style=\"border: 2px solid #000\">167</td><td style=\"border: 2px solid #000\">A26.9</td><td style=\"border: 2px solid #000\">CM</td><td style=\"border: 2px solid #000\">Erysipeloid, unspecified</td></tr><tr style=\"background-color: #fffaff\"><td style=\"border: 2px solid #000\">168</td><td style=\"border: 2px solid #000\">A27.0</td><td style=\"border: 2px solid #000\">CM</td><td style=\"border: 2px solid #000\">Leptospirosis icterohemorrhagica</td></tr><tr style=\"background-color: white\"><td style=\"border: 2px solid #000\">169</td><td style=\"border: 2px solid #000\">A27.81</td><td style=\"border: 2px solid #000\">CM</td><td style=\"border: 2px solid #000\">Aseptic meningitis in leptospirosis</td></tr><tr style=\"background-color: #fffaff\"><td style=\"border: 2px solid #000\">170</td><td style=\"border: 2px solid #000\">A27.89</td><td style=\"border: 2px solid #000\">CM</td><td style=\"border: 2px solid #000\">Other forms of leptospirosis</td></tr><tr style=\"background-color: white\"><td style=\"border: 2px solid #000\">171</td><td style=\"border: 2px solid #000\">A27.9</td><td style=\"border: 2px solid #000\">CM</td><td style=\"border: 2px solid #000\">Leptospirosis, unspecified</td></tr><tr style=\"background-color: #fffaff\"><td style=\"border: 2px solid #000\">172</td><td style=\"border: 2px solid #000\">A28.0</td><td style=\"border: 2px solid #000\">CM</td><td style=\"border: 2px solid #000\">Pasteurellosis</td></tr><tr style=\"background-color: white\"><td style=\"border: 2px solid #000\">173</td><td style=\"border: 2px solid #000\">A28.1</td><td style=\"border: 2px solid #000\">CM</td><td style=\"border: 2px solid #000\">Cat-scratch disease</td></tr><tr style=\"background-color: #fffaff\"><td style=\"border: 2px solid #000\">174</td><td style=\"border: 2px solid #000\">A28.2</td><td style=\"border: 2px solid #000\">CM</td><td style=\"border: 2px solid #000\">Extraintestinal yersiniosis</td></tr><tr style=\"background-color: white\"><td style=\"border: 2px solid #000\">175</td><td style=\"border: 2px solid #000\">A28.8</td><td style=\"border: 2px solid #000\">CM</td><td style=\"border: 2px solid #000\">Other specified zoonotic bacterial diseases, not elsewhere classified</td></tr><tr style=\"background-color: #fffaff\"><td style=\"border: 2px solid #000\">176</td><td style=\"border: 2px solid #000\">A28.9</td><td style=\"border: 2px solid #000\">CM</td><td style=\"border: 2px solid #000\">Zoonotic bacterial disease, unspecified</td></tr><tr style=\"background-color: white\"><td style=\"border: 2px solid #000\">177</td><td style=\"border: 2px solid #000\">A30.0</td><td style=\"border: 2px solid #000\">CM</td><td style=\"border: 2px solid #000\">Indeterminate leprosy</td></tr><tr style=\"background-color: #fffaff\"><td style=\"border: 2px solid #000\">178</td><td style=\"border: 2px solid #000\">A30.1</td><td style=\"border: 2px solid #000\">CM</td><td style=\"border: 2px solid #000\">Tuberculoid leprosy</td></tr><tr style=\"background-color: white\"><td style=\"border: 2px solid #000\">179</td><td style=\"border: 2px solid #000\">A30.2</td><td style=\"border: 2px solid #000\">CM</td><td style=\"border: 2px solid #000\">Borderline tuberculoid leprosy</td></tr><tr style=\"background-color: #fffaff\"><td style=\"border: 2px solid #000\">180</td><td style=\"border: 2px solid #000\">A30.3</td><td style=\"border: 2px solid #000\">CM</td><td style=\"border: 2px solid #000\">Borderline leprosy</td></tr><tr style=\"background-color: white\"><td style=\"border: 2px solid #000\">181</td><td style=\"border: 2px solid #000\">A30.4</td><td style=\"border: 2px solid #000\">CM</td><td style=\"border: 2px solid #000\">Borderline lepromatous leprosy</td></tr><tr style=\"background-color: #fffaff\"><td style=\"border: 2px solid #000\">182</td><td style=\"border: 2px solid #000\">A30.5</td><td style=\"border: 2px solid #000\">CM</td><td style=\"border: 2px solid #000\">Lepromatous leprosy</td></tr><tr style=\"background-color: white\"><td style=\"border: 2px solid #000\">183</td><td style=\"border: 2px solid #000\">A30.8</td><td style=\"border: 2px solid #000\">CM</td><td style=\"border: 2px solid #000\">Other forms of leprosy</td></tr><tr style=\"background-color: #fffaff\"><td style=\"border: 2px solid #000\">184</td><td style=\"border: 2px solid #000\">A30.9</td><td style=\"border: 2px solid #000\">CM</td><td style=\"border: 2px solid #000\">Leprosy, unspecified</td></tr><tr style=\"background-color: white\"><td style=\"border: 2px solid #000\">185</td><td style=\"border: 2px solid #000\">A31.0</td><td style=\"border: 2px solid #000\">CM</td><td style=\"border: 2px solid #000\">Pulmonary mycobacterial infection</td></tr><tr style=\"background-color: #fffaff\"><td style=\"border: 2px solid #000\">186</td><td style=\"border: 2px solid #000\">A31.1</td><td style=\"border: 2px solid #000\">CM</td><td style=\"border: 2px solid #000\">Cutaneous mycobacterial infection</td></tr><tr style=\"background-color: white\"><td style=\"border: 2px solid #000\">187</td><td style=\"border: 2px solid #000\">A31.2</td><td style=\"border: 2px solid #000\">CM</td><td style=\"border: 2px solid #000\">Disseminated mycobacterium avium-intracellulare complex (DMAC)</td></tr><tr style=\"background-color: #fffaff\"><td style=\"border: 2px solid #000\">188</td><td style=\"border: 2px solid #000\">A31.8</td><td style=\"border: 2px solid #000\">CM</td><td style=\"border: 2px solid #000\">Other mycobacterial infections</td></tr><tr style=\"background-color: white\"><td style=\"border: 2px solid #000\">189</td><td style=\"border: 2px solid #000\">A31.9</td><td style=\"border: 2px solid #000\">CM</td><td style=\"border: 2px solid #000\">Mycobacterial infection, unspecified</td></tr><tr style=\"background-color: #fffaff\"><td style=\"border: 2px solid #000\">190</td><td style=\"border: 2px solid #000\">A32.0</td><td style=\"border: 2px solid #000\">CM</td><td style=\"border: 2px solid #000\">Cutaneous listeriosis</td></tr><tr style=\"background-color: white\"><td style=\"border: 2px solid #000\">191</td><td style=\"border: 2px solid #000\">A32.11</td><td style=\"border: 2px solid #000\">CM</td><td style=\"border: 2px solid #000\">Listerial meningitis</td></tr><tr style=\"background-color: #fffaff\"><td style=\"border: 2px solid #000\">192</td><td style=\"border: 2px solid #000\">A32.12</td><td style=\"border: 2px solid #000\">CM</td><td style=\"border: 2px solid #000\">Listerial meningoencephalitis</td></tr><tr style=\"background-color: white\"><td style=\"border: 2px solid #000\">193</td><td style=\"border: 2px solid #000\">A32.7</td><td style=\"border: 2px solid #000\">CM</td><td style=\"border: 2px solid #000\">Listerial sepsis</td></tr><tr style=\"background-color: #fffaff\"><td style=\"border: 2px solid #000\">194</td><td style=\"border: 2px solid #000\">A32.81</td><td style=\"border: 2px solid #000\">CM</td><td style=\"border: 2px solid #000\">Oculoglandular listeriosis</td></tr><tr style=\"background-color: white\"><td style=\"border: 2px solid #000\">195</td><td style=\"border: 2px solid #000\">A32.82</td><td style=\"border: 2px solid #000\">CM</td><td style=\"border: 2px solid #000\">Listerial endocarditis</td></tr><tr style=\"background-color: #fffaff\"><td style=\"border: 2px solid #000\">196</td><td style=\"border: 2px solid #000\">A32.89</td><td style=\"border: 2px solid #000\">CM</td><td style=\"border: 2px solid #000\">Other forms of listeriosis</td></tr><tr style=\"background-color: white\"><td style=\"border: 2px solid #000\">197</td><td style=\"border: 2px solid #000\">A32.9</td><td style=\"border: 2px solid #000\">CM</td><td style=\"border: 2px solid #000\">Listeriosis, unspecified</td></tr><tr style=\"background-color: #fffaff\"><td style=\"border: 2px solid #000\">198</td><td style=\"border: 2px solid #000\">A33</td><td style=\"border: 2px solid #000\">CM</td><td style=\"border: 2px solid #000\">Tetanus neonatorum</td></tr><tr style=\"background-color: white\"><td style=\"border: 2px solid #000\">199</td><td style=\"border: 2px solid #000\">A34</td><td style=\"border: 2px solid #000\">CM</td><td style=\"border: 2px solid #000\">Obstetrical tetanus</td></tr><tr style=\"background-color: #fffaff\"><td style=\"border: 2px solid #000\">200</td><td style=\"border: 2px solid #000\">A35</td><td style=\"border: 2px solid #000\">CM</td><td style=\"border: 2px solid #000\">Other tetanus</td></tr><tr style=\"background-color: white\"><td style=\"border: 2px solid #000\">201</td><td style=\"border: 2px solid #000\">A36.0</td><td style=\"border: 2px solid #000\">CM</td><td style=\"border: 2px solid #000\">Pharyngeal diphtheria</td></tr><tr style=\"background-color: #fffaff\"><td style=\"border: 2px solid #000\">202</td><td style=\"border: 2px solid #000\">A36.1</td><td style=\"border: 2px solid #000\">CM</td><td style=\"border: 2px solid #000\">Nasopharyngeal diphtheria</td></tr><tr style=\"background-color: white\"><td style=\"border: 2px solid #000\">203</td><td style=\"border: 2px solid #000\">A36.2</td><td style=\"border: 2px solid #000\">CM</td><td style=\"border: 2px solid #000\">Laryngeal diphtheria</td></tr><tr style=\"background-color: #fffaff\"><td style=\"border: 2px solid #000\">204</td><td style=\"border: 2px solid #000\">A36.3</td><td style=\"border: 2px solid #000\">CM</td><td style=\"border: 2px solid #000\">Cutaneous diphtheria</td></tr><tr style=\"background-color: white\"><td style=\"border: 2px solid #000\">205</td><td style=\"border: 2px solid #000\">A36.81</td><td style=\"border: 2px solid #000\">CM</td><td style=\"border: 2px solid #000\">Diphtheritic cardiomyopathy</td></tr><tr style=\"background-color: #fffaff\"><td style=\"border: 2px solid #000\">206</td><td style=\"border: 2px solid #000\">A36.82</td><td style=\"border: 2px solid #000\">CM</td><td style=\"border: 2px solid #000\">Diphtheritic radiculomyelitis</td></tr><tr style=\"background-color: white\"><td style=\"border: 2px solid #000\">207</td><td style=\"border: 2px solid #000\">A36.83</td><td style=\"border: 2px solid #000\">CM</td><td style=\"border: 2px solid #000\">Diphtheritic polyneuritis</td></tr><tr style=\"background-color: #fffaff\"><td style=\"border: 2px solid #000\">208</td><td style=\"border: 2px solid #000\">A36.84</td><td style=\"border: 2px solid #000\">CM</td><td style=\"border: 2px solid #000\">Diphtheritic tubulo-interstitial nephropathy</td></tr><tr style=\"background-color: white\"><td style=\"border: 2px solid #000\">209</td><td style=\"border: 2px solid #000\">A36.85</td><td style=\"border: 2px solid #000\">CM</td><td style=\"border: 2px solid #000\">Diphtheritic cystitis</td></tr><tr style=\"background-color: #fffaff\"><td style=\"border: 2px solid #000\">210</td><td style=\"border: 2px solid #000\">A36.86</td><td style=\"border: 2px solid #000\">CM</td><td style=\"border: 2px solid #000\">Diphtheritic conjunctivitis</td></tr><tr style=\"background-color: white\"><td style=\"border: 2px solid #000\">211</td><td style=\"border: 2px solid #000\">A36.89</td><td style=\"border: 2px solid #000\">CM</td><td style=\"border: 2px solid #000\">Other diphtheritic complications</td></tr><tr style=\"background-color: #fffaff\"><td style=\"border: 2px solid #000\">212</td><td style=\"border: 2px solid #000\">A36.9</td><td style=\"border: 2px solid #000\">CM</td><td style=\"border: 2px solid #000\">Diphtheria, unspecified</td></tr><tr style=\"background-color: white\"><td style=\"border: 2px solid #000\">213</td><td style=\"border: 2px solid #000\">A37.00</td><td style=\"border: 2px solid #000\">CM</td><td style=\"border: 2px solid #000\">Whooping cough due to Bordetella pertussis without pneumonia</td></tr><tr style=\"background-color: #fffaff\"><td style=\"border: 2px solid #000\">214</td><td style=\"border: 2px solid #000\">A37.01</td><td style=\"border: 2px solid #000\">CM</td><td style=\"border: 2px solid #000\">Whooping cough due to Bordetella pertussis with pneumonia</td></tr><tr style=\"background-color: white\"><td style=\"border: 2px solid #000\">215</td><td style=\"border: 2px solid #000\">A37.10</td><td style=\"border: 2px solid #000\">CM</td><td style=\"border: 2px solid #000\">Whooping cough due to Bordetella parapertussis without pneumonia</td></tr><tr style=\"background-color: #fffaff\"><td style=\"border: 2px solid #000\">216</td><td style=\"border: 2px solid #000\">A37.11</td><td style=\"border: 2px solid #000\">CM</td><td style=\"border: 2px solid #000\">Whooping cough due to Bordetella parapertussis with pneumonia</td></tr><tr style=\"background-color: white\"><td style=\"border: 2px solid #000\">217</td><td style=\"border: 2px solid #000\">A37.80</td><td style=\"border: 2px solid #000\">CM</td><td style=\"border: 2px solid #000\">Whooping cough due to other Bordetella species without pneumonia</td></tr><tr style=\"background-color: #fffaff\"><td style=\"border: 2px solid #000\">218</td><td style=\"border: 2px solid #000\">A37.81</td><td style=\"border: 2px solid #000\">CM</td><td style=\"border: 2px solid #000\">Whooping cough due to other Bordetella species with pneumonia</td></tr><tr style=\"background-color: white\"><td style=\"border: 2px solid #000\">219</td><td style=\"border: 2px solid #000\">A37.90</td><td style=\"border: 2px solid #000\">CM</td><td style=\"border: 2px solid #000\">Whooping cough, unspecified species without pneumonia</td></tr><tr style=\"background-color: #fffaff\"><td style=\"border: 2px solid #000\">220</td><td style=\"border: 2px solid #000\">A37.91</td><td style=\"border: 2px solid #000\">CM</td><td style=\"border: 2px solid #000\">Whooping cough, unspecified species with pneumonia</td></tr><tr style=\"background-color: white\"><td style=\"border: 2px solid #000\">221</td><td style=\"border: 2px solid #000\">A38.0</td><td style=\"border: 2px solid #000\">CM</td><td style=\"border: 2px solid #000\">Scarlet fever with otitis media</td></tr><tr style=\"background-color: #fffaff\"><td style=\"border: 2px solid #000\">222</td><td style=\"border: 2px solid #000\">A38.1</td><td style=\"border: 2px solid #000\">CM</td><td style=\"border: 2px solid #000\">Scarlet fever with myocarditis</td></tr><tr style=\"background-color: white\"><td style=\"border: 2px solid #000\">223</td><td style=\"border: 2px solid #000\">A38.8</td><td style=\"border: 2px solid #000\">CM</td><td style=\"border: 2px solid #000\">Scarlet fever with other complications</td></tr><tr style=\"background-color: #fffaff\"><td style=\"border: 2px solid #000\">224</td><td style=\"border: 2px solid #000\">A38.9</td><td style=\"border: 2px solid #000\">CM</td><td style=\"border: 2px solid #000\">Scarlet fever, uncomplicated</td></tr><tr style=\"background-color: white\"><td style=\"border: 2px solid #000\">225</td><td style=\"border: 2px solid #000\">A39.0</td><td style=\"border: 2px solid #000\">CM</td><td style=\"border: 2px solid #000\">Meningococcal meningitis</td></tr><tr style=\"background-color: #fffaff\"><td style=\"border: 2px solid #000\">226</td><td style=\"border: 2px solid #000\">A39.1</td><td style=\"border: 2px solid #000\">CM</td><td style=\"border: 2px solid #000\">Waterhouse-Friderichsen syndrome</td></tr><tr style=\"background-color: white\"><td style=\"border: 2px solid #000\">227</td><td style=\"border: 2px solid #000\">A39.2</td><td style=\"border: 2px solid #000\">CM</td><td style=\"border: 2px solid #000\">Acute meningococcemia</td></tr><tr style=\"background-color: #fffaff\"><td style=\"border: 2px solid #000\">228</td><td style=\"border: 2px solid #000\">A39.3</td><td style=\"border: 2px solid #000\">CM</td><td style=\"border: 2px solid #000\">Chronic meningococcemia</td></tr><tr style=\"background-color: white\"><td style=\"border: 2px solid #000\">229</td><td style=\"border: 2px solid #000\">A39.4</td><td style=\"border: 2px solid #000\">CM</td><td style=\"border: 2px solid #000\">Meningococcemia, unspecified</td></tr><tr style=\"background-color: #fffaff\"><td style=\"border: 2px solid #000\">230</td><td style=\"border: 2px solid #000\">A39.50</td><td style=\"border: 2px solid #000\">CM</td><td style=\"border: 2px solid #000\">Meningococcal carditis, unspecified</td></tr><tr style=\"background-color: white\"><td style=\"border: 2px solid #000\">231</td><td style=\"border: 2px solid #000\">A39.51</td><td style=\"border: 2px solid #000\">CM</td><td style=\"border: 2px solid #000\">Meningococcal endocarditis</td></tr><tr style=\"background-color: #fffaff\"><td style=\"border: 2px solid #000\">232</td><td style=\"border: 2px solid #000\">A39.52</td><td style=\"border: 2px solid #000\">CM</td><td style=\"border: 2px solid #000\">Meningococcal myocarditis</td></tr><tr style=\"background-color: white\"><td style=\"border: 2px solid #000\">233</td><td style=\"border: 2px solid #000\">A39.53</td><td style=\"border: 2px solid #000\">CM</td><td style=\"border: 2px solid #000\">Meningococcal pericarditis</td></tr><tr style=\"background-color: #fffaff\"><td style=\"border: 2px solid #000\">234</td><td style=\"border: 2px solid #000\">A39.81</td><td style=\"border: 2px solid #000\">CM</td><td style=\"border: 2px solid #000\">Meningococcal encephalitis</td></tr><tr style=\"background-color: white\"><td style=\"border: 2px solid #000\">235</td><td style=\"border: 2px solid #000\">A39.82</td><td style=\"border: 2px solid #000\">CM</td><td style=\"border: 2px solid #000\">Meningococcal retrobulbar neuritis</td></tr><tr style=\"background-color: #fffaff\"><td style=\"border: 2px solid #000\">236</td><td style=\"border: 2px solid #000\">A39.83</td><td style=\"border: 2px solid #000\">CM</td><td style=\"border: 2px solid #000\">Meningococcal arthritis</td></tr><tr style=\"background-color: white\"><td style=\"border: 2px solid #000\">237</td><td style=\"border: 2px solid #000\">A39.84</td><td style=\"border: 2px solid #000\">CM</td><td style=\"border: 2px solid #000\">Postmeningococcal arthritis</td></tr><tr style=\"background-color: #fffaff\"><td style=\"border: 2px solid #000\">238</td><td style=\"border: 2px solid #000\">A39.89</td><td style=\"border: 2px solid #000\">CM</td><td style=\"border: 2px solid #000\">Other meningococcal infections</td></tr><tr style=\"background-color: white\"><td style=\"border: 2px solid #000\">239</td><td style=\"border: 2px solid #000\">A39.9</td><td style=\"border: 2px solid #000\">CM</td><td style=\"border: 2px solid #000\">Meningococcal infection, unspecified</td></tr><tr style=\"background-color: #fffaff\"><td style=\"border: 2px solid #000\">240</td><td style=\"border: 2px solid #000\">A40.0</td><td style=\"border: 2px solid #000\">CM</td><td style=\"border: 2px solid #000\">Sepsis due to streptococcus, group A</td></tr><tr style=\"background-color: white\"><td style=\"border: 2px solid #000\">241</td><td style=\"border: 2px solid #000\">A40.1</td><td style=\"border: 2px solid #000\">CM</td><td style=\"border: 2px solid #000\">Sepsis due to streptococcus, group B</td></tr><tr style=\"background-color: #fffaff\"><td style=\"border: 2px solid #000\">242</td><td style=\"border: 2px solid #000\">A40.3</td><td style=\"border: 2px solid #000\">CM</td><td style=\"border: 2px solid #000\">Sepsis due to Streptococcus pneumoniae</td></tr><tr style=\"background-color: white\"><td style=\"border: 2px solid #000\">243</td><td style=\"border: 2px solid #000\">A40.8</td><td style=\"border: 2px solid #000\">CM</td><td style=\"border: 2px solid #000\">Other streptococcal sepsis</td></tr><tr style=\"background-color: #fffaff\"><td style=\"border: 2px solid #000\">244</td><td style=\"border: 2px solid #000\">A40.9</td><td style=\"border: 2px solid #000\">CM</td><td style=\"border: 2px solid #000\">Streptococcal sepsis, unspecified</td></tr><tr style=\"background-color: white\"><td style=\"border: 2px solid #000\">245</td><td style=\"border: 2px solid #000\">A41.01</td><td style=\"border: 2px solid #000\">CM</td><td style=\"border: 2px solid #000\">Sepsis due to Methicillin susceptible Staphylococcus aureus</td></tr><tr style=\"background-color: #fffaff\"><td style=\"border: 2px solid #000\">246</td><td style=\"border: 2px solid #000\">A41.02</td><td style=\"border: 2px solid #000\">CM</td><td style=\"border: 2px solid #000\">Sepsis due to Methicillin resistant Staphylococcus aureus</td></tr><tr style=\"background-color: white\"><td style=\"border: 2px solid #000\">247</td><td style=\"border: 2px solid #000\">A41.1</td><td style=\"border: 2px solid #000\">CM</td><td style=\"border: 2px solid #000\">Sepsis due to other specified staphylococcus</td></tr><tr style=\"background-color: #fffaff\"><td style=\"border: 2px solid #000\">248</td><td style=\"border: 2px solid #000\">A41.2</td><td style=\"border: 2px solid #000\">CM</td><td style=\"border: 2px solid #000\">Sepsis due to unspecified staphylococcus</td></tr><tr style=\"background-color: white\"><td style=\"border: 2px solid #000\">249</td><td style=\"border: 2px solid #000\">A41.3</td><td style=\"border: 2px solid #000\">CM</td><td style=\"border: 2px solid #000\">Sepsis due to Hemophilus influenzae</td></tr><tr style=\"background-color: #fffaff\"><td style=\"border: 2px solid #000\">250</td><td style=\"border: 2px solid #000\">A41.4</td><td style=\"border: 2px solid #000\">CM</td><td style=\"border: 2px solid #000\">Sepsis due to anaerobes</td></tr><tr style=\"background-color: white\"><td style=\"border: 2px solid #000\">251</td><td style=\"border: 2px solid #000\">A41.50</td><td style=\"border: 2px solid #000\">CM</td><td style=\"border: 2px solid #000\">Gram-negative sepsis, unspecified</td></tr><tr style=\"background-color: #fffaff\"><td style=\"border: 2px solid #000\">252</td><td style=\"border: 2px solid #000\">A41.51</td><td style=\"border: 2px solid #000\">CM</td><td style=\"border: 2px solid #000\">Sepsis due to Escherichia coli [E. coli]</td></tr><tr style=\"background-color: white\"><td style=\"border: 2px solid #000\">253</td><td style=\"border: 2px solid #000\">A41.52</td><td style=\"border: 2px solid #000\">CM</td><td style=\"border: 2px solid #000\">Sepsis due to Pseudomonas</td></tr><tr style=\"background-color: #fffaff\"><td style=\"border: 2px solid #000\">254</td><td style=\"border: 2px solid #000\">A41.53</td><td style=\"border: 2px solid #000\">CM</td><td style=\"border: 2px solid #000\">Sepsis due to Serratia</td></tr><tr style=\"background-color: white\"><td style=\"border: 2px solid #000\">255</td><td style=\"border: 2px solid #000\">A41.59</td><td style=\"border: 2px solid #000\">CM</td><td style=\"border: 2px solid #000\">Other Gram-negative sepsis</td></tr><tr style=\"background-color: #fffaff\"><td style=\"border: 2px solid #000\">256</td><td style=\"border: 2px solid #000\">A41.81</td><td style=\"border: 2px solid #000\">CM</td><td style=\"border: 2px solid #000\">Sepsis due to Enterococcus</td></tr><tr style=\"background-color: white\"><td style=\"border: 2px solid #000\">257</td><td style=\"border: 2px solid #000\">A41.89</td><td style=\"border: 2px solid #000\">CM</td><td style=\"border: 2px solid #000\">Other specified sepsis</td></tr><tr style=\"background-color: #fffaff\"><td style=\"border: 2px solid #000\">258</td><td style=\"border: 2px solid #000\">A41.9</td><td style=\"border: 2px solid #000\">CM</td><td style=\"border: 2px solid #000\">Sepsis, unspecified organism</td></tr><tr style=\"background-color: white\"><td style=\"border: 2px solid #000\">259</td><td style=\"border: 2px solid #000\">A42.0</td><td style=\"border: 2px solid #000\">CM</td><td style=\"border: 2px solid #000\">Pulmonary actinomycosis</td></tr><tr style=\"background-color: #fffaff\"><td style=\"border: 2px solid #000\">260</td><td style=\"border: 2px solid #000\">A42.1</td><td style=\"border: 2px solid #000\">CM</td><td style=\"border: 2px solid #000\">Abdominal actinomycosis</td></tr><tr style=\"background-color: white\"><td style=\"border: 2px solid #000\">261</td><td style=\"border: 2px solid #000\">A42.2</td><td style=\"border: 2px solid #000\">CM</td><td style=\"border: 2px solid #000\">Cervicofacial actinomycosis</td></tr><tr style=\"background-color: #fffaff\"><td style=\"border: 2px solid #000\">262</td><td style=\"border: 2px solid #000\">A42.7</td><td style=\"border: 2px solid #000\">CM</td><td style=\"border: 2px solid #000\">Actinomycotic sepsis</td></tr><tr style=\"background-color: white\"><td style=\"border: 2px solid #000\">263</td><td style=\"border: 2px solid #000\">A42.81</td><td style=\"border: 2px solid #000\">CM</td><td style=\"border: 2px solid #000\">Actinomycotic meningitis</td></tr><tr style=\"background-color: #fffaff\"><td style=\"border: 2px solid #000\">264</td><td style=\"border: 2px solid #000\">A42.82</td><td style=\"border: 2px solid #000\">CM</td><td style=\"border: 2px solid #000\">Actinomycotic encephalitis</td></tr><tr style=\"background-color: white\"><td style=\"border: 2px solid #000\">265</td><td style=\"border: 2px solid #000\">A42.89</td><td style=\"border: 2px solid #000\">CM</td><td style=\"border: 2px solid #000\">Other forms of actinomycosis</td></tr><tr style=\"background-color: #fffaff\"><td style=\"border: 2px solid #000\">266</td><td style=\"border: 2px solid #000\">A42.9</td><td style=\"border: 2px solid #000\">CM</td><td style=\"border: 2px solid #000\">Actinomycosis, unspecified</td></tr><tr style=\"background-color: white\"><td style=\"border: 2px solid #000\">267</td><td style=\"border: 2px solid #000\">A43.0</td><td style=\"border: 2px solid #000\">CM</td><td style=\"border: 2px solid #000\">Pulmonary nocardiosis</td></tr><tr style=\"background-color: #fffaff\"><td style=\"border: 2px solid #000\">268</td><td style=\"border: 2px solid #000\">A43.1</td><td style=\"border: 2px solid #000\">CM</td><td style=\"border: 2px solid #000\">Cutaneous nocardiosis</td></tr><tr style=\"background-color: white\"><td style=\"border: 2px solid #000\">269</td><td style=\"border: 2px solid #000\">A43.8</td><td style=\"border: 2px solid #000\">CM</td><td style=\"border: 2px solid #000\">Other forms of nocardiosis</td></tr><tr style=\"background-color: #fffaff\"><td style=\"border: 2px solid #000\">270</td><td style=\"border: 2px solid #000\">A43.9</td><td style=\"border: 2px solid #000\">CM</td><td style=\"border: 2px solid #000\">Nocardiosis, unspecified</td></tr><tr style=\"background-color: white\"><td style=\"border: 2px solid #000\">271</td><td style=\"border: 2px solid #000\">A44.0</td><td style=\"border: 2px solid #000\">CM</td><td style=\"border: 2px solid #000\">Systemic bartonellosis</td></tr><tr style=\"background-color: #fffaff\"><td style=\"border: 2px solid #000\">272</td><td style=\"border: 2px solid #000\">A44.1</td><td style=\"border: 2px solid #000\">CM</td><td style=\"border: 2px solid #000\">Cutaneous and mucocutaneous bartonellosis</td></tr><tr style=\"background-color: white\"><td style=\"border: 2px solid #000\">273</td><td style=\"border: 2px solid #000\">A44.8</td><td style=\"border: 2px solid #000\">CM</td><td style=\"border: 2px solid #000\">Other forms of bartonellosis</td></tr><tr style=\"background-color: #fffaff\"><td style=\"border: 2px solid #000\">274</td><td style=\"border: 2px solid #000\">A44.9</td><td style=\"border: 2px solid #000\">CM</td><td style=\"border: 2px solid #000\">Bartonellosis, unspecified</td></tr><tr style=\"background-color: white\"><td style=\"border: 2px solid #000\">275</td><td style=\"border: 2px solid #000\">A46</td><td style=\"border: 2px solid #000\">CM</td><td style=\"border: 2px solid #000\">Erysipelas</td></tr><tr style=\"background-color: #fffaff\"><td style=\"border: 2px solid #000\">276</td><td style=\"border: 2px solid #000\">A48.0</td><td style=\"border: 2px solid #000\">CM</td><td style=\"border: 2px solid #000\">Gas gangrene</td></tr><tr style=\"background-color: white\"><td style=\"border: 2px solid #000\">277</td><td style=\"border: 2px solid #000\">A48.1</td><td style=\"border: 2px solid #000\">CM</td><td style=\"border: 2px solid #000\">Legionnaires' disease</td></tr><tr style=\"background-color: #fffaff\"><td style=\"border: 2px solid #000\">278</td><td style=\"border: 2px solid #000\">A48.2</td><td style=\"border: 2px solid #000\">CM</td><td style=\"border: 2px solid #000\">Nonpneumonic Legionnaires' disease [Pontiac fever]</td></tr><tr style=\"background-color: white\"><td style=\"border: 2px solid #000\">279</td><td style=\"border: 2px solid #000\">A48.3</td><td style=\"border: 2px solid #000\">CM</td><td style=\"border: 2px solid #000\">Toxic shock syndrome</td></tr><tr style=\"background-color: #fffaff\"><td style=\"border: 2px solid #000\">280</td><td style=\"border: 2px solid #000\">A48.4</td><td style=\"border: 2px solid #000\">CM</td><td style=\"border: 2px solid #000\">Brazilian purpuric fever</td></tr><tr style=\"background-color: white\"><td style=\"border: 2px solid #000\">281</td><td style=\"border: 2px solid #000\">A48.51</td><td style=\"border: 2px solid #000\">CM</td><td style=\"border: 2px solid #000\">Infant botulism</td></tr><tr style=\"background-color: #fffaff\"><td style=\"border: 2px solid #000\">282</td><td style=\"border: 2px solid #000\">A48.52</td><td style=\"border: 2px solid #000\">CM</td><td style=\"border: 2px solid #000\">Wound botulism</td></tr><tr style=\"background-color: white\"><td style=\"border: 2px solid #000\">283</td><td style=\"border: 2px solid #000\">A48.8</td><td style=\"border: 2px solid #000\">CM</td><td style=\"border: 2px solid #000\">Other specified bacterial diseases</td></tr><tr style=\"background-color: #fffaff\"><td style=\"border: 2px solid #000\">284</td><td style=\"border: 2px solid #000\">A49.01</td><td style=\"border: 2px solid #000\">CM</td><td style=\"border: 2px solid #000\">Methicillin susceptible Staphylococcus aureus infection, unspecified site</td></tr><tr style=\"background-color: white\"><td style=\"border: 2px solid #000\">285</td><td style=\"border: 2px solid #000\">A49.02</td><td style=\"border: 2px solid #000\">CM</td><td style=\"border: 2px solid #000\">Methicillin resistant Staphylococcus aureus infection, unspecified site</td></tr><tr style=\"background-color: #fffaff\"><td style=\"border: 2px solid #000\">286</td><td style=\"border: 2px solid #000\">A49.1</td><td style=\"border: 2px solid #000\">CM</td><td style=\"border: 2px solid #000\">Streptococcal infection, unspecified site</td></tr><tr style=\"background-color: white\"><td style=\"border: 2px solid #000\">287</td><td style=\"border: 2px solid #000\">A49.2</td><td style=\"border: 2px solid #000\">CM</td><td style=\"border: 2px solid #000\">Hemophilus influenzae infection, unspecified site</td></tr><tr style=\"background-color: #fffaff\"><td style=\"border: 2px solid #000\">288</td><td style=\"border: 2px solid #000\">A49.3</td><td style=\"border: 2px solid #000\">CM</td><td style=\"border: 2px solid #000\">Mycoplasma infection, unspecified site</td></tr><tr style=\"background-color: white\"><td style=\"border: 2px solid #000\">289</td><td style=\"border: 2px solid #000\">A49.8</td><td style=\"border: 2px solid #000\">CM</td><td style=\"border: 2px solid #000\">Other bacterial infections of unspecified site</td></tr><tr style=\"background-color: #fffaff\"><td style=\"border: 2px solid #000\">290</td><td style=\"border: 2px solid #000\">A49.9</td><td style=\"border: 2px solid #000\">CM</td><td style=\"border: 2px solid #000\">Bacterial infection, unspecified</td></tr><tr style=\"background-color: white\"><td style=\"border: 2px solid #000\">291</td><td style=\"border: 2px solid #000\">A50.01</td><td style=\"border: 2px solid #000\">CM</td><td style=\"border: 2px solid #000\">Early congenital syphilitic oculopathy</td></tr><tr style=\"background-color: #fffaff\"><td style=\"border: 2px solid #000\">292</td><td style=\"border: 2px solid #000\">A50.02</td><td style=\"border: 2px solid #000\">CM</td><td style=\"border: 2px solid #000\">Early congenital syphilitic osteochondropathy</td></tr><tr style=\"background-color: white\"><td style=\"border: 2px solid #000\">293</td><td style=\"border: 2px solid #000\">A50.03</td><td style=\"border: 2px solid #000\">CM</td><td style=\"border: 2px solid #000\">Early congenital syphilitic pharyngitis</td></tr><tr style=\"background-color: #fffaff\"><td style=\"border: 2px solid #000\">294</td><td style=\"border: 2px solid #000\">A50.04</td><td style=\"border: 2px solid #000\">CM</td><td style=\"border: 2px solid #000\">Early congenital syphilitic pneumonia</td></tr><tr style=\"background-color: white\"><td style=\"border: 2px solid #000\">295</td><td style=\"border: 2px solid #000\">A50.05</td><td style=\"border: 2px solid #000\">CM</td><td style=\"border: 2px solid #000\">Early congenital syphilitic rhinitis</td></tr><tr style=\"background-color: #fffaff\"><td style=\"border: 2px solid #000\">296</td><td style=\"border: 2px solid #000\">A50.06</td><td style=\"border: 2px solid #000\">CM</td><td style=\"border: 2px solid #000\">Early cutaneous congenital syphilis</td></tr><tr style=\"background-color: white\"><td style=\"border: 2px solid #000\">297</td><td style=\"border: 2px solid #000\">A50.07</td><td style=\"border: 2px solid #000\">CM</td><td style=\"border: 2px solid #000\">Early mucocutaneous congenital syphilis</td></tr><tr style=\"background-color: #fffaff\"><td style=\"border: 2px solid #000\">298</td><td style=\"border: 2px solid #000\">A50.08</td><td style=\"border: 2px solid #000\">CM</td><td style=\"border: 2px solid #000\">Early visceral congenital syphilis</td></tr><tr style=\"background-color: white\"><td style=\"border: 2px solid #000\">299</td><td style=\"border: 2px solid #000\">A50.09</td><td style=\"border: 2px solid #000\">CM</td><td style=\"border: 2px solid #000\">Other early congenital syphilis, symptomatic</td></tr><tr style=\"background-color: #fffaff\"><td style=\"border: 2px solid #000\">300</td><td style=\"border: 2px solid #000\">A50.1</td><td style=\"border: 2px solid #000\">CM</td><td style=\"border: 2px solid #000\">Early congenital syphilis, latent</td></tr><tr style=\"background-color: white\"><td style=\"border: 2px solid #000\">301</td><td style=\"border: 2px solid #000\">A50.2</td><td style=\"border: 2px solid #000\">CM</td><td style=\"border: 2px solid #000\">Early congenital syphilis, unspecified</td></tr><tr style=\"background-color: #fffaff\"><td style=\"border: 2px solid #000\">302</td><td style=\"border: 2px solid #000\">A50.30</td><td style=\"border: 2px solid #000\">CM</td><td style=\"border: 2px solid #000\">Late congenital syphilitic oculopathy, unspecified</td></tr><tr style=\"background-color: white\"><td style=\"border: 2px solid #000\">303</td><td style=\"border: 2px solid #000\">A50.31</td><td style=\"border: 2px solid #000\">CM</td><td style=\"border: 2px solid #000\">Late congenital syphilitic interstitial keratitis</td></tr><tr style=\"background-color: #fffaff\"><td style=\"border: 2px solid #000\">304</td><td style=\"border: 2px solid #000\">A50.32</td><td style=\"border: 2px solid #000\">CM</td><td style=\"border: 2px solid #000\">Late congenital syphilitic chorioretinitis</td></tr><tr style=\"background-color: white\"><td style=\"border: 2px solid #000\">305</td><td style=\"border: 2px solid #000\">A50.39</td><td style=\"border: 2px solid #000\">CM</td><td style=\"border: 2px solid #000\">Other late congenital syphilitic oculopathy</td></tr><tr style=\"background-color: #fffaff\"><td style=\"border: 2px solid #000\">306</td><td style=\"border: 2px solid #000\">A50.40</td><td style=\"border: 2px solid #000\">CM</td><td style=\"border: 2px solid #000\">Late congenital neurosyphilis, unspecified</td></tr><tr style=\"background-color: white\"><td style=\"border: 2px solid #000\">307</td><td style=\"border: 2px solid #000\">A50.41</td><td style=\"border: 2px solid #000\">CM</td><td style=\"border: 2px solid #000\">Late congenital syphilitic meningitis</td></tr><tr style=\"background-color: #fffaff\"><td style=\"border: 2px solid #000\">308</td><td style=\"border: 2px solid #000\">A50.42</td><td style=\"border: 2px solid #000\">CM</td><td style=\"border: 2px solid #000\">Late congenital syphilitic encephalitis</td></tr><tr style=\"background-color: white\"><td style=\"border: 2px solid #000\">309</td><td style=\"border: 2px solid #000\">A50.43</td><td style=\"border: 2px solid #000\">CM</td><td style=\"border: 2px solid #000\">Late congenital syphilitic polyneuropathy</td></tr><tr style=\"background-color: #fffaff\"><td style=\"border: 2px solid #000\">310</td><td style=\"border: 2px solid #000\">A50.44</td><td style=\"border: 2px solid #000\">CM</td><td style=\"border: 2px solid #000\">Late congenital syphilitic optic nerve atrophy</td></tr><tr style=\"background-color: white\"><td style=\"border: 2px solid #000\">311</td><td style=\"border: 2px solid #000\">A50.45</td><td style=\"border: 2px solid #000\">CM</td><td style=\"border: 2px solid #000\">Juvenile general paresis</td></tr><tr style=\"background-color: #fffaff\"><td style=\"border: 2px solid #000\">312</td><td style=\"border: 2px solid #000\">A50.49</td><td style=\"border: 2px solid #000\">CM</td><td style=\"border: 2px solid #000\">Other late congenital neurosyphilis</td></tr><tr style=\"background-color: white\"><td style=\"border: 2px solid #000\">313</td><td style=\"border: 2px solid #000\">A50.51</td><td style=\"border: 2px solid #000\">CM</td><td style=\"border: 2px solid #000\">Clutton's joints</td></tr><tr style=\"background-color: #fffaff\"><td style=\"border: 2px solid #000\">314</td><td style=\"border: 2px solid #000\">A50.52</td><td style=\"border: 2px solid #000\">CM</td><td style=\"border: 2px solid #000\">Hutchinson's teeth</td></tr><tr style=\"background-color: white\"><td style=\"border: 2px solid #000\">315</td><td style=\"border: 2px solid #000\">A50.53</td><td style=\"border: 2px solid #000\">CM</td><td style=\"border: 2px solid #000\">Hutchinson's triad</td></tr><tr style=\"background-color: #fffaff\"><td style=\"border: 2px solid #000\">316</td><td style=\"border: 2px solid #000\">A50.54</td><td style=\"border: 2px solid #000\">CM</td><td style=\"border: 2px solid #000\">Late congenital cardiovascular syphilis</td></tr><tr style=\"background-color: white\"><td style=\"border: 2px solid #000\">317</td><td style=\"border: 2px solid #000\">A50.55</td><td style=\"border: 2px solid #000\">CM</td><td style=\"border: 2px solid #000\">Late congenital syphilitic arthropathy</td></tr><tr style=\"background-color: #fffaff\"><td style=\"border: 2px solid #000\">318</td><td style=\"border: 2px solid #000\">A50.56</td><td style=\"border: 2px solid #000\">CM</td><td style=\"border: 2px solid #000\">Late congenital syphilitic osteochondropathy</td></tr><tr style=\"background-color: white\"><td style=\"border: 2px solid #000\">319</td><td style=\"border: 2px solid #000\">A50.57</td><td style=\"border: 2px solid #000\">CM</td><td style=\"border: 2px solid #000\">Syphilitic saddle nose</td></tr><tr style=\"background-color: #fffaff\"><td style=\"border: 2px solid #000\">320</td><td style=\"border: 2px solid #000\">A50.59</td><td style=\"border: 2px solid #000\">CM</td><td style=\"border: 2px solid #000\">Other late congenital syphilis, symptomatic</td></tr><tr style=\"background-color: white\"><td style=\"border: 2px solid #000\">321</td><td style=\"border: 2px solid #000\">A50.6</td><td style=\"border: 2px solid #000\">CM</td><td style=\"border: 2px solid #000\">Late congenital syphilis, latent</td></tr><tr style=\"background-color: #fffaff\"><td style=\"border: 2px solid #000\">322</td><td style=\"border: 2px solid #000\">A50.7</td><td style=\"border: 2px solid #000\">CM</td><td style=\"border: 2px solid #000\">Late congenital syphilis, unspecified</td></tr><tr style=\"background-color: white\"><td style=\"border: 2px solid #000\">323</td><td style=\"border: 2px solid #000\">A50.9</td><td style=\"border: 2px solid #000\">CM</td><td style=\"border: 2px solid #000\">Congenital syphilis, unspecified</td></tr><tr style=\"background-color: #fffaff\"><td style=\"border: 2px solid #000\">324</td><td style=\"border: 2px solid #000\">A51.0</td><td style=\"border: 2px solid #000\">CM</td><td style=\"border: 2px solid #000\">Primary genital syphilis</td></tr><tr style=\"background-color: white\"><td style=\"border: 2px solid #000\">325</td><td style=\"border: 2px solid #000\">A51.1</td><td style=\"border: 2px solid #000\">CM</td><td style=\"border: 2px solid #000\">Primary anal syphilis</td></tr><tr style=\"background-color: #fffaff\"><td style=\"border: 2px solid #000\">326</td><td style=\"border: 2px solid #000\">A51.2</td><td style=\"border: 2px solid #000\">CM</td><td style=\"border: 2px solid #000\">Primary syphilis of other sites</td></tr><tr style=\"background-color: white\"><td style=\"border: 2px solid #000\">327</td><td style=\"border: 2px solid #000\">A51.31</td><td style=\"border: 2px solid #000\">CM</td><td style=\"border: 2px solid #000\">Condyloma latum</td></tr><tr style=\"background-color: #fffaff\"><td style=\"border: 2px solid #000\">328</td><td style=\"border: 2px solid #000\">A51.32</td><td style=\"border: 2px solid #000\">CM</td><td style=\"border: 2px solid #000\">Syphilitic alopecia</td></tr><tr style=\"background-color: white\"><td style=\"border: 2px solid #000\">329</td><td style=\"border: 2px solid #000\">A51.39</td><td style=\"border: 2px solid #000\">CM</td><td style=\"border: 2px solid #000\">Other secondary syphilis of skin</td></tr><tr style=\"background-color: #fffaff\"><td style=\"border: 2px solid #000\">330</td><td style=\"border: 2px solid #000\">A51.41</td><td style=\"border: 2px solid #000\">CM</td><td style=\"border: 2px solid #000\">Secondary syphilitic meningitis</td></tr><tr style=\"background-color: white\"><td style=\"border: 2px solid #000\">331</td><td style=\"border: 2px solid #000\">A51.42</td><td style=\"border: 2px solid #000\">CM</td><td style=\"border: 2px solid #000\">Secondary syphilitic female pelvic disease</td></tr><tr style=\"background-color: #fffaff\"><td style=\"border: 2px solid #000\">332</td><td style=\"border: 2px solid #000\">A51.43</td><td style=\"border: 2px solid #000\">CM</td><td style=\"border: 2px solid #000\">Secondary syphilitic oculopathy</td></tr><tr style=\"background-color: white\"><td style=\"border: 2px solid #000\">333</td><td style=\"border: 2px solid #000\">A51.44</td><td style=\"border: 2px solid #000\">CM</td><td style=\"border: 2px solid #000\">Secondary syphilitic nephritis</td></tr><tr style=\"background-color: #fffaff\"><td style=\"border: 2px solid #000\">334</td><td style=\"border: 2px solid #000\">A51.45</td><td style=\"border: 2px solid #000\">CM</td><td style=\"border: 2px solid #000\">Secondary syphilitic hepatitis</td></tr><tr style=\"background-color: white\"><td style=\"border: 2px solid #000\">335</td><td style=\"border: 2px solid #000\">A51.46</td><td style=\"border: 2px solid #000\">CM</td><td style=\"border: 2px solid #000\">Secondary syphilitic osteopathy</td></tr><tr style=\"background-color: #fffaff\"><td style=\"border: 2px solid #000\">336</td><td style=\"border: 2px solid #000\">A51.49</td><td style=\"border: 2px solid #000\">CM</td><td style=\"border: 2px solid #000\">Other secondary syphilitic conditions</td></tr><tr style=\"background-color: white\"><td style=\"border: 2px solid #000\">337</td><td style=\"border: 2px solid #000\">A51.5</td><td style=\"border: 2px solid #000\">CM</td><td style=\"border: 2px solid #000\">Early syphilis, latent</td></tr><tr style=\"background-color: #fffaff\"><td style=\"border: 2px solid #000\">338</td><td style=\"border: 2px solid #000\">A51.9</td><td style=\"border: 2px solid #000\">CM</td><td style=\"border: 2px solid #000\">Early syphilis, unspecified</td></tr><tr style=\"background-color: white\"><td style=\"border: 2px solid #000\">339</td><td style=\"border: 2px solid #000\">A52.00</td><td style=\"border: 2px solid #000\">CM</td><td style=\"border: 2px solid #000\">Cardiovascular syphilis, unspecified</td></tr><tr style=\"background-color: #fffaff\"><td style=\"border: 2px solid #000\">340</td><td style=\"border: 2px solid #000\">A52.01</td><td style=\"border: 2px solid #000\">CM</td><td style=\"border: 2px solid #000\">Syphilitic aneurysm of aorta</td></tr><tr style=\"background-color: white\"><td style=\"border: 2px solid #000\">341</td><td style=\"border: 2px solid #000\">A52.02</td><td style=\"border: 2px solid #000\">CM</td><td style=\"border: 2px solid #000\">Syphilitic aortitis</td></tr><tr style=\"background-color: #fffaff\"><td style=\"border: 2px solid #000\">342</td><td style=\"border: 2px solid #000\">A52.03</td><td style=\"border: 2px solid #000\">CM</td><td style=\"border: 2px solid #000\">Syphilitic endocarditis</td></tr><tr style=\"background-color: white\"><td style=\"border: 2px solid #000\">343</td><td style=\"border: 2px solid #000\">A52.04</td><td style=\"border: 2px solid #000\">CM</td><td style=\"border: 2px solid #000\">Syphilitic cerebral arteritis</td></tr><tr style=\"background-color: #fffaff\"><td style=\"border: 2px solid #000\">344</td><td style=\"border: 2px solid #000\">A52.05</td><td style=\"border: 2px solid #000\">CM</td><td style=\"border: 2px solid #000\">Other cerebrovascular syphilis</td></tr><tr style=\"background-color: white\"><td style=\"border: 2px solid #000\">345</td><td style=\"border: 2px solid #000\">A52.06</td><td style=\"border: 2px solid #000\">CM</td><td style=\"border: 2px solid #000\">Other syphilitic heart involvement</td></tr><tr style=\"background-color: #fffaff\"><td style=\"border: 2px solid #000\">346</td><td style=\"border: 2px solid #000\">A52.09</td><td style=\"border: 2px solid #000\">CM</td><td style=\"border: 2px solid #000\">Other cardiovascular syphilis</td></tr><tr style=\"background-color: white\"><td style=\"border: 2px solid #000\">347</td><td style=\"border: 2px solid #000\">A52.10</td><td style=\"border: 2px solid #000\">CM</td><td style=\"border: 2px solid #000\">Symptomatic neurosyphilis, unspecified</td></tr><tr style=\"background-color: #fffaff\"><td style=\"border: 2px solid #000\">348</td><td style=\"border: 2px solid #000\">A52.11</td><td style=\"border: 2px solid #000\">CM</td><td style=\"border: 2px solid #000\">Tabes dorsalis</td></tr><tr style=\"background-color: white\"><td style=\"border: 2px solid #000\">349</td><td style=\"border: 2px solid #000\">A52.12</td><td style=\"border: 2px solid #000\">CM</td><td style=\"border: 2px solid #000\">Other cerebrospinal syphilis</td></tr><tr style=\"background-color: #fffaff\"><td style=\"border: 2px solid #000\">350</td><td style=\"border: 2px solid #000\">A52.13</td><td style=\"border: 2px solid #000\">CM</td><td style=\"border: 2px solid #000\">Late syphilitic meningitis</td></tr><tr style=\"background-color: white\"><td style=\"border: 2px solid #000\">351</td><td style=\"border: 2px solid #000\">A52.14</td><td style=\"border: 2px solid #000\">CM</td><td style=\"border: 2px solid #000\">Late syphilitic encephalitis</td></tr><tr style=\"background-color: #fffaff\"><td style=\"border: 2px solid #000\">352</td><td style=\"border: 2px solid #000\">A52.15</td><td style=\"border: 2px solid #000\">CM</td><td style=\"border: 2px solid #000\">Late syphilitic neuropathy</td></tr><tr style=\"background-color: white\"><td style=\"border: 2px solid #000\">353</td><td style=\"border: 2px solid #000\">A52.16</td><td style=\"border: 2px solid #000\">CM</td><td style=\"border: 2px solid #000\">Charcot's arthropathy (tabetic)</td></tr><tr style=\"background-color: #fffaff\"><td style=\"border: 2px solid #000\">354</td><td style=\"border: 2px solid #000\">A52.17</td><td style=\"border: 2px solid #000\">CM</td><td style=\"border: 2px solid #000\">General paresis</td></tr><tr style=\"background-color: white\"><td style=\"border: 2px solid #000\">355</td><td style=\"border: 2px solid #000\">A52.19</td><td style=\"border: 2px solid #000\">CM</td><td style=\"border: 2px solid #000\">Other symptomatic neurosyphilis</td></tr><tr style=\"background-color: #fffaff\"><td style=\"border: 2px solid #000\">356</td><td style=\"border: 2px solid #000\">A52.2</td><td style=\"border: 2px solid #000\">CM</td><td style=\"border: 2px solid #000\">Asymptomatic neurosyphilis</td></tr><tr style=\"background-color: white\"><td style=\"border: 2px solid #000\">357</td><td style=\"border: 2px solid #000\">A52.3</td><td style=\"border: 2px solid #000\">CM</td><td style=\"border: 2px solid #000\">Neurosyphilis, unspecified</td></tr><tr style=\"background-color: #fffaff\"><td style=\"border: 2px solid #000\">358</td><td style=\"border: 2px solid #000\">A52.71</td><td style=\"border: 2px solid #000\">CM</td><td style=\"border: 2px solid #000\">Late syphilitic oculopathy</td></tr><tr style=\"background-color: white\"><td style=\"border: 2px solid #000\">359</td><td style=\"border: 2px solid #000\">A52.72</td><td style=\"border: 2px solid #000\">CM</td><td style=\"border: 2px solid #000\">Syphilis of lung and bronchus</td></tr><tr style=\"background-color: #fffaff\"><td style=\"border: 2px solid #000\">360</td><td style=\"border: 2px solid #000\">A52.73</td><td style=\"border: 2px solid #000\">CM</td><td style=\"border: 2px solid #000\">Symptomatic late syphilis of other respiratory organs</td></tr><tr style=\"background-color: white\"><td style=\"border: 2px solid #000\">361</td><td style=\"border: 2px solid #000\">A52.74</td><td style=\"border: 2px solid #000\">CM</td><td style=\"border: 2px solid #000\">Syphilis of liver and other viscera</td></tr><tr style=\"background-color: #fffaff\"><td style=\"border: 2px solid #000\">362</td><td style=\"border: 2px solid #000\">A52.75</td><td style=\"border: 2px solid #000\">CM</td><td style=\"border: 2px solid #000\">Syphilis of kidney and ureter</td></tr><tr style=\"background-color: white\"><td style=\"border: 2px solid #000\">363</td><td style=\"border: 2px solid #000\">A52.76</td><td style=\"border: 2px solid #000\">CM</td><td style=\"border: 2px solid #000\">Other genitourinary symptomatic late syphilis</td></tr><tr style=\"background-color: #fffaff\"><td style=\"border: 2px solid #000\">364</td><td style=\"border: 2px solid #000\">A52.77</td><td style=\"border: 2px solid #000\">CM</td><td style=\"border: 2px solid #000\">Syphilis of bone and joint</td></tr><tr style=\"background-color: white\"><td style=\"border: 2px solid #000\">365</td><td style=\"border: 2px solid #000\">A52.78</td><td style=\"border: 2px solid #000\">CM</td><td style=\"border: 2px solid #000\">Syphilis of other musculoskeletal tissue</td></tr><tr style=\"background-color: #fffaff\"><td style=\"border: 2px solid #000\">366</td><td style=\"border: 2px solid #000\">A52.79</td><td style=\"border: 2px solid #000\">CM</td><td style=\"border: 2px solid #000\">Other symptomatic late syphilis</td></tr><tr style=\"background-color: white\"><td style=\"border: 2px solid #000\">367</td><td style=\"border: 2px solid #000\">A52.8</td><td style=\"border: 2px solid #000\">CM</td><td style=\"border: 2px solid #000\">Late syphilis, latent</td></tr><tr style=\"background-color: #fffaff\"><td style=\"border: 2px solid #000\">368</td><td style=\"border: 2px solid #000\">A52.9</td><td style=\"border: 2px solid #000\">CM</td><td style=\"border: 2px solid #000\">Late syphilis, unspecified</td></tr><tr style=\"background-color: white\"><td style=\"border: 2px solid #000\">369</td><td style=\"border: 2px solid #000\">A53.0</td><td style=\"border: 2px solid #000\">CM</td><td style=\"border: 2px solid #000\">Latent syphilis, unspecified as early or late</td></tr><tr style=\"background-color: #fffaff\"><td style=\"border: 2px solid #000\">370</td><td style=\"border: 2px solid #000\">A53.9</td><td style=\"border: 2px solid #000\">CM</td><td style=\"border: 2px solid #000\">Syphilis, unspecified</td></tr><tr style=\"background-color: white\"><td style=\"border: 2px solid #000\">371</td><td style=\"border: 2px solid #000\">A54.00</td><td style=\"border: 2px solid #000\">CM</td><td style=\"border: 2px solid #000\">Gonococcal infection of lower genitourinary tract, unspecified</td></tr><tr style=\"background-color: #fffaff\"><td style=\"border: 2px solid #000\">372</td><td style=\"border: 2px solid #000\">A54.01</td><td style=\"border: 2px solid #000\">CM</td><td style=\"border: 2px solid #000\">Gonococcal cystitis and urethritis, unspecified</td></tr><tr style=\"background-color: white\"><td style=\"border: 2px solid #000\">373</td><td style=\"border: 2px solid #000\">A54.02</td><td style=\"border: 2px solid #000\">CM</td><td style=\"border: 2px solid #000\">Gonococcal vulvovaginitis, unspecified</td></tr><tr style=\"background-color: #fffaff\"><td style=\"border: 2px solid #000\">374</td><td style=\"border: 2px solid #000\">A54.03</td><td style=\"border: 2px solid #000\">CM</td><td style=\"border: 2px solid #000\">Gonococcal cervicitis, unspecified</td></tr><tr style=\"background-color: white\"><td style=\"border: 2px solid #000\">375</td><td style=\"border: 2px solid #000\">A54.09</td><td style=\"border: 2px solid #000\">CM</td><td style=\"border: 2px solid #000\">Other gonococcal infection of lower genitourinary tract</td></tr><tr style=\"background-color: #fffaff\"><td style=\"border: 2px solid #000\">376</td><td style=\"border: 2px solid #000\">A54.1</td><td style=\"border: 2px solid #000\">CM</td><td style=\"border: 2px solid #000\">Gonococcal infection of lower genitourinary tract with periurethral and accessory gland abscess</td></tr><tr style=\"background-color: white\"><td style=\"border: 2px solid #000\">377</td><td style=\"border: 2px solid #000\">A54.21</td><td style=\"border: 2px solid #000\">CM</td><td style=\"border: 2px solid #000\">Gonococcal infection of kidney and ureter</td></tr><tr style=\"background-color: #fffaff\"><td style=\"border: 2px solid #000\">378</td><td style=\"border: 2px solid #000\">A54.22</td><td style=\"border: 2px solid #000\">CM</td><td style=\"border: 2px solid #000\">Gonococcal prostatitis</td></tr><tr style=\"background-color: white\"><td style=\"border: 2px solid #000\">379</td><td style=\"border: 2px solid #000\">A54.23</td><td style=\"border: 2px solid #000\">CM</td><td style=\"border: 2px solid #000\">Gonococcal infection of other male genital organs</td></tr><tr style=\"background-color: #fffaff\"><td style=\"border: 2px solid #000\">380</td><td style=\"border: 2px solid #000\">A54.24</td><td style=\"border: 2px solid #000\">CM</td><td style=\"border: 2px solid #000\">Gonococcal female pelvic inflammatory disease</td></tr><tr style=\"background-color: white\"><td style=\"border: 2px solid #000\">381</td><td style=\"border: 2px solid #000\">A54.29</td><td style=\"border: 2px solid #000\">CM</td><td style=\"border: 2px solid #000\">Other gonococcal genitourinary infections</td></tr><tr style=\"background-color: #fffaff\"><td style=\"border: 2px solid #000\">382</td><td style=\"border: 2px solid #000\">A54.30</td><td style=\"border: 2px solid #000\">CM</td><td style=\"border: 2px solid #000\">Gonococcal infection of eye, unspecified</td></tr><tr style=\"background-color: white\"><td style=\"border: 2px solid #000\">383</td><td style=\"border: 2px solid #000\">A54.31</td><td style=\"border: 2px solid #000\">CM</td><td style=\"border: 2px solid #000\">Gonococcal conjunctivitis</td></tr><tr style=\"background-color: #fffaff\"><td style=\"border: 2px solid #000\">384</td><td style=\"border: 2px solid #000\">A54.32</td><td style=\"border: 2px solid #000\">CM</td><td style=\"border: 2px solid #000\">Gonococcal iridocyclitis</td></tr><tr style=\"background-color: white\"><td style=\"border: 2px solid #000\">385</td><td style=\"border: 2px solid #000\">A54.33</td><td style=\"border: 2px solid #000\">CM</td><td style=\"border: 2px solid #000\">Gonococcal keratitis</td></tr><tr style=\"background-color: #fffaff\"><td style=\"border: 2px solid #000\">386</td><td style=\"border: 2px solid #000\">A54.39</td><td style=\"border: 2px solid #000\">CM</td><td style=\"border: 2px solid #000\">Other gonococcal eye infection</td></tr><tr style=\"background-color: white\"><td style=\"border: 2px solid #000\">387</td><td style=\"border: 2px solid #000\">A54.40</td><td style=\"border: 2px solid #000\">CM</td><td style=\"border: 2px solid #000\">Gonococcal infection of musculoskeletal system, unspecified</td></tr><tr style=\"background-color: #fffaff\"><td style=\"border: 2px solid #000\">388</td><td style=\"border: 2px solid #000\">A54.41</td><td style=\"border: 2px solid #000\">CM</td><td style=\"border: 2px solid #000\">Gonococcal spondylopathy</td></tr><tr style=\"background-color: white\"><td style=\"border: 2px solid #000\">389</td><td style=\"border: 2px solid #000\">A54.42</td><td style=\"border: 2px solid #000\">CM</td><td style=\"border: 2px solid #000\">Gonococcal arthritis</td></tr><tr style=\"background-color: #fffaff\"><td style=\"border: 2px solid #000\">390</td><td style=\"border: 2px solid #000\">A54.43</td><td style=\"border: 2px solid #000\">CM</td><td style=\"border: 2px solid #000\">Gonococcal osteomyelitis</td></tr><tr style=\"background-color: white\"><td style=\"border: 2px solid #000\">391</td><td style=\"border: 2px solid #000\">A54.49</td><td style=\"border: 2px solid #000\">CM</td><td style=\"border: 2px solid #000\">Gonococcal infection of other musculoskeletal tissue</td></tr><tr style=\"background-color: #fffaff\"><td style=\"border: 2px solid #000\">392</td><td style=\"border: 2px solid #000\">A54.5</td><td style=\"border: 2px solid #000\">CM</td><td style=\"border: 2px solid #000\">Gonococcal pharyngitis</td></tr><tr style=\"background-color: white\"><td style=\"border: 2px solid #000\">393</td><td style=\"border: 2px solid #000\">A54.6</td><td style=\"border: 2px solid #000\">CM</td><td style=\"border: 2px solid #000\">Gonococcal infection of anus and rectum</td></tr><tr style=\"background-color: #fffaff\"><td style=\"border: 2px solid #000\">394</td><td style=\"border: 2px solid #000\">A54.81</td><td style=\"border: 2px solid #000\">CM</td><td style=\"border: 2px solid #000\">Gonococcal meningitis</td></tr><tr style=\"background-color: white\"><td style=\"border: 2px solid #000\">395</td><td style=\"border: 2px solid #000\">A54.82</td><td style=\"border: 2px solid #000\">CM</td><td style=\"border: 2px solid #000\">Gonococcal brain abscess</td></tr><tr style=\"background-color: #fffaff\"><td style=\"border: 2px solid #000\">396</td><td style=\"border: 2px solid #000\">A54.83</td><td style=\"border: 2px solid #000\">CM</td><td style=\"border: 2px solid #000\">Gonococcal heart infection</td></tr><tr style=\"background-color: white\"><td style=\"border: 2px solid #000\">397</td><td style=\"border: 2px solid #000\">A54.84</td><td style=\"border: 2px solid #000\">CM</td><td style=\"border: 2px solid #000\">Gonococcal pneumonia</td></tr><tr style=\"background-color: #fffaff\"><td style=\"border: 2px solid #000\">398</td><td style=\"border: 2px solid #000\">A54.85</td><td style=\"border: 2px solid #000\">CM</td><td style=\"border: 2px solid #000\">Gonococcal peritonitis</td></tr><tr style=\"background-color: white\"><td style=\"border: 2px solid #000\">399</td><td style=\"border: 2px solid #000\">A54.86</td><td style=\"border: 2px solid #000\">CM</td><td style=\"border: 2px solid #000\">Gonococcal sepsis</td></tr></tbody></table>"
      ],
      "text/plain": [
       "Frame {\n",
       "  keyFunc: [Function: _getKey],\n",
       "  data: [\n",
       "    [\n",
       "      'A00.0',\n",
       "      'CM',\n",
       "      'Cholera due to Vibrio cholerae 01, biovar cholerae'\n",
       "    ],\n",
       "    [\n",
       "      'A00.1',\n",
       "      'CM',\n",
       "      'Cholera due to Vibrio cholerae 01, biovar eltor'\n",
       "    ],\n",
       "    [ 'A00.9', 'CM', 'Cholera, unspecified' ],\n",
       "    [ 'A01.00', 'CM', 'Typhoid fever, unspecified' ],\n",
       "    [ 'A01.01', 'CM', 'Typhoid meningitis' ],\n",
       "    [ 'A01.02', 'CM', 'Typhoid fever with heart involvement' ],\n",
       "    [ 'A01.03', 'CM', 'Typhoid pneumonia' ],\n",
       "    [ 'A01.04', 'CM', 'Typhoid arthritis' ],\n",
       "    [ 'A01.05', 'CM', 'Typhoid osteomyelitis' ],\n",
       "    [ 'A01.09', 'CM', 'Typhoid fever with other complications' ],\n",
       "    [ 'A01.1', 'CM', 'Paratyphoid fever A' ],\n",
       "    [ 'A01.2', 'CM', 'Paratyphoid fever B' ],\n",
       "    [ 'A01.3', 'CM', 'Paratyphoid fever C' ],\n",
       "    [ 'A01.4', 'CM', 'Paratyphoid fever, unspecified' ],\n",
       "    [ 'A02.0', 'CM', 'Salmonella enteritis' ],\n",
       "    [ 'A02.1', 'CM', 'Salmonella sepsis' ],\n",
       "    [ 'A02.20', 'CM', 'Localized salmonella infection, unspecified' ],\n",
       "    [ 'A02.21', 'CM', 'Salmonella meningitis' ],\n",
       "    [ 'A02.22', 'CM', 'Salmonella pneumonia' ],\n",
       "    [ 'A02.23', 'CM', 'Salmonella arthritis' ],\n",
       "    [ 'A02.24', 'CM', 'Salmonella osteomyelitis' ],\n",
       "    [ 'A02.25', 'CM', 'Salmonella pyelonephritis' ],\n",
       "    [ 'A02.29', 'CM', 'Salmonella with other localized infection' ],\n",
       "    [ 'A02.8', 'CM', 'Other specified salmonella infections' ],\n",
       "    [ 'A02.9', 'CM', 'Salmonella infection, unspecified' ],\n",
       "    [ 'A03.0', 'CM', 'Shigellosis due to Shigella dysenteriae' ],\n",
       "    [ 'A03.1', 'CM', 'Shigellosis due to Shigella flexneri' ],\n",
       "    [ 'A03.2', 'CM', 'Shigellosis due to Shigella boydii' ],\n",
       "    [ 'A03.3', 'CM', 'Shigellosis due to Shigella sonnei' ],\n",
       "    [ 'A03.8', 'CM', 'Other shigellosis' ],\n",
       "    [ 'A03.9', 'CM', 'Shigellosis, unspecified' ],\n",
       "    [ 'A04.0', 'CM', 'Enteropathogenic Escherichia coli infection' ],\n",
       "    [ 'A04.1', 'CM', 'Enterotoxigenic Escherichia coli infection' ],\n",
       "    [ 'A04.2', 'CM', 'Enteroinvasive Escherichia coli infection' ],\n",
       "    [ 'A04.3', 'CM', 'Enterohemorrhagic Escherichia coli infection' ],\n",
       "    [ 'A04.4', 'CM', 'Other intestinal Escherichia coli infections' ],\n",
       "    [ 'A04.5', 'CM', 'Campylobacter enteritis' ],\n",
       "    [ 'A04.6', 'CM', 'Enteritis due to Yersinia enterocolitica' ],\n",
       "    [\n",
       "      'A04.71',\n",
       "      'CM',\n",
       "      'Enterocolitis due to Clostridium difficile, recurrent'\n",
       "    ],\n",
       "    [\n",
       "      'A04.72',\n",
       "      'CM',\n",
       "      'Enterocolitis due to Clostridium difficile, not specified as recurrent'\n",
       "    ],\n",
       "    [\n",
       "      'A04.8',\n",
       "      'CM',\n",
       "      'Other specified bacterial intestinal infections'\n",
       "    ],\n",
       "    [ 'A04.9', 'CM', 'Bacterial intestinal infection, unspecified' ],\n",
       "    [ 'A05.0', 'CM', 'Foodborne staphylococcal intoxication' ],\n",
       "    [ 'A05.1', 'CM', 'Botulism food poisoning' ],\n",
       "    [\n",
       "      'A05.2',\n",
       "      'CM',\n",
       "      'Foodborne Clostridium perfringens [Clostridium welchii] intoxication'\n",
       "    ],\n",
       "    [ 'A05.3', 'CM', 'Foodborne Vibrio parahaemolyticus intoxication' ],\n",
       "    [ 'A05.4', 'CM', 'Foodborne Bacillus cereus intoxication' ],\n",
       "    [ 'A05.5', 'CM', 'Foodborne Vibrio vulnificus intoxication' ],\n",
       "    [\n",
       "      'A05.8',\n",
       "      'CM',\n",
       "      'Other specified bacterial foodborne intoxications'\n",
       "    ],\n",
       "    [ 'A05.9', 'CM', 'Bacterial foodborne intoxication, unspecified' ],\n",
       "    [ 'A06.0', 'CM', 'Acute amebic dysentery' ],\n",
       "    [ 'A06.1', 'CM', 'Chronic intestinal amebiasis' ],\n",
       "    [ 'A06.2', 'CM', 'Amebic nondysenteric colitis' ],\n",
       "    [ 'A06.3', 'CM', 'Ameboma of intestine' ],\n",
       "    [ 'A06.4', 'CM', 'Amebic liver abscess' ],\n",
       "    [ 'A06.5', 'CM', 'Amebic lung abscess' ],\n",
       "    [ 'A06.6', 'CM', 'Amebic brain abscess' ],\n",
       "    [ 'A06.7', 'CM', 'Cutaneous amebiasis' ],\n",
       "    [ 'A06.81', 'CM', 'Amebic cystitis' ],\n",
       "    [ 'A06.82', 'CM', 'Other amebic genitourinary infections' ],\n",
       "    [ 'A06.89', 'CM', 'Other amebic infections' ],\n",
       "    [ 'A06.9', 'CM', 'Amebiasis, unspecified' ],\n",
       "    [ 'A07.0', 'CM', 'Balantidiasis' ],\n",
       "    [ 'A07.1', 'CM', 'Giardiasis [lambliasis]' ],\n",
       "    [ 'A07.2', 'CM', 'Cryptosporidiosis' ],\n",
       "    [ 'A07.3', 'CM', 'Isosporiasis' ],\n",
       "    [ 'A07.4', 'CM', 'Cyclosporiasis' ],\n",
       "    [ 'A07.8', 'CM', 'Other specified protozoal intestinal diseases' ],\n",
       "    [ 'A07.9', 'CM', 'Protozoal intestinal disease, unspecified' ],\n",
       "    [ 'A08.0', 'CM', 'Rotaviral enteritis' ],\n",
       "    [ 'A08.11', 'CM', 'Acute gastroenteropathy due to Norwalk agent' ],\n",
       "    [\n",
       "      'A08.19',\n",
       "      'CM',\n",
       "      'Acute gastroenteropathy due to other small round viruses'\n",
       "    ],\n",
       "    [ 'A08.2', 'CM', 'Adenoviral enteritis' ],\n",
       "    [ 'A08.31', 'CM', 'Calicivirus enteritis' ],\n",
       "    [ 'A08.32', 'CM', 'Astrovirus enteritis' ],\n",
       "    [ 'A08.39', 'CM', 'Other viral enteritis' ],\n",
       "    [ 'A08.4', 'CM', 'Viral intestinal infection, unspecified' ],\n",
       "    [ 'A08.8', 'CM', 'Other specified intestinal infections' ],\n",
       "    [\n",
       "      'A09',\n",
       "      'CM',\n",
       "      'Infectious gastroenteritis and colitis, unspecified'\n",
       "    ],\n",
       "    [ 'A15.0', 'CM', 'Tuberculosis of lung' ],\n",
       "    [ 'A15.4', 'CM', 'Tuberculosis of intrathoracic lymph nodes' ],\n",
       "    [ 'A15.5', 'CM', 'Tuberculosis of larynx, trachea and bronchus' ],\n",
       "    [ 'A15.6', 'CM', 'Tuberculous pleurisy' ],\n",
       "    [ 'A15.7', 'CM', 'Primary respiratory tuberculosis' ],\n",
       "    [ 'A15.8', 'CM', 'Other respiratory tuberculosis' ],\n",
       "    [ 'A15.9', 'CM', 'Respiratory tuberculosis unspecified' ],\n",
       "    [ 'A17.0', 'CM', 'Tuberculous meningitis' ],\n",
       "    [ 'A17.1', 'CM', 'Meningeal tuberculoma' ],\n",
       "    [ 'A17.81', 'CM', 'Tuberculoma of brain and spinal cord' ],\n",
       "    [ 'A17.82', 'CM', 'Tuberculous meningoencephalitis' ],\n",
       "    [ 'A17.83', 'CM', 'Tuberculous neuritis' ],\n",
       "    [ 'A17.89', 'CM', 'Other tuberculosis of nervous system' ],\n",
       "    [ 'A17.9', 'CM', 'Tuberculosis of nervous system, unspecified' ],\n",
       "    [ 'A18.01', 'CM', 'Tuberculosis of spine' ],\n",
       "    [ 'A18.02', 'CM', 'Tuberculous arthritis of other joints' ],\n",
       "    [ 'A18.03', 'CM', 'Tuberculosis of other bones' ],\n",
       "    [ 'A18.09', 'CM', 'Other musculoskeletal tuberculosis' ],\n",
       "    [\n",
       "      'A18.10',\n",
       "      'CM',\n",
       "      'Tuberculosis of genitourinary system, unspecified'\n",
       "    ],\n",
       "    [ 'A18.11', 'CM', 'Tuberculosis of kidney and ureter' ],\n",
       "    [ 'A18.12', 'CM', 'Tuberculosis of bladder' ],\n",
       "    ... 470 more items\n",
       "  ],\n",
       "  _columns: [ 'ICD10', 'TYPE', 'DESCRIPTION' ],\n",
       "  _name: '-',\n",
       "  _unique: undefined,\n",
       "  _sortCols: [],\n",
       "  _row: undefined,\n",
       "  AccessClass: [Function],\n",
       "  showLen: 400,\n",
       "  rowColor: [Function: colorDefault],\n",
       "  _hash: -1\n",
       "}"
      ]
     },
     "execution_count": 67,
     "metadata": {},
     "output_type": "execute_result"
    }
   ],
   "source": [
    "console.log('len', ICD10.length)\n",
    "timeOf(doN(CNT,() => ICD10.innerJoin(myData, [...ICD10.columns.map(x => '1.'+x)], 'ICD10')))//.slice(10,20)"
   ]
  },
  {
   "cell_type": "code",
   "execution_count": 8,
   "metadata": {
    "scrolled": true
   },
   "outputs": [
    {
     "ename": "TypeError",
     "evalue": "myData.show is not a function",
     "output_type": "error",
     "traceback": [
      "TypeError: myData.show is not a function",
      "    at evalmachine.<anonymous>:1:8",
      "    at ContextifyScript.Script.runInThisContext (vm.js:26:33)",
      "    at Object.exports.runInThisContext (vm.js:79:17)",
      "    at run ([eval]:1002:15)",
      "    at onRunRequest ([eval]:829:18)",
      "    at onMessage ([eval]:789:13)",
      "    at emitTwo (events.js:106:13)",
      "    at process.emit (events.js:191:7)",
      "    at process.nextTick (internal/child_process.js:752:12)",
      "    at _combinedTickCallback (internal/process/next_tick.js:67:7)"
     ]
    }
   ],
   "source": [
    "myData.show()"
   ]
  },
  {
   "cell_type": "code",
   "execution_count": null,
   "metadata": {
    "collapsed": true,
    "scrolled": true
   },
   "outputs": [],
   "source": [
    "data.describe('chol').show();"
   ]
  },
  {
   "cell_type": "code",
   "execution_count": null,
   "metadata": {
    "collapsed": true,
    "scrolled": true
   },
   "outputs": [],
   "source": [
    "data.plotly([{type:'histogram',x:'chol'}]).show();\n",
    "data.histogram('chol').show();"
   ]
  },
  {
   "cell_type": "code",
   "execution_count": null,
   "metadata": {
    "collapsed": true
   },
   "outputs": [],
   "source": [
    "data.kurtosis('chol')"
   ]
  },
  {
   "cell_type": "code",
   "execution_count": null,
   "metadata": {
    "collapsed": true,
    "scrolled": true
   },
   "outputs": [],
   "source": [
    "data.corrmap().show()"
   ]
  },
  {
   "cell_type": "code",
   "execution_count": 23,
   "metadata": {},
   "outputs": [
    {
     "data": {
      "text/plain": [
       "undefined"
      ]
     },
     "execution_count": 23,
     "metadata": {},
     "output_type": "execute_result"
    }
   ],
   "source": [
    "var {Frame} = require('../dist/bundle.js');"
   ]
  },
  {
   "cell_type": "code",
   "execution_count": null,
   "metadata": {
    "collapsed": true,
    "scrolled": false
   },
   "outputs": [],
   "source": [
    "var C = class {\n",
    "    constructor(a) {\n",
    "        this.value = a;\n",
    "    }\n",
    "    \n",
    "    \n",
    "};\n",
    "\n",
    "var c = new C(1);\n",
    "new c.constructor(2);\n",
    "function timeOf(fn) {\n",
    "  const name = 'func';\n",
    "  const t0 = new Date().getTime();\n",
    "\n",
    "  const res = fn();\n",
    "\n",
    "  const t1 = new Date().getTime();\n",
    "  console.log(`Call to ${name} took ${t1 - t0} milliseconds.`);\n",
    "  return res;\n",
    "}"
   ]
  },
  {
   "cell_type": "code",
   "execution_count": 24,
   "metadata": {},
   "outputs": [
    {
     "data": {
      "text/plain": [
       "undefined"
      ]
     },
     "execution_count": 24,
     "metadata": {},
     "output_type": "execute_result"
    }
   ],
   "source": [
    "var la = require('../lib/array')"
   ]
  },
  {
   "cell_type": "code",
   "execution_count": 31,
   "metadata": {
    "scrolled": true
   },
   "outputs": [
    {
     "name": "stdout",
     "output_type": "stream",
     "text": [
      "Call to func took 239 milliseconds.\n",
      "Call to func took 139 milliseconds.\n"
     ]
    },
    {
     "data": {
      "text/plain": [
       "[ 49999995000000, 49999995000000 ]"
      ]
     },
     "execution_count": 31,
     "metadata": {},
     "output_type": "execute_result"
    }
   ],
   "source": [
    "function test(n) {\n",
    "    var a = la.newArray(n);\n",
    "    for(let i=0; i<n; i++) a[i] = i;\n",
    "    return a;\n",
    "}\n",
    "\n",
    "function test0(n) {\n",
    "    var a = new Int32Array(n);\n",
    "    for(let i=0; i<n; i++) a[i] = i;\n",
    "    return a;\n",
    "}\n",
    "\n",
    "function test2(n) {\n",
    "    var a = [];\n",
    "    for(let i=0; i<n; i++) a.push(i);\n",
    "    return a;\n",
    "}\n",
    "\n",
    "function timeOf(fn) {\n",
    "  const name = 'func';\n",
    "  const t0 = new Date().getTime();\n",
    "\n",
    "  const res = fn();\n",
    "\n",
    "  const t1 = new Date().getTime();\n",
    "  console.log(`Call to ${name} took ${t1 - t0} milliseconds.`);\n",
    "  return res;\n",
    "}\n",
    "\n",
    "[timeOf(() => la.arrSum(test(10000000))),\n",
    "timeOf(() => la.arrSum(test0(10000000)))];\n",
    "var a = test0(10000000);\n",
    "var b = test2(10000000);\n"
   ]
  },
  {
   "cell_type": "code",
   "execution_count": 32,
   "metadata": {},
   "outputs": [
    {
     "name": "stdout",
     "output_type": "stream",
     "text": [
      "Call to func took 6264 milliseconds.\n",
      "Call to func took 8117 milliseconds.\n"
     ]
    },
    {
     "data": {
      "text/plain": [
       "[ undefined, undefined ]"
      ]
     },
     "execution_count": 32,
     "metadata": {},
     "output_type": "execute_result"
    }
   ],
   "source": [
    "[timeOf(() => {for(i=0; i<100; i++)la.arrSum(b)}),\n",
    "timeOf(() => {for(i=0; i<100; i++)la.arrSum(a)})]"
   ]
  },
  {
   "cell_type": "code",
   "execution_count": null,
   "metadata": {
    "collapsed": true
   },
   "outputs": [],
   "source": [
    "//var {Frame} = require('../lib/frame')"
   ]
  },
  {
   "cell_type": "code",
   "execution_count": 34,
   "metadata": {},
   "outputs": [
    {
     "data": {
      "text/plain": [
       "true"
      ]
     },
     "execution_count": 34,
     "metadata": {},
     "output_type": "execute_result"
    }
   ],
   "source": [
    "var f = new Frame( [[1,2],[3,4]],['a','b'],'test');\n",
    "ArrayBuffer.isView(new Int32Array(10))"
   ]
  },
  {
   "cell_type": "code",
   "execution_count": 35,
   "metadata": {
    "scrolled": true
   },
   "outputs": [
    {
     "data": {
      "text/html": [
       "<style> \n",
       "\t\t\t\t.ftable  { font-family: arial, sans-serif; color: blue !important; } \n",
       "\t\t\t\ttd, th, tr { border: 1px solid #000000; text-align: left; } \n",
       "\t\t\t\tth {color: red !important}\n",
       "\t\t\t\ttr:nth-child(even) { background-color: #dddddd; } }\n",
       "\t\t\t</style>\n",
       "<p>Length: 2</p><table class=\"ftable\" style=\"border-collapse: collapse; border-spacing: 0;  border: 2px solid #000; font-size: 1rem\"><thead style=\"background-color: lightgrey\"><tr style=\"border: 2px solid #000\"><th style=\"border: 2px solid #000; color: blue\">Ix</th><th style=\"border: 2px solid #000; color: blue\">a</th><th style=\"border: 2px solid #000; color: blue\">b</th></tr></thead><tbody><tr style=\"background-color: #fffaff\"><td style=\"border: 2px solid #000\">0</td><td style=\"border: 2px solid #000\">3</td><td style=\"border: 2px solid #000\">4</td></tr><tr style=\"background-color: white\"><td style=\"border: 2px solid #000\">1</td><td style=\"border: 2px solid #000\">1</td><td style=\"border: 2px solid #000\">2</td></tr></tbody></table>"
      ],
      "text/plain": [
       "e {\n",
       "  keyFunc: [Function: value],\n",
       "  data: [ [ 3, 4 ], [ 1, 2 ] ],\n",
       "  _columns: [ 'a', 'b' ],\n",
       "  _name: 'test',\n",
       "  _unique: undefined,\n",
       "  _sortCols: [],\n",
       "  _row: undefined,\n",
       "  AccessClass: [Function],\n",
       "  showLen: 400,\n",
       "  rowColor: [Function: colorDefault],\n",
       "  _hash: -1,\n",
       "  sorted: [ '-b' ]\n",
       "}"
      ]
     },
     "execution_count": 35,
     "metadata": {},
     "output_type": "execute_result"
    }
   ],
   "source": [
    "f.sort(['-b'])"
   ]
  },
  {
   "cell_type": "code",
   "execution_count": 40,
   "metadata": {
    "scrolled": true
   },
   "outputs": [
    {
     "name": "stdout",
     "output_type": "stream",
     "text": [
      "bytes read 13187299\n",
      "Lines:  150410\n",
      "bytes read 2469743\n",
      "Lines:  17110\n"
     ]
    },
    {
     "data": {
      "text/html": [
       "<style> \n",
       "\t\t\t\t.ftable  { font-family: arial, sans-serif; color: blue !important; } \n",
       "\t\t\t\ttd, th, tr { border: 1px solid #000000; text-align: left; } \n",
       "\t\t\t\tth {color: red !important}\n",
       "\t\t\t\ttr:nth-child(even) { background-color: #dddddd; } }\n",
       "\t\t\t</style>\n",
       "<p>Length: 174</p><table class=\"ftable\" style=\"border-collapse: collapse; border-spacing: 0;  border: 2px solid #000; font-size: 1rem\"><thead style=\"background-color: lightgrey\"><tr style=\"border: 2px solid #000\"><th style=\"border: 2px solid #000; color: blue\">Ix</th><th style=\"border: 2px solid #000; color: blue\">TYPE</th><th style=\"border: 2px solid #000; color: blue\">COUNT</th></tr></thead><tbody><tr style=\"background-color: #fffaff\"><td style=\"border: 2px solid #000\">0</td><td style=\"border: 2px solid #000\">G9</td><td style=\"border: 2px solid #000\">577</td></tr><tr style=\"background-color: white\"><td style=\"border: 2px solid #000\">1</td><td style=\"border: 2px solid #000\">G8</td><td style=\"border: 2px solid #000\">524</td></tr><tr style=\"background-color: #fffaff\"><td style=\"border: 2px solid #000\">2</td><td style=\"border: 2px solid #000\">27</td><td style=\"border: 2px solid #000\">377</td></tr><tr style=\"background-color: white\"><td style=\"border: 2px solid #000\">3</td><td style=\"border: 2px solid #000\">33</td><td style=\"border: 2px solid #000\">343</td></tr><tr style=\"background-color: #fffaff\"><td style=\"border: 2px solid #000\">4</td><td style=\"border: 2px solid #000\">E0</td><td style=\"border: 2px solid #000\">314</td></tr><tr style=\"background-color: white\"><td style=\"border: 2px solid #000\">5</td><td style=\"border: 2px solid #000\">A4</td><td style=\"border: 2px solid #000\">289</td></tr><tr style=\"background-color: #fffaff\"><td style=\"border: 2px solid #000\">6</td><td style=\"border: 2px solid #000\">86</td><td style=\"border: 2px solid #000\">241</td></tr><tr style=\"background-color: white\"><td style=\"border: 2px solid #000\">7</td><td style=\"border: 2px solid #000\">99</td><td style=\"border: 2px solid #000\">226</td></tr><tr style=\"background-color: #fffaff\"><td style=\"border: 2px solid #000\">8</td><td style=\"border: 2px solid #000\">87</td><td style=\"border: 2px solid #000\">222</td></tr><tr style=\"background-color: white\"><td style=\"border: 2px solid #000\">9</td><td style=\"border: 2px solid #000\">43</td><td style=\"border: 2px solid #000\">220</td></tr><tr style=\"background-color: #fffaff\"><td style=\"border: 2px solid #000\">10</td><td style=\"border: 2px solid #000\">G0</td><td style=\"border: 2px solid #000\">219</td></tr><tr style=\"background-color: white\"><td style=\"border: 2px solid #000\">11</td><td style=\"border: 2px solid #000\">90</td><td style=\"border: 2px solid #000\">211</td></tr><tr style=\"background-color: #fffaff\"><td style=\"border: 2px solid #000\">12</td><td style=\"border: 2px solid #000\">21</td><td style=\"border: 2px solid #000\">208</td></tr><tr style=\"background-color: white\"><td style=\"border: 2px solid #000\">13</td><td style=\"border: 2px solid #000\">82</td><td style=\"border: 2px solid #000\">196</td></tr><tr style=\"background-color: #fffaff\"><td style=\"border: 2px solid #000\">14</td><td style=\"border: 2px solid #000\">92</td><td style=\"border: 2px solid #000\">194</td></tr><tr style=\"background-color: white\"><td style=\"border: 2px solid #000\">15</td><td style=\"border: 2px solid #000\">81</td><td style=\"border: 2px solid #000\">190</td></tr><tr style=\"background-color: #fffaff\"><td style=\"border: 2px solid #000\">16</td><td style=\"border: 2px solid #000\">35</td><td style=\"border: 2px solid #000\">186</td></tr><tr style=\"background-color: white\"><td style=\"border: 2px solid #000\">17</td><td style=\"border: 2px solid #000\">L5</td><td style=\"border: 2px solid #000\">183</td></tr><tr style=\"background-color: #fffaff\"><td style=\"border: 2px solid #000\">18</td><td style=\"border: 2px solid #000\">26</td><td style=\"border: 2px solid #000\">182</td></tr><tr style=\"background-color: white\"><td style=\"border: 2px solid #000\">19</td><td style=\"border: 2px solid #000\">31</td><td style=\"border: 2px solid #000\">182</td></tr><tr style=\"background-color: #fffaff\"><td style=\"border: 2px solid #000\">20</td><td style=\"border: 2px solid #000\">00</td><td style=\"border: 2px solid #000\">180</td></tr><tr style=\"background-color: white\"><td style=\"border: 2px solid #000\">21</td><td style=\"border: 2px solid #000\">61</td><td style=\"border: 2px solid #000\">178</td></tr><tr style=\"background-color: #fffaff\"><td style=\"border: 2px solid #000\">22</td><td style=\"border: 2px solid #000\">28</td><td style=\"border: 2px solid #000\">176</td></tr><tr style=\"background-color: white\"><td style=\"border: 2px solid #000\">23</td><td style=\"border: 2px solid #000\">64</td><td style=\"border: 2px solid #000\">176</td></tr><tr style=\"background-color: #fffaff\"><td style=\"border: 2px solid #000\">24</td><td style=\"border: 2px solid #000\">93</td><td style=\"border: 2px solid #000\">173</td></tr><tr style=\"background-color: white\"><td style=\"border: 2px solid #000\">25</td><td style=\"border: 2px solid #000\">01</td><td style=\"border: 2px solid #000\">168</td></tr><tr style=\"background-color: #fffaff\"><td style=\"border: 2px solid #000\">26</td><td style=\"border: 2px solid #000\">25</td><td style=\"border: 2px solid #000\">158</td></tr><tr style=\"background-color: white\"><td style=\"border: 2px solid #000\">27</td><td style=\"border: 2px solid #000\">50</td><td style=\"border: 2px solid #000\">155</td></tr><tr style=\"background-color: #fffaff\"><td style=\"border: 2px solid #000\">28</td><td style=\"border: 2px solid #000\">L3</td><td style=\"border: 2px solid #000\">155</td></tr><tr style=\"background-color: white\"><td style=\"border: 2px solid #000\">29</td><td style=\"border: 2px solid #000\">80</td><td style=\"border: 2px solid #000\">150</td></tr><tr style=\"background-color: #fffaff\"><td style=\"border: 2px solid #000\">30</td><td style=\"border: 2px solid #000\">S9</td><td style=\"border: 2px solid #000\">149</td></tr><tr style=\"background-color: white\"><td style=\"border: 2px solid #000\">31</td><td style=\"border: 2px solid #000\">E1</td><td style=\"border: 2px solid #000\">148</td></tr><tr style=\"background-color: #fffaff\"><td style=\"border: 2px solid #000\">32</td><td style=\"border: 2px solid #000\">95</td><td style=\"border: 2px solid #000\">143</td></tr><tr style=\"background-color: white\"><td style=\"border: 2px solid #000\">33</td><td style=\"border: 2px solid #000\">J7</td><td style=\"border: 2px solid #000\">143</td></tr><tr style=\"background-color: #fffaff\"><td style=\"border: 2px solid #000\">34</td><td style=\"border: 2px solid #000\">11</td><td style=\"border: 2px solid #000\">141</td></tr><tr style=\"background-color: white\"><td style=\"border: 2px solid #000\">35</td><td style=\"border: 2px solid #000\">78</td><td style=\"border: 2px solid #000\">141</td></tr><tr style=\"background-color: #fffaff\"><td style=\"border: 2px solid #000\">36</td><td style=\"border: 2px solid #000\">88</td><td style=\"border: 2px solid #000\">141</td></tr><tr style=\"background-color: white\"><td style=\"border: 2px solid #000\">37</td><td style=\"border: 2px solid #000\">44</td><td style=\"border: 2px solid #000\">139</td></tr><tr style=\"background-color: #fffaff\"><td style=\"border: 2px solid #000\">38</td><td style=\"border: 2px solid #000\">E2</td><td style=\"border: 2px solid #000\">139</td></tr><tr style=\"background-color: white\"><td style=\"border: 2px solid #000\">39</td><td style=\"border: 2px solid #000\">K0</td><td style=\"border: 2px solid #000\">139</td></tr><tr style=\"background-color: #fffaff\"><td style=\"border: 2px solid #000\">40</td><td style=\"border: 2px solid #000\">C9</td><td style=\"border: 2px solid #000\">138</td></tr><tr style=\"background-color: white\"><td style=\"border: 2px solid #000\">41</td><td style=\"border: 2px solid #000\">J1</td><td style=\"border: 2px solid #000\">138</td></tr><tr style=\"background-color: #fffaff\"><td style=\"border: 2px solid #000\">42</td><td style=\"border: 2px solid #000\">83</td><td style=\"border: 2px solid #000\">136</td></tr><tr style=\"background-color: white\"><td style=\"border: 2px solid #000\">43</td><td style=\"border: 2px solid #000\">J0</td><td style=\"border: 2px solid #000\">135</td></tr><tr style=\"background-color: #fffaff\"><td style=\"border: 2px solid #000\">44</td><td style=\"border: 2px solid #000\">29</td><td style=\"border: 2px solid #000\">134</td></tr><tr style=\"background-color: white\"><td style=\"border: 2px solid #000\">45</td><td style=\"border: 2px solid #000\">32</td><td style=\"border: 2px solid #000\">133</td></tr><tr style=\"background-color: #fffaff\"><td style=\"border: 2px solid #000\">46</td><td style=\"border: 2px solid #000\">D7</td><td style=\"border: 2px solid #000\">133</td></tr><tr style=\"background-color: white\"><td style=\"border: 2px solid #000\">47</td><td style=\"border: 2px solid #000\">15</td><td style=\"border: 2px solid #000\">132</td></tr><tr style=\"background-color: #fffaff\"><td style=\"border: 2px solid #000\">48</td><td style=\"border: 2px solid #000\">S0</td><td style=\"border: 2px solid #000\">130</td></tr><tr style=\"background-color: white\"><td style=\"border: 2px solid #000\">49</td><td style=\"border: 2px solid #000\">36</td><td style=\"border: 2px solid #000\">128</td></tr><tr style=\"background-color: #fffaff\"><td style=\"border: 2px solid #000\">50</td><td style=\"border: 2px solid #000\">77</td><td style=\"border: 2px solid #000\">128</td></tr><tr style=\"background-color: white\"><td style=\"border: 2px solid #000\">51</td><td style=\"border: 2px solid #000\">84</td><td style=\"border: 2px solid #000\">128</td></tr><tr style=\"background-color: #fffaff\"><td style=\"border: 2px solid #000\">52</td><td style=\"border: 2px solid #000\">L6</td><td style=\"border: 2px solid #000\">125</td></tr><tr style=\"background-color: white\"><td style=\"border: 2px solid #000\">53</td><td style=\"border: 2px solid #000\">A6</td><td style=\"border: 2px solid #000\">124</td></tr><tr style=\"background-color: #fffaff\"><td style=\"border: 2px solid #000\">54</td><td style=\"border: 2px solid #000\">D6</td><td style=\"border: 2px solid #000\">124</td></tr><tr style=\"background-color: white\"><td style=\"border: 2px solid #000\">55</td><td style=\"border: 2px solid #000\">V2</td><td style=\"border: 2px solid #000\">121</td></tr><tr style=\"background-color: #fffaff\"><td style=\"border: 2px solid #000\">56</td><td style=\"border: 2px solid #000\">42</td><td style=\"border: 2px solid #000\">120</td></tr><tr style=\"background-color: white\"><td style=\"border: 2px solid #000\">57</td><td style=\"border: 2px solid #000\">Q4</td><td style=\"border: 2px solid #000\">118</td></tr><tr style=\"background-color: #fffaff\"><td style=\"border: 2px solid #000\">58</td><td style=\"border: 2px solid #000\">67</td><td style=\"border: 2px solid #000\">117</td></tr><tr style=\"background-color: white\"><td style=\"border: 2px solid #000\">59</td><td style=\"border: 2px solid #000\">45</td><td style=\"border: 2px solid #000\">115</td></tr><tr style=\"background-color: #fffaff\"><td style=\"border: 2px solid #000\">60</td><td style=\"border: 2px solid #000\">63</td><td style=\"border: 2px solid #000\">113</td></tr><tr style=\"background-color: white\"><td style=\"border: 2px solid #000\">61</td><td style=\"border: 2px solid #000\">24</td><td style=\"border: 2px solid #000\">112</td></tr><tr style=\"background-color: #fffaff\"><td style=\"border: 2px solid #000\">62</td><td style=\"border: 2px solid #000\">20</td><td style=\"border: 2px solid #000\">111</td></tr><tr style=\"background-color: white\"><td style=\"border: 2px solid #000\">63</td><td style=\"border: 2px solid #000\">37</td><td style=\"border: 2px solid #000\">111</td></tr><tr style=\"background-color: #fffaff\"><td style=\"border: 2px solid #000\">64</td><td style=\"border: 2px solid #000\">23</td><td style=\"border: 2px solid #000\">110</td></tr><tr style=\"background-color: white\"><td style=\"border: 2px solid #000\">65</td><td style=\"border: 2px solid #000\">41</td><td style=\"border: 2px solid #000\">109</td></tr><tr style=\"background-color: #fffaff\"><td style=\"border: 2px solid #000\">66</td><td style=\"border: 2px solid #000\">58</td><td style=\"border: 2px solid #000\">108</td></tr><tr style=\"background-color: white\"><td style=\"border: 2px solid #000\">67</td><td style=\"border: 2px solid #000\">49</td><td style=\"border: 2px solid #000\">107</td></tr><tr style=\"background-color: #fffaff\"><td style=\"border: 2px solid #000\">68</td><td style=\"border: 2px solid #000\">J2</td><td style=\"border: 2px solid #000\">105</td></tr><tr style=\"background-color: white\"><td style=\"border: 2px solid #000\">69</td><td style=\"border: 2px solid #000\">22</td><td style=\"border: 2px solid #000\">104</td></tr><tr style=\"background-color: #fffaff\"><td style=\"border: 2px solid #000\">70</td><td style=\"border: 2px solid #000\">J9</td><td style=\"border: 2px solid #000\">104</td></tr><tr style=\"background-color: white\"><td style=\"border: 2px solid #000\">71</td><td style=\"border: 2px solid #000\">L2</td><td style=\"border: 2px solid #000\">104</td></tr><tr style=\"background-color: #fffaff\"><td style=\"border: 2px solid #000\">72</td><td style=\"border: 2px solid #000\">03</td><td style=\"border: 2px solid #000\">100</td></tr><tr style=\"background-color: white\"><td style=\"border: 2px solid #000\">73</td><td style=\"border: 2px solid #000\">30</td><td style=\"border: 2px solid #000\">100</td></tr><tr style=\"background-color: #fffaff\"><td style=\"border: 2px solid #000\">74</td><td style=\"border: 2px solid #000\">85</td><td style=\"border: 2px solid #000\">100</td></tr><tr style=\"background-color: white\"><td style=\"border: 2px solid #000\">75</td><td style=\"border: 2px solid #000\">A9</td><td style=\"border: 2px solid #000\">100</td></tr><tr style=\"background-color: #fffaff\"><td style=\"border: 2px solid #000\">76</td><td style=\"border: 2px solid #000\">L8</td><td style=\"border: 2px solid #000\">100</td></tr><tr style=\"background-color: white\"><td style=\"border: 2px solid #000\">77</td><td style=\"border: 2px solid #000\">D5</td><td style=\"border: 2px solid #000\">99</td></tr><tr style=\"background-color: #fffaff\"><td style=\"border: 2px solid #000\">78</td><td style=\"border: 2px solid #000\">02</td><td style=\"border: 2px solid #000\">98</td></tr><tr style=\"background-color: white\"><td style=\"border: 2px solid #000\">79</td><td style=\"border: 2px solid #000\">54</td><td style=\"border: 2px solid #000\">98</td></tr><tr style=\"background-color: #fffaff\"><td style=\"border: 2px solid #000\">80</td><td style=\"border: 2px solid #000\">47</td><td style=\"border: 2px solid #000\">97</td></tr><tr style=\"background-color: white\"><td style=\"border: 2px solid #000\">81</td><td style=\"border: 2px solid #000\">69</td><td style=\"border: 2px solid #000\">97</td></tr><tr style=\"background-color: #fffaff\"><td style=\"border: 2px solid #000\">82</td><td style=\"border: 2px solid #000\">C1</td><td style=\"border: 2px solid #000\">96</td></tr><tr style=\"background-color: white\"><td style=\"border: 2px solid #000\">83</td><td style=\"border: 2px solid #000\">40</td><td style=\"border: 2px solid #000\">93</td></tr><tr style=\"background-color: #fffaff\"><td style=\"border: 2px solid #000\">84</td><td style=\"border: 2px solid #000\">57</td><td style=\"border: 2px solid #000\">88</td></tr><tr style=\"background-color: white\"><td style=\"border: 2px solid #000\">85</td><td style=\"border: 2px solid #000\">75</td><td style=\"border: 2px solid #000\">86</td></tr><tr style=\"background-color: #fffaff\"><td style=\"border: 2px solid #000\">86</td><td style=\"border: 2px solid #000\">76</td><td style=\"border: 2px solid #000\">86</td></tr><tr style=\"background-color: white\"><td style=\"border: 2px solid #000\">87</td><td style=\"border: 2px solid #000\">D0</td><td style=\"border: 2px solid #000\">84</td></tr><tr style=\"background-color: #fffaff\"><td style=\"border: 2px solid #000\">88</td><td style=\"border: 2px solid #000\">D2</td><td style=\"border: 2px solid #000\">84</td></tr><tr style=\"background-color: white\"><td style=\"border: 2px solid #000\">89</td><td style=\"border: 2px solid #000\">L1</td><td style=\"border: 2px solid #000\">84</td></tr><tr style=\"background-color: #fffaff\"><td style=\"border: 2px solid #000\">90</td><td style=\"border: 2px solid #000\">96</td><td style=\"border: 2px solid #000\">81</td></tr><tr style=\"background-color: white\"><td style=\"border: 2px solid #000\">91</td><td style=\"border: 2px solid #000\">L0</td><td style=\"border: 2px solid #000\">81</td></tr><tr style=\"background-color: #fffaff\"><td style=\"border: 2px solid #000\">92</td><td style=\"border: 2px solid #000\">V5</td><td style=\"border: 2px solid #000\">79</td></tr><tr style=\"background-color: white\"><td style=\"border: 2px solid #000\">93</td><td style=\"border: 2px solid #000\">46</td><td style=\"border: 2px solid #000\">74</td></tr><tr style=\"background-color: #fffaff\"><td style=\"border: 2px solid #000\">94</td><td style=\"border: 2px solid #000\">Q0</td><td style=\"border: 2px solid #000\">74</td></tr><tr style=\"background-color: white\"><td style=\"border: 2px solid #000\">95</td><td style=\"border: 2px solid #000\">65</td><td style=\"border: 2px solid #000\">73</td></tr><tr style=\"background-color: #fffaff\"><td style=\"border: 2px solid #000\">96</td><td style=\"border: 2px solid #000\">62</td><td style=\"border: 2px solid #000\">72</td></tr><tr style=\"background-color: white\"><td style=\"border: 2px solid #000\">97</td><td style=\"border: 2px solid #000\">74</td><td style=\"border: 2px solid #000\">70</td></tr><tr style=\"background-color: #fffaff\"><td style=\"border: 2px solid #000\">98</td><td style=\"border: 2px solid #000\">73</td><td style=\"border: 2px solid #000\">69</td></tr><tr style=\"background-color: white\"><td style=\"border: 2px solid #000\">99</td><td style=\"border: 2px solid #000\">51</td><td style=\"border: 2px solid #000\">68</td></tr><tr style=\"background-color: #fffaff\"><td style=\"border: 2px solid #000\">100</td><td style=\"border: 2px solid #000\">70</td><td style=\"border: 2px solid #000\">68</td></tr><tr style=\"background-color: white\"><td style=\"border: 2px solid #000\">101</td><td style=\"border: 2px solid #000\">J3</td><td style=\"border: 2px solid #000\">68</td></tr><tr style=\"background-color: #fffaff\"><td style=\"border: 2px solid #000\">102</td><td style=\"border: 2px solid #000\">19</td><td style=\"border: 2px solid #000\">67</td></tr><tr style=\"background-color: white\"><td style=\"border: 2px solid #000\">103</td><td style=\"border: 2px solid #000\">38</td><td style=\"border: 2px solid #000\">64</td></tr><tr style=\"background-color: #fffaff\"><td style=\"border: 2px solid #000\">104</td><td style=\"border: 2px solid #000\">52</td><td style=\"border: 2px solid #000\">64</td></tr><tr style=\"background-color: white\"><td style=\"border: 2px solid #000\">105</td><td style=\"border: 2px solid #000\">59</td><td style=\"border: 2px solid #000\">64</td></tr><tr style=\"background-color: #fffaff\"><td style=\"border: 2px solid #000\">106</td><td style=\"border: 2px solid #000\">S5</td><td style=\"border: 2px solid #000\">64</td></tr><tr style=\"background-color: white\"><td style=\"border: 2px solid #000\">107</td><td style=\"border: 2px solid #000\">34</td><td style=\"border: 2px solid #000\">62</td></tr><tr style=\"background-color: #fffaff\"><td style=\"border: 2px solid #000\">108</td><td style=\"border: 2px solid #000\">A7</td><td style=\"border: 2px solid #000\">61</td></tr><tr style=\"background-color: white\"><td style=\"border: 2px solid #000\">109</td><td style=\"border: 2px solid #000\">72</td><td style=\"border: 2px solid #000\">60</td></tr><tr style=\"background-color: #fffaff\"><td style=\"border: 2px solid #000\">110</td><td style=\"border: 2px solid #000\">97</td><td style=\"border: 2px solid #000\">58</td></tr><tr style=\"background-color: white\"><td style=\"border: 2px solid #000\">111</td><td style=\"border: 2px solid #000\">S2</td><td style=\"border: 2px solid #000\">58</td></tr><tr style=\"background-color: #fffaff\"><td style=\"border: 2px solid #000\">112</td><td style=\"border: 2px solid #000\">53</td><td style=\"border: 2px solid #000\">57</td></tr><tr style=\"background-color: white\"><td style=\"border: 2px solid #000\">113</td><td style=\"border: 2px solid #000\">S3</td><td style=\"border: 2px solid #000\">57</td></tr><tr style=\"background-color: #fffaff\"><td style=\"border: 2px solid #000\">114</td><td style=\"border: 2px solid #000\">G6</td><td style=\"border: 2px solid #000\">55</td></tr><tr style=\"background-color: white\"><td style=\"border: 2px solid #000\">115</td><td style=\"border: 2px solid #000\">94</td><td style=\"border: 2px solid #000\">54</td></tr><tr style=\"background-color: #fffaff\"><td style=\"border: 2px solid #000\">116</td><td style=\"border: 2px solid #000\">66</td><td style=\"border: 2px solid #000\">53</td></tr><tr style=\"background-color: white\"><td style=\"border: 2px solid #000\">117</td><td style=\"border: 2px solid #000\">10</td><td style=\"border: 2px solid #000\">52</td></tr><tr style=\"background-color: #fffaff\"><td style=\"border: 2px solid #000\">118</td><td style=\"border: 2px solid #000\">55</td><td style=\"border: 2px solid #000\">52</td></tr><tr style=\"background-color: white\"><td style=\"border: 2px solid #000\">119</td><td style=\"border: 2px solid #000\">S8</td><td style=\"border: 2px solid #000\">52</td></tr><tr style=\"background-color: #fffaff\"><td style=\"border: 2px solid #000\">120</td><td style=\"border: 2px solid #000\">D9</td><td style=\"border: 2px solid #000\">50</td></tr><tr style=\"background-color: white\"><td style=\"border: 2px solid #000\">121</td><td style=\"border: 2px solid #000\">H0</td><td style=\"border: 2px solid #000\">50</td></tr><tr style=\"background-color: #fffaff\"><td style=\"border: 2px solid #000\">122</td><td style=\"border: 2px solid #000\">89</td><td style=\"border: 2px solid #000\">48</td></tr><tr style=\"background-color: white\"><td style=\"border: 2px solid #000\">123</td><td style=\"border: 2px solid #000\">04</td><td style=\"border: 2px solid #000\">46</td></tr><tr style=\"background-color: #fffaff\"><td style=\"border: 2px solid #000\">124</td><td style=\"border: 2px solid #000\">68</td><td style=\"border: 2px solid #000\">46</td></tr><tr style=\"background-color: white\"><td style=\"border: 2px solid #000\">125</td><td style=\"border: 2px solid #000\">T2</td><td style=\"border: 2px solid #000\">46</td></tr><tr style=\"background-color: #fffaff\"><td style=\"border: 2px solid #000\">126</td><td style=\"border: 2px solid #000\">P9</td><td style=\"border: 2px solid #000\">45</td></tr><tr style=\"background-color: white\"><td style=\"border: 2px solid #000\">127</td><td style=\"border: 2px solid #000\">A0</td><td style=\"border: 2px solid #000\">41</td></tr><tr style=\"background-color: #fffaff\"><td style=\"border: 2px solid #000\">128</td><td style=\"border: 2px solid #000\">60</td><td style=\"border: 2px solid #000\">40</td></tr><tr style=\"background-color: white\"><td style=\"border: 2px solid #000\">129</td><td style=\"border: 2px solid #000\">D3</td><td style=\"border: 2px solid #000\">40</td></tr><tr style=\"background-color: #fffaff\"><td style=\"border: 2px solid #000\">130</td><td style=\"border: 2px solid #000\">A5</td><td style=\"border: 2px solid #000\">39</td></tr><tr style=\"background-color: white\"><td style=\"border: 2px solid #000\">131</td><td style=\"border: 2px solid #000\">12</td><td style=\"border: 2px solid #000\">37</td></tr><tr style=\"background-color: #fffaff\"><td style=\"border: 2px solid #000\">132</td><td style=\"border: 2px solid #000\">D4</td><td style=\"border: 2px solid #000\">37</td></tr><tr style=\"background-color: white\"><td style=\"border: 2px solid #000\">133</td><td style=\"border: 2px solid #000\">17</td><td style=\"border: 2px solid #000\">36</td></tr><tr style=\"background-color: #fffaff\"><td style=\"border: 2px solid #000\">134</td><td style=\"border: 2px solid #000\">C8</td><td style=\"border: 2px solid #000\">35</td></tr><tr style=\"background-color: white\"><td style=\"border: 2px solid #000\">135</td><td style=\"border: 2px solid #000\">L7</td><td style=\"border: 2px solid #000\">34</td></tr><tr style=\"background-color: #fffaff\"><td style=\"border: 2px solid #000\">136</td><td style=\"border: 2px solid #000\">T1</td><td style=\"border: 2px solid #000\">34</td></tr><tr style=\"background-color: white\"><td style=\"border: 2px solid #000\">137</td><td style=\"border: 2px solid #000\">05</td><td style=\"border: 2px solid #000\">33</td></tr><tr style=\"background-color: #fffaff\"><td style=\"border: 2px solid #000\">138</td><td style=\"border: 2px solid #000\">C2</td><td style=\"border: 2px solid #000\">33</td></tr><tr style=\"background-color: white\"><td style=\"border: 2px solid #000\">139</td><td style=\"border: 2px solid #000\">48</td><td style=\"border: 2px solid #000\">32</td></tr><tr style=\"background-color: #fffaff\"><td style=\"border: 2px solid #000\">140</td><td style=\"border: 2px solid #000\">H2</td><td style=\"border: 2px solid #000\">30</td></tr><tr style=\"background-color: white\"><td style=\"border: 2px solid #000\">141</td><td style=\"border: 2px solid #000\">L4</td><td style=\"border: 2px solid #000\">30</td></tr><tr style=\"background-color: #fffaff\"><td style=\"border: 2px solid #000\">142</td><td style=\"border: 2px solid #000\">Q9</td><td style=\"border: 2px solid #000\">30</td></tr><tr style=\"background-color: white\"><td style=\"border: 2px solid #000\">143</td><td style=\"border: 2px solid #000\">S4</td><td style=\"border: 2px solid #000\">28</td></tr><tr style=\"background-color: #fffaff\"><td style=\"border: 2px solid #000\">144</td><td style=\"border: 2px solid #000\">56</td><td style=\"border: 2px solid #000\">25</td></tr><tr style=\"background-color: white\"><td style=\"border: 2px solid #000\">145</td><td style=\"border: 2px solid #000\">71</td><td style=\"border: 2px solid #000\">25</td></tr><tr style=\"background-color: #fffaff\"><td style=\"border: 2px solid #000\">146</td><td style=\"border: 2px solid #000\">T4</td><td style=\"border: 2px solid #000\">24</td></tr><tr style=\"background-color: white\"><td style=\"border: 2px solid #000\">147</td><td style=\"border: 2px solid #000\">Q2</td><td style=\"border: 2px solid #000\">22</td></tr><tr style=\"background-color: #fffaff\"><td style=\"border: 2px solid #000\">148</td><td style=\"border: 2px solid #000\">91</td><td style=\"border: 2px solid #000\">21</td></tr><tr style=\"background-color: white\"><td style=\"border: 2px solid #000\">149</td><td style=\"border: 2px solid #000\">D8</td><td style=\"border: 2px solid #000\">21</td></tr><tr style=\"background-color: #fffaff\"><td style=\"border: 2px solid #000\">150</td><td style=\"border: 2px solid #000\">J8</td><td style=\"border: 2px solid #000\">21</td></tr><tr style=\"background-color: white\"><td style=\"border: 2px solid #000\">151</td><td style=\"border: 2px solid #000\">14</td><td style=\"border: 2px solid #000\">20</td></tr><tr style=\"background-color: #fffaff\"><td style=\"border: 2px solid #000\">152</td><td style=\"border: 2px solid #000\">D1</td><td style=\"border: 2px solid #000\">20</td></tr><tr style=\"background-color: white\"><td style=\"border: 2px solid #000\">153</td><td style=\"border: 2px solid #000\">39</td><td style=\"border: 2px solid #000\">16</td></tr><tr style=\"background-color: #fffaff\"><td style=\"border: 2px solid #000\">154</td><td style=\"border: 2px solid #000\">98</td><td style=\"border: 2px solid #000\">16</td></tr><tr style=\"background-color: white\"><td style=\"border: 2px solid #000\">155</td><td style=\"border: 2px solid #000\">13</td><td style=\"border: 2px solid #000\">14</td></tr><tr style=\"background-color: #fffaff\"><td style=\"border: 2px solid #000\">156</td><td style=\"border: 2px solid #000\">Q5</td><td style=\"border: 2px solid #000\">12</td></tr><tr style=\"background-color: white\"><td style=\"border: 2px solid #000\">157</td><td style=\"border: 2px solid #000\">S1</td><td style=\"border: 2px solid #000\">12</td></tr><tr style=\"background-color: #fffaff\"><td style=\"border: 2px solid #000\">158</td><td style=\"border: 2px solid #000\">79</td><td style=\"border: 2px solid #000\">8</td></tr><tr style=\"background-color: white\"><td style=\"border: 2px solid #000\">159</td><td style=\"border: 2px solid #000\">C5</td><td style=\"border: 2px solid #000\">8</td></tr><tr style=\"background-color: #fffaff\"><td style=\"border: 2px solid #000\">160</td><td style=\"border: 2px solid #000\">H1</td><td style=\"border: 2px solid #000\">8</td></tr><tr style=\"background-color: white\"><td style=\"border: 2px solid #000\">161</td><td style=\"border: 2px solid #000\">Q3</td><td style=\"border: 2px solid #000\">7</td></tr><tr style=\"background-color: #fffaff\"><td style=\"border: 2px solid #000\">162</td><td style=\"border: 2px solid #000\">16</td><td style=\"border: 2px solid #000\">6</td></tr><tr style=\"background-color: white\"><td style=\"border: 2px solid #000\">163</td><td style=\"border: 2px solid #000\">M0</td><td style=\"border: 2px solid #000\">6</td></tr><tr style=\"background-color: #fffaff\"><td style=\"border: 2px solid #000\">164</td><td style=\"border: 2px solid #000\">A8</td><td style=\"border: 2px solid #000\">5</td></tr><tr style=\"background-color: white\"><td style=\"border: 2px solid #000\">165</td><td style=\"border: 2px solid #000\">P2</td><td style=\"border: 2px solid #000\">5</td></tr><tr style=\"background-color: #fffaff\"><td style=\"border: 2px solid #000\">166</td><td style=\"border: 2px solid #000\">E8</td><td style=\"border: 2px solid #000\">3</td></tr><tr style=\"background-color: white\"><td style=\"border: 2px solid #000\">167</td><td style=\"border: 2px solid #000\">R0</td><td style=\"border: 2px solid #000\">3</td></tr><tr style=\"background-color: #fffaff\"><td style=\"border: 2px solid #000\">168</td><td style=\"border: 2px solid #000\">P3</td><td style=\"border: 2px solid #000\">2</td></tr><tr style=\"background-color: white\"><td style=\"border: 2px solid #000\">169</td><td style=\"border: 2px solid #000\">Q1</td><td style=\"border: 2px solid #000\">2</td></tr><tr style=\"background-color: #fffaff\"><td style=\"border: 2px solid #000\">170</td><td style=\"border: 2px solid #000\">T5</td><td style=\"border: 2px solid #000\">2</td></tr><tr style=\"background-color: white\"><td style=\"border: 2px solid #000\">171</td><td style=\"border: 2px solid #000\">G3</td><td style=\"border: 2px solid #000\">1</td></tr><tr style=\"background-color: #fffaff\"><td style=\"border: 2px solid #000\">172</td><td style=\"border: 2px solid #000\">L9</td><td style=\"border: 2px solid #000\">1</td></tr><tr style=\"background-color: white\"><td style=\"border: 2px solid #000\">173</td><td style=\"border: 2px solid #000\">P7</td><td style=\"border: 2px solid #000\">1</td></tr></tbody></table>"
      ],
      "text/plain": [
       "e {\n",
       "  keyFunc: [Function: value],\n",
       "  data: [\n",
       "    [ 'G9', 577 ], [ 'G8', 524 ], [ '27', 377 ], [ '33', 343 ], [ 'E0', 314 ],\n",
       "    [ 'A4', 289 ], [ '86', 241 ], [ '99', 226 ], [ '87', 222 ], [ '43', 220 ],\n",
       "    [ 'G0', 219 ], [ '90', 211 ], [ '21', 208 ], [ '82', 196 ], [ '92', 194 ],\n",
       "    [ '81', 190 ], [ '35', 186 ], [ 'L5', 183 ], [ '26', 182 ], [ '31', 182 ],\n",
       "    [ '00', 180 ], [ '61', 178 ], [ '28', 176 ], [ '64', 176 ], [ '93', 173 ],\n",
       "    [ '01', 168 ], [ '25', 158 ], [ '50', 155 ], [ 'L3', 155 ], [ '80', 150 ],\n",
       "    [ 'S9', 149 ], [ 'E1', 148 ], [ '95', 143 ], [ 'J7', 143 ], [ '11', 141 ],\n",
       "    [ '78', 141 ], [ '88', 141 ], [ '44', 139 ], [ 'E2', 139 ], [ 'K0', 139 ],\n",
       "    [ 'C9', 138 ], [ 'J1', 138 ], [ '83', 136 ], [ 'J0', 135 ], [ '29', 134 ],\n",
       "    [ '32', 133 ], [ 'D7', 133 ], [ '15', 132 ], [ 'S0', 130 ], [ '36', 128 ],\n",
       "    [ '77', 128 ], [ '84', 128 ], [ 'L6', 125 ], [ 'A6', 124 ], [ 'D6', 124 ],\n",
       "    [ 'V2', 121 ], [ '42', 120 ], [ 'Q4', 118 ], [ '67', 117 ], [ '45', 115 ],\n",
       "    [ '63', 113 ], [ '24', 112 ], [ '20', 111 ], [ '37', 111 ], [ '23', 110 ],\n",
       "    [ '41', 109 ], [ '58', 108 ], [ '49', 107 ], [ 'J2', 105 ], [ '22', 104 ],\n",
       "    [ 'J9', 104 ], [ 'L2', 104 ], [ '03', 100 ], [ '30', 100 ], [ '85', 100 ],\n",
       "    [ 'A9', 100 ], [ 'L8', 100 ], [ 'D5', 99 ],  [ '02', 98 ],  [ '54', 98 ],\n",
       "    [ '47', 97 ],  [ '69', 97 ],  [ 'C1', 96 ],  [ '40', 93 ],  [ '57', 88 ],\n",
       "    [ '75', 86 ],  [ '76', 86 ],  [ 'D0', 84 ],  [ 'D2', 84 ],  [ 'L1', 84 ],\n",
       "    [ '96', 81 ],  [ 'L0', 81 ],  [ 'V5', 79 ],  [ '46', 74 ],  [ 'Q0', 74 ],\n",
       "    [ '65', 73 ],  [ '62', 72 ],  [ '74', 70 ],  [ '73', 69 ],  [ '51', 68 ],\n",
       "    ... 74 more items\n",
       "  ],\n",
       "  _columns: [ 'TYPE', 'COUNT' ],\n",
       "  _name: 'grouped',\n",
       "  _unique: undefined,\n",
       "  _sortCols: [],\n",
       "  _row: undefined,\n",
       "  AccessClass: [Function],\n",
       "  showLen: 400,\n",
       "  rowColor: [Function: colorDefault],\n",
       "  _hash: -1,\n",
       "  sorted: [ '-COUNT' ]\n",
       "}"
      ]
     },
     "execution_count": 40,
     "metadata": {},
     "output_type": "execute_result"
    }
   ],
   "source": [
    "fs.readdirSync('../data/reference');\n",
    "var ICD9 = readZipFrame('../data/reference/all_icd10_codes.tsv.gz');\n",
    "var HCPCS = readZipFrame('../data/reference/hcpcs.tsv.gz')\n",
    "HCPCS = HCPCS.project(['TYPE', ...HCPCS.columns], {TYPE: r => r.CODE.substr(0,2)},true);\n",
    "HCPCS.groupBy(['TYPE', gb.count('TYPE', 'COUNT')]).sort(['-COUNT'])"
   ]
  },
  {
   "cell_type": "code",
   "execution_count": 41,
   "metadata": {},
   "outputs": [
    {
     "data": {
      "text/html": [
       "<style> \n",
       "\t\t\t\t.ftable  { font-family: arial, sans-serif; color: blue !important; } \n",
       "\t\t\t\ttd, th, tr { border: 1px solid #000000; text-align: left; } \n",
       "\t\t\t\tth {color: red !important}\n",
       "\t\t\t\ttr:nth-child(even) { background-color: #dddddd; } }\n",
       "\t\t\t</style>\n",
       "<p>Length: 219</p><table class=\"ftable\" style=\"border-collapse: collapse; border-spacing: 0;  border: 2px solid #000; font-size: 1rem\"><thead style=\"background-color: lightgrey\"><tr style=\"border: 2px solid #000\"><th style=\"border: 2px solid #000; color: blue\">Ix</th><th style=\"border: 2px solid #000; color: blue\">TYPE</th><th style=\"border: 2px solid #000; color: blue\">CODE</th><th style=\"border: 2px solid #000; color: blue\">SHORT</th><th style=\"border: 2px solid #000; color: blue\">DESCRIPTION</th></tr></thead><tbody><tr style=\"background-color: #fffaff\"><td style=\"border: 2px solid #000\">0</td><td style=\"border: 2px solid #000\">G0</td><td style=\"border: 2px solid #000\">G0008</td><td style=\"border: 2px solid #000\">ADMINISTRATION OF INFLUENZA VIRUS VACCINE</td><td style=\"border: 2px solid #000\">Administration of influenza virus vaccine</td></tr><tr style=\"background-color: white\"><td style=\"border: 2px solid #000\">1</td><td style=\"border: 2px solid #000\">G0</td><td style=\"border: 2px solid #000\">G0009</td><td style=\"border: 2px solid #000\">ADMINISTRATION OF PNEUMOCOCCAL VACCINE</td><td style=\"border: 2px solid #000\">Administration of pneumococcal vaccine</td></tr><tr style=\"background-color: #fffaff\"><td style=\"border: 2px solid #000\">2</td><td style=\"border: 2px solid #000\">G0</td><td style=\"border: 2px solid #000\">G0010</td><td style=\"border: 2px solid #000\">ADMINISTRATION OF HEPATITIS B VACCINE</td><td style=\"border: 2px solid #000\">Administration of hepatitis B vaccine</td></tr><tr style=\"background-color: white\"><td style=\"border: 2px solid #000\">3</td><td style=\"border: 2px solid #000\">G0</td><td style=\"border: 2px solid #000\">G0027</td><td style=\"border: 2px solid #000\">SEMEN ANALY; PRES/MOT EXCLD HUHNER</td><td style=\"border: 2px solid #000\">Semen analysis; presence and/or motility of sperm excluding Huhner</td></tr><tr style=\"background-color: #fffaff\"><td style=\"border: 2px solid #000\">4</td><td style=\"border: 2px solid #000\">G0</td><td style=\"border: 2px solid #000\">G0101</td><td style=\"border: 2px solid #000\">CERV/VAGINAL CANCER SCR; PELV&CLIN BREAST EXAM</td><td style=\"border: 2px solid #000\">Cervical or vaginal cancer screening; pelvic and clinical breast examination</td></tr><tr style=\"background-color: white\"><td style=\"border: 2px solid #000\">5</td><td style=\"border: 2px solid #000\">G0</td><td style=\"border: 2px solid #000\">G0102</td><td style=\"border: 2px solid #000\">PROS CANCER SCREENING; DIGTL RECTAL EXAMINATION</td><td style=\"border: 2px solid #000\">Prostate cancer screening; digital rectal examination</td></tr><tr style=\"background-color: #fffaff\"><td style=\"border: 2px solid #000\">6</td><td style=\"border: 2px solid #000\">G0</td><td style=\"border: 2px solid #000\">G0103</td><td style=\"border: 2px solid #000\">PROSTATE CANCER SCREENING; PSA TEST</td><td style=\"border: 2px solid #000\">Prostate cancer screening; prostate specific antigen test (PSA)</td></tr><tr style=\"background-color: white\"><td style=\"border: 2px solid #000\">7</td><td style=\"border: 2px solid #000\">G0</td><td style=\"border: 2px solid #000\">G0104</td><td style=\"border: 2px solid #000\">COLORECTAL CANCER SCREENING; FLEXSIG</td><td style=\"border: 2px solid #000\">Colorectal cancer screening; flexible sigmoidoscopy</td></tr><tr style=\"background-color: #fffaff\"><td style=\"border: 2px solid #000\">8</td><td style=\"border: 2px solid #000\">G0</td><td style=\"border: 2px solid #000\">G0105</td><td style=\"border: 2px solid #000\">COLOREC CANCR SCR; COLONSCPY INDIVIDUL@HIGH RISK</td><td style=\"border: 2px solid #000\">Colorectal cancer screening; colonoscopy on individual at high risk</td></tr><tr style=\"background-color: white\"><td style=\"border: 2px solid #000\">9</td><td style=\"border: 2px solid #000\">G0</td><td style=\"border: 2px solid #000\">G0106</td><td style=\"border: 2px solid #000\">COLOREC CANCR SCR;ALT G0104 SIGMOIDSCPY BA ENEMA</td><td style=\"border: 2px solid #000\">Colorectal cancer screening; alternative to G0104, screening sigmoidoscopy, barium enema</td></tr><tr style=\"background-color: #fffaff\"><td style=\"border: 2px solid #000\">10</td><td style=\"border: 2px solid #000\">G0</td><td style=\"border: 2px solid #000\">G0108</td><td style=\"border: 2px solid #000\">DIAB OP SELF-MGMT TRN SRVC INDIVIDUAL PER 30 MIN</td><td style=\"border: 2px solid #000\">Diabetes outpatient self-management training services, individual, per 30 minutes</td></tr><tr style=\"background-color: white\"><td style=\"border: 2px solid #000\">11</td><td style=\"border: 2px solid #000\">G0</td><td style=\"border: 2px solid #000\">G0109</td><td style=\"border: 2px solid #000\">DIAB SELF-MGMT TRN SRVC GROUP SESSION PER 30 MIN</td><td style=\"border: 2px solid #000\">Diabetes outpatient self-management training services, group session (2 or more), per 30 minutes</td></tr><tr style=\"background-color: #fffaff\"><td style=\"border: 2px solid #000\">12</td><td style=\"border: 2px solid #000\">G0</td><td style=\"border: 2px solid #000\">G0117</td><td style=\"border: 2px solid #000\">GLAUC SCR HI RISK BY OPTOMETRST/OPHTHALMOLOGIST</td><td style=\"border: 2px solid #000\">Glaucoma screening for high risk patients furnished by an optometrist or ophthalmologist</td></tr><tr style=\"background-color: white\"><td style=\"border: 2px solid #000\">13</td><td style=\"border: 2px solid #000\">G0</td><td style=\"border: 2px solid #000\">G0118</td><td style=\"border: 2px solid #000\">GLAUC SCR HI RSK UND DIR SUP OPTMTRST/OPHTHLGIST</td><td style=\"border: 2px solid #000\">Glaucoma screening for high risk patient furnished under the direct supervision of an optometrist or ophthalmologist</td></tr><tr style=\"background-color: #fffaff\"><td style=\"border: 2px solid #000\">14</td><td style=\"border: 2px solid #000\">G0</td><td style=\"border: 2px solid #000\">G0120</td><td style=\"border: 2px solid #000\">COLOREC CANCR SCR; ALT G0105 COLNSCPY BA ENEMA</td><td style=\"border: 2px solid #000\">Colorectal cancer screening; alternative to G0105, screening colonoscopy, barium enema</td></tr><tr style=\"background-color: white\"><td style=\"border: 2px solid #000\">15</td><td style=\"border: 2px solid #000\">G0</td><td style=\"border: 2px solid #000\">G0121</td><td style=\"border: 2px solid #000\">COLOREC CANCR SCR; COLNSCPY NOT MEET HI RISK</td><td style=\"border: 2px solid #000\">Colorectal cancer screening; colonoscopy on individual not meeting criteria for high risk</td></tr><tr style=\"background-color: #fffaff\"><td style=\"border: 2px solid #000\">16</td><td style=\"border: 2px solid #000\">G0</td><td style=\"border: 2px solid #000\">G0122</td><td style=\"border: 2px solid #000\">COLORECTAL CANCER SCREENING; BARIUM ENEMA</td><td style=\"border: 2px solid #000\">Colorectal cancer screening; barium enema</td></tr><tr style=\"background-color: white\"><td style=\"border: 2px solid #000\">17</td><td style=\"border: 2px solid #000\">G0</td><td style=\"border: 2px solid #000\">G0123</td><td style=\"border: 2px solid #000\">SCR CYTOPATH CERV/VAG SCR CYTOTECH UND PHYS SUPV</td><td style=\"border: 2px solid #000\">Screening cytopathology, cervical or vaginal (any reporting system), collected in preservative fluid, automated thin layer preparation, screening by cytotechnologist under physician supervision</td></tr><tr style=\"background-color: #fffaff\"><td style=\"border: 2px solid #000\">18</td><td style=\"border: 2px solid #000\">G0</td><td style=\"border: 2px solid #000\">G0124</td><td style=\"border: 2px solid #000\">SCR CYTOPATH CERV/VAG THIN LAY PREP INTEPR PHYS</td><td style=\"border: 2px solid #000\">Screening cytopathology, cervical or vaginal (any reporting system), collected in preservative fluid, automated thin layer preparation, requiring interpretation by physician</td></tr><tr style=\"background-color: white\"><td style=\"border: 2px solid #000\">19</td><td style=\"border: 2px solid #000\">G0</td><td style=\"border: 2px solid #000\">G0127</td><td style=\"border: 2px solid #000\">TRIMMING OF DYSTROPHIC NAILS ANY NUMBER</td><td style=\"border: 2px solid #000\">Trimming of dystrophic nails, any number</td></tr><tr style=\"background-color: #fffaff\"><td style=\"border: 2px solid #000\">20</td><td style=\"border: 2px solid #000\">G0</td><td style=\"border: 2px solid #000\">G0128</td><td style=\"border: 2px solid #000\">DIR SKLED SERV RN OP REHAB EA 10 MIN AFTR 1ST 5</td><td style=\"border: 2px solid #000\">Direct (face-to-face with patient) skilled nursing services of a registered nurse provided in a comprehensive outpatient rehabilitation facility, each 10 minutes beyond the first 5 minutes</td></tr><tr style=\"background-color: white\"><td style=\"border: 2px solid #000\">21</td><td style=\"border: 2px solid #000\">G0</td><td style=\"border: 2px solid #000\">G0129</td><td style=\"border: 2px solid #000\">OCCUP TX REQ SKILLS QUAL OCCUP TRPST PER SESSION</td><td style=\"border: 2px solid #000\">Occupational therapy services requiring the skills of a qualified occupational therapist, furnished as a component of a partial hospitalization treatment program, per session (45 minutes or more)</td></tr><tr style=\"background-color: #fffaff\"><td style=\"border: 2px solid #000\">22</td><td style=\"border: 2px solid #000\">G0</td><td style=\"border: 2px solid #000\">G0130</td><td style=\"border: 2px solid #000\">SEXA BN DNSITY STDY 1/&gt; SITE; APPNDICULR SKEL</td><td style=\"border: 2px solid #000\">Single energy x-ray absorptiometry (SEXA) bone density study, one or more sites; appendicular skeleton (peripheral) (e.g., radius, wrist, heel)</td></tr><tr style=\"background-color: white\"><td style=\"border: 2px solid #000\">23</td><td style=\"border: 2px solid #000\">G0</td><td style=\"border: 2px solid #000\">G0141</td><td style=\"border: 2px solid #000\">SCR CYTOPATH SMER CERV/VAG MNL RSCR INTEPR PHYS</td><td style=\"border: 2px solid #000\">Screening cytopathology smears, cervical or vaginal, performed by automated system, with manual rescreening, requiring interpretation by physician</td></tr><tr style=\"background-color: #fffaff\"><td style=\"border: 2px solid #000\">24</td><td style=\"border: 2px solid #000\">G0</td><td style=\"border: 2px solid #000\">G0143</td><td style=\"border: 2px solid #000\">SCR CYTOPATH CERV/VAG MNL SCR&RSCR UND PHYS</td><td style=\"border: 2px solid #000\">Screening cytopathology, cervical or vaginal (any reporting system), collected in preservative fluid, automated thin layer preparation, with manual screening and rescreening by cytotechnologist under physician supervision</td></tr><tr style=\"background-color: white\"><td style=\"border: 2px solid #000\">25</td><td style=\"border: 2px solid #000\">G0</td><td style=\"border: 2px solid #000\">G0144</td><td style=\"border: 2px solid #000\">SCR CYTOPATH CERV/VAG THIN LAY SCR AUTO UND PHYS</td><td style=\"border: 2px solid #000\">Screening cytopathology, cervical or vaginal (any reporting system), collected in preservative fluid, automated thin layer preparation, with screening by automated system, under physician supervision</td></tr><tr style=\"background-color: #fffaff\"><td style=\"border: 2px solid #000\">26</td><td style=\"border: 2px solid #000\">G0</td><td style=\"border: 2px solid #000\">G0145</td><td style=\"border: 2px solid #000\">SCR CYTOPATH CERV/VAG SCR AUTO&MNL RSCR PHYS</td><td style=\"border: 2px solid #000\">Screening cytopathology, cervical or vaginal (any reporting system), collected in preservative fluid, automated thin layer preparation, with screening by automated system and manual rescreening under physician supervision</td></tr><tr style=\"background-color: white\"><td style=\"border: 2px solid #000\">27</td><td style=\"border: 2px solid #000\">G0</td><td style=\"border: 2px solid #000\">G0147</td><td style=\"border: 2px solid #000\">SCR CYTOPATH SMERS CERV/VAG AUTO UND PHYS SUPV</td><td style=\"border: 2px solid #000\">Screening cytopathology smears, cervical or vaginal, performed by automated system under physician supervision</td></tr><tr style=\"background-color: #fffaff\"><td style=\"border: 2px solid #000\">28</td><td style=\"border: 2px solid #000\">G0</td><td style=\"border: 2px solid #000\">G0148</td><td style=\"border: 2px solid #000\">SCR CYTOPATH SMERS CERV/VAG AUTO SYS W/MNL RESCR</td><td style=\"border: 2px solid #000\">Screening cytopathology smears, cervical or vaginal, performed by automated system with manual rescreening</td></tr><tr style=\"background-color: white\"><td style=\"border: 2px solid #000\">29</td><td style=\"border: 2px solid #000\">G0</td><td style=\"border: 2px solid #000\">G0151</td><td style=\"border: 2px solid #000\">SERVICE PHYS THERAP HOME HLTH/HOSPICE EA 15 MIN</td><td style=\"border: 2px solid #000\">Services performed by a qualified physical therapist in the home health or hospice setting, each 15 minutes</td></tr><tr style=\"background-color: #fffaff\"><td style=\"border: 2px solid #000\">30</td><td style=\"border: 2px solid #000\">G0</td><td style=\"border: 2px solid #000\">G0152</td><td style=\"border: 2px solid #000\">SERVICE OCCUP THERAP HOME HLTH/HOSPICE EA 15 MIN</td><td style=\"border: 2px solid #000\">Services performed by a qualified occupational therapist in the home health or hospice setting, each 15 minutes</td></tr><tr style=\"background-color: white\"><td style=\"border: 2px solid #000\">31</td><td style=\"border: 2px solid #000\">G0</td><td style=\"border: 2px solid #000\">G0153</td><td style=\"border: 2px solid #000\">SRVC SPCH&LANG PATH HOME HLTH/HOSPICE EA 15 MIN</td><td style=\"border: 2px solid #000\">Services performed by a qualified speech-language pathologist in the home health or hospice setting, each 15 minutes</td></tr><tr style=\"background-color: #fffaff\"><td style=\"border: 2px solid #000\">32</td><td style=\"border: 2px solid #000\">G0</td><td style=\"border: 2px solid #000\">G0154</td><td style=\"border: 2px solid #000\">\"Hhcp-svs of rn,ea 15 min\"</td><td style=\"border: 2px solid #000\">\"Hhcp-svs of rn,ea 15 min\"</td></tr><tr style=\"background-color: white\"><td style=\"border: 2px solid #000\">33</td><td style=\"border: 2px solid #000\">G0</td><td style=\"border: 2px solid #000\">G0155</td><td style=\"border: 2px solid #000\">SRVC CLINICAL SOCIAL WORKER HH/HOSPICE EA 15 MIN</td><td style=\"border: 2px solid #000\">Services of clinical social worker in home health or hospice settings, each 15 minutes</td></tr><tr style=\"background-color: #fffaff\"><td style=\"border: 2px solid #000\">34</td><td style=\"border: 2px solid #000\">G0</td><td style=\"border: 2px solid #000\">G0156</td><td style=\"border: 2px solid #000\">SRVC HH/HOSPICE AIDE IN HH/HOSPICE SET EA 15 MIN</td><td style=\"border: 2px solid #000\">Services of home health/hospice aide in home health or hospice settings, each 15 minutes</td></tr><tr style=\"background-color: white\"><td style=\"border: 2px solid #000\">35</td><td style=\"border: 2px solid #000\">G0</td><td style=\"border: 2px solid #000\">G0157</td><td style=\"border: 2px solid #000\">SERVICES PT ASSIST HOME HEALTH/HOSPICE EA 15 MIN</td><td style=\"border: 2px solid #000\">Services performed by a qualified physical therapist assistant in the home health or hospice setting, each 15 minutes</td></tr><tr style=\"background-color: #fffaff\"><td style=\"border: 2px solid #000\">36</td><td style=\"border: 2px solid #000\">G0</td><td style=\"border: 2px solid #000\">G0158</td><td style=\"border: 2px solid #000\">SERVICE OT ASSIST HOME HEALTH/HOSPICE EA 15 MIN</td><td style=\"border: 2px solid #000\">Services performed by a qualified occupational therapist assistant in the home health or hospice setting, each 15 minutes</td></tr><tr style=\"background-color: white\"><td style=\"border: 2px solid #000\">37</td><td style=\"border: 2px solid #000\">G0</td><td style=\"border: 2px solid #000\">G0159</td><td style=\"border: 2px solid #000\">SERVICES PT HOME HEALTH EST/DEL PT MP EA 15 MINS</td><td style=\"border: 2px solid #000\">Services performed by a qualified physical therapist, in the home health setting, in the establishment or delivery of a safe and effective physical therapy maintenance program, each 15 minutes</td></tr><tr style=\"background-color: #fffaff\"><td style=\"border: 2px solid #000\">38</td><td style=\"border: 2px solid #000\">G0</td><td style=\"border: 2px solid #000\">G0160</td><td style=\"border: 2px solid #000\">SERVICES OT HOME HEALTH EST/DEL OT MP EA 15 MINS</td><td style=\"border: 2px solid #000\">Services performed by a qualified occupational therapist, in the home health setting, in the establishment or delivery of a safe and effective occupational therapy maintenance program, each 15 minutes</td></tr><tr style=\"background-color: white\"><td style=\"border: 2px solid #000\">39</td><td style=\"border: 2px solid #000\">G0</td><td style=\"border: 2px solid #000\">G0161</td><td style=\"border: 2px solid #000\">SERVICE SLP HH EST/DEL SPCH-LANG PATH MP EA 15 M</td><td style=\"border: 2px solid #000\">Services performed by a qualified speech-language pathologist, in the home health setting, in the establishment or delivery of a safe and effective speech-language pathology maintenance program, each 15 minutes</td></tr><tr style=\"background-color: #fffaff\"><td style=\"border: 2px solid #000\">40</td><td style=\"border: 2px solid #000\">G0</td><td style=\"border: 2px solid #000\">G0162</td><td style=\"border: 2px solid #000\">SKILLED SERVICE RN M&E PLAN OF CARE; EA 15 MINS</td><td style=\"border: 2px solid #000\">Skilled services by a registered nurse (RN) for management and evaluation of the plan of care; each 15 minutes (the patient's underlying condition or complication requires an RN to ensure that essential nonskilled care achieves its purpose in the home health or hospice setting)</td></tr><tr style=\"background-color: white\"><td style=\"border: 2px solid #000\">41</td><td style=\"border: 2px solid #000\">G0</td><td style=\"border: 2px solid #000\">G0163</td><td style=\"border: 2px solid #000\">SKILLED SERVICE LPN/RN OBS & ASSESS PT EA 15 MIN</td><td style=\"border: 2px solid #000\">Skilled services of a licensed nurse (LPN or RN) for the observation and assessment of the patient's condition, each 15 minutes (the change in the patient's condition requires skilled nursing personnel to identify and evaluate the patient's need for possible modification of treatment in the home health or hospice setting)</td></tr><tr style=\"background-color: #fffaff\"><td style=\"border: 2px solid #000\">42</td><td style=\"border: 2px solid #000\">G0</td><td style=\"border: 2px solid #000\">G0164</td><td style=\"border: 2px solid #000\">SKL SRVC LPN/RN TRN&/ED PT/FAM HH/HOSPICE 15 MIN</td><td style=\"border: 2px solid #000\">Skilled services of a licensed nurse (LPN or RN), in the training and/or education of a patient or family member, in the home health or hospice setting, each 15 minutes</td></tr><tr style=\"background-color: white\"><td style=\"border: 2px solid #000\">43</td><td style=\"border: 2px solid #000\">G0</td><td style=\"border: 2px solid #000\">G0166</td><td style=\"border: 2px solid #000\">EXTERNAL COUNTERPULSATION PER TREATMENT SESSION</td><td style=\"border: 2px solid #000\">External counterpulsation, per treatment session</td></tr><tr style=\"background-color: #fffaff\"><td style=\"border: 2px solid #000\">44</td><td style=\"border: 2px solid #000\">G0</td><td style=\"border: 2px solid #000\">G0168</td><td style=\"border: 2px solid #000\">WOUND CLOSURE UTILIZING TISSUE ADHESIVE ONLY</td><td style=\"border: 2px solid #000\">Wound closure utilizing tissue adhesive(s) only</td></tr><tr style=\"background-color: white\"><td style=\"border: 2px solid #000\">45</td><td style=\"border: 2px solid #000\">G0</td><td style=\"border: 2px solid #000\">G0173</td><td style=\"border: 2px solid #000\">Linear acc stereo radsur com</td><td style=\"border: 2px solid #000\">Linear acc stereo radsur com</td></tr><tr style=\"background-color: #fffaff\"><td style=\"border: 2px solid #000\">46</td><td style=\"border: 2px solid #000\">G0</td><td style=\"border: 2px solid #000\">G0175</td><td style=\"border: 2px solid #000\">SCHED INTERDISCIPLINARY TEAM CONF W/PT PRESENT</td><td style=\"border: 2px solid #000\">Scheduled interdisciplinary team conference (minimum of 3 exclusive of patient care nursing staff) with patient present</td></tr><tr style=\"background-color: white\"><td style=\"border: 2px solid #000\">47</td><td style=\"border: 2px solid #000\">G0</td><td style=\"border: 2px solid #000\">G0176</td><td style=\"border: 2px solid #000\">ACTV TX  REL CARE&TX PTS DISABL MENTL HLTH-SESS</td><td style=\"border: 2px solid #000\">Activity therapy, such as music, dance, art or play therapies not for recreation, related to the care and treatment of patient's disabling mental health problems, per session (45 minutes or more)</td></tr><tr style=\"background-color: #fffaff\"><td style=\"border: 2px solid #000\">48</td><td style=\"border: 2px solid #000\">G0</td><td style=\"border: 2px solid #000\">G0177</td><td style=\"border: 2px solid #000\">TRN&ED REL CARE&TX PTS DISABL MENTL HLTH-SESS</td><td style=\"border: 2px solid #000\">Training and educational services related to the care and treatment of patient's disabling mental health problems per session (45 minutes or more)</td></tr><tr style=\"background-color: white\"><td style=\"border: 2px solid #000\">49</td><td style=\"border: 2px solid #000\">G0</td><td style=\"border: 2px solid #000\">G0179</td><td style=\"border: 2px solid #000\">PHYS RE-CERT MCR-COVR HOM HLTH SRVC RE-CERT PRD</td><td style=\"border: 2px solid #000\">Physician re-certification for Medicare-covered home health services under a home health plan of care (patient not present), including contacts with home health agency and review of reports of patient status required by physicians to affirm the initial implementation of the plan of care that meets patient's needs, per re-certification period</td></tr><tr style=\"background-color: #fffaff\"><td style=\"border: 2px solid #000\">50</td><td style=\"border: 2px solid #000\">G0</td><td style=\"border: 2px solid #000\">G0180</td><td style=\"border: 2px solid #000\">PHYS CERT MCR-COVR HOM HLTH SRVC PER CERT PRD</td><td style=\"border: 2px solid #000\">Physician certification for Medicare-covered home health services under a home health plan of care (patient not present), including contacts with home health agency and review of reports of patient status required by physicians to affirm the initial implementation of the plan of care that meets patient's needs, per certification period</td></tr><tr style=\"background-color: white\"><td style=\"border: 2px solid #000\">51</td><td style=\"border: 2px solid #000\">G0</td><td style=\"border: 2px solid #000\">G0181</td><td style=\"border: 2px solid #000\">PHYS SUPV PT RECV MCR-COVR SRVC HOM HLTH AGCY</td><td style=\"border: 2px solid #000\">Physician supervision of a patient receiving Medicare-covered services provided by a participating home health agency (patient not present) requiring complex and multidisciplinary care modalities involving regular physician development and/or revision of care plans, review of subsequent reports of patient status, review of laboratory and other studies, communication (including telephone calls) with other health care professionals involved in the patient's care, integration of new information into the medical treatment plan and/or adjustment of medical therapy, within a calendar month, 30 minutes or more</td></tr><tr style=\"background-color: #fffaff\"><td style=\"border: 2px solid #000\">52</td><td style=\"border: 2px solid #000\">G0</td><td style=\"border: 2px solid #000\">G0182</td><td style=\"border: 2px solid #000\">PHYS SUPV PT UNDER MEDICARE-APPROVED HOSPICE</td><td style=\"border: 2px solid #000\">Physician supervision of a patient under a Medicare-approved hospice (patient not present) requiring complex and multidisciplinary care modalities involving regular physician development and/or revision of care plans, review of subsequent reports of patient status, review of laboratory and other studies, communication (including telephone calls) with other health care professionals involved in the patient's care, integration of new information into the medical treatment plan and/or adjustment of medical therapy, within a calendar month, 30 minutes or more</td></tr><tr style=\"background-color: white\"><td style=\"border: 2px solid #000\">53</td><td style=\"border: 2px solid #000\">G0</td><td style=\"border: 2px solid #000\">G0186</td><td style=\"border: 2px solid #000\">DESTRUC LOC LES CHOROID; PHOTOCOAG FDER VES TECH</td><td style=\"border: 2px solid #000\">Destruction of localized lesion of choroid (for example, choroidal neovascularization); photocoagulation, feeder vessel technique (one or more sessions)</td></tr><tr style=\"background-color: #fffaff\"><td style=\"border: 2px solid #000\">54</td><td style=\"border: 2px solid #000\">G0</td><td style=\"border: 2px solid #000\">G0202</td><td style=\"border: 2px solid #000\">SCREENING MAMMOGRAPHY BIL INCL CAD WHEN PERFORMD</td><td style=\"border: 2px solid #000\">Screening mammography, bilateral (2-view study of each breast), including computer-aided detection (CAD) when performed</td></tr><tr style=\"background-color: white\"><td style=\"border: 2px solid #000\">55</td><td style=\"border: 2px solid #000\">G0</td><td style=\"border: 2px solid #000\">G0204</td><td style=\"border: 2px solid #000\">DIAGNOSTIC MAMMOGRAPHY INCL CAD WHEN PERF; BILAT</td><td style=\"border: 2px solid #000\">Diagnostic mammography, including computer-aided detection (CAD) when performed; bilateral</td></tr><tr style=\"background-color: #fffaff\"><td style=\"border: 2px solid #000\">56</td><td style=\"border: 2px solid #000\">G0</td><td style=\"border: 2px solid #000\">G0206</td><td style=\"border: 2px solid #000\">DIAGNOSTIC MAMMOGRAPHY INCL CAD WHEN PERF; UNI</td><td style=\"border: 2px solid #000\">Diagnostic mammography, including computer-aided detection (CAD) when performed; unilateral</td></tr><tr style=\"background-color: white\"><td style=\"border: 2px solid #000\">57</td><td style=\"border: 2px solid #000\">G0</td><td style=\"border: 2px solid #000\">G0219</td><td style=\"border: 2px solid #000\">PET IMAG WHOLE BODY; MELANOMA NON-COVR INDICATS</td><td style=\"border: 2px solid #000\">PET imaging whole body; melanoma for noncovered indications</td></tr><tr style=\"background-color: #fffaff\"><td style=\"border: 2px solid #000\">58</td><td style=\"border: 2px solid #000\">G0</td><td style=\"border: 2px solid #000\">G0235</td><td style=\"border: 2px solid #000\">PET IMAGING ANY SITE NOT OTHERWISE SPECIFIED</td><td style=\"border: 2px solid #000\">PET imaging, any site, not otherwise specified</td></tr><tr style=\"background-color: white\"><td style=\"border: 2px solid #000\">59</td><td style=\"border: 2px solid #000\">G0</td><td style=\"border: 2px solid #000\">G0237</td><td style=\"border: 2px solid #000\">MUSCLES FACE TO FACE ONE ON ONE EACH 15 MINUTES</td><td style=\"border: 2px solid #000\">Therapeutic procedures to increase strength or endurance of respiratory muscles, face-to-face, one-on-one, each 15 minutes (includes monitoring)</td></tr><tr style=\"background-color: #fffaff\"><td style=\"border: 2px solid #000\">60</td><td style=\"border: 2px solid #000\">G0</td><td style=\"border: 2px solid #000\">G0238</td><td style=\"border: 2px solid #000\">TX PROC IMPRV RESP FUNCT NOT G0237 FCE-FCE 15MIN</td><td style=\"border: 2px solid #000\">Therapeutic procedures to improve respiratory function, other than described by G0237, one-on-one, face-to-face, per 15 minutes (includes monitoring)</td></tr><tr style=\"background-color: white\"><td style=\"border: 2px solid #000\">61</td><td style=\"border: 2px solid #000\">G0</td><td style=\"border: 2px solid #000\">G0239</td><td style=\"border: 2px solid #000\">TX PROC IMPRV RESP FUNCT/INCR RESP MUSC 2/&gt; IND</td><td style=\"border: 2px solid #000\">Therapeutic procedures to improve respiratory function or increase strength or endurance of respiratory muscles, 2 or more individuals (includes monitoring)</td></tr><tr style=\"background-color: #fffaff\"><td style=\"border: 2px solid #000\">62</td><td style=\"border: 2px solid #000\">G0</td><td style=\"border: 2px solid #000\">G0245</td><td style=\"border: 2px solid #000\">INITIAL PHYS E&M DIABETIC NEUROPATHY W/LOPS</td><td style=\"border: 2px solid #000\">Initial physician evaluation and management of a diabetic patient with diabetic sensory neuropathy resulting in a loss of protective sensation (LOPS) which must include: (1) the diagnosis of LOPS, (2) a patient history, (3) a physical examination that consists of at least the following elements: (a) visual inspection of the forefoot, hindfoot, and toe web spaces, (b) evaluation of a protective sensation, (c) evaluation of foot structure and biomechanics, (d) evaluation of vascular status and skin integrity, and (e) evaluation and recommendation of footwear, and (4) patient education</td></tr><tr style=\"background-color: white\"><td style=\"border: 2px solid #000\">63</td><td style=\"border: 2px solid #000\">G0</td><td style=\"border: 2px solid #000\">G0246</td><td style=\"border: 2px solid #000\">FOLLOWUP EVAL DIABETIC PT NEUROPATHY W/LOPS</td><td style=\"border: 2px solid #000\">Follow-up physician evaluation and management of a diabetic patient with diabetic sensory neuropathy resulting in a loss of protective sensation (LOPS) to include at least the following: (1) a patient history, (2) a physical examination that includes: (a) visual inspection of the forefoot, hindfoot, and toe web spaces, (b) evaluation of protective sensation, (c) evaluation of foot structure and biomechanics, (d) evaluation of vascular status and skin integrity, and (e) evaluation and recommendation of footwear, and (3) patient education</td></tr><tr style=\"background-color: #fffaff\"><td style=\"border: 2px solid #000\">64</td><td style=\"border: 2px solid #000\">G0</td><td style=\"border: 2px solid #000\">G0247</td><td style=\"border: 2px solid #000\">ROUTINE FOOT CARE BY PHYS OF DIABETIC PT W/LOPS</td><td style=\"border: 2px solid #000\">Routine foot care by a physician of a diabetic patient with diabetic sensory neuropathy resulting in a loss of protective sensation (LOPS) to include the local care of superficial wounds (i.e., superficial to muscle and fascia) and at least the following, if present: (1) local care of superficial wounds, (2) debridement of corns and calluses, and (3) trimming and debridement of nails</td></tr><tr style=\"background-color: white\"><td style=\"border: 2px solid #000\">65</td><td style=\"border: 2px solid #000\">G0</td><td style=\"border: 2px solid #000\">G0248</td><td style=\"border: 2px solid #000\">DEMO HOME INR MON PT W/MECH HT VALVE CAF/VTE</td><td style=\"border: 2px solid #000\">Demonstration, prior to initiation of home INR monitoring, for patient with either mechanical heart valve(s), chronic atrial fibrillation, or venous thromboembolism who meets Medicare coverage criteria, under the direction of a physician; includes: face-to-face demonstration of use and care of the INR monitor, obtaining at least one blood sample, provision of instructions for reporting home INR test results, and documentation of patient's ability to perform testing and report results</td></tr><tr style=\"background-color: #fffaff\"><td style=\"border: 2px solid #000\">66</td><td style=\"border: 2px solid #000\">G0</td><td style=\"border: 2px solid #000\">G0249</td><td style=\"border: 2px solid #000\">PRVS TEST MATL & EQUIP HOME INR MON; ONCE A WEEK</td><td style=\"border: 2px solid #000\">Provision of test materials and equipment for home INR monitoring of patient with either mechanical heart valve(s), chronic atrial fibrillation, or venous thromboembolism who meets Medicare coverage criteria; includes: provision of materials for use in the home and reporting of test results to physician; testing not occurring more frequently than once a week; testing materials, billing units of service include 4 tests</td></tr><tr style=\"background-color: white\"><td style=\"border: 2px solid #000\">67</td><td style=\"border: 2px solid #000\">G0</td><td style=\"border: 2px solid #000\">G0250</td><td style=\"border: 2px solid #000\">PHYS REV INTEPR & PT MGMT HOME INR MON; 1 A WEEK</td><td style=\"border: 2px solid #000\">Physician review, interpretation, and patient management of home INR testing for patient with either mechanical heart valve(s), chronic atrial fibrillation, or venous thromboembolism who meets Medicare coverage criteria; testing not occurring more frequently than once a week; billing units of service include 4 tests</td></tr><tr style=\"background-color: #fffaff\"><td style=\"border: 2px solid #000\">68</td><td style=\"border: 2px solid #000\">G0</td><td style=\"border: 2px solid #000\">G0251</td><td style=\"border: 2px solid #000\">Linear acc based stero radio</td><td style=\"border: 2px solid #000\">Linear acc based stero radio</td></tr><tr style=\"background-color: white\"><td style=\"border: 2px solid #000\">69</td><td style=\"border: 2px solid #000\">G0</td><td style=\"border: 2px solid #000\">G0252</td><td style=\"border: 2px solid #000\">PET IMAG INIT DX BREST CA&/SURG PLAN NOT COV MCR</td><td style=\"border: 2px solid #000\">PET imaging, full and partial-ring PET scanners only, for initial diagnosis of breast cancer and/or surgical planning for breast cancer (e.g., initial staging of axillary lymph nodes)</td></tr><tr style=\"background-color: #fffaff\"><td style=\"border: 2px solid #000\">70</td><td style=\"border: 2px solid #000\">G0</td><td style=\"border: 2px solid #000\">G0255</td><td style=\"border: 2px solid #000\">CURRNT PERCEPT THRESHOLD/SNCT PER LIMB ANY NERVE</td><td style=\"border: 2px solid #000\">Current perception threshold/sensory nerve conduction test, (SNCT) per limb, any nerve</td></tr><tr style=\"background-color: white\"><td style=\"border: 2px solid #000\">71</td><td style=\"border: 2px solid #000\">G0</td><td style=\"border: 2px solid #000\">G0257</td><td style=\"border: 2px solid #000\">UNSCHD/EMERG DIALYSIS TX ESRD PT HOS OP NOT CERT</td><td style=\"border: 2px solid #000\">Unscheduled or emergency dialysis treatment for an ESRD patient in a hospital outpatient department that is not certified as an ESRD facility</td></tr><tr style=\"background-color: #fffaff\"><td style=\"border: 2px solid #000\">72</td><td style=\"border: 2px solid #000\">G0</td><td style=\"border: 2px solid #000\">G0259</td><td style=\"border: 2px solid #000\">INJECTION PROCEDURE FOR SI JNT; ARTHROGRAPY</td><td style=\"border: 2px solid #000\">Injection procedure for sacroiliac joint; arthrography</td></tr><tr style=\"background-color: white\"><td style=\"border: 2px solid #000\">73</td><td style=\"border: 2px solid #000\">G0</td><td style=\"border: 2px solid #000\">G0260</td><td style=\"border: 2px solid #000\">INJ PROC SI JNT;ANES STEROID&/TX AGT&ARTHROGRPH</td><td style=\"border: 2px solid #000\">Injection procedure for sacroiliac joint; provision of anesthetic, steroid and/or other therapeutic agent, with or without arthrography</td></tr><tr style=\"background-color: #fffaff\"><td style=\"border: 2px solid #000\">74</td><td style=\"border: 2px solid #000\">G0</td><td style=\"border: 2px solid #000\">G0268</td><td style=\"border: 2px solid #000\">REMV IMP CERUMEN PHYS SAME DATE AUDIO FUNCT TST</td><td style=\"border: 2px solid #000\">Removal of impacted cerumen (one or both ears) by physician on same date of service as audiologic function testing</td></tr><tr style=\"background-color: white\"><td style=\"border: 2px solid #000\">75</td><td style=\"border: 2px solid #000\">G0</td><td style=\"border: 2px solid #000\">G0269</td><td style=\"border: 2px solid #000\">PLCMT OCCL DEVC VENUS/ART POST SURG/INTRVNL PROC</td><td style=\"border: 2px solid #000\">Placement of occlusive device into either a venous or arterial access site, postsurgical or interventional procedure (e.g., angioseal plug, vascular plug)</td></tr><tr style=\"background-color: #fffaff\"><td style=\"border: 2px solid #000\">76</td><td style=\"border: 2px solid #000\">G0</td><td style=\"border: 2px solid #000\">G0270</td><td style=\"border: 2px solid #000\">MED NUT TX; REASSESS FLW 2 REF YR W/PT EA 15 MIN</td><td style=\"border: 2px solid #000\">Medical nutrition therapy; reassessment and subsequent intervention(s) following second referral in same year for change in diagnosis, medical condition or treatment regimen (including additional hours needed for renal disease), individual, face-to-face with the patient, each 15 minutes</td></tr><tr style=\"background-color: white\"><td style=\"border: 2px solid #000\">77</td><td style=\"border: 2px solid #000\">G0</td><td style=\"border: 2px solid #000\">G0271</td><td style=\"border: 2px solid #000\">MED NUT TX REASSESS FLW 2 REF YR GRP EA 30 MIN</td><td style=\"border: 2px solid #000\">Medical nutrition therapy, reassessment and subsequent intervention(s) following second referral in same year for change in diagnosis, medical condition, or treatment regimen (including additional hours needed for renal disease), group (2 or more individuals), each 30 minutes</td></tr><tr style=\"background-color: #fffaff\"><td style=\"border: 2px solid #000\">78</td><td style=\"border: 2px solid #000\">G0</td><td style=\"border: 2px solid #000\">G0275</td><td style=\"border: 2px solid #000\">\"Renal angio, cardiac cath\"</td><td style=\"border: 2px solid #000\">\"Renal angio, cardiac cath\"</td></tr><tr style=\"background-color: white\"><td style=\"border: 2px solid #000\">79</td><td style=\"border: 2px solid #000\">G0</td><td style=\"border: 2px solid #000\">G0276</td><td style=\"border: 2px solid #000\">PILD/PLACEBO CONTROL CLIN TR</td><td style=\"border: 2px solid #000\">Blinded procedure for lumbar stenosis,  percutaneous image-guided lumbar decompression (PILD) or placebo-control, performed in an approved coverage with evidence development (CED) clinical trial</td></tr><tr style=\"background-color: #fffaff\"><td style=\"border: 2px solid #000\">80</td><td style=\"border: 2px solid #000\">G0</td><td style=\"border: 2px solid #000\">G0277</td><td style=\"border: 2px solid #000\">HPO UND PRESS FULL BODY CHMBR PER 30 MIN INT</td><td style=\"border: 2px solid #000\">Hyperbaric oxygen under pressure, full body chamber, per 30 minute interval</td></tr><tr style=\"background-color: white\"><td style=\"border: 2px solid #000\">81</td><td style=\"border: 2px solid #000\">G0</td><td style=\"border: 2px solid #000\">G0278</td><td style=\"border: 2px solid #000\">ILIAC&/FEM ART ANGIO NONSEL AT TIME CARD CATH</td><td style=\"border: 2px solid #000\">Iliac and/or femoral artery angiography, nonselective, bilateral or ipsilateral to catheter insertion, performed at the same time as cardiac catheterization and/or coronary angiography, includes positioning or placement of the catheter in the distal aorta or ipsilateral femoral or iliac artery, injection of dye, production of permanent images, and radiologic supervision and interpretation (List separately in addition to primary procedure)</td></tr><tr style=\"background-color: #fffaff\"><td style=\"border: 2px solid #000\">82</td><td style=\"border: 2px solid #000\">G0</td><td style=\"border: 2px solid #000\">G0279</td><td style=\"border: 2px solid #000\">DIAGNOSTIC DIGITAL BREAST TOMOSYNTHESIS UNI/BIL</td><td style=\"border: 2px solid #000\">Diagnostic digital breast tomosynthesis, unilateral or bilateral (List separately in addition to G0204 or G0206)</td></tr><tr style=\"background-color: white\"><td style=\"border: 2px solid #000\">83</td><td style=\"border: 2px solid #000\">G0</td><td style=\"border: 2px solid #000\">G0281</td><td style=\"border: 2px solid #000\">E-STIM 1/&gt; AREAS CHRONIC STAGE III&IV ULCERS</td><td style=\"border: 2px solid #000\">Electrical stimulation, (unattended), to one or more areas, for chronic Stage III and Stage IV pressure ulcers, arterial ulcers, diabetic ulcers, and venous stasis ulcers not demonstrating measurable signs of healing after 30 days of conventional care, as part of a therapy plan of care</td></tr><tr style=\"background-color: #fffaff\"><td style=\"border: 2px solid #000\">84</td><td style=\"border: 2px solid #000\">G0</td><td style=\"border: 2px solid #000\">G0282</td><td style=\"border: 2px solid #000\">E-STIM 1/MORE AREAS WND CARE OTH THAN DESC G0281</td><td style=\"border: 2px solid #000\">Electrical stimulation, (unattended), to one or more areas, for wound care other than described in G0281</td></tr><tr style=\"background-color: white\"><td style=\"border: 2px solid #000\">85</td><td style=\"border: 2px solid #000\">G0</td><td style=\"border: 2px solid #000\">G0283</td><td style=\"border: 2px solid #000\">E-STIM 1/&gt; AREAS OTH THAN WND CARE PART TX PLAN</td><td style=\"border: 2px solid #000\">Electrical stimulation (unattended), to one or more areas for indication(s) other than wound care, as part of a therapy plan of care</td></tr><tr style=\"background-color: #fffaff\"><td style=\"border: 2px solid #000\">86</td><td style=\"border: 2px solid #000\">G0</td><td style=\"border: 2px solid #000\">G0288</td><td style=\"border: 2px solid #000\">RECON CT ANGIO AORTA SURG PLANNING VASC SURG</td><td style=\"border: 2px solid #000\">Reconstruction, computed tomographic angiography of aorta for surgical planning for vascular surgery</td></tr><tr style=\"background-color: white\"><td style=\"border: 2px solid #000\">87</td><td style=\"border: 2px solid #000\">G0</td><td style=\"border: 2px solid #000\">G0289</td><td style=\"border: 2px solid #000\">SCOPE KNEE REMV FB/SHAV TM OTH SURG DIFF CMPRTMT</td><td style=\"border: 2px solid #000\">Arthroscopy, knee, surgical, for removal of loose body, foreign body, debridement/shaving of articular cartilage (chondroplasty) at the time of other surgical knee arthroscopy in a different compartment of the same knee</td></tr><tr style=\"background-color: #fffaff\"><td style=\"border: 2px solid #000\">88</td><td style=\"border: 2px solid #000\">G0</td><td style=\"border: 2px solid #000\">G0290</td><td style=\"border: 2px solid #000\">\"Drug-eluting stents, single\"</td><td style=\"border: 2px solid #000\">\"Drug-eluting stents, single\"</td></tr><tr style=\"background-color: white\"><td style=\"border: 2px solid #000\">89</td><td style=\"border: 2px solid #000\">G0</td><td style=\"border: 2px solid #000\">G0291</td><td style=\"border: 2px solid #000\">\"Drug-eluting stents,each add\"</td><td style=\"border: 2px solid #000\">\"Drug-eluting stents,each add\"</td></tr><tr style=\"background-color: #fffaff\"><td style=\"border: 2px solid #000\">90</td><td style=\"border: 2px solid #000\">G0</td><td style=\"border: 2px solid #000\">G0293</td><td style=\"border: 2px solid #000\">NONCOVR SURG CONSC SEDAT ANES-MCR QUAL TRIAL-DAY</td><td style=\"border: 2px solid #000\">Noncovered surgical procedure(s) using conscious sedation, regional, general, or spinal anesthesia in a Medicare qualifying clinical trial, per day</td></tr><tr style=\"background-color: white\"><td style=\"border: 2px solid #000\">91</td><td style=\"border: 2px solid #000\">G0</td><td style=\"border: 2px solid #000\">G0294</td><td style=\"border: 2px solid #000\">NONCOVR PROC NO ANES/LOC ANES-MCR QUAL TRIAL-DAY</td><td style=\"border: 2px solid #000\">Noncovered procedure(s) using either no anesthesia or local anesthesia only, in a Medicare qualifying clinical trial, per day</td></tr><tr style=\"background-color: #fffaff\"><td style=\"border: 2px solid #000\">92</td><td style=\"border: 2px solid #000\">G0</td><td style=\"border: 2px solid #000\">G0295</td><td style=\"border: 2px solid #000\">ELECMAGNET TX 1/&gt;AREA WND CARE NOT G0329/OTH USE</td><td style=\"border: 2px solid #000\">Electromagnetic therapy, to one or more areas, for wound care other than described in G0329 or for other uses</td></tr><tr style=\"background-color: white\"><td style=\"border: 2px solid #000\">93</td><td style=\"border: 2px solid #000\">G0</td><td style=\"border: 2px solid #000\">G0296</td><td style=\"border: 2px solid #000\">CNSL VISIT DISCUSS LDCT USING LOW DOSE CT SCAN</td><td style=\"border: 2px solid #000\">Counseling visit to discuss need for lung cancer screening using low dose CT scan (LDCT) (service is for eligibility determination and shared decision making)</td></tr><tr style=\"background-color: #fffaff\"><td style=\"border: 2px solid #000\">94</td><td style=\"border: 2px solid #000\">G0</td><td style=\"border: 2px solid #000\">G0297</td><td style=\"border: 2px solid #000\">LOW DOSE CT SCAN FOR LUNG CANCER SCREENING</td><td style=\"border: 2px solid #000\">Low dose CT scan (LDCT) for lung cancer screening</td></tr><tr style=\"background-color: white\"><td style=\"border: 2px solid #000\">95</td><td style=\"border: 2px solid #000\">G0</td><td style=\"border: 2px solid #000\">G0299</td><td style=\"border: 2px solid #000\">DIRECT SNS RN HOME HEALTH/HOSPICE SET EA 15 MIN</td><td style=\"border: 2px solid #000\">Direct skilled nursing services of a registered nurse (RN) in the home health or hospice setting, each 15 minutes</td></tr><tr style=\"background-color: #fffaff\"><td style=\"border: 2px solid #000\">96</td><td style=\"border: 2px solid #000\">G0</td><td style=\"border: 2px solid #000\">G0300</td><td style=\"border: 2px solid #000\">DIRECT SNS LPN HOME HLTH/HOSPICE SET EA 15 MIN</td><td style=\"border: 2px solid #000\">Direct skilled nursing services of a licensed practical nurse (LPN) in the home health or hospice setting, each 15 minutes</td></tr><tr style=\"background-color: white\"><td style=\"border: 2px solid #000\">97</td><td style=\"border: 2px solid #000\">G0</td><td style=\"border: 2px solid #000\">G0302</td><td style=\"border: 2px solid #000\">PRE-OP PULM SURG SRVC PREP LVRS CMPL COURSE SRVC</td><td style=\"border: 2px solid #000\">Preoperative pulmonary surgery services for preparation for LVRS, complete course of services, to include a minimum of 16 days of services</td></tr><tr style=\"background-color: #fffaff\"><td style=\"border: 2px solid #000\">98</td><td style=\"border: 2px solid #000\">G0</td><td style=\"border: 2px solid #000\">G0303</td><td style=\"border: 2px solid #000\">PRE-OP PULM SURG SRVC PREP LVRS 10-15 DA SRVC</td><td style=\"border: 2px solid #000\">Preoperative pulmonary surgery services for preparation for LVRS, 10 to 15 days of services</td></tr><tr style=\"background-color: white\"><td style=\"border: 2px solid #000\">99</td><td style=\"border: 2px solid #000\">G0</td><td style=\"border: 2px solid #000\">G0304</td><td style=\"border: 2px solid #000\">PRE-OP PULM SURG PREP LVRS 1-9 DA SRVC</td><td style=\"border: 2px solid #000\">Preoperative pulmonary surgery services for preparation for LVRS, 1 to 9 days of services</td></tr><tr style=\"background-color: #fffaff\"><td style=\"border: 2px solid #000\">100</td><td style=\"border: 2px solid #000\">G0</td><td style=\"border: 2px solid #000\">G0305</td><td style=\"border: 2px solid #000\">POST-D/C PULM SURG AFTER LVRS MINI 6 DAYS SRVC</td><td style=\"border: 2px solid #000\">Postdischarge pulmonary surgery services after LVRS, minimum of 6 days of services</td></tr><tr style=\"background-color: white\"><td style=\"border: 2px solid #000\">101</td><td style=\"border: 2px solid #000\">G0</td><td style=\"border: 2px solid #000\">G0306</td><td style=\"border: 2px solid #000\">COMPLETE CBC AUTOMATED&AUTOMATED WBC DIFF COUNT</td><td style=\"border: 2px solid #000\">Complete CBC, automated (HgB, HCT, RBC, WBC, without platelet count) and automated WBC differential count</td></tr><tr style=\"background-color: #fffaff\"><td style=\"border: 2px solid #000\">102</td><td style=\"border: 2px solid #000\">G0</td><td style=\"border: 2px solid #000\">G0307</td><td style=\"border: 2px solid #000\">COMPLETE CBC AUTOMATED</td><td style=\"border: 2px solid #000\">Complete (CBC), automated (HgB, Hct, RBC, WBC; without platelet count)</td></tr><tr style=\"background-color: white\"><td style=\"border: 2px solid #000\">103</td><td style=\"border: 2px solid #000\">G0</td><td style=\"border: 2px solid #000\">G0328</td><td style=\"border: 2px solid #000\">COLOREC CA SCR; FOB TST IMMUNO 1-3 SIMULTANEOUS</td><td style=\"border: 2px solid #000\">Colorectal cancer screening; fecal occult blood test, immunoassay, 1-3 simultaneous determinations</td></tr><tr style=\"background-color: #fffaff\"><td style=\"border: 2px solid #000\">104</td><td style=\"border: 2px solid #000\">G0</td><td style=\"border: 2px solid #000\">G0329</td><td style=\"border: 2px solid #000\">ELECMAGNET TX ULCERS NOT HEALING 30 DAYS CARE</td><td style=\"border: 2px solid #000\">Electromagnetic therapy, to one or more areas for chronic Stage III and Stage IV pressure ulcers, arterial ulcers, diabetic ulcers and venous stasis ulcers not demonstrating measurable signs of healing after 30 days of conventional care as part of a therapy plan of care</td></tr><tr style=\"background-color: white\"><td style=\"border: 2px solid #000\">105</td><td style=\"border: 2px solid #000\">G0</td><td style=\"border: 2px solid #000\">G0333</td><td style=\"border: 2px solid #000\">PHARM DISPEN FEE INHAL RX; INITIAL 30-DAY SUPPLY</td><td style=\"border: 2px solid #000\">Pharmacy dispensing fee for inhalation drug(s); initial 30-day supply as a beneficiary</td></tr><tr style=\"background-color: #fffaff\"><td style=\"border: 2px solid #000\">106</td><td style=\"border: 2px solid #000\">G0</td><td style=\"border: 2px solid #000\">G0337</td><td style=\"border: 2px solid #000\">HOSPICE EVALUATION & CNSL SERVICES PREELECTION</td><td style=\"border: 2px solid #000\">Hospice evaluation and counseling services, preelection</td></tr><tr style=\"background-color: white\"><td style=\"border: 2px solid #000\">107</td><td style=\"border: 2px solid #000\">G0</td><td style=\"border: 2px solid #000\">G0339</td><td style=\"border: 2px solid #000\">IMAGE GUID ROBOTIC ACCEL BASE SRS CMPL TX 1 SESS</td><td style=\"border: 2px solid #000\">Image guided robotic linear accelerator-based stereotactic radiosurgery, complete course of therapy in one session or first session of fractionated treatment</td></tr><tr style=\"background-color: #fffaff\"><td style=\"border: 2px solid #000\">108</td><td style=\"border: 2px solid #000\">G0</td><td style=\"border: 2px solid #000\">G0340</td><td style=\"border: 2px solid #000\">IMAGE GUID ROBOTIC ACCL SRS FRAC TX LES 2-5 SESS</td><td style=\"border: 2px solid #000\">Image guided robotic linear accelerator-based stereotactic radiosurgery, delivery including collimator changes and custom plugging, fractionated treatment, all lesions, per session, second through fifth sessions, maximum 5 sessions per course of treatment</td></tr><tr style=\"background-color: white\"><td style=\"border: 2px solid #000\">109</td><td style=\"border: 2px solid #000\">G0</td><td style=\"border: 2px solid #000\">G0341</td><td style=\"border: 2px solid #000\">PERQ ISLET CELL TPLNT INCL PORTL VEIN CATH&INFUS</td><td style=\"border: 2px solid #000\">Percutaneous islet cell transplant, includes portal vein catheterization and infusion</td></tr><tr style=\"background-color: #fffaff\"><td style=\"border: 2px solid #000\">110</td><td style=\"border: 2px solid #000\">G0</td><td style=\"border: 2px solid #000\">G0342</td><td style=\"border: 2px solid #000\">LAP ISLET CELL TPLNT INCL PORTAL VEIN CATH&INFUS</td><td style=\"border: 2px solid #000\">Laparoscopy for islet cell transplant, includes portal vein catheterization and infusion</td></tr><tr style=\"background-color: white\"><td style=\"border: 2px solid #000\">111</td><td style=\"border: 2px solid #000\">G0</td><td style=\"border: 2px solid #000\">G0343</td><td style=\"border: 2px solid #000\">LAPAROT ISLET CELL TPLNT W/PORTL VEIN CATH&INFUS</td><td style=\"border: 2px solid #000\">Laparotomy for islet cell transplant, includes portal vein catheterization and infusion</td></tr><tr style=\"background-color: #fffaff\"><td style=\"border: 2px solid #000\">112</td><td style=\"border: 2px solid #000\">G0</td><td style=\"border: 2px solid #000\">G0364</td><td style=\"border: 2px solid #000\">BN MARROW ASPIR PRFRM W/BX SAME INCI SAME DOS</td><td style=\"border: 2px solid #000\">Bone marrow aspiration performed with bone marrow biopsy through the same incision on the same date of service</td></tr><tr style=\"background-color: white\"><td style=\"border: 2px solid #000\">113</td><td style=\"border: 2px solid #000\">G0</td><td style=\"border: 2px solid #000\">G0365</td><td style=\"border: 2px solid #000\">VESSEL MAPPING OF VESSELS FOR HEMODIALYSIS ACESS</td><td style=\"border: 2px solid #000\">Vessel mapping of vessels for hemodialysis access (services for preoperative vessel mapping prior to creation of hemodialysis access using an autogenous hemodialysis conduit, including arterial inflow and venous outflow)</td></tr><tr style=\"background-color: #fffaff\"><td style=\"border: 2px solid #000\">114</td><td style=\"border: 2px solid #000\">G0</td><td style=\"border: 2px solid #000\">G0372</td><td style=\"border: 2px solid #000\">PHYS SRVC RQR TO EST & DOC NEED PWR MOBIL DEVC</td><td style=\"border: 2px solid #000\">Physician service required to establish and document the need for a power mobility device</td></tr><tr style=\"background-color: white\"><td style=\"border: 2px solid #000\">115</td><td style=\"border: 2px solid #000\">G0</td><td style=\"border: 2px solid #000\">G0378</td><td style=\"border: 2px solid #000\">HOSPITAL OBSERVATION SERVICE PER HOUR</td><td style=\"border: 2px solid #000\">Hospital observation service, per hour</td></tr><tr style=\"background-color: #fffaff\"><td style=\"border: 2px solid #000\">116</td><td style=\"border: 2px solid #000\">G0</td><td style=\"border: 2px solid #000\">G0379</td><td style=\"border: 2px solid #000\">DIRECT ADMISSION PATIENT HOSPITAL OBSERV CARE</td><td style=\"border: 2px solid #000\">Direct admission of patient for hospital observation care</td></tr><tr style=\"background-color: white\"><td style=\"border: 2px solid #000\">117</td><td style=\"border: 2px solid #000\">G0</td><td style=\"border: 2px solid #000\">G0380</td><td style=\"border: 2px solid #000\">LEVEL 1 HOSPITAL EMERGENCY DEPT VISIT TYPE B ED;</td><td style=\"border: 2px solid #000\">Level 1 hospital emergency department visit provided in a type B emergency department; (the ED must meet at least one of the following requirements: (1) it is licensed by the state in which it is located under applicable state law as an emergency room or emergency department; (2) it is held out to the public (by name, posted signs, advertising, or other means) as a place that provides care for emergency medical conditions on an urgent basis without requiring a previously scheduled appointment; or (3) during the calendar year immediately preceding the calendar year in which a determination under 42 CFR 489.24 is being made, based on a representative sample of patient visits that occurred during that calendar year, it provides at least one-third of all of its outpatient visits for the treatment of emergency medical conditions on an urgent basis without requiring a previously scheduled appointment)</td></tr><tr style=\"background-color: #fffaff\"><td style=\"border: 2px solid #000\">118</td><td style=\"border: 2px solid #000\">G0</td><td style=\"border: 2px solid #000\">G0381</td><td style=\"border: 2px solid #000\">LEVEL 2 HOSPITAL EMERGENCY DEPT VISIT TYPE B ED;</td><td style=\"border: 2px solid #000\">Level 2 hospital emergency department visit provided in a type B emergency department; (the ED must meet at least one of the following requirements: (1) it is licensed by the state in which it is located under applicable state law as an emergency room or emergency department; (2) it is held out to the public (by name, posted signs, advertising, or other means) as a place that provides care for emergency medical conditions on an urgent basis without requiring a previously scheduled appointment; or (3) during the calendar year immediately preceding the calendar year in which a determination under 42 CFR 489.24 is being made, based on a representative sample of patient visits that occurred during that calendar year, it provides at least one-third of all of its outpatient visits for the treatment of emergency medical conditions on an urgent basis without requiring a previously scheduled appointment)</td></tr><tr style=\"background-color: white\"><td style=\"border: 2px solid #000\">119</td><td style=\"border: 2px solid #000\">G0</td><td style=\"border: 2px solid #000\">G0382</td><td style=\"border: 2px solid #000\">LEVEL 3 HOSPITAL EMERGENCY DEPT VISIT TYPE B ED;</td><td style=\"border: 2px solid #000\">Level 3 hospital emergency department visit provided in a type B emergency department; (the ED must meet at least one of the following requirements: (1) it is licensed by the state in which it is located under applicable state law as an emergency room or emergency department; (2) it is held out to the public (by name, posted signs, advertising, or other means) as a place that provides care for emergency medical conditions on an urgent basis without requiring a previously scheduled appointment; or (3) during the calendar year immediately preceding the calendar year in which a determination under 42 CFR 489.24 is being made, based on a representative sample of patient visits that occurred during that calendar year, it provides at least one-third of all of its outpatient visits for the treatment of emergency medical conditions on an urgent basis without requiring a previously scheduled appointment)</td></tr><tr style=\"background-color: #fffaff\"><td style=\"border: 2px solid #000\">120</td><td style=\"border: 2px solid #000\">G0</td><td style=\"border: 2px solid #000\">G0383</td><td style=\"border: 2px solid #000\">LEVEL 4 HOSPITAL EMERGENCY DEPT VISIT TYPE B ED;</td><td style=\"border: 2px solid #000\">Level 4 hospital emergency department visit provided in a type B emergency department; (the ED must meet at least one of the following requirements: (1) it is licensed by the state in which it is located under applicable state law as an emergency room or emergency department; (2) it is held out to the public (by name, posted signs, advertising, or other means) as a place that provides care for emergency medical conditions on an urgent basis without requiring a previously scheduled appointment; or (3) during the calendar year immediately preceding the calendar year in which a determination under 42 CFR 489.24 is being made, based on a representative sample of patient visits that occurred during that calendar year, it provides at least one-third of all of its outpatient visits for the treatment of emergency medical conditions on an urgent basis without requiring a previously scheduled appointment)</td></tr><tr style=\"background-color: white\"><td style=\"border: 2px solid #000\">121</td><td style=\"border: 2px solid #000\">G0</td><td style=\"border: 2px solid #000\">G0384</td><td style=\"border: 2px solid #000\">LEVEL 5 HOSPITAL EMERGENCY DEPT VISIT TYPE B ED;</td><td style=\"border: 2px solid #000\">Level 5 hospital emergency department visit provided in a type B emergency department; (the ED must meet at least one of the following requirements: (1) it is licensed by the state in which it is located under applicable state law as an emergency room or emergency department; (2) it is held out to the public (by name, posted signs, advertising, or other means) as a place that provides care for emergency medical conditions on an urgent basis without requiring a previously scheduled appointment; or (3) during the calendar year immediately preceding the calendar year in which a determination under 42 CFR 489.24 is being made, based on a representative sample of patient visits that occurred during that calendar year, it provides at least one-third of all of its outpatient visits for the treatment of emergency medical conditions on an urgent basis without requiring a previously scheduled appointment)</td></tr><tr style=\"background-color: #fffaff\"><td style=\"border: 2px solid #000\">122</td><td style=\"border: 2px solid #000\">G0</td><td style=\"border: 2px solid #000\">G0389</td><td style=\"border: 2px solid #000\">US B-SCAN &/OR REAL TIME W/IMAG DOC; AAA SCREEN</td><td style=\"border: 2px solid #000\">Ultrasound B-scan and/or real time with image documentation; for abdominal aortic aneurysm (AAA) screening</td></tr><tr style=\"background-color: white\"><td style=\"border: 2px solid #000\">123</td><td style=\"border: 2px solid #000\">G0</td><td style=\"border: 2px solid #000\">G0390</td><td style=\"border: 2px solid #000\">TRAUMA RESPONSE TEAM ASSOC W/HOSP CC SERVICE</td><td style=\"border: 2px solid #000\">Trauma response team associated with hospital critical care service</td></tr><tr style=\"background-color: #fffaff\"><td style=\"border: 2px solid #000\">124</td><td style=\"border: 2px solid #000\">G0</td><td style=\"border: 2px solid #000\">G0396</td><td style=\"border: 2px solid #000\">ALCOHOL &/SUBSTANCE ABUSE ASSESSMENT 15-30 MIN</td><td style=\"border: 2px solid #000\">Alcohol and/or substance (other than tobacco) abuse structured assessment (e.g., AUDIT, DAST), and brief intervention 15 to 30 minutes</td></tr><tr style=\"background-color: white\"><td style=\"border: 2px solid #000\">125</td><td style=\"border: 2px solid #000\">G0</td><td style=\"border: 2px solid #000\">G0397</td><td style=\"border: 2px solid #000\">ALCOHOL &/SUBSTANCE ABUSE ASSESSMENT &gt;30 MIN</td><td style=\"border: 2px solid #000\">Alcohol and/or substance (other than tobacco) abuse structured assessment (e.g., AUDIT, DAST), and intervention, greater than 30 minutes</td></tr><tr style=\"background-color: #fffaff\"><td style=\"border: 2px solid #000\">126</td><td style=\"border: 2px solid #000\">G0</td><td style=\"border: 2px solid #000\">G0398</td><td style=\"border: 2px solid #000\">HST W/TYPE II PRTBLE MON UNATTENDED MIN 7 CH</td><td style=\"border: 2px solid #000\">Home sleep study test (HST) with type II portable monitor, unattended; minimum of 7 channels: EEG, EOG, EMG, ECG/heart rate, airflow, respiratory effort and oxygen saturation</td></tr><tr style=\"background-color: white\"><td style=\"border: 2px solid #000\">127</td><td style=\"border: 2px solid #000\">G0</td><td style=\"border: 2px solid #000\">G0399</td><td style=\"border: 2px solid #000\">HST W/TYPE III PRTBLE MON UNATTENDED MIN 4 CH</td><td style=\"border: 2px solid #000\">Home sleep test (HST) with type III portable monitor, unattended; minimum of 4 channels: 2 respiratory movement/airflow, 1 ECG/heart rate and 1 oxygen saturation</td></tr><tr style=\"background-color: #fffaff\"><td style=\"border: 2px solid #000\">128</td><td style=\"border: 2px solid #000\">G0</td><td style=\"border: 2px solid #000\">G0400</td><td style=\"border: 2px solid #000\">HST W/TYPE IV PRTBLE MON UNATTENDED MIN 3 CH</td><td style=\"border: 2px solid #000\">Home sleep test (HST) with type IV portable monitor, unattended; minimum of 3 channels</td></tr><tr style=\"background-color: white\"><td style=\"border: 2px solid #000\">129</td><td style=\"border: 2px solid #000\">G0</td><td style=\"border: 2px solid #000\">G0402</td><td style=\"border: 2px solid #000\">INIT PREV PE LTD NEW BENEF DUR 1ST 12 MOS MCR</td><td style=\"border: 2px solid #000\">Initial preventive physical examination; face-to-face visit, services limited to new beneficiary during the first 12 months of Medicare enrollment</td></tr><tr style=\"background-color: #fffaff\"><td style=\"border: 2px solid #000\">130</td><td style=\"border: 2px solid #000\">G0</td><td style=\"border: 2px solid #000\">G0403</td><td style=\"border: 2px solid #000\">ECG RTN ECG W/12 LEADS SCR INIT PREVNTV PE W/I&R</td><td style=\"border: 2px solid #000\">Electrocardiogram, routine ECG with 12 leads; performed as a screening for the initial preventive physical examination with interpretation and report</td></tr><tr style=\"background-color: white\"><td style=\"border: 2px solid #000\">131</td><td style=\"border: 2px solid #000\">G0</td><td style=\"border: 2px solid #000\">G0404</td><td style=\"border: 2px solid #000\">ECG RTN ECG W/12 LEADS TRACING ONLY W/O I&R</td><td style=\"border: 2px solid #000\">Electrocardiogram, routine ECG with 12 leads; tracing only, without interpretation and report, performed as a screening for the initial preventive physical examination</td></tr><tr style=\"background-color: #fffaff\"><td style=\"border: 2px solid #000\">132</td><td style=\"border: 2px solid #000\">G0</td><td style=\"border: 2px solid #000\">G0405</td><td style=\"border: 2px solid #000\">ECG RTN ECG W/12 LEADS INTERPR & REPORT ONLY</td><td style=\"border: 2px solid #000\">Electrocardiogram, routine ECG with 12 leads; interpretation and report only, performed as a screening for the initial preventive physical examination</td></tr><tr style=\"background-color: white\"><td style=\"border: 2px solid #000\">133</td><td style=\"border: 2px solid #000\">G0</td><td style=\"border: 2px solid #000\">G0406</td><td style=\"border: 2px solid #000\">F/U IP CNSLT LTD PHYS 15 MIN W/PT VIA TELEHEALTH</td><td style=\"border: 2px solid #000\">Follow-up inpatient consultation, limited, physicians typically spend 15 minutes communicating with the patient via telehealth</td></tr><tr style=\"background-color: #fffaff\"><td style=\"border: 2px solid #000\">134</td><td style=\"border: 2px solid #000\">G0</td><td style=\"border: 2px solid #000\">G0407</td><td style=\"border: 2px solid #000\">F/U IP CNSLT INTRMED PHYS 25 MIN PT VIA TELEHLTH</td><td style=\"border: 2px solid #000\">Follow-up inpatient consultation, intermediate, physicians typically spend 25 minutes communicating with the patient via telehealth</td></tr><tr style=\"background-color: white\"><td style=\"border: 2px solid #000\">135</td><td style=\"border: 2px solid #000\">G0</td><td style=\"border: 2px solid #000\">G0408</td><td style=\"border: 2px solid #000\">F/U IP CNSLT CMPLX PHYS 35 MIN/&gt;PT VIA TELEHLTH</td><td style=\"border: 2px solid #000\">Follow-up inpatient consultation, complex, physicians typically spend 35 minutes communicating with the patient via telehealth</td></tr><tr style=\"background-color: #fffaff\"><td style=\"border: 2px solid #000\">136</td><td style=\"border: 2px solid #000\">G0</td><td style=\"border: 2px solid #000\">G0409</td><td style=\"border: 2px solid #000\">SOCL WRK & PSYCH SRVC EA 15 MIN FACE-TO-FACE IND</td><td style=\"border: 2px solid #000\">Social work and psychological services, directly relating to and/or furthering the patient's rehabilitation goals, each 15 minutes, face-to-face; individual (services provided by a CORF qualified social worker or psychologist in a CORF)</td></tr><tr style=\"background-color: white\"><td style=\"border: 2px solid #000\">137</td><td style=\"border: 2px solid #000\">G0</td><td style=\"border: 2px solid #000\">G0410</td><td style=\"border: 2px solid #000\">GRP PSYCHOTX NOT MX FAM GRP PART HOS 45-50 MIN</td><td style=\"border: 2px solid #000\">Group psychotherapy other than of a multiple-family group, in a partial hospitalization setting, approximately 45 to 50 minutes</td></tr><tr style=\"background-color: #fffaff\"><td style=\"border: 2px solid #000\">138</td><td style=\"border: 2px solid #000\">G0</td><td style=\"border: 2px solid #000\">G0411</td><td style=\"border: 2px solid #000\">INTERACTV GRP PSYCHOTX PART HOS 45 TO 50 MIN</td><td style=\"border: 2px solid #000\">Interactive group psychotherapy, in a partial hospitalization setting, approximately 45 to 50 minutes</td></tr><tr style=\"background-color: white\"><td style=\"border: 2px solid #000\">139</td><td style=\"border: 2px solid #000\">G0</td><td style=\"border: 2px solid #000\">G0412</td><td style=\"border: 2px solid #000\">OPN TX ILIAC SPINE TUBEROSITY AVUL/ILIAC WING FX</td><td style=\"border: 2px solid #000\">Open treatment of iliac spine(s), tuberosity avulsion, or iliac wing fracture(s), unilateral or bilateral for pelvic bone fracture patterns which do not disrupt the pelvic ring, includes internal fixation, when performed</td></tr><tr style=\"background-color: #fffaff\"><td style=\"border: 2px solid #000\">140</td><td style=\"border: 2px solid #000\">G0</td><td style=\"border: 2px solid #000\">G0413</td><td style=\"border: 2px solid #000\">PERQ SKEL FIX POST PELV BONE FX&/DISLOC UNI/BIL</td><td style=\"border: 2px solid #000\">Percutaneous skeletal fixation of posterior pelvic bone fracture and/or dislocation, for fracture patterns which disrupt the pelvic ring, unilateral or bilateral, (includes ilium, sacroiliac joint and/or sacrum)</td></tr><tr style=\"background-color: white\"><td style=\"border: 2px solid #000\">141</td><td style=\"border: 2px solid #000\">G0</td><td style=\"border: 2px solid #000\">G0414</td><td style=\"border: 2px solid #000\">OPN TX ANT PELV BONE FX &/ DISLOC UNI/BIL</td><td style=\"border: 2px solid #000\">Open treatment of anterior pelvic bone fracture and/or dislocation for fracture patterns which disrupt the pelvic ring, unilateral or bilateral, includes internal fixation when performed (includes pubic symphysis and/or superior/inferior rami)</td></tr><tr style=\"background-color: #fffaff\"><td style=\"border: 2px solid #000\">142</td><td style=\"border: 2px solid #000\">G0</td><td style=\"border: 2px solid #000\">G0415</td><td style=\"border: 2px solid #000\">OPN TX POST PELV BONE FX &/ DISLOC UNI/BIL</td><td style=\"border: 2px solid #000\">Open treatment of posterior pelvic bone fracture and/or dislocation, for fracture patterns which disrupt the pelvic ring, unilateral or bilateral, includes internal fixation, when performed (includes ilium, sacroiliac joint and/or sacrum)</td></tr><tr style=\"background-color: white\"><td style=\"border: 2px solid #000\">143</td><td style=\"border: 2px solid #000\">G0</td><td style=\"border: 2px solid #000\">G0416</td><td style=\"border: 2px solid #000\">SURGICAL PATH PROSTATE NEEDLE BIOPSY ANY METHOD</td><td style=\"border: 2px solid #000\">Surgical pathology, gross and microscopic examinations, for prostate needle biopsy, any method</td></tr><tr style=\"background-color: #fffaff\"><td style=\"border: 2px solid #000\">144</td><td style=\"border: 2px solid #000\">G0</td><td style=\"border: 2px solid #000\">G0417</td><td style=\"border: 2px solid #000\">Sat biopsy prostate 21-40</td><td style=\"border: 2px solid #000\">Sat biopsy prostate 21-40</td></tr><tr style=\"background-color: white\"><td style=\"border: 2px solid #000\">145</td><td style=\"border: 2px solid #000\">G0</td><td style=\"border: 2px solid #000\">G0418</td><td style=\"border: 2px solid #000\">Biopsy prostate 41-60 spc</td><td style=\"border: 2px solid #000\">Biopsy prostate 41-60 spc</td></tr><tr style=\"background-color: #fffaff\"><td style=\"border: 2px solid #000\">146</td><td style=\"border: 2px solid #000\">G0</td><td style=\"border: 2px solid #000\">G0419</td><td style=\"border: 2px solid #000\">Biopsy prostate: &gt;60 spc</td><td style=\"border: 2px solid #000\">Biopsy prostate: &gt;60 spc</td></tr><tr style=\"background-color: white\"><td style=\"border: 2px solid #000\">147</td><td style=\"border: 2px solid #000\">G0</td><td style=\"border: 2px solid #000\">G0420</td><td style=\"border: 2px solid #000\">FACE TO FACE EDU SRVC OF CKD; IND PER SESS 1 HR</td><td style=\"border: 2px solid #000\">Face-to-face educational services related to the care of chronic kidney disease; individual, per session, per one hour</td></tr><tr style=\"background-color: #fffaff\"><td style=\"border: 2px solid #000\">148</td><td style=\"border: 2px solid #000\">G0</td><td style=\"border: 2px solid #000\">G0421</td><td style=\"border: 2px solid #000\">FACE TO FACE EDU SRVC OF CKD; GRP PER SESS 1 HR</td><td style=\"border: 2px solid #000\">Face-to-face educational services related to the care of chronic kidney disease; group, per session, per one hour</td></tr><tr style=\"background-color: white\"><td style=\"border: 2px solid #000\">149</td><td style=\"border: 2px solid #000\">G0</td><td style=\"border: 2px solid #000\">G0422</td><td style=\"border: 2px solid #000\">INTENSIVE CARD REHAB; W/WO CONT ECG MON W/EXER</td><td style=\"border: 2px solid #000\">Intensive cardiac rehabilitation; with or without continuous ECG monitoring with exercise, per session</td></tr><tr style=\"background-color: #fffaff\"><td style=\"border: 2px solid #000\">150</td><td style=\"border: 2px solid #000\">G0</td><td style=\"border: 2px solid #000\">G0423</td><td style=\"border: 2px solid #000\">INTENSIVE CARD REHAB; W/WO CONT ECG MON W/O EXER</td><td style=\"border: 2px solid #000\">Intensive cardiac rehabilitation; with or without continuous ECG monitoring; without exercise, per session</td></tr><tr style=\"background-color: white\"><td style=\"border: 2px solid #000\">151</td><td style=\"border: 2px solid #000\">G0</td><td style=\"border: 2px solid #000\">G0424</td><td style=\"border: 2px solid #000\">PULM REHAB INCL EXER 1 HR PER SESS TO 2 PER DAY</td><td style=\"border: 2px solid #000\">Pulmonary rehabilitation, including exercise (includes monitoring), one hour, per session, up to 2 sessions per day</td></tr><tr style=\"background-color: #fffaff\"><td style=\"border: 2px solid #000\">152</td><td style=\"border: 2px solid #000\">G0</td><td style=\"border: 2px solid #000\">G0425</td><td style=\"border: 2px solid #000\">TELEHEALTH CONSULT ED/IP 30 MIN W/PT TELEHLTH</td><td style=\"border: 2px solid #000\">Telehealth consultation, emergency department or initial inpatient, typically 30 minutes communicating with the patient via telehealth</td></tr><tr style=\"background-color: white\"><td style=\"border: 2px solid #000\">153</td><td style=\"border: 2px solid #000\">G0</td><td style=\"border: 2px solid #000\">G0426</td><td style=\"border: 2px solid #000\">TELEHEALTH CONSULT ED/IP 50 MIN W/PT TELEHLTH</td><td style=\"border: 2px solid #000\">Telehealth consultation, emergency department or initial inpatient, typically 50 minutes communicating with the patient via telehealth</td></tr><tr style=\"background-color: #fffaff\"><td style=\"border: 2px solid #000\">154</td><td style=\"border: 2px solid #000\">G0</td><td style=\"border: 2px solid #000\">G0427</td><td style=\"border: 2px solid #000\">TELEHEALTH CONSULT ED/IP 70 MIN/&gt; PT TELEHELTH</td><td style=\"border: 2px solid #000\">Telehealth consultation, emergency department or initial inpatient, typically 70 minutes or more communicating with the patient via telehealth</td></tr><tr style=\"background-color: white\"><td style=\"border: 2px solid #000\">155</td><td style=\"border: 2px solid #000\">G0</td><td style=\"border: 2px solid #000\">G0428</td><td style=\"border: 2px solid #000\">COLL MENISCUS IMPL PROC FILLING MENISCAL DEFECTS</td><td style=\"border: 2px solid #000\">Collagen meniscus implant procedure for filling meniscal defects (e.g., CMI, collagen scaffold, Menaflex)</td></tr><tr style=\"background-color: #fffaff\"><td style=\"border: 2px solid #000\">156</td><td style=\"border: 2px solid #000\">G0</td><td style=\"border: 2px solid #000\">G0429</td><td style=\"border: 2px solid #000\">DERM FILLER INJ TX FACIAL LIPODYSTROPHY SYNDROME</td><td style=\"border: 2px solid #000\">Dermal filler injection(s) for the treatment of facial lipodystrophy syndrome (LDS) (e.g., as a result of highly active antiretroviral therapy)</td></tr><tr style=\"background-color: white\"><td style=\"border: 2px solid #000\">157</td><td style=\"border: 2px solid #000\">G0</td><td style=\"border: 2px solid #000\">G0431</td><td style=\"border: 2px solid #000\">Drug screen multiple class</td><td style=\"border: 2px solid #000\">Drug screen multiple class</td></tr><tr style=\"background-color: #fffaff\"><td style=\"border: 2px solid #000\">158</td><td style=\"border: 2px solid #000\">G0</td><td style=\"border: 2px solid #000\">G0432</td><td style=\"border: 2px solid #000\">INF AGT AB DETECT EIA TECH HIV-1&/HIV-2 SCR</td><td style=\"border: 2px solid #000\">Infectious agent antibody detection by enzyme immunoassay (EIA) technique, HIV-1 and/or HIV-2, screening</td></tr><tr style=\"background-color: white\"><td style=\"border: 2px solid #000\">159</td><td style=\"border: 2px solid #000\">G0</td><td style=\"border: 2px solid #000\">G0433</td><td style=\"border: 2px solid #000\">INF ANTIBODY ELISA TECH HIV-1 &/OR HIV-2 SCREEN</td><td style=\"border: 2px solid #000\">Infectious agent antibody detection by enzyme-linked immunosorbent assay (ELISA) technique, HIV-1 and/or HIV-2, screening</td></tr><tr style=\"background-color: #fffaff\"><td style=\"border: 2px solid #000\">160</td><td style=\"border: 2px solid #000\">G0</td><td style=\"border: 2px solid #000\">G0434</td><td style=\"border: 2px solid #000\">Drug screen multi drug class</td><td style=\"border: 2px solid #000\">Drug screen multi drug class</td></tr><tr style=\"background-color: white\"><td style=\"border: 2px solid #000\">161</td><td style=\"border: 2px solid #000\">G0</td><td style=\"border: 2px solid #000\">G0435</td><td style=\"border: 2px solid #000\">INF AGT ANTIG DETECT RPD AB TST OMT HIV-1/-2 SCR</td><td style=\"border: 2px solid #000\">Infectious agent antigen detection by rapid antibody test of oral mucosa transudate, HIV-1 or HIV-2, screening</td></tr><tr style=\"background-color: #fffaff\"><td style=\"border: 2px solid #000\">162</td><td style=\"border: 2px solid #000\">G0</td><td style=\"border: 2px solid #000\">G0436</td><td style=\"border: 2px solid #000\">SMOKE TOB CESSATION CNSL AS PT; INTRMED 3-10 MIN</td><td style=\"border: 2px solid #000\">Smoking and tobacco cessation counseling visit for the asymptomatic patient; intermediate, greater than 3 minutes, up to 10 minutes</td></tr><tr style=\"background-color: white\"><td style=\"border: 2px solid #000\">163</td><td style=\"border: 2px solid #000\">G0</td><td style=\"border: 2px solid #000\">G0437</td><td style=\"border: 2px solid #000\">SMOKING & TOB CESS CNSL AS PT; INTENSIVE &gt;10 MIN</td><td style=\"border: 2px solid #000\">Smoking and tobacco cessation counseling visit for the asymptomatic patient; intensive, greater than 10 minutes</td></tr><tr style=\"background-color: #fffaff\"><td style=\"border: 2px solid #000\">164</td><td style=\"border: 2px solid #000\">G0</td><td style=\"border: 2px solid #000\">G0438</td><td style=\"border: 2px solid #000\">ANNUAL WELLNESS VISIT; PERSONALIZ PPS INIT VISIT</td><td style=\"border: 2px solid #000\">Annual wellness visit; includes a personalized prevention plan of service (PPS), initial visit</td></tr><tr style=\"background-color: white\"><td style=\"border: 2px solid #000\">165</td><td style=\"border: 2px solid #000\">G0</td><td style=\"border: 2px solid #000\">G0439</td><td style=\"border: 2px solid #000\">ANNUAL WELLNESS VST; PERSONALIZED PPS SUBSQT VST</td><td style=\"border: 2px solid #000\">Annual wellness visit, includes a personalized prevention plan of service (PPS), subsequent visit</td></tr><tr style=\"background-color: #fffaff\"><td style=\"border: 2px solid #000\">166</td><td style=\"border: 2px solid #000\">G0</td><td style=\"border: 2px solid #000\">G0442</td><td style=\"border: 2px solid #000\">ANNUAL ALCOHOL MISUSE SCREENING 15 MINUTES</td><td style=\"border: 2px solid #000\">Annual alcohol misuse screening, 15 minutes</td></tr><tr style=\"background-color: white\"><td style=\"border: 2px solid #000\">167</td><td style=\"border: 2px solid #000\">G0</td><td style=\"border: 2px solid #000\">G0443</td><td style=\"border: 2px solid #000\">BRIEF FACE-FACE BEHAV CNSL ALCOHL MISUSE 15 MIN</td><td style=\"border: 2px solid #000\">Brief face-to-face behavioral counseling for alcohol misuse, 15 minutes</td></tr><tr style=\"background-color: #fffaff\"><td style=\"border: 2px solid #000\">168</td><td style=\"border: 2px solid #000\">G0</td><td style=\"border: 2px solid #000\">G0444</td><td style=\"border: 2px solid #000\">ANNUAL DEPRESSION SCREENING 15 MINUTES</td><td style=\"border: 2px solid #000\">Annual depression screening, 15 minutes</td></tr><tr style=\"background-color: white\"><td style=\"border: 2px solid #000\">169</td><td style=\"border: 2px solid #000\">G0</td><td style=\"border: 2px solid #000\">G0445</td><td style=\"border: 2px solid #000\">SA HI INTENS CNSL PREV STI IND F/F EDU CHNG BHVR</td><td style=\"border: 2px solid #000\">Semiannual high intensity behavioral counseling to prevent STIs, individual, face-to-face, includes education skills training & guidance on how to change sexual behavior</td></tr><tr style=\"background-color: #fffaff\"><td style=\"border: 2px solid #000\">170</td><td style=\"border: 2px solid #000\">G0</td><td style=\"border: 2px solid #000\">G0446</td><td style=\"border: 2px solid #000\">ANNUAL FCE--FCE INTENSV BEHV TX CV DZ IND 15 MIN</td><td style=\"border: 2px solid #000\">Annual, face-to-face intensive behavioral therapy for cardiovascular disease, individual, 15 minutes</td></tr><tr style=\"background-color: white\"><td style=\"border: 2px solid #000\">171</td><td style=\"border: 2px solid #000\">G0</td><td style=\"border: 2px solid #000\">G0447</td><td style=\"border: 2px solid #000\">FACE--FACE BEHAVIORAL COUNSELING OBESITY 15 MIN</td><td style=\"border: 2px solid #000\">Face-to-face behavioral counseling for obesity, 15 minutes</td></tr><tr style=\"background-color: #fffaff\"><td style=\"border: 2px solid #000\">172</td><td style=\"border: 2px solid #000\">G0</td><td style=\"border: 2px solid #000\">G0448</td><td style=\"border: 2px solid #000\">INS/RPL PRM CV-DFIB TV LEADS INSRT PACE ELCTRODE</td><td style=\"border: 2px solid #000\">Insertion or replacement of a permanent pacing cardioverter-defibrillator system with transvenous lead(s), single or dual chamber with insertion of pacing electrode, cardiac venous system, for left ventricular pacing</td></tr><tr style=\"background-color: white\"><td style=\"border: 2px solid #000\">173</td><td style=\"border: 2px solid #000\">G0</td><td style=\"border: 2px solid #000\">G0451</td><td style=\"border: 2px solid #000\">DEVELPMNT TESTING I&R STANDARDIZD INSTRUMNT FORM</td><td style=\"border: 2px solid #000\">Development testing, with interpretation and report, per standardized instrument form</td></tr><tr style=\"background-color: #fffaff\"><td style=\"border: 2px solid #000\">174</td><td style=\"border: 2px solid #000\">G0</td><td style=\"border: 2px solid #000\">G0452</td><td style=\"border: 2px solid #000\">MOLECLR PATH PROCEDURE; PHYSICIAN INTEPR REPORT</td><td style=\"border: 2px solid #000\">Molecular pathology procedure; physician interpretation and report</td></tr><tr style=\"background-color: white\"><td style=\"border: 2px solid #000\">175</td><td style=\"border: 2px solid #000\">G0</td><td style=\"border: 2px solid #000\">G0453</td><td style=\"border: 2px solid #000\">CONT IO NEUROPHYSIOL MON OUTSD OR-PT EA 15 MIN</td><td style=\"border: 2px solid #000\">Continuous intraoperative neurophysiology monitoring, from outside the operating room (remote or nearby), per patient, (attention directed exclusively to one patient) each 15 minutes (list in addition to primary procedure)</td></tr><tr style=\"background-color: #fffaff\"><td style=\"border: 2px solid #000\">176</td><td style=\"border: 2px solid #000\">G0</td><td style=\"border: 2px solid #000\">G0454</td><td style=\"border: 2px solid #000\">PHYS DOC FACE--FACE VST DME DETRM PERF NP PA/CNS</td><td style=\"border: 2px solid #000\">Physician documentation of face-to-face visit for durable medical equipment determination performed by nurse practitioner, physician assistant or clinical nurse specialist</td></tr><tr style=\"background-color: white\"><td style=\"border: 2px solid #000\">177</td><td style=\"border: 2px solid #000\">G0</td><td style=\"border: 2px solid #000\">G0455</td><td style=\"border: 2px solid #000\">PREP IT FEC MICROBIOTA ANY METH ASMT DONOR SPEC</td><td style=\"border: 2px solid #000\">Preparation with instillation of fecal microbiota by any method, including assessment of donor specimen</td></tr><tr style=\"background-color: #fffaff\"><td style=\"border: 2px solid #000\">178</td><td style=\"border: 2px solid #000\">G0</td><td style=\"border: 2px solid #000\">G0456</td><td style=\"border: 2px solid #000\">Neg pre wound &lt;=50 sq cm</td><td style=\"border: 2px solid #000\">Neg pre wound &lt;=50 sq cm</td></tr><tr style=\"background-color: white\"><td style=\"border: 2px solid #000\">179</td><td style=\"border: 2px solid #000\">G0</td><td style=\"border: 2px solid #000\">G0457</td><td style=\"border: 2px solid #000\">Neg pres wound &gt;50 sq cm</td><td style=\"border: 2px solid #000\">Neg pres wound &gt;50 sq cm</td></tr><tr style=\"background-color: #fffaff\"><td style=\"border: 2px solid #000\">180</td><td style=\"border: 2px solid #000\">G0</td><td style=\"border: 2px solid #000\">G0458</td><td style=\"border: 2px solid #000\">LOW DOSE RATE PROSTATE BRACHYTX SRVC COMPOS RATE</td><td style=\"border: 2px solid #000\">Low dose rate (LDR) prostate brachytherapy services, composite rate</td></tr><tr style=\"background-color: white\"><td style=\"border: 2px solid #000\">181</td><td style=\"border: 2px solid #000\">G0</td><td style=\"border: 2px solid #000\">G0459</td><td style=\"border: 2px solid #000\">INPATIENT TELEHEALTH PHARMACOLOGIC MANAGEMENT</td><td style=\"border: 2px solid #000\">Inpatient telehealth pharmacologic management, including prescription, use, and review of medication with no more than minimal medical psychotherapy</td></tr><tr style=\"background-color: #fffaff\"><td style=\"border: 2px solid #000\">182</td><td style=\"border: 2px solid #000\">G0</td><td style=\"border: 2px solid #000\">G0460</td><td style=\"border: 2px solid #000\">AUTOLOGOUS PLATELET-RICH PLASMA</td><td style=\"border: 2px solid #000\">Autologous platelet rich plasma for chronic wounds/ulcers, including phlebotomy, centrifugation, and all other preparatory procedures, administration and dressings, per treatment</td></tr><tr style=\"background-color: white\"><td style=\"border: 2px solid #000\">183</td><td style=\"border: 2px solid #000\">G0</td><td style=\"border: 2px solid #000\">G0461</td><td style=\"border: 2px solid #000\">Immunohisto/cyto chem 1st st</td><td style=\"border: 2px solid #000\">Immunohisto/cyto chem 1st st</td></tr><tr style=\"background-color: #fffaff\"><td style=\"border: 2px solid #000\">184</td><td style=\"border: 2px solid #000\">G0</td><td style=\"border: 2px solid #000\">G0462</td><td style=\"border: 2px solid #000\">Immunohisto/cyto chem add</td><td style=\"border: 2px solid #000\">Immunohisto/cyto chem add</td></tr><tr style=\"background-color: white\"><td style=\"border: 2px solid #000\">185</td><td style=\"border: 2px solid #000\">G0</td><td style=\"border: 2px solid #000\">G0463</td><td style=\"border: 2px solid #000\">HOSPITAL OUTPATIENT CLIN VISIT ASSESS & MGMT PT</td><td style=\"border: 2px solid #000\">Hospital outpatient clinic visit for assessment and management of a patient</td></tr><tr style=\"background-color: #fffaff\"><td style=\"border: 2px solid #000\">186</td><td style=\"border: 2px solid #000\">G0</td><td style=\"border: 2px solid #000\">G0464</td><td style=\"border: 2px solid #000\">\"Colorec ca scr, sto bas dna\"</td><td style=\"border: 2px solid #000\">\"Colorec ca scr, sto bas dna\"</td></tr><tr style=\"background-color: white\"><td style=\"border: 2px solid #000\">187</td><td style=\"border: 2px solid #000\">G0</td><td style=\"border: 2px solid #000\">G0466</td><td style=\"border: 2px solid #000\">FEDERALLY QUALIFIED HEALTH CENTER VISIT NEW PT</td><td style=\"border: 2px solid #000\">Federally qualified health center (FQHC) visit, new patient</td></tr><tr style=\"background-color: #fffaff\"><td style=\"border: 2px solid #000\">188</td><td style=\"border: 2px solid #000\">G0</td><td style=\"border: 2px solid #000\">G0467</td><td style=\"border: 2px solid #000\">FEDERALLY QUALIFIED HEALTH CENTER VISIT ESTAB PT</td><td style=\"border: 2px solid #000\">Federally qualified health center (FQHC) visit, established patient</td></tr><tr style=\"background-color: white\"><td style=\"border: 2px solid #000\">189</td><td style=\"border: 2px solid #000\">G0</td><td style=\"border: 2px solid #000\">G0468</td><td style=\"border: 2px solid #000\">FEDERALLY QUALIFIED HEALTH CENTER VISIT IPPE/AWV</td><td style=\"border: 2px solid #000\">Federally qualified health center (FQHC) visit, initial preventive physical exam (IPPE) or annual wellness visit (AWV)</td></tr><tr style=\"background-color: #fffaff\"><td style=\"border: 2px solid #000\">190</td><td style=\"border: 2px solid #000\">G0</td><td style=\"border: 2px solid #000\">G0469</td><td style=\"border: 2px solid #000\">FED QUAL HEALTH CNTR VISIT MENTAL HEALTH NEW PT</td><td style=\"border: 2px solid #000\">Federally qualified health center (FQHC) visit, mental health, new patient</td></tr><tr style=\"background-color: white\"><td style=\"border: 2px solid #000\">191</td><td style=\"border: 2px solid #000\">G0</td><td style=\"border: 2px solid #000\">G0470</td><td style=\"border: 2px solid #000\">FED QUAL HEALTH CNTR VST MENTAL HEALTH ESTAB PT</td><td style=\"border: 2px solid #000\">Federally qualified health center (FQHC) visit, mental health, established patient</td></tr><tr style=\"background-color: #fffaff\"><td style=\"border: 2px solid #000\">192</td><td style=\"border: 2px solid #000\">G0</td><td style=\"border: 2px solid #000\">G0471</td><td style=\"border: 2px solid #000\">COLL V BLD VP/URN SMP CATH IND SNF/LAB BHALF HHA</td><td style=\"border: 2px solid #000\">Collection of venous blood by venipuncture or urine sample by catheterization from an individual in a skilled nursing facility (SNF) or by a laboratory on behalf of a home health agency (HHA)</td></tr><tr style=\"background-color: white\"><td style=\"border: 2px solid #000\">193</td><td style=\"border: 2px solid #000\">G0</td><td style=\"border: 2px solid #000\">G0472</td><td style=\"border: 2px solid #000\">HEPATITIS C ABO SC IND HIGH RISK&OTH CVRD INDIC</td><td style=\"border: 2px solid #000\">Hepatitis C antibody screening for individual at high risk and other covered indication(s)</td></tr><tr style=\"background-color: #fffaff\"><td style=\"border: 2px solid #000\">194</td><td style=\"border: 2px solid #000\">G0</td><td style=\"border: 2px solid #000\">G0473</td><td style=\"border: 2px solid #000\">FACE-TO-FACE BEHAV COUNSELING OBESITY GRP 30 MIN</td><td style=\"border: 2px solid #000\">Face-to-face behavioral counseling for obesity, group (2-10), 30 minutes</td></tr><tr style=\"background-color: white\"><td style=\"border: 2px solid #000\">195</td><td style=\"border: 2px solid #000\">G0</td><td style=\"border: 2px solid #000\">G0475</td><td style=\"border: 2px solid #000\">HIV ANTIGEN/ANTIBODY COMBINATION ASSAY SCREENING</td><td style=\"border: 2px solid #000\">HIV antigen/antibody, combination assay, screening</td></tr><tr style=\"background-color: #fffaff\"><td style=\"border: 2px solid #000\">196</td><td style=\"border: 2px solid #000\">G0</td><td style=\"border: 2px solid #000\">G0476</td><td style=\"border: 2px solid #000\">INF AGT DETECT DNA/RNA; HPV PERF ADD TO PAP TEST</td><td style=\"border: 2px solid #000\">Infectious agent detection by nucleic acid (DNA or RNA); human papillomavirus HPV), high-risk types (e.g., 16, 18, 31, 33, 35, 39, 45, 51, 52, 56, 58, 59, 68) for cervical cancer screening, must be performed in addition to pap test</td></tr><tr style=\"background-color: white\"><td style=\"border: 2px solid #000\">197</td><td style=\"border: 2px solid #000\">G0</td><td style=\"border: 2px solid #000\">G0477</td><td style=\"border: 2px solid #000\">DRUG TST PRESUMP;CPBL BEING READ DC OPT OBV ONLY</td><td style=\"border: 2px solid #000\">Drug test(s), presumptive, any number of drug classes; any number of devices or procedures (e.g., immunoassay), capable of being read by direct optical observation only (e.g., dipsticks, cups, cards, cartridges), includes sample validation when performed, per date of service</td></tr><tr style=\"background-color: #fffaff\"><td style=\"border: 2px solid #000\">198</td><td style=\"border: 2px solid #000\">G0</td><td style=\"border: 2px solid #000\">G0478</td><td style=\"border: 2px solid #000\">DRUG TEST PRESUMP;READ BY INSTRUM-AST DC OPT OBV</td><td style=\"border: 2px solid #000\">Drug test(s), presumptive, any number of drug classes; any number of devices or procedures (e.g., immunoassay), read by instrument-assisted direct optical observation (e.g., dipsticks, cups, cards, cartridges), includes sample validation when performed, per date of service</td></tr><tr style=\"background-color: white\"><td style=\"border: 2px solid #000\">199</td><td style=\"border: 2px solid #000\">G0</td><td style=\"border: 2px solid #000\">G0479</td><td style=\"border: 2px solid #000\">DRUG TEST PRESUMP;INSTRUMENTED CHEMISTRY ANLYZER</td><td style=\"border: 2px solid #000\">Drug test(s), presumptive, any number of drug classes; any number of devices or procedures by instrumented chemistry analyzers utilizing immunoassay, enzyme assay, TOF, MALDI, LDTD, DESI, DART, GHPC, GC mass spectrometry), includes sample validation when performed, per date of service</td></tr><tr style=\"background-color: #fffaff\"><td style=\"border: 2px solid #000\">200</td><td style=\"border: 2px solid #000\">G0</td><td style=\"border: 2px solid #000\">G0480</td><td style=\"border: 2px solid #000\">DRUG TEST DEFINITV DR ID METH P DAY 1-7 DRUG CL</td><td style=\"border: 2px solid #000\">Drug test(s), definitive, utilizing (1) drug identification methods able to identify individual drugs and distinguish between structural isomers (but not necessarily stereoisomers), including, but not limited to, GC/MS (any type, single or tandem) and LC/MS (any type, single or tandem and excluding immunoassays (e.g., IA, EIA, ELISA, EMIT, FPIA) and enzymatic methods (e.g., alcohol dehydrogenase)), (2) stable isotope or other universally recognized internal standards in all samples (e.g., to control for matrix effects, interferences and variations in signal strength), and (3) method or drug-specific calibration and matrix-matched quality control material (e.g., to control for instrument variations and mass spectral drift); qualitative or quantitative, all sources, includes specimen validity testing, per day; 1-7 drug class(es), including metabolite(s) if performed</td></tr><tr style=\"background-color: white\"><td style=\"border: 2px solid #000\">201</td><td style=\"border: 2px solid #000\">G0</td><td style=\"border: 2px solid #000\">G0481</td><td style=\"border: 2px solid #000\">DRUG TEST DEFINITV DR ID METH P DAY 8-14 DRUG CL</td><td style=\"border: 2px solid #000\">Drug test(s), definitive, utilizing (1) drug identification methods able to identify individual drugs and distinguish between structural isomers (but not necessarily stereoisomers), including, but not limited to, GC/MS (any type, single or tandem) and LC/MS (any type, single or tandem and excluding immunoassays (e.g., IA, EIA, ELISA, EMIT, FPIA) and enzymatic methods (e.g., alcohol dehydrogenase)), (2) stable isotope or other universally recognized internal standards in all samples (e.g., to control for matrix effects, interferences and variations in signal strength), and (3) method or drug-specific calibration and matrix-matched quality control material (e.g., to control for instrument variations and mass spectral drift); qualitative or quantitative, all sources, includes specimen validity testing, per day; 8-14 drug class(es), including metabolite(s) if performed</td></tr><tr style=\"background-color: #fffaff\"><td style=\"border: 2px solid #000\">202</td><td style=\"border: 2px solid #000\">G0</td><td style=\"border: 2px solid #000\">G0482</td><td style=\"border: 2px solid #000\">DRUG TEST DEFINITV DR ID METH P DAY 15-21 DR CL</td><td style=\"border: 2px solid #000\">Drug test(s), definitive, utilizing (1) drug identification methods able to identify individual drugs and distinguish between structural isomers (but not necessarily stereoisomers), including, but not limited to, GC/MS (any type, single or tandem) and LC/MS (any type, single or tandem and excluding immunoassays (e.g., IA, EIA, ELISA, EMIT, FPIA) and enzymatic methods (e.g., alcohol dehydrogenase)), (2) stable isotope or other universally recognized internal standards in all samples (e.g., to control for matrix effects, interferences and variations in signal strength), and (3) method or drug-specific calibration and matrix-matched quality control material (e.g., to control for instrument variations and mass spectral drift); qualitative or quantitative, all sources, includes specimen validity testing, per day; 15-21 drug class(es), including metabolite(s) if performed</td></tr><tr style=\"background-color: white\"><td style=\"border: 2px solid #000\">203</td><td style=\"border: 2px solid #000\">G0</td><td style=\"border: 2px solid #000\">G0483</td><td style=\"border: 2px solid #000\">DRUG TST DEFINITV DR ID METH P DAY 22/MORE DR CL</td><td style=\"border: 2px solid #000\">Drug test(s), definitive, utilizing (1) drug identification methods able to identify individual drugs and distinguish between structural isomers (but not necessarily stereoisomers), including, but not limited to, GC/MS (any type, single or tandem) and LC/MS (any type, single or tandem and excluding immunoassays (e.g., IA, EIA, ELISA, EMIT, FPIA) and enzymatic methods (e.g., alcohol dehydrogenase)), (2) stable isotope or other universally recognized internal standards in all samples (e.g., to control for matrix effects, interferences and variations in signal strength), and (3) method or drug-specific calibration and matrix-matched quality control material (e.g., to control for instrument variations and mass spectral drift); qualitative or quantitative, all sources, includes specimen validity testing, per day; 22 or more drug class(es), including metabolite(s) if performed</td></tr><tr style=\"background-color: #fffaff\"><td style=\"border: 2px solid #000\">204</td><td style=\"border: 2px solid #000\">G0</td><td style=\"border: 2px solid #000\">G0908</td><td style=\"border: 2px solid #000\">Hgb &gt; 12 g/dl</td><td style=\"border: 2px solid #000\">Hgb &gt; 12 g/dl</td></tr><tr style=\"background-color: white\"><td style=\"border: 2px solid #000\">205</td><td style=\"border: 2px solid #000\">G0</td><td style=\"border: 2px solid #000\">G0909</td><td style=\"border: 2px solid #000\">HbG not doc</td><td style=\"border: 2px solid #000\">HbG not doc</td></tr><tr style=\"background-color: #fffaff\"><td style=\"border: 2px solid #000\">206</td><td style=\"border: 2px solid #000\">G0</td><td style=\"border: 2px solid #000\">G0910</td><td style=\"border: 2px solid #000\">HgB &lt;= 12 g/dL</td><td style=\"border: 2px solid #000\">HgB &lt;= 12 g/dL</td></tr><tr style=\"background-color: white\"><td style=\"border: 2px solid #000\">207</td><td style=\"border: 2px solid #000\">G0</td><td style=\"border: 2px solid #000\">G0911</td><td style=\"border: 2px solid #000\">Assess activity symptoms</td><td style=\"border: 2px solid #000\">Assess activity symptoms</td></tr><tr style=\"background-color: #fffaff\"><td style=\"border: 2px solid #000\">208</td><td style=\"border: 2px solid #000\">G0</td><td style=\"border: 2px solid #000\">G0912</td><td style=\"border: 2px solid #000\">No assess activity symptoms</td><td style=\"border: 2px solid #000\">No assess activity symptoms</td></tr><tr style=\"background-color: white\"><td style=\"border: 2px solid #000\">209</td><td style=\"border: 2px solid #000\">G0</td><td style=\"border: 2px solid #000\">G0913</td><td style=\"border: 2px solid #000\">IMPROV VISUAL FUNCT ACHV W/I 90 DAY FLW CAT SURG</td><td style=\"border: 2px solid #000\">Improvement in visual function achieved within 90 days following cataract surgery</td></tr><tr style=\"background-color: #fffaff\"><td style=\"border: 2px solid #000\">210</td><td style=\"border: 2px solid #000\">G0</td><td style=\"border: 2px solid #000\">G0914</td><td style=\"border: 2px solid #000\">PATIENT CARE SURVEY WAS NOT COMPLETED BY PATIENT</td><td style=\"border: 2px solid #000\">Patient care survey was not completed by patient</td></tr><tr style=\"background-color: white\"><td style=\"border: 2px solid #000\">211</td><td style=\"border: 2px solid #000\">G0</td><td style=\"border: 2px solid #000\">G0915</td><td style=\"border: 2px solid #000\">IMPROV VISUAL FUNCT NOT ACHV 90 DAY FLW CAT SURG</td><td style=\"border: 2px solid #000\">Improvement in visual function not achieved within 90 days following cataract surgery</td></tr><tr style=\"background-color: #fffaff\"><td style=\"border: 2px solid #000\">212</td><td style=\"border: 2px solid #000\">G0</td><td style=\"border: 2px solid #000\">G0916</td><td style=\"border: 2px solid #000\">SATISFACTION W/CARE ACHV W/I 90 DAY FLW CAT SURG</td><td style=\"border: 2px solid #000\">Satisfaction with care achieved within 90 days following cataract surgery</td></tr><tr style=\"background-color: white\"><td style=\"border: 2px solid #000\">213</td><td style=\"border: 2px solid #000\">G0</td><td style=\"border: 2px solid #000\">G0917</td><td style=\"border: 2px solid #000\">PATIENT SATISFACTION SURVEY NOT COMPLETE PATIENT</td><td style=\"border: 2px solid #000\">Patient satisfaction survey was not completed by patient</td></tr><tr style=\"background-color: #fffaff\"><td style=\"border: 2px solid #000\">214</td><td style=\"border: 2px solid #000\">G0</td><td style=\"border: 2px solid #000\">G0918</td><td style=\"border: 2px solid #000\">SATISFACTION W/CARE NOT ACHV 90 DAY FLW CAT SURG</td><td style=\"border: 2px solid #000\">Satisfaction with care not achieved within 90 days following cataract surgery</td></tr><tr style=\"background-color: white\"><td style=\"border: 2px solid #000\">215</td><td style=\"border: 2px solid #000\">G0</td><td style=\"border: 2px solid #000\">G0919</td><td style=\"border: 2px solid #000\">Flu immunize not avail</td><td style=\"border: 2px solid #000\">Flu immunize not avail</td></tr><tr style=\"background-color: #fffaff\"><td style=\"border: 2px solid #000\">216</td><td style=\"border: 2px solid #000\">G0</td><td style=\"border: 2px solid #000\">G0920</td><td style=\"border: 2px solid #000\">Type loc act doc</td><td style=\"border: 2px solid #000\">Type loc act doc</td></tr><tr style=\"background-color: white\"><td style=\"border: 2px solid #000\">217</td><td style=\"border: 2px solid #000\">G0</td><td style=\"border: 2px solid #000\">G0921</td><td style=\"border: 2px solid #000\">Doc pt reas no assess</td><td style=\"border: 2px solid #000\">Doc pt reas no assess</td></tr><tr style=\"background-color: #fffaff\"><td style=\"border: 2px solid #000\">218</td><td style=\"border: 2px solid #000\">G0</td><td style=\"border: 2px solid #000\">G0922</td><td style=\"border: 2px solid #000\">Type loc act not doc</td><td style=\"border: 2px solid #000\">Type loc act not doc</td></tr></tbody></table>"
      ],
      "text/plain": [
       "e {\n",
       "  keyFunc: [Function: value],\n",
       "  data: [\n",
       "    [\n",
       "      'G0',\n",
       "      'G0008',\n",
       "      'ADMINISTRATION OF INFLUENZA VIRUS VACCINE',\n",
       "      'Administration of influenza virus vaccine'\n",
       "    ],\n",
       "    [\n",
       "      'G0',\n",
       "      'G0009',\n",
       "      'ADMINISTRATION OF PNEUMOCOCCAL VACCINE',\n",
       "      'Administration of pneumococcal vaccine'\n",
       "    ],\n",
       "    [\n",
       "      'G0',\n",
       "      'G0010',\n",
       "      'ADMINISTRATION OF HEPATITIS B VACCINE',\n",
       "      'Administration of hepatitis B vaccine'\n",
       "    ],\n",
       "    [\n",
       "      'G0',\n",
       "      'G0027',\n",
       "      'SEMEN ANALY; PRES/MOT EXCLD HUHNER',\n",
       "      'Semen analysis; presence and/or motility of sperm excluding Huhner'\n",
       "    ],\n",
       "    [\n",
       "      'G0',\n",
       "      'G0101',\n",
       "      'CERV/VAGINAL CANCER SCR; PELV&CLIN BREAST EXAM',\n",
       "      'Cervical or vaginal cancer screening; pelvic and clinical breast examination'\n",
       "    ],\n",
       "    [\n",
       "      'G0',\n",
       "      'G0102',\n",
       "      'PROS CANCER SCREENING; DIGTL RECTAL EXAMINATION',\n",
       "      'Prostate cancer screening; digital rectal examination'\n",
       "    ],\n",
       "    [\n",
       "      'G0',\n",
       "      'G0103',\n",
       "      'PROSTATE CANCER SCREENING; PSA TEST',\n",
       "      'Prostate cancer screening; prostate specific antigen test (PSA)'\n",
       "    ],\n",
       "    [\n",
       "      'G0',\n",
       "      'G0104',\n",
       "      'COLORECTAL CANCER SCREENING; FLEXSIG',\n",
       "      'Colorectal cancer screening; flexible sigmoidoscopy'\n",
       "    ],\n",
       "    [\n",
       "      'G0',\n",
       "      'G0105',\n",
       "      'COLOREC CANCR SCR; COLONSCPY INDIVIDUL@HIGH RISK',\n",
       "      'Colorectal cancer screening; colonoscopy on individual at high risk'\n",
       "    ],\n",
       "    [\n",
       "      'G0',\n",
       "      'G0106',\n",
       "      'COLOREC CANCR SCR;ALT G0104 SIGMOIDSCPY BA ENEMA',\n",
       "      'Colorectal cancer screening; alternative to G0104, screening sigmoidoscopy, barium enema'\n",
       "    ],\n",
       "    [\n",
       "      'G0',\n",
       "      'G0108',\n",
       "      'DIAB OP SELF-MGMT TRN SRVC INDIVIDUAL PER 30 MIN',\n",
       "      'Diabetes outpatient self-management training services, individual, per 30 minutes'\n",
       "    ],\n",
       "    [\n",
       "      'G0',\n",
       "      'G0109',\n",
       "      'DIAB SELF-MGMT TRN SRVC GROUP SESSION PER 30 MIN',\n",
       "      'Diabetes outpatient self-management training services, group session (2 or more), per 30 minutes'\n",
       "    ],\n",
       "    [\n",
       "      'G0',\n",
       "      'G0117',\n",
       "      'GLAUC SCR HI RISK BY OPTOMETRST/OPHTHALMOLOGIST',\n",
       "      'Glaucoma screening for high risk patients furnished by an optometrist or ophthalmologist'\n",
       "    ],\n",
       "    [\n",
       "      'G0',\n",
       "      'G0118',\n",
       "      'GLAUC SCR HI RSK UND DIR SUP OPTMTRST/OPHTHLGIST',\n",
       "      'Glaucoma screening for high risk patient furnished under the direct supervision of an optometrist or ophthalmologist'\n",
       "    ],\n",
       "    [\n",
       "      'G0',\n",
       "      'G0120',\n",
       "      'COLOREC CANCR SCR; ALT G0105 COLNSCPY BA ENEMA',\n",
       "      'Colorectal cancer screening; alternative to G0105, screening colonoscopy, barium enema'\n",
       "    ],\n",
       "    [\n",
       "      'G0',\n",
       "      'G0121',\n",
       "      'COLOREC CANCR SCR; COLNSCPY NOT MEET HI RISK',\n",
       "      'Colorectal cancer screening; colonoscopy on individual not meeting criteria for high risk'\n",
       "    ],\n",
       "    [\n",
       "      'G0',\n",
       "      'G0122',\n",
       "      'COLORECTAL CANCER SCREENING; BARIUM ENEMA',\n",
       "      'Colorectal cancer screening; barium enema'\n",
       "    ],\n",
       "    [\n",
       "      'G0',\n",
       "      'G0123',\n",
       "      'SCR CYTOPATH CERV/VAG SCR CYTOTECH UND PHYS SUPV',\n",
       "      'Screening cytopathology, cervical or vaginal (any reporting system), collected in preservative fluid, automated thin layer preparation, screening by cytotechnologist under physician supervision'\n",
       "    ],\n",
       "    [\n",
       "      'G0',\n",
       "      'G0124',\n",
       "      'SCR CYTOPATH CERV/VAG THIN LAY PREP INTEPR PHYS',\n",
       "      'Screening cytopathology, cervical or vaginal (any reporting system), collected in preservative fluid, automated thin layer preparation, requiring interpretation by physician'\n",
       "    ],\n",
       "    [\n",
       "      'G0',\n",
       "      'G0127',\n",
       "      'TRIMMING OF DYSTROPHIC NAILS ANY NUMBER',\n",
       "      'Trimming of dystrophic nails, any number'\n",
       "    ],\n",
       "    [\n",
       "      'G0',\n",
       "      'G0128',\n",
       "      'DIR SKLED SERV RN OP REHAB EA 10 MIN AFTR 1ST 5',\n",
       "      'Direct (face-to-face with patient) skilled nursing services of a registered nurse provided in a comprehensive outpatient rehabilitation facility, each 10 minutes beyond the first 5 minutes'\n",
       "    ],\n",
       "    [\n",
       "      'G0',\n",
       "      'G0129',\n",
       "      'OCCUP TX REQ SKILLS QUAL OCCUP TRPST PER SESSION',\n",
       "      'Occupational therapy services requiring the skills of a qualified occupational therapist, furnished as a component of a partial hospitalization treatment program, per session (45 minutes or more)'\n",
       "    ],\n",
       "    [\n",
       "      'G0',\n",
       "      'G0130',\n",
       "      'SEXA BN DNSITY STDY 1/> SITE; APPNDICULR SKEL',\n",
       "      'Single energy x-ray absorptiometry (SEXA) bone density study, one or more sites; appendicular skeleton (peripheral) (e.g., radius, wrist, heel)'\n",
       "    ],\n",
       "    [\n",
       "      'G0',\n",
       "      'G0141',\n",
       "      'SCR CYTOPATH SMER CERV/VAG MNL RSCR INTEPR PHYS',\n",
       "      'Screening cytopathology smears, cervical or vaginal, performed by automated system, with manual rescreening, requiring interpretation by physician'\n",
       "    ],\n",
       "    [\n",
       "      'G0',\n",
       "      'G0143',\n",
       "      'SCR CYTOPATH CERV/VAG MNL SCR&RSCR UND PHYS',\n",
       "      'Screening cytopathology, cervical or vaginal (any reporting system), collected in preservative fluid, automated thin layer preparation, with manual screening and rescreening by cytotechnologist under physician supervision'\n",
       "    ],\n",
       "    [\n",
       "      'G0',\n",
       "      'G0144',\n",
       "      'SCR CYTOPATH CERV/VAG THIN LAY SCR AUTO UND PHYS',\n",
       "      'Screening cytopathology, cervical or vaginal (any reporting system), collected in preservative fluid, automated thin layer preparation, with screening by automated system, under physician supervision'\n",
       "    ],\n",
       "    [\n",
       "      'G0',\n",
       "      'G0145',\n",
       "      'SCR CYTOPATH CERV/VAG SCR AUTO&MNL RSCR PHYS',\n",
       "      'Screening cytopathology, cervical or vaginal (any reporting system), collected in preservative fluid, automated thin layer preparation, with screening by automated system and manual rescreening under physician supervision'\n",
       "    ],\n",
       "    [\n",
       "      'G0',\n",
       "      'G0147',\n",
       "      'SCR CYTOPATH SMERS CERV/VAG AUTO UND PHYS SUPV',\n",
       "      'Screening cytopathology smears, cervical or vaginal, performed by automated system under physician supervision'\n",
       "    ],\n",
       "    [\n",
       "      'G0',\n",
       "      'G0148',\n",
       "      'SCR CYTOPATH SMERS CERV/VAG AUTO SYS W/MNL RESCR',\n",
       "      'Screening cytopathology smears, cervical or vaginal, performed by automated system with manual rescreening'\n",
       "    ],\n",
       "    [\n",
       "      'G0',\n",
       "      'G0151',\n",
       "      'SERVICE PHYS THERAP HOME HLTH/HOSPICE EA 15 MIN',\n",
       "      'Services performed by a qualified physical therapist in the home health or hospice setting, each 15 minutes'\n",
       "    ],\n",
       "    [\n",
       "      'G0',\n",
       "      'G0152',\n",
       "      'SERVICE OCCUP THERAP HOME HLTH/HOSPICE EA 15 MIN',\n",
       "      'Services performed by a qualified occupational therapist in the home health or hospice setting, each 15 minutes'\n",
       "    ],\n",
       "    [\n",
       "      'G0',\n",
       "      'G0153',\n",
       "      'SRVC SPCH&LANG PATH HOME HLTH/HOSPICE EA 15 MIN',\n",
       "      'Services performed by a qualified speech-language pathologist in the home health or hospice setting, each 15 minutes'\n",
       "    ],\n",
       "    [\n",
       "      'G0',\n",
       "      'G0154',\n",
       "      '\"Hhcp-svs of rn,ea 15 min\"',\n",
       "      '\"Hhcp-svs of rn,ea 15 min\"'\n",
       "    ],\n",
       "    [\n",
       "      'G0',\n",
       "      'G0155',\n",
       "      'SRVC CLINICAL SOCIAL WORKER HH/HOSPICE EA 15 MIN',\n",
       "      'Services of clinical social worker in home health or hospice settings, each 15 minutes'\n",
       "    ],\n",
       "    [\n",
       "      'G0',\n",
       "      'G0156',\n",
       "      'SRVC HH/HOSPICE AIDE IN HH/HOSPICE SET EA 15 MIN',\n",
       "      'Services of home health/hospice aide in home health or hospice settings, each 15 minutes'\n",
       "    ],\n",
       "    [\n",
       "      'G0',\n",
       "      'G0157',\n",
       "      'SERVICES PT ASSIST HOME HEALTH/HOSPICE EA 15 MIN',\n",
       "      'Services performed by a qualified physical therapist assistant in the home health or hospice setting, each 15 minutes'\n",
       "    ],\n",
       "    [\n",
       "      'G0',\n",
       "      'G0158',\n",
       "      'SERVICE OT ASSIST HOME HEALTH/HOSPICE EA 15 MIN',\n",
       "      'Services performed by a qualified occupational therapist assistant in the home health or hospice setting, each 15 minutes'\n",
       "    ],\n",
       "    [\n",
       "      'G0',\n",
       "      'G0159',\n",
       "      'SERVICES PT HOME HEALTH EST/DEL PT MP EA 15 MINS',\n",
       "      'Services performed by a qualified physical therapist, in the home health setting, in the establishment or delivery of a safe and effective physical therapy maintenance program, each 15 minutes'\n",
       "    ],\n",
       "    [\n",
       "      'G0',\n",
       "      'G0160',\n",
       "      'SERVICES OT HOME HEALTH EST/DEL OT MP EA 15 MINS',\n",
       "      'Services performed by a qualified occupational therapist, in the home health setting, in the establishment or delivery of a safe and effective occupational therapy maintenance program, each 15 minutes'\n",
       "    ],\n",
       "    [\n",
       "      'G0',\n",
       "      'G0161',\n",
       "      'SERVICE SLP HH EST/DEL SPCH-LANG PATH MP EA 15 M',\n",
       "      'Services performed by a qualified speech-language pathologist, in the home health setting, in the establishment or delivery of a safe and effective speech-language pathology maintenance program, each 15 minutes'\n",
       "    ],\n",
       "    [\n",
       "      'G0',\n",
       "      'G0162',\n",
       "      'SKILLED SERVICE RN M&E PLAN OF CARE; EA 15 MINS',\n",
       "      \"Skilled services by a registered nurse (RN) for management and evaluation of the plan of care; each 15 minutes (the patient's underlying condition or complication requires an RN to ensure that essential nonskilled care achieves its purpose in the home health or hospice setting)\"\n",
       "    ],\n",
       "    [\n",
       "      'G0',\n",
       "      'G0163',\n",
       "      'SKILLED SERVICE LPN/RN OBS & ASSESS PT EA 15 MIN',\n",
       "      \"Skilled services of a licensed nurse (LPN or RN) for the observation and assessment of the patient's condition, each 15 minutes (the change in the patient's condition requires skilled nursing personnel to identify and evaluate the patient's need for possible modification of treatment in the home health or hospice setting)\"\n",
       "    ],\n",
       "    [\n",
       "      'G0',\n",
       "      'G0164',\n",
       "      'SKL SRVC LPN/RN TRN&/ED PT/FAM HH/HOSPICE 15 MIN',\n",
       "      'Skilled services of a licensed nurse (LPN or RN), in the training and/or education of a patient or family member, in the home health or hospice setting, each 15 minutes'\n",
       "    ],\n",
       "    [\n",
       "      'G0',\n",
       "      'G0166',\n",
       "      'EXTERNAL COUNTERPULSATION PER TREATMENT SESSION',\n",
       "      'External counterpulsation, per treatment session'\n",
       "    ],\n",
       "    [\n",
       "      'G0',\n",
       "      'G0168',\n",
       "      'WOUND CLOSURE UTILIZING TISSUE ADHESIVE ONLY',\n",
       "      'Wound closure utilizing tissue adhesive(s) only'\n",
       "    ],\n",
       "    [\n",
       "      'G0',\n",
       "      'G0173',\n",
       "      'Linear acc stereo radsur com',\n",
       "      'Linear acc stereo radsur com'\n",
       "    ],\n",
       "    [\n",
       "      'G0',\n",
       "      'G0175',\n",
       "      'SCHED INTERDISCIPLINARY TEAM CONF W/PT PRESENT',\n",
       "      'Scheduled interdisciplinary team conference (minimum of 3 exclusive of patient care nursing staff) with patient present'\n",
       "    ],\n",
       "    [\n",
       "      'G0',\n",
       "      'G0176',\n",
       "      'ACTV TX  REL CARE&TX PTS DISABL MENTL HLTH-SESS',\n",
       "      \"Activity therapy, such as music, dance, art or play therapies not for recreation, related to the care and treatment of patient's disabling mental health problems, per session (45 minutes or more)\"\n",
       "    ],\n",
       "    [\n",
       "      'G0',\n",
       "      'G0177',\n",
       "      'TRN&ED REL CARE&TX PTS DISABL MENTL HLTH-SESS',\n",
       "      \"Training and educational services related to the care and treatment of patient's disabling mental health problems per session (45 minutes or more)\"\n",
       "    ],\n",
       "    [\n",
       "      'G0',\n",
       "      'G0179',\n",
       "      'PHYS RE-CERT MCR-COVR HOM HLTH SRVC RE-CERT PRD',\n",
       "      \"Physician re-certification for Medicare-covered home health services under a home health plan of care (patient not present), including contacts with home health agency and review of reports of patient status required by physicians to affirm the initial implementation of the plan of care that meets patient's needs, per re-certification period\"\n",
       "    ],\n",
       "    [\n",
       "      'G0',\n",
       "      'G0180',\n",
       "      'PHYS CERT MCR-COVR HOM HLTH SRVC PER CERT PRD',\n",
       "      \"Physician certification for Medicare-covered home health services under a home health plan of care (patient not present), including contacts with home health agency and review of reports of patient status required by physicians to affirm the initial implementation of the plan of care that meets patient's needs, per certification period\"\n",
       "    ],\n",
       "    [\n",
       "      'G0',\n",
       "      'G0181',\n",
       "      'PHYS SUPV PT RECV MCR-COVR SRVC HOM HLTH AGCY',\n",
       "      \"Physician supervision of a patient receiving Medicare-covered services provided by a participating home health agency (patient not present) requiring complex and multidisciplinary care modalities involving regular physician development and/or revision of care plans, review of subsequent reports of patient status, review of laboratory and other studies, communication (including telephone calls) with other health care professionals involved in the patient's care, integration of new information into the medical treatment plan and/or adjustment of medical therapy, within a calendar month, 30 minutes or more\"\n",
       "    ],\n",
       "    [\n",
       "      'G0',\n",
       "      'G0182',\n",
       "      'PHYS SUPV PT UNDER MEDICARE-APPROVED HOSPICE',\n",
       "      \"Physician supervision of a patient under a Medicare-approved hospice (patient not present) requiring complex and multidisciplinary care modalities involving regular physician development and/or revision of care plans, review of subsequent reports of patient status, review of laboratory and other studies, communication (including telephone calls) with other health care professionals involved in the patient's care, integration of new information into the medical treatment plan and/or adjustment of medical therapy, within a calendar month, 30 minutes or more\"\n",
       "    ],\n",
       "    [\n",
       "      'G0',\n",
       "      'G0186',\n",
       "      'DESTRUC LOC LES CHOROID; PHOTOCOAG FDER VES TECH',\n",
       "      'Destruction of localized lesion of choroid (for example, choroidal neovascularization); photocoagulation, feeder vessel technique (one or more sessions)'\n",
       "    ],\n",
       "    [\n",
       "      'G0',\n",
       "      'G0202',\n",
       "      'SCREENING MAMMOGRAPHY BIL INCL CAD WHEN PERFORMD',\n",
       "      'Screening mammography, bilateral (2-view study of each breast), including computer-aided detection (CAD) when performed'\n",
       "    ],\n",
       "    [\n",
       "      'G0',\n",
       "      'G0204',\n",
       "      'DIAGNOSTIC MAMMOGRAPHY INCL CAD WHEN PERF; BILAT',\n",
       "      'Diagnostic mammography, including computer-aided detection (CAD) when performed; bilateral'\n",
       "    ],\n",
       "    [\n",
       "      'G0',\n",
       "      'G0206',\n",
       "      'DIAGNOSTIC MAMMOGRAPHY INCL CAD WHEN PERF; UNI',\n",
       "      'Diagnostic mammography, including computer-aided detection (CAD) when performed; unilateral'\n",
       "    ],\n",
       "    [\n",
       "      'G0',\n",
       "      'G0219',\n",
       "      'PET IMAG WHOLE BODY; MELANOMA NON-COVR INDICATS',\n",
       "      'PET imaging whole body; melanoma for noncovered indications'\n",
       "    ],\n",
       "    [\n",
       "      'G0',\n",
       "      'G0235',\n",
       "      'PET IMAGING ANY SITE NOT OTHERWISE SPECIFIED',\n",
       "      'PET imaging, any site, not otherwise specified'\n",
       "    ],\n",
       "    [\n",
       "      'G0',\n",
       "      'G0237',\n",
       "      'MUSCLES FACE TO FACE ONE ON ONE EACH 15 MINUTES',\n",
       "      'Therapeutic procedures to increase strength or endurance of respiratory muscles, face-to-face, one-on-one, each 15 minutes (includes monitoring)'\n",
       "    ],\n",
       "    [\n",
       "      'G0',\n",
       "      'G0238',\n",
       "      'TX PROC IMPRV RESP FUNCT NOT G0237 FCE-FCE 15MIN',\n",
       "      'Therapeutic procedures to improve respiratory function, other than described by G0237, one-on-one, face-to-face, per 15 minutes (includes monitoring)'\n",
       "    ],\n",
       "    [\n",
       "      'G0',\n",
       "      'G0239',\n",
       "      'TX PROC IMPRV RESP FUNCT/INCR RESP MUSC 2/> IND',\n",
       "      'Therapeutic procedures to improve respiratory function or increase strength or endurance of respiratory muscles, 2 or more individuals (includes monitoring)'\n",
       "    ],\n",
       "    [\n",
       "      'G0',\n",
       "      'G0245',\n",
       "      'INITIAL PHYS E&M DIABETIC NEUROPATHY W/LOPS',\n",
       "      'Initial physician evaluation and management of a diabetic patient with diabetic sensory neuropathy resulting in a loss of protective sensation (LOPS) which must include: (1) the diagnosis of LOPS, (2) a patient history, (3) a physical examination that consists of at least the following elements: (a) visual inspection of the forefoot, hindfoot, and toe web spaces, (b) evaluation of a protective sensation, (c) evaluation of foot structure and biomechanics, (d) evaluation of vascular status and skin integrity, and (e) evaluation and recommendation of footwear, and (4) patient education'\n",
       "    ],\n",
       "    [\n",
       "      'G0',\n",
       "      'G0246',\n",
       "      'FOLLOWUP EVAL DIABETIC PT NEUROPATHY W/LOPS',\n",
       "      'Follow-up physician evaluation and management of a diabetic patient with diabetic sensory neuropathy resulting in a loss of protective sensation (LOPS) to include at least the following: (1) a patient history, (2) a physical examination that includes: (a) visual inspection of the forefoot, hindfoot, and toe web spaces, (b) evaluation of protective sensation, (c) evaluation of foot structure and biomechanics, (d) evaluation of vascular status and skin integrity, and (e) evaluation and recommendation of footwear, and (3) patient education'\n",
       "    ],\n",
       "    [\n",
       "      'G0',\n",
       "      'G0247',\n",
       "      'ROUTINE FOOT CARE BY PHYS OF DIABETIC PT W/LOPS',\n",
       "      'Routine foot care by a physician of a diabetic patient with diabetic sensory neuropathy resulting in a loss of protective sensation (LOPS) to include the local care of superficial wounds (i.e., superficial to muscle and fascia) and at least the following, if present: (1) local care of superficial wounds, (2) debridement of corns and calluses, and (3) trimming and debridement of nails'\n",
       "    ],\n",
       "    [\n",
       "      'G0',\n",
       "      'G0248',\n",
       "      'DEMO HOME INR MON PT W/MECH HT VALVE CAF/VTE',\n",
       "      \"Demonstration, prior to initiation of home INR monitoring, for patient with either mechanical heart valve(s), chronic atrial fibrillation, or venous thromboembolism who meets Medicare coverage criteria, under the direction of a physician; includes: face-to-face demonstration of use and care of the INR monitor, obtaining at least one blood sample, provision of instructions for reporting home INR test results, and documentation of patient's ability to perform testing and report results\"\n",
       "    ],\n",
       "    [\n",
       "      'G0',\n",
       "      'G0249',\n",
       "      'PRVS TEST MATL & EQUIP HOME INR MON; ONCE A WEEK',\n",
       "      'Provision of test materials and equipment for home INR monitoring of patient with either mechanical heart valve(s), chronic atrial fibrillation, or venous thromboembolism who meets Medicare coverage criteria; includes: provision of materials for use in the home and reporting of test results to physician; testing not occurring more frequently than once a week; testing materials, billing units of service include 4 tests'\n",
       "    ],\n",
       "    [\n",
       "      'G0',\n",
       "      'G0250',\n",
       "      'PHYS REV INTEPR & PT MGMT HOME INR MON; 1 A WEEK',\n",
       "      'Physician review, interpretation, and patient management of home INR testing for patient with either mechanical heart valve(s), chronic atrial fibrillation, or venous thromboembolism who meets Medicare coverage criteria; testing not occurring more frequently than once a week; billing units of service include 4 tests'\n",
       "    ],\n",
       "    [\n",
       "      'G0',\n",
       "      'G0251',\n",
       "      'Linear acc based stero radio',\n",
       "      'Linear acc based stero radio'\n",
       "    ],\n",
       "    [\n",
       "      'G0',\n",
       "      'G0252',\n",
       "      'PET IMAG INIT DX BREST CA&/SURG PLAN NOT COV MCR',\n",
       "      'PET imaging, full and partial-ring PET scanners only, for initial diagnosis of breast cancer and/or surgical planning for breast cancer (e.g., initial staging of axillary lymph nodes)'\n",
       "    ],\n",
       "    [\n",
       "      'G0',\n",
       "      'G0255',\n",
       "      'CURRNT PERCEPT THRESHOLD/SNCT PER LIMB ANY NERVE',\n",
       "      'Current perception threshold/sensory nerve conduction test, (SNCT) per limb, any nerve'\n",
       "    ],\n",
       "    [\n",
       "      'G0',\n",
       "      'G0257',\n",
       "      'UNSCHD/EMERG DIALYSIS TX ESRD PT HOS OP NOT CERT',\n",
       "      'Unscheduled or emergency dialysis treatment for an ESRD patient in a hospital outpatient department that is not certified as an ESRD facility'\n",
       "    ],\n",
       "    [\n",
       "      'G0',\n",
       "      'G0259',\n",
       "      'INJECTION PROCEDURE FOR SI JNT; ARTHROGRAPY',\n",
       "      'Injection procedure for sacroiliac joint; arthrography'\n",
       "    ],\n",
       "    [\n",
       "      'G0',\n",
       "      'G0260',\n",
       "      'INJ PROC SI JNT;ANES STEROID&/TX AGT&ARTHROGRPH',\n",
       "      'Injection procedure for sacroiliac joint; provision of anesthetic, steroid and/or other therapeutic agent, with or without arthrography'\n",
       "    ],\n",
       "    [\n",
       "      'G0',\n",
       "      'G0268',\n",
       "      'REMV IMP CERUMEN PHYS SAME DATE AUDIO FUNCT TST',\n",
       "      'Removal of impacted cerumen (one or both ears) by physician on same date of service as audiologic function testing'\n",
       "    ],\n",
       "    [\n",
       "      'G0',\n",
       "      'G0269',\n",
       "      'PLCMT OCCL DEVC VENUS/ART POST SURG/INTRVNL PROC',\n",
       "      'Placement of occlusive device into either a venous or arterial access site, postsurgical or interventional procedure (e.g., angioseal plug, vascular plug)'\n",
       "    ],\n",
       "    [\n",
       "      'G0',\n",
       "      'G0270',\n",
       "      'MED NUT TX; REASSESS FLW 2 REF YR W/PT EA 15 MIN',\n",
       "      'Medical nutrition therapy; reassessment and subsequent intervention(s) following second referral in same year for change in diagnosis, medical condition or treatment regimen (including additional hours needed for renal disease), individual, face-to-face with the patient, each 15 minutes'\n",
       "    ],\n",
       "    [\n",
       "      'G0',\n",
       "      'G0271',\n",
       "      'MED NUT TX REASSESS FLW 2 REF YR GRP EA 30 MIN',\n",
       "      'Medical nutrition therapy, reassessment and subsequent intervention(s) following second referral in same year for change in diagnosis, medical condition, or treatment regimen (including additional hours needed for renal disease), group (2 or more individuals), each 30 minutes'\n",
       "    ],\n",
       "    [\n",
       "      'G0',\n",
       "      'G0275',\n",
       "      '\"Renal angio, cardiac cath\"',\n",
       "      '\"Renal angio, cardiac cath\"'\n",
       "    ],\n",
       "    [\n",
       "      'G0',\n",
       "      'G0276',\n",
       "      'PILD/PLACEBO CONTROL CLIN TR',\n",
       "      'Blinded procedure for lumbar stenosis,  percutaneous image-guided lumbar decompression (PILD) or placebo-control, performed in an approved coverage with evidence development (CED) clinical trial'\n",
       "    ],\n",
       "    [\n",
       "      'G0',\n",
       "      'G0277',\n",
       "      'HPO UND PRESS FULL BODY CHMBR PER 30 MIN INT',\n",
       "      'Hyperbaric oxygen under pressure, full body chamber, per 30 minute interval'\n",
       "    ],\n",
       "    [\n",
       "      'G0',\n",
       "      'G0278',\n",
       "      'ILIAC&/FEM ART ANGIO NONSEL AT TIME CARD CATH',\n",
       "      'Iliac and/or femoral artery angiography, nonselective, bilateral or ipsilateral to catheter insertion, performed at the same time as cardiac catheterization and/or coronary angiography, includes positioning or placement of the catheter in the distal aorta or ipsilateral femoral or iliac artery, injection of dye, production of permanent images, and radiologic supervision and interpretation (List separately in addition to primary procedure)'\n",
       "    ],\n",
       "    [\n",
       "      'G0',\n",
       "      'G0279',\n",
       "      'DIAGNOSTIC DIGITAL BREAST TOMOSYNTHESIS UNI/BIL',\n",
       "      'Diagnostic digital breast tomosynthesis, unilateral or bilateral (List separately in addition to G0204 or G0206)'\n",
       "    ],\n",
       "    [\n",
       "      'G0',\n",
       "      'G0281',\n",
       "      'E-STIM 1/> AREAS CHRONIC STAGE III&IV ULCERS',\n",
       "      'Electrical stimulation, (unattended), to one or more areas, for chronic Stage III and Stage IV pressure ulcers, arterial ulcers, diabetic ulcers, and venous stasis ulcers not demonstrating measurable signs of healing after 30 days of conventional care, as part of a therapy plan of care'\n",
       "    ],\n",
       "    [\n",
       "      'G0',\n",
       "      'G0282',\n",
       "      'E-STIM 1/MORE AREAS WND CARE OTH THAN DESC G0281',\n",
       "      'Electrical stimulation, (unattended), to one or more areas, for wound care other than described in G0281'\n",
       "    ],\n",
       "    [\n",
       "      'G0',\n",
       "      'G0283',\n",
       "      'E-STIM 1/> AREAS OTH THAN WND CARE PART TX PLAN',\n",
       "      'Electrical stimulation (unattended), to one or more areas for indication(s) other than wound care, as part of a therapy plan of care'\n",
       "    ],\n",
       "    [\n",
       "      'G0',\n",
       "      'G0288',\n",
       "      'RECON CT ANGIO AORTA SURG PLANNING VASC SURG',\n",
       "      'Reconstruction, computed tomographic angiography of aorta for surgical planning for vascular surgery'\n",
       "    ],\n",
       "    [\n",
       "      'G0',\n",
       "      'G0289',\n",
       "      'SCOPE KNEE REMV FB/SHAV TM OTH SURG DIFF CMPRTMT',\n",
       "      'Arthroscopy, knee, surgical, for removal of loose body, foreign body, debridement/shaving of articular cartilage (chondroplasty) at the time of other surgical knee arthroscopy in a different compartment of the same knee'\n",
       "    ],\n",
       "    [\n",
       "      'G0',\n",
       "      'G0290',\n",
       "      '\"Drug-eluting stents, single\"',\n",
       "      '\"Drug-eluting stents, single\"'\n",
       "    ],\n",
       "    [\n",
       "      'G0',\n",
       "      'G0291',\n",
       "      '\"Drug-eluting stents,each add\"',\n",
       "      '\"Drug-eluting stents,each add\"'\n",
       "    ],\n",
       "    [\n",
       "      'G0',\n",
       "      'G0293',\n",
       "      'NONCOVR SURG CONSC SEDAT ANES-MCR QUAL TRIAL-DAY',\n",
       "      'Noncovered surgical procedure(s) using conscious sedation, regional, general, or spinal anesthesia in a Medicare qualifying clinical trial, per day'\n",
       "    ],\n",
       "    [\n",
       "      'G0',\n",
       "      'G0294',\n",
       "      'NONCOVR PROC NO ANES/LOC ANES-MCR QUAL TRIAL-DAY',\n",
       "      'Noncovered procedure(s) using either no anesthesia or local anesthesia only, in a Medicare qualifying clinical trial, per day'\n",
       "    ],\n",
       "    [\n",
       "      'G0',\n",
       "      'G0295',\n",
       "      'ELECMAGNET TX 1/>AREA WND CARE NOT G0329/OTH USE',\n",
       "      'Electromagnetic therapy, to one or more areas, for wound care other than described in G0329 or for other uses'\n",
       "    ],\n",
       "    [\n",
       "      'G0',\n",
       "      'G0296',\n",
       "      'CNSL VISIT DISCUSS LDCT USING LOW DOSE CT SCAN',\n",
       "      'Counseling visit to discuss need for lung cancer screening using low dose CT scan (LDCT) (service is for eligibility determination and shared decision making)'\n",
       "    ],\n",
       "    [\n",
       "      'G0',\n",
       "      'G0297',\n",
       "      'LOW DOSE CT SCAN FOR LUNG CANCER SCREENING',\n",
       "      'Low dose CT scan (LDCT) for lung cancer screening'\n",
       "    ],\n",
       "    [\n",
       "      'G0',\n",
       "      'G0299',\n",
       "      'DIRECT SNS RN HOME HEALTH/HOSPICE SET EA 15 MIN',\n",
       "      'Direct skilled nursing services of a registered nurse (RN) in the home health or hospice setting, each 15 minutes'\n",
       "    ],\n",
       "    [\n",
       "      'G0',\n",
       "      'G0300',\n",
       "      'DIRECT SNS LPN HOME HLTH/HOSPICE SET EA 15 MIN',\n",
       "      'Direct skilled nursing services of a licensed practical nurse (LPN) in the home health or hospice setting, each 15 minutes'\n",
       "    ],\n",
       "    [\n",
       "      'G0',\n",
       "      'G0302',\n",
       "      'PRE-OP PULM SURG SRVC PREP LVRS CMPL COURSE SRVC',\n",
       "      'Preoperative pulmonary surgery services for preparation for LVRS, complete course of services, to include a minimum of 16 days of services'\n",
       "    ],\n",
       "    [\n",
       "      'G0',\n",
       "      'G0303',\n",
       "      'PRE-OP PULM SURG SRVC PREP LVRS 10-15 DA SRVC',\n",
       "      'Preoperative pulmonary surgery services for preparation for LVRS, 10 to 15 days of services'\n",
       "    ],\n",
       "    [\n",
       "      'G0',\n",
       "      'G0304',\n",
       "      'PRE-OP PULM SURG PREP LVRS 1-9 DA SRVC',\n",
       "      'Preoperative pulmonary surgery services for preparation for LVRS, 1 to 9 days of services'\n",
       "    ],\n",
       "    ... 119 more items\n",
       "  ],\n",
       "  _columns: [ 'TYPE', 'CODE', 'SHORT', 'DESCRIPTION' ],\n",
       "  _name: '',\n",
       "  _unique: undefined,\n",
       "  _sortCols: [],\n",
       "  _row: undefined,\n",
       "  AccessClass: [Function],\n",
       "  showLen: 400,\n",
       "  rowColor: [Function: colorDefault],\n",
       "  _hash: -1\n",
       "}"
      ]
     },
     "execution_count": 41,
     "metadata": {},
     "output_type": "execute_result"
    }
   ],
   "source": [
    "HCPCS.filter(r => r.TYPE === 'G0')//.groupBy(['TYPE', gb.count('TYPE', 'COUNT')])\n"
   ]
  },
  {
   "cell_type": "code",
   "execution_count": null,
   "metadata": {
    "collapsed": true
   },
   "outputs": [],
   "source": [
    "$$.html(`<script>\n",
    "console.log(define.toString())\n",
    "</script>`)\n"
   ]
  },
  {
   "cell_type": "code",
   "execution_count": 44,
   "metadata": {},
   "outputs": [
    {
     "data": {
      "text/plain": [
       "undefined"
      ]
     },
     "execution_count": 44,
     "metadata": {},
     "output_type": "execute_result"
    }
   ],
   "source": [
    "var CFrame = class {\n",
    "    constructor(data, columns, isColumn=true) {\n",
    "        this.columns = columns;\n",
    "        let len = isColumn? data[0].length : data.length;\n",
    "        this.length = len;\n",
    "        if(!column) {\n",
    "           let rLn = this.columns.length;\n",
    "           let aData = arrayOf(() => new Array(len), rLn);\n",
    "           this.data = aData;\n",
    "           for(let i=0; i<len; i++) {\n",
    "               let row = data[i];\n",
    "               let j = 0;\n",
    "               for(; j< rLn-7; j+= 8) {\n",
    "                   aData[j][i] = row[j];\n",
    "                   aData[j+1][i] = row[j+1];\n",
    "                   aData[j+2][i] = row[j+2];\n",
    "                   aData[j+3][i] = row[j+3];\n",
    "                   aData[j+4][i] = row[j+4];\n",
    "                   aData[j+5][i] = row[j+5];\n",
    "                   aData[j+6][i] = row[j+6];\n",
    "                   aData[j+7][i] = row[j+7];\n",
    "               }\n",
    "               for(; j< rLn-3; j+= 4) {\n",
    "                   aData[j][i] = row[j];\n",
    "                   aData[j+1][i] = row[j+1];\n",
    "                   aData[j+2][i] = row[j+2];\n",
    "                   aData[j+3][i] = row[j+3];\n",
    "               }\n",
    "               for(; j< rLn; j++) {\n",
    "                   aData[j][i] = row[j]\n",
    "               }\n",
    "           }\n",
    "       }\n",
    "    }\n",
    "\n",
    "    /**\n",
    "     * old Column array\n",
    "    _colMapper(mapArray, baseData) {\n",
    "        \n",
    "    }*/\n",
    "}"
   ]
  },
  {
   "cell_type": "markdown",
   "metadata": {},
   "source": [
    "#Adam optimizer"
   ]
  },
  {
   "cell_type": "code",
   "execution_count": 45,
   "metadata": {},
   "outputs": [
    {
     "data": {
      "text/plain": [
       "undefined"
      ]
     },
     "execution_count": 45,
     "metadata": {},
     "output_type": "execute_result"
    }
   ],
   "source": [
    "/*\n",
    "  Adam optimizer javascript implementation based on the original article: https://arxiv.org/pdf/1412.6980.pdf\n",
    "  Code written by Damir Vodenicarevic (https://damip.net) in march 2017.\n",
    "  Updated by Nurul Choudhury\n",
    "  This work is licensed under a Creative Commons Attribution 4.0 International License.\n",
    "  http://creativecommons.org/licenses/by/4.0/\n",
    "*/\n",
    "\n",
    "function adam_optimizer(nparams, beta_1=0.9, beta_2=0.999, epsilon=1e-8) {\n",
    "    var self= this;\n",
    "\n",
    "    self.nparams= nparams;\n",
    "    self.beta_1= beta_1;\n",
    "    self.beta_2= beta_2;\n",
    "    self.epsilon= epsilon;\n",
    "    \n",
    "    self.m= []; \n",
    "    self.v= [];\n",
    "    for(var i= 0 ; i < self.nparams ; ++i) {\n",
    "        self.m[i]= 0; // Initialize 1st moment vector\n",
    "        self.v[i]= 0; // Initialize 2nd moment vector\n",
    "    }\n",
    "    self.t= 0; //Initialize timestep\n",
    "    self.b1t = beta_1;\n",
    "    self.b2t = beta_2;\n",
    "    self.get_update= function(alpha, g) { // alpha is the learning rate, g is the gradient\n",
    "        self.t += 1;\n",
    "        let updates= new Array(self.nparams);\n",
    "        let m = self.m;\n",
    "        let v = self.v;\n",
    "        let beta_1 = self.beta_1;\n",
    "        let beta_2 = self.beta_2, b1t = self.b1t, b2t= self.b2t;\n",
    "        let epsilon = self.epsilon;\n",
    "        for(var i= 0 ; i < self.nparams ; ++i) {\n",
    "            m[i]= beta_1*m[i] + (1-beta_1)*g[i]; // Update biased first moment estimate\n",
    "            v[i]= beta_2*v[i] + (1-beta_2)*g[i]*g[i]; // Update biased second raw moment estimate\n",
    "            var mub= m[i]/(1 - b1t); // Compute bias-corrected first moment estimate\n",
    "            var vub= self.v[i]/(1 - b2t); // Compute bias-corrected second raw moment estimate\n",
    "            updates[i]= - alpha * mub / ( Math.sqrt(vub) + epsilon  ); // Return parameter updates\n",
    "           // console.log({b1t:self.b1t,b2t:self.b2t});\n",
    "        }\n",
    "        self.b1t *= beta_1*beta_1;\n",
    "        self.b2t *= beta_2*beta_2;\n",
    "        return updates;\n",
    "    };\n",
    "};\n",
    "\n",
    "var Adam = class {\n",
    "    constructor(nparams, beta_1=0.9, beta_2=0.999, epsilon=1e-8) {\n",
    "        this.nparams= nparams;\n",
    "        this.beta_1= beta_1;\n",
    "        this.beta_2= beta_2;\n",
    "        this.epsilon= epsilon;\n",
    "\n",
    "        this.m= []; \n",
    "        this.v= [];\n",
    "        for(var i= 0 ; i < this.nparams ; ++i) {\n",
    "            this.m[i]= 0; // Initialize 1st moment vector\n",
    "            this.v[i]= 0; // Initialize 2nd moment vector\n",
    "        }\n",
    "        this.t= 0; //Initialize timestep\n",
    "        this.b1t = beta_1;\n",
    "        this.b2t = beta_2;\n",
    "    }\n",
    "    get_update(alpha, g) { // alpha is the learning rate, g is the gradient\n",
    "        this.t += 1;\n",
    "        let updates= new Array(this.nparams);\n",
    "        const {m,v,b,beta_1,beta_2, b1t, b2t, epsilon, nparams} = this;\n",
    "         \n",
    "        for(var i= 0 ; i < nparams ; ++i) {\n",
    "            m[i]= beta_1*m[i] + (1-beta_1)*g[i]; // Update biased first moment estimate\n",
    "            v[i]= beta_2*v[i] + (1-beta_2)*g[i]*g[i]; // Update biased second raw moment estimate\n",
    "            var mub= m[i]/(1 - b1t); // Compute bias-corrected first moment estimate\n",
    "            var vub= v[i]/(1 - b2t); // Compute bias-corrected second raw moment estimate\n",
    "            updates[i]= - alpha * mub / ( Math.sqrt(vub) + epsilon  ); // Return parameter updates\n",
    "        }\n",
    "        this.b1t *= beta_1*beta_1;\n",
    "        this.b2t *= beta_2*beta_2;\n",
    "        return updates;\n",
    "    };\n",
    "}"
   ]
  },
  {
   "cell_type": "code",
   "execution_count": 46,
   "metadata": {},
   "outputs": [
    {
     "data": {
      "text/plain": [
       "[Function: Adam]"
      ]
     },
     "execution_count": 46,
     "metadata": {},
     "output_type": "execute_result"
    }
   ],
   "source": [
    "Adam"
   ]
  },
  {
   "cell_type": "code",
   "execution_count": 55,
   "metadata": {},
   "outputs": [
    {
     "data": {
      "text/plain": [
       "undefined"
      ]
     },
     "execution_count": 55,
     "metadata": {},
     "output_type": "execute_result"
    }
   ],
   "source": [
    "var m = 0, v = 0, beta_1 = 0.9, beta_2 = 0.999;\n",
    "var b1t = beta_1, b2t = beta_2;\n",
    "function gx([x,y]) {\n",
    "    return [2*x-100*2*x*(y-x*x), 100*2*(y-x*x)]\n",
    "}\n",
    "\n",
    "var fx = ([x,y]) => x*x+100*(y-x*x)*(y-x*x);"
   ]
  },
  {
   "cell_type": "code",
   "execution_count": 52,
   "metadata": {},
   "outputs": [
    {
     "data": {
      "text/plain": [
       "undefined"
      ]
     },
     "execution_count": 52,
     "metadata": {},
     "output_type": "execute_result"
    }
   ],
   "source": [
    "function steepest_descent_optimizer(nparams) {\n",
    "    var self= this;\n",
    "\n",
    "    self.nparams= nparams;\n",
    "    \n",
    "    self.get_update= function(alpha, g) { // alpha is the learning rate, g is the gradient\n",
    "        var updates= [];\n",
    "        for(var i= 0 ; i < self.nparams ; ++i) {\n",
    "            updates[i]= - alpha * g[i]; // Return parameter updates\n",
    "        }\n",
    "        //console.log('updates:',updates);\n",
    "        return updates;\n",
    "    };\n",
    "};\n",
    "\n",
    "function adam_optimizerOld(nparams, beta_1=0.9, beta_2=0.999, epsilon=1e-8) {\n",
    "    var self= this;\n",
    "\n",
    "    self.nparams= nparams;\n",
    "    self.beta_1= beta_1;\n",
    "    self.beta_2= beta_2;\n",
    "    self.epsilon= epsilon;\n",
    "    \n",
    "    self.m= []; \n",
    "    self.v= [];\n",
    "    for(var i= 0 ; i < self.nparams ; ++i) {\n",
    "        self.m[i]= 0; // Initialize 1st moment vector\n",
    "        self.v[i]= 0; // Initialize 2nd moment vector\n",
    "    }\n",
    "    self.t= 0; //Initialize timestep\n",
    "    \n",
    "    self.get_update= function(alpha, g) { // alpha is the learning rate, g is the gradient\n",
    "        self.t += 1;\n",
    "        var t = self.t;\n",
    "        var updates= [];\n",
    "        for(var i= 0 ; i < self.nparams ; ++i) {\n",
    "            self.m[i]= self.beta_1*self.m[i] + (1-self.beta_1)*g[i]; // Update biased first moment estimate\n",
    "            self.v[i]= self.beta_2*self.v[i] + (1-self.beta_2)*g[i]*g[i]; // Update biased second raw moment estimate\n",
    "            var mub= self.m[i]/(1 - Math.pow(self.beta_1,2*t-1)); // Compute bias-corrected first moment estimate\n",
    "            var vub= self.v[i]/(1 - Math.pow(self.beta_2,2*t-1)); // Compute bias-corrected second raw moment estimate\n",
    "            updates[i]= - alpha * mub / ( Math.sqrt(vub) + self.epsilon  ); // Return parameter updates\n",
    "           //console.log({b1t:Math.pow(self.beta_1,2*t-1),b2t:Math.pow(self.beta_2,2*t-1)})\n",
    "        }\n",
    "        return updates;\n",
    "    };\n",
    "};"
   ]
  },
  {
   "cell_type": "code",
   "execution_count": 57,
   "metadata": {},
   "outputs": [
    {
     "data": {
      "text/plain": [
       "[Function: gx]"
      ]
     },
     "execution_count": 57,
     "metadata": {},
     "output_type": "execute_result"
    }
   ],
   "source": [
    "var g = 0.015;\n",
    "var epsilon=1e-8;\n",
    "var alpha = 0.05;\n",
    "var theta = 5;\n",
    "\n",
    "gx"
   ]
  },
  {
   "cell_type": "code",
   "execution_count": 64,
   "metadata": {
    "scrolled": true
   },
   "outputs": [
    {
     "name": "stdout",
     "output_type": "stream",
     "text": [
      "{\n",
      "  update: NaN,\n",
      "  theta: 'NaN,NaNNaNNaNNaNNaNNaNNaNNaNNaNNaNNaNNaNNaNNaNNaNNaNNaNNaNNaNNaNNaNNaNNaNNaNNaNNaNNaNNaNNaNNaNNaNNaNNaNNaNNaNNaNNaNNaNNaNNaNNaNNaNNaNNaNNaNNaNNaNNaNNaNNaNNaNNaNNaNNaNNaNNaNNaNNaNNaNNaNNaNNaNNaNNaNNaNNaNNaNNaNNaNNaNNaNNaNNaNNaNNaNNaNNaNNaNNaNNaNNaNNaNNaNNaNNaNNaNNaNNaNNaNNaNNaNNaNNaNNaNNaNNaNNaNNaNNaNNaNNaN',\n",
      "  mub: NaN,\n",
      "  vub: NaN,\n",
      "  m: NaN,\n",
      "  b1t: 6.349571197789829e-10,\n",
      "  b2t: 0.8178301806491574,\n",
      "  g: [ NaN, NaN ],\n",
      "  g2: NaN\n",
      "}\n"
     ]
    },
    {
     "data": {
      "text/plain": [
       "undefined"
      ]
     },
     "execution_count": 64,
     "metadata": {},
     "output_type": "execute_result"
    }
   ],
   "source": [
    "for(var i=0; i<100; i++){\n",
    "    g = gx(theta);\n",
    "    m = beta_1*m + (1-beta_1)*g;\n",
    "    v = beta_2*v + (1-beta_2)*g*g;\n",
    "    var mub =m/(1-b1t);\n",
    "    var vub =v/(1-b2t);\n",
    "    b1t = beta_1*b1t;\n",
    "    b2t = beta_2*b2t;\n",
    "    var update = - alpha * mub / ( Math.sqrt(vub) + epsilon  );\n",
    "    theta += update;\n",
    "    \n",
    "}\n",
    "console.log({update, theta,mub, vub: Math.sqrt(vub),m, b1t, b2t, g, g2: g*g})"
   ]
  },
  {
   "cell_type": "code",
   "execution_count": 65,
   "metadata": {},
   "outputs": [
    {
     "name": "stdout",
     "output_type": "stream",
     "text": [
      "Current function value: NaN [ NaN, NaN ]\n"
     ]
    },
    {
     "data": {
      "text/plain": [
       "undefined"
      ]
     },
     "execution_count": 65,
     "metadata": {},
     "output_type": "execute_result"
    }
   ],
   "source": [
    "var theta= [1,1]; // Initialize parameters\n",
    "\n",
    "var sphere_function= function(theta) {\n",
    "    var res= 0;\n",
    "    for(var i= 0 ; i < theta.length ; ++i) {\n",
    "        res += theta[i]*theta[i];\n",
    "    }\n",
    "    return res;\n",
    "}\n",
    "\n",
    "var sphere_function_gradient= function(theta) {\n",
    "    var res= [0,0];\n",
    "    for(var i= 0 ; i < theta.length ; ++i) {\n",
    "        res[i]= 2*theta[i];\n",
    "    }\n",
    "    return res;\n",
    "}\n",
    "\n",
    "/*\n",
    "  Binary Descent optimizer javascript implementation\n",
    "  Code written by Damir Vodenicarevic (https://damip.net) in march 2017.\n",
    "  This work is licensed under a Creative Commons Attribution 4.0 International License.\n",
    "  http://creativecommons.org/licenses/by/4.0/\n",
    "*/\n",
    "\n",
    "function binary_descent_optimizer(nparams) {\n",
    "    var self= this;\n",
    "\n",
    "    self.nparams= nparams;\n",
    "    \n",
    "    self.get_update= function(alpha, g) { // alpha is the learning rate, g is the gradient\n",
    "        var updates= [];\n",
    "        for(var i= 0 ; i < self.nparams ; ++i) {\n",
    "            updates[i]= alpha * (g[i] >= 0 ? -1 : +1); // Return parameter updates\n",
    "        }\n",
    "        return updates;\n",
    "    };\n",
    "};\n",
    "\n",
    "//var optimizer= new binary_descent_optimizer(theta.length); // Choose optimizer here\n",
    "var optimizer= new steepest_descent_optimizer(theta.length); // Choose optimizer here\n",
    "\n",
    "var alpha= 0.05; // Learning rate\n",
    "var nsteps= 200; // Number of optimization steps\n",
    "for(var step= 0; step < nsteps ; ++step) {\n",
    "    //var update= optimizer.get_update(alpha, sphere_function_gradient(theta)); // get the update from the optimizer \n",
    "    var update= optimizer.get_update(alpha, gx(theta)); // get the update from the optimizer \n",
    "  for(var i= 0 ; i < theta.length ; ++i) {\n",
    "    theta[i] += update[i]; //apply the update\n",
    "  }\n",
    "  //var value= sphere_function(theta);\n",
    "  var value= fx(theta);\n",
    "  \n",
    "  \n",
    "}\n",
    "console.log('Current function value: ' + value, theta);"
   ]
  },
  {
   "cell_type": "code",
   "execution_count": 61,
   "metadata": {
    "scrolled": true
   },
   "outputs": [
    {
     "name": "stdout",
     "output_type": "stream",
     "text": [
      "Current function value: 5.456541394694749e-21 [ 7.375709024055312e-11, 4.0537679241308135e-13 ] [ 1.4751418047512636e-10, 8.10753573945946e-11 ] [ -8.426564308357165e-12, 7.243737795405949e-13 ]\n"
     ]
    },
    {
     "data": {
      "text/plain": [
       "[ 7.375709024055312e-11, 4.0537679241308135e-13 ]"
      ]
     },
     "execution_count": 61,
     "metadata": {},
     "output_type": "execute_result"
    }
   ],
   "source": [
    "function fit(genOptimizer,grad=gx,func=fx,_steps=190,alpha=0.05,beta_1=0.9, beta_2=0.999) {\n",
    "    var theta= [1,1]; // Initialize parameters\n",
    "    var optimizer= new genOptimizer(theta.length,beta_1,beta_2); // Choose optimizer here\n",
    "\n",
    "    //alpha=  Learning rate\n",
    "    var nsteps= _steps; // Number of optimization steps\n",
    "    for(var step= 0; step < nsteps ; ++step) {\n",
    "      var update= optimizer.get_update(alpha, grad(theta)); // get the update from the optimizer \n",
    "      for(var i= 0 ; i < theta.length ; ++i) {\n",
    "        theta[i] += update[i]; //apply the update\n",
    "      }\n",
    "      var value= func(theta);\n",
    "\n",
    "      //console.log('Current function value: ' + value, theta, gx(theta), update);\n",
    "    }\n",
    "    console.log('Current function value: ' + value, theta, grad(theta), update);\n",
    "    return theta;\n",
    "}\n",
    "\n",
    "//fit(adam_optimizerOld,sphere_function_gradient,sphere_function,100);\n",
    "fit(adam_optimizerOld,gx,fx,500,0.1);\n",
    "\n",
    "//sphere_function(0.12461140440061709, 0.15483380486489354)"
   ]
  },
  {
   "cell_type": "code",
   "execution_count": 62,
   "metadata": {},
   "outputs": [
    {
     "name": "stdout",
     "output_type": "stream",
     "text": [
      "Current function value: 5.48653047044568e-22 [ -8.532653491994786e-12, 2.181391462947173e-12 ] [ -1.706530698026696e-11, 4.362782925748734e-10 ] [ 6.345388359997066e-13, 8.466933544670249e-13 ]\n",
      "Call to func took 6 milliseconds.\n",
      "Current function value: 2.0376338811616955e-31 [ -3.191891195797325e-16, -3.191891195797325e-16 ] [ -6.38378239159465e-16, -6.38378239159465e-16 ] [ -0.05, -0.05 ]\n",
      "Call to func took 2 milliseconds.\n"
     ]
    },
    {
     "data": {
      "text/plain": [
       "[ -3.191891195797325e-16, -3.191891195797325e-16 ]"
      ]
     },
     "execution_count": 62,
     "metadata": {},
     "output_type": "execute_result"
    }
   ],
   "source": [
    " //fit(adam_optimizer,sphere_function_gradient,sphere_function,100);\n",
    "timeOf(() =>fit(Adam,gx,fx,500,0.3));\n",
    "timeOf(() =>fit(binary_descent_optimizer,sphere_function_gradient,sphere_function,300));\n",
    "\n",
    "//fit(steepest_descent_optimizer,sphere_function_gradient,sphere_function,100);\n",
    "//fit(binary_descent_optimizer,130);"
   ]
  }
 ],
 "metadata": {
  "kernelspec": {
   "display_name": "Javascript (Node.js)",
   "language": "javascript",
   "name": "javascript"
  },
  "language_info": {
   "file_extension": ".js",
   "mimetype": "application/javascript",
   "name": "javascript",
   "version": "12.13.0"
  }
 },
 "nbformat": 4,
 "nbformat_minor": 2
}
