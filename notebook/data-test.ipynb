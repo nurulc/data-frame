{
 "cells": [
  {
   "cell_type": "code",
   "execution_count": 7,
   "metadata": {
    "scrolled": true
   },
   "outputs": [
    {
     "data": {
      "text/html": [
       "\n",
       "    <script>\n",
       "        window.exports = {};\n",
       "        window.module = true;\n",
       "        //alert('1. D3 load'+window.exports);\n",
       "    </script>\n",
       "    <script src=\"https://cdnjs.cloudflare.com/ajax/libs/d3/4.13.0/d3.js\"></script>\n",
       "    \n",
       "    <script>\n",
       "         //alert('2. D3 load ');\n",
       "          if(!window.d3) window.d3=window.exports;\n",
       "       \n",
       "        function setData(data, func) {\n",
       "            setTimeout((data)=>func(data),0);\n",
       "        }\n",
       "    </script>"
      ]
     },
     "execution_count": 7,
     "metadata": {},
     "output_type": "execute_result"
    },
    {
     "name": "stdout",
     "output_type": "stream",
     "text": [
      "D3 - loader\n"
     ]
    }
   ],
   "source": [
    "//var Collection = require('dstools').Collection;\n",
    "//var data = Collection().loadCSV('data.csv');\n",
    "// var data = Collection([{field1:2,field2:4},{field1:3,field2:5},{field1:2,field2:4}\n",
    "//                        ,{field1:4,field2:4},{field1:4,field2:4},{field1:2,field2:4}]);\n",
    "\n",
    "//var data = Collection().loadCSV('heart.csv');\n",
    "//var lib = require('../lib')\n",
    "\n",
    "\n",
    "var fs = require('fs');\n",
    "var _init = fs.readFileSync('init.js').toString();\n",
    "eval(_init);\n",
    "setupD3();\n"
   ]
  },
  {
   "cell_type": "code",
   "execution_count": 12,
   "metadata": {},
   "outputs": [
    {
     "data": {
      "text/plain": [
       "[Function: timeOf]"
      ]
     },
     "execution_count": 12,
     "metadata": {},
     "output_type": "execute_result"
    }
   ],
   "source": [
    "timeOf"
   ]
  },
  {
   "cell_type": "code",
   "execution_count": 2,
   "metadata": {},
   "outputs": [
    {
     "data": {
      "text/plain": [
       "undefined"
      ]
     },
     "execution_count": 2,
     "metadata": {},
     "output_type": "execute_result"
    }
   ],
   "source": [
    "range"
   ]
  },
  {
   "cell_type": "code",
   "execution_count": 13,
   "metadata": {},
   "outputs": [
    {
     "data": {
      "text/plain": [
       "undefined"
      ]
     },
     "execution_count": 13,
     "metadata": {},
     "output_type": "execute_result"
    }
   ],
   "source": [
    "function doN(n, fn) {\n",
    "    return () =>\n",
    "    {\n",
    "        var res;\n",
    "        for(let i=0;i<n; i++) {\n",
    "            res = fn(res)\n",
    "        }\n",
    "        return res;\n",
    "    }\n",
    "}"
   ]
  },
  {
   "cell_type": "code",
   "execution_count": 8,
   "metadata": {
    "scrolled": false
   },
   "outputs": [
    {
     "name": "stdout",
     "output_type": "stream",
     "text": [
      "bytes read 13187299\n",
      "Lines:  150410\n"
     ]
    },
    {
     "data": {
      "text/plain": [
       "undefined"
      ]
     },
     "execution_count": 8,
     "metadata": {},
     "output_type": "execute_result"
    }
   ],
   "source": [
    "var ICD10 = readZipFrame('../data/reference/all_icd10_codes.tsv.gz');\n",
    "\n"
   ]
  },
  {
   "cell_type": "code",
   "execution_count": 14,
   "metadata": {},
   "outputs": [
    {
     "name": "stdout",
     "output_type": "stream",
     "text": [
      "Call to func took 26 milliseconds.\n",
      "Call to func took 28 milliseconds.\n",
      "Call to func took 21 milliseconds.\n"
     ]
    },
    {
     "data": {
      "text/plain": [
       "undefined"
      ]
     },
     "execution_count": 14,
     "metadata": {},
     "output_type": "execute_result"
    }
   ],
   "source": [
    "var CNT = 1\n",
    "var myData = timeOf(doN(CNT, () =>ICD10.filter(r => r.ICD10.match(/^A/) ).project(['ICD10'])))\n",
    "var __ = timeOf(doN(CNT, () =>ICD10.filter(r => r.ICD10.startsWith('A') ).project(['ICD10'])))\n",
    "var __ = timeOf(doN(CNT, () =>ICD10.filter(r => r.ICD10.startsWith('A') ).project(['ICD10'])))\n"
   ]
  },
  {
   "cell_type": "code",
   "execution_count": 25,
   "metadata": {},
   "outputs": [
    {
     "name": "stdout",
     "output_type": "stream",
     "text": [
      "len 150409\n",
      "Call to func took 31 milliseconds.\n"
     ]
    },
    {
     "data": {
      "text/html": [
       "<style> \n",
       "\t\t\t\t.ftable  { font-family: arial, sans-serif; color: blue !important; } \n",
       "\t\t\t\ttd, th, tr { border: 1px solid #000000; text-align: left; } \n",
       "\t\t\t\tth {color: red !important}\n",
       "\t\t\t\ttr:nth-child(even) { background-color: #dddddd; } }\n",
       "\t\t\t</style>\n",
       "<p>Length: 42</p><table class=\"ftable\" style=\"border-collapse: collapse; border-spacing: 0;  border: 2px solid #000; font-size: 1rem\"><thead style=\"background-color: lightgrey\"><tr style=\"border: 2px solid #000\"><th style=\"border: 2px solid #000; color: blue\">Ix</th><th style=\"border: 2px solid #000; color: blue\">T</th><th style=\"border: 2px solid #000; color: blue\">TYPE</th><th style=\"border: 2px solid #000; color: blue\">CNT</th></tr></thead><tbody><tr style=\"background-color: #fffaff\"><td style=\"border: 2px solid #000\">0</td><td style=\"border: 2px solid #000\">0</td><td style=\"border: 2px solid #000\">PCS</td><td style=\"border: 2px solid #000\">68471</td></tr><tr style=\"background-color: white\"><td style=\"border: 2px solid #000\">1</td><td style=\"border: 2px solid #000\">S</td><td style=\"border: 2px solid #000\">CM</td><td style=\"border: 2px solid #000\">30711</td></tr><tr style=\"background-color: #fffaff\"><td style=\"border: 2px solid #000\">2</td><td style=\"border: 2px solid #000\">T</td><td style=\"border: 2px solid #000\">CM</td><td style=\"border: 2px solid #000\">9808</td></tr><tr style=\"background-color: white\"><td style=\"border: 2px solid #000\">3</td><td style=\"border: 2px solid #000\">M</td><td style=\"border: 2px solid #000\">CM</td><td style=\"border: 2px solid #000\">6484</td></tr><tr style=\"background-color: #fffaff\"><td style=\"border: 2px solid #000\">4</td><td style=\"border: 2px solid #000\">V</td><td style=\"border: 2px solid #000\">CM</td><td style=\"border: 2px solid #000\">3726</td></tr><tr style=\"background-color: white\"><td style=\"border: 2px solid #000\">5</td><td style=\"border: 2px solid #000\">H</td><td style=\"border: 2px solid #000\">CM</td><td style=\"border: 2px solid #000\">3220</td></tr><tr style=\"background-color: #fffaff\"><td style=\"border: 2px solid #000\">6</td><td style=\"border: 2px solid #000\">B</td><td style=\"border: 2px solid #000\">PCS</td><td style=\"border: 2px solid #000\">2941</td></tr><tr style=\"background-color: white\"><td style=\"border: 2px solid #000\">7</td><td style=\"border: 2px solid #000\">O</td><td style=\"border: 2px solid #000\">CM</td><td style=\"border: 2px solid #000\">2250</td></tr><tr style=\"background-color: #fffaff\"><td style=\"border: 2px solid #000\">8</td><td style=\"border: 2px solid #000\">D</td><td style=\"border: 2px solid #000\">PCS</td><td style=\"border: 2px solid #000\">1939</td></tr><tr style=\"background-color: white\"><td style=\"border: 2px solid #000\">9</td><td style=\"border: 2px solid #000\">Y</td><td style=\"border: 2px solid #000\">CM</td><td style=\"border: 2px solid #000\">1485</td></tr><tr style=\"background-color: #fffaff\"><td style=\"border: 2px solid #000\">10</td><td style=\"border: 2px solid #000\">3</td><td style=\"border: 2px solid #000\">PCS</td><td style=\"border: 2px solid #000\">1444</td></tr><tr style=\"background-color: white\"><td style=\"border: 2px solid #000\">11</td><td style=\"border: 2px solid #000\">F</td><td style=\"border: 2px solid #000\">PCS</td><td style=\"border: 2px solid #000\">1380</td></tr><tr style=\"background-color: #fffaff\"><td style=\"border: 2px solid #000\">12</td><td style=\"border: 2px solid #000\">I</td><td style=\"border: 2px solid #000\">CM</td><td style=\"border: 2px solid #000\">1347</td></tr><tr style=\"background-color: white\"><td style=\"border: 2px solid #000\">13</td><td style=\"border: 2px solid #000\">Z</td><td style=\"border: 2px solid #000\">CM</td><td style=\"border: 2px solid #000\">1238</td></tr><tr style=\"background-color: #fffaff\"><td style=\"border: 2px solid #000\">14</td><td style=\"border: 2px solid #000\">W</td><td style=\"border: 2px solid #000\">CM</td><td style=\"border: 2px solid #000\">1158</td></tr><tr style=\"background-color: white\"><td style=\"border: 2px solid #000\">15</td><td style=\"border: 2px solid #000\">C</td><td style=\"border: 2px solid #000\">CM</td><td style=\"border: 2px solid #000\">1154</td></tr><tr style=\"background-color: #fffaff\"><td style=\"border: 2px solid #000\">16</td><td style=\"border: 2px solid #000\">E</td><td style=\"border: 2px solid #000\">CM</td><td style=\"border: 2px solid #000\">904</td></tr><tr style=\"background-color: white\"><td style=\"border: 2px solid #000\">17</td><td style=\"border: 2px solid #000\">2</td><td style=\"border: 2px solid #000\">PCS</td><td style=\"border: 2px solid #000\">861</td></tr><tr style=\"background-color: #fffaff\"><td style=\"border: 2px solid #000\">18</td><td style=\"border: 2px solid #000\">L</td><td style=\"border: 2px solid #000\">CM</td><td style=\"border: 2px solid #000\">846</td></tr><tr style=\"background-color: white\"><td style=\"border: 2px solid #000\">19</td><td style=\"border: 2px solid #000\">Q</td><td style=\"border: 2px solid #000\">CM</td><td style=\"border: 2px solid #000\">812</td></tr><tr style=\"background-color: #fffaff\"><td style=\"border: 2px solid #000\">20</td><td style=\"border: 2px solid #000\">K</td><td style=\"border: 2px solid #000\">CM</td><td style=\"border: 2px solid #000\">789</td></tr><tr style=\"background-color: white\"><td style=\"border: 2px solid #000\">21</td><td style=\"border: 2px solid #000\">F</td><td style=\"border: 2px solid #000\">CM</td><td style=\"border: 2px solid #000\">743</td></tr><tr style=\"background-color: #fffaff\"><td style=\"border: 2px solid #000\">22</td><td style=\"border: 2px solid #000\">D</td><td style=\"border: 2px solid #000\">CM</td><td style=\"border: 2px solid #000\">729</td></tr><tr style=\"background-color: white\"><td style=\"border: 2px solid #000\">23</td><td style=\"border: 2px solid #000\">R</td><td style=\"border: 2px solid #000\">CM</td><td style=\"border: 2px solid #000\">712</td></tr><tr style=\"background-color: #fffaff\"><td style=\"border: 2px solid #000\">24</td><td style=\"border: 2px solid #000\">N</td><td style=\"border: 2px solid #000\">CM</td><td style=\"border: 2px solid #000\">654</td></tr><tr style=\"background-color: white\"><td style=\"border: 2px solid #000\">25</td><td style=\"border: 2px solid #000\">G</td><td style=\"border: 2px solid #000\">CM</td><td style=\"border: 2px solid #000\">616</td></tr><tr style=\"background-color: #fffaff\"><td style=\"border: 2px solid #000\">26</td><td style=\"border: 2px solid #000\">A</td><td style=\"border: 2px solid #000\">CM</td><td style=\"border: 2px solid #000\">570</td></tr><tr style=\"background-color: white\"><td style=\"border: 2px solid #000\">27</td><td style=\"border: 2px solid #000\">X</td><td style=\"border: 2px solid #000\">CM</td><td style=\"border: 2px solid #000\">495</td></tr><tr style=\"background-color: #fffaff\"><td style=\"border: 2px solid #000\">28</td><td style=\"border: 2px solid #000\">B</td><td style=\"border: 2px solid #000\">CM</td><td style=\"border: 2px solid #000\">488</td></tr><tr style=\"background-color: white\"><td style=\"border: 2px solid #000\">29</td><td style=\"border: 2px solid #000\">C</td><td style=\"border: 2px solid #000\">PCS</td><td style=\"border: 2px solid #000\">463</td></tr><tr style=\"background-color: #fffaff\"><td style=\"border: 2px solid #000\">30</td><td style=\"border: 2px solid #000\">P</td><td style=\"border: 2px solid #000\">CM</td><td style=\"border: 2px solid #000\">424</td></tr><tr style=\"background-color: white\"><td style=\"border: 2px solid #000\">31</td><td style=\"border: 2px solid #000\">4</td><td style=\"border: 2px solid #000\">PCS</td><td style=\"border: 2px solid #000\">414</td></tr><tr style=\"background-color: #fffaff\"><td style=\"border: 2px solid #000\">32</td><td style=\"border: 2px solid #000\">J</td><td style=\"border: 2px solid #000\">CM</td><td style=\"border: 2px solid #000\">341</td></tr><tr style=\"background-color: white\"><td style=\"border: 2px solid #000\">33</td><td style=\"border: 2px solid #000\">1</td><td style=\"border: 2px solid #000\">PCS</td><td style=\"border: 2px solid #000\">302</td></tr><tr style=\"background-color: #fffaff\"><td style=\"border: 2px solid #000\">34</td><td style=\"border: 2px solid #000\">7</td><td style=\"border: 2px solid #000\">PCS</td><td style=\"border: 2px solid #000\">100</td></tr><tr style=\"background-color: white\"><td style=\"border: 2px solid #000\">35</td><td style=\"border: 2px solid #000\">9</td><td style=\"border: 2px solid #000\">PCS</td><td style=\"border: 2px solid #000\">90</td></tr><tr style=\"background-color: #fffaff\"><td style=\"border: 2px solid #000\">36</td><td style=\"border: 2px solid #000\">X</td><td style=\"border: 2px solid #000\">PCS</td><td style=\"border: 2px solid #000\">62</td></tr><tr style=\"background-color: white\"><td style=\"border: 2px solid #000\">37</td><td style=\"border: 2px solid #000\">8</td><td style=\"border: 2px solid #000\">PCS</td><td style=\"border: 2px solid #000\">60</td></tr><tr style=\"background-color: #fffaff\"><td style=\"border: 2px solid #000\">38</td><td style=\"border: 2px solid #000\">H</td><td style=\"border: 2px solid #000\">PCS</td><td style=\"border: 2px solid #000\">59</td></tr><tr style=\"background-color: white\"><td style=\"border: 2px solid #000\">39</td><td style=\"border: 2px solid #000\">6</td><td style=\"border: 2px solid #000\">PCS</td><td style=\"border: 2px solid #000\">46</td></tr><tr style=\"background-color: #fffaff\"><td style=\"border: 2px solid #000\">40</td><td style=\"border: 2px solid #000\">5</td><td style=\"border: 2px solid #000\">PCS</td><td style=\"border: 2px solid #000\">43</td></tr><tr style=\"background-color: white\"><td style=\"border: 2px solid #000\">41</td><td style=\"border: 2px solid #000\">G</td><td style=\"border: 2px solid #000\">PCS</td><td style=\"border: 2px solid #000\">30</td></tr></tbody></table>"
      ],
      "text/plain": [
       "Frame {\n",
       "  keyFunc: [Function: _getKey],\n",
       "  data: [\n",
       "    [ '0', 'PCS', 68471 ], [ 'S', 'CM', 30711 ],\n",
       "    [ 'T', 'CM', 9808 ],   [ 'M', 'CM', 6484 ],\n",
       "    [ 'V', 'CM', 3726 ],   [ 'H', 'CM', 3220 ],\n",
       "    [ 'B', 'PCS', 2941 ],  [ 'O', 'CM', 2250 ],\n",
       "    [ 'D', 'PCS', 1939 ],  [ 'Y', 'CM', 1485 ],\n",
       "    [ '3', 'PCS', 1444 ],  [ 'F', 'PCS', 1380 ],\n",
       "    [ 'I', 'CM', 1347 ],   [ 'Z', 'CM', 1238 ],\n",
       "    [ 'W', 'CM', 1158 ],   [ 'C', 'CM', 1154 ],\n",
       "    [ 'E', 'CM', 904 ],    [ '2', 'PCS', 861 ],\n",
       "    [ 'L', 'CM', 846 ],    [ 'Q', 'CM', 812 ],\n",
       "    [ 'K', 'CM', 789 ],    [ 'F', 'CM', 743 ],\n",
       "    [ 'D', 'CM', 729 ],    [ 'R', 'CM', 712 ],\n",
       "    [ 'N', 'CM', 654 ],    [ 'G', 'CM', 616 ],\n",
       "    [ 'A', 'CM', 570 ],    [ 'X', 'CM', 495 ],\n",
       "    [ 'B', 'CM', 488 ],    [ 'C', 'PCS', 463 ],\n",
       "    [ 'P', 'CM', 424 ],    [ '4', 'PCS', 414 ],\n",
       "    [ 'J', 'CM', 341 ],    [ '1', 'PCS', 302 ],\n",
       "    [ '7', 'PCS', 100 ],   [ '9', 'PCS', 90 ],\n",
       "    [ 'X', 'PCS', 62 ],    [ '8', 'PCS', 60 ],\n",
       "    [ 'H', 'PCS', 59 ],    [ '6', 'PCS', 46 ],\n",
       "    [ '5', 'PCS', 43 ],    [ 'G', 'PCS', 30 ]\n",
       "  ],\n",
       "  _columns: [ 'T', 'TYPE', 'CNT' ],\n",
       "  _name: 'grouped',\n",
       "  _unique: undefined,\n",
       "  _sortCols: [],\n",
       "  _row: undefined,\n",
       "  AccessClass: [Function],\n",
       "  showLen: 400,\n",
       "  _hash: -1,\n",
       "  sorted: [ '-CNT' ]\n",
       "}"
      ]
     },
     "execution_count": 25,
     "metadata": {},
     "output_type": "execute_result"
    }
   ],
   "source": [
    "var getMethods = (obj) => Object.getOwnPropertyNames(obj).filter(item => typeof obj[item] === 'function')\n",
    "\n",
    "console.log('len', ICD10.length)\n",
    "var x =timeOf(doN(CNT,() => ICD10.innerJoin(myData, [...ICD10.columns.map(x => '1.'+x)], 'ICD10')))//.slice(10,20)\n",
    "ICD10.project([\"T\", 'TYPE', 'ICD10'], {T: r => r.ICD10[0] },true)\n",
    "    .groupBy(['T', 'TYPE', gb.count('ICD10', 'CNT')])\n",
    "    .sort(['-CNT']);\n",
    "//gb"
   ]
  },
  {
   "cell_type": "code",
   "execution_count": 7,
   "metadata": {
    "scrolled": true
   },
   "outputs": [
    {
     "ename": "TypeError",
     "evalue": "myData.show is not a function",
     "output_type": "error",
     "traceback": [
      "evalmachine.<anonymous>:1",
      "myData.show()",
      "       ^",
      "",
      "TypeError: myData.show is not a function",
      "    at evalmachine.<anonymous>:1:8",
      "    at Script.runInThisContext (vm.js:116:20)",
      "    at Object.runInThisContext (vm.js:306:38)",
      "    at run ([eval]:1054:15)",
      "    at onRunRequest ([eval]:888:18)",
      "    at onMessage ([eval]:848:13)",
      "    at process.emit (events.js:210:5)",
      "    at emit (internal/child_process.js:876:12)",
      "    at processTicksAndRejections (internal/process/task_queues.js:81:21)"
     ]
    }
   ],
   "source": []
  },
  {
   "cell_type": "code",
   "execution_count": 8,
   "metadata": {
    "scrolled": true
   },
   "outputs": [
    {
     "ename": "ReferenceError",
     "evalue": "data is not defined",
     "output_type": "error",
     "traceback": [
      "evalmachine.<anonymous>:1",
      "data.describe('chol').show();",
      "^",
      "",
      "ReferenceError: data is not defined",
      "    at evalmachine.<anonymous>:1:1",
      "    at Script.runInThisContext (vm.js:116:20)",
      "    at Object.runInThisContext (vm.js:306:38)",
      "    at run ([eval]:1054:15)",
      "    at onRunRequest ([eval]:888:18)",
      "    at onMessage ([eval]:848:13)",
      "    at process.emit (events.js:210:5)",
      "    at emit (internal/child_process.js:876:12)",
      "    at processTicksAndRejections (internal/process/task_queues.js:81:21)"
     ]
    }
   ],
   "source": [
    "data.describe('chol').show();"
   ]
  },
  {
   "cell_type": "code",
   "execution_count": 9,
   "metadata": {
    "scrolled": true
   },
   "outputs": [
    {
     "ename": "ReferenceError",
     "evalue": "data is not defined",
     "output_type": "error",
     "traceback": [
      "evalmachine.<anonymous>:1",
      "data.plotly([{type:'histogram',x:'chol'}]).show();",
      "^",
      "",
      "ReferenceError: data is not defined",
      "    at evalmachine.<anonymous>:1:1",
      "    at Script.runInThisContext (vm.js:116:20)",
      "    at Object.runInThisContext (vm.js:306:38)",
      "    at run ([eval]:1054:15)",
      "    at onRunRequest ([eval]:888:18)",
      "    at onMessage ([eval]:848:13)",
      "    at process.emit (events.js:210:5)",
      "    at emit (internal/child_process.js:876:12)",
      "    at processTicksAndRejections (internal/process/task_queues.js:81:21)"
     ]
    }
   ],
   "source": [
    "data.plotly([{type:'histogram',x:'chol'}]).show();\n",
    "data.histogram('chol').show();"
   ]
  },
  {
   "cell_type": "code",
   "execution_count": 10,
   "metadata": {},
   "outputs": [
    {
     "ename": "ReferenceError",
     "evalue": "data is not defined",
     "output_type": "error",
     "traceback": [
      "evalmachine.<anonymous>:1",
      "data.kurtosis('chol')",
      "^",
      "",
      "ReferenceError: data is not defined",
      "    at evalmachine.<anonymous>:1:1",
      "    at Script.runInThisContext (vm.js:116:20)",
      "    at Object.runInThisContext (vm.js:306:38)",
      "    at run ([eval]:1054:15)",
      "    at onRunRequest ([eval]:888:18)",
      "    at onMessage ([eval]:848:13)",
      "    at process.emit (events.js:210:5)",
      "    at emit (internal/child_process.js:876:12)",
      "    at processTicksAndRejections (internal/process/task_queues.js:81:21)"
     ]
    }
   ],
   "source": [
    "data.kurtosis('chol')"
   ]
  },
  {
   "cell_type": "code",
   "execution_count": 11,
   "metadata": {
    "scrolled": true
   },
   "outputs": [
    {
     "ename": "ReferenceError",
     "evalue": "data is not defined",
     "output_type": "error",
     "traceback": [
      "evalmachine.<anonymous>:1",
      "data.corrmap().show()",
      "^",
      "",
      "ReferenceError: data is not defined",
      "    at evalmachine.<anonymous>:1:1",
      "    at Script.runInThisContext (vm.js:116:20)",
      "    at Object.runInThisContext (vm.js:306:38)",
      "    at run ([eval]:1054:15)",
      "    at onRunRequest ([eval]:888:18)",
      "    at onMessage ([eval]:848:13)",
      "    at process.emit (events.js:210:5)",
      "    at emit (internal/child_process.js:876:12)",
      "    at processTicksAndRejections (internal/process/task_queues.js:81:21)"
     ]
    }
   ],
   "source": [
    "data.corrmap().show()"
   ]
  },
  {
   "cell_type": "code",
   "execution_count": 12,
   "metadata": {},
   "outputs": [
    {
     "ename": "ReferenceError",
     "evalue": "pickRaw is not defined",
     "output_type": "error",
     "traceback": [
      "C:\\Users\\nurul\\projects\\data-frame\\dist\\bundle.js:1",
      "(function(e,t){\"object\"==typeof exports&&\"undefined\"!=typeof module?t(exports):\"function\"==typeof define&&define.amd?define([\"exports\"],t):(e=e||self,t(e.DataFrame={}))})(this,function(e){'use strict';var Fe=Math.trunc,Ne=Math.min;function t(e){\"@babel/helpers - typeof\";return t=\"function\"==typeof Symbol&&\"symbol\"==typeof Symbol.iterator?function(e){return typeof e}:function(e){return e&&\"function\"==typeof Symbol&&e.constructor===Symbol&&e!==Symbol.prototype?\"symbol\":typeof e},t(e)}function a(e,t){if(!(e instanceof t))throw new TypeError(\"Cannot call a class as a function\")}function n(e,t){for(var a,n=0;n<t.length;n++)a=t[n],a.enumerable=a.enumerable||!1,a.configurable=!0,\"value\"in a&&(a.writable=!0),Object.defineProperty(e,a.key,a)}function l(e,t,a){return t&&n(e.prototype,t),a&&n(e,a),e}function i(e,t){if(\"function\"!=typeof t&&null!==t)throw new TypeError(\"Super expression must either be null or a function\");e.prototype=Object.create(t&&t.prototype,{cons",
      "",
      "ReferenceError: pickRaw is not defined",
      "    at C:\\Users\\nurul\\projects\\data-frame\\dist\\bundle.js:1:24476",
      "    at C:\\Users\\nurul\\projects\\data-frame\\dist\\bundle.js:1:69",
      "    at Object.<anonymous> (C:\\Users\\nurul\\projects\\data-frame\\dist\\bundle.js:1:171)",
      "    at Module._compile (internal/modules/cjs/loader.js:956:30)",
      "    at Object.Module._extensions..js (internal/modules/cjs/loader.js:973:10)",
      "    at Module.load (internal/modules/cjs/loader.js:812:32)",
      "    at Function.Module._load (internal/modules/cjs/loader.js:724:14)",
      "    at Module.require (internal/modules/cjs/loader.js:849:19)",
      "    at require (internal/modules/cjs/helpers.js:74:18)",
      "    at evalmachine.<anonymous>:1:15"
     ]
    }
   ],
   "source": [
    "var {Frame} = require('../dist/bundle.js');"
   ]
  },
  {
   "cell_type": "code",
   "execution_count": 13,
   "metadata": {
    "scrolled": false
   },
   "outputs": [
    {
     "data": {
      "text/plain": [
       "C { value: 2 }"
      ]
     },
     "execution_count": 13,
     "metadata": {},
     "output_type": "execute_result"
    }
   ],
   "source": [
    "var C = class {\n",
    "    constructor(a) {\n",
    "        this.value = a;\n",
    "    }\n",
    "    \n",
    "    \n",
    "};\n",
    "\n",
    "var c = new C(1);\n",
    "new c.constructor(2);\n",
    "function timeOf(fn) {\n",
    "  const name = 'func';\n",
    "  const t0 = new Date().getTime();\n",
    "\n",
    "  const res = fn();\n",
    "\n",
    "  const t1 = new Date().getTime();\n",
    "  console.log(`Call to ${name} took ${t1 - t0} milliseconds.`);\n",
    "  return res;\n",
    "}"
   ]
  },
  {
   "cell_type": "code",
   "execution_count": 14,
   "metadata": {},
   "outputs": [
    {
     "data": {
      "text/plain": [
       "undefined"
      ]
     },
     "execution_count": 14,
     "metadata": {},
     "output_type": "execute_result"
    }
   ],
   "source": [
    "var la = require('../lib/array')"
   ]
  },
  {
   "cell_type": "code",
   "execution_count": 15,
   "metadata": {
    "scrolled": true
   },
   "outputs": [
    {
     "name": "stdout",
     "output_type": "stream",
     "text": [
      "Call to func took 108 milliseconds.\n",
      "Call to func took 89 milliseconds.\n"
     ]
    },
    {
     "data": {
      "text/plain": [
       "[ 49999995000000, 49999995000000 ]"
      ]
     },
     "execution_count": 15,
     "metadata": {},
     "output_type": "execute_result"
    }
   ],
   "source": [
    "function test(n) {\n",
    "    var a = la.newArray(n);\n",
    "    for(let i=0; i<n; i++) a[i] = i;\n",
    "    return a;\n",
    "}\n",
    "\n",
    "function test0(n) {\n",
    "    var a = new Int32Array(n);\n",
    "    for(let i=0; i<n; i++) a[i] = i;\n",
    "    return a;\n",
    "}\n",
    "\n",
    "function test2(n) {\n",
    "    var a = [];\n",
    "    for(let i=0; i<n; i++) a.push(i);\n",
    "    return a;\n",
    "}\n",
    "\n",
    "function timeOf(fn) {\n",
    "  const name = 'func';\n",
    "  const t0 = new Date().getTime();\n",
    "\n",
    "  const res = fn();\n",
    "\n",
    "  const t1 = new Date().getTime();\n",
    "  console.log(`Call to ${name} took ${t1 - t0} milliseconds.`);\n",
    "  return res;\n",
    "}\n",
    "\n",
    "[timeOf(() => la.arrSum(test(10000000))),\n",
    "timeOf(() => la.arrSum(test0(10000000)))];\n",
    "var a = test0(10000000);\n",
    "var b = test2(10000000);\n"
   ]
  },
  {
   "cell_type": "code",
   "execution_count": 16,
   "metadata": {},
   "outputs": [
    {
     "name": "stdout",
     "output_type": "stream",
     "text": [
      "Call to func took 4490 milliseconds.\n",
      "Call to func took 3322 milliseconds.\n"
     ]
    },
    {
     "data": {
      "text/plain": [
       "[ undefined, undefined ]"
      ]
     },
     "execution_count": 16,
     "metadata": {},
     "output_type": "execute_result"
    }
   ],
   "source": [
    "[timeOf(() => {for(i=0; i<100; i++)la.arrSum(b)}),\n",
    "timeOf(() => {for(i=0; i<100; i++)la.arrSum(a)})]"
   ]
  },
  {
   "cell_type": "code",
   "execution_count": 17,
   "metadata": {},
   "outputs": [
    {
     "data": {
      "text/plain": [
       "undefined"
      ]
     },
     "execution_count": 17,
     "metadata": {},
     "output_type": "execute_result"
    }
   ],
   "source": [
    "//var {Frame} = require('../lib/frame')"
   ]
  },
  {
   "cell_type": "code",
   "execution_count": 18,
   "metadata": {},
   "outputs": [
    {
     "data": {
      "text/plain": [
       "true"
      ]
     },
     "execution_count": 18,
     "metadata": {},
     "output_type": "execute_result"
    }
   ],
   "source": [
    "var f = new Frame( [[1,2],[3,4]],['a','b'],'test');\n",
    "ArrayBuffer.isView(new Int32Array(10))"
   ]
  },
  {
   "cell_type": "code",
   "execution_count": 19,
   "metadata": {
    "scrolled": true
   },
   "outputs": [
    {
     "data": {
      "text/html": [
       "<style> \n",
       "\t\t\t\t.ftable  { font-family: arial, sans-serif; color: blue !important; } \n",
       "\t\t\t\ttd, th, tr { border: 1px solid #000000; text-align: left; } \n",
       "\t\t\t\tth {color: red !important}\n",
       "\t\t\t\ttr:nth-child(even) { background-color: #dddddd; } }\n",
       "\t\t\t</style>\n",
       "<p>Length: 2</p><table class=\"ftable\" style=\"border-collapse: collapse; border-spacing: 0;  border: 2px solid #000; font-size: 1rem\"><thead style=\"background-color: lightgrey\"><tr style=\"border: 2px solid #000\"><th style=\"border: 2px solid #000; color: blue\">Ix</th><th style=\"border: 2px solid #000; color: blue\">a</th><th style=\"border: 2px solid #000; color: blue\">b</th></tr></thead><tbody><tr style=\"background-color: #fffaff\"><td style=\"border: 2px solid #000\">0</td><td style=\"border: 2px solid #000\">3</td><td style=\"border: 2px solid #000\">4</td></tr><tr style=\"background-color: white\"><td style=\"border: 2px solid #000\">1</td><td style=\"border: 2px solid #000\">1</td><td style=\"border: 2px solid #000\">2</td></tr></tbody></table>"
      ],
      "text/plain": [
       "Frame {\n",
       "  keyFunc: [Function: _getKey],\n",
       "  data: [ [ 3, 4 ], [ 1, 2 ] ],\n",
       "  _columns: [ 'a', 'b' ],\n",
       "  _name: 'test',\n",
       "  _unique: undefined,\n",
       "  _sortCols: [],\n",
       "  _row: undefined,\n",
       "  AccessClass: [Function],\n",
       "  showLen: 400,\n",
       "  _hash: -1,\n",
       "  sorted: [ '-b' ]\n",
       "}"
      ]
     },
     "execution_count": 19,
     "metadata": {},
     "output_type": "execute_result"
    }
   ],
   "source": [
    "f.sort(['-b'])"
   ]
  },
  {
   "cell_type": "code",
   "execution_count": 20,
   "metadata": {
    "scrolled": true
   },
   "outputs": [
    {
     "name": "stdout",
     "output_type": "stream",
     "text": [
      "bytes read 13187299\n",
      "Lines:  150410\n",
      "bytes read 2469743\n",
      "Lines:  17110\n"
     ]
    },
    {
     "data": {
      "text/html": [
       "<style> \n",
       "\t\t\t\t.ftable  { font-family: arial, sans-serif; color: blue !important; } \n",
       "\t\t\t\ttd, th, tr { border: 1px solid #000000; text-align: left; } \n",
       "\t\t\t\tth {color: red !important}\n",
       "\t\t\t\ttr:nth-child(even) { background-color: #dddddd; } }\n",
       "\t\t\t</style>\n",
       "<p>Length: 174</p><table class=\"ftable\" style=\"border-collapse: collapse; border-spacing: 0;  border: 2px solid #000; font-size: 1rem\"><thead style=\"background-color: lightgrey\"><tr style=\"border: 2px solid #000\"><th style=\"border: 2px solid #000; color: blue\">Ix</th><th style=\"border: 2px solid #000; color: blue\">TYPE</th><th style=\"border: 2px solid #000; color: blue\">COUNT</th></tr></thead><tbody><tr style=\"background-color: #fffaff\"><td style=\"border: 2px solid #000\">0</td><td style=\"border: 2px solid #000\">G9</td><td style=\"border: 2px solid #000\">577</td></tr><tr style=\"background-color: white\"><td style=\"border: 2px solid #000\">1</td><td style=\"border: 2px solid #000\">G8</td><td style=\"border: 2px solid #000\">524</td></tr><tr style=\"background-color: #fffaff\"><td style=\"border: 2px solid #000\">2</td><td style=\"border: 2px solid #000\">27</td><td style=\"border: 2px solid #000\">377</td></tr><tr style=\"background-color: white\"><td style=\"border: 2px solid #000\">3</td><td style=\"border: 2px solid #000\">33</td><td style=\"border: 2px solid #000\">343</td></tr><tr style=\"background-color: #fffaff\"><td style=\"border: 2px solid #000\">4</td><td style=\"border: 2px solid #000\">E0</td><td style=\"border: 2px solid #000\">314</td></tr><tr style=\"background-color: white\"><td style=\"border: 2px solid #000\">5</td><td style=\"border: 2px solid #000\">A4</td><td style=\"border: 2px solid #000\">289</td></tr><tr style=\"background-color: #fffaff\"><td style=\"border: 2px solid #000\">6</td><td style=\"border: 2px solid #000\">86</td><td style=\"border: 2px solid #000\">241</td></tr><tr style=\"background-color: white\"><td style=\"border: 2px solid #000\">7</td><td style=\"border: 2px solid #000\">99</td><td style=\"border: 2px solid #000\">226</td></tr><tr style=\"background-color: #fffaff\"><td style=\"border: 2px solid #000\">8</td><td style=\"border: 2px solid #000\">87</td><td style=\"border: 2px solid #000\">222</td></tr><tr style=\"background-color: white\"><td style=\"border: 2px solid #000\">9</td><td style=\"border: 2px solid #000\">43</td><td style=\"border: 2px solid #000\">220</td></tr><tr style=\"background-color: #fffaff\"><td style=\"border: 2px solid #000\">10</td><td style=\"border: 2px solid #000\">G0</td><td style=\"border: 2px solid #000\">219</td></tr><tr style=\"background-color: white\"><td style=\"border: 2px solid #000\">11</td><td style=\"border: 2px solid #000\">90</td><td style=\"border: 2px solid #000\">211</td></tr><tr style=\"background-color: #fffaff\"><td style=\"border: 2px solid #000\">12</td><td style=\"border: 2px solid #000\">21</td><td style=\"border: 2px solid #000\">208</td></tr><tr style=\"background-color: white\"><td style=\"border: 2px solid #000\">13</td><td style=\"border: 2px solid #000\">82</td><td style=\"border: 2px solid #000\">196</td></tr><tr style=\"background-color: #fffaff\"><td style=\"border: 2px solid #000\">14</td><td style=\"border: 2px solid #000\">92</td><td style=\"border: 2px solid #000\">194</td></tr><tr style=\"background-color: white\"><td style=\"border: 2px solid #000\">15</td><td style=\"border: 2px solid #000\">81</td><td style=\"border: 2px solid #000\">190</td></tr><tr style=\"background-color: #fffaff\"><td style=\"border: 2px solid #000\">16</td><td style=\"border: 2px solid #000\">35</td><td style=\"border: 2px solid #000\">186</td></tr><tr style=\"background-color: white\"><td style=\"border: 2px solid #000\">17</td><td style=\"border: 2px solid #000\">L5</td><td style=\"border: 2px solid #000\">183</td></tr><tr style=\"background-color: #fffaff\"><td style=\"border: 2px solid #000\">18</td><td style=\"border: 2px solid #000\">26</td><td style=\"border: 2px solid #000\">182</td></tr><tr style=\"background-color: white\"><td style=\"border: 2px solid #000\">19</td><td style=\"border: 2px solid #000\">31</td><td style=\"border: 2px solid #000\">182</td></tr><tr style=\"background-color: #fffaff\"><td style=\"border: 2px solid #000\">20</td><td style=\"border: 2px solid #000\">00</td><td style=\"border: 2px solid #000\">180</td></tr><tr style=\"background-color: white\"><td style=\"border: 2px solid #000\">21</td><td style=\"border: 2px solid #000\">61</td><td style=\"border: 2px solid #000\">178</td></tr><tr style=\"background-color: #fffaff\"><td style=\"border: 2px solid #000\">22</td><td style=\"border: 2px solid #000\">28</td><td style=\"border: 2px solid #000\">176</td></tr><tr style=\"background-color: white\"><td style=\"border: 2px solid #000\">23</td><td style=\"border: 2px solid #000\">64</td><td style=\"border: 2px solid #000\">176</td></tr><tr style=\"background-color: #fffaff\"><td style=\"border: 2px solid #000\">24</td><td style=\"border: 2px solid #000\">93</td><td style=\"border: 2px solid #000\">173</td></tr><tr style=\"background-color: white\"><td style=\"border: 2px solid #000\">25</td><td style=\"border: 2px solid #000\">01</td><td style=\"border: 2px solid #000\">168</td></tr><tr style=\"background-color: #fffaff\"><td style=\"border: 2px solid #000\">26</td><td style=\"border: 2px solid #000\">25</td><td style=\"border: 2px solid #000\">158</td></tr><tr style=\"background-color: white\"><td style=\"border: 2px solid #000\">27</td><td style=\"border: 2px solid #000\">50</td><td style=\"border: 2px solid #000\">155</td></tr><tr style=\"background-color: #fffaff\"><td style=\"border: 2px solid #000\">28</td><td style=\"border: 2px solid #000\">L3</td><td style=\"border: 2px solid #000\">155</td></tr><tr style=\"background-color: white\"><td style=\"border: 2px solid #000\">29</td><td style=\"border: 2px solid #000\">80</td><td style=\"border: 2px solid #000\">150</td></tr><tr style=\"background-color: #fffaff\"><td style=\"border: 2px solid #000\">30</td><td style=\"border: 2px solid #000\">S9</td><td style=\"border: 2px solid #000\">149</td></tr><tr style=\"background-color: white\"><td style=\"border: 2px solid #000\">31</td><td style=\"border: 2px solid #000\">E1</td><td style=\"border: 2px solid #000\">148</td></tr><tr style=\"background-color: #fffaff\"><td style=\"border: 2px solid #000\">32</td><td style=\"border: 2px solid #000\">95</td><td style=\"border: 2px solid #000\">143</td></tr><tr style=\"background-color: white\"><td style=\"border: 2px solid #000\">33</td><td style=\"border: 2px solid #000\">J7</td><td style=\"border: 2px solid #000\">143</td></tr><tr style=\"background-color: #fffaff\"><td style=\"border: 2px solid #000\">34</td><td style=\"border: 2px solid #000\">11</td><td style=\"border: 2px solid #000\">141</td></tr><tr style=\"background-color: white\"><td style=\"border: 2px solid #000\">35</td><td style=\"border: 2px solid #000\">78</td><td style=\"border: 2px solid #000\">141</td></tr><tr style=\"background-color: #fffaff\"><td style=\"border: 2px solid #000\">36</td><td style=\"border: 2px solid #000\">88</td><td style=\"border: 2px solid #000\">141</td></tr><tr style=\"background-color: white\"><td style=\"border: 2px solid #000\">37</td><td style=\"border: 2px solid #000\">44</td><td style=\"border: 2px solid #000\">139</td></tr><tr style=\"background-color: #fffaff\"><td style=\"border: 2px solid #000\">38</td><td style=\"border: 2px solid #000\">E2</td><td style=\"border: 2px solid #000\">139</td></tr><tr style=\"background-color: white\"><td style=\"border: 2px solid #000\">39</td><td style=\"border: 2px solid #000\">K0</td><td style=\"border: 2px solid #000\">139</td></tr><tr style=\"background-color: #fffaff\"><td style=\"border: 2px solid #000\">40</td><td style=\"border: 2px solid #000\">C9</td><td style=\"border: 2px solid #000\">138</td></tr><tr style=\"background-color: white\"><td style=\"border: 2px solid #000\">41</td><td style=\"border: 2px solid #000\">J1</td><td style=\"border: 2px solid #000\">138</td></tr><tr style=\"background-color: #fffaff\"><td style=\"border: 2px solid #000\">42</td><td style=\"border: 2px solid #000\">83</td><td style=\"border: 2px solid #000\">136</td></tr><tr style=\"background-color: white\"><td style=\"border: 2px solid #000\">43</td><td style=\"border: 2px solid #000\">J0</td><td style=\"border: 2px solid #000\">135</td></tr><tr style=\"background-color: #fffaff\"><td style=\"border: 2px solid #000\">44</td><td style=\"border: 2px solid #000\">29</td><td style=\"border: 2px solid #000\">134</td></tr><tr style=\"background-color: white\"><td style=\"border: 2px solid #000\">45</td><td style=\"border: 2px solid #000\">32</td><td style=\"border: 2px solid #000\">133</td></tr><tr style=\"background-color: #fffaff\"><td style=\"border: 2px solid #000\">46</td><td style=\"border: 2px solid #000\">D7</td><td style=\"border: 2px solid #000\">133</td></tr><tr style=\"background-color: white\"><td style=\"border: 2px solid #000\">47</td><td style=\"border: 2px solid #000\">15</td><td style=\"border: 2px solid #000\">132</td></tr><tr style=\"background-color: #fffaff\"><td style=\"border: 2px solid #000\">48</td><td style=\"border: 2px solid #000\">S0</td><td style=\"border: 2px solid #000\">130</td></tr><tr style=\"background-color: white\"><td style=\"border: 2px solid #000\">49</td><td style=\"border: 2px solid #000\">36</td><td style=\"border: 2px solid #000\">128</td></tr><tr style=\"background-color: #fffaff\"><td style=\"border: 2px solid #000\">50</td><td style=\"border: 2px solid #000\">77</td><td style=\"border: 2px solid #000\">128</td></tr><tr style=\"background-color: white\"><td style=\"border: 2px solid #000\">51</td><td style=\"border: 2px solid #000\">84</td><td style=\"border: 2px solid #000\">128</td></tr><tr style=\"background-color: #fffaff\"><td style=\"border: 2px solid #000\">52</td><td style=\"border: 2px solid #000\">L6</td><td style=\"border: 2px solid #000\">125</td></tr><tr style=\"background-color: white\"><td style=\"border: 2px solid #000\">53</td><td style=\"border: 2px solid #000\">A6</td><td style=\"border: 2px solid #000\">124</td></tr><tr style=\"background-color: #fffaff\"><td style=\"border: 2px solid #000\">54</td><td style=\"border: 2px solid #000\">D6</td><td style=\"border: 2px solid #000\">124</td></tr><tr style=\"background-color: white\"><td style=\"border: 2px solid #000\">55</td><td style=\"border: 2px solid #000\">V2</td><td style=\"border: 2px solid #000\">121</td></tr><tr style=\"background-color: #fffaff\"><td style=\"border: 2px solid #000\">56</td><td style=\"border: 2px solid #000\">42</td><td style=\"border: 2px solid #000\">120</td></tr><tr style=\"background-color: white\"><td style=\"border: 2px solid #000\">57</td><td style=\"border: 2px solid #000\">Q4</td><td style=\"border: 2px solid #000\">118</td></tr><tr style=\"background-color: #fffaff\"><td style=\"border: 2px solid #000\">58</td><td style=\"border: 2px solid #000\">67</td><td style=\"border: 2px solid #000\">117</td></tr><tr style=\"background-color: white\"><td style=\"border: 2px solid #000\">59</td><td style=\"border: 2px solid #000\">45</td><td style=\"border: 2px solid #000\">115</td></tr><tr style=\"background-color: #fffaff\"><td style=\"border: 2px solid #000\">60</td><td style=\"border: 2px solid #000\">63</td><td style=\"border: 2px solid #000\">113</td></tr><tr style=\"background-color: white\"><td style=\"border: 2px solid #000\">61</td><td style=\"border: 2px solid #000\">24</td><td style=\"border: 2px solid #000\">112</td></tr><tr style=\"background-color: #fffaff\"><td style=\"border: 2px solid #000\">62</td><td style=\"border: 2px solid #000\">20</td><td style=\"border: 2px solid #000\">111</td></tr><tr style=\"background-color: white\"><td style=\"border: 2px solid #000\">63</td><td style=\"border: 2px solid #000\">37</td><td style=\"border: 2px solid #000\">111</td></tr><tr style=\"background-color: #fffaff\"><td style=\"border: 2px solid #000\">64</td><td style=\"border: 2px solid #000\">23</td><td style=\"border: 2px solid #000\">110</td></tr><tr style=\"background-color: white\"><td style=\"border: 2px solid #000\">65</td><td style=\"border: 2px solid #000\">41</td><td style=\"border: 2px solid #000\">109</td></tr><tr style=\"background-color: #fffaff\"><td style=\"border: 2px solid #000\">66</td><td style=\"border: 2px solid #000\">58</td><td style=\"border: 2px solid #000\">108</td></tr><tr style=\"background-color: white\"><td style=\"border: 2px solid #000\">67</td><td style=\"border: 2px solid #000\">49</td><td style=\"border: 2px solid #000\">107</td></tr><tr style=\"background-color: #fffaff\"><td style=\"border: 2px solid #000\">68</td><td style=\"border: 2px solid #000\">J2</td><td style=\"border: 2px solid #000\">105</td></tr><tr style=\"background-color: white\"><td style=\"border: 2px solid #000\">69</td><td style=\"border: 2px solid #000\">22</td><td style=\"border: 2px solid #000\">104</td></tr><tr style=\"background-color: #fffaff\"><td style=\"border: 2px solid #000\">70</td><td style=\"border: 2px solid #000\">J9</td><td style=\"border: 2px solid #000\">104</td></tr><tr style=\"background-color: white\"><td style=\"border: 2px solid #000\">71</td><td style=\"border: 2px solid #000\">L2</td><td style=\"border: 2px solid #000\">104</td></tr><tr style=\"background-color: #fffaff\"><td style=\"border: 2px solid #000\">72</td><td style=\"border: 2px solid #000\">03</td><td style=\"border: 2px solid #000\">100</td></tr><tr style=\"background-color: white\"><td style=\"border: 2px solid #000\">73</td><td style=\"border: 2px solid #000\">30</td><td style=\"border: 2px solid #000\">100</td></tr><tr style=\"background-color: #fffaff\"><td style=\"border: 2px solid #000\">74</td><td style=\"border: 2px solid #000\">85</td><td style=\"border: 2px solid #000\">100</td></tr><tr style=\"background-color: white\"><td style=\"border: 2px solid #000\">75</td><td style=\"border: 2px solid #000\">A9</td><td style=\"border: 2px solid #000\">100</td></tr><tr style=\"background-color: #fffaff\"><td style=\"border: 2px solid #000\">76</td><td style=\"border: 2px solid #000\">L8</td><td style=\"border: 2px solid #000\">100</td></tr><tr style=\"background-color: white\"><td style=\"border: 2px solid #000\">77</td><td style=\"border: 2px solid #000\">D5</td><td style=\"border: 2px solid #000\">99</td></tr><tr style=\"background-color: #fffaff\"><td style=\"border: 2px solid #000\">78</td><td style=\"border: 2px solid #000\">02</td><td style=\"border: 2px solid #000\">98</td></tr><tr style=\"background-color: white\"><td style=\"border: 2px solid #000\">79</td><td style=\"border: 2px solid #000\">54</td><td style=\"border: 2px solid #000\">98</td></tr><tr style=\"background-color: #fffaff\"><td style=\"border: 2px solid #000\">80</td><td style=\"border: 2px solid #000\">47</td><td style=\"border: 2px solid #000\">97</td></tr><tr style=\"background-color: white\"><td style=\"border: 2px solid #000\">81</td><td style=\"border: 2px solid #000\">69</td><td style=\"border: 2px solid #000\">97</td></tr><tr style=\"background-color: #fffaff\"><td style=\"border: 2px solid #000\">82</td><td style=\"border: 2px solid #000\">C1</td><td style=\"border: 2px solid #000\">96</td></tr><tr style=\"background-color: white\"><td style=\"border: 2px solid #000\">83</td><td style=\"border: 2px solid #000\">40</td><td style=\"border: 2px solid #000\">93</td></tr><tr style=\"background-color: #fffaff\"><td style=\"border: 2px solid #000\">84</td><td style=\"border: 2px solid #000\">57</td><td style=\"border: 2px solid #000\">88</td></tr><tr style=\"background-color: white\"><td style=\"border: 2px solid #000\">85</td><td style=\"border: 2px solid #000\">75</td><td style=\"border: 2px solid #000\">86</td></tr><tr style=\"background-color: #fffaff\"><td style=\"border: 2px solid #000\">86</td><td style=\"border: 2px solid #000\">76</td><td style=\"border: 2px solid #000\">86</td></tr><tr style=\"background-color: white\"><td style=\"border: 2px solid #000\">87</td><td style=\"border: 2px solid #000\">D0</td><td style=\"border: 2px solid #000\">84</td></tr><tr style=\"background-color: #fffaff\"><td style=\"border: 2px solid #000\">88</td><td style=\"border: 2px solid #000\">D2</td><td style=\"border: 2px solid #000\">84</td></tr><tr style=\"background-color: white\"><td style=\"border: 2px solid #000\">89</td><td style=\"border: 2px solid #000\">L1</td><td style=\"border: 2px solid #000\">84</td></tr><tr style=\"background-color: #fffaff\"><td style=\"border: 2px solid #000\">90</td><td style=\"border: 2px solid #000\">96</td><td style=\"border: 2px solid #000\">81</td></tr><tr style=\"background-color: white\"><td style=\"border: 2px solid #000\">91</td><td style=\"border: 2px solid #000\">L0</td><td style=\"border: 2px solid #000\">81</td></tr><tr style=\"background-color: #fffaff\"><td style=\"border: 2px solid #000\">92</td><td style=\"border: 2px solid #000\">V5</td><td style=\"border: 2px solid #000\">79</td></tr><tr style=\"background-color: white\"><td style=\"border: 2px solid #000\">93</td><td style=\"border: 2px solid #000\">46</td><td style=\"border: 2px solid #000\">74</td></tr><tr style=\"background-color: #fffaff\"><td style=\"border: 2px solid #000\">94</td><td style=\"border: 2px solid #000\">Q0</td><td style=\"border: 2px solid #000\">74</td></tr><tr style=\"background-color: white\"><td style=\"border: 2px solid #000\">95</td><td style=\"border: 2px solid #000\">65</td><td style=\"border: 2px solid #000\">73</td></tr><tr style=\"background-color: #fffaff\"><td style=\"border: 2px solid #000\">96</td><td style=\"border: 2px solid #000\">62</td><td style=\"border: 2px solid #000\">72</td></tr><tr style=\"background-color: white\"><td style=\"border: 2px solid #000\">97</td><td style=\"border: 2px solid #000\">74</td><td style=\"border: 2px solid #000\">70</td></tr><tr style=\"background-color: #fffaff\"><td style=\"border: 2px solid #000\">98</td><td style=\"border: 2px solid #000\">73</td><td style=\"border: 2px solid #000\">69</td></tr><tr style=\"background-color: white\"><td style=\"border: 2px solid #000\">99</td><td style=\"border: 2px solid #000\">51</td><td style=\"border: 2px solid #000\">68</td></tr><tr style=\"background-color: #fffaff\"><td style=\"border: 2px solid #000\">100</td><td style=\"border: 2px solid #000\">70</td><td style=\"border: 2px solid #000\">68</td></tr><tr style=\"background-color: white\"><td style=\"border: 2px solid #000\">101</td><td style=\"border: 2px solid #000\">J3</td><td style=\"border: 2px solid #000\">68</td></tr><tr style=\"background-color: #fffaff\"><td style=\"border: 2px solid #000\">102</td><td style=\"border: 2px solid #000\">19</td><td style=\"border: 2px solid #000\">67</td></tr><tr style=\"background-color: white\"><td style=\"border: 2px solid #000\">103</td><td style=\"border: 2px solid #000\">38</td><td style=\"border: 2px solid #000\">64</td></tr><tr style=\"background-color: #fffaff\"><td style=\"border: 2px solid #000\">104</td><td style=\"border: 2px solid #000\">52</td><td style=\"border: 2px solid #000\">64</td></tr><tr style=\"background-color: white\"><td style=\"border: 2px solid #000\">105</td><td style=\"border: 2px solid #000\">59</td><td style=\"border: 2px solid #000\">64</td></tr><tr style=\"background-color: #fffaff\"><td style=\"border: 2px solid #000\">106</td><td style=\"border: 2px solid #000\">S5</td><td style=\"border: 2px solid #000\">64</td></tr><tr style=\"background-color: white\"><td style=\"border: 2px solid #000\">107</td><td style=\"border: 2px solid #000\">34</td><td style=\"border: 2px solid #000\">62</td></tr><tr style=\"background-color: #fffaff\"><td style=\"border: 2px solid #000\">108</td><td style=\"border: 2px solid #000\">A7</td><td style=\"border: 2px solid #000\">61</td></tr><tr style=\"background-color: white\"><td style=\"border: 2px solid #000\">109</td><td style=\"border: 2px solid #000\">72</td><td style=\"border: 2px solid #000\">60</td></tr><tr style=\"background-color: #fffaff\"><td style=\"border: 2px solid #000\">110</td><td style=\"border: 2px solid #000\">97</td><td style=\"border: 2px solid #000\">58</td></tr><tr style=\"background-color: white\"><td style=\"border: 2px solid #000\">111</td><td style=\"border: 2px solid #000\">S2</td><td style=\"border: 2px solid #000\">58</td></tr><tr style=\"background-color: #fffaff\"><td style=\"border: 2px solid #000\">112</td><td style=\"border: 2px solid #000\">53</td><td style=\"border: 2px solid #000\">57</td></tr><tr style=\"background-color: white\"><td style=\"border: 2px solid #000\">113</td><td style=\"border: 2px solid #000\">S3</td><td style=\"border: 2px solid #000\">57</td></tr><tr style=\"background-color: #fffaff\"><td style=\"border: 2px solid #000\">114</td><td style=\"border: 2px solid #000\">G6</td><td style=\"border: 2px solid #000\">55</td></tr><tr style=\"background-color: white\"><td style=\"border: 2px solid #000\">115</td><td style=\"border: 2px solid #000\">94</td><td style=\"border: 2px solid #000\">54</td></tr><tr style=\"background-color: #fffaff\"><td style=\"border: 2px solid #000\">116</td><td style=\"border: 2px solid #000\">66</td><td style=\"border: 2px solid #000\">53</td></tr><tr style=\"background-color: white\"><td style=\"border: 2px solid #000\">117</td><td style=\"border: 2px solid #000\">10</td><td style=\"border: 2px solid #000\">52</td></tr><tr style=\"background-color: #fffaff\"><td style=\"border: 2px solid #000\">118</td><td style=\"border: 2px solid #000\">55</td><td style=\"border: 2px solid #000\">52</td></tr><tr style=\"background-color: white\"><td style=\"border: 2px solid #000\">119</td><td style=\"border: 2px solid #000\">S8</td><td style=\"border: 2px solid #000\">52</td></tr><tr style=\"background-color: #fffaff\"><td style=\"border: 2px solid #000\">120</td><td style=\"border: 2px solid #000\">D9</td><td style=\"border: 2px solid #000\">50</td></tr><tr style=\"background-color: white\"><td style=\"border: 2px solid #000\">121</td><td style=\"border: 2px solid #000\">H0</td><td style=\"border: 2px solid #000\">50</td></tr><tr style=\"background-color: #fffaff\"><td style=\"border: 2px solid #000\">122</td><td style=\"border: 2px solid #000\">89</td><td style=\"border: 2px solid #000\">48</td></tr><tr style=\"background-color: white\"><td style=\"border: 2px solid #000\">123</td><td style=\"border: 2px solid #000\">04</td><td style=\"border: 2px solid #000\">46</td></tr><tr style=\"background-color: #fffaff\"><td style=\"border: 2px solid #000\">124</td><td style=\"border: 2px solid #000\">68</td><td style=\"border: 2px solid #000\">46</td></tr><tr style=\"background-color: white\"><td style=\"border: 2px solid #000\">125</td><td style=\"border: 2px solid #000\">T2</td><td style=\"border: 2px solid #000\">46</td></tr><tr style=\"background-color: #fffaff\"><td style=\"border: 2px solid #000\">126</td><td style=\"border: 2px solid #000\">P9</td><td style=\"border: 2px solid #000\">45</td></tr><tr style=\"background-color: white\"><td style=\"border: 2px solid #000\">127</td><td style=\"border: 2px solid #000\">A0</td><td style=\"border: 2px solid #000\">41</td></tr><tr style=\"background-color: #fffaff\"><td style=\"border: 2px solid #000\">128</td><td style=\"border: 2px solid #000\">60</td><td style=\"border: 2px solid #000\">40</td></tr><tr style=\"background-color: white\"><td style=\"border: 2px solid #000\">129</td><td style=\"border: 2px solid #000\">D3</td><td style=\"border: 2px solid #000\">40</td></tr><tr style=\"background-color: #fffaff\"><td style=\"border: 2px solid #000\">130</td><td style=\"border: 2px solid #000\">A5</td><td style=\"border: 2px solid #000\">39</td></tr><tr style=\"background-color: white\"><td style=\"border: 2px solid #000\">131</td><td style=\"border: 2px solid #000\">12</td><td style=\"border: 2px solid #000\">37</td></tr><tr style=\"background-color: #fffaff\"><td style=\"border: 2px solid #000\">132</td><td style=\"border: 2px solid #000\">D4</td><td style=\"border: 2px solid #000\">37</td></tr><tr style=\"background-color: white\"><td style=\"border: 2px solid #000\">133</td><td style=\"border: 2px solid #000\">17</td><td style=\"border: 2px solid #000\">36</td></tr><tr style=\"background-color: #fffaff\"><td style=\"border: 2px solid #000\">134</td><td style=\"border: 2px solid #000\">C8</td><td style=\"border: 2px solid #000\">35</td></tr><tr style=\"background-color: white\"><td style=\"border: 2px solid #000\">135</td><td style=\"border: 2px solid #000\">L7</td><td style=\"border: 2px solid #000\">34</td></tr><tr style=\"background-color: #fffaff\"><td style=\"border: 2px solid #000\">136</td><td style=\"border: 2px solid #000\">T1</td><td style=\"border: 2px solid #000\">34</td></tr><tr style=\"background-color: white\"><td style=\"border: 2px solid #000\">137</td><td style=\"border: 2px solid #000\">05</td><td style=\"border: 2px solid #000\">33</td></tr><tr style=\"background-color: #fffaff\"><td style=\"border: 2px solid #000\">138</td><td style=\"border: 2px solid #000\">C2</td><td style=\"border: 2px solid #000\">33</td></tr><tr style=\"background-color: white\"><td style=\"border: 2px solid #000\">139</td><td style=\"border: 2px solid #000\">48</td><td style=\"border: 2px solid #000\">32</td></tr><tr style=\"background-color: #fffaff\"><td style=\"border: 2px solid #000\">140</td><td style=\"border: 2px solid #000\">H2</td><td style=\"border: 2px solid #000\">30</td></tr><tr style=\"background-color: white\"><td style=\"border: 2px solid #000\">141</td><td style=\"border: 2px solid #000\">L4</td><td style=\"border: 2px solid #000\">30</td></tr><tr style=\"background-color: #fffaff\"><td style=\"border: 2px solid #000\">142</td><td style=\"border: 2px solid #000\">Q9</td><td style=\"border: 2px solid #000\">30</td></tr><tr style=\"background-color: white\"><td style=\"border: 2px solid #000\">143</td><td style=\"border: 2px solid #000\">S4</td><td style=\"border: 2px solid #000\">28</td></tr><tr style=\"background-color: #fffaff\"><td style=\"border: 2px solid #000\">144</td><td style=\"border: 2px solid #000\">56</td><td style=\"border: 2px solid #000\">25</td></tr><tr style=\"background-color: white\"><td style=\"border: 2px solid #000\">145</td><td style=\"border: 2px solid #000\">71</td><td style=\"border: 2px solid #000\">25</td></tr><tr style=\"background-color: #fffaff\"><td style=\"border: 2px solid #000\">146</td><td style=\"border: 2px solid #000\">T4</td><td style=\"border: 2px solid #000\">24</td></tr><tr style=\"background-color: white\"><td style=\"border: 2px solid #000\">147</td><td style=\"border: 2px solid #000\">Q2</td><td style=\"border: 2px solid #000\">22</td></tr><tr style=\"background-color: #fffaff\"><td style=\"border: 2px solid #000\">148</td><td style=\"border: 2px solid #000\">91</td><td style=\"border: 2px solid #000\">21</td></tr><tr style=\"background-color: white\"><td style=\"border: 2px solid #000\">149</td><td style=\"border: 2px solid #000\">D8</td><td style=\"border: 2px solid #000\">21</td></tr><tr style=\"background-color: #fffaff\"><td style=\"border: 2px solid #000\">150</td><td style=\"border: 2px solid #000\">J8</td><td style=\"border: 2px solid #000\">21</td></tr><tr style=\"background-color: white\"><td style=\"border: 2px solid #000\">151</td><td style=\"border: 2px solid #000\">14</td><td style=\"border: 2px solid #000\">20</td></tr><tr style=\"background-color: #fffaff\"><td style=\"border: 2px solid #000\">152</td><td style=\"border: 2px solid #000\">D1</td><td style=\"border: 2px solid #000\">20</td></tr><tr style=\"background-color: white\"><td style=\"border: 2px solid #000\">153</td><td style=\"border: 2px solid #000\">39</td><td style=\"border: 2px solid #000\">16</td></tr><tr style=\"background-color: #fffaff\"><td style=\"border: 2px solid #000\">154</td><td style=\"border: 2px solid #000\">98</td><td style=\"border: 2px solid #000\">16</td></tr><tr style=\"background-color: white\"><td style=\"border: 2px solid #000\">155</td><td style=\"border: 2px solid #000\">13</td><td style=\"border: 2px solid #000\">14</td></tr><tr style=\"background-color: #fffaff\"><td style=\"border: 2px solid #000\">156</td><td style=\"border: 2px solid #000\">Q5</td><td style=\"border: 2px solid #000\">12</td></tr><tr style=\"background-color: white\"><td style=\"border: 2px solid #000\">157</td><td style=\"border: 2px solid #000\">S1</td><td style=\"border: 2px solid #000\">12</td></tr><tr style=\"background-color: #fffaff\"><td style=\"border: 2px solid #000\">158</td><td style=\"border: 2px solid #000\">79</td><td style=\"border: 2px solid #000\">8</td></tr><tr style=\"background-color: white\"><td style=\"border: 2px solid #000\">159</td><td style=\"border: 2px solid #000\">C5</td><td style=\"border: 2px solid #000\">8</td></tr><tr style=\"background-color: #fffaff\"><td style=\"border: 2px solid #000\">160</td><td style=\"border: 2px solid #000\">H1</td><td style=\"border: 2px solid #000\">8</td></tr><tr style=\"background-color: white\"><td style=\"border: 2px solid #000\">161</td><td style=\"border: 2px solid #000\">Q3</td><td style=\"border: 2px solid #000\">7</td></tr><tr style=\"background-color: #fffaff\"><td style=\"border: 2px solid #000\">162</td><td style=\"border: 2px solid #000\">16</td><td style=\"border: 2px solid #000\">6</td></tr><tr style=\"background-color: white\"><td style=\"border: 2px solid #000\">163</td><td style=\"border: 2px solid #000\">M0</td><td style=\"border: 2px solid #000\">6</td></tr><tr style=\"background-color: #fffaff\"><td style=\"border: 2px solid #000\">164</td><td style=\"border: 2px solid #000\">A8</td><td style=\"border: 2px solid #000\">5</td></tr><tr style=\"background-color: white\"><td style=\"border: 2px solid #000\">165</td><td style=\"border: 2px solid #000\">P2</td><td style=\"border: 2px solid #000\">5</td></tr><tr style=\"background-color: #fffaff\"><td style=\"border: 2px solid #000\">166</td><td style=\"border: 2px solid #000\">E8</td><td style=\"border: 2px solid #000\">3</td></tr><tr style=\"background-color: white\"><td style=\"border: 2px solid #000\">167</td><td style=\"border: 2px solid #000\">R0</td><td style=\"border: 2px solid #000\">3</td></tr><tr style=\"background-color: #fffaff\"><td style=\"border: 2px solid #000\">168</td><td style=\"border: 2px solid #000\">P3</td><td style=\"border: 2px solid #000\">2</td></tr><tr style=\"background-color: white\"><td style=\"border: 2px solid #000\">169</td><td style=\"border: 2px solid #000\">Q1</td><td style=\"border: 2px solid #000\">2</td></tr><tr style=\"background-color: #fffaff\"><td style=\"border: 2px solid #000\">170</td><td style=\"border: 2px solid #000\">T5</td><td style=\"border: 2px solid #000\">2</td></tr><tr style=\"background-color: white\"><td style=\"border: 2px solid #000\">171</td><td style=\"border: 2px solid #000\">G3</td><td style=\"border: 2px solid #000\">1</td></tr><tr style=\"background-color: #fffaff\"><td style=\"border: 2px solid #000\">172</td><td style=\"border: 2px solid #000\">L9</td><td style=\"border: 2px solid #000\">1</td></tr><tr style=\"background-color: white\"><td style=\"border: 2px solid #000\">173</td><td style=\"border: 2px solid #000\">P7</td><td style=\"border: 2px solid #000\">1</td></tr></tbody></table>"
      ],
      "text/plain": [
       "Frame {\n",
       "  keyFunc: [Function: _getKey],\n",
       "  data: [\n",
       "    [ 'G9', 577 ], [ 'G8', 524 ], [ '27', 377 ], [ '33', 343 ], [ 'E0', 314 ],\n",
       "    [ 'A4', 289 ], [ '86', 241 ], [ '99', 226 ], [ '87', 222 ], [ '43', 220 ],\n",
       "    [ 'G0', 219 ], [ '90', 211 ], [ '21', 208 ], [ '82', 196 ], [ '92', 194 ],\n",
       "    [ '81', 190 ], [ '35', 186 ], [ 'L5', 183 ], [ '26', 182 ], [ '31', 182 ],\n",
       "    [ '00', 180 ], [ '61', 178 ], [ '28', 176 ], [ '64', 176 ], [ '93', 173 ],\n",
       "    [ '01', 168 ], [ '25', 158 ], [ '50', 155 ], [ 'L3', 155 ], [ '80', 150 ],\n",
       "    [ 'S9', 149 ], [ 'E1', 148 ], [ '95', 143 ], [ 'J7', 143 ], [ '11', 141 ],\n",
       "    [ '78', 141 ], [ '88', 141 ], [ '44', 139 ], [ 'E2', 139 ], [ 'K0', 139 ],\n",
       "    [ 'C9', 138 ], [ 'J1', 138 ], [ '83', 136 ], [ 'J0', 135 ], [ '29', 134 ],\n",
       "    [ '32', 133 ], [ 'D7', 133 ], [ '15', 132 ], [ 'S0', 130 ], [ '36', 128 ],\n",
       "    [ '77', 128 ], [ '84', 128 ], [ 'L6', 125 ], [ 'A6', 124 ], [ 'D6', 124 ],\n",
       "    [ 'V2', 121 ], [ '42', 120 ], [ 'Q4', 118 ], [ '67', 117 ], [ '45', 115 ],\n",
       "    [ '63', 113 ], [ '24', 112 ], [ '20', 111 ], [ '37', 111 ], [ '23', 110 ],\n",
       "    [ '41', 109 ], [ '58', 108 ], [ '49', 107 ], [ 'J2', 105 ], [ '22', 104 ],\n",
       "    [ 'J9', 104 ], [ 'L2', 104 ], [ '03', 100 ], [ '30', 100 ], [ '85', 100 ],\n",
       "    [ 'A9', 100 ], [ 'L8', 100 ], [ 'D5', 99 ],  [ '02', 98 ],  [ '54', 98 ],\n",
       "    [ '47', 97 ],  [ '69', 97 ],  [ 'C1', 96 ],  [ '40', 93 ],  [ '57', 88 ],\n",
       "    [ '75', 86 ],  [ '76', 86 ],  [ 'D0', 84 ],  [ 'D2', 84 ],  [ 'L1', 84 ],\n",
       "    [ '96', 81 ],  [ 'L0', 81 ],  [ 'V5', 79 ],  [ '46', 74 ],  [ 'Q0', 74 ],\n",
       "    [ '65', 73 ],  [ '62', 72 ],  [ '74', 70 ],  [ '73', 69 ],  [ '51', 68 ],\n",
       "    ... 74 more items\n",
       "  ],\n",
       "  _columns: [ 'TYPE', 'COUNT' ],\n",
       "  _name: 'grouped',\n",
       "  _unique: undefined,\n",
       "  _sortCols: [],\n",
       "  _row: undefined,\n",
       "  AccessClass: [Function],\n",
       "  showLen: 400,\n",
       "  _hash: -1,\n",
       "  sorted: [ '-COUNT' ]\n",
       "}"
      ]
     },
     "execution_count": 20,
     "metadata": {},
     "output_type": "execute_result"
    }
   ],
   "source": [
    "fs.readdirSync('../data/reference');\n",
    "var ICD9 = readZipFrame('../data/reference/all_icd10_codes.tsv.gz');\n",
    "var HCPCS = readZipFrame('../data/reference/hcpcs.tsv.gz')\n",
    "HCPCS = HCPCS.project(['TYPE', ...HCPCS.columns], {TYPE: r => r.CODE.substr(0,2)},true);\n",
    "HCPCS.groupBy(['TYPE', gb.count('TYPE', 'COUNT')]).sort(['-COUNT'])"
   ]
  },
  {
   "cell_type": "code",
   "execution_count": 37,
   "metadata": {},
   "outputs": [
    {
     "data": {
      "text/html": [
       "<style> \n",
       "\t\t\t\t.ftable  { font-family: arial, sans-serif; color: blue !important; } \n",
       "\t\t\t\ttd, th, tr { border: 1px solid #000000; text-align: left; } \n",
       "\t\t\t\tth {color: red !important}\n",
       "\t\t\t\ttr:nth-child(even) { background-color: #dddddd; } }\n",
       "\t\t\t</style>\n",
       "<p>Length: 211</p><table class=\"ftable\" style=\"border-collapse: collapse; border-spacing: 0;  border: 2px solid #000; font-size: 1rem\"><thead style=\"background-color: lightgrey\"><tr style=\"border: 2px solid #000\"><th style=\"border: 2px solid #000; color: blue\">Ix</th><th style=\"border: 2px solid #000; color: blue\">TYPE</th><th style=\"border: 2px solid #000; color: blue\">CODE</th><th style=\"border: 2px solid #000; color: blue\">SHORT</th><th style=\"border: 2px solid #000; color: blue\">DESCRIPTION</th></tr></thead><tbody><tr style=\"background-color: #fffaff\"><td style=\"border: 2px solid #000\">0</td><td style=\"border: 2px solid #000\">90</td><td style=\"border: 2px solid #000\">9001F</td><td style=\"border: 2px solid #000\">AORTIC ANEURYSM&lt;5CM MAX DIAM CENTERLINE/AXIAL CT</td><td style=\"border: 2px solid #000\">Aortic aneurysm less than 5.0 cm maximum diameter on centerline formatted CT or minor diameter on axial formatted CT (NMA-No Measure Associated)</td></tr><tr style=\"background-color: white\"><td style=\"border: 2px solid #000\">1</td><td style=\"border: 2px solid #000\">90</td><td style=\"border: 2px solid #000\">9002F</td><td style=\"border: 2px solid #000\">AORTIC ANEURYSM 5-5.4CM MAX DIAM CTRLN/AXIAL CT</td><td style=\"border: 2px solid #000\">Aortic aneurysm 5.0 - 5.4 cm maximum diameter on centerline formatted CT or minor diameter on axial formatted CT (NMA-No Measure Associated)</td></tr><tr style=\"background-color: #fffaff\"><td style=\"border: 2px solid #000\">2</td><td style=\"border: 2px solid #000\">90</td><td style=\"border: 2px solid #000\">9003F</td><td style=\"border: 2px solid #000\">AORTIC ARYSM 5.5-5.9CM MAX DIAM CTRLN/AXIAL CT</td><td style=\"border: 2px solid #000\">Aortic aneurysm 5.5 - 5.9 cm maximum diameter on centerline formatted CT or minor diameter on axial formatted CT (NMA-No Measure Associated)</td></tr><tr style=\"background-color: white\"><td style=\"border: 2px solid #000\">3</td><td style=\"border: 2px solid #000\">90</td><td style=\"border: 2px solid #000\">9004F</td><td style=\"border: 2px solid #000\">AORTIC ANEURYSM 6/&gt; CM MAX DIAM CTRLN/AXIAL CT</td><td style=\"border: 2px solid #000\">Aortic aneurysm 6.0 cm or greater maximum diameter on centerline formatted CT or minor diameter on axial formatted CT (NMA-No Measure Associated)</td></tr><tr style=\"background-color: #fffaff\"><td style=\"border: 2px solid #000\">4</td><td style=\"border: 2px solid #000\">90</td><td style=\"border: 2px solid #000\">9005F</td><td style=\"border: 2px solid #000\">ASYMPT CAROT STEN NO ISCHEM/STRK CAROT/VRTBROBAS</td><td style=\"border: 2px solid #000\">Asymptomatic carotid stenosis: No history of any transient ischemic attack or stroke in any carotid or vertebrobasilar territory (NMA-No Measure Associated)</td></tr><tr style=\"background-color: white\"><td style=\"border: 2px solid #000\">5</td><td style=\"border: 2px solid #000\">90</td><td style=\"border: 2px solid #000\">9006F</td><td style=\"border: 2px solid #000\">SYMPT CAROT STENOS IPSIL CAROT TIA/STRK&lt;120DAYS</td><td style=\"border: 2px solid #000\">Symptomatic carotid stenosis: Ipsilateral carotid territory TIA or stroke less than 120 days prior to procedure (NMA-No Measure Associated)</td></tr><tr style=\"background-color: #fffaff\"><td style=\"border: 2px solid #000\">6</td><td style=\"border: 2px solid #000\">90</td><td style=\"border: 2px solid #000\">9007F</td><td style=\"border: 2px solid #000\">OTHER CAROTID STENT IPSIL TIA/STRK 120 DAYS/&gt;</td><td style=\"border: 2px solid #000\">Other carotid stenosis: Ipsilateral TIA or stroke 120 days or greater prior to procedure or any prior contralateral carotid territory or vertebrobasilar TIA or stroke (NMA-No Measure Associated)</td></tr><tr style=\"background-color: white\"><td style=\"border: 2px solid #000\">7</td><td style=\"border: 2px solid #000\">90</td><td style=\"border: 2px solid #000\">90281</td><td style=\"border: 2px solid #000\">IMMUNE GLOBULIN IG HUMAN IM USE</td><td style=\"border: 2px solid #000\">Immune globulin (Ig), human, for intramuscular use</td></tr><tr style=\"background-color: #fffaff\"><td style=\"border: 2px solid #000\">8</td><td style=\"border: 2px solid #000\">90</td><td style=\"border: 2px solid #000\">90283</td><td style=\"border: 2px solid #000\">IMMUNE GLOBULIN IGIV HUMAN IV USE</td><td style=\"border: 2px solid #000\">Immune globulin (IgIV), human, for intravenous use</td></tr><tr style=\"background-color: white\"><td style=\"border: 2px solid #000\">9</td><td style=\"border: 2px solid #000\">90</td><td style=\"border: 2px solid #000\">90284</td><td style=\"border: 2px solid #000\">IMMUNE GLOBULIN HUMAN SUBQ INFUSION 100 MG EA</td><td style=\"border: 2px solid #000\">Immune globulin (SCIg), human, for use in subcutaneous infusions, 100 mg, each</td></tr><tr style=\"background-color: #fffaff\"><td style=\"border: 2px solid #000\">10</td><td style=\"border: 2px solid #000\">90</td><td style=\"border: 2px solid #000\">90287</td><td style=\"border: 2px solid #000\">BOTULINUM ANTITOXIN EQUINE ANY ROUTE</td><td style=\"border: 2px solid #000\">Botulinum antitoxin, equine, any route</td></tr><tr style=\"background-color: white\"><td style=\"border: 2px solid #000\">11</td><td style=\"border: 2px solid #000\">90</td><td style=\"border: 2px solid #000\">90288</td><td style=\"border: 2px solid #000\">BOTULISM IMMUNE GLOBULIN HUMAN INTRAVENOUS USE</td><td style=\"border: 2px solid #000\">Botulism immune globulin, human, for intravenous use</td></tr><tr style=\"background-color: #fffaff\"><td style=\"border: 2px solid #000\">12</td><td style=\"border: 2px solid #000\">90</td><td style=\"border: 2px solid #000\">90291</td><td style=\"border: 2px solid #000\">CYTOMEGALOVIRUS IMMUNE GLOBULIN HUMAN IV</td><td style=\"border: 2px solid #000\">Cytomegalovirus immune globulin (CMV-IgIV), human, for intravenous use</td></tr><tr style=\"background-color: white\"><td style=\"border: 2px solid #000\">13</td><td style=\"border: 2px solid #000\">90</td><td style=\"border: 2px solid #000\">90296</td><td style=\"border: 2px solid #000\">DIPHTHERIA ANTITOXIN EQUINE ANY ROUTE</td><td style=\"border: 2px solid #000\">Diphtheria antitoxin, equine, any route</td></tr><tr style=\"background-color: #fffaff\"><td style=\"border: 2px solid #000\">14</td><td style=\"border: 2px solid #000\">90</td><td style=\"border: 2px solid #000\">90371</td><td style=\"border: 2px solid #000\">HEPATITIS B IMMUNE GLOBULIN HBIG HUMAN IM</td><td style=\"border: 2px solid #000\">Hepatitis B immune globulin (HBIg), human, for intramuscular use</td></tr><tr style=\"background-color: white\"><td style=\"border: 2px solid #000\">15</td><td style=\"border: 2px solid #000\">90</td><td style=\"border: 2px solid #000\">90375</td><td style=\"border: 2px solid #000\">RABIES IMMUNE GLOBULIN RIG HUMAN IM/SUBQ</td><td style=\"border: 2px solid #000\">Rabies immune globulin (RIg), human, for intramuscular and/or subcutaneous use</td></tr><tr style=\"background-color: #fffaff\"><td style=\"border: 2px solid #000\">16</td><td style=\"border: 2px solid #000\">90</td><td style=\"border: 2px solid #000\">90376</td><td style=\"border: 2px solid #000\">RABIES IG HEAT-TREATED HUMAN IM/SUBQ</td><td style=\"border: 2px solid #000\">Rabies immune globulin, heat-treated (RIg-HT), human, for intramuscular and/or subcutaneous use</td></tr><tr style=\"background-color: white\"><td style=\"border: 2px solid #000\">17</td><td style=\"border: 2px solid #000\">90</td><td style=\"border: 2px solid #000\">90378</td><td style=\"border: 2px solid #000\">RESPIRATORY SYNCYTIAL VIRUS IG IM 50 MG E</td><td style=\"border: 2px solid #000\">Respiratory syncytial virus, monoclonal antibody, recombinant, for intramuscular use, 50 mg, each</td></tr><tr style=\"background-color: #fffaff\"><td style=\"border: 2px solid #000\">18</td><td style=\"border: 2px solid #000\">90</td><td style=\"border: 2px solid #000\">90384</td><td style=\"border: 2px solid #000\">RHO(D) IMMUNE GLOBULIN HUMAN FULL-DOSE IM</td><td style=\"border: 2px solid #000\">Rho(D) immune globulin (RhIg), human, full-dose, for intramuscular use</td></tr><tr style=\"background-color: white\"><td style=\"border: 2px solid #000\">19</td><td style=\"border: 2px solid #000\">90</td><td style=\"border: 2px solid #000\">90385</td><td style=\"border: 2px solid #000\">RHO(D) IMMUNE GLOBULIN HUMAN MINI-DOSE IM</td><td style=\"border: 2px solid #000\">Rho(D) immune globulin (RhIg), human, mini-dose, for intramuscular use</td></tr><tr style=\"background-color: #fffaff\"><td style=\"border: 2px solid #000\">20</td><td style=\"border: 2px solid #000\">90</td><td style=\"border: 2px solid #000\">90386</td><td style=\"border: 2px solid #000\">RHO(D) IMMUNE GLOBULIN HUMAN IV</td><td style=\"border: 2px solid #000\">Rho(D) immune globulin (RhIgIV), human, for intravenous use</td></tr><tr style=\"background-color: white\"><td style=\"border: 2px solid #000\">21</td><td style=\"border: 2px solid #000\">90</td><td style=\"border: 2px solid #000\">90389</td><td style=\"border: 2px solid #000\">TETANUS IMMUNE GLOBULIN TIG HUMAN IM</td><td style=\"border: 2px solid #000\">Tetanus immune globulin (TIg), human, for intramuscular use</td></tr><tr style=\"background-color: #fffaff\"><td style=\"border: 2px solid #000\">22</td><td style=\"border: 2px solid #000\">90</td><td style=\"border: 2px solid #000\">90393</td><td style=\"border: 2px solid #000\">VACCINIA IMMUNE GLOBULIN HUMAN IM</td><td style=\"border: 2px solid #000\">Vaccinia immune globulin, human, for intramuscular use</td></tr><tr style=\"background-color: white\"><td style=\"border: 2px solid #000\">23</td><td style=\"border: 2px solid #000\">90</td><td style=\"border: 2px solid #000\">90396</td><td style=\"border: 2px solid #000\">VARICELLA-ZOSTER IMMUNE GLOBULIN HUMAN IM</td><td style=\"border: 2px solid #000\">Varicella-zoster immune globulin, human, for intramuscular use</td></tr><tr style=\"background-color: #fffaff\"><td style=\"border: 2px solid #000\">24</td><td style=\"border: 2px solid #000\">90</td><td style=\"border: 2px solid #000\">90399</td><td style=\"border: 2px solid #000\">UNLISTED IMMUNE GLOBULIN</td><td style=\"border: 2px solid #000\">Unlisted immune globulin</td></tr><tr style=\"background-color: white\"><td style=\"border: 2px solid #000\">25</td><td style=\"border: 2px solid #000\">90</td><td style=\"border: 2px solid #000\">90460</td><td style=\"border: 2px solid #000\">IM ADM THRU 18YR ANY RTE 1ST/ONLY COMPT VAC/TOX</td><td style=\"border: 2px solid #000\">Immunization administration through 18 years of age via any route of administration, with counseling by physician or other qualified health care professional; first or only component of each vaccine or toxoid administered</td></tr><tr style=\"background-color: #fffaff\"><td style=\"border: 2px solid #000\">26</td><td style=\"border: 2px solid #000\">90</td><td style=\"border: 2px solid #000\">90461</td><td style=\"border: 2px solid #000\">IM ADM THRU 18YR ANY RTE ADDL VAC/TOX COMPT</td><td style=\"border: 2px solid #000\">Immunization administration through 18 years of age via any route of administration, with counseling by physician or other qualified health care professional; each additional vaccine or toxoid component administered (List separately in addition to code for primary procedure)</td></tr><tr style=\"background-color: white\"><td style=\"border: 2px solid #000\">27</td><td style=\"border: 2px solid #000\">90</td><td style=\"border: 2px solid #000\">90471</td><td style=\"border: 2px solid #000\">IM ADM PRQ ID SUBQ/IM NJXS 1 VACCINE</td><td style=\"border: 2px solid #000\">Immunization administration (includes percutaneous, intradermal, subcutaneous, or intramuscular injections); 1 vaccine (single or combination vaccine/toxoid)</td></tr><tr style=\"background-color: #fffaff\"><td style=\"border: 2px solid #000\">28</td><td style=\"border: 2px solid #000\">90</td><td style=\"border: 2px solid #000\">90472</td><td style=\"border: 2px solid #000\">IM ADM PRQ ID SUBQ/IM NJXS EA VACCINE</td><td style=\"border: 2px solid #000\">Immunization administration (includes percutaneous, intradermal, subcutaneous, or intramuscular injections); each additional vaccine (single or combination vaccine/toxoid) (List separately in addition to code for primary procedure)</td></tr><tr style=\"background-color: white\"><td style=\"border: 2px solid #000\">29</td><td style=\"border: 2px solid #000\">90</td><td style=\"border: 2px solid #000\">90473</td><td style=\"border: 2px solid #000\">IM ADM INTRANSL/ORAL 1 VACCINE</td><td style=\"border: 2px solid #000\">Immunization administration by intranasal or oral route; 1 vaccine (single or combination vaccine/toxoid)</td></tr><tr style=\"background-color: #fffaff\"><td style=\"border: 2px solid #000\">30</td><td style=\"border: 2px solid #000\">90</td><td style=\"border: 2px solid #000\">90474</td><td style=\"border: 2px solid #000\">IM ADM INTRANSL/ORAL EA VACCINE</td><td style=\"border: 2px solid #000\">Immunization administration by intranasal or oral route; each additional vaccine (single or combination vaccine/toxoid) (List separately in addition to code for primary procedure)</td></tr><tr style=\"background-color: white\"><td style=\"border: 2px solid #000\">31</td><td style=\"border: 2px solid #000\">90</td><td style=\"border: 2px solid #000\">90476</td><td style=\"border: 2px solid #000\">ADENOVIRUS VACCINE TYPE 4 LIVE ORAL</td><td style=\"border: 2px solid #000\">Adenovirus vaccine, type 4, live, for oral use</td></tr><tr style=\"background-color: #fffaff\"><td style=\"border: 2px solid #000\">32</td><td style=\"border: 2px solid #000\">90</td><td style=\"border: 2px solid #000\">90477</td><td style=\"border: 2px solid #000\">ADENOVIRUS VACCINE TYPE 7 LIVE FOR ORAL</td><td style=\"border: 2px solid #000\">Adenovirus vaccine, type 7, live, for oral use</td></tr><tr style=\"background-color: white\"><td style=\"border: 2px solid #000\">33</td><td style=\"border: 2px solid #000\">90</td><td style=\"border: 2px solid #000\">90581</td><td style=\"border: 2px solid #000\">ANTHRAX VACCINE SUBCUTANEOUS/IM USE</td><td style=\"border: 2px solid #000\">Anthrax vaccine, for subcutaneous or intramuscular use</td></tr><tr style=\"background-color: #fffaff\"><td style=\"border: 2px solid #000\">34</td><td style=\"border: 2px solid #000\">90</td><td style=\"border: 2px solid #000\">90585</td><td style=\"border: 2px solid #000\">BACILLUS CALMETTE-GUERIN VACC FOR TB LIVE PERQ</td><td style=\"border: 2px solid #000\">Bacillus Calmette-Guerin vaccine (BCG) for tuberculosis, live, for percutaneous use</td></tr><tr style=\"background-color: white\"><td style=\"border: 2px solid #000\">35</td><td style=\"border: 2px solid #000\">90</td><td style=\"border: 2px solid #000\">90586</td><td style=\"border: 2px solid #000\">BACILLUS CALMETTE-GUERIN VACCINE INTRAVESICAL</td><td style=\"border: 2px solid #000\">Bacillus Calmette-Guerin vaccine (BCG) for bladder cancer, live, for intravesical use</td></tr><tr style=\"background-color: #fffaff\"><td style=\"border: 2px solid #000\">36</td><td style=\"border: 2px solid #000\">90</td><td style=\"border: 2px solid #000\">90620</td><td style=\"border: 2px solid #000\">MENB RECOMBINANT PROT W/OUT MEMBR VESIC VACC IM</td><td style=\"border: 2px solid #000\">Meningococcal recombinant protein and outer membrane vesicle vaccine, serogroup B (MenB), 2 dose schedule, for intramuscular use</td></tr><tr style=\"background-color: white\"><td style=\"border: 2px solid #000\">37</td><td style=\"border: 2px solid #000\">90</td><td style=\"border: 2px solid #000\">90621</td><td style=\"border: 2px solid #000\">MENB RECOMBINANT LIPOPROTEIN VACCINE IM</td><td style=\"border: 2px solid #000\">Meningococcal recombinant lipoprotein vaccine, serogroup B (MenB), 3 dose schedule, for intramuscular use</td></tr><tr style=\"background-color: #fffaff\"><td style=\"border: 2px solid #000\">38</td><td style=\"border: 2px solid #000\">90</td><td style=\"border: 2px solid #000\">90625</td><td style=\"border: 2px solid #000\">CHOLERA VACCINE ADULT 1 DOSE LIVE FOR ORAL USE</td><td style=\"border: 2px solid #000\">Cholera vaccine, live, adult dosage, 1 dose schedule, for oral use</td></tr><tr style=\"background-color: white\"><td style=\"border: 2px solid #000\">39</td><td style=\"border: 2px solid #000\">90</td><td style=\"border: 2px solid #000\">90630</td><td style=\"border: 2px solid #000\">INFLUENZA VACC IIV4 SPLIT VIRUS PRSRV FREE ID</td><td style=\"border: 2px solid #000\">Influenza virus vaccine, quadrivalent (IIV4), split virus, preservative free, for intradermal use</td></tr><tr style=\"background-color: #fffaff\"><td style=\"border: 2px solid #000\">40</td><td style=\"border: 2px solid #000\">90</td><td style=\"border: 2px solid #000\">90632</td><td style=\"border: 2px solid #000\">HEPA VACCINE ADULT DOSE FOR INTRAMUSCULAR USE</td><td style=\"border: 2px solid #000\">Hepatitis A vaccine (HepA), adult dosage, for intramuscular use</td></tr><tr style=\"background-color: white\"><td style=\"border: 2px solid #000\">41</td><td style=\"border: 2px solid #000\">90</td><td style=\"border: 2px solid #000\">90633</td><td style=\"border: 2px solid #000\">HEPA VACCINE 2 DOSE SCHEDULE PED/ADOLESC IM USE</td><td style=\"border: 2px solid #000\">Hepatitis A vaccine (HepA), pediatric/adolescent dosage-2 dose schedule, for intramuscular use</td></tr><tr style=\"background-color: #fffaff\"><td style=\"border: 2px solid #000\">42</td><td style=\"border: 2px solid #000\">90</td><td style=\"border: 2px solid #000\">90634</td><td style=\"border: 2px solid #000\">HEPA VACCINE 3 DOSE SCHEDULE PED/ADOLESC IM USE</td><td style=\"border: 2px solid #000\">Hepatitis A vaccine (HepA), pediatric/adolescent dosage-3 dose schedule, for intramuscular use</td></tr><tr style=\"background-color: white\"><td style=\"border: 2px solid #000\">43</td><td style=\"border: 2px solid #000\">90</td><td style=\"border: 2px solid #000\">90636</td><td style=\"border: 2px solid #000\">HEPATITIS A & B VACCINE HEPA-HEPB ADULT IM</td><td style=\"border: 2px solid #000\">Hepatitis A and hepatitis B vaccine (HepA-HepB), adult dosage, for intramuscular use</td></tr><tr style=\"background-color: #fffaff\"><td style=\"border: 2px solid #000\">44</td><td style=\"border: 2px solid #000\">90</td><td style=\"border: 2px solid #000\">90644</td><td style=\"border: 2px solid #000\">HIB-MENCY VACC 4 DOSE SCHED 6 WKS-18 MONTHS IM</td><td style=\"border: 2px solid #000\">Meningococcal conjugate vaccine, serogroups C & Y and Haemophilus influenzae type b vaccine (Hib-MenCY), 4 dose schedule, when administered to children 6 weeks-18 months of age, for intramuscular use</td></tr><tr style=\"background-color: white\"><td style=\"border: 2px solid #000\">45</td><td style=\"border: 2px solid #000\">90</td><td style=\"border: 2px solid #000\">90645</td><td style=\"border: 2px solid #000\">Hib vaccine hboc im</td><td style=\"border: 2px solid #000\">Hib vaccine hboc im</td></tr><tr style=\"background-color: #fffaff\"><td style=\"border: 2px solid #000\">46</td><td style=\"border: 2px solid #000\">90</td><td style=\"border: 2px solid #000\">90646</td><td style=\"border: 2px solid #000\">Hib vaccine prp-d im</td><td style=\"border: 2px solid #000\">Hib vaccine prp-d im</td></tr><tr style=\"background-color: white\"><td style=\"border: 2px solid #000\">47</td><td style=\"border: 2px solid #000\">90</td><td style=\"border: 2px solid #000\">90647</td><td style=\"border: 2px solid #000\">HIB PRP-OMP VACCINE 3 DOSE SCHEDULE IM USE</td><td style=\"border: 2px solid #000\">Haemophilus influenzae type b vaccine (Hib), PRP-OMP conjugate, 3 dose schedule, for intramuscular use</td></tr><tr style=\"background-color: #fffaff\"><td style=\"border: 2px solid #000\">48</td><td style=\"border: 2px solid #000\">90</td><td style=\"border: 2px solid #000\">90648</td><td style=\"border: 2px solid #000\">HIB PRP-T VACCINE 4 DOSE SCHEDULE IM USE</td><td style=\"border: 2px solid #000\">Haemophilus influenzae type b vaccine (Hib), PRP-T conjugate, 4 dose schedule, for intramuscular use</td></tr><tr style=\"background-color: white\"><td style=\"border: 2px solid #000\">49</td><td style=\"border: 2px solid #000\">90</td><td style=\"border: 2px solid #000\">90649</td><td style=\"border: 2px solid #000\">4VHPV VACCINE 3 DOSE SCHEDULE FOR IM USE</td><td style=\"border: 2px solid #000\">Human Papillomavirus vaccine, types 6, 11, 16, 18, quadrivalent (4vHPV), 3 dose schedule, for intramuscular use</td></tr><tr style=\"background-color: #fffaff\"><td style=\"border: 2px solid #000\">50</td><td style=\"border: 2px solid #000\">90</td><td style=\"border: 2px solid #000\">90650</td><td style=\"border: 2px solid #000\">2VHPV VACCINE 3 DOSE SCHEDULE FOR IM USE</td><td style=\"border: 2px solid #000\">Human Papillomavirus vaccine, types 16, 18, bivalent (2vHPV), 3 dose schedule, for intramuscular use</td></tr><tr style=\"background-color: white\"><td style=\"border: 2px solid #000\">51</td><td style=\"border: 2px solid #000\">90</td><td style=\"border: 2px solid #000\">90651</td><td style=\"border: 2px solid #000\">9VHPV  VACCINE 3 DOSE SCHEDULE FOR IM USE</td><td style=\"border: 2px solid #000\">Human Papillomavirus vaccine types 6, 11, 16, 18, 31, 33, 45, 52, 58, nonavalent (9vHPV), 3 dose schedule, for intramuscular use</td></tr><tr style=\"background-color: #fffaff\"><td style=\"border: 2px solid #000\">52</td><td style=\"border: 2px solid #000\">90</td><td style=\"border: 2px solid #000\">90653</td><td style=\"border: 2px solid #000\">IIV ADJUVANTED VACCINE FOR INTRAMUSCULAR USE</td><td style=\"border: 2px solid #000\">Influenza vaccine, inactivated (IIV), subunit, adjuvanted, for intramuscular use</td></tr><tr style=\"background-color: white\"><td style=\"border: 2px solid #000\">53</td><td style=\"border: 2px solid #000\">90</td><td style=\"border: 2px solid #000\">90654</td><td style=\"border: 2px solid #000\">INFLUENZA VACC IIV3 SPLIT VIRUS PRSRV FREE ID</td><td style=\"border: 2px solid #000\">Influenza virus vaccine, trivalent (IIV3), split virus, preservative-free, for intradermal use</td></tr><tr style=\"background-color: #fffaff\"><td style=\"border: 2px solid #000\">54</td><td style=\"border: 2px solid #000\">90</td><td style=\"border: 2px solid #000\">90655</td><td style=\"border: 2px solid #000\">IIV3 VACC PRESRV FREE 0.25 ML DOSAGE IM USE</td><td style=\"border: 2px solid #000\">Influenza virus vaccine, trivalent (IIV3), split virus, preservative free, 0.25 mL dosage, for intramuscular use</td></tr><tr style=\"background-color: white\"><td style=\"border: 2px solid #000\">55</td><td style=\"border: 2px solid #000\">90</td><td style=\"border: 2px solid #000\">90656</td><td style=\"border: 2px solid #000\">IIV3 VACC PRESERVATIVE FREE 0.5 ML DOSAGE IM USE</td><td style=\"border: 2px solid #000\">Influenza virus vaccine, trivalent (IIV3), split virus, preservative free, 0.5 mL dosage, for intramuscular use</td></tr><tr style=\"background-color: #fffaff\"><td style=\"border: 2px solid #000\">56</td><td style=\"border: 2px solid #000\">90</td><td style=\"border: 2px solid #000\">90657</td><td style=\"border: 2px solid #000\">IIV3 VACCINE SPLIT VIRUS 0.25 ML DOSAGE IM USE</td><td style=\"border: 2px solid #000\">Influenza virus vaccine, trivalent (IIV3), split virus, 0.25 mL dosage, for intramuscular use</td></tr><tr style=\"background-color: white\"><td style=\"border: 2px solid #000\">57</td><td style=\"border: 2px solid #000\">90</td><td style=\"border: 2px solid #000\">90658</td><td style=\"border: 2px solid #000\">IIV3 VACCINE SPLIT VIRUS 0.5 ML DOSAGE IM USE</td><td style=\"border: 2px solid #000\">Influenza virus vaccine, trivalent (IIV3), split virus, 0.5 mL dosage, for intramuscular use</td></tr><tr style=\"background-color: #fffaff\"><td style=\"border: 2px solid #000\">58</td><td style=\"border: 2px solid #000\">90</td><td style=\"border: 2px solid #000\">90660</td><td style=\"border: 2px solid #000\">LAIV3 VACCINE LIVE FOR INTRANASAL USE</td><td style=\"border: 2px solid #000\">Influenza virus vaccine, trivalent, live (LAIV3), for intranasal use</td></tr><tr style=\"background-color: white\"><td style=\"border: 2px solid #000\">59</td><td style=\"border: 2px solid #000\">90</td><td style=\"border: 2px solid #000\">90661</td><td style=\"border: 2px solid #000\">CCIIV3 VACCINE PRESERVATIVE FREE 0.5 ML IM USE</td><td style=\"border: 2px solid #000\">Influenza virus vaccine, trivalent (ccIIV3), derived from cell cultures, subunit, preservative and antibiotic free, 0.5 mL dosage, for intramuscular use</td></tr><tr style=\"background-color: #fffaff\"><td style=\"border: 2px solid #000\">60</td><td style=\"border: 2px solid #000\">90</td><td style=\"border: 2px solid #000\">90662</td><td style=\"border: 2px solid #000\">IIV VACCINE PRESERV FREE INCREASED AG CONTENT IM</td><td style=\"border: 2px solid #000\">Influenza virus vaccine (IIV), split virus, preservative free, enhanced immunogenicity via increased antigen content, for intramuscular use</td></tr><tr style=\"background-color: white\"><td style=\"border: 2px solid #000\">61</td><td style=\"border: 2px solid #000\">90</td><td style=\"border: 2px solid #000\">90664</td><td style=\"border: 2px solid #000\">LAIV VACCINE PANDEMIC FORMULA FOR INTRANASAL USE</td><td style=\"border: 2px solid #000\">Influenza virus vaccine, live (LAIV), pandemic formulation, for intranasal use</td></tr><tr style=\"background-color: #fffaff\"><td style=\"border: 2px solid #000\">62</td><td style=\"border: 2px solid #000\">90</td><td style=\"border: 2px solid #000\">90665</td><td style=\"border: 2px solid #000\">Lyme disease vaccine im</td><td style=\"border: 2px solid #000\">Lyme disease vaccine im</td></tr><tr style=\"background-color: white\"><td style=\"border: 2px solid #000\">63</td><td style=\"border: 2px solid #000\">90</td><td style=\"border: 2px solid #000\">90666</td><td style=\"border: 2px solid #000\">INFLUENZA VACCINE PANDEMIC SPLT PRSRV FREE IM</td><td style=\"border: 2px solid #000\">Influenza virus vaccine (IIV), pandemic formulation, split virus, preservative free, for intramuscular use</td></tr><tr style=\"background-color: #fffaff\"><td style=\"border: 2px solid #000\">64</td><td style=\"border: 2px solid #000\">90</td><td style=\"border: 2px solid #000\">90667</td><td style=\"border: 2px solid #000\">IIV VACCINE PANDEMIC ADJUVANT FOR IM USE</td><td style=\"border: 2px solid #000\">Influenza virus vaccine (IIV), pandemic formulation, split virus, adjuvanted, for intramuscular use</td></tr><tr style=\"background-color: white\"><td style=\"border: 2px solid #000\">65</td><td style=\"border: 2px solid #000\">90</td><td style=\"border: 2px solid #000\">90668</td><td style=\"border: 2px solid #000\">IIV VACCINE PANDEMIC FOR INTRAMUSCULAR USE</td><td style=\"border: 2px solid #000\">Influenza virus vaccine (IIV), pandemic formulation, split virus, for intramuscular use</td></tr><tr style=\"background-color: #fffaff\"><td style=\"border: 2px solid #000\">66</td><td style=\"border: 2px solid #000\">90</td><td style=\"border: 2px solid #000\">90669</td><td style=\"border: 2px solid #000\">Pneumococcal vacc 7 val im</td><td style=\"border: 2px solid #000\">Pneumococcal vacc 7 val im</td></tr><tr style=\"background-color: white\"><td style=\"border: 2px solid #000\">67</td><td style=\"border: 2px solid #000\">90</td><td style=\"border: 2px solid #000\">90670</td><td style=\"border: 2px solid #000\">PCV13 VACCINE FOR INTRAMUSCULAR USE</td><td style=\"border: 2px solid #000\">Pneumococcal conjugate vaccine, 13 valent (PCV13), for intramuscular use</td></tr><tr style=\"background-color: #fffaff\"><td style=\"border: 2px solid #000\">68</td><td style=\"border: 2px solid #000\">90</td><td style=\"border: 2px solid #000\">90672</td><td style=\"border: 2px solid #000\">LAIV4 VACCINE FOR INTRANASAL USE</td><td style=\"border: 2px solid #000\">Influenza virus vaccine, quadrivalent, live (LAIV4), for intranasal use</td></tr><tr style=\"background-color: white\"><td style=\"border: 2px solid #000\">69</td><td style=\"border: 2px solid #000\">90</td><td style=\"border: 2px solid #000\">90673</td><td style=\"border: 2px solid #000\">RIV3 VACCINE PRESERVATIVE FREE FOR IM USE</td><td style=\"border: 2px solid #000\">Influenza virus vaccine, trivalent (RIV3), derived from recombinant DNA, hemagglutinin (HA) protein only, preservative and antibiotic free, for intramuscular use</td></tr><tr style=\"background-color: #fffaff\"><td style=\"border: 2px solid #000\">70</td><td style=\"border: 2px solid #000\">90</td><td style=\"border: 2px solid #000\">90675</td><td style=\"border: 2px solid #000\">RABIES VACCINE INTRAMUSCULAR</td><td style=\"border: 2px solid #000\">Rabies vaccine, for intramuscular use</td></tr><tr style=\"background-color: white\"><td style=\"border: 2px solid #000\">71</td><td style=\"border: 2px solid #000\">90</td><td style=\"border: 2px solid #000\">90676</td><td style=\"border: 2px solid #000\">RABIES VACCINE INTRADERMAL</td><td style=\"border: 2px solid #000\">Rabies vaccine, for intradermal use</td></tr><tr style=\"background-color: #fffaff\"><td style=\"border: 2px solid #000\">72</td><td style=\"border: 2px solid #000\">90</td><td style=\"border: 2px solid #000\">90680</td><td style=\"border: 2px solid #000\">RV5 VACCINE 3 DOSE SCHEDULE LIVE FOR ORAL USE</td><td style=\"border: 2px solid #000\">Rotavirus vaccine, pentavalent (RV5), 3 dose schedule, live, for oral use</td></tr><tr style=\"background-color: white\"><td style=\"border: 2px solid #000\">73</td><td style=\"border: 2px solid #000\">90</td><td style=\"border: 2px solid #000\">90681</td><td style=\"border: 2px solid #000\">RV1 VACCINE 2 DOSE SCHEDULE LIVE FOR ORAL USE</td><td style=\"border: 2px solid #000\">Rotavirus vaccine, human, attenuated (RV1), 2 dose schedule, live, for oral use</td></tr><tr style=\"background-color: #fffaff\"><td style=\"border: 2px solid #000\">74</td><td style=\"border: 2px solid #000\">90</td><td style=\"border: 2px solid #000\">90685</td><td style=\"border: 2px solid #000\">IIV4 VACC PRSRV FREE 0.25 ML DOS FOR IM USE</td><td style=\"border: 2px solid #000\">Influenza virus vaccine, quadrivalent (IIV4), split virus, preservative free, 0.25 mL, for intramuscular use</td></tr><tr style=\"background-color: white\"><td style=\"border: 2px solid #000\">75</td><td style=\"border: 2px solid #000\">90</td><td style=\"border: 2px solid #000\">90686</td><td style=\"border: 2px solid #000\">IIV4 VACC PRESRV FREE 0.5 ML FOR IM USE</td><td style=\"border: 2px solid #000\">Influenza virus vaccine, quadrivalent (IIV4), split virus, preservative free, 0.5 mL dosage, for intramuscular use</td></tr><tr style=\"background-color: #fffaff\"><td style=\"border: 2px solid #000\">76</td><td style=\"border: 2px solid #000\">90</td><td style=\"border: 2px solid #000\">90687</td><td style=\"border: 2px solid #000\">IIV4 VACC SPLIT VIRUS 0.25 ML DOS FOR IM USE</td><td style=\"border: 2px solid #000\">Influenza virus vaccine, quadrivalent (IIV4), split virus, 0.25 mL dosage, for intramuscular use</td></tr><tr style=\"background-color: white\"><td style=\"border: 2px solid #000\">77</td><td style=\"border: 2px solid #000\">90</td><td style=\"border: 2px solid #000\">90688</td><td style=\"border: 2px solid #000\">IIV4 VACC SPLIT VIRUS 0.5 ML DOS FOR IM USE</td><td style=\"border: 2px solid #000\">Influenza virus vaccine, quadrivalent (IIV4), split virus, 0.5 mL dosage, for intramuscular use</td></tr><tr style=\"background-color: #fffaff\"><td style=\"border: 2px solid #000\">78</td><td style=\"border: 2px solid #000\">90</td><td style=\"border: 2px solid #000\">90690</td><td style=\"border: 2px solid #000\">TYPHOID VACCINE LIVE ORAL</td><td style=\"border: 2px solid #000\">Typhoid vaccine, live, oral</td></tr><tr style=\"background-color: white\"><td style=\"border: 2px solid #000\">79</td><td style=\"border: 2px solid #000\">90</td><td style=\"border: 2px solid #000\">90691</td><td style=\"border: 2px solid #000\">TYPHOID VACCINE VI CAPSULAR POLYSACCHARIDE IM</td><td style=\"border: 2px solid #000\">Typhoid vaccine, Vi capsular polysaccharide (ViCPs), for intramuscular use</td></tr><tr style=\"background-color: #fffaff\"><td style=\"border: 2px solid #000\">80</td><td style=\"border: 2px solid #000\">90</td><td style=\"border: 2px solid #000\">90692</td><td style=\"border: 2px solid #000\">Typhoid vaccine h-p sc/id</td><td style=\"border: 2px solid #000\">Typhoid vaccine h-p sc/id</td></tr><tr style=\"background-color: white\"><td style=\"border: 2px solid #000\">81</td><td style=\"border: 2px solid #000\">90</td><td style=\"border: 2px solid #000\">90693</td><td style=\"border: 2px solid #000\">Typhoid vaccine akd sc</td><td style=\"border: 2px solid #000\">Typhoid vaccine akd sc</td></tr><tr style=\"background-color: #fffaff\"><td style=\"border: 2px solid #000\">82</td><td style=\"border: 2px solid #000\">90</td><td style=\"border: 2px solid #000\">90696</td><td style=\"border: 2px solid #000\">DTAP-IPV VACCINE CHILD 4-6 YRS FOR IM USE</td><td style=\"border: 2px solid #000\">Diphtheria, tetanus toxoids, acellular pertussis vaccine and inactivated poliovirus vaccine (DTaP-IPV), when administered to children 4 through 6 years of age, for intramuscular use</td></tr><tr style=\"background-color: white\"><td style=\"border: 2px solid #000\">83</td><td style=\"border: 2px solid #000\">90</td><td style=\"border: 2px solid #000\">90697</td><td style=\"border: 2px solid #000\">DTAP-IPV-HIB-HEPB VACCINE INTRAMUSCULAR</td><td style=\"border: 2px solid #000\">Diphtheria, tetanus toxoids, acellular pertussis vaccine, inactivated poliovirus vaccine, Haemophilus influenzae type b PRP-OMP conjugate vaccine, and hepatitis B vaccine (DTaP-IPV-Hib-HepB), for intramuscular use</td></tr><tr style=\"background-color: #fffaff\"><td style=\"border: 2px solid #000\">84</td><td style=\"border: 2px solid #000\">90</td><td style=\"border: 2px solid #000\">90698</td><td style=\"border: 2px solid #000\">DTAP-IPV/HIB VACCINE FOR INTRAMUSCULAR USE</td><td style=\"border: 2px solid #000\">Diphtheria, tetanus toxoids, acellular pertussis vaccine, Haemophilus influenzae type b, and inactivated poliovirus vaccine, (DTaP-IPV/Hib), for intramuscular use</td></tr><tr style=\"background-color: white\"><td style=\"border: 2px solid #000\">85</td><td style=\"border: 2px solid #000\">90</td><td style=\"border: 2px solid #000\">90700</td><td style=\"border: 2px solid #000\">DIPHTH TETANUS TOX ACELL PERTUSSIS VACC&lt;7 YR IM</td><td style=\"border: 2px solid #000\">Diphtheria, tetanus toxoids, and acellular pertussis vaccine (DTaP), when administered to individuals younger than 7 years, for intramuscular use</td></tr><tr style=\"background-color: #fffaff\"><td style=\"border: 2px solid #000\">86</td><td style=\"border: 2px solid #000\">90</td><td style=\"border: 2px solid #000\">90701</td><td style=\"border: 2px solid #000\">Dtp vaccine im</td><td style=\"border: 2px solid #000\">Dtp vaccine im</td></tr><tr style=\"background-color: white\"><td style=\"border: 2px solid #000\">87</td><td style=\"border: 2px solid #000\">90</td><td style=\"border: 2px solid #000\">90702</td><td style=\"border: 2px solid #000\">DT VACCINE YOUNGER THAN 7 YRS FOR IM USE</td><td style=\"border: 2px solid #000\">Diphtheria and tetanus toxoids adsorbed (DT) when administered to individuals younger than 7 years, for intramuscular use</td></tr><tr style=\"background-color: #fffaff\"><td style=\"border: 2px solid #000\">88</td><td style=\"border: 2px solid #000\">90</td><td style=\"border: 2px solid #000\">90703</td><td style=\"border: 2px solid #000\">Tetanus vaccine im</td><td style=\"border: 2px solid #000\">Tetanus vaccine im</td></tr><tr style=\"background-color: white\"><td style=\"border: 2px solid #000\">89</td><td style=\"border: 2px solid #000\">90</td><td style=\"border: 2px solid #000\">90704</td><td style=\"border: 2px solid #000\">Mumps vaccine sc</td><td style=\"border: 2px solid #000\">Mumps vaccine sc</td></tr><tr style=\"background-color: #fffaff\"><td style=\"border: 2px solid #000\">90</td><td style=\"border: 2px solid #000\">90</td><td style=\"border: 2px solid #000\">90705</td><td style=\"border: 2px solid #000\">Measles vaccine sc</td><td style=\"border: 2px solid #000\">Measles vaccine sc</td></tr><tr style=\"background-color: white\"><td style=\"border: 2px solid #000\">91</td><td style=\"border: 2px solid #000\">90</td><td style=\"border: 2px solid #000\">90706</td><td style=\"border: 2px solid #000\">Rubella vaccine sc</td><td style=\"border: 2px solid #000\">Rubella vaccine sc</td></tr><tr style=\"background-color: #fffaff\"><td style=\"border: 2px solid #000\">92</td><td style=\"border: 2px solid #000\">90</td><td style=\"border: 2px solid #000\">90707</td><td style=\"border: 2px solid #000\">MEASLES MUMPS RUBELLA VIRUS VACCINE LIVE SUBQ</td><td style=\"border: 2px solid #000\">Measles, mumps and rubella virus vaccine (MMR), live, for subcutaneous use</td></tr><tr style=\"background-color: white\"><td style=\"border: 2px solid #000\">93</td><td style=\"border: 2px solid #000\">90</td><td style=\"border: 2px solid #000\">90708</td><td style=\"border: 2px solid #000\">Measles-rubella vaccine sc</td><td style=\"border: 2px solid #000\">Measles-rubella vaccine sc</td></tr><tr style=\"background-color: #fffaff\"><td style=\"border: 2px solid #000\">94</td><td style=\"border: 2px solid #000\">90</td><td style=\"border: 2px solid #000\">90710</td><td style=\"border: 2px solid #000\">MEASLES MUMPS RUBELLA VARICELLA VACC LIVE SUBQ</td><td style=\"border: 2px solid #000\">Measles, mumps, rubella, and varicella vaccine (MMRV), live, for subcutaneous use</td></tr><tr style=\"background-color: white\"><td style=\"border: 2px solid #000\">95</td><td style=\"border: 2px solid #000\">90</td><td style=\"border: 2px solid #000\">90712</td><td style=\"border: 2px solid #000\">Oral poliovirus vaccine</td><td style=\"border: 2px solid #000\">Oral poliovirus vaccine</td></tr><tr style=\"background-color: #fffaff\"><td style=\"border: 2px solid #000\">96</td><td style=\"border: 2px solid #000\">90</td><td style=\"border: 2px solid #000\">90713</td><td style=\"border: 2px solid #000\">POLIOVIRUS VACCINE INACTIVATED SUBQ/IM</td><td style=\"border: 2px solid #000\">Poliovirus vaccine, inactivated (IPV), for subcutaneous or intramuscular use</td></tr><tr style=\"background-color: white\"><td style=\"border: 2px solid #000\">97</td><td style=\"border: 2px solid #000\">90</td><td style=\"border: 2px solid #000\">90714</td><td style=\"border: 2px solid #000\">TD VACCINE PRSRV FREE 7 YRS OR OLDER FOR IM USE</td><td style=\"border: 2px solid #000\">Tetanus and diphtheria toxoids adsorbed (Td), preservative free, when administered to individuals 7 years or older, for intramuscular use</td></tr><tr style=\"background-color: #fffaff\"><td style=\"border: 2px solid #000\">98</td><td style=\"border: 2px solid #000\">90</td><td style=\"border: 2px solid #000\">90715</td><td style=\"border: 2px solid #000\">TDAP VACCINE 7 YRS/&gt; IM</td><td style=\"border: 2px solid #000\">Tetanus, diphtheria toxoids and acellular pertussis vaccine (Tdap), when administered to individuals 7 years or older, for intramuscular use</td></tr><tr style=\"background-color: white\"><td style=\"border: 2px solid #000\">99</td><td style=\"border: 2px solid #000\">90</td><td style=\"border: 2px solid #000\">90716</td><td style=\"border: 2px solid #000\">VAR VACCINE LIVE FOR SUBCUTANEOUS USE</td><td style=\"border: 2px solid #000\">Varicella virus vaccine (VAR), live, for subcutaneous use</td></tr><tr style=\"background-color: #fffaff\"><td style=\"border: 2px solid #000\">100</td><td style=\"border: 2px solid #000\">90</td><td style=\"border: 2px solid #000\">90717</td><td style=\"border: 2px solid #000\">YELLOW FEVER VACCINE LIVE SUBQ</td><td style=\"border: 2px solid #000\">Yellow fever vaccine, live, for subcutaneous use</td></tr><tr style=\"background-color: white\"><td style=\"border: 2px solid #000\">101</td><td style=\"border: 2px solid #000\">90</td><td style=\"border: 2px solid #000\">90718</td><td style=\"border: 2px solid #000\">Td vaccine &gt; 7 im</td><td style=\"border: 2px solid #000\">Td vaccine &gt; 7 im</td></tr><tr style=\"background-color: #fffaff\"><td style=\"border: 2px solid #000\">102</td><td style=\"border: 2px solid #000\">90</td><td style=\"border: 2px solid #000\">90719</td><td style=\"border: 2px solid #000\">Diphtheria vaccine im</td><td style=\"border: 2px solid #000\">Diphtheria vaccine im</td></tr><tr style=\"background-color: white\"><td style=\"border: 2px solid #000\">103</td><td style=\"border: 2px solid #000\">90</td><td style=\"border: 2px solid #000\">90720</td><td style=\"border: 2px solid #000\">Dtp/hib vaccine im</td><td style=\"border: 2px solid #000\">Dtp/hib vaccine im</td></tr><tr style=\"background-color: #fffaff\"><td style=\"border: 2px solid #000\">104</td><td style=\"border: 2px solid #000\">90</td><td style=\"border: 2px solid #000\">90721</td><td style=\"border: 2px solid #000\">Dtap/hib vaccine im</td><td style=\"border: 2px solid #000\">Dtap/hib vaccine im</td></tr><tr style=\"background-color: white\"><td style=\"border: 2px solid #000\">105</td><td style=\"border: 2px solid #000\">90</td><td style=\"border: 2px solid #000\">90723</td><td style=\"border: 2px solid #000\">DTAP-HEPB-IPV VACCINE INTRAMUSCULAR</td><td style=\"border: 2px solid #000\">Diphtheria, tetanus toxoids, acellular pertussis vaccine, hepatitis B, and inactivated poliovirus vaccine (DTaP-HepB-IPV), for intramuscular use</td></tr><tr style=\"background-color: #fffaff\"><td style=\"border: 2px solid #000\">106</td><td style=\"border: 2px solid #000\">90</td><td style=\"border: 2px solid #000\">90725</td><td style=\"border: 2px solid #000\">Cholera vaccine injectable</td><td style=\"border: 2px solid #000\">Cholera vaccine injectable</td></tr><tr style=\"background-color: white\"><td style=\"border: 2px solid #000\">107</td><td style=\"border: 2px solid #000\">90</td><td style=\"border: 2px solid #000\">90727</td><td style=\"border: 2px solid #000\">Plague vaccine im</td><td style=\"border: 2px solid #000\">Plague vaccine im</td></tr><tr style=\"background-color: #fffaff\"><td style=\"border: 2px solid #000\">108</td><td style=\"border: 2px solid #000\">90</td><td style=\"border: 2px solid #000\">90732</td><td style=\"border: 2px solid #000\">PPSV23 VACCINE 2 YRS OR OLDER FOR SUBQ/IM USE</td><td style=\"border: 2px solid #000\">Pneumococcal polysaccharide vaccine, 23-valent (PPSV23), adult or immunosuppressed patient dosage, when administered to individuals 2 years or older, for subcutaneous or intramuscular use</td></tr><tr style=\"background-color: white\"><td style=\"border: 2px solid #000\">109</td><td style=\"border: 2px solid #000\">90</td><td style=\"border: 2px solid #000\">90733</td><td style=\"border: 2px solid #000\">MPSV4 VACCINE GROUPS ACYW-135 SUBQ USE</td><td style=\"border: 2px solid #000\">Meningococcal polysaccharide vaccine, serogroups A, C, Y, W-135, quadrivalent (MPSV4), for subcutaneous use</td></tr><tr style=\"background-color: #fffaff\"><td style=\"border: 2px solid #000\">110</td><td style=\"border: 2px solid #000\">90</td><td style=\"border: 2px solid #000\">90734</td><td style=\"border: 2px solid #000\">MCV4 MENACWY CONJ VACC GRPS ACYW-135 IM USE</td><td style=\"border: 2px solid #000\">Meningococcal conjugate vaccine, serogroups A, C, Y and W-135, quadrivalent (MCV4 or MenACWY), for intramuscular use</td></tr><tr style=\"background-color: white\"><td style=\"border: 2px solid #000\">111</td><td style=\"border: 2px solid #000\">90</td><td style=\"border: 2px solid #000\">90735</td><td style=\"border: 2px solid #000\">Encephalitis vaccine sc</td><td style=\"border: 2px solid #000\">Encephalitis vaccine sc</td></tr><tr style=\"background-color: #fffaff\"><td style=\"border: 2px solid #000\">112</td><td style=\"border: 2px solid #000\">90</td><td style=\"border: 2px solid #000\">90736</td><td style=\"border: 2px solid #000\">ZOSTER VACCINE HZV LIVE FOR SUBCUTANEOUS USE</td><td style=\"border: 2px solid #000\">Zoster (shingles) vaccine (HZV), live, for subcutaneous injection</td></tr><tr style=\"background-color: white\"><td style=\"border: 2px solid #000\">113</td><td style=\"border: 2px solid #000\">90</td><td style=\"border: 2px solid #000\">90738</td><td style=\"border: 2px solid #000\">JAPANESE ENCEPHALITIS VACCINE INACTIVATED IM</td><td style=\"border: 2px solid #000\">Japanese encephalitis virus vaccine, inactivated, for intramuscular use</td></tr><tr style=\"background-color: #fffaff\"><td style=\"border: 2px solid #000\">114</td><td style=\"border: 2px solid #000\">90</td><td style=\"border: 2px solid #000\">90739</td><td style=\"border: 2px solid #000\">HEPB VACCINE ADULT 2 DOSE SCHEDULE FOR IM USE</td><td style=\"border: 2px solid #000\">Hepatitis B vaccine (HepB), adult dosage, 2 dose schedule, for intramuscular use</td></tr><tr style=\"background-color: white\"><td style=\"border: 2px solid #000\">115</td><td style=\"border: 2px solid #000\">90</td><td style=\"border: 2px solid #000\">90740</td><td style=\"border: 2px solid #000\">HEPB VACCINE DIALYSIS/IMMUNSUP PAT 3 DOSE IM</td><td style=\"border: 2px solid #000\">Hepatitis B vaccine (HepB), dialysis or immunosuppressed patient dosage, 3 dose schedule, for intramuscular use</td></tr><tr style=\"background-color: #fffaff\"><td style=\"border: 2px solid #000\">116</td><td style=\"border: 2px solid #000\">90</td><td style=\"border: 2px solid #000\">90743</td><td style=\"border: 2px solid #000\">HEPB VACCINE ADOLESCENT 2 DOSE SCHEDULE IM</td><td style=\"border: 2px solid #000\">Hepatitis B vaccine (HepB), adolescent, 2 dose schedule, for intramuscular use</td></tr><tr style=\"background-color: white\"><td style=\"border: 2px solid #000\">117</td><td style=\"border: 2px solid #000\">90</td><td style=\"border: 2px solid #000\">90744</td><td style=\"border: 2px solid #000\">HEPB VACCINE PED/ADOLESC 3 DOSE SCHEDULE IM</td><td style=\"border: 2px solid #000\">Hepatitis B vaccine (HepB), pediatric/adolescent dosage, 3 dose schedule, for intramuscular use</td></tr><tr style=\"background-color: #fffaff\"><td style=\"border: 2px solid #000\">118</td><td style=\"border: 2px solid #000\">90</td><td style=\"border: 2px solid #000\">90746</td><td style=\"border: 2px solid #000\">HEPB VACCINE ADULT 3 DOSE SCHEDULE FOR IM USE</td><td style=\"border: 2px solid #000\">Hepatitis B vaccine (HepB), adult dosage, 3 dose schedule, for intramuscular use</td></tr><tr style=\"background-color: white\"><td style=\"border: 2px solid #000\">119</td><td style=\"border: 2px solid #000\">90</td><td style=\"border: 2px solid #000\">90747</td><td style=\"border: 2px solid #000\">HEPB VACCINE DIALYSIS/IMMUNSUP PAT 4 DOSE IM</td><td style=\"border: 2px solid #000\">Hepatitis B vaccine (HepB), dialysis or immunosuppressed patient dosage, 4 dose schedule, for intramuscular use</td></tr><tr style=\"background-color: #fffaff\"><td style=\"border: 2px solid #000\">120</td><td style=\"border: 2px solid #000\">90</td><td style=\"border: 2px solid #000\">90748</td><td style=\"border: 2px solid #000\">HIB-HEPB VACCINE FOR INTRAMUSCULAR USE</td><td style=\"border: 2px solid #000\">Hepatitis B and Haemophilus influenzae type b vaccine (Hib-HepB), for intramuscular use</td></tr><tr style=\"background-color: white\"><td style=\"border: 2px solid #000\">121</td><td style=\"border: 2px solid #000\">90</td><td style=\"border: 2px solid #000\">90749</td><td style=\"border: 2px solid #000\">UNLISTED VACCINE/TOXOID</td><td style=\"border: 2px solid #000\">Unlisted vaccine/toxoid</td></tr><tr style=\"background-color: #fffaff\"><td style=\"border: 2px solid #000\">122</td><td style=\"border: 2px solid #000\">90</td><td style=\"border: 2px solid #000\">90785</td><td style=\"border: 2px solid #000\">PSYCHOTHERAPY COMPLEX INTERACTIVE</td><td style=\"border: 2px solid #000\">Interactive complexity (List separately in addition to the code for primary procedure)</td></tr><tr style=\"background-color: white\"><td style=\"border: 2px solid #000\">123</td><td style=\"border: 2px solid #000\">90</td><td style=\"border: 2px solid #000\">90791</td><td style=\"border: 2px solid #000\">PSYCHIATRIC DIAGNOSTIC EVALUATION</td><td style=\"border: 2px solid #000\">Psychiatric diagnostic evaluation</td></tr><tr style=\"background-color: #fffaff\"><td style=\"border: 2px solid #000\">124</td><td style=\"border: 2px solid #000\">90</td><td style=\"border: 2px solid #000\">90792</td><td style=\"border: 2px solid #000\">PSYCHIATRIC DIAGNOSTIC EVAL W/MEDICAL SERVICES</td><td style=\"border: 2px solid #000\">Psychiatric diagnostic evaluation with medical services</td></tr><tr style=\"background-color: white\"><td style=\"border: 2px solid #000\">125</td><td style=\"border: 2px solid #000\">90</td><td style=\"border: 2px solid #000\">90801</td><td style=\"border: 2px solid #000\">Psy dx interview</td><td style=\"border: 2px solid #000\">Psy dx interview</td></tr><tr style=\"background-color: #fffaff\"><td style=\"border: 2px solid #000\">126</td><td style=\"border: 2px solid #000\">90</td><td style=\"border: 2px solid #000\">90802</td><td style=\"border: 2px solid #000\">Intac psy dx interview</td><td style=\"border: 2px solid #000\">Intac psy dx interview</td></tr><tr style=\"background-color: white\"><td style=\"border: 2px solid #000\">127</td><td style=\"border: 2px solid #000\">90</td><td style=\"border: 2px solid #000\">90804</td><td style=\"border: 2px solid #000\">Psytx office 20-30 min</td><td style=\"border: 2px solid #000\">Psytx office 20-30 min</td></tr><tr style=\"background-color: #fffaff\"><td style=\"border: 2px solid #000\">128</td><td style=\"border: 2px solid #000\">90</td><td style=\"border: 2px solid #000\">90805</td><td style=\"border: 2px solid #000\">Psytx off 20-30 min w/e&m</td><td style=\"border: 2px solid #000\">Psytx off 20-30 min w/e&m</td></tr><tr style=\"background-color: white\"><td style=\"border: 2px solid #000\">129</td><td style=\"border: 2px solid #000\">90</td><td style=\"border: 2px solid #000\">90806</td><td style=\"border: 2px solid #000\">Psytx off 45-50 min</td><td style=\"border: 2px solid #000\">Psytx off 45-50 min</td></tr><tr style=\"background-color: #fffaff\"><td style=\"border: 2px solid #000\">130</td><td style=\"border: 2px solid #000\">90</td><td style=\"border: 2px solid #000\">90807</td><td style=\"border: 2px solid #000\">Psytx off 45-50 min w/e&m</td><td style=\"border: 2px solid #000\">Psytx off 45-50 min w/e&m</td></tr><tr style=\"background-color: white\"><td style=\"border: 2px solid #000\">131</td><td style=\"border: 2px solid #000\">90</td><td style=\"border: 2px solid #000\">90808</td><td style=\"border: 2px solid #000\">Psytx office 75-80 min</td><td style=\"border: 2px solid #000\">Psytx office 75-80 min</td></tr><tr style=\"background-color: #fffaff\"><td style=\"border: 2px solid #000\">132</td><td style=\"border: 2px solid #000\">90</td><td style=\"border: 2px solid #000\">90809</td><td style=\"border: 2px solid #000\">Psytx off 75-80 w/e&m</td><td style=\"border: 2px solid #000\">Psytx off 75-80 w/e&m</td></tr><tr style=\"background-color: white\"><td style=\"border: 2px solid #000\">133</td><td style=\"border: 2px solid #000\">90</td><td style=\"border: 2px solid #000\">90810</td><td style=\"border: 2px solid #000\">Intac psytx off 20-30 min</td><td style=\"border: 2px solid #000\">Intac psytx off 20-30 min</td></tr><tr style=\"background-color: #fffaff\"><td style=\"border: 2px solid #000\">134</td><td style=\"border: 2px solid #000\">90</td><td style=\"border: 2px solid #000\">90811</td><td style=\"border: 2px solid #000\">Intac psytx 20-30 w/e&m</td><td style=\"border: 2px solid #000\">Intac psytx 20-30 w/e&m</td></tr><tr style=\"background-color: white\"><td style=\"border: 2px solid #000\">135</td><td style=\"border: 2px solid #000\">90</td><td style=\"border: 2px solid #000\">90812</td><td style=\"border: 2px solid #000\">Intac psytx off 45-50 min</td><td style=\"border: 2px solid #000\">Intac psytx off 45-50 min</td></tr><tr style=\"background-color: #fffaff\"><td style=\"border: 2px solid #000\">136</td><td style=\"border: 2px solid #000\">90</td><td style=\"border: 2px solid #000\">90813</td><td style=\"border: 2px solid #000\">Intac psytx 45-50 min w/e&m</td><td style=\"border: 2px solid #000\">Intac psytx 45-50 min w/e&m</td></tr><tr style=\"background-color: white\"><td style=\"border: 2px solid #000\">137</td><td style=\"border: 2px solid #000\">90</td><td style=\"border: 2px solid #000\">90814</td><td style=\"border: 2px solid #000\">Intac psytx off 75-80 min</td><td style=\"border: 2px solid #000\">Intac psytx off 75-80 min</td></tr><tr style=\"background-color: #fffaff\"><td style=\"border: 2px solid #000\">138</td><td style=\"border: 2px solid #000\">90</td><td style=\"border: 2px solid #000\">90815</td><td style=\"border: 2px solid #000\">Intac psytx 75-80 w/e&m</td><td style=\"border: 2px solid #000\">Intac psytx 75-80 w/e&m</td></tr><tr style=\"background-color: white\"><td style=\"border: 2px solid #000\">139</td><td style=\"border: 2px solid #000\">90</td><td style=\"border: 2px solid #000\">90816</td><td style=\"border: 2px solid #000\">Psytx hosp 20-30 min</td><td style=\"border: 2px solid #000\">Psytx hosp 20-30 min</td></tr><tr style=\"background-color: #fffaff\"><td style=\"border: 2px solid #000\">140</td><td style=\"border: 2px solid #000\">90</td><td style=\"border: 2px solid #000\">90817</td><td style=\"border: 2px solid #000\">Psytx hosp 20-30 min w/e&m</td><td style=\"border: 2px solid #000\">Psytx hosp 20-30 min w/e&m</td></tr><tr style=\"background-color: white\"><td style=\"border: 2px solid #000\">141</td><td style=\"border: 2px solid #000\">90</td><td style=\"border: 2px solid #000\">90818</td><td style=\"border: 2px solid #000\">Psytx hosp 45-50 min</td><td style=\"border: 2px solid #000\">Psytx hosp 45-50 min</td></tr><tr style=\"background-color: #fffaff\"><td style=\"border: 2px solid #000\">142</td><td style=\"border: 2px solid #000\">90</td><td style=\"border: 2px solid #000\">90819</td><td style=\"border: 2px solid #000\">Psytx hosp 45-50 min w/e&m</td><td style=\"border: 2px solid #000\">Psytx hosp 45-50 min w/e&m</td></tr><tr style=\"background-color: white\"><td style=\"border: 2px solid #000\">143</td><td style=\"border: 2px solid #000\">90</td><td style=\"border: 2px solid #000\">90821</td><td style=\"border: 2px solid #000\">Psytx hosp 75-80 min</td><td style=\"border: 2px solid #000\">Psytx hosp 75-80 min</td></tr><tr style=\"background-color: #fffaff\"><td style=\"border: 2px solid #000\">144</td><td style=\"border: 2px solid #000\">90</td><td style=\"border: 2px solid #000\">90822</td><td style=\"border: 2px solid #000\">Psytx hosp 75-80 min w/e&m</td><td style=\"border: 2px solid #000\">Psytx hosp 75-80 min w/e&m</td></tr><tr style=\"background-color: white\"><td style=\"border: 2px solid #000\">145</td><td style=\"border: 2px solid #000\">90</td><td style=\"border: 2px solid #000\">90823</td><td style=\"border: 2px solid #000\">Intac psytx hosp 20-30 min</td><td style=\"border: 2px solid #000\">Intac psytx hosp 20-30 min</td></tr><tr style=\"background-color: #fffaff\"><td style=\"border: 2px solid #000\">146</td><td style=\"border: 2px solid #000\">90</td><td style=\"border: 2px solid #000\">90824</td><td style=\"border: 2px solid #000\">Intac psytx hsp 20-30 w/e&m</td><td style=\"border: 2px solid #000\">Intac psytx hsp 20-30 w/e&m</td></tr><tr style=\"background-color: white\"><td style=\"border: 2px solid #000\">147</td><td style=\"border: 2px solid #000\">90</td><td style=\"border: 2px solid #000\">90826</td><td style=\"border: 2px solid #000\">Intac psytx hosp 45-50 min</td><td style=\"border: 2px solid #000\">Intac psytx hosp 45-50 min</td></tr><tr style=\"background-color: #fffaff\"><td style=\"border: 2px solid #000\">148</td><td style=\"border: 2px solid #000\">90</td><td style=\"border: 2px solid #000\">90827</td><td style=\"border: 2px solid #000\">Intac psytx hsp 45-50 w/e&m</td><td style=\"border: 2px solid #000\">Intac psytx hsp 45-50 w/e&m</td></tr><tr style=\"background-color: white\"><td style=\"border: 2px solid #000\">149</td><td style=\"border: 2px solid #000\">90</td><td style=\"border: 2px solid #000\">90828</td><td style=\"border: 2px solid #000\">Intac psytx hosp 75-80 min</td><td style=\"border: 2px solid #000\">Intac psytx hosp 75-80 min</td></tr><tr style=\"background-color: #fffaff\"><td style=\"border: 2px solid #000\">150</td><td style=\"border: 2px solid #000\">90</td><td style=\"border: 2px solid #000\">90829</td><td style=\"border: 2px solid #000\">Intac psytx hsp 75-80 w/e&m</td><td style=\"border: 2px solid #000\">Intac psytx hsp 75-80 w/e&m</td></tr><tr style=\"background-color: white\"><td style=\"border: 2px solid #000\">151</td><td style=\"border: 2px solid #000\">90</td><td style=\"border: 2px solid #000\">90832</td><td style=\"border: 2px solid #000\">PSYCHOTHERAPY W/PATIENT 30 MINUTES</td><td style=\"border: 2px solid #000\">Psychotherapy, 30 minutes with patient</td></tr><tr style=\"background-color: #fffaff\"><td style=\"border: 2px solid #000\">152</td><td style=\"border: 2px solid #000\">90</td><td style=\"border: 2px solid #000\">90833</td><td style=\"border: 2px solid #000\">PSYCHOTHERAPY W/PATIENT W/E&M SRVCS 30 MIN</td><td style=\"border: 2px solid #000\">Psychotherapy, 30 minutes with patient when performed with an evaluation and management service (List separately in addition to the code for primary procedure)</td></tr><tr style=\"background-color: white\"><td style=\"border: 2px solid #000\">153</td><td style=\"border: 2px solid #000\">90</td><td style=\"border: 2px solid #000\">90834</td><td style=\"border: 2px solid #000\">PSYCHOTHERAPY W/PATIENT 45 MINUTES</td><td style=\"border: 2px solid #000\">Psychotherapy, 45 minutes with patient</td></tr><tr style=\"background-color: #fffaff\"><td style=\"border: 2px solid #000\">154</td><td style=\"border: 2px solid #000\">90</td><td style=\"border: 2px solid #000\">90836</td><td style=\"border: 2px solid #000\">PSYCHOTHERAPY W/PATIENT W/E&M SRVCS 45 MIN</td><td style=\"border: 2px solid #000\">Psychotherapy, 45 minutes with patient when performed with an evaluation and management service (List separately in addition to the code for primary procedure)</td></tr><tr style=\"background-color: white\"><td style=\"border: 2px solid #000\">155</td><td style=\"border: 2px solid #000\">90</td><td style=\"border: 2px solid #000\">90837</td><td style=\"border: 2px solid #000\">PSYCHOTHERAPY W/PATIENT 60 MINUTES</td><td style=\"border: 2px solid #000\">Psychotherapy, 60 minutes with patient</td></tr><tr style=\"background-color: #fffaff\"><td style=\"border: 2px solid #000\">156</td><td style=\"border: 2px solid #000\">90</td><td style=\"border: 2px solid #000\">90838</td><td style=\"border: 2px solid #000\">PSYCHOTHERAPY W/PATIENT W/E&M SRVCS 60 MIN</td><td style=\"border: 2px solid #000\">Psychotherapy, 60 minutes with patient when performed with an evaluation and management service (List separately in addition to the code for primary procedure)</td></tr><tr style=\"background-color: white\"><td style=\"border: 2px solid #000\">157</td><td style=\"border: 2px solid #000\">90</td><td style=\"border: 2px solid #000\">90839</td><td style=\"border: 2px solid #000\">PSYCHOTHERAPY FOR CRISIS INITIAL 60 MINUTES</td><td style=\"border: 2px solid #000\">Psychotherapy for crisis; first 60 minutes</td></tr><tr style=\"background-color: #fffaff\"><td style=\"border: 2px solid #000\">158</td><td style=\"border: 2px solid #000\">90</td><td style=\"border: 2px solid #000\">90840</td><td style=\"border: 2px solid #000\">PSYCHOTHERAPY FOR CRISIS EACH ADDL 30 MINUTES</td><td style=\"border: 2px solid #000\">Psychotherapy for crisis; each additional 30 minutes (List separately in addition to code for primary service)</td></tr><tr style=\"background-color: white\"><td style=\"border: 2px solid #000\">159</td><td style=\"border: 2px solid #000\">90</td><td style=\"border: 2px solid #000\">90845</td><td style=\"border: 2px solid #000\">PSYCHOANALYSIS</td><td style=\"border: 2px solid #000\">Psychoanalysis</td></tr><tr style=\"background-color: #fffaff\"><td style=\"border: 2px solid #000\">160</td><td style=\"border: 2px solid #000\">90</td><td style=\"border: 2px solid #000\">90846</td><td style=\"border: 2px solid #000\">FAMILY PSYCHOTHERAPY W/O PATIENT PRESENT 50 MINS</td><td style=\"border: 2px solid #000\">Family psychotherapy (without the patient present), 50 minutes</td></tr><tr style=\"background-color: white\"><td style=\"border: 2px solid #000\">161</td><td style=\"border: 2px solid #000\">90</td><td style=\"border: 2px solid #000\">90847</td><td style=\"border: 2px solid #000\">FAMILY PSYCHOTHERAPY W/PATIENT PRESENT 50 MINS</td><td style=\"border: 2px solid #000\">Family psychotherapy (conjoint psychotherapy) (with patient present), 50 minutes</td></tr><tr style=\"background-color: #fffaff\"><td style=\"border: 2px solid #000\">162</td><td style=\"border: 2px solid #000\">90</td><td style=\"border: 2px solid #000\">90849</td><td style=\"border: 2px solid #000\">MULTIPLE FAMILY GROUP PSYCHOTHERAPY</td><td style=\"border: 2px solid #000\">Multiple-family group psychotherapy</td></tr><tr style=\"background-color: white\"><td style=\"border: 2px solid #000\">163</td><td style=\"border: 2px solid #000\">90</td><td style=\"border: 2px solid #000\">90853</td><td style=\"border: 2px solid #000\">GROUP PSYCHOTHERAPY</td><td style=\"border: 2px solid #000\">Group psychotherapy (other than of a multiple-family group)</td></tr><tr style=\"background-color: #fffaff\"><td style=\"border: 2px solid #000\">164</td><td style=\"border: 2px solid #000\">90</td><td style=\"border: 2px solid #000\">90857</td><td style=\"border: 2px solid #000\">Intac group psytx</td><td style=\"border: 2px solid #000\">Intac group psytx</td></tr><tr style=\"background-color: white\"><td style=\"border: 2px solid #000\">165</td><td style=\"border: 2px solid #000\">90</td><td style=\"border: 2px solid #000\">90862</td><td style=\"border: 2px solid #000\">Medication management</td><td style=\"border: 2px solid #000\">Medication management</td></tr><tr style=\"background-color: #fffaff\"><td style=\"border: 2px solid #000\">166</td><td style=\"border: 2px solid #000\">90</td><td style=\"border: 2px solid #000\">90863</td><td style=\"border: 2px solid #000\">PHARMACOLOGIC MANAGEMENT W/PSYCHOTHERAPY</td><td style=\"border: 2px solid #000\">Pharmacologic management, including prescription and review of medication, when performed with psychotherapy services (List separately in addition to the code for primary procedure)</td></tr><tr style=\"background-color: white\"><td style=\"border: 2px solid #000\">167</td><td style=\"border: 2px solid #000\">90</td><td style=\"border: 2px solid #000\">90865</td><td style=\"border: 2px solid #000\">NARCOSYNTHESIS PSYC DX&THER PURPOSES</td><td style=\"border: 2px solid #000\">Narcosynthesis for psychiatric diagnostic and therapeutic purposes (eg, sodium amobarbital (Amytal) interview)</td></tr><tr style=\"background-color: #fffaff\"><td style=\"border: 2px solid #000\">168</td><td style=\"border: 2px solid #000\">90</td><td style=\"border: 2px solid #000\">90867</td><td style=\"border: 2px solid #000\">REPET TMS TX INITIAL W/MAP/MOTR THRESHLD/DEL&M</td><td style=\"border: 2px solid #000\">Therapeutic repetitive transcranial magnetic stimulation (TMS) treatment; initial, including cortical mapping, motor threshold determination, delivery and management</td></tr><tr style=\"background-color: white\"><td style=\"border: 2px solid #000\">169</td><td style=\"border: 2px solid #000\">90</td><td style=\"border: 2px solid #000\">90868</td><td style=\"border: 2px solid #000\">THERAP REPETITIVE TMS TX SUBSEQ DELIVERY & MNG</td><td style=\"border: 2px solid #000\">Therapeutic repetitive transcranial magnetic stimulation (TMS) treatment; subsequent delivery and management, per session</td></tr><tr style=\"background-color: #fffaff\"><td style=\"border: 2px solid #000\">170</td><td style=\"border: 2px solid #000\">90</td><td style=\"border: 2px solid #000\">90869</td><td style=\"border: 2px solid #000\">REPET TMS TX SUBSEQ MOTR THRESHLD W/DELIV & MN</td><td style=\"border: 2px solid #000\">Therapeutic repetitive transcranial magnetic stimulation (TMS) treatment; subsequent motor threshold re-determination with delivery and management</td></tr><tr style=\"background-color: white\"><td style=\"border: 2px solid #000\">171</td><td style=\"border: 2px solid #000\">90</td><td style=\"border: 2px solid #000\">90870</td><td style=\"border: 2px solid #000\">ELECTROCONVULSIVE THERAPY</td><td style=\"border: 2px solid #000\">Electroconvulsive therapy (includes necessary monitoring)</td></tr><tr style=\"background-color: #fffaff\"><td style=\"border: 2px solid #000\">172</td><td style=\"border: 2px solid #000\">90</td><td style=\"border: 2px solid #000\">90875</td><td style=\"border: 2px solid #000\">INDIV PSYCHOPHYS BIOFEED TRAIN W/PSYTX 30 MIN</td><td style=\"border: 2px solid #000\">Individual psychophysiological therapy incorporating biofeedback training by any modality (face-to-face with the patient), with psychotherapy (eg, insight oriented, behavior modifying or supportive psychotherapy); 30 minutes</td></tr><tr style=\"background-color: white\"><td style=\"border: 2px solid #000\">173</td><td style=\"border: 2px solid #000\">90</td><td style=\"border: 2px solid #000\">90876</td><td style=\"border: 2px solid #000\">INDIV PSYCHOPHYS BIOFEED TRAIN W/PSYTX 45 MIN</td><td style=\"border: 2px solid #000\">Individual psychophysiological therapy incorporating biofeedback training by any modality (face-to-face with the patient), with psychotherapy (eg, insight oriented, behavior modifying or supportive psychotherapy); 45 minutes</td></tr><tr style=\"background-color: #fffaff\"><td style=\"border: 2px solid #000\">174</td><td style=\"border: 2px solid #000\">90</td><td style=\"border: 2px solid #000\">90880</td><td style=\"border: 2px solid #000\">HYPNOTHERAPY</td><td style=\"border: 2px solid #000\">Hypnotherapy</td></tr><tr style=\"background-color: white\"><td style=\"border: 2px solid #000\">175</td><td style=\"border: 2px solid #000\">90</td><td style=\"border: 2px solid #000\">90882</td><td style=\"border: 2px solid #000\">ENVIRONMENTAL IVNTJ MGMT PURPOSES PSYC PT</td><td style=\"border: 2px solid #000\">Environmental intervention for medical management purposes on a psychiatric patient's behalf with agencies, employers, or institutions</td></tr><tr style=\"background-color: #fffaff\"><td style=\"border: 2px solid #000\">176</td><td style=\"border: 2px solid #000\">90</td><td style=\"border: 2px solid #000\">90885</td><td style=\"border: 2px solid #000\">PSYCHIATRIC EVAL HOSPITAL RECORDS DX PURPOSES</td><td style=\"border: 2px solid #000\">Psychiatric evaluation of hospital records, other psychiatric reports, psychometric and/or projective tests, and other accumulated data for medical diagnostic purposes</td></tr><tr style=\"background-color: white\"><td style=\"border: 2px solid #000\">177</td><td style=\"border: 2px solid #000\">90</td><td style=\"border: 2px solid #000\">90887</td><td style=\"border: 2px solid #000\">INTERPJ/EXPLNAJ RESULTS PSYCHIATRIC EXAM FAMILY</td><td style=\"border: 2px solid #000\">Interpretation or explanation of results of psychiatric, other medical examinations and procedures, or other accumulated data to family or other responsible persons, or advising them how to assist patient</td></tr><tr style=\"background-color: #fffaff\"><td style=\"border: 2px solid #000\">178</td><td style=\"border: 2px solid #000\">90</td><td style=\"border: 2px solid #000\">90889</td><td style=\"border: 2px solid #000\">PREP REPORT PT PSYCH STATUS AGENCY/PAYER</td><td style=\"border: 2px solid #000\">Preparation of report of patient's psychiatric status, history, treatment, or progress (other than for legal or consultative purposes) for other individuals, agencies, or insurance carriers</td></tr><tr style=\"background-color: white\"><td style=\"border: 2px solid #000\">179</td><td style=\"border: 2px solid #000\">90</td><td style=\"border: 2px solid #000\">90899</td><td style=\"border: 2px solid #000\">UNLISTED PSYCHIATRIC SERVICE/PROCEDURE</td><td style=\"border: 2px solid #000\">Unlisted psychiatric service or procedure</td></tr><tr style=\"background-color: #fffaff\"><td style=\"border: 2px solid #000\">180</td><td style=\"border: 2px solid #000\">90</td><td style=\"border: 2px solid #000\">90901</td><td style=\"border: 2px solid #000\">BIOFEEDBACK TRAINING ANY MODALITY</td><td style=\"border: 2px solid #000\">Biofeedback training by any modality</td></tr><tr style=\"background-color: white\"><td style=\"border: 2px solid #000\">181</td><td style=\"border: 2px solid #000\">90</td><td style=\"border: 2px solid #000\">90911</td><td style=\"border: 2px solid #000\">BIOFDBK TRNG PERINL MUSC ANORECT/URO SPHX W/EMG</td><td style=\"border: 2px solid #000\">Biofeedback training, perineal muscles, anorectal or urethral sphincter, including EMG and/or manometry</td></tr><tr style=\"background-color: #fffaff\"><td style=\"border: 2px solid #000\">182</td><td style=\"border: 2px solid #000\">90</td><td style=\"border: 2px solid #000\">90935</td><td style=\"border: 2px solid #000\">HEMODIALYSIS PROCEDURE W/ PHYS/QHP EVALUATION</td><td style=\"border: 2px solid #000\">Hemodialysis procedure with single evaluation by a physician or other qualified health care professional</td></tr><tr style=\"background-color: white\"><td style=\"border: 2px solid #000\">183</td><td style=\"border: 2px solid #000\">90</td><td style=\"border: 2px solid #000\">90937</td><td style=\"border: 2px solid #000\">HEMODIALYSIS PX REPEAT EVAL W/WO REVJ DIALYS RX</td><td style=\"border: 2px solid #000\">Hemodialysis procedure requiring repeated evaluation(s) with or without substantial revision of dialysis prescription</td></tr><tr style=\"background-color: #fffaff\"><td style=\"border: 2px solid #000\">184</td><td style=\"border: 2px solid #000\">90</td><td style=\"border: 2px solid #000\">90940</td><td style=\"border: 2px solid #000\">HEMODIALYSIS ACCESS FLOW STUDY</td><td style=\"border: 2px solid #000\">Hemodialysis access flow study to determine blood flow in grafts and arteriovenous fistulae by an indicator method</td></tr><tr style=\"background-color: white\"><td style=\"border: 2px solid #000\">185</td><td style=\"border: 2px solid #000\">90</td><td style=\"border: 2px solid #000\">90945</td><td style=\"border: 2px solid #000\">DIALYSIS OTHER/THAN HEMODIALYSIS 1 PHYS/QHP EVAL</td><td style=\"border: 2px solid #000\">Dialysis procedure other than hemodialysis (eg, peritoneal dialysis, hemofiltration, or other continuous renal replacement therapies), with single evaluation by a physician or other qualified health care professional</td></tr><tr style=\"background-color: #fffaff\"><td style=\"border: 2px solid #000\">186</td><td style=\"border: 2px solid #000\">90</td><td style=\"border: 2px solid #000\">90947</td><td style=\"border: 2px solid #000\">DIALYSIS OTH/THN HEMODIALY REPEAT PHYS/QHP EVALS</td><td style=\"border: 2px solid #000\">Dialysis procedure other than hemodialysis (eg, peritoneal dialysis, hemofiltration, or other continuous renal replacement therapies) requiring repeated evaluations by a physician or other qualified health care professional, with or without substantial revision of dialysis prescription</td></tr><tr style=\"background-color: white\"><td style=\"border: 2px solid #000\">187</td><td style=\"border: 2px solid #000\">90</td><td style=\"border: 2px solid #000\">90951</td><td style=\"border: 2px solid #000\">ESRD RELATED SVC MONTHLY & &lt;2 YR OLD 4/&gt; VISITS</td><td style=\"border: 2px solid #000\">End-stage renal disease (ESRD) related services monthly, for patients younger than 2 years of age to include monitoring for the adequacy of nutrition, assessment of growth and development, and counseling of parents; with 4 or more face-to-face visits by a physician or other qualified health care professional per month</td></tr><tr style=\"background-color: #fffaff\"><td style=\"border: 2px solid #000\">188</td><td style=\"border: 2px solid #000\">90</td><td style=\"border: 2px solid #000\">90952</td><td style=\"border: 2px solid #000\">ESRD RELATED SVC MONTHLY &lt;2 YR OLD 2/3 VISITS</td><td style=\"border: 2px solid #000\">End-stage renal disease (ESRD) related services monthly, for patients younger than 2 years of age to include monitoring for the adequacy of nutrition, assessment of growth and development, and counseling of parents; with 2-3 face-to-face visits by a physician or other qualified health care professional per month</td></tr><tr style=\"background-color: white\"><td style=\"border: 2px solid #000\">189</td><td style=\"border: 2px solid #000\">90</td><td style=\"border: 2px solid #000\">90953</td><td style=\"border: 2px solid #000\">ESRD RELATED SVC MONTHLY &lt;2 YR OLD 1 VISIT</td><td style=\"border: 2px solid #000\">End-stage renal disease (ESRD) related services monthly, for patients younger than 2 years of age to include monitoring for the adequacy of nutrition, assessment of growth and development, and counseling of parents; with 1 face-to-face visit by a physician or other qualified health care professional per month</td></tr><tr style=\"background-color: #fffaff\"><td style=\"border: 2px solid #000\">190</td><td style=\"border: 2px solid #000\">90</td><td style=\"border: 2px solid #000\">90954</td><td style=\"border: 2px solid #000\">ESRD RELATED SVC MONTHLY 2-11 YR OLD 4/&gt; VISITS</td><td style=\"border: 2px solid #000\">End-stage renal disease (ESRD) related services monthly, for patients 2-11 years of age to include monitoring for the adequacy of nutrition, assessment of growth and development, and counseling of parents; with 4 or more face-to-face visits by a physician or other qualified health care professional per month</td></tr><tr style=\"background-color: white\"><td style=\"border: 2px solid #000\">191</td><td style=\"border: 2px solid #000\">90</td><td style=\"border: 2px solid #000\">90955</td><td style=\"border: 2px solid #000\">ESRD RELATED SVC MONTHLY 2-11 YR OLD 2/3 VISITS</td><td style=\"border: 2px solid #000\">End-stage renal disease (ESRD) related services monthly, for patients 2-11 years of age to include monitoring for the adequacy of nutrition, assessment of growth and development, and counseling of parents; with 2-3 face-to-face visits by a physician or other qualified health care professional per month</td></tr><tr style=\"background-color: #fffaff\"><td style=\"border: 2px solid #000\">192</td><td style=\"border: 2px solid #000\">90</td><td style=\"border: 2px solid #000\">90956</td><td style=\"border: 2px solid #000\">ESRD RELATED SVC MONTHLY 2-11 YR OLD 1 VISIT</td><td style=\"border: 2px solid #000\">End-stage renal disease (ESRD) related services monthly, for patients 2-11 years of age to include monitoring for the adequacy of nutrition, assessment of growth and development, and counseling of parents; with 1 face-to-face visit by a physician or other qualified health care professional per month</td></tr><tr style=\"background-color: white\"><td style=\"border: 2px solid #000\">193</td><td style=\"border: 2px solid #000\">90</td><td style=\"border: 2px solid #000\">90957</td><td style=\"border: 2px solid #000\">ESRD RELATED SVC MONTHLY 12-19 YR OLD 4/&gt; VISITS</td><td style=\"border: 2px solid #000\">End-stage renal disease (ESRD) related services monthly, for patients 12-19 years of age to include monitoring for the adequacy of nutrition, assessment of growth and development, and counseling of parents; with 4 or more face-to-face visits by a physician or other qualified health care professional per month</td></tr><tr style=\"background-color: #fffaff\"><td style=\"border: 2px solid #000\">194</td><td style=\"border: 2px solid #000\">90</td><td style=\"border: 2px solid #000\">90958</td><td style=\"border: 2px solid #000\">ESRD RELATED SVC MONTHLY 12-19 YR OLD 2/3 VISITS</td><td style=\"border: 2px solid #000\">End-stage renal disease (ESRD) related services monthly, for patients 12-19 years of age to include monitoring for the adequacy of nutrition, assessment of growth and development, and counseling of parents; with 2-3 face-to-face visits by a physician or other qualified health care professional per month</td></tr><tr style=\"background-color: white\"><td style=\"border: 2px solid #000\">195</td><td style=\"border: 2px solid #000\">90</td><td style=\"border: 2px solid #000\">90959</td><td style=\"border: 2px solid #000\">ESRD RELATED SVC MONTHLY 12-19 YR OLD 1 VISIT</td><td style=\"border: 2px solid #000\">End-stage renal disease (ESRD) related services monthly, for patients 12-19 years of age to include monitoring for the adequacy of nutrition, assessment of growth and development, and counseling of parents; with 1 face-to-face visit by a physician or other qualified health care professional per month</td></tr><tr style=\"background-color: #fffaff\"><td style=\"border: 2px solid #000\">196</td><td style=\"border: 2px solid #000\">90</td><td style=\"border: 2px solid #000\">90960</td><td style=\"border: 2px solid #000\">ESRD RELATED SVC MONTHLY 20&/&gt; YR OLD 4/&gt; VISITS</td><td style=\"border: 2px solid #000\">End-stage renal disease (ESRD) related services monthly, for patients 20 years of age and older; with 4 or more face-to-face visits by a physician or other qualified health care professional per month</td></tr><tr style=\"background-color: white\"><td style=\"border: 2px solid #000\">197</td><td style=\"border: 2px solid #000\">90</td><td style=\"border: 2px solid #000\">90961</td><td style=\"border: 2px solid #000\">ESRD RELATED SVC MONTHLY 20/&gt;YR OLD 2/3 VISITS</td><td style=\"border: 2px solid #000\">End-stage renal disease (ESRD) related services monthly, for patients 20 years of age and older; with 2-3 face-to-face visits by a physician or other qualified health care professional per month</td></tr><tr style=\"background-color: #fffaff\"><td style=\"border: 2px solid #000\">198</td><td style=\"border: 2px solid #000\">90</td><td style=\"border: 2px solid #000\">90962</td><td style=\"border: 2px solid #000\">ESRD RELATED SVC MONTHLY 20&/&gt;YR OLD 1 VISIT</td><td style=\"border: 2px solid #000\">End-stage renal disease (ESRD) related services monthly, for patients 20 years of age and older; with 1 face-to-face visit by a physician or other qualified health care professional per month</td></tr><tr style=\"background-color: white\"><td style=\"border: 2px solid #000\">199</td><td style=\"border: 2px solid #000\">90</td><td style=\"border: 2px solid #000\">90963</td><td style=\"border: 2px solid #000\">ESRD SVC HOME DIALYSIS FULL MONTH &lt;2YR OLD</td><td style=\"border: 2px solid #000\">End-stage renal disease (ESRD) related services for home dialysis per full month, for patients younger than 2 years of age to include monitoring for the adequacy of nutrition, assessment of growth and development, and counseling of parents</td></tr><tr style=\"background-color: #fffaff\"><td style=\"border: 2px solid #000\">200</td><td style=\"border: 2px solid #000\">90</td><td style=\"border: 2px solid #000\">90964</td><td style=\"border: 2px solid #000\">ESRD SVC HOME DIALYSIS FULL MONTH 2-11 YR OLD</td><td style=\"border: 2px solid #000\">End-stage renal disease (ESRD) related services for home dialysis per full month, for patients 2-11 years of age to include monitoring for the adequacy of nutrition, assessment of growth and development, and counseling of parents</td></tr><tr style=\"background-color: white\"><td style=\"border: 2px solid #000\">201</td><td style=\"border: 2px solid #000\">90</td><td style=\"border: 2px solid #000\">90965</td><td style=\"border: 2px solid #000\">ESRD SVC HOME DIALYSIS FULL MONTH 12-19 YR OLD</td><td style=\"border: 2px solid #000\">End-stage renal disease (ESRD) related services for home dialysis per full month, for patients 12-19 years of age to include monitoring for the adequacy of nutrition, assessment of growth and development, and counseling of parents</td></tr><tr style=\"background-color: #fffaff\"><td style=\"border: 2px solid #000\">202</td><td style=\"border: 2px solid #000\">90</td><td style=\"border: 2px solid #000\">90966</td><td style=\"border: 2px solid #000\">ESRD SVC HOME DIALYSIS FULL MONTH 20 YR OLD</td><td style=\"border: 2px solid #000\">End-stage renal disease (ESRD) related services for home dialysis per full month, for patients 20 years of age and older</td></tr><tr style=\"background-color: white\"><td style=\"border: 2px solid #000\">203</td><td style=\"border: 2px solid #000\">90</td><td style=\"border: 2px solid #000\">90967</td><td style=\"border: 2px solid #000\">ESRD RELATED SVC &lt;FULL MONTH &lt;2 YR OLD</td><td style=\"border: 2px solid #000\">End-stage renal disease (ESRD) related services for dialysis less than a full month of service, per day; for patients younger than 2 years of age</td></tr><tr style=\"background-color: #fffaff\"><td style=\"border: 2px solid #000\">204</td><td style=\"border: 2px solid #000\">90</td><td style=\"border: 2px solid #000\">90968</td><td style=\"border: 2px solid #000\">ESRD RELATED SVC &lt;FULL MONTH 2-11 YR OLD</td><td style=\"border: 2px solid #000\">End-stage renal disease (ESRD) related services for dialysis less than a full month of service, per day; for patients 2-11 years of age</td></tr><tr style=\"background-color: white\"><td style=\"border: 2px solid #000\">205</td><td style=\"border: 2px solid #000\">90</td><td style=\"border: 2px solid #000\">90969</td><td style=\"border: 2px solid #000\">ESRD RELATED SVC &lt;FULL MONTH 12-19 YR OLD</td><td style=\"border: 2px solid #000\">End-stage renal disease (ESRD) related services for dialysis less than a full month of service, per day; for patients 12-19 years of age</td></tr><tr style=\"background-color: #fffaff\"><td style=\"border: 2px solid #000\">206</td><td style=\"border: 2px solid #000\">90</td><td style=\"border: 2px solid #000\">90970</td><td style=\"border: 2px solid #000\">ESRD RELATED SVC &lt;FULL MONTH 20/&gt;YR OLD</td><td style=\"border: 2px solid #000\">End-stage renal disease (ESRD) related services for dialysis less than a full month of service, per day; for patients 20 years of age and older</td></tr><tr style=\"background-color: white\"><td style=\"border: 2px solid #000\">207</td><td style=\"border: 2px solid #000\">90</td><td style=\"border: 2px solid #000\">90989</td><td style=\"border: 2px solid #000\">DIALYSIS TRAINING PATIENT COMPLETED COURSE</td><td style=\"border: 2px solid #000\">Dialysis training, patient, including helper where applicable, any mode, completed course</td></tr><tr style=\"background-color: #fffaff\"><td style=\"border: 2px solid #000\">208</td><td style=\"border: 2px solid #000\">90</td><td style=\"border: 2px solid #000\">90993</td><td style=\"border: 2px solid #000\">DIALYSIS TRAINING PATIENT PER TRAINING SESSION</td><td style=\"border: 2px solid #000\">Dialysis training, patient, including helper where applicable, any mode, course not completed, per training session</td></tr><tr style=\"background-color: white\"><td style=\"border: 2px solid #000\">209</td><td style=\"border: 2px solid #000\">90</td><td style=\"border: 2px solid #000\">90997</td><td style=\"border: 2px solid #000\">HEMOPERFUSION</td><td style=\"border: 2px solid #000\">Hemoperfusion (eg, with activated charcoal or resin)</td></tr><tr style=\"background-color: #fffaff\"><td style=\"border: 2px solid #000\">210</td><td style=\"border: 2px solid #000\">90</td><td style=\"border: 2px solid #000\">90999</td><td style=\"border: 2px solid #000\">UNLISTED DIALYSIS PROCEDURE INPATIENT/OUTPATIENT</td><td style=\"border: 2px solid #000\">Unlisted dialysis procedure, inpatient or outpatient</td></tr></tbody></table>"
      ],
      "text/plain": [
       "Frame {\n",
       "  keyFunc: [Function: _getKey],\n",
       "  data: [\n",
       "    [\n",
       "      '90',\n",
       "      '9001F',\n",
       "      'AORTIC ANEURYSM<5CM MAX DIAM CENTERLINE/AXIAL CT',\n",
       "      'Aortic aneurysm less than 5.0 cm maximum diameter on centerline formatted CT or minor diameter on axial formatted CT (NMA-No Measure Associated)'\n",
       "    ],\n",
       "    [\n",
       "      '90',\n",
       "      '9002F',\n",
       "      'AORTIC ANEURYSM 5-5.4CM MAX DIAM CTRLN/AXIAL CT',\n",
       "      'Aortic aneurysm 5.0 - 5.4 cm maximum diameter on centerline formatted CT or minor diameter on axial formatted CT (NMA-No Measure Associated)'\n",
       "    ],\n",
       "    [\n",
       "      '90',\n",
       "      '9003F',\n",
       "      'AORTIC ARYSM 5.5-5.9CM MAX DIAM CTRLN/AXIAL CT',\n",
       "      'Aortic aneurysm 5.5 - 5.9 cm maximum diameter on centerline formatted CT or minor diameter on axial formatted CT (NMA-No Measure Associated)'\n",
       "    ],\n",
       "    [\n",
       "      '90',\n",
       "      '9004F',\n",
       "      'AORTIC ANEURYSM 6/> CM MAX DIAM CTRLN/AXIAL CT',\n",
       "      'Aortic aneurysm 6.0 cm or greater maximum diameter on centerline formatted CT or minor diameter on axial formatted CT (NMA-No Measure Associated)'\n",
       "    ],\n",
       "    [\n",
       "      '90',\n",
       "      '9005F',\n",
       "      'ASYMPT CAROT STEN NO ISCHEM/STRK CAROT/VRTBROBAS',\n",
       "      'Asymptomatic carotid stenosis: No history of any transient ischemic attack or stroke in any carotid or vertebrobasilar territory (NMA-No Measure Associated)'\n",
       "    ],\n",
       "    [\n",
       "      '90',\n",
       "      '9006F',\n",
       "      'SYMPT CAROT STENOS IPSIL CAROT TIA/STRK<120DAYS',\n",
       "      'Symptomatic carotid stenosis: Ipsilateral carotid territory TIA or stroke less than 120 days prior to procedure (NMA-No Measure Associated)'\n",
       "    ],\n",
       "    [\n",
       "      '90',\n",
       "      '9007F',\n",
       "      'OTHER CAROTID STENT IPSIL TIA/STRK 120 DAYS/>',\n",
       "      'Other carotid stenosis: Ipsilateral TIA or stroke 120 days or greater prior to procedure or any prior contralateral carotid territory or vertebrobasilar TIA or stroke (NMA-No Measure Associated)'\n",
       "    ],\n",
       "    [\n",
       "      '90',\n",
       "      '90281',\n",
       "      'IMMUNE GLOBULIN IG HUMAN IM USE',\n",
       "      'Immune globulin (Ig), human, for intramuscular use'\n",
       "    ],\n",
       "    [\n",
       "      '90',\n",
       "      '90283',\n",
       "      'IMMUNE GLOBULIN IGIV HUMAN IV USE',\n",
       "      'Immune globulin (IgIV), human, for intravenous use'\n",
       "    ],\n",
       "    [\n",
       "      '90',\n",
       "      '90284',\n",
       "      'IMMUNE GLOBULIN HUMAN SUBQ INFUSION 100 MG EA',\n",
       "      'Immune globulin (SCIg), human, for use in subcutaneous infusions, 100 mg, each'\n",
       "    ],\n",
       "    [\n",
       "      '90',\n",
       "      '90287',\n",
       "      'BOTULINUM ANTITOXIN EQUINE ANY ROUTE',\n",
       "      'Botulinum antitoxin, equine, any route'\n",
       "    ],\n",
       "    [\n",
       "      '90',\n",
       "      '90288',\n",
       "      'BOTULISM IMMUNE GLOBULIN HUMAN INTRAVENOUS USE',\n",
       "      'Botulism immune globulin, human, for intravenous use'\n",
       "    ],\n",
       "    [\n",
       "      '90',\n",
       "      '90291',\n",
       "      'CYTOMEGALOVIRUS IMMUNE GLOBULIN HUMAN IV',\n",
       "      'Cytomegalovirus immune globulin (CMV-IgIV), human, for intravenous use'\n",
       "    ],\n",
       "    [\n",
       "      '90',\n",
       "      '90296',\n",
       "      'DIPHTHERIA ANTITOXIN EQUINE ANY ROUTE',\n",
       "      'Diphtheria antitoxin, equine, any route'\n",
       "    ],\n",
       "    [\n",
       "      '90',\n",
       "      '90371',\n",
       "      'HEPATITIS B IMMUNE GLOBULIN HBIG HUMAN IM',\n",
       "      'Hepatitis B immune globulin (HBIg), human, for intramuscular use'\n",
       "    ],\n",
       "    [\n",
       "      '90',\n",
       "      '90375',\n",
       "      'RABIES IMMUNE GLOBULIN RIG HUMAN IM/SUBQ',\n",
       "      'Rabies immune globulin (RIg), human, for intramuscular and/or subcutaneous use'\n",
       "    ],\n",
       "    [\n",
       "      '90',\n",
       "      '90376',\n",
       "      'RABIES IG HEAT-TREATED HUMAN IM/SUBQ',\n",
       "      'Rabies immune globulin, heat-treated (RIg-HT), human, for intramuscular and/or subcutaneous use'\n",
       "    ],\n",
       "    [\n",
       "      '90',\n",
       "      '90378',\n",
       "      'RESPIRATORY SYNCYTIAL VIRUS IG IM 50 MG E',\n",
       "      'Respiratory syncytial virus, monoclonal antibody, recombinant, for intramuscular use, 50 mg, each'\n",
       "    ],\n",
       "    [\n",
       "      '90',\n",
       "      '90384',\n",
       "      'RHO(D) IMMUNE GLOBULIN HUMAN FULL-DOSE IM',\n",
       "      'Rho(D) immune globulin (RhIg), human, full-dose, for intramuscular use'\n",
       "    ],\n",
       "    [\n",
       "      '90',\n",
       "      '90385',\n",
       "      'RHO(D) IMMUNE GLOBULIN HUMAN MINI-DOSE IM',\n",
       "      'Rho(D) immune globulin (RhIg), human, mini-dose, for intramuscular use'\n",
       "    ],\n",
       "    [\n",
       "      '90',\n",
       "      '90386',\n",
       "      'RHO(D) IMMUNE GLOBULIN HUMAN IV',\n",
       "      'Rho(D) immune globulin (RhIgIV), human, for intravenous use'\n",
       "    ],\n",
       "    [\n",
       "      '90',\n",
       "      '90389',\n",
       "      'TETANUS IMMUNE GLOBULIN TIG HUMAN IM',\n",
       "      'Tetanus immune globulin (TIg), human, for intramuscular use'\n",
       "    ],\n",
       "    [\n",
       "      '90',\n",
       "      '90393',\n",
       "      'VACCINIA IMMUNE GLOBULIN HUMAN IM',\n",
       "      'Vaccinia immune globulin, human, for intramuscular use'\n",
       "    ],\n",
       "    [\n",
       "      '90',\n",
       "      '90396',\n",
       "      'VARICELLA-ZOSTER IMMUNE GLOBULIN HUMAN IM',\n",
       "      'Varicella-zoster immune globulin, human, for intramuscular use'\n",
       "    ],\n",
       "    [\n",
       "      '90',\n",
       "      '90399',\n",
       "      'UNLISTED IMMUNE GLOBULIN',\n",
       "      'Unlisted immune globulin'\n",
       "    ],\n",
       "    [\n",
       "      '90',\n",
       "      '90460',\n",
       "      'IM ADM THRU 18YR ANY RTE 1ST/ONLY COMPT VAC/TOX',\n",
       "      'Immunization administration through 18 years of age via any route of administration, with counseling by physician or other qualified health care professional; first or only component of each vaccine or toxoid administered'\n",
       "    ],\n",
       "    [\n",
       "      '90',\n",
       "      '90461',\n",
       "      'IM ADM THRU 18YR ANY RTE ADDL VAC/TOX COMPT',\n",
       "      'Immunization administration through 18 years of age via any route of administration, with counseling by physician or other qualified health care professional; each additional vaccine or toxoid component administered (List separately in addition to code for primary procedure)'\n",
       "    ],\n",
       "    [\n",
       "      '90',\n",
       "      '90471',\n",
       "      'IM ADM PRQ ID SUBQ/IM NJXS 1 VACCINE',\n",
       "      'Immunization administration (includes percutaneous, intradermal, subcutaneous, or intramuscular injections); 1 vaccine (single or combination vaccine/toxoid)'\n",
       "    ],\n",
       "    [\n",
       "      '90',\n",
       "      '90472',\n",
       "      'IM ADM PRQ ID SUBQ/IM NJXS EA VACCINE',\n",
       "      'Immunization administration (includes percutaneous, intradermal, subcutaneous, or intramuscular injections); each additional vaccine (single or combination vaccine/toxoid) (List separately in addition to code for primary procedure)'\n",
       "    ],\n",
       "    [\n",
       "      '90',\n",
       "      '90473',\n",
       "      'IM ADM INTRANSL/ORAL 1 VACCINE',\n",
       "      'Immunization administration by intranasal or oral route; 1 vaccine (single or combination vaccine/toxoid)'\n",
       "    ],\n",
       "    [\n",
       "      '90',\n",
       "      '90474',\n",
       "      'IM ADM INTRANSL/ORAL EA VACCINE',\n",
       "      'Immunization administration by intranasal or oral route; each additional vaccine (single or combination vaccine/toxoid) (List separately in addition to code for primary procedure)'\n",
       "    ],\n",
       "    [\n",
       "      '90',\n",
       "      '90476',\n",
       "      'ADENOVIRUS VACCINE TYPE 4 LIVE ORAL',\n",
       "      'Adenovirus vaccine, type 4, live, for oral use'\n",
       "    ],\n",
       "    [\n",
       "      '90',\n",
       "      '90477',\n",
       "      'ADENOVIRUS VACCINE TYPE 7 LIVE FOR ORAL',\n",
       "      'Adenovirus vaccine, type 7, live, for oral use'\n",
       "    ],\n",
       "    [\n",
       "      '90',\n",
       "      '90581',\n",
       "      'ANTHRAX VACCINE SUBCUTANEOUS/IM USE',\n",
       "      'Anthrax vaccine, for subcutaneous or intramuscular use'\n",
       "    ],\n",
       "    [\n",
       "      '90',\n",
       "      '90585',\n",
       "      'BACILLUS CALMETTE-GUERIN VACC FOR TB LIVE PERQ',\n",
       "      'Bacillus Calmette-Guerin vaccine (BCG) for tuberculosis, live, for percutaneous use'\n",
       "    ],\n",
       "    [\n",
       "      '90',\n",
       "      '90586',\n",
       "      'BACILLUS CALMETTE-GUERIN VACCINE INTRAVESICAL',\n",
       "      'Bacillus Calmette-Guerin vaccine (BCG) for bladder cancer, live, for intravesical use'\n",
       "    ],\n",
       "    [\n",
       "      '90',\n",
       "      '90620',\n",
       "      'MENB RECOMBINANT PROT W/OUT MEMBR VESIC VACC IM',\n",
       "      'Meningococcal recombinant protein and outer membrane vesicle vaccine, serogroup B (MenB), 2 dose schedule, for intramuscular use'\n",
       "    ],\n",
       "    [\n",
       "      '90',\n",
       "      '90621',\n",
       "      'MENB RECOMBINANT LIPOPROTEIN VACCINE IM',\n",
       "      'Meningococcal recombinant lipoprotein vaccine, serogroup B (MenB), 3 dose schedule, for intramuscular use'\n",
       "    ],\n",
       "    [\n",
       "      '90',\n",
       "      '90625',\n",
       "      'CHOLERA VACCINE ADULT 1 DOSE LIVE FOR ORAL USE',\n",
       "      'Cholera vaccine, live, adult dosage, 1 dose schedule, for oral use'\n",
       "    ],\n",
       "    [\n",
       "      '90',\n",
       "      '90630',\n",
       "      'INFLUENZA VACC IIV4 SPLIT VIRUS PRSRV FREE ID',\n",
       "      'Influenza virus vaccine, quadrivalent (IIV4), split virus, preservative free, for intradermal use'\n",
       "    ],\n",
       "    [\n",
       "      '90',\n",
       "      '90632',\n",
       "      'HEPA VACCINE ADULT DOSE FOR INTRAMUSCULAR USE',\n",
       "      'Hepatitis A vaccine (HepA), adult dosage, for intramuscular use'\n",
       "    ],\n",
       "    [\n",
       "      '90',\n",
       "      '90633',\n",
       "      'HEPA VACCINE 2 DOSE SCHEDULE PED/ADOLESC IM USE',\n",
       "      'Hepatitis A vaccine (HepA), pediatric/adolescent dosage-2 dose schedule, for intramuscular use'\n",
       "    ],\n",
       "    [\n",
       "      '90',\n",
       "      '90634',\n",
       "      'HEPA VACCINE 3 DOSE SCHEDULE PED/ADOLESC IM USE',\n",
       "      'Hepatitis A vaccine (HepA), pediatric/adolescent dosage-3 dose schedule, for intramuscular use'\n",
       "    ],\n",
       "    [\n",
       "      '90',\n",
       "      '90636',\n",
       "      'HEPATITIS A & B VACCINE HEPA-HEPB ADULT IM',\n",
       "      'Hepatitis A and hepatitis B vaccine (HepA-HepB), adult dosage, for intramuscular use'\n",
       "    ],\n",
       "    [\n",
       "      '90',\n",
       "      '90644',\n",
       "      'HIB-MENCY VACC 4 DOSE SCHED 6 WKS-18 MONTHS IM',\n",
       "      'Meningococcal conjugate vaccine, serogroups C & Y and Haemophilus influenzae type b vaccine (Hib-MenCY), 4 dose schedule, when administered to children 6 weeks-18 months of age, for intramuscular use'\n",
       "    ],\n",
       "    [ '90', '90645', 'Hib vaccine hboc im', 'Hib vaccine hboc im' ],\n",
       "    [ '90', '90646', 'Hib vaccine prp-d im', 'Hib vaccine prp-d im' ],\n",
       "    [\n",
       "      '90',\n",
       "      '90647',\n",
       "      'HIB PRP-OMP VACCINE 3 DOSE SCHEDULE IM USE',\n",
       "      'Haemophilus influenzae type b vaccine (Hib), PRP-OMP conjugate, 3 dose schedule, for intramuscular use'\n",
       "    ],\n",
       "    [\n",
       "      '90',\n",
       "      '90648',\n",
       "      'HIB PRP-T VACCINE 4 DOSE SCHEDULE IM USE',\n",
       "      'Haemophilus influenzae type b vaccine (Hib), PRP-T conjugate, 4 dose schedule, for intramuscular use'\n",
       "    ],\n",
       "    [\n",
       "      '90',\n",
       "      '90649',\n",
       "      '4VHPV VACCINE 3 DOSE SCHEDULE FOR IM USE',\n",
       "      'Human Papillomavirus vaccine, types 6, 11, 16, 18, quadrivalent (4vHPV), 3 dose schedule, for intramuscular use'\n",
       "    ],\n",
       "    [\n",
       "      '90',\n",
       "      '90650',\n",
       "      '2VHPV VACCINE 3 DOSE SCHEDULE FOR IM USE',\n",
       "      'Human Papillomavirus vaccine, types 16, 18, bivalent (2vHPV), 3 dose schedule, for intramuscular use'\n",
       "    ],\n",
       "    [\n",
       "      '90',\n",
       "      '90651',\n",
       "      '9VHPV  VACCINE 3 DOSE SCHEDULE FOR IM USE',\n",
       "      'Human Papillomavirus vaccine types 6, 11, 16, 18, 31, 33, 45, 52, 58, nonavalent (9vHPV), 3 dose schedule, for intramuscular use'\n",
       "    ],\n",
       "    [\n",
       "      '90',\n",
       "      '90653',\n",
       "      'IIV ADJUVANTED VACCINE FOR INTRAMUSCULAR USE',\n",
       "      'Influenza vaccine, inactivated (IIV), subunit, adjuvanted, for intramuscular use'\n",
       "    ],\n",
       "    [\n",
       "      '90',\n",
       "      '90654',\n",
       "      'INFLUENZA VACC IIV3 SPLIT VIRUS PRSRV FREE ID',\n",
       "      'Influenza virus vaccine, trivalent (IIV3), split virus, preservative-free, for intradermal use'\n",
       "    ],\n",
       "    [\n",
       "      '90',\n",
       "      '90655',\n",
       "      'IIV3 VACC PRESRV FREE 0.25 ML DOSAGE IM USE',\n",
       "      'Influenza virus vaccine, trivalent (IIV3), split virus, preservative free, 0.25 mL dosage, for intramuscular use'\n",
       "    ],\n",
       "    [\n",
       "      '90',\n",
       "      '90656',\n",
       "      'IIV3 VACC PRESERVATIVE FREE 0.5 ML DOSAGE IM USE',\n",
       "      'Influenza virus vaccine, trivalent (IIV3), split virus, preservative free, 0.5 mL dosage, for intramuscular use'\n",
       "    ],\n",
       "    [\n",
       "      '90',\n",
       "      '90657',\n",
       "      'IIV3 VACCINE SPLIT VIRUS 0.25 ML DOSAGE IM USE',\n",
       "      'Influenza virus vaccine, trivalent (IIV3), split virus, 0.25 mL dosage, for intramuscular use'\n",
       "    ],\n",
       "    [\n",
       "      '90',\n",
       "      '90658',\n",
       "      'IIV3 VACCINE SPLIT VIRUS 0.5 ML DOSAGE IM USE',\n",
       "      'Influenza virus vaccine, trivalent (IIV3), split virus, 0.5 mL dosage, for intramuscular use'\n",
       "    ],\n",
       "    [\n",
       "      '90',\n",
       "      '90660',\n",
       "      'LAIV3 VACCINE LIVE FOR INTRANASAL USE',\n",
       "      'Influenza virus vaccine, trivalent, live (LAIV3), for intranasal use'\n",
       "    ],\n",
       "    [\n",
       "      '90',\n",
       "      '90661',\n",
       "      'CCIIV3 VACCINE PRESERVATIVE FREE 0.5 ML IM USE',\n",
       "      'Influenza virus vaccine, trivalent (ccIIV3), derived from cell cultures, subunit, preservative and antibiotic free, 0.5 mL dosage, for intramuscular use'\n",
       "    ],\n",
       "    [\n",
       "      '90',\n",
       "      '90662',\n",
       "      'IIV VACCINE PRESERV FREE INCREASED AG CONTENT IM',\n",
       "      'Influenza virus vaccine (IIV), split virus, preservative free, enhanced immunogenicity via increased antigen content, for intramuscular use'\n",
       "    ],\n",
       "    [\n",
       "      '90',\n",
       "      '90664',\n",
       "      'LAIV VACCINE PANDEMIC FORMULA FOR INTRANASAL USE',\n",
       "      'Influenza virus vaccine, live (LAIV), pandemic formulation, for intranasal use'\n",
       "    ],\n",
       "    [\n",
       "      '90',\n",
       "      '90665',\n",
       "      'Lyme disease vaccine im',\n",
       "      'Lyme disease vaccine im'\n",
       "    ],\n",
       "    [\n",
       "      '90',\n",
       "      '90666',\n",
       "      'INFLUENZA VACCINE PANDEMIC SPLT PRSRV FREE IM',\n",
       "      'Influenza virus vaccine (IIV), pandemic formulation, split virus, preservative free, for intramuscular use'\n",
       "    ],\n",
       "    [\n",
       "      '90',\n",
       "      '90667',\n",
       "      'IIV VACCINE PANDEMIC ADJUVANT FOR IM USE',\n",
       "      'Influenza virus vaccine (IIV), pandemic formulation, split virus, adjuvanted, for intramuscular use'\n",
       "    ],\n",
       "    [\n",
       "      '90',\n",
       "      '90668',\n",
       "      'IIV VACCINE PANDEMIC FOR INTRAMUSCULAR USE',\n",
       "      'Influenza virus vaccine (IIV), pandemic formulation, split virus, for intramuscular use'\n",
       "    ],\n",
       "    [\n",
       "      '90',\n",
       "      '90669',\n",
       "      'Pneumococcal vacc 7 val im',\n",
       "      'Pneumococcal vacc 7 val im'\n",
       "    ],\n",
       "    [\n",
       "      '90',\n",
       "      '90670',\n",
       "      'PCV13 VACCINE FOR INTRAMUSCULAR USE',\n",
       "      'Pneumococcal conjugate vaccine, 13 valent (PCV13), for intramuscular use'\n",
       "    ],\n",
       "    [\n",
       "      '90',\n",
       "      '90672',\n",
       "      'LAIV4 VACCINE FOR INTRANASAL USE',\n",
       "      'Influenza virus vaccine, quadrivalent, live (LAIV4), for intranasal use'\n",
       "    ],\n",
       "    [\n",
       "      '90',\n",
       "      '90673',\n",
       "      'RIV3 VACCINE PRESERVATIVE FREE FOR IM USE',\n",
       "      'Influenza virus vaccine, trivalent (RIV3), derived from recombinant DNA, hemagglutinin (HA) protein only, preservative and antibiotic free, for intramuscular use'\n",
       "    ],\n",
       "    [\n",
       "      '90',\n",
       "      '90675',\n",
       "      'RABIES VACCINE INTRAMUSCULAR',\n",
       "      'Rabies vaccine, for intramuscular use'\n",
       "    ],\n",
       "    [\n",
       "      '90',\n",
       "      '90676',\n",
       "      'RABIES VACCINE INTRADERMAL',\n",
       "      'Rabies vaccine, for intradermal use'\n",
       "    ],\n",
       "    [\n",
       "      '90',\n",
       "      '90680',\n",
       "      'RV5 VACCINE 3 DOSE SCHEDULE LIVE FOR ORAL USE',\n",
       "      'Rotavirus vaccine, pentavalent (RV5), 3 dose schedule, live, for oral use'\n",
       "    ],\n",
       "    [\n",
       "      '90',\n",
       "      '90681',\n",
       "      'RV1 VACCINE 2 DOSE SCHEDULE LIVE FOR ORAL USE',\n",
       "      'Rotavirus vaccine, human, attenuated (RV1), 2 dose schedule, live, for oral use'\n",
       "    ],\n",
       "    [\n",
       "      '90',\n",
       "      '90685',\n",
       "      'IIV4 VACC PRSRV FREE 0.25 ML DOS FOR IM USE',\n",
       "      'Influenza virus vaccine, quadrivalent (IIV4), split virus, preservative free, 0.25 mL, for intramuscular use'\n",
       "    ],\n",
       "    [\n",
       "      '90',\n",
       "      '90686',\n",
       "      'IIV4 VACC PRESRV FREE 0.5 ML FOR IM USE',\n",
       "      'Influenza virus vaccine, quadrivalent (IIV4), split virus, preservative free, 0.5 mL dosage, for intramuscular use'\n",
       "    ],\n",
       "    [\n",
       "      '90',\n",
       "      '90687',\n",
       "      'IIV4 VACC SPLIT VIRUS 0.25 ML DOS FOR IM USE',\n",
       "      'Influenza virus vaccine, quadrivalent (IIV4), split virus, 0.25 mL dosage, for intramuscular use'\n",
       "    ],\n",
       "    [\n",
       "      '90',\n",
       "      '90688',\n",
       "      'IIV4 VACC SPLIT VIRUS 0.5 ML DOS FOR IM USE',\n",
       "      'Influenza virus vaccine, quadrivalent (IIV4), split virus, 0.5 mL dosage, for intramuscular use'\n",
       "    ],\n",
       "    [\n",
       "      '90',\n",
       "      '90690',\n",
       "      'TYPHOID VACCINE LIVE ORAL',\n",
       "      'Typhoid vaccine, live, oral'\n",
       "    ],\n",
       "    [\n",
       "      '90',\n",
       "      '90691',\n",
       "      'TYPHOID VACCINE VI CAPSULAR POLYSACCHARIDE IM',\n",
       "      'Typhoid vaccine, Vi capsular polysaccharide (ViCPs), for intramuscular use'\n",
       "    ],\n",
       "    [\n",
       "      '90',\n",
       "      '90692',\n",
       "      'Typhoid vaccine h-p sc/id',\n",
       "      'Typhoid vaccine h-p sc/id'\n",
       "    ],\n",
       "    [\n",
       "      '90',\n",
       "      '90693',\n",
       "      'Typhoid vaccine akd sc',\n",
       "      'Typhoid vaccine akd sc'\n",
       "    ],\n",
       "    [\n",
       "      '90',\n",
       "      '90696',\n",
       "      'DTAP-IPV VACCINE CHILD 4-6 YRS FOR IM USE',\n",
       "      'Diphtheria, tetanus toxoids, acellular pertussis vaccine and inactivated poliovirus vaccine (DTaP-IPV), when administered to children 4 through 6 years of age, for intramuscular use'\n",
       "    ],\n",
       "    [\n",
       "      '90',\n",
       "      '90697',\n",
       "      'DTAP-IPV-HIB-HEPB VACCINE INTRAMUSCULAR',\n",
       "      'Diphtheria, tetanus toxoids, acellular pertussis vaccine, inactivated poliovirus vaccine, Haemophilus influenzae type b PRP-OMP conjugate vaccine, and hepatitis B vaccine (DTaP-IPV-Hib-HepB), for intramuscular use'\n",
       "    ],\n",
       "    [\n",
       "      '90',\n",
       "      '90698',\n",
       "      'DTAP-IPV/HIB VACCINE FOR INTRAMUSCULAR USE',\n",
       "      'Diphtheria, tetanus toxoids, acellular pertussis vaccine, Haemophilus influenzae type b, and inactivated poliovirus vaccine, (DTaP-IPV/Hib), for intramuscular use'\n",
       "    ],\n",
       "    [\n",
       "      '90',\n",
       "      '90700',\n",
       "      'DIPHTH TETANUS TOX ACELL PERTUSSIS VACC<7 YR IM',\n",
       "      'Diphtheria, tetanus toxoids, and acellular pertussis vaccine (DTaP), when administered to individuals younger than 7 years, for intramuscular use'\n",
       "    ],\n",
       "    [ '90', '90701', 'Dtp vaccine im', 'Dtp vaccine im' ],\n",
       "    [\n",
       "      '90',\n",
       "      '90702',\n",
       "      'DT VACCINE YOUNGER THAN 7 YRS FOR IM USE',\n",
       "      'Diphtheria and tetanus toxoids adsorbed (DT) when administered to individuals younger than 7 years, for intramuscular use'\n",
       "    ],\n",
       "    [ '90', '90703', 'Tetanus vaccine im', 'Tetanus vaccine im' ],\n",
       "    [ '90', '90704', 'Mumps vaccine sc', 'Mumps vaccine sc' ],\n",
       "    [ '90', '90705', 'Measles vaccine sc', 'Measles vaccine sc' ],\n",
       "    [ '90', '90706', 'Rubella vaccine sc', 'Rubella vaccine sc' ],\n",
       "    [\n",
       "      '90',\n",
       "      '90707',\n",
       "      'MEASLES MUMPS RUBELLA VIRUS VACCINE LIVE SUBQ',\n",
       "      'Measles, mumps and rubella virus vaccine (MMR), live, for subcutaneous use'\n",
       "    ],\n",
       "    [\n",
       "      '90',\n",
       "      '90708',\n",
       "      'Measles-rubella vaccine sc',\n",
       "      'Measles-rubella vaccine sc'\n",
       "    ],\n",
       "    [\n",
       "      '90',\n",
       "      '90710',\n",
       "      'MEASLES MUMPS RUBELLA VARICELLA VACC LIVE SUBQ',\n",
       "      'Measles, mumps, rubella, and varicella vaccine (MMRV), live, for subcutaneous use'\n",
       "    ],\n",
       "    [\n",
       "      '90',\n",
       "      '90712',\n",
       "      'Oral poliovirus vaccine',\n",
       "      'Oral poliovirus vaccine'\n",
       "    ],\n",
       "    [\n",
       "      '90',\n",
       "      '90713',\n",
       "      'POLIOVIRUS VACCINE INACTIVATED SUBQ/IM',\n",
       "      'Poliovirus vaccine, inactivated (IPV), for subcutaneous or intramuscular use'\n",
       "    ],\n",
       "    [\n",
       "      '90',\n",
       "      '90714',\n",
       "      'TD VACCINE PRSRV FREE 7 YRS OR OLDER FOR IM USE',\n",
       "      'Tetanus and diphtheria toxoids adsorbed (Td), preservative free, when administered to individuals 7 years or older, for intramuscular use'\n",
       "    ],\n",
       "    [\n",
       "      '90',\n",
       "      '90715',\n",
       "      'TDAP VACCINE 7 YRS/> IM',\n",
       "      'Tetanus, diphtheria toxoids and acellular pertussis vaccine (Tdap), when administered to individuals 7 years or older, for intramuscular use'\n",
       "    ],\n",
       "    [\n",
       "      '90',\n",
       "      '90716',\n",
       "      'VAR VACCINE LIVE FOR SUBCUTANEOUS USE',\n",
       "      'Varicella virus vaccine (VAR), live, for subcutaneous use'\n",
       "    ],\n",
       "    ... 111 more items\n",
       "  ],\n",
       "  _columns: [ 'TYPE', 'CODE', 'SHORT', 'DESCRIPTION' ],\n",
       "  _name: '',\n",
       "  _unique: undefined,\n",
       "  _sortCols: [],\n",
       "  _row: undefined,\n",
       "  AccessClass: [Function],\n",
       "  showLen: 400,\n",
       "  _hash: -1\n",
       "}"
      ]
     },
     "execution_count": 37,
     "metadata": {},
     "output_type": "execute_result"
    }
   ],
   "source": [
    "HCPCS.filter(r => r.TYPE === '90')//.groupBy(['TYPE', gb.count('TYPE', 'COUNT')])\n"
   ]
  },
  {
   "cell_type": "code",
   "execution_count": 22,
   "metadata": {},
   "outputs": [
    {
     "data": {
      "text/html": [
       "<script>\n",
       "console.log(define.toString())\n",
       "</script>"
      ]
     },
     "execution_count": 22,
     "metadata": {},
     "output_type": "execute_result"
    }
   ],
   "source": [
    "$$.html(`<script>\n",
    "console.log(define.toString())\n",
    "</script>`)\n"
   ]
  },
  {
   "cell_type": "code",
   "execution_count": 23,
   "metadata": {},
   "outputs": [
    {
     "data": {
      "text/plain": [
       "undefined"
      ]
     },
     "execution_count": 23,
     "metadata": {},
     "output_type": "execute_result"
    }
   ],
   "source": [
    "var CFrame = class {\n",
    "    constructor(data, columns, isColumn=true) {\n",
    "        this.columns = columns;\n",
    "        let len = isColumn? data[0].length : data.length;\n",
    "        this.length = len;\n",
    "        if(!column) {\n",
    "           let rLn = this.columns.length;\n",
    "           let aData = arrayOf(() => new Array(len), rLn);\n",
    "           this.data = aData;\n",
    "           for(let i=0; i<len; i++) {\n",
    "               let row = data[i];\n",
    "               let j = 0;\n",
    "               for(; j< rLn-7; j+= 8) {\n",
    "                   aData[j][i] = row[j];\n",
    "                   aData[j+1][i] = row[j+1];\n",
    "                   aData[j+2][i] = row[j+2];\n",
    "                   aData[j+3][i] = row[j+3];\n",
    "                   aData[j+4][i] = row[j+4];\n",
    "                   aData[j+5][i] = row[j+5];\n",
    "                   aData[j+6][i] = row[j+6];\n",
    "                   aData[j+7][i] = row[j+7];\n",
    "               }\n",
    "               for(; j< rLn-3; j+= 4) {\n",
    "                   aData[j][i] = row[j];\n",
    "                   aData[j+1][i] = row[j+1];\n",
    "                   aData[j+2][i] = row[j+2];\n",
    "                   aData[j+3][i] = row[j+3];\n",
    "               }\n",
    "               for(; j< rLn; j++) {\n",
    "                   aData[j][i] = row[j]\n",
    "               }\n",
    "           }\n",
    "       }\n",
    "    }\n",
    "\n",
    "    /**\n",
    "     * old Column array\n",
    "    _colMapper(mapArray, baseData) {\n",
    "        \n",
    "    }*/\n",
    "}"
   ]
  },
  {
   "cell_type": "markdown",
   "metadata": {},
   "source": [
    "#Adam optimizer"
   ]
  },
  {
   "cell_type": "code",
   "execution_count": 24,
   "metadata": {},
   "outputs": [
    {
     "data": {
      "text/plain": [
       "undefined"
      ]
     },
     "execution_count": 24,
     "metadata": {},
     "output_type": "execute_result"
    }
   ],
   "source": [
    "/*\n",
    "  Adam optimizer javascript implementation based on the original article: https://arxiv.org/pdf/1412.6980.pdf\n",
    "  Code written by Damir Vodenicarevic (https://damip.net) in march 2017.\n",
    "  Updated by Nurul Choudhury\n",
    "  This work is licensed under a Creative Commons Attribution 4.0 International License.\n",
    "  http://creativecommons.org/licenses/by/4.0/\n",
    "*/\n",
    "\n",
    "function adam_optimizer(nparams, beta_1=0.9, beta_2=0.999, epsilon=1e-8) {\n",
    "    var self= this;\n",
    "\n",
    "    self.nparams= nparams;\n",
    "    self.beta_1= beta_1;\n",
    "    self.beta_2= beta_2;\n",
    "    self.epsilon= epsilon;\n",
    "    \n",
    "    self.m= []; \n",
    "    self.v= [];\n",
    "    for(var i= 0 ; i < self.nparams ; ++i) {\n",
    "        self.m[i]= 0; // Initialize 1st moment vector\n",
    "        self.v[i]= 0; // Initialize 2nd moment vector\n",
    "    }\n",
    "    self.t= 0; //Initialize timestep\n",
    "    self.b1t = beta_1;\n",
    "    self.b2t = beta_2;\n",
    "    self.get_update= function(alpha, g) { // alpha is the learning rate, g is the gradient\n",
    "        self.t += 1;\n",
    "        let updates= new Array(self.nparams);\n",
    "        let m = self.m;\n",
    "        let v = self.v;\n",
    "        let beta_1 = self.beta_1;\n",
    "        let beta_2 = self.beta_2, b1t = self.b1t, b2t= self.b2t;\n",
    "        let epsilon = self.epsilon;\n",
    "        for(var i= 0 ; i < self.nparams ; ++i) {\n",
    "            m[i]= beta_1*m[i] + (1-beta_1)*g[i]; // Update biased first moment estimate\n",
    "            v[i]= beta_2*v[i] + (1-beta_2)*g[i]*g[i]; // Update biased second raw moment estimate\n",
    "            var mub= m[i]/(1 - b1t); // Compute bias-corrected first moment estimate\n",
    "            var vub= self.v[i]/(1 - b2t); // Compute bias-corrected second raw moment estimate\n",
    "            updates[i]= - alpha * mub / ( Math.sqrt(vub) + epsilon  ); // Return parameter updates\n",
    "           // console.log({b1t:self.b1t,b2t:self.b2t});\n",
    "        }\n",
    "        self.b1t *= beta_1*beta_1;\n",
    "        self.b2t *= beta_2*beta_2;\n",
    "        return updates;\n",
    "    };\n",
    "};\n",
    "\n",
    "var Adam = class {\n",
    "    constructor(nparams, beta_1=0.9, beta_2=0.999, epsilon=1e-8) {\n",
    "        this.nparams= nparams;\n",
    "        this.beta_1= beta_1;\n",
    "        this.beta_2= beta_2;\n",
    "        this.epsilon= epsilon;\n",
    "\n",
    "        this.m= []; \n",
    "        this.v= [];\n",
    "        for(var i= 0 ; i < this.nparams ; ++i) {\n",
    "            this.m[i]= 0; // Initialize 1st moment vector\n",
    "            this.v[i]= 0; // Initialize 2nd moment vector\n",
    "        }\n",
    "        this.t= 0; //Initialize timestep\n",
    "        this.b1t = beta_1;\n",
    "        this.b2t = beta_2;\n",
    "    }\n",
    "    get_update(alpha, g) { // alpha is the learning rate, g is the gradient\n",
    "        this.t += 1;\n",
    "        let updates= new Array(this.nparams);\n",
    "        const {m,v,b,beta_1,beta_2, b1t, b2t, epsilon, nparams} = this;\n",
    "         \n",
    "        for(var i= 0 ; i < nparams ; ++i) {\n",
    "            m[i]= beta_1*m[i] + (1-beta_1)*g[i]; // Update biased first moment estimate\n",
    "            v[i]= beta_2*v[i] + (1-beta_2)*g[i]*g[i]; // Update biased second raw moment estimate\n",
    "            var mub= m[i]/(1 - b1t); // Compute bias-corrected first moment estimate\n",
    "            var vub= v[i]/(1 - b2t); // Compute bias-corrected second raw moment estimate\n",
    "            updates[i]= - alpha * mub / ( Math.sqrt(vub) + epsilon  ); // Return parameter updates\n",
    "        }\n",
    "        this.b1t *= beta_1*beta_1;\n",
    "        this.b2t *= beta_2*beta_2;\n",
    "        return updates;\n",
    "    };\n",
    "}"
   ]
  },
  {
   "cell_type": "code",
   "execution_count": 25,
   "metadata": {},
   "outputs": [
    {
     "data": {
      "text/plain": [
       "[Function: Adam]"
      ]
     },
     "execution_count": 25,
     "metadata": {},
     "output_type": "execute_result"
    }
   ],
   "source": [
    "Adam"
   ]
  },
  {
   "cell_type": "code",
   "execution_count": 26,
   "metadata": {},
   "outputs": [
    {
     "data": {
      "text/plain": [
       "undefined"
      ]
     },
     "execution_count": 26,
     "metadata": {},
     "output_type": "execute_result"
    }
   ],
   "source": [
    "var m = 0, v = 0, beta_1 = 0.9, beta_2 = 0.999;\n",
    "var b1t = beta_1, b2t = beta_2;\n",
    "function gx([x,y]) {\n",
    "    return [2*x-100*2*x*(y-x*x), 100*2*(y-x*x)]\n",
    "}\n",
    "\n",
    "var fx = ([x,y]) => x*x+100*(y-x*x)*(y-x*x);"
   ]
  },
  {
   "cell_type": "code",
   "execution_count": 27,
   "metadata": {},
   "outputs": [
    {
     "data": {
      "text/plain": [
       "undefined"
      ]
     },
     "execution_count": 27,
     "metadata": {},
     "output_type": "execute_result"
    }
   ],
   "source": [
    "function steepest_descent_optimizer(nparams) {\n",
    "    var self= this;\n",
    "\n",
    "    self.nparams= nparams;\n",
    "    \n",
    "    self.get_update= function(alpha, g) { // alpha is the learning rate, g is the gradient\n",
    "        var updates= [];\n",
    "        for(var i= 0 ; i < self.nparams ; ++i) {\n",
    "            updates[i]= - alpha * g[i]; // Return parameter updates\n",
    "        }\n",
    "        //console.log('updates:',updates);\n",
    "        return updates;\n",
    "    };\n",
    "};\n",
    "\n",
    "function adam_optimizerOld(nparams, beta_1=0.9, beta_2=0.999, epsilon=1e-8) {\n",
    "    var self= this;\n",
    "\n",
    "    self.nparams= nparams;\n",
    "    self.beta_1= beta_1;\n",
    "    self.beta_2= beta_2;\n",
    "    self.epsilon= epsilon;\n",
    "    \n",
    "    self.m= []; \n",
    "    self.v= [];\n",
    "    for(var i= 0 ; i < self.nparams ; ++i) {\n",
    "        self.m[i]= 0; // Initialize 1st moment vector\n",
    "        self.v[i]= 0; // Initialize 2nd moment vector\n",
    "    }\n",
    "    self.t= 0; //Initialize timestep\n",
    "    \n",
    "    self.get_update= function(alpha, g) { // alpha is the learning rate, g is the gradient\n",
    "        self.t += 1;\n",
    "        var t = self.t;\n",
    "        var updates= [];\n",
    "        for(var i= 0 ; i < self.nparams ; ++i) {\n",
    "            self.m[i]= self.beta_1*self.m[i] + (1-self.beta_1)*g[i]; // Update biased first moment estimate\n",
    "            self.v[i]= self.beta_2*self.v[i] + (1-self.beta_2)*g[i]*g[i]; // Update biased second raw moment estimate\n",
    "            var mub= self.m[i]/(1 - Math.pow(self.beta_1,2*t-1)); // Compute bias-corrected first moment estimate\n",
    "            var vub= self.v[i]/(1 - Math.pow(self.beta_2,2*t-1)); // Compute bias-corrected second raw moment estimate\n",
    "            updates[i]= - alpha * mub / ( Math.sqrt(vub) + self.epsilon  ); // Return parameter updates\n",
    "           //console.log({b1t:Math.pow(self.beta_1,2*t-1),b2t:Math.pow(self.beta_2,2*t-1)})\n",
    "        }\n",
    "        return updates;\n",
    "    };\n",
    "};"
   ]
  },
  {
   "cell_type": "code",
   "execution_count": 28,
   "metadata": {},
   "outputs": [
    {
     "data": {
      "text/plain": [
       "[Function: gx]"
      ]
     },
     "execution_count": 28,
     "metadata": {},
     "output_type": "execute_result"
    }
   ],
   "source": [
    "var g = 0.015;\n",
    "var epsilon=1e-8;\n",
    "var alpha = 0.05;\n",
    "var theta = 5;\n",
    "\n",
    "gx"
   ]
  },
  {
   "cell_type": "code",
   "execution_count": 29,
   "metadata": {
    "scrolled": true
   },
   "outputs": [
    {
     "ename": "TypeError",
     "evalue": "undefined is not a function",
     "output_type": "error",
     "traceback": [
      "evalmachine.<anonymous>:3",
      "function gx([x,y]) {",
      "           ^",
      "",
      "TypeError: undefined is not a function",
      "    at gx (evalmachine.<anonymous>:3:12)",
      "    at evalmachine.<anonymous>:2:9",
      "    at Script.runInThisContext (vm.js:116:20)",
      "    at Object.runInThisContext (vm.js:306:38)",
      "    at run ([eval]:1054:15)",
      "    at onRunRequest ([eval]:888:18)",
      "    at onMessage ([eval]:848:13)",
      "    at process.emit (events.js:210:5)",
      "    at emit (internal/child_process.js:876:12)",
      "    at processTicksAndRejections (internal/process/task_queues.js:81:21)"
     ]
    }
   ],
   "source": [
    "for(var i=0; i<100; i++){\n",
    "    g = gx(theta);\n",
    "    m = beta_1*m + (1-beta_1)*g;\n",
    "    v = beta_2*v + (1-beta_2)*g*g;\n",
    "    var mub =m/(1-b1t);\n",
    "    var vub =v/(1-b2t);\n",
    "    b1t = beta_1*b1t;\n",
    "    b2t = beta_2*b2t;\n",
    "    var update = - alpha * mub / ( Math.sqrt(vub) + epsilon  );\n",
    "    theta += update;\n",
    "    \n",
    "}\n",
    "console.log({update, theta,mub, vub: Math.sqrt(vub),m, b1t, b2t, g, g2: g*g})"
   ]
  },
  {
   "cell_type": "code",
   "execution_count": 30,
   "metadata": {},
   "outputs": [
    {
     "name": "stdout",
     "output_type": "stream",
     "text": [
      "Current function value: NaN [ NaN, NaN ]\n"
     ]
    },
    {
     "data": {
      "text/plain": [
       "undefined"
      ]
     },
     "execution_count": 30,
     "metadata": {},
     "output_type": "execute_result"
    }
   ],
   "source": [
    "var theta= [1,1]; // Initialize parameters\n",
    "\n",
    "var sphere_function= function(theta) {\n",
    "    var res= 0;\n",
    "    for(var i= 0 ; i < theta.length ; ++i) {\n",
    "        res += theta[i]*theta[i];\n",
    "    }\n",
    "    return res;\n",
    "}\n",
    "\n",
    "var sphere_function_gradient= function(theta) {\n",
    "    var res= [0,0];\n",
    "    for(var i= 0 ; i < theta.length ; ++i) {\n",
    "        res[i]= 2*theta[i];\n",
    "    }\n",
    "    return res;\n",
    "}\n",
    "\n",
    "/*\n",
    "  Binary Descent optimizer javascript implementation\n",
    "  Code written by Damir Vodenicarevic (https://damip.net) in march 2017.\n",
    "  This work is licensed under a Creative Commons Attribution 4.0 International License.\n",
    "  http://creativecommons.org/licenses/by/4.0/\n",
    "*/\n",
    "\n",
    "function binary_descent_optimizer(nparams) {\n",
    "    var self= this;\n",
    "\n",
    "    self.nparams= nparams;\n",
    "    \n",
    "    self.get_update= function(alpha, g) { // alpha is the learning rate, g is the gradient\n",
    "        var updates= [];\n",
    "        for(var i= 0 ; i < self.nparams ; ++i) {\n",
    "            updates[i]= alpha * (g[i] >= 0 ? -1 : +1); // Return parameter updates\n",
    "        }\n",
    "        return updates;\n",
    "    };\n",
    "};\n",
    "\n",
    "//var optimizer= new binary_descent_optimizer(theta.length); // Choose optimizer here\n",
    "var optimizer= new steepest_descent_optimizer(theta.length); // Choose optimizer here\n",
    "\n",
    "var alpha= 0.05; // Learning rate\n",
    "var nsteps= 200; // Number of optimization steps\n",
    "for(var step= 0; step < nsteps ; ++step) {\n",
    "    //var update= optimizer.get_update(alpha, sphere_function_gradient(theta)); // get the update from the optimizer \n",
    "    var update= optimizer.get_update(alpha, gx(theta)); // get the update from the optimizer \n",
    "  for(var i= 0 ; i < theta.length ; ++i) {\n",
    "    theta[i] += update[i]; //apply the update\n",
    "  }\n",
    "  //var value= sphere_function(theta);\n",
    "  var value= fx(theta);\n",
    "  \n",
    "  \n",
    "}\n",
    "console.log('Current function value: ' + value, theta);"
   ]
  },
  {
   "cell_type": "code",
   "execution_count": 31,
   "metadata": {
    "scrolled": true
   },
   "outputs": [
    {
     "name": "stdout",
     "output_type": "stream",
     "text": [
      "Current function value: 5.456541394694749e-21 [ 7.375709024055312e-11, 4.0537679241308135e-13 ] [ 1.4751418047512636e-10, 8.10753573945946e-11 ] [ -8.426564308357165e-12, 7.243737795405949e-13 ]\n"
     ]
    },
    {
     "data": {
      "text/plain": [
       "[ 7.375709024055312e-11, 4.0537679241308135e-13 ]"
      ]
     },
     "execution_count": 31,
     "metadata": {},
     "output_type": "execute_result"
    }
   ],
   "source": [
    "function fit(genOptimizer,grad=gx,func=fx,_steps=190,alpha=0.05,beta_1=0.9, beta_2=0.999) {\n",
    "    var theta= [1,1]; // Initialize parameters\n",
    "    var optimizer= new genOptimizer(theta.length,beta_1,beta_2); // Choose optimizer here\n",
    "\n",
    "    //alpha=  Learning rate\n",
    "    var nsteps= _steps; // Number of optimization steps\n",
    "    for(var step= 0; step < nsteps ; ++step) {\n",
    "      var update= optimizer.get_update(alpha, grad(theta)); // get the update from the optimizer \n",
    "      for(var i= 0 ; i < theta.length ; ++i) {\n",
    "        theta[i] += update[i]; //apply the update\n",
    "      }\n",
    "      var value= func(theta);\n",
    "\n",
    "      //console.log('Current function value: ' + value, theta, gx(theta), update);\n",
    "    }\n",
    "    console.log('Current function value: ' + value, theta, grad(theta), update);\n",
    "    return theta;\n",
    "}\n",
    "\n",
    "//fit(adam_optimizerOld,sphere_function_gradient,sphere_function,100);\n",
    "fit(adam_optimizerOld,gx,fx,500,0.1);\n",
    "\n",
    "//sphere_function(0.12461140440061709, 0.15483380486489354)"
   ]
  },
  {
   "cell_type": "code",
   "execution_count": 32,
   "metadata": {
    "scrolled": true
   },
   "outputs": [
    {
     "name": "stdout",
     "output_type": "stream",
     "text": [
      "Current function value: 5.48653047044568e-22 [ -8.532653491994786e-12, 2.181391462947173e-12 ] [ -1.706530698026696e-11, 4.362782925748734e-10 ] [ 6.345388359997066e-13, 8.466933544670249e-13 ]\n",
      "Call to func took 3 milliseconds.\n",
      "Current function value: 2.0376338811616955e-31 [ -3.191891195797325e-16, -3.191891195797325e-16 ] [ -6.38378239159465e-16, -6.38378239159465e-16 ] [ -0.05, -0.05 ]\n",
      "Call to func took 2 milliseconds.\n"
     ]
    },
    {
     "data": {
      "text/plain": [
       "[ -3.191891195797325e-16, -3.191891195797325e-16 ]"
      ]
     },
     "execution_count": 32,
     "metadata": {},
     "output_type": "execute_result"
    }
   ],
   "source": [
    " //fit(adam_optimizer,sphere_function_gradient,sphere_function,100);\n",
    "timeOf(() =>fit(Adam,gx,fx,500,0.3));\n",
    "timeOf(() =>fit(binary_descent_optimizer,sphere_function_gradient,sphere_function,300));\n",
    "\n",
    "//fit(steepest_descent_optimizer,sphere_function_gradient,sphere_function,100);\n",
    "//fit(binary_descent_optimizer,130);"
   ]
  },
  {
   "cell_type": "code",
   "execution_count": 33,
   "metadata": {},
   "outputs": [
    {
     "name": "stdout",
     "output_type": "stream",
     "text": [
      "0 true true  ... \n",
      "1 true false -1 ... 0\n",
      "2 true false 0,-1 ... 0,1\n",
      "3 true false 0,1,-1 ... 0,1,2\n",
      "4 true false 0,1,2,-1 ... 0,1,2,3\n",
      "5 true false 0,1,2,3,-1 ... 0,1,2,3,4\n",
      "6 true false 0,1,2,3,4,-1 ... 0,1,2,3,4,5\n",
      "7 true false 0,1,2,3,4,5,-1 ... 0,1,2,3,4,5,6\n",
      "8 true false 0,1,2,3,4,5,6,-1 ... 0,1,2,3,4,5,6,7\n",
      "9 true false 0,1,2,3,4,5,6,7,-1 ... 0,1,2,3,4,5,6,7,8\n",
      "10 true true 0,1,2,3,4,5,6,7,8,0 ... 0,1,2,3,4,5,6,7,8,0\n",
      "11 true true 0,1,2,3,4,5,6,7,8,0,1 ... 0,1,2,3,4,5,6,7,8,0,1\n",
      "12 true true 0,1,2,3,4,5,6,7,8,0,1,2 ... 0,1,2,3,4,5,6,7,8,0,1,2\n",
      "13 true true 0,1,2,3,4,5,6,7,8,0,1,2,3 ... 0,1,2,3,4,5,6,7,8,0,1,2,3\n",
      "14 true true 0,1,2,3,4,5,6,7,8,0,1,2,3,4 ... 0,1,2,3,4,5,6,7,8,0,1,2,3,4\n",
      "15 true true 0,1,2,3,4,5,6,7,8,0,1,2,3,4,5 ... 0,1,2,3,4,5,6,7,8,0,1,2,3,4,5\n",
      "16 true true 0,1,2,3,4,5,6,7,8,0,1,2,3,4,5,6 ... 0,1,2,3,4,5,6,7,8,0,1,2,3,4,5,6\n",
      "17 true true 0,1,2,3,4,5,6,7,8,0,1,2,3,4,5,6,7 ... 0,1,2,3,4,5,6,7,8,0,1,2,3,4,5,6,7\n",
      "18 true true 0,1,2,3,4,5,6,7,8,0,1,2,3,4,5,6,7,8 ... 0,1,2,3,4,5,6,7,8,0,1,2,3,4,5,6,7,8\n",
      "19 true true 0,1,2,3,4,5,6,7,8,0,1,2,3,4,5,6,7,8,0 ... 0,1,2,3,4,5,6,7,8,0,1,2,3,4,5,6,7,8,0\n",
      "20 true true 0,1,2,3,4,5,6,7,8,0,1,2,3,4,5,6,7,8,0,1 ... 0,1,2,3,4,5,6,7,8,0,1,2,3,4,5,6,7,8,0,1\n",
      "21 true true 0,1,2,3,4,5,6,7,8,0,1,2,3,4,5,6,7,8,0,1,2 ... 0,1,2,3,4,5,6,7,8,0,1,2,3,4,5,6,7,8,0,1,2\n",
      "22 true true 0,1,2,3,4,5,6,7,8,0,1,2,3,4,5,6,7,8,0,1,2,3 ... 0,1,2,3,4,5,6,7,8,0,1,2,3,4,5,6,7,8,0,1,2,3\n",
      "23 true true 0,1,2,3,4,5,6,7,8,0,1,2,3,4,5,6,7,8,0,1,2,3,4 ... 0,1,2,3,4,5,6,7,8,0,1,2,3,4,5,6,7,8,0,1,2,3,4\n",
      "24 true true 0,1,2,3,4,5,6,7,8,0,1,2,3,4,5,6,7,8,0,1,2,3,4,5 ... 0,1,2,3,4,5,6,7,8,0,1,2,3,4,5,6,7,8,0,1,2,3,4,5\n",
      "25 true true 0,1,2,3,4,5,6,7,8,0,1,2,3,4,5,6,7,8,0,1,2,3,4,5,6 ... 0,1,2,3,4,5,6,7,8,0,1,2,3,4,5,6,7,8,0,1,2,3,4,5,6\n",
      "26 true true 0,1,2,3,4,5,6,7,8,0,1,2,3,4,5,6,7,8,0,1,2,3,4,5,6,7 ... 0,1,2,3,4,5,6,7,8,0,1,2,3,4,5,6,7,8,0,1,2,3,4,5,6,7\n",
      "27 true true 0,1,2,3,4,5,6,7,8,0,1,2,3,4,5,6,7,8,0,1,2,3,4,5,6,7,8 ... 0,1,2,3,4,5,6,7,8,0,1,2,3,4,5,6,7,8,0,1,2,3,4,5,6,7,8\n",
      "28 true true 0,1,2,3,4,5,6,7,8,0,1,2,3,4,5,6,7,8,0,1,2,3,4,5,6,7,8,9 ... 0,1,2,3,4,5,6,7,8,0,1,2,3,4,5,6,7,8,0,1,2,3,4,5,6,7,8,9\n",
      "29 true true 0,1,2,3,4,5,6,7,8,0,1,2,3,4,5,6,7,8,0,1,2,3,4,5,6,7,8,9,10 ... 0,1,2,3,4,5,6,7,8,0,1,2,3,4,5,6,7,8,0,1,2,3,4,5,6,7,8,9,10\n",
      "30 true true 0,1,2,3,4,5,6,7,8,0,1,2,3,4,5,6,7,8,0,1,2,3,4,5,6,7,8,9,10,11 ... 0,1,2,3,4,5,6,7,8,0,1,2,3,4,5,6,7,8,0,1,2,3,4,5,6,7,8,9,10,11\n",
      "31 true true 0,1,2,3,4,5,6,7,8,0,1,2,3,4,5,6,7,8,0,1,2,3,4,5,6,7,8,9,10,11,12 ... 0,1,2,3,4,5,6,7,8,0,1,2,3,4,5,6,7,8,0,1,2,3,4,5,6,7,8,9,10,11,12\n",
      "32 true true 0,1,2,3,4,5,6,7,8,0,1,2,3,4,5,6,7,8,0,1,2,3,4,5,6,7,8,9,10,11,12,13 ... 0,1,2,3,4,5,6,7,8,0,1,2,3,4,5,6,7,8,0,1,2,3,4,5,6,7,8,9,10,11,12,13\n",
      "33 true true 0,1,2,3,4,5,6,7,8,0,1,2,3,4,5,6,7,8,0,1,2,3,4,5,6,7,8,9,10,11,12,13,14 ... 0,1,2,3,4,5,6,7,8,0,1,2,3,4,5,6,7,8,0,1,2,3,4,5,6,7,8,9,10,11,12,13,14\n",
      "34 true true 0,1,2,3,4,5,6,7,8,0,1,2,3,4,5,6,7,8,0,1,2,3,4,5,6,7,8,9,10,11,12,13,14,15 ... 0,1,2,3,4,5,6,7,8,0,1,2,3,4,5,6,7,8,0,1,2,3,4,5,6,7,8,9,10,11,12,13,14,15\n",
      "35 true true 0,1,2,3,4,5,6,7,8,0,1,2,3,4,5,6,7,8,0,1,2,3,4,5,6,7,8,9,10,11,12,13,14,15,16 ... 0,1,2,3,4,5,6,7,8,0,1,2,3,4,5,6,7,8,0,1,2,3,4,5,6,7,8,9,10,11,12,13,14,15,16\n",
      "36 true true 0,1,2,3,4,5,6,7,8,0,1,2,3,4,5,6,7,8,0,1,2,3,4,5,6,7,8,9,10,11,12,13,14,15,16,17 ... 0,1,2,3,4,5,6,7,8,0,1,2,3,4,5,6,7,8,0,1,2,3,4,5,6,7,8,9,10,11,12,13,14,15,16,17\n",
      "37 true true 0,1,2,3,4,5,6,7,8,0,1,2,3,4,5,6,7,8,0,1,2,3,4,5,6,7,8,9,10,11,12,13,14,15,16,17,18 ... 0,1,2,3,4,5,6,7,8,0,1,2,3,4,5,6,7,8,0,1,2,3,4,5,6,7,8,9,10,11,12,13,14,15,16,17,18\n",
      "38 true true 0,1,2,3,4,5,6,7,8,0,1,2,3,4,5,6,7,8,0,1,2,3,4,5,6,7,8,9,10,11,12,13,14,15,16,17,18,19 ... 0,1,2,3,4,5,6,7,8,0,1,2,3,4,5,6,7,8,0,1,2,3,4,5,6,7,8,9,10,11,12,13,14,15,16,17,18,19\n",
      "39 true true 0,1,2,3,4,5,6,7,8,0,1,2,3,4,5,6,7,8,0,1,2,3,4,5,6,7,8,9,10,11,12,13,14,15,16,17,18,19 ... 0,1,2,3,4,5,6,7,8,0,1,2,3,4,5,6,7,8,0,1,2,3,4,5,6,7,8,9,10,11,12,13,14,15,16,17,18,19\n",
      "40 true true 0,1,2,3,4,5,6,7,8,0,1,2,3,4,5,6,7,8,0,1,2,3,4,5,6,7,8,9,10,11,12,13,14,15,16,17,18,19 ... 0,1,2,3,4,5,6,7,8,0,1,2,3,4,5,6,7,8,0,1,2,3,4,5,6,7,8,9,10,11,12,13,14,15,16,17,18,19\n",
      "41 true true 0,1,2,3,4,5,6,7,8,0,1,2,3,4,5,6,7,8,0,1,2,3,4,5,6,7,8,9,10,11,12,13,14,15,16,17,18,19 ... 0,1,2,3,4,5,6,7,8,0,1,2,3,4,5,6,7,8,0,1,2,3,4,5,6,7,8,9,10,11,12,13,14,15,16,17,18,19\n",
      "42 true true 0,1,2,3,4,5,6,7,8,0,1,2,3,4,5,6,7,8,0,1,2,3,4,5,6,7,8,9,10,11,12,13,14,15,16,17,18,19 ... 0,1,2,3,4,5,6,7,8,0,1,2,3,4,5,6,7,8,0,1,2,3,4,5,6,7,8,9,10,11,12,13,14,15,16,17,18,19\n",
      "43 true true 0,1,2,3,4,5,6,7,8,0,1,2,3,4,5,6,7,8,0,1,2,3,4,5,6,7,8,9,10,11,12,13,14,15,16,17,18,19 ... 0,1,2,3,4,5,6,7,8,0,1,2,3,4,5,6,7,8,0,1,2,3,4,5,6,7,8,9,10,11,12,13,14,15,16,17,18,19\n",
      "44 true true 0,1,2,3,4,5,6,7,8,0,1,2,3,4,5,6,7,8,0,1,2,3,4,5,6,7,8,9,10,11,12,13,14,15,16,17,18,19 ... 0,1,2,3,4,5,6,7,8,0,1,2,3,4,5,6,7,8,0,1,2,3,4,5,6,7,8,9,10,11,12,13,14,15,16,17,18,19\n",
      "45 true true 0,1,2,3,4,5,6,7,8,0,1,2,3,4,5,6,7,8,0,1,2,3,4,5,6,7,8,9,10,11,12,13,14,15,16,17,18,19 ... 0,1,2,3,4,5,6,7,8,0,1,2,3,4,5,6,7,8,0,1,2,3,4,5,6,7,8,9,10,11,12,13,14,15,16,17,18,19\n",
      "46 true true 0,1,2,3,4,5,6,7,8,0,1,2,3,4,5,6,7,8,0,1,2,3,4,5,6,7,8,9,10,11,12,13,14,15,16,17,18,19 ... 0,1,2,3,4,5,6,7,8,0,1,2,3,4,5,6,7,8,0,1,2,3,4,5,6,7,8,9,10,11,12,13,14,15,16,17,18,19\n",
      "47 true true 0,1,2,3,4,5,6,7,8,0,1,2,3,4,5,6,7,8,0,1,2,3,4,5,6,7,8,9,10,11,12,13,14,15,16,17,18,19 ... 0,1,2,3,4,5,6,7,8,0,1,2,3,4,5,6,7,8,0,1,2,3,4,5,6,7,8,9,10,11,12,13,14,15,16,17,18,19\n",
      "48 true true 0,1,2,3,4,5,6,7,8,0,1,2,3,4,5,6,7,8,0,1,2,3,4,5,6,7,8,9,10,11,12,13,14,15,16,17,18,19 ... 0,1,2,3,4,5,6,7,8,0,1,2,3,4,5,6,7,8,0,1,2,3,4,5,6,7,8,9,10,11,12,13,14,15,16,17,18,19\n",
      "49 true true 0,1,2,3,4,5,6,7,8,0,1,2,3,4,5,6,7,8,0,1,2,3,4,5,6,7,8,9,10,11,12,13,14,15,16,17,18,19 ... 0,1,2,3,4,5,6,7,8,0,1,2,3,4,5,6,7,8,0,1,2,3,4,5,6,7,8,9,10,11,12,13,14,15,16,17,18,19\n"
     ]
    },
    {
     "data": {
      "text/plain": [
       "undefined"
      ]
     },
     "execution_count": 33,
     "metadata": {},
     "output_type": "execute_result"
    }
   ],
   "source": [
    " function arrEQ(arr1,arr2) {\n",
    "\tif( arr1 === arr2) return true;\n",
    "\tif(arr1.length !== arr2.length) return false;\n",
    "\n",
    "\tlet len = Math.min(arr1.length, arr2.length);\n",
    "\tlet i=0;\n",
    "\tif( len >= 8) {\n",
    "\t\tlet len1 = len - (len&7);\n",
    "\t\tfor(; i<len1; i += 8) {\n",
    "\t\t\tif(arr1[i]   !== arr2[i])   return false;\n",
    "\t\t\tif(arr1[i+1] !== arr2[i+1]) return false;\n",
    "\t\t\tif(arr1[i+2] !== arr2[i+2]) return false;\n",
    "\t\t\tif(arr1[i+3] !== arr2[i+3]) return false;\n",
    "\t\t\tif(arr1[i+4] !== arr2[i+4]) return false;\n",
    "\t\t\tif(arr1[i+5] !== arr2[i+5]) return false;\n",
    "\t\t\tif(arr1[i+6] !== arr2[i+6]) return false;\n",
    "\t\t\tif(arr1[i+7] !== arr2[i+7]) return false;\n",
    "\t\t} \n",
    "\t} \n",
    "\tif( len >= 4 ){\n",
    "\t\tlet len1 = len - (len&3);\n",
    "\t\tfor(; i<len1; i += 4) {\n",
    "\t\t\tif(arr1[i]   !== arr2[i])   return false;\n",
    "\t\t\tif(arr1[i+1] !== arr2[i+1]) return false;\n",
    "\t\t\tif(arr1[i+2] !== arr2[i+2]) return false;\n",
    "\t\t\tif(arr1[i+3] !== arr2[i+3]) return false;\n",
    "\t\t}    \n",
    "\t}\n",
    "\n",
    "\tswitch(len-i) {\n",
    "\tcase 3: if(arr1[i+2] !== arr2[i+2]) return false;\n",
    "\tcase 2: if(arr1[i+1] !== arr2[i+1]) return false;\n",
    "\tcase 1: if(arr1[i] !== arr2[i]) return false;\n",
    "\t}\n",
    "\n",
    "\treturn true;\n",
    "}\n",
    "\n",
    "function test(LEN,ix) {\n",
    "    var arr1 = [0,1,2,3,4,5,6,7,8,0,1,2,3,4,5,6,7,8,0,1,2,3,4,5,6,7,8,9,10,11,12,13,14,15,16,17,18,19].slice(0,LEN);\n",
    "    var arr2 = [0,1,2,3,4,5,6,7,8,0,1,2,3,4,5,6,7,8,0,1,2,3,4,5,6,7,8,9,10,11,12,13,14,15,16,17,18,19].slice(0,LEN);\n",
    "    var arr3 = arr1.map( i => ix === i ?-1: i)\n",
    "    console.log(LEN, arrEQ(arr1,arr2), arrEQ(arr3,arr2), arr3.join(','),\"...\", arr2.join(','))\n",
    "}\n",
    "\n",
    "for(var j = 0; j<50; j++) test(j, j-1)\n"
   ]
  },
  {
   "cell_type": "code",
   "execution_count": 34,
   "metadata": {},
   "outputs": [
    {
     "name": "stdout",
     "output_type": "stream",
     "text": [
      "0 -1 -1 -1 5\n",
      "1 0 -1 -1 5\n",
      "2 1 -1 -1 5\n",
      "3 2 0 -1 5\n",
      "4 3 1 0 5\n",
      "5 4 2 1 5\n",
      "6 5 3 2 5\n",
      "7 6 4 3 5\n",
      "8 7 5 4 5\n",
      "9 8 6 5 5\n",
      "10 9 7 6 5\n",
      "11 10 8 7 5\n",
      "12 11 9 8 5\n",
      "13 12 10 9 5\n",
      "14 13 11 10 5\n",
      "15 14 12 11 5\n",
      "16 15 13 12 5\n",
      "17 16 14 13 5\n",
      "18 17 15 14 5\n",
      "19 18 16 15 5\n",
      "20 19 17 16 5\n",
      "21 20 18 17 5\n",
      "22 21 19 18 5\n",
      "23 22 20 19 5\n",
      "24 23 21 20 5\n",
      "25 24 22 21 5\n",
      "26 25 23 22 5\n",
      "27 26 24 23 5\n",
      "28 27 25 24 5\n",
      "29 28 26 25 5\n",
      "30 29 27 26 5\n",
      "31 30 28 27 5\n",
      "32 31 29 28 5\n",
      "33 32 30 29 5\n",
      "34 33 31 30 5\n",
      "35 34 32 31 5\n",
      "36 35 33 32 5\n",
      "37 36 34 33 5\n",
      "38 37 35 34 5\n",
      "39 38 36 35 5\n",
      "40 39 37 36 5\n",
      "Call to func took 5 milliseconds.\n"
     ]
    },
    {
     "data": {
      "text/plain": [
       "undefined"
      ]
     },
     "execution_count": 34,
     "metadata": {},
     "output_type": "execute_result"
    }
   ],
   "source": [
    "function findIndexOf(aSet, searchElement) { \n",
    "\tlet minIndex = 0;\n",
    "\tlet maxIndex = aSet.length - 1;\n",
    "\tlet currentIndex;\n",
    "\tlet currentElement;\n",
    " \t\n",
    "\n",
    "\n",
    "\twhile (minIndex <= maxIndex) {\n",
    "\n",
    "\t\tcurrentIndex = (minIndex + maxIndex) >>> 1;\n",
    "\t\tcurrentElement = aSet[currentIndex];\n",
    " \n",
    "\t\tif (currentElement < searchElement) {\n",
    "\t\t\tminIndex = currentIndex + 1;\n",
    "\t\t}\n",
    "\t\telse if (currentElement > searchElement) {\n",
    "\t\t\tmaxIndex = currentIndex - 1;\n",
    "\t\t}\n",
    "\t\telse {\n",
    "\t\t\treturn currentIndex;\n",
    "\t\t}\n",
    "\t}\n",
    " \n",
    "\treturn -1;\n",
    "}\n",
    "\n",
    "function range(n) {\n",
    "    res = [];\n",
    "    for(let i=0; i<n; i++) res.push(i);\n",
    "    return range;\n",
    "}\n",
    "\n",
    "function iter(n,fn=Identity) {\n",
    "    let res = [];\n",
    "    for(let i=0; i<n; i++) {\n",
    "        res.push(fn(i));\n",
    "    }\n",
    "    return res;\n",
    "}\n",
    "function test(LEN,ix) {\n",
    "    //var arr1 = [1,2,3,4,5,6,7,8,9,10,11,12,13,14,15,16,17,18,19,20,21,22,23,24,25,26,27,28,29,30,31,32,33,34,35,36,37,38,39,40].slice(0,LEN);\n",
    "    var arr1 = iter(LEN+10);\n",
    "    console.log(LEN, findIndexOf(arr1,ix), findIndexOf(arr1,ix-2), findIndexOf(arr1,ix-3), findIndexOf(arr1,5))\n",
    "}\n",
    "\n",
    "timeOf(() =>{ for(var j = 0; j<41; j++) test(j, j-1) })"
   ]
  },
  {
   "cell_type": "code",
   "execution_count": 35,
   "metadata": {
    "scrolled": true
   },
   "outputs": [
    {
     "name": "stdout",
     "output_type": "stream",
     "text": [
      "[]\n"
     ]
    },
    {
     "ename": "TypeError",
     "evalue": "Cannot read property 'getData' of undefined",
     "output_type": "error",
     "traceback": [
      "evalmachine.<anonymous>:52",
      "console.log(files[0].getData().getImports().getExports().exports.map(({exports},i) =>( exports)));",
      "                     ^",
      "",
      "TypeError: Cannot read property 'getData' of undefined",
      "    at evalmachine.<anonymous>:52:22",
      "    at Script.runInThisContext (vm.js:116:20)",
      "    at Object.runInThisContext (vm.js:306:38)",
      "    at run ([eval]:1054:15)",
      "    at onRunRequest ([eval]:888:18)",
      "    at onMessage ([eval]:848:13)",
      "    at process.emit (events.js:210:5)",
      "    at emit (internal/child_process.js:876:12)",
      "    at processTicksAndRejections (internal/process/task_queues.js:81:21)"
     ]
    }
   ],
   "source": []
  }
 ],
 "metadata": {
  "kernelspec": {
   "display_name": "Javascript (Node.js)",
   "language": "javascript",
   "name": "javascript"
  },
  "language_info": {
   "file_extension": ".js",
   "mimetype": "application/javascript",
   "name": "javascript",
   "version": "12.13.0"
  }
 },
 "nbformat": 4,
 "nbformat_minor": 2
}
