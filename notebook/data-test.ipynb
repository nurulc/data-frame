{
 "cells": [
  {
   "cell_type": "code",
   "execution_count": 27,
   "metadata": {},
   "outputs": [
    {
     "data": {
      "text/html": [
       "\n",
       "    <script>\n",
       "        window.exports = {};\n",
       "        window.module = true;\n",
       "        //alert('1. D3 load'+window.exports);\n",
       "    </script>\n",
       "    <script src=\"https://cdnjs.cloudflare.com/ajax/libs/d3/4.13.0/d3.js\"></script>\n",
       "    \n",
       "    <script>\n",
       "         //alert('2. D3 load ');\n",
       "          if(!window.d3) window.d3=window.exports;\n",
       "       \n",
       "        function setData(data, func) {\n",
       "            setTimeout((data)=>func(data),0);\n",
       "        }\n",
       "    </script>"
      ]
     },
     "execution_count": 27,
     "metadata": {},
     "output_type": "execute_result"
    },
    {
     "name": "stdout",
     "output_type": "stream",
     "text": [
      "D3 - loader\n"
     ]
    }
   ],
   "source": [
    "//var Collection = require('dstools').Collection;\n",
    "//var data = Collection().loadCSV('data.csv');\n",
    "// var data = Collection([{field1:2,field2:4},{field1:3,field2:5},{field1:2,field2:4}\n",
    "//                        ,{field1:4,field2:4},{field1:4,field2:4},{field1:2,field2:4}]);\n",
    "\n",
    "//var data = Collection().loadCSV('heart.csv');\n",
    "//var lib = require('../lib')\n",
    "\n",
    "\n",
    "var fs = require('fs');\n",
    "var _init = fs.readFileSync('init.js').toString();\n",
    "eval(_init);\n",
    "setupD3();\n"
   ]
  },
  {
   "cell_type": "code",
   "execution_count": null,
   "metadata": {
    "collapsed": true
   },
   "outputs": [],
   "source": [
    "function doN(n, fn) {\n",
    "    return () =>\n",
    "    {\n",
    "        var res;\n",
    "        for(let i=0;i<n; i++) {\n",
    "            res = fn(res)\n",
    "        }\n",
    "        return res;\n",
    "    }\n",
    "}"
   ]
  },
  {
   "cell_type": "code",
   "execution_count": null,
   "metadata": {
    "collapsed": true,
    "scrolled": false
   },
   "outputs": [],
   "source": [
    "var ICD10 = readZipFrame('../data/reference/all_icd10_codes.tsv.gz');\n",
    "\n"
   ]
  },
  {
   "cell_type": "code",
   "execution_count": null,
   "metadata": {
    "collapsed": true
   },
   "outputs": [],
   "source": [
    "var CNT = 1000\n",
    "var myData = timeOf(doN(CNT, () =>ICD10.filter(r => r.ICD10.match(/^A/) ).project(['ICD10'])))\n",
    "var __ = timeOf(doN(CNT, () =>ICD10.filter(r => r.ICD10.startsWith('A') ).project(['ICD10'])))\n",
    "var __ = timeOf(doN(CNT, () =>ICD10.filter(r => r.ICD10.startsWith('A') ).project(['ICD10'])))\n"
   ]
  },
  {
   "cell_type": "code",
   "execution_count": null,
   "metadata": {
    "collapsed": true
   },
   "outputs": [],
   "source": [
    "console.log('len', ICD10.length)\n",
    "timeOf(doN(CNT,() => ICD10.innerJoin(myData, [...ICD10.columns.map(x => '1.'+x)], 'ICD10')))"
   ]
  },
  {
   "cell_type": "code",
   "execution_count": null,
   "metadata": {
    "collapsed": true,
    "scrolled": true
   },
   "outputs": [],
   "source": [
    "data.show()"
   ]
  },
  {
   "cell_type": "code",
   "execution_count": null,
   "metadata": {
    "collapsed": true,
    "scrolled": true
   },
   "outputs": [],
   "source": [
    "data.describe('chol').show();"
   ]
  },
  {
   "cell_type": "code",
   "execution_count": null,
   "metadata": {
    "collapsed": true,
    "scrolled": true
   },
   "outputs": [],
   "source": [
    "data.plotly([{type:'histogram',x:'chol'}]).show();\n",
    "data.histogram('chol').show();"
   ]
  },
  {
   "cell_type": "code",
   "execution_count": null,
   "metadata": {
    "collapsed": true
   },
   "outputs": [],
   "source": [
    "data.kurtosis('chol')"
   ]
  },
  {
   "cell_type": "code",
   "execution_count": null,
   "metadata": {
    "collapsed": true,
    "scrolled": true
   },
   "outputs": [],
   "source": [
    "data.corrmap().show()"
   ]
  },
  {
   "cell_type": "code",
   "execution_count": null,
   "metadata": {
    "collapsed": true
   },
   "outputs": [],
   "source": [
    "var {Frame} = require('../dist/bundle.js');"
   ]
  },
  {
   "cell_type": "code",
   "execution_count": null,
   "metadata": {
    "collapsed": true,
    "scrolled": false
   },
   "outputs": [],
   "source": [
    "var C = class {\n",
    "    constructor(a) {\n",
    "        this.value = a;\n",
    "    }\n",
    "    \n",
    "    \n",
    "};\n",
    "\n",
    "var c = new C(1);\n",
    "new c.constructor(2);\n",
    "function timeOf(fn) {\n",
    "  const name = 'func';\n",
    "  const t0 = new Date().getTime();\n",
    "\n",
    "  const res = fn();\n",
    "\n",
    "  const t1 = new Date().getTime();\n",
    "  console.log(`Call to ${name} took ${t1 - t0} milliseconds.`);\n",
    "  return res;\n",
    "}"
   ]
  },
  {
   "cell_type": "code",
   "execution_count": null,
   "metadata": {
    "collapsed": true
   },
   "outputs": [],
   "source": [
    "var la = require('../lib/array')"
   ]
  },
  {
   "cell_type": "code",
   "execution_count": null,
   "metadata": {
    "collapsed": true,
    "scrolled": true
   },
   "outputs": [],
   "source": [
    "function test(n) {\n",
    "    var a = la.newArray(n);\n",
    "    for(let i=0; i<n; i++) a[i] = i;\n",
    "    return a;\n",
    "}\n",
    "\n",
    "function test0(n) {\n",
    "    var a = new Int32Array(n);\n",
    "    for(let i=0; i<n; i++) a[i] = i;\n",
    "    return a;\n",
    "}\n",
    "\n",
    "function test2(n) {\n",
    "    var a = [];\n",
    "    for(let i=0; i<n; i++) a.push(i);\n",
    "    return a;\n",
    "}\n",
    "\n",
    "function timeOf(fn) {\n",
    "  const name = 'func';\n",
    "  const t0 = new Date().getTime();\n",
    "\n",
    "  const res = fn();\n",
    "\n",
    "  const t1 = new Date().getTime();\n",
    "  console.log(`Call to ${name} took ${t1 - t0} milliseconds.`);\n",
    "  return res;\n",
    "}\n",
    "\n",
    "[timeOf(() => la.arrSum(test(10000000))),\n",
    "timeOf(() => la.arrSum(test2(10000000)))];\n",
    "var a = test(10000000);\n",
    "var b = test2(10000000);\n"
   ]
  },
  {
   "cell_type": "code",
   "execution_count": null,
   "metadata": {
    "collapsed": true
   },
   "outputs": [],
   "source": [
    "[timeOf(() => {for(i=0; i<100; i++)la.arrSum(b)}),\n",
    "timeOf(() => {for(i=0; i<100; i++)la.arrSum(a)})]"
   ]
  },
  {
   "cell_type": "code",
   "execution_count": null,
   "metadata": {
    "collapsed": true
   },
   "outputs": [],
   "source": [
    "//var {Frame} = require('../lib/frame')"
   ]
  },
  {
   "cell_type": "code",
   "execution_count": null,
   "metadata": {
    "collapsed": true
   },
   "outputs": [],
   "source": [
    "var f = new Frame( [[1,2],[3,4]],['a','b'],'test');\n",
    "ArrayBuffer.isView(new Int32Array(10))"
   ]
  },
  {
   "cell_type": "code",
   "execution_count": null,
   "metadata": {
    "collapsed": true,
    "scrolled": true
   },
   "outputs": [],
   "source": [
    "f.sort(['-b'])"
   ]
  },
  {
   "cell_type": "code",
   "execution_count": null,
   "metadata": {
    "collapsed": true,
    "scrolled": true
   },
   "outputs": [],
   "source": [
    "fs.readdirSync('../data/reference');\n",
    "var ICD9 = readZipFrame('../data/reference/all_icd10_codes.tsv.gz');\n",
    "var HCPCS = readZipFrame('../data/reference/hcpcs.tsv.gz')\n",
    "//HCPCS = HCPCS.project(['TYPE', ...HCPCS.columns], {TYPE: r => r.CODE.substr(0,2)},true);\n",
    "//HCPCS.groupBy(['TYPE', gb.count('TYPE', 'COUNT')]).sort(['-COUNT'])"
   ]
  },
  {
   "cell_type": "code",
   "execution_count": null,
   "metadata": {
    "collapsed": true
   },
   "outputs": [],
   "source": [
    "HCPCS.filter(r => r.TYPE === 'G0')//.groupBy(['TYPE', gb.count('TYPE', 'COUNT')])"
   ]
  },
  {
   "cell_type": "code",
   "execution_count": null,
   "metadata": {
    "collapsed": true
   },
   "outputs": [],
   "source": [
    "$$.html(`<script>\n",
    "console.log(define.toString())\n",
    "</script>`)\n"
   ]
  },
  {
   "cell_type": "code",
   "execution_count": null,
   "metadata": {
    "collapsed": true
   },
   "outputs": [],
   "source": [
    "var CFrame {\n",
    "    constructor(data, columns, isColumn=true) {\n",
    "        this.columns = columns;\n",
    "        let len = isColumn? data[0].length : data.length;\n",
    "        this.length = len;\n",
    "        if(!column) {\n",
    "           let rLn = this.columns.length;\n",
    "           let aData = arrayOf(() => new Array(len), rLn);\n",
    "           this.data = aData;\n",
    "           for(let i=0; i<len; i++) {\n",
    "               let row = data[i];\n",
    "               let j = 0;\n",
    "               for(; j< rLn-7; j+= 8) {\n",
    "                   aData[j][i] = row[j];\n",
    "                   aData[j+1][i] = row[j+1];\n",
    "                   aData[j+2][i] = row[j+2];\n",
    "                   aData[j+3][i] = row[j+3];\n",
    "                   aData[j+4][i] = row[j+4];\n",
    "                   aData[j+5][i] = row[j+5];\n",
    "                   aData[j+6][i] = row[j+6];\n",
    "                   aData[j+7][i] = row[j+7];\n",
    "               }\n",
    "               for(; j< rLn-3; j+= 4) {\n",
    "                   aData[j][i] = row[j];\n",
    "                   aData[j+1][i] = row[j+1];\n",
    "                   aData[j+2][i] = row[j+2];\n",
    "                   aData[j+3][i] = row[j+3];\n",
    "               }\n",
    "               for(; j< rLn; j++) {\n",
    "                   aData[j][i] = row[j]\n",
    "               }\n",
    "           }\n",
    "       }\n",
    "    }\n",
    "\n",
    "    /**\n",
    "     * old Column array\n",
    "    _colMapper(mapArray, baseData) {\n",
    "        \n",
    "    }\n",
    "}"
   ]
  },
  {
   "cell_type": "markdown",
   "metadata": {},
   "source": [
    "#Adam optimizer"
   ]
  },
  {
   "cell_type": "code",
   "execution_count": 28,
   "metadata": {
    "collapsed": true
   },
   "outputs": [],
   "source": [
    "/*\n",
    "  Adam optimizer javascript implementation based on the original article: https://arxiv.org/pdf/1412.6980.pdf\n",
    "  Code written by Damir Vodenicarevic (https://damip.net) in march 2017.\n",
    "  Updated by Nurul Choudhury\n",
    "  This work is licensed under a Creative Commons Attribution 4.0 International License.\n",
    "  http://creativecommons.org/licenses/by/4.0/\n",
    "*/\n",
    "\n",
    "function adam_optimizer(nparams, beta_1=0.9, beta_2=0.999, epsilon=1e-8) {\n",
    "    var self= this;\n",
    "\n",
    "    self.nparams= nparams;\n",
    "    self.beta_1= beta_1;\n",
    "    self.beta_2= beta_2;\n",
    "    self.epsilon= epsilon;\n",
    "    \n",
    "    self.m= []; \n",
    "    self.v= [];\n",
    "    for(var i= 0 ; i < self.nparams ; ++i) {\n",
    "        self.m[i]= 0; // Initialize 1st moment vector\n",
    "        self.v[i]= 0; // Initialize 2nd moment vector\n",
    "    }\n",
    "    self.t= 0; //Initialize timestep\n",
    "    self.b1t = beta_1;\n",
    "    self.b2t = beta_2;\n",
    "    self.get_update= function(alpha, g) { // alpha is the learning rate, g is the gradient\n",
    "        self.t += 1;\n",
    "        let updates= new Array(self.nparams);\n",
    "        let m = self.m;\n",
    "        let v = self.v;\n",
    "        let beta_1 = self.beta_1;\n",
    "        let beta_2 = self.beta_2, b1t = self.b1t, b2t= self.b2t;\n",
    "        let epsilon = self.epsilon;\n",
    "        for(var i= 0 ; i < self.nparams ; ++i) {\n",
    "            m[i]= beta_1*m[i] + (1-beta_1)*g[i]; // Update biased first moment estimate\n",
    "            v[i]= beta_2*v[i] + (1-beta_2)*g[i]*g[i]; // Update biased second raw moment estimate\n",
    "            var mub= m[i]/(1 - b1t); // Compute bias-corrected first moment estimate\n",
    "            var vub= self.v[i]/(1 - b2t); // Compute bias-corrected second raw moment estimate\n",
    "            updates[i]= - alpha * mub / ( Math.sqrt(vub) + epsilon  ); // Return parameter updates\n",
    "           // console.log({b1t:self.b1t,b2t:self.b2t});\n",
    "        }\n",
    "        self.b1t *= beta_1*beta_1;\n",
    "        self.b2t *= beta_2*beta_2;\n",
    "        return updates;\n",
    "    };\n",
    "};\n",
    "\n",
    "var Adam = class {\n",
    "    constructor(nparams, beta_1=0.9, beta_2=0.999, epsilon=1e-8) {\n",
    "        this.nparams= nparams;\n",
    "        this.beta_1= beta_1;\n",
    "        this.beta_2= beta_2;\n",
    "        this.epsilon= epsilon;\n",
    "\n",
    "        this.m= []; \n",
    "        this.v= [];\n",
    "        for(var i= 0 ; i < this.nparams ; ++i) {\n",
    "            this.m[i]= 0; // Initialize 1st moment vector\n",
    "            this.v[i]= 0; // Initialize 2nd moment vector\n",
    "        }\n",
    "        this.t= 0; //Initialize timestep\n",
    "        this.b1t = beta_1;\n",
    "        this.b2t = beta_2;\n",
    "    }\n",
    "    get_update(alpha, g) { // alpha is the learning rate, g is the gradient\n",
    "        this.t += 1;\n",
    "        let updates= new Array(this.nparams);\n",
    "        const {m,v,b,beta_1,beta_2, b1t, b2t, epsilon, nparams} = this;\n",
    "         \n",
    "        for(var i= 0 ; i < nparams ; ++i) {\n",
    "            m[i]= beta_1*m[i] + (1-beta_1)*g[i]; // Update biased first moment estimate\n",
    "            v[i]= beta_2*v[i] + (1-beta_2)*g[i]*g[i]; // Update biased second raw moment estimate\n",
    "            var mub= m[i]/(1 - b1t); // Compute bias-corrected first moment estimate\n",
    "            var vub= v[i]/(1 - b2t); // Compute bias-corrected second raw moment estimate\n",
    "            updates[i]= - alpha * mub / ( Math.sqrt(vub) + epsilon  ); // Return parameter updates\n",
    "        }\n",
    "        this.b1t *= beta_1*beta_1;\n",
    "        this.b2t *= beta_2*beta_2;\n",
    "        return updates;\n",
    "    };\n",
    "}"
   ]
  },
  {
   "cell_type": "code",
   "execution_count": 21,
   "metadata": {},
   "outputs": [
    {
     "data": {
      "text/plain": [
       "[Function: Adam]"
      ]
     },
     "execution_count": 21,
     "metadata": {},
     "output_type": "execute_result"
    }
   ],
   "source": [
    "Adam"
   ]
  },
  {
   "cell_type": "code",
   "execution_count": 2,
   "metadata": {
    "collapsed": true
   },
   "outputs": [],
   "source": [
    "var m = 0, v = 0, beta_1 = 0.9, beta_2 = 0.999;\n",
    "var b1t = beta_1, b2t = beta_2;\n",
    "function gx([x,y]) {\n",
    "    return [2*x-100*2*x*(y-x*x), 100*2*(y-x*x)]\n",
    "}\n",
    "\n",
    "var fx = ([x,y]) => x*x+100*(y-x*x)*(y-x*x);"
   ]
  },
  {
   "cell_type": "code",
   "execution_count": 3,
   "metadata": {
    "collapsed": true
   },
   "outputs": [],
   "source": [
    "function steepest_descent_optimizer(nparams) {\n",
    "    var self= this;\n",
    "\n",
    "    self.nparams= nparams;\n",
    "    \n",
    "    self.get_update= function(alpha, g) { // alpha is the learning rate, g is the gradient\n",
    "        var updates= [];\n",
    "        for(var i= 0 ; i < self.nparams ; ++i) {\n",
    "            updates[i]= - alpha * g[i]; // Return parameter updates\n",
    "        }\n",
    "        //console.log('updates:',updates);\n",
    "        return updates;\n",
    "    };\n",
    "};\n",
    "\n",
    "function adam_optimizerOld(nparams, beta_1=0.9, beta_2=0.999, epsilon=1e-8) {\n",
    "    var self= this;\n",
    "\n",
    "    self.nparams= nparams;\n",
    "    self.beta_1= beta_1;\n",
    "    self.beta_2= beta_2;\n",
    "    self.epsilon= epsilon;\n",
    "    \n",
    "    self.m= []; \n",
    "    self.v= [];\n",
    "    for(var i= 0 ; i < self.nparams ; ++i) {\n",
    "        self.m[i]= 0; // Initialize 1st moment vector\n",
    "        self.v[i]= 0; // Initialize 2nd moment vector\n",
    "    }\n",
    "    self.t= 0; //Initialize timestep\n",
    "    \n",
    "    self.get_update= function(alpha, g) { // alpha is the learning rate, g is the gradient\n",
    "        self.t += 1;\n",
    "        var t = self.t;\n",
    "        var updates= [];\n",
    "        for(var i= 0 ; i < self.nparams ; ++i) {\n",
    "            self.m[i]= self.beta_1*self.m[i] + (1-self.beta_1)*g[i]; // Update biased first moment estimate\n",
    "            self.v[i]= self.beta_2*self.v[i] + (1-self.beta_2)*g[i]*g[i]; // Update biased second raw moment estimate\n",
    "            var mub= self.m[i]/(1 - Math.pow(self.beta_1,2*t-1)); // Compute bias-corrected first moment estimate\n",
    "            var vub= self.v[i]/(1 - Math.pow(self.beta_2,2*t-1)); // Compute bias-corrected second raw moment estimate\n",
    "            updates[i]= - alpha * mub / ( Math.sqrt(vub) + self.epsilon  ); // Return parameter updates\n",
    "           //console.log({b1t:Math.pow(self.beta_1,2*t-1),b2t:Math.pow(self.beta_2,2*t-1)})\n",
    "        }\n",
    "        return updates;\n",
    "    };\n",
    "};"
   ]
  },
  {
   "cell_type": "code",
   "execution_count": 4,
   "metadata": {
    "collapsed": true
   },
   "outputs": [],
   "source": [
    "var g = 0.015;\n",
    "var epsilon=1e-8;\n",
    "var alpha = 0.05;\n",
    "var theta = 5;"
   ]
  },
  {
   "cell_type": "code",
   "execution_count": null,
   "metadata": {
    "collapsed": true,
    "scrolled": true
   },
   "outputs": [],
   "source": [
    "for(var i=0; i<100; i++){\n",
    "    g = gx(theta);\n",
    "    m = beta_1*m + (1-beta_1)*g;\n",
    "    v = beta_2*v + (1-beta_2)*g*g;\n",
    "    var mub =m/(1-b1t);\n",
    "    var vub =v/(1-b2t);\n",
    "    b1t = beta_1*b1t;\n",
    "    b2t = beta_2*b2t;\n",
    "    var update = - alpha * mub / ( Math.sqrt(vub) + epsilon  );\n",
    "    theta += update;\n",
    "    \n",
    "}\n",
    "console.log({update, theta,mub, vub: Math.sqrt(vub),m, b1t, b2t, g, g2: g*g})"
   ]
  },
  {
   "cell_type": "code",
   "execution_count": 5,
   "metadata": {},
   "outputs": [
    {
     "name": "stdout",
     "output_type": "stream",
     "text": [
      "Current function value: NaN [ NaN, NaN ]\n"
     ]
    }
   ],
   "source": [
    "var theta= [1,1]; // Initialize parameters\n",
    "\n",
    "var sphere_function= function(theta) {\n",
    "    var res= 0;\n",
    "    for(var i= 0 ; i < theta.length ; ++i) {\n",
    "        res += theta[i]*theta[i];\n",
    "    }\n",
    "    return res;\n",
    "}\n",
    "\n",
    "var sphere_function_gradient= function(theta) {\n",
    "    var res= [];\n",
    "    for(var i= 0 ; i < theta.length ; ++i) {\n",
    "        res[i]= 2*theta[i];\n",
    "    }\n",
    "    return res;\n",
    "}\n",
    "\n",
    "/*\n",
    "  Binary Descent optimizer javascript implementation\n",
    "  Code written by Damir Vodenicarevic (https://damip.net) in march 2017.\n",
    "  This work is licensed under a Creative Commons Attribution 4.0 International License.\n",
    "  http://creativecommons.org/licenses/by/4.0/\n",
    "*/\n",
    "\n",
    "function binary_descent_optimizer(nparams) {\n",
    "    var self= this;\n",
    "\n",
    "    self.nparams= nparams;\n",
    "    \n",
    "    self.get_update= function(alpha, g) { // alpha is the learning rate, g is the gradient\n",
    "        var updates= [];\n",
    "        for(var i= 0 ; i < self.nparams ; ++i) {\n",
    "            updates[i]= alpha * (g[i] >= 0 ? -1 : +1); // Return parameter updates\n",
    "        }\n",
    "        return updates;\n",
    "    };\n",
    "};\n",
    "\n",
    "//var optimizer= new binary_descent_optimizer(theta.length); // Choose optimizer here\n",
    "var optimizer= new steepest_descent_optimizer(theta.length); // Choose optimizer here\n",
    "\n",
    "var alpha= 0.05; // Learning rate\n",
    "var nsteps= 200; // Number of optimization steps\n",
    "for(var step= 0; step < nsteps ; ++step) {\n",
    "    //var update= optimizer.get_update(alpha, sphere_function_gradient(theta)); // get the update from the optimizer \n",
    "    var update= optimizer.get_update(alpha, gx(theta)); // get the update from the optimizer \n",
    "  for(var i= 0 ; i < theta.length ; ++i) {\n",
    "    theta[i] += update[i]; //apply the update\n",
    "  }\n",
    "  //var value= sphere_function(theta);\n",
    "  var value= fx(theta);\n",
    "  \n",
    "  \n",
    "}\n",
    "console.log('Current function value: ' + value, theta);"
   ]
  },
  {
   "cell_type": "code",
   "execution_count": 56,
   "metadata": {
    "scrolled": true
   },
   "outputs": [
    {
     "name": "stdout",
     "output_type": "stream",
     "text": [
      "Current function value: 5.45654139469572e-21 [ 7.375709024056004e-11, 4.0537679241244703e-13 ] [ 1.4751418047514022e-10, 8.107535739446773e-11 ] [ -8.426564308356897e-12, 7.243737795406759e-13 ]\n"
     ]
    },
    {
     "data": {
      "text/plain": [
       "[ 7.375709024056004e-11, 4.0537679241244703e-13 ]"
      ]
     },
     "execution_count": 56,
     "metadata": {},
     "output_type": "execute_result"
    }
   ],
   "source": [
    "function fit(genOptimizer,grad=gx,func=fx,_steps=190,alpha=0.05,beta_1=0.9, beta_2=0.999) {\n",
    "    var theta= [1,1]; // Initialize parameters\n",
    "    var optimizer= new genOptimizer(theta.length,beta_1,beta_2); // Choose optimizer here\n",
    "\n",
    "    //alpha=  Learning rate\n",
    "    var nsteps= _steps; // Number of optimization steps\n",
    "    for(var step= 0; step < nsteps ; ++step) {\n",
    "      var update= optimizer.get_update(alpha, grad(theta)); // get the update from the optimizer \n",
    "      for(var i= 0 ; i < theta.length ; ++i) {\n",
    "        theta[i] += update[i]; //apply the update\n",
    "      }\n",
    "      var value= func(theta);\n",
    "\n",
    "      //console.log('Current function value: ' + value, theta, gx(theta), update);\n",
    "    }\n",
    "    console.log('Current function value: ' + value, theta, grad(theta), update);\n",
    "    return theta;\n",
    "}\n",
    "\n",
    "//fit(adam_optimizerOld,sphere_function_gradient,sphere_function,100);\n",
    "fit(adam_optimizerOld,gx,fx,500,0.1);\n",
    "\n",
    "//sphere_function(0.12461140440061709, 0.15483380486489354)"
   ]
  },
  {
   "cell_type": "code",
   "execution_count": 61,
   "metadata": {},
   "outputs": [
    {
     "name": "stdout",
     "output_type": "stream",
     "text": [
      "Current function value: 5.48653047044568e-22 [ -8.532653491994786e-12, 2.181391462947173e-12 ] [ -1.706530698026696e-11, 4.362782925748734e-10 ] [ 6.345388359997066e-13, 8.466933544670249e-13 ]\n",
      "Call to func took 1 milliseconds.\n",
      "Current function value: 2.0376338811616955e-31 [ -3.191891195797325e-16, -3.191891195797325e-16 ] [ -6.38378239159465e-16, -6.38378239159465e-16 ] [ -0.05, -0.05 ]\n",
      "Call to func took 1 milliseconds.\n"
     ]
    },
    {
     "data": {
      "text/plain": [
       "[ -3.191891195797325e-16, -3.191891195797325e-16 ]"
      ]
     },
     "execution_count": 61,
     "metadata": {},
     "output_type": "execute_result"
    }
   ],
   "source": [
    " //fit(adam_optimizer,sphere_function_gradient,sphere_function,100);\n",
    "timeOf(() =>fit(Adam,gx,fx,500,0.3));\n",
    "timeOf(() =>fit(binary_descent_optimizer,sphere_function_gradient,sphere_function,300));\n",
    "\n",
    "//fit(steepest_descent_optimizer,sphere_function_gradient,sphere_function,100);\n",
    "//fit(binary_descent_optimizer,130);"
   ]
  }
 ],
 "metadata": {
  "kernelspec": {
   "display_name": "Javascript (Node.js)",
   "language": "javascript",
   "name": "javascript"
  },
  "language_info": {
   "file_extension": ".js",
   "mimetype": "application/javascript",
   "name": "javascript",
   "version": "7.4.0"
  }
 },
 "nbformat": 4,
 "nbformat_minor": 2
}
