{
 "cells": [
  {
   "cell_type": "code",
   "execution_count": null,
   "metadata": {},
   "outputs": [],
   "source": [
    "var Collection = require('dstools').Collection;\n",
    "//var data = Collection().loadCSV('data.csv');\n",
    "// var data = Collection([{field1:2,field2:4},{field1:3,field2:5},{field1:2,field2:4}\n",
    "//                        ,{field1:4,field2:4},{field1:4,field2:4},{field1:2,field2:4}]);\n",
    "\n",
    "var data = Collection().loadCSV('heart.csv');\n",
    "//var lib = require('../lib')"
   ]
  },
  {
   "cell_type": "code",
   "execution_count": null,
   "metadata": {
    "scrolled": true
   },
   "outputs": [],
   "source": [
    "data.show()"
   ]
  },
  {
   "cell_type": "code",
   "execution_count": null,
   "metadata": {
    "scrolled": true
   },
   "outputs": [],
   "source": [
    "data.describe('chol').show();"
   ]
  },
  {
   "cell_type": "code",
   "execution_count": null,
   "metadata": {
    "scrolled": true
   },
   "outputs": [],
   "source": [
    "data.plotly([{type:'histogram',x:'chol'}]).show();\n",
    "data.histogram('chol').show();"
   ]
  },
  {
   "cell_type": "code",
   "execution_count": null,
   "metadata": {},
   "outputs": [],
   "source": [
    "data.kurtosis('chol')"
   ]
  },
  {
   "cell_type": "code",
   "execution_count": null,
   "metadata": {
    "scrolled": true
   },
   "outputs": [],
   "source": [
    "data.corrmap().show()"
   ]
  },
  {
   "cell_type": "code",
   "execution_count": null,
   "metadata": {
    "scrolled": true
   },
   "outputs": [],
   "source": [
    "var C = class {\n",
    "    constructor(a) {\n",
    "        this.value = a;\n",
    "    }\n",
    "    \n",
    "    \n",
    "};\n",
    "\n",
    "var c = new C(1);\n",
    "new c.constructor(2)"
   ]
  },
  {
   "cell_type": "code",
   "execution_count": 1,
   "metadata": {},
   "outputs": [],
   "source": [
    "var {Frame} = require('../lib/frame')"
   ]
  },
  {
   "cell_type": "code",
   "execution_count": 2,
   "metadata": {},
   "outputs": [
    {
     "data": {
      "text/html": [
       "<style> \n",
       "\t\t\t\ttable .ftable  { font-family: arial, sans-serif; color: blue } \n",
       "\t\t\t\ttd, th, tr { border: 1px solid #000000; text-align: left; } \n",
       "\t\t\t\ttr:nth-child(even) { background-color: #dddddd; } }\n",
       "\t\t\t</style>\n",
       "<p>Length: 2</p><table class=\"ftable\" style=\"border-collapse: collapse; border-spacing: 0;  border: 2px solid #000; font-size: 1rem\"><thead style=\"background-color: lightgrey\"><tr style=\"border: 2px solid #000\"><td style=\"border: 2px solid #000\">Ix</td><td style=\"border: 2px solid #000\">a</td><td style=\"border: 2px solid #000\">b</td></tr></thead><tbody><tr style=\"background-color: #fffaff\"><td style=\"border: 2px solid #000\">0</td><td style=\"border: 2px solid #000\">1</td><td style=\"border: 2px solid #000\">2</td></tr><tr style=\"background-color: white\"><td style=\"border: 2px solid #000\">1</td><td style=\"border: 2px solid #000\">3</td><td style=\"border: 2px solid #000\">4</td></tr></tbody></table>"
      ],
      "text/plain": [
       "Frame {\n",
       "  keyFunc: [Function: _getKey],\n",
       "  data: [ [ 1, 2 ], [ 3, 4 ] ],\n",
       "  _columns: [ 'a', 'b' ],\n",
       "  _name: 'test',\n",
       "  _unique: undefined,\n",
       "  _sortCols: [],\n",
       "  _row: undefined,\n",
       "  AccessClass: [Function],\n",
       "  showLen: 400,\n",
       "  rowColor: [Function: colorDefault],\n",
       "  _hash: -1 }"
      ]
     },
     "execution_count": 2,
     "metadata": {},
     "output_type": "execute_result"
    }
   ],
   "source": [
    "var f = new Frame( [[1,2],[3,4]],['a','b'],'test');\n",
    "f"
   ]
  },
  {
   "cell_type": "code",
   "execution_count": 3,
   "metadata": {},
   "outputs": [
    {
     "data": {
      "text/html": [
       "<style> \n",
       "\t\t\t\ttable .ftable  { font-family: arial, sans-serif; color: blue } \n",
       "\t\t\t\ttd, th, tr { border: 1px solid #000000; text-align: left; } \n",
       "\t\t\t\ttr:nth-child(even) { background-color: #dddddd; } }\n",
       "\t\t\t</style>\n",
       "<p>Length: 2</p><table class=\"ftable\" style=\"border-collapse: collapse; border-spacing: 0;  border: 2px solid #000; font-size: 1rem\"><thead style=\"background-color: lightgrey\"><tr style=\"border: 2px solid #000\"><td style=\"border: 2px solid #000\">Ix</td><td style=\"border: 2px solid #000\">a</td><td style=\"border: 2px solid #000\">b</td></tr></thead><tbody><tr style=\"background-color: #fffaff\"><td style=\"border: 2px solid #000\">0</td><td style=\"border: 2px solid #000\">3</td><td style=\"border: 2px solid #000\">4</td></tr><tr style=\"background-color: white\"><td style=\"border: 2px solid #000\">1</td><td style=\"border: 2px solid #000\">1</td><td style=\"border: 2px solid #000\">2</td></tr></tbody></table>"
      ],
      "text/plain": [
       "Frame {\n",
       "  keyFunc: [Function: _getKey],\n",
       "  data: [ [ 3, 4 ], [ 1, 2 ] ],\n",
       "  _columns: [ 'a', 'b' ],\n",
       "  _name: 'test',\n",
       "  _unique: undefined,\n",
       "  _sortCols: [],\n",
       "  _row: undefined,\n",
       "  AccessClass: [Function],\n",
       "  showLen: 400,\n",
       "  rowColor: [Function: colorDefault],\n",
       "  _hash: -1,\n",
       "  sorted: [ '-b' ] }"
      ]
     },
     "execution_count": 3,
     "metadata": {},
     "output_type": "execute_result"
    }
   ],
   "source": [
    "f.sort(['-b'])"
   ]
  }
 ],
 "metadata": {
  "kernelspec": {
   "display_name": "Javascript (Node.js)",
   "language": "javascript",
   "name": "javascript"
  },
  "language_info": {
   "file_extension": ".js",
   "mimetype": "application/javascript",
   "name": "javascript",
   "version": "7.4.0"
  }
 },
 "nbformat": 4,
 "nbformat_minor": 2
}
