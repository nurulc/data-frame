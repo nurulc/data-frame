{
 "cells": [
  {
   "cell_type": "code",
   "execution_count": 1,
   "metadata": {
    "scrolled": true
   },
   "outputs": [
    {
     "data": {
      "text/html": [
       "\n",
       "    <script>\n",
       "        window.exports = {};\n",
       "        window.module = true;\n",
       "        //alert('1. D3 load'+window.exports);\n",
       "    </script>\n",
       "    <script src=\"https://cdnjs.cloudflare.com/ajax/libs/d3/4.13.0/d3.js\"></script>\n",
       "    \n",
       "    <script>\n",
       "         //alert('2. D3 load ');\n",
       "          if(!window.d3) window.d3=window.exports;\n",
       "       \n",
       "        function setData(data, func) {\n",
       "            setTimeout((data)=>func(data),0);\n",
       "        }\n",
       "    </script>"
      ]
     },
     "execution_count": 1,
     "metadata": {},
     "output_type": "execute_result"
    }
   ],
   "source": [
    "//var Collection = require('dstools').Collection;\n",
    "//var data = Collection().loadCSV('data.csv');\n",
    "// var data = Collection([{field1:2,field2:4},{field1:3,field2:5},{field1:2,field2:4}\n",
    "//                        ,{field1:4,field2:4},{field1:4,field2:4},{field1:2,field2:4}]);\n",
    "\n",
    "//var data = Collection().loadCSV('heart.csv');\n",
    "//var lib = require('../lib')\n",
    "\n",
    "\n",
    "var fs = require('fs');\n",
    "var _init = fs.readFileSync('init.js').toString();\n",
    "eval(_init);\n",
    "setupD3();\n"
   ]
  },
  {
   "cell_type": "code",
   "execution_count": null,
   "metadata": {
    "collapsed": true
   },
   "outputs": [],
   "source": []
  },
  {
   "cell_type": "code",
   "execution_count": 2,
   "metadata": {},
   "outputs": [
    {
     "name": "stdout",
     "output_type": "stream",
     "text": [
      "D3 - loader\n"
     ]
    },
    {
     "data": {
      "text/plain": [
       "undefined"
      ]
     },
     "execution_count": 2,
     "metadata": {},
     "output_type": "execute_result"
    }
   ],
   "source": [
    "range"
   ]
  },
  {
   "cell_type": "code",
   "execution_count": 19,
   "metadata": {
    "scrolled": true
   },
   "outputs": [
    {
     "data": {
      "text/html": [
       "<style> \n",
       "\t\t\t\t.ftable  { font-family: arial, sans-serif; color: blue !important; } \n",
       "\t\t\t\ttd, th, tr { border: 1px solid #000000; text-align: left; } \n",
       "\t\t\t\tth {color: red !important}\n",
       "\t\t\t\ttr:nth-child(even) { background-color: #dddddd; } }\n",
       "\t\t\t</style>\n",
       "<p>Length: 2</p><table class=\"ftable\" style=\"border-collapse: collapse; border-spacing: 0;  border: 2px solid #000; font-size: 1rem\"><thead style=\"background-color: lightgrey\"><tr style=\"border: 2px solid #000\"><th style=\"border: 2px solid #000; color: blue\">Ix</th><th style=\"border: 2px solid #000; color: blue\">a</th><th style=\"border: 2px solid #000; color: blue\">b</th></tr></thead><tbody><tr style=\"background-color: #fffaff\"><td style=\"border: 2px solid #000\">0</td><td style=\"border: 2px solid #000\">3</td><td style=\"border: 2px solid #000\">4</td></tr><tr style=\"background-color: white\"><td style=\"border: 2px solid #000\">1</td><td style=\"border: 2px solid #000\">1</td><td style=\"border: 2px solid #000\">2</td></tr></tbody></table>"
      ],
      "text/plain": [
       "Frame {\n",
       "  keyFunc: [Function: _getKey],\n",
       "  data: [ [ 3, 4 ], [ 1, 2 ] ],\n",
       "  _columns: [ 'a', 'b' ],\n",
       "  _name: 'test',\n",
       "  _unique: undefined,\n",
       "  _sortCols: [],\n",
       "  _row: undefined,\n",
       "  AccessClass: [Function],\n",
       "  showLen: 400,\n",
       "  _hash: -1,\n",
       "  sorted: [ '-b' ]\n",
       "}"
      ]
     },
     "execution_count": 19,
     "metadata": {},
     "output_type": "execute_result"
    }
   ],
   "source": [
    "f.sort(['-b'])"
   ]
  },
  {
   "cell_type": "code",
   "execution_count": 22,
   "metadata": {},
   "outputs": [
    {
     "data": {
      "text/html": [
       "<script>\n",
       "console.log(define.toString())\n",
       "</script>"
      ]
     },
     "execution_count": 22,
     "metadata": {},
     "output_type": "execute_result"
    }
   ],
   "source": [
    "$$.html(`<script>\n",
    "console.log(define.toString())\n",
    "</script>`)\n"
   ]
  },
  {
   "cell_type": "markdown",
   "metadata": {},
   "source": [
    "#Adam optimizer"
   ]
  },
  {
   "cell_type": "code",
   "execution_count": 24,
   "metadata": {},
   "outputs": [
    {
     "data": {
      "text/plain": [
       "undefined"
      ]
     },
     "execution_count": 24,
     "metadata": {},
     "output_type": "execute_result"
    }
   ],
   "source": [
    "/*\n",
    "  Adam optimizer javascript implementation based on the original article: https://arxiv.org/pdf/1412.6980.pdf\n",
    "  Code written by Damir Vodenicarevic (https://damip.net) in march 2017.\n",
    "  Updated by Nurul Choudhury\n",
    "  This work is licensed under a Creative Commons Attribution 4.0 International License.\n",
    "  http://creativecommons.org/licenses/by/4.0/\n",
    "*/\n",
    "\n",
    "function adam_optimizer(nparams, beta_1=0.9, beta_2=0.999, epsilon=1e-8) {\n",
    "    var self= this;\n",
    "\n",
    "    self.nparams= nparams;\n",
    "    self.beta_1= beta_1;\n",
    "    self.beta_2= beta_2;\n",
    "    self.epsilon= epsilon;\n",
    "    \n",
    "    self.m= []; \n",
    "    self.v= [];\n",
    "    for(var i= 0 ; i < self.nparams ; ++i) {\n",
    "        self.m[i]= 0; // Initialize 1st moment vector\n",
    "        self.v[i]= 0; // Initialize 2nd moment vector\n",
    "    }\n",
    "    self.t= 0; //Initialize timestep\n",
    "    self.b1t = beta_1;\n",
    "    self.b2t = beta_2;\n",
    "    self.get_update= function(alpha, g) { // alpha is the learning rate, g is the gradient\n",
    "        self.t += 1;\n",
    "        let updates= new Array(self.nparams);\n",
    "        let m = self.m;\n",
    "        let v = self.v;\n",
    "        let beta_1 = self.beta_1;\n",
    "        let beta_2 = self.beta_2, b1t = self.b1t, b2t= self.b2t;\n",
    "        let epsilon = self.epsilon;\n",
    "        for(var i= 0 ; i < self.nparams ; ++i) {\n",
    "            m[i]= beta_1*m[i] + (1-beta_1)*g[i]; // Update biased first moment estimate\n",
    "            v[i]= beta_2*v[i] + (1-beta_2)*g[i]*g[i]; // Update biased second raw moment estimate\n",
    "            var mub= m[i]/(1 - b1t); // Compute bias-corrected first moment estimate\n",
    "            var vub= self.v[i]/(1 - b2t); // Compute bias-corrected second raw moment estimate\n",
    "            updates[i]= - alpha * mub / ( Math.sqrt(vub) + epsilon  ); // Return parameter updates\n",
    "           // console.log({b1t:self.b1t,b2t:self.b2t});\n",
    "        }\n",
    "        self.b1t *= beta_1*beta_1;\n",
    "        self.b2t *= beta_2*beta_2;\n",
    "        return updates;\n",
    "    };\n",
    "};\n",
    "\n",
    "var Adam = class {\n",
    "    constructor(nparams, beta_1=0.9, beta_2=0.999, epsilon=1e-8) {\n",
    "        this.nparams= nparams;\n",
    "        this.beta_1= beta_1;\n",
    "        this.beta_2= beta_2;\n",
    "        this.epsilon= epsilon;\n",
    "\n",
    "        this.m= []; \n",
    "        this.v= [];\n",
    "        for(var i= 0 ; i < this.nparams ; ++i) {\n",
    "            this.m[i]= 0; // Initialize 1st moment vector\n",
    "            this.v[i]= 0; // Initialize 2nd moment vector\n",
    "        }\n",
    "        this.t= 0; //Initialize timestep\n",
    "        this.b1t = beta_1;\n",
    "        this.b2t = beta_2;\n",
    "    }\n",
    "    get_update(alpha, g) { // alpha is the learning rate, g is the gradient\n",
    "        this.t += 1;\n",
    "        let updates= new Array(this.nparams);\n",
    "        const {m,v,b,beta_1,beta_2, b1t, b2t, epsilon, nparams} = this;\n",
    "         \n",
    "        for(var i= 0 ; i < nparams ; ++i) {\n",
    "            m[i]= beta_1*m[i] + (1-beta_1)*g[i]; // Update biased first moment estimate\n",
    "            v[i]= beta_2*v[i] + (1-beta_2)*g[i]*g[i]; // Update biased second raw moment estimate\n",
    "            var mub= m[i]/(1 - b1t); // Compute bias-corrected first moment estimate\n",
    "            var vub= v[i]/(1 - b2t); // Compute bias-corrected second raw moment estimate\n",
    "            updates[i]= - alpha * mub / ( Math.sqrt(vub) + epsilon  ); // Return parameter updates\n",
    "        }\n",
    "        this.b1t *= beta_1*beta_1;\n",
    "        this.b2t *= beta_2*beta_2;\n",
    "        return updates;\n",
    "    };\n",
    "}"
   ]
  },
  {
   "cell_type": "code",
   "execution_count": 25,
   "metadata": {},
   "outputs": [
    {
     "data": {
      "text/plain": [
       "[Function: Adam]"
      ]
     },
     "execution_count": 25,
     "metadata": {},
     "output_type": "execute_result"
    }
   ],
   "source": [
    "Adam"
   ]
  },
  {
   "cell_type": "code",
   "execution_count": 26,
   "metadata": {},
   "outputs": [
    {
     "data": {
      "text/plain": [
       "undefined"
      ]
     },
     "execution_count": 26,
     "metadata": {},
     "output_type": "execute_result"
    }
   ],
   "source": [
    "var m = 0, v = 0, beta_1 = 0.9, beta_2 = 0.999;\n",
    "var b1t = beta_1, b2t = beta_2;\n",
    "function gx([x,y]) {\n",
    "    return [2*x-100*2*x*(y-x*x), 100*2*(y-x*x)]\n",
    "}\n",
    "\n",
    "var fx = ([x,y]) => x*x+100*(y-x*x)*(y-x*x);"
   ]
  },
  {
   "cell_type": "code",
   "execution_count": 27,
   "metadata": {},
   "outputs": [
    {
     "data": {
      "text/plain": [
       "undefined"
      ]
     },
     "execution_count": 27,
     "metadata": {},
     "output_type": "execute_result"
    }
   ],
   "source": [
    "function steepest_descent_optimizer(nparams) {\n",
    "    var self= this;\n",
    "\n",
    "    self.nparams= nparams;\n",
    "    \n",
    "    self.get_update= function(alpha, g) { // alpha is the learning rate, g is the gradient\n",
    "        var updates= [];\n",
    "        for(var i= 0 ; i < self.nparams ; ++i) {\n",
    "            updates[i]= - alpha * g[i]; // Return parameter updates\n",
    "        }\n",
    "        //console.log('updates:',updates);\n",
    "        return updates;\n",
    "    };\n",
    "};\n",
    "\n",
    "function adam_optimizerOld(nparams, beta_1=0.9, beta_2=0.999, epsilon=1e-8) {\n",
    "    var self= this;\n",
    "\n",
    "    self.nparams= nparams;\n",
    "    self.beta_1= beta_1;\n",
    "    self.beta_2= beta_2;\n",
    "    self.epsilon= epsilon;\n",
    "    \n",
    "    self.m= []; \n",
    "    self.v= [];\n",
    "    for(var i= 0 ; i < self.nparams ; ++i) {\n",
    "        self.m[i]= 0; // Initialize 1st moment vector\n",
    "        self.v[i]= 0; // Initialize 2nd moment vector\n",
    "    }\n",
    "    self.t= 0; //Initialize timestep\n",
    "    \n",
    "    self.get_update= function(alpha, g) { // alpha is the learning rate, g is the gradient\n",
    "        self.t += 1;\n",
    "        var t = self.t;\n",
    "        var updates= [];\n",
    "        for(var i= 0 ; i < self.nparams ; ++i) {\n",
    "            self.m[i]= self.beta_1*self.m[i] + (1-self.beta_1)*g[i]; // Update biased first moment estimate\n",
    "            self.v[i]= self.beta_2*self.v[i] + (1-self.beta_2)*g[i]*g[i]; // Update biased second raw moment estimate\n",
    "            var mub= self.m[i]/(1 - Math.pow(self.beta_1,2*t-1)); // Compute bias-corrected first moment estimate\n",
    "            var vub= self.v[i]/(1 - Math.pow(self.beta_2,2*t-1)); // Compute bias-corrected second raw moment estimate\n",
    "            updates[i]= - alpha * mub / ( Math.sqrt(vub) + self.epsilon  ); // Return parameter updates\n",
    "           //console.log({b1t:Math.pow(self.beta_1,2*t-1),b2t:Math.pow(self.beta_2,2*t-1)})\n",
    "        }\n",
    "        return updates;\n",
    "    };\n",
    "};"
   ]
  },
  {
   "cell_type": "code",
   "execution_count": 28,
   "metadata": {},
   "outputs": [
    {
     "data": {
      "text/plain": [
       "[Function: gx]"
      ]
     },
     "execution_count": 28,
     "metadata": {},
     "output_type": "execute_result"
    }
   ],
   "source": [
    "var g = 0.015;\n",
    "var epsilon=1e-8;\n",
    "var alpha = 0.05;\n",
    "var theta = 5;\n",
    "\n",
    "gx"
   ]
  },
  {
   "cell_type": "code",
   "execution_count": 29,
   "metadata": {
    "scrolled": true
   },
   "outputs": [
    {
     "ename": "TypeError",
     "evalue": "undefined is not a function",
     "output_type": "error",
     "traceback": [
      "evalmachine.<anonymous>:3",
      "function gx([x,y]) {",
      "           ^",
      "",
      "TypeError: undefined is not a function",
      "    at gx (evalmachine.<anonymous>:3:12)",
      "    at evalmachine.<anonymous>:2:9",
      "    at Script.runInThisContext (vm.js:116:20)",
      "    at Object.runInThisContext (vm.js:306:38)",
      "    at run ([eval]:1054:15)",
      "    at onRunRequest ([eval]:888:18)",
      "    at onMessage ([eval]:848:13)",
      "    at process.emit (events.js:210:5)",
      "    at emit (internal/child_process.js:876:12)",
      "    at processTicksAndRejections (internal/process/task_queues.js:81:21)"
     ]
    }
   ],
   "source": [
    "for(var i=0; i<100; i++){\n",
    "    g = gx(theta);\n",
    "    m = beta_1*m + (1-beta_1)*g;\n",
    "    v = beta_2*v + (1-beta_2)*g*g;\n",
    "    var mub =m/(1-b1t);\n",
    "    var vub =v/(1-b2t);\n",
    "    b1t = beta_1*b1t;\n",
    "    b2t = beta_2*b2t;\n",
    "    var update = - alpha * mub / ( Math.sqrt(vub) + epsilon  );\n",
    "    theta += update;\n",
    "    \n",
    "}\n",
    "console.log({update, theta,mub, vub: Math.sqrt(vub),m, b1t, b2t, g, g2: g*g})"
   ]
  },
  {
   "cell_type": "code",
   "execution_count": 30,
   "metadata": {},
   "outputs": [
    {
     "name": "stdout",
     "output_type": "stream",
     "text": [
      "Current function value: NaN [ NaN, NaN ]\n"
     ]
    },
    {
     "data": {
      "text/plain": [
       "undefined"
      ]
     },
     "execution_count": 30,
     "metadata": {},
     "output_type": "execute_result"
    }
   ],
   "source": [
    "var theta= [1,1]; // Initialize parameters\n",
    "\n",
    "var sphere_function= function(theta) {\n",
    "    var res= 0;\n",
    "    for(var i= 0 ; i < theta.length ; ++i) {\n",
    "        res += theta[i]*theta[i];\n",
    "    }\n",
    "    return res;\n",
    "}\n",
    "\n",
    "var sphere_function_gradient= function(theta) {\n",
    "    var res= [0,0];\n",
    "    for(var i= 0 ; i < theta.length ; ++i) {\n",
    "        res[i]= 2*theta[i];\n",
    "    }\n",
    "    return res;\n",
    "}\n",
    "\n",
    "/*\n",
    "  Binary Descent optimizer javascript implementation\n",
    "  Code written by Damir Vodenicarevic (https://damip.net) in march 2017.\n",
    "  This work is licensed under a Creative Commons Attribution 4.0 International License.\n",
    "  http://creativecommons.org/licenses/by/4.0/\n",
    "*/\n",
    "\n",
    "function binary_descent_optimizer(nparams) {\n",
    "    var self= this;\n",
    "\n",
    "    self.nparams= nparams;\n",
    "    \n",
    "    self.get_update= function(alpha, g) { // alpha is the learning rate, g is the gradient\n",
    "        var updates= [];\n",
    "        for(var i= 0 ; i < self.nparams ; ++i) {\n",
    "            updates[i]= alpha * (g[i] >= 0 ? -1 : +1); // Return parameter updates\n",
    "        }\n",
    "        return updates;\n",
    "    };\n",
    "};\n",
    "\n",
    "//var optimizer= new binary_descent_optimizer(theta.length); // Choose optimizer here\n",
    "var optimizer= new steepest_descent_optimizer(theta.length); // Choose optimizer here\n",
    "\n",
    "var alpha= 0.05; // Learning rate\n",
    "var nsteps= 200; // Number of optimization steps\n",
    "for(var step= 0; step < nsteps ; ++step) {\n",
    "    //var update= optimizer.get_update(alpha, sphere_function_gradient(theta)); // get the update from the optimizer \n",
    "    var update= optimizer.get_update(alpha, gx(theta)); // get the update from the optimizer \n",
    "  for(var i= 0 ; i < theta.length ; ++i) {\n",
    "    theta[i] += update[i]; //apply the update\n",
    "  }\n",
    "  //var value= sphere_function(theta);\n",
    "  var value= fx(theta);\n",
    "  \n",
    "  \n",
    "}\n",
    "console.log('Current function value: ' + value, theta);"
   ]
  },
  {
   "cell_type": "code",
   "execution_count": 31,
   "metadata": {
    "scrolled": true
   },
   "outputs": [
    {
     "name": "stdout",
     "output_type": "stream",
     "text": [
      "Current function value: 5.456541394694749e-21 [ 7.375709024055312e-11, 4.0537679241308135e-13 ] [ 1.4751418047512636e-10, 8.10753573945946e-11 ] [ -8.426564308357165e-12, 7.243737795405949e-13 ]\n"
     ]
    },
    {
     "data": {
      "text/plain": [
       "[ 7.375709024055312e-11, 4.0537679241308135e-13 ]"
      ]
     },
     "execution_count": 31,
     "metadata": {},
     "output_type": "execute_result"
    }
   ],
   "source": [
    "function fit(genOptimizer,grad=gx,func=fx,_steps=190,alpha=0.05,beta_1=0.9, beta_2=0.999) {\n",
    "    var theta= [1,1]; // Initialize parameters\n",
    "    var optimizer= new genOptimizer(theta.length,beta_1,beta_2); // Choose optimizer here\n",
    "\n",
    "    //alpha=  Learning rate\n",
    "    var nsteps= _steps; // Number of optimization steps\n",
    "    for(var step= 0; step < nsteps ; ++step) {\n",
    "      var update= optimizer.get_update(alpha, grad(theta)); // get the update from the optimizer \n",
    "      for(var i= 0 ; i < theta.length ; ++i) {\n",
    "        theta[i] += update[i]; //apply the update\n",
    "      }\n",
    "      var value= func(theta);\n",
    "\n",
    "      //console.log('Current function value: ' + value, theta, gx(theta), update);\n",
    "    }\n",
    "    console.log('Current function value: ' + value, theta, grad(theta), update);\n",
    "    return theta;\n",
    "}\n",
    "\n",
    "//fit(adam_optimizerOld,sphere_function_gradient,sphere_function,100);\n",
    "fit(adam_optimizerOld,gx,fx,500,0.1);\n",
    "\n",
    "//sphere_function(0.12461140440061709, 0.15483380486489354)"
   ]
  },
  {
   "cell_type": "code",
   "execution_count": 32,
   "metadata": {
    "scrolled": true
   },
   "outputs": [
    {
     "name": "stdout",
     "output_type": "stream",
     "text": [
      "Current function value: 5.48653047044568e-22 [ -8.532653491994786e-12, 2.181391462947173e-12 ] [ -1.706530698026696e-11, 4.362782925748734e-10 ] [ 6.345388359997066e-13, 8.466933544670249e-13 ]\n",
      "Call to func took 3 milliseconds.\n",
      "Current function value: 2.0376338811616955e-31 [ -3.191891195797325e-16, -3.191891195797325e-16 ] [ -6.38378239159465e-16, -6.38378239159465e-16 ] [ -0.05, -0.05 ]\n",
      "Call to func took 2 milliseconds.\n"
     ]
    },
    {
     "data": {
      "text/plain": [
       "[ -3.191891195797325e-16, -3.191891195797325e-16 ]"
      ]
     },
     "execution_count": 32,
     "metadata": {},
     "output_type": "execute_result"
    }
   ],
   "source": [
    " //fit(adam_optimizer,sphere_function_gradient,sphere_function,100);\n",
    "timeOf(() =>fit(Adam,gx,fx,500,0.3));\n",
    "timeOf(() =>fit(binary_descent_optimizer,sphere_function_gradient,sphere_function,300));\n",
    "\n",
    "//fit(steepest_descent_optimizer,sphere_function_gradient,sphere_function,100);\n",
    "//fit(binary_descent_optimizer,130);"
   ]
  },
  {
   "cell_type": "code",
   "execution_count": 34,
   "metadata": {},
   "outputs": [
    {
     "name": "stdout",
     "output_type": "stream",
     "text": [
      "0 -1 -1 -1 5\n",
      "1 0 -1 -1 5\n",
      "2 1 -1 -1 5\n",
      "3 2 0 -1 5\n",
      "4 3 1 0 5\n",
      "5 4 2 1 5\n",
      "6 5 3 2 5\n",
      "7 6 4 3 5\n",
      "8 7 5 4 5\n",
      "9 8 6 5 5\n",
      "10 9 7 6 5\n",
      "11 10 8 7 5\n",
      "12 11 9 8 5\n",
      "13 12 10 9 5\n",
      "14 13 11 10 5\n",
      "15 14 12 11 5\n",
      "16 15 13 12 5\n",
      "17 16 14 13 5\n",
      "18 17 15 14 5\n",
      "19 18 16 15 5\n",
      "20 19 17 16 5\n",
      "21 20 18 17 5\n",
      "22 21 19 18 5\n",
      "23 22 20 19 5\n",
      "24 23 21 20 5\n",
      "25 24 22 21 5\n",
      "26 25 23 22 5\n",
      "27 26 24 23 5\n",
      "28 27 25 24 5\n",
      "29 28 26 25 5\n",
      "30 29 27 26 5\n",
      "31 30 28 27 5\n",
      "32 31 29 28 5\n",
      "33 32 30 29 5\n",
      "34 33 31 30 5\n",
      "35 34 32 31 5\n",
      "36 35 33 32 5\n",
      "37 36 34 33 5\n",
      "38 37 35 34 5\n",
      "39 38 36 35 5\n",
      "40 39 37 36 5\n",
      "Call to func took 5 milliseconds.\n"
     ]
    },
    {
     "data": {
      "text/plain": [
       "undefined"
      ]
     },
     "execution_count": 34,
     "metadata": {},
     "output_type": "execute_result"
    }
   ],
   "source": [
    "function findIndexOf(aSet, searchElement) { \n",
    "\tlet minIndex = 0;\n",
    "\tlet maxIndex = aSet.length - 1;\n",
    "\tlet currentIndex;\n",
    "\tlet currentElement;\n",
    " \t\n",
    "\n",
    "\n",
    "\twhile (minIndex <= maxIndex) {\n",
    "\t\tcurrentIndex = (minIndex + maxIndex) >>> 1;\n",
    "\t\tcurrentElement = aSet[currentIndex];\n",
    "\t\tif (currentElement < searchElement) {\n",
    "\t\t\tminIndex = currentIndex + 1;\n",
    "\t\t}\n",
    "\t\telse if (currentElement > searchElement) {\n",
    "\t\t\tmaxIndex = currentIndex - 1;\n",
    "\t\t}\n",
    "\t\telse {\n",
    "\t\t\treturn currentIndex;\n",
    "\t\t}\n",
    "\t}\n",
    "\treturn -1;\n",
    "}\n",
    "\n",
    "function range(n) {\n",
    "    res = [];\n",
    "    for(let i=0; i<n; i++) res.push(i);\n",
    "    return range;\n",
    "}\n",
    "\n",
    "function iter(n,fn=Identity) {\n",
    "    let res = [];\n",
    "    for(let i=0; i<n; i++) {\n",
    "        res.push(fn(i));\n",
    "    }\n",
    "    return res;\n",
    "}\n",
    "function test(LEN,ix) {\n",
    "    //var arr1 = [1,2,3,4,5,6,7,8,9,10,11,12,13,14,15,16,17,18,19,20,21,22,23,24,25,26,27,28,29,30,31,32,33,34,35,36,37,38,39,40].slice(0,LEN);\n",
    "    var arr1 = iter(LEN+10);\n",
    "    console.log(LEN, findIndexOf(arr1,ix), findIndexOf(arr1,ix-2), findIndexOf(arr1,ix-3), findIndexOf(arr1,5))\n",
    "}\n",
    "\n",
    "timeOf(() =>{ for(var j = 0; j<41; j++) test(j, j-1) })"
   ]
  },
  {
   "cell_type": "code",
   "execution_count": 35,
   "metadata": {
    "scrolled": true
   },
   "outputs": [
    {
     "name": "stdout",
     "output_type": "stream",
     "text": [
      "[]\n"
     ]
    },
    {
     "ename": "TypeError",
     "evalue": "Cannot read property 'getData' of undefined",
     "output_type": "error",
     "traceback": [
      "evalmachine.<anonymous>:52",
      "console.log(files[0].getData().getImports().getExports().exports.map(({exports},i) =>( exports)));",
      "                     ^",
      "",
      "TypeError: Cannot read property 'getData' of undefined",
      "    at evalmachine.<anonymous>:52:22",
      "    at Script.runInThisContext (vm.js:116:20)",
      "    at Object.runInThisContext (vm.js:306:38)",
      "    at run ([eval]:1054:15)",
      "    at onRunRequest ([eval]:888:18)",
      "    at onMessage ([eval]:848:13)",
      "    at process.emit (events.js:210:5)",
      "    at emit (internal/child_process.js:876:12)",
      "    at processTicksAndRejections (internal/process/task_queues.js:81:21)"
     ]
    }
   ],
   "source": []
  }
 ],
 "metadata": {
  "kernelspec": {
   "display_name": "Javascript (Node.js)",
   "language": "javascript",
   "name": "javascript"
  },
  "language_info": {
   "file_extension": ".js",
   "mimetype": "application/javascript",
   "name": "javascript",
   "version": "12.13.0"
  }
 },
 "nbformat": 4,
 "nbformat_minor": 2
}
